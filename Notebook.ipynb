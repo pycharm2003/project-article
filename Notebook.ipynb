<!DOCTYPE html>
<!-- saved from url=(0099)https://public-paws.wmcloud.org/User:Isaac_(WMF)/Outreachy%20Dec%202020/Wikidata_Data_Example.ipynb -->
<html><head><meta http-equiv="Content-Type" content="text/html; charset=UTF-8">
<meta name="viewport" content="width=device-width, initial-scale=1.0">

<title>Notebook</title><script src="./Notebook_files/require.min.js.download"></script>




<style type="text/css">
    pre { line-height: 125%; }
td.linenos .normal { color: inherit; background-color: transparent; padding-left: 5px; padding-right: 5px; }
span.linenos { color: inherit; background-color: transparent; padding-left: 5px; padding-right: 5px; }
td.linenos .special { color: #000000; background-color: #ffffc0; padding-left: 5px; padding-right: 5px; }
span.linenos.special { color: #000000; background-color: #ffffc0; padding-left: 5px; padding-right: 5px; }
.highlight .hll { background-color: var(--jp-cell-editor-active-background) }
.highlight { background: var(--jp-cell-editor-background); color: var(--jp-mirror-editor-variable-color) }
.highlight .c { color: var(--jp-mirror-editor-comment-color); font-style: italic } /* Comment */
.highlight .err { color: var(--jp-mirror-editor-error-color) } /* Error */
.highlight .k { color: var(--jp-mirror-editor-keyword-color); font-weight: bold } /* Keyword */
.highlight .o { color: var(--jp-mirror-editor-operator-color); font-weight: bold } /* Operator */
.highlight .p { color: var(--jp-mirror-editor-punctuation-color) } /* Punctuation */
.highlight .ch { color: var(--jp-mirror-editor-comment-color); font-style: italic } /* Comment.Hashbang */
.highlight .cm { color: var(--jp-mirror-editor-comment-color); font-style: italic } /* Comment.Multiline */
.highlight .cp { color: var(--jp-mirror-editor-comment-color); font-style: italic } /* Comment.Preproc */
.highlight .cpf { color: var(--jp-mirror-editor-comment-color); font-style: italic } /* Comment.PreprocFile */
.highlight .c1 { color: var(--jp-mirror-editor-comment-color); font-style: italic } /* Comment.Single */
.highlight .cs { color: var(--jp-mirror-editor-comment-color); font-style: italic } /* Comment.Special */
.highlight .kc { color: var(--jp-mirror-editor-keyword-color); font-weight: bold } /* Keyword.Constant */
.highlight .kd { color: var(--jp-mirror-editor-keyword-color); font-weight: bold } /* Keyword.Declaration */
.highlight .kn { color: var(--jp-mirror-editor-keyword-color); font-weight: bold } /* Keyword.Namespace */
.highlight .kp { color: var(--jp-mirror-editor-keyword-color); font-weight: bold } /* Keyword.Pseudo */
.highlight .kr { color: var(--jp-mirror-editor-keyword-color); font-weight: bold } /* Keyword.Reserved */
.highlight .kt { color: var(--jp-mirror-editor-keyword-color); font-weight: bold } /* Keyword.Type */
.highlight .m { color: var(--jp-mirror-editor-number-color) } /* Literal.Number */
.highlight .s { color: var(--jp-mirror-editor-string-color) } /* Literal.String */
.highlight .ow { color: var(--jp-mirror-editor-operator-color); font-weight: bold } /* Operator.Word */
.highlight .w { color: var(--jp-mirror-editor-variable-color) } /* Text.Whitespace */
.highlight .mb { color: var(--jp-mirror-editor-number-color) } /* Literal.Number.Bin */
.highlight .mf { color: var(--jp-mirror-editor-number-color) } /* Literal.Number.Float */
.highlight .mh { color: var(--jp-mirror-editor-number-color) } /* Literal.Number.Hex */
.highlight .mi { color: var(--jp-mirror-editor-number-color) } /* Literal.Number.Integer */
.highlight .mo { color: var(--jp-mirror-editor-number-color) } /* Literal.Number.Oct */
.highlight .sa { color: var(--jp-mirror-editor-string-color) } /* Literal.String.Affix */
.highlight .sb { color: var(--jp-mirror-editor-string-color) } /* Literal.String.Backtick */
.highlight .sc { color: var(--jp-mirror-editor-string-color) } /* Literal.String.Char */
.highlight .dl { color: var(--jp-mirror-editor-string-color) } /* Literal.String.Delimiter */
.highlight .sd { color: var(--jp-mirror-editor-string-color) } /* Literal.String.Doc */
.highlight .s2 { color: var(--jp-mirror-editor-string-color) } /* Literal.String.Double */
.highlight .se { color: var(--jp-mirror-editor-string-color) } /* Literal.String.Escape */
.highlight .sh { color: var(--jp-mirror-editor-string-color) } /* Literal.String.Heredoc */
.highlight .si { color: var(--jp-mirror-editor-string-color) } /* Literal.String.Interpol */
.highlight .sx { color: var(--jp-mirror-editor-string-color) } /* Literal.String.Other */
.highlight .sr { color: var(--jp-mirror-editor-string-color) } /* Literal.String.Regex */
.highlight .s1 { color: var(--jp-mirror-editor-string-color) } /* Literal.String.Single */
.highlight .ss { color: var(--jp-mirror-editor-string-color) } /* Literal.String.Symbol */
.highlight .il { color: var(--jp-mirror-editor-number-color) } /* Literal.Number.Integer.Long */
  </style>



<style type="text/css">
/*-----------------------------------------------------------------------------
| Copyright (c) Jupyter Development Team.
| Distributed under the terms of the Modified BSD License.
|----------------------------------------------------------------------------*/

/*
 * Mozilla scrollbar styling
 */

/* use standard opaque scrollbars for most nodes */
[data-jp-theme-scrollbars='true'] {
  scrollbar-color: rgb(var(--jp-scrollbar-thumb-color))
    var(--jp-scrollbar-background-color);
}

/* for code nodes, use a transparent style of scrollbar. These selectors
 * will match lower in the tree, and so will override the above */
[data-jp-theme-scrollbars='true'] .CodeMirror-hscrollbar,
[data-jp-theme-scrollbars='true'] .CodeMirror-vscrollbar {
  scrollbar-color: rgba(var(--jp-scrollbar-thumb-color), 0.5) transparent;
}

/* tiny scrollbar */

.jp-scrollbar-tiny {
  scrollbar-color: rgba(var(--jp-scrollbar-thumb-color), 0.5) transparent;
  scrollbar-width: thin;
}

/*
 * Webkit scrollbar styling
 */

/* use standard opaque scrollbars for most nodes */

[data-jp-theme-scrollbars='true'] ::-webkit-scrollbar,
[data-jp-theme-scrollbars='true'] ::-webkit-scrollbar-corner {
  background: var(--jp-scrollbar-background-color);
}

[data-jp-theme-scrollbars='true'] ::-webkit-scrollbar-thumb {
  background: rgb(var(--jp-scrollbar-thumb-color));
  border: var(--jp-scrollbar-thumb-margin) solid transparent;
  background-clip: content-box;
  border-radius: var(--jp-scrollbar-thumb-radius);
}

[data-jp-theme-scrollbars='true'] ::-webkit-scrollbar-track:horizontal {
  border-left: var(--jp-scrollbar-endpad) solid
    var(--jp-scrollbar-background-color);
  border-right: var(--jp-scrollbar-endpad) solid
    var(--jp-scrollbar-background-color);
}

[data-jp-theme-scrollbars='true'] ::-webkit-scrollbar-track:vertical {
  border-top: var(--jp-scrollbar-endpad) solid
    var(--jp-scrollbar-background-color);
  border-bottom: var(--jp-scrollbar-endpad) solid
    var(--jp-scrollbar-background-color);
}

/* for code nodes, use a transparent style of scrollbar */

[data-jp-theme-scrollbars='true'] .CodeMirror-hscrollbar::-webkit-scrollbar,
[data-jp-theme-scrollbars='true'] .CodeMirror-vscrollbar::-webkit-scrollbar,
[data-jp-theme-scrollbars='true']
  .CodeMirror-hscrollbar::-webkit-scrollbar-corner,
[data-jp-theme-scrollbars='true']
  .CodeMirror-vscrollbar::-webkit-scrollbar-corner {
  background-color: transparent;
}

[data-jp-theme-scrollbars='true']
  .CodeMirror-hscrollbar::-webkit-scrollbar-thumb,
[data-jp-theme-scrollbars='true']
  .CodeMirror-vscrollbar::-webkit-scrollbar-thumb {
  background: rgba(var(--jp-scrollbar-thumb-color), 0.5);
  border: var(--jp-scrollbar-thumb-margin) solid transparent;
  background-clip: content-box;
  border-radius: var(--jp-scrollbar-thumb-radius);
}

[data-jp-theme-scrollbars='true']
  .CodeMirror-hscrollbar::-webkit-scrollbar-track:horizontal {
  border-left: var(--jp-scrollbar-endpad) solid transparent;
  border-right: var(--jp-scrollbar-endpad) solid transparent;
}

[data-jp-theme-scrollbars='true']
  .CodeMirror-vscrollbar::-webkit-scrollbar-track:vertical {
  border-top: var(--jp-scrollbar-endpad) solid transparent;
  border-bottom: var(--jp-scrollbar-endpad) solid transparent;
}

/* tiny scrollbar */

.jp-scrollbar-tiny::-webkit-scrollbar,
.jp-scrollbar-tiny::-webkit-scrollbar-corner {
  background-color: transparent;
  height: 4px;
  width: 4px;
}

.jp-scrollbar-tiny::-webkit-scrollbar-thumb {
  background: rgba(var(--jp-scrollbar-thumb-color), 0.5);
}

.jp-scrollbar-tiny::-webkit-scrollbar-track:horizontal {
  border-left: 0px solid transparent;
  border-right: 0px solid transparent;
}

.jp-scrollbar-tiny::-webkit-scrollbar-track:vertical {
  border-top: 0px solid transparent;
  border-bottom: 0px solid transparent;
}

/*
 * Phosphor
 */

.lm-ScrollBar[data-orientation='horizontal'] {
  min-height: 16px;
  max-height: 16px;
  min-width: 45px;
  border-top: 1px solid #a0a0a0;
}

.lm-ScrollBar[data-orientation='vertical'] {
  min-width: 16px;
  max-width: 16px;
  min-height: 45px;
  border-left: 1px solid #a0a0a0;
}

.lm-ScrollBar-button {
  background-color: #f0f0f0;
  background-position: center center;
  min-height: 15px;
  max-height: 15px;
  min-width: 15px;
  max-width: 15px;
}

.lm-ScrollBar-button:hover {
  background-color: #dadada;
}

.lm-ScrollBar-button.lm-mod-active {
  background-color: #cdcdcd;
}

.lm-ScrollBar-track {
  background: #f0f0f0;
}

.lm-ScrollBar-thumb {
  background: #cdcdcd;
}

.lm-ScrollBar-thumb:hover {
  background: #bababa;
}

.lm-ScrollBar-thumb.lm-mod-active {
  background: #a0a0a0;
}

.lm-ScrollBar[data-orientation='horizontal'] .lm-ScrollBar-thumb {
  height: 100%;
  min-width: 15px;
  border-left: 1px solid #a0a0a0;
  border-right: 1px solid #a0a0a0;
}

.lm-ScrollBar[data-orientation='vertical'] .lm-ScrollBar-thumb {
  width: 100%;
  min-height: 15px;
  border-top: 1px solid #a0a0a0;
  border-bottom: 1px solid #a0a0a0;
}

.lm-ScrollBar[data-orientation='horizontal']
  .lm-ScrollBar-button[data-action='decrement'] {
  background-image: var(--jp-icon-caret-left);
  background-size: 17px;
}

.lm-ScrollBar[data-orientation='horizontal']
  .lm-ScrollBar-button[data-action='increment'] {
  background-image: var(--jp-icon-caret-right);
  background-size: 17px;
}

.lm-ScrollBar[data-orientation='vertical']
  .lm-ScrollBar-button[data-action='decrement'] {
  background-image: var(--jp-icon-caret-up);
  background-size: 17px;
}

.lm-ScrollBar[data-orientation='vertical']
  .lm-ScrollBar-button[data-action='increment'] {
  background-image: var(--jp-icon-caret-down);
  background-size: 17px;
}

/*-----------------------------------------------------------------------------
| Copyright (c) Jupyter Development Team.
| Copyright (c) 2014-2017, PhosphorJS Contributors
|
| Distributed under the terms of the BSD 3-Clause License.
|
| The full license is in the file LICENSE, distributed with this software.
|----------------------------------------------------------------------------*/


/* <DEPRECATED> */ .p-Widget, /* </DEPRECATED> */
.lm-Widget {
  box-sizing: border-box;
  position: relative;
  overflow: hidden;
  cursor: default;
}


/* <DEPRECATED> */ .p-Widget.p-mod-hidden, /* </DEPRECATED> */
.lm-Widget.lm-mod-hidden {
  display: none !important;
}

/*-----------------------------------------------------------------------------
| Copyright (c) Jupyter Development Team.
| Copyright (c) 2014-2017, PhosphorJS Contributors
|
| Distributed under the terms of the BSD 3-Clause License.
|
| The full license is in the file LICENSE, distributed with this software.
|----------------------------------------------------------------------------*/


/* <DEPRECATED> */ .p-CommandPalette, /* </DEPRECATED> */
.lm-CommandPalette {
  display: flex;
  flex-direction: column;
  -webkit-user-select: none;
  -moz-user-select: none;
  -ms-user-select: none;
  user-select: none;
}


/* <DEPRECATED> */ .p-CommandPalette-search, /* </DEPRECATED> */
.lm-CommandPalette-search {
  flex: 0 0 auto;
}


/* <DEPRECATED> */ .p-CommandPalette-content, /* </DEPRECATED> */
.lm-CommandPalette-content {
  flex: 1 1 auto;
  margin: 0;
  padding: 0;
  min-height: 0;
  overflow: auto;
  list-style-type: none;
}


/* <DEPRECATED> */ .p-CommandPalette-header, /* </DEPRECATED> */
.lm-CommandPalette-header {
  overflow: hidden;
  white-space: nowrap;
  text-overflow: ellipsis;
}


/* <DEPRECATED> */ .p-CommandPalette-item, /* </DEPRECATED> */
.lm-CommandPalette-item {
  display: flex;
  flex-direction: row;
}


/* <DEPRECATED> */ .p-CommandPalette-itemIcon, /* </DEPRECATED> */
.lm-CommandPalette-itemIcon {
  flex: 0 0 auto;
}


/* <DEPRECATED> */ .p-CommandPalette-itemContent, /* </DEPRECATED> */
.lm-CommandPalette-itemContent {
  flex: 1 1 auto;
  overflow: hidden;
}


/* <DEPRECATED> */ .p-CommandPalette-itemShortcut, /* </DEPRECATED> */
.lm-CommandPalette-itemShortcut {
  flex: 0 0 auto;
}


/* <DEPRECATED> */ .p-CommandPalette-itemLabel, /* </DEPRECATED> */
.lm-CommandPalette-itemLabel {
  overflow: hidden;
  white-space: nowrap;
  text-overflow: ellipsis;
}

.lm-close-icon {
	border:1px solid transparent;
  background-color: transparent;
  position: absolute;
	z-index:1;
	right:3%;
	top: 0;
	bottom: 0;
	margin: auto;
	padding: 7px 0;
	display: none;
	vertical-align: middle;
  outline: 0;
  cursor: pointer;
}
.lm-close-icon:after {
	content: "X";
	display: block;
	width: 15px;
	height: 15px;
	text-align: center;
	color:#000;
	font-weight: normal;
	font-size: 12px;
	cursor: pointer;
}

/*-----------------------------------------------------------------------------
| Copyright (c) Jupyter Development Team.
| Copyright (c) 2014-2017, PhosphorJS Contributors
|
| Distributed under the terms of the BSD 3-Clause License.
|
| The full license is in the file LICENSE, distributed with this software.
|----------------------------------------------------------------------------*/


/* <DEPRECATED> */ .p-DockPanel, /* </DEPRECATED> */
.lm-DockPanel {
  z-index: 0;
}


/* <DEPRECATED> */ .p-DockPanel-widget, /* </DEPRECATED> */
.lm-DockPanel-widget {
  z-index: 0;
}


/* <DEPRECATED> */ .p-DockPanel-tabBar, /* </DEPRECATED> */
.lm-DockPanel-tabBar {
  z-index: 1;
}


/* <DEPRECATED> */ .p-DockPanel-handle, /* </DEPRECATED> */
.lm-DockPanel-handle {
  z-index: 2;
}


/* <DEPRECATED> */ .p-DockPanel-handle.p-mod-hidden, /* </DEPRECATED> */
.lm-DockPanel-handle.lm-mod-hidden {
  display: none !important;
}


/* <DEPRECATED> */ .p-DockPanel-handle:after, /* </DEPRECATED> */
.lm-DockPanel-handle:after {
  position: absolute;
  top: 0;
  left: 0;
  width: 100%;
  height: 100%;
  content: '';
}


/* <DEPRECATED> */
.p-DockPanel-handle[data-orientation='horizontal'],
/* </DEPRECATED> */
.lm-DockPanel-handle[data-orientation='horizontal'] {
  cursor: ew-resize;
}


/* <DEPRECATED> */
.p-DockPanel-handle[data-orientation='vertical'],
/* </DEPRECATED> */
.lm-DockPanel-handle[data-orientation='vertical'] {
  cursor: ns-resize;
}


/* <DEPRECATED> */
.p-DockPanel-handle[data-orientation='horizontal']:after,
/* </DEPRECATED> */
.lm-DockPanel-handle[data-orientation='horizontal']:after {
  left: 50%;
  min-width: 8px;
  transform: translateX(-50%);
}


/* <DEPRECATED> */
.p-DockPanel-handle[data-orientation='vertical']:after,
/* </DEPRECATED> */
.lm-DockPanel-handle[data-orientation='vertical']:after {
  top: 50%;
  min-height: 8px;
  transform: translateY(-50%);
}


/* <DEPRECATED> */ .p-DockPanel-overlay, /* </DEPRECATED> */
.lm-DockPanel-overlay {
  z-index: 3;
  box-sizing: border-box;
  pointer-events: none;
}


/* <DEPRECATED> */ .p-DockPanel-overlay.p-mod-hidden, /* </DEPRECATED> */
.lm-DockPanel-overlay.lm-mod-hidden {
  display: none !important;
}

/*-----------------------------------------------------------------------------
| Copyright (c) Jupyter Development Team.
| Copyright (c) 2014-2017, PhosphorJS Contributors
|
| Distributed under the terms of the BSD 3-Clause License.
|
| The full license is in the file LICENSE, distributed with this software.
|----------------------------------------------------------------------------*/


/* <DEPRECATED> */ .p-Menu, /* </DEPRECATED> */
.lm-Menu {
  z-index: 10000;
  position: absolute;
  white-space: nowrap;
  overflow-x: hidden;
  overflow-y: auto;
  outline: none;
  -webkit-user-select: none;
  -moz-user-select: none;
  -ms-user-select: none;
  user-select: none;
}


/* <DEPRECATED> */ .p-Menu-content, /* </DEPRECATED> */
.lm-Menu-content {
  margin: 0;
  padding: 0;
  display: table;
  list-style-type: none;
}


/* <DEPRECATED> */ .p-Menu-item, /* </DEPRECATED> */
.lm-Menu-item {
  display: table-row;
}


/* <DEPRECATED> */
.p-Menu-item.p-mod-hidden,
.p-Menu-item.p-mod-collapsed,
/* </DEPRECATED> */
.lm-Menu-item.lm-mod-hidden,
.lm-Menu-item.lm-mod-collapsed {
  display: none !important;
}


/* <DEPRECATED> */
.p-Menu-itemIcon,
.p-Menu-itemSubmenuIcon,
/* </DEPRECATED> */
.lm-Menu-itemIcon,
.lm-Menu-itemSubmenuIcon {
  display: table-cell;
  text-align: center;
}


/* <DEPRECATED> */ .p-Menu-itemLabel, /* </DEPRECATED> */
.lm-Menu-itemLabel {
  display: table-cell;
  text-align: left;
}


/* <DEPRECATED> */ .p-Menu-itemShortcut, /* </DEPRECATED> */
.lm-Menu-itemShortcut {
  display: table-cell;
  text-align: right;
}

/*-----------------------------------------------------------------------------
| Copyright (c) Jupyter Development Team.
| Copyright (c) 2014-2017, PhosphorJS Contributors
|
| Distributed under the terms of the BSD 3-Clause License.
|
| The full license is in the file LICENSE, distributed with this software.
|----------------------------------------------------------------------------*/


/* <DEPRECATED> */ .p-MenuBar, /* </DEPRECATED> */
.lm-MenuBar {
  outline: none;
  -webkit-user-select: none;
  -moz-user-select: none;
  -ms-user-select: none;
  user-select: none;
}


/* <DEPRECATED> */ .p-MenuBar-content, /* </DEPRECATED> */
.lm-MenuBar-content {
  margin: 0;
  padding: 0;
  display: flex;
  flex-direction: row;
  list-style-type: none;
}


/* <DEPRECATED> */ .p--MenuBar-item, /* </DEPRECATED> */
.lm-MenuBar-item {
  box-sizing: border-box;
}


/* <DEPRECATED> */
.p-MenuBar-itemIcon,
.p-MenuBar-itemLabel,
/* </DEPRECATED> */
.lm-MenuBar-itemIcon,
.lm-MenuBar-itemLabel {
  display: inline-block;
}

/*-----------------------------------------------------------------------------
| Copyright (c) Jupyter Development Team.
| Copyright (c) 2014-2017, PhosphorJS Contributors
|
| Distributed under the terms of the BSD 3-Clause License.
|
| The full license is in the file LICENSE, distributed with this software.
|----------------------------------------------------------------------------*/


/* <DEPRECATED> */ .p-ScrollBar, /* </DEPRECATED> */
.lm-ScrollBar {
  display: flex;
  -webkit-user-select: none;
  -moz-user-select: none;
  -ms-user-select: none;
  user-select: none;
}


/* <DEPRECATED> */
.p-ScrollBar[data-orientation='horizontal'],
/* </DEPRECATED> */
.lm-ScrollBar[data-orientation='horizontal'] {
  flex-direction: row;
}


/* <DEPRECATED> */
.p-ScrollBar[data-orientation='vertical'],
/* </DEPRECATED> */
.lm-ScrollBar[data-orientation='vertical'] {
  flex-direction: column;
}


/* <DEPRECATED> */ .p-ScrollBar-button, /* </DEPRECATED> */
.lm-ScrollBar-button {
  box-sizing: border-box;
  flex: 0 0 auto;
}


/* <DEPRECATED> */ .p-ScrollBar-track, /* </DEPRECATED> */
.lm-ScrollBar-track {
  box-sizing: border-box;
  position: relative;
  overflow: hidden;
  flex: 1 1 auto;
}


/* <DEPRECATED> */ .p-ScrollBar-thumb, /* </DEPRECATED> */
.lm-ScrollBar-thumb {
  box-sizing: border-box;
  position: absolute;
}

/*-----------------------------------------------------------------------------
| Copyright (c) Jupyter Development Team.
| Copyright (c) 2014-2017, PhosphorJS Contributors
|
| Distributed under the terms of the BSD 3-Clause License.
|
| The full license is in the file LICENSE, distributed with this software.
|----------------------------------------------------------------------------*/


/* <DEPRECATED> */ .p-SplitPanel-child, /* </DEPRECATED> */
.lm-SplitPanel-child {
  z-index: 0;
}


/* <DEPRECATED> */ .p-SplitPanel-handle, /* </DEPRECATED> */
.lm-SplitPanel-handle {
  z-index: 1;
}


/* <DEPRECATED> */ .p-SplitPanel-handle.p-mod-hidden, /* </DEPRECATED> */
.lm-SplitPanel-handle.lm-mod-hidden {
  display: none !important;
}


/* <DEPRECATED> */ .p-SplitPanel-handle:after, /* </DEPRECATED> */
.lm-SplitPanel-handle:after {
  position: absolute;
  top: 0;
  left: 0;
  width: 100%;
  height: 100%;
  content: '';
}


/* <DEPRECATED> */
.p-SplitPanel[data-orientation='horizontal'] > .p-SplitPanel-handle,
/* </DEPRECATED> */
.lm-SplitPanel[data-orientation='horizontal'] > .lm-SplitPanel-handle {
  cursor: ew-resize;
}


/* <DEPRECATED> */
.p-SplitPanel[data-orientation='vertical'] > .p-SplitPanel-handle,
/* </DEPRECATED> */
.lm-SplitPanel[data-orientation='vertical'] > .lm-SplitPanel-handle {
  cursor: ns-resize;
}


/* <DEPRECATED> */
.p-SplitPanel[data-orientation='horizontal'] > .p-SplitPanel-handle:after,
/* </DEPRECATED> */
.lm-SplitPanel[data-orientation='horizontal'] > .lm-SplitPanel-handle:after {
  left: 50%;
  min-width: 8px;
  transform: translateX(-50%);
}


/* <DEPRECATED> */
.p-SplitPanel[data-orientation='vertical'] > .p-SplitPanel-handle:after,
/* </DEPRECATED> */
.lm-SplitPanel[data-orientation='vertical'] > .lm-SplitPanel-handle:after {
  top: 50%;
  min-height: 8px;
  transform: translateY(-50%);
}

/*-----------------------------------------------------------------------------
| Copyright (c) Jupyter Development Team.
| Copyright (c) 2014-2017, PhosphorJS Contributors
|
| Distributed under the terms of the BSD 3-Clause License.
|
| The full license is in the file LICENSE, distributed with this software.
|----------------------------------------------------------------------------*/


/* <DEPRECATED> */ .p-TabBar, /* </DEPRECATED> */
.lm-TabBar {
  display: flex;
  -webkit-user-select: none;
  -moz-user-select: none;
  -ms-user-select: none;
  user-select: none;
}


/* <DEPRECATED> */ .p-TabBar[data-orientation='horizontal'], /* </DEPRECATED> */
.lm-TabBar[data-orientation='horizontal'] {
  flex-direction: row;
  align-items: flex-end;
}


/* <DEPRECATED> */ .p-TabBar[data-orientation='vertical'], /* </DEPRECATED> */
.lm-TabBar[data-orientation='vertical'] {
  flex-direction: column;
  align-items: flex-end;
}


/* <DEPRECATED> */ .p-TabBar-content, /* </DEPRECATED> */
.lm-TabBar-content {
  margin: 0;
  padding: 0;
  display: flex;
  flex: 1 1 auto;
  list-style-type: none;
}


/* <DEPRECATED> */
.p-TabBar[data-orientation='horizontal'] > .p-TabBar-content,
/* </DEPRECATED> */
.lm-TabBar[data-orientation='horizontal'] > .lm-TabBar-content {
  flex-direction: row;
}


/* <DEPRECATED> */
.p-TabBar[data-orientation='vertical'] > .p-TabBar-content,
/* </DEPRECATED> */
.lm-TabBar[data-orientation='vertical'] > .lm-TabBar-content {
  flex-direction: column;
}


/* <DEPRECATED> */ .p-TabBar-tab, /* </DEPRECATED> */
.lm-TabBar-tab {
  display: flex;
  flex-direction: row;
  box-sizing: border-box;
  overflow: hidden;
}


/* <DEPRECATED> */
.p-TabBar-tabIcon,
.p-TabBar-tabCloseIcon,
/* </DEPRECATED> */
.lm-TabBar-tabIcon,
.lm-TabBar-tabCloseIcon {
  flex: 0 0 auto;
}


/* <DEPRECATED> */ .p-TabBar-tabLabel, /* </DEPRECATED> */
.lm-TabBar-tabLabel {
  flex: 1 1 auto;
  overflow: hidden;
  white-space: nowrap;
}


.lm-TabBar-tabInput {
  user-select: all;
  width: 100%;
  box-sizing : border-box;
}


/* <DEPRECATED> */ .p-TabBar-tab.p-mod-hidden, /* </DEPRECATED> */
.lm-TabBar-tab.lm-mod-hidden {
  display: none !important;
}


.lm-TabBar-addButton.lm-mod-hidden {
  display: none !important;
}


/* <DEPRECATED> */ .p-TabBar.p-mod-dragging .p-TabBar-tab, /* </DEPRECATED> */
.lm-TabBar.lm-mod-dragging .lm-TabBar-tab {
  position: relative;
}


/* <DEPRECATED> */
.p-TabBar.p-mod-dragging[data-orientation='horizontal'] .p-TabBar-tab,
/* </DEPRECATED> */
.lm-TabBar.lm-mod-dragging[data-orientation='horizontal'] .lm-TabBar-tab {
  left: 0;
  transition: left 150ms ease;
}


/* <DEPRECATED> */
.p-TabBar.p-mod-dragging[data-orientation='vertical'] .p-TabBar-tab,
/* </DEPRECATED> */
.lm-TabBar.lm-mod-dragging[data-orientation='vertical'] .lm-TabBar-tab {
  top: 0;
  transition: top 150ms ease;
}


/* <DEPRECATED> */
.p-TabBar.p-mod-dragging .p-TabBar-tab.p-mod-dragging,
/* </DEPRECATED> */
.lm-TabBar.lm-mod-dragging .lm-TabBar-tab.lm-mod-dragging {
  transition: none;
}

.lm-TabBar-tabLabel .lm-TabBar-tabInput {
  user-select: all;
  width: 100%;
  box-sizing : border-box;
  background: inherit;
}

/*-----------------------------------------------------------------------------
| Copyright (c) Jupyter Development Team.
| Copyright (c) 2014-2017, PhosphorJS Contributors
|
| Distributed under the terms of the BSD 3-Clause License.
|
| The full license is in the file LICENSE, distributed with this software.
|----------------------------------------------------------------------------*/


/* <DEPRECATED> */ .p-TabPanel-tabBar, /* </DEPRECATED> */
.lm-TabPanel-tabBar {
  z-index: 1;
}


/* <DEPRECATED> */ .p-TabPanel-stackedPanel, /* </DEPRECATED> */
.lm-TabPanel-stackedPanel {
  z-index: 0;
}

/*-----------------------------------------------------------------------------
| Copyright (c) Jupyter Development Team.
| Copyright (c) 2014-2017, PhosphorJS Contributors
|
| Distributed under the terms of the BSD 3-Clause License.
|
| The full license is in the file LICENSE, distributed with this software.
|----------------------------------------------------------------------------*/

@charset "UTF-8";
html{
  -webkit-box-sizing:border-box;
          box-sizing:border-box; }

*,
*::before,
*::after{
  -webkit-box-sizing:inherit;
          box-sizing:inherit; }

body{
  font-size:14px;
  font-weight:400;
  letter-spacing:0;
  line-height:1.28581;
  text-transform:none;
  color:#182026;
  font-family:-apple-system, "BlinkMacSystemFont", "Segoe UI", "Roboto", "Oxygen", "Ubuntu", "Cantarell", "Open Sans", "Helvetica Neue", "Icons16", sans-serif; }

p{
  margin-bottom:10px;
  margin-top:0; }

small{
  font-size:12px; }

strong{
  font-weight:600; }

::-moz-selection{
  background:rgba(125, 188, 255, 0.6); }

::selection{
  background:rgba(125, 188, 255, 0.6); }
.bp3-heading{
  color:#182026;
  font-weight:600;
  margin:0 0 10px;
  padding:0; }
  .bp3-dark .bp3-heading{
    color:#f5f8fa; }

h1.bp3-heading, .bp3-running-text h1{
  font-size:36px;
  line-height:40px; }

h2.bp3-heading, .bp3-running-text h2{
  font-size:28px;
  line-height:32px; }

h3.bp3-heading, .bp3-running-text h3{
  font-size:22px;
  line-height:25px; }

h4.bp3-heading, .bp3-running-text h4{
  font-size:18px;
  line-height:21px; }

h5.bp3-heading, .bp3-running-text h5{
  font-size:16px;
  line-height:19px; }

h6.bp3-heading, .bp3-running-text h6{
  font-size:14px;
  line-height:16px; }
.bp3-ui-text{
  font-size:14px;
  font-weight:400;
  letter-spacing:0;
  line-height:1.28581;
  text-transform:none; }

.bp3-monospace-text{
  font-family:monospace;
  text-transform:none; }

.bp3-text-muted{
  color:#5c7080; }
  .bp3-dark .bp3-text-muted{
    color:#a7b6c2; }

.bp3-text-disabled{
  color:rgba(92, 112, 128, 0.6); }
  .bp3-dark .bp3-text-disabled{
    color:rgba(167, 182, 194, 0.6); }

.bp3-text-overflow-ellipsis{
  overflow:hidden;
  text-overflow:ellipsis;
  white-space:nowrap;
  word-wrap:normal; }
.bp3-running-text{
  font-size:14px;
  line-height:1.5; }
  .bp3-running-text h1{
    color:#182026;
    font-weight:600;
    margin-bottom:20px;
    margin-top:40px; }
    .bp3-dark .bp3-running-text h1{
      color:#f5f8fa; }
  .bp3-running-text h2{
    color:#182026;
    font-weight:600;
    margin-bottom:20px;
    margin-top:40px; }
    .bp3-dark .bp3-running-text h2{
      color:#f5f8fa; }
  .bp3-running-text h3{
    color:#182026;
    font-weight:600;
    margin-bottom:20px;
    margin-top:40px; }
    .bp3-dark .bp3-running-text h3{
      color:#f5f8fa; }
  .bp3-running-text h4{
    color:#182026;
    font-weight:600;
    margin-bottom:20px;
    margin-top:40px; }
    .bp3-dark .bp3-running-text h4{
      color:#f5f8fa; }
  .bp3-running-text h5{
    color:#182026;
    font-weight:600;
    margin-bottom:20px;
    margin-top:40px; }
    .bp3-dark .bp3-running-text h5{
      color:#f5f8fa; }
  .bp3-running-text h6{
    color:#182026;
    font-weight:600;
    margin-bottom:20px;
    margin-top:40px; }
    .bp3-dark .bp3-running-text h6{
      color:#f5f8fa; }
  .bp3-running-text hr{
    border:none;
    border-bottom:1px solid rgba(16, 22, 26, 0.15);
    margin:20px 0; }
    .bp3-dark .bp3-running-text hr{
      border-color:rgba(255, 255, 255, 0.15); }
  .bp3-running-text p{
    margin:0 0 10px;
    padding:0; }

.bp3-text-large{
  font-size:16px; }

.bp3-text-small{
  font-size:12px; }
a{
  color:#106ba3;
  text-decoration:none; }
  a:hover{
    color:#106ba3;
    cursor:pointer;
    text-decoration:underline; }
  a .bp3-icon, a .bp3-icon-standard, a .bp3-icon-large{
    color:inherit; }
  a code,
  .bp3-dark a code{
    color:inherit; }
  .bp3-dark a,
  .bp3-dark a:hover{
    color:#48aff0; }
    .bp3-dark a .bp3-icon, .bp3-dark a .bp3-icon-standard, .bp3-dark a .bp3-icon-large,
    .bp3-dark a:hover .bp3-icon,
    .bp3-dark a:hover .bp3-icon-standard,
    .bp3-dark a:hover .bp3-icon-large{
      color:inherit; }
.bp3-running-text code, .bp3-code{
  font-family:monospace;
  text-transform:none;
  background:rgba(255, 255, 255, 0.7);
  border-radius:3px;
  -webkit-box-shadow:inset 0 0 0 1px rgba(16, 22, 26, 0.2);
          box-shadow:inset 0 0 0 1px rgba(16, 22, 26, 0.2);
  color:#5c7080;
  font-size:smaller;
  padding:2px 5px; }
  .bp3-dark .bp3-running-text code, .bp3-running-text .bp3-dark code, .bp3-dark .bp3-code{
    background:rgba(16, 22, 26, 0.3);
    -webkit-box-shadow:inset 0 0 0 1px rgba(16, 22, 26, 0.4);
            box-shadow:inset 0 0 0 1px rgba(16, 22, 26, 0.4);
    color:#a7b6c2; }
  .bp3-running-text a > code, a > .bp3-code{
    color:#137cbd; }
    .bp3-dark .bp3-running-text a > code, .bp3-running-text .bp3-dark a > code, .bp3-dark a > .bp3-code{
      color:inherit; }

.bp3-running-text pre, .bp3-code-block{
  font-family:monospace;
  text-transform:none;
  background:rgba(255, 255, 255, 0.7);
  border-radius:3px;
  -webkit-box-shadow:inset 0 0 0 1px rgba(16, 22, 26, 0.15);
          box-shadow:inset 0 0 0 1px rgba(16, 22, 26, 0.15);
  color:#182026;
  display:block;
  font-size:13px;
  line-height:1.4;
  margin:10px 0;
  padding:13px 15px 12px;
  word-break:break-all;
  word-wrap:break-word; }
  .bp3-dark .bp3-running-text pre, .bp3-running-text .bp3-dark pre, .bp3-dark .bp3-code-block{
    background:rgba(16, 22, 26, 0.3);
    -webkit-box-shadow:inset 0 0 0 1px rgba(16, 22, 26, 0.4);
            box-shadow:inset 0 0 0 1px rgba(16, 22, 26, 0.4);
    color:#f5f8fa; }
  .bp3-running-text pre > code, .bp3-code-block > code{
    background:none;
    -webkit-box-shadow:none;
            box-shadow:none;
    color:inherit;
    font-size:inherit;
    padding:0; }

.bp3-running-text kbd, .bp3-key{
  -webkit-box-align:center;
      -ms-flex-align:center;
          align-items:center;
  background:#ffffff;
  border-radius:3px;
  -webkit-box-shadow:0 0 0 1px rgba(16, 22, 26, 0.1), 0 0 0 rgba(16, 22, 26, 0), 0 1px 1px rgba(16, 22, 26, 0.2);
          box-shadow:0 0 0 1px rgba(16, 22, 26, 0.1), 0 0 0 rgba(16, 22, 26, 0), 0 1px 1px rgba(16, 22, 26, 0.2);
  color:#5c7080;
  display:-webkit-inline-box;
  display:-ms-inline-flexbox;
  display:inline-flex;
  font-family:inherit;
  font-size:12px;
  height:24px;
  -webkit-box-pack:center;
      -ms-flex-pack:center;
          justify-content:center;
  line-height:24px;
  min-width:24px;
  padding:3px 6px;
  vertical-align:middle; }
  .bp3-running-text kbd .bp3-icon, .bp3-key .bp3-icon, .bp3-running-text kbd .bp3-icon-standard, .bp3-key .bp3-icon-standard, .bp3-running-text kbd .bp3-icon-large, .bp3-key .bp3-icon-large{
    margin-right:5px; }
  .bp3-dark .bp3-running-text kbd, .bp3-running-text .bp3-dark kbd, .bp3-dark .bp3-key{
    background:#394b59;
    -webkit-box-shadow:0 0 0 1px rgba(16, 22, 26, 0.2), 0 0 0 rgba(16, 22, 26, 0), 0 1px 1px rgba(16, 22, 26, 0.4);
            box-shadow:0 0 0 1px rgba(16, 22, 26, 0.2), 0 0 0 rgba(16, 22, 26, 0), 0 1px 1px rgba(16, 22, 26, 0.4);
    color:#a7b6c2; }
.bp3-running-text blockquote, .bp3-blockquote{
  border-left:solid 4px rgba(167, 182, 194, 0.5);
  margin:0 0 10px;
  padding:0 20px; }
  .bp3-dark .bp3-running-text blockquote, .bp3-running-text .bp3-dark blockquote, .bp3-dark .bp3-blockquote{
    border-color:rgba(115, 134, 148, 0.5); }
.bp3-running-text ul,
.bp3-running-text ol, .bp3-list{
  margin:10px 0;
  padding-left:30px; }
  .bp3-running-text ul li:not(:last-child), .bp3-running-text ol li:not(:last-child), .bp3-list li:not(:last-child){
    margin-bottom:5px; }
  .bp3-running-text ul ol, .bp3-running-text ol ol, .bp3-list ol,
  .bp3-running-text ul ul,
  .bp3-running-text ol ul,
  .bp3-list ul{
    margin-top:5px; }

.bp3-list-unstyled{
  list-style:none;
  margin:0;
  padding:0; }
  .bp3-list-unstyled li{
    padding:0; }
.bp3-rtl{
  text-align:right; }

.bp3-dark{
  color:#f5f8fa; }

:focus{
  outline:rgba(19, 124, 189, 0.6) auto 2px;
  outline-offset:2px;
  -moz-outline-radius:6px; }

.bp3-focus-disabled :focus{
  outline:none !important; }
  .bp3-focus-disabled :focus ~ .bp3-control-indicator{
    outline:none !important; }

.bp3-alert{
  max-width:400px;
  padding:20px; }

.bp3-alert-body{
  display:-webkit-box;
  display:-ms-flexbox;
  display:flex; }
  .bp3-alert-body .bp3-icon{
    font-size:40px;
    margin-right:20px;
    margin-top:0; }

.bp3-alert-contents{
  word-break:break-word; }

.bp3-alert-footer{
  display:-webkit-box;
  display:-ms-flexbox;
  display:flex;
  -webkit-box-orient:horizontal;
  -webkit-box-direction:reverse;
      -ms-flex-direction:row-reverse;
          flex-direction:row-reverse;
  margin-top:10px; }
  .bp3-alert-footer .bp3-button{
    margin-left:10px; }
.bp3-breadcrumbs{
  -webkit-box-align:center;
      -ms-flex-align:center;
          align-items:center;
  cursor:default;
  display:-webkit-box;
  display:-ms-flexbox;
  display:flex;
  -ms-flex-wrap:wrap;
      flex-wrap:wrap;
  height:30px;
  list-style:none;
  margin:0;
  padding:0; }
  .bp3-breadcrumbs > li{
    -webkit-box-align:center;
        -ms-flex-align:center;
            align-items:center;
    display:-webkit-box;
    display:-ms-flexbox;
    display:flex; }
    .bp3-breadcrumbs > li::after{
      background:url("data:image/svg+xml,%3csvg xmlns='http://www.w3.org/2000/svg' viewBox='0 0 16 16'%3e%3cpath fill-rule='evenodd' clip-rule='evenodd' d='M10.71 7.29l-4-4a1.003 1.003 0 00-1.42 1.42L8.59 8 5.3 11.29c-.19.18-.3.43-.3.71a1.003 1.003 0 001.71.71l4-4c.18-.18.29-.43.29-.71 0-.28-.11-.53-.29-.71z' fill='%235C7080'/%3e%3c/svg%3e");
      content:"";
      display:block;
      height:16px;
      margin:0 5px;
      width:16px; }
    .bp3-breadcrumbs > li:last-of-type::after{
      display:none; }

.bp3-breadcrumb,
.bp3-breadcrumb-current,
.bp3-breadcrumbs-collapsed{
  -webkit-box-align:center;
      -ms-flex-align:center;
          align-items:center;
  display:-webkit-inline-box;
  display:-ms-inline-flexbox;
  display:inline-flex;
  font-size:16px; }

.bp3-breadcrumb,
.bp3-breadcrumbs-collapsed{
  color:#5c7080; }

.bp3-breadcrumb:hover{
  text-decoration:none; }

.bp3-breadcrumb.bp3-disabled{
  color:rgba(92, 112, 128, 0.6);
  cursor:not-allowed; }

.bp3-breadcrumb .bp3-icon{
  margin-right:5px; }

.bp3-breadcrumb-current{
  color:inherit;
  font-weight:600; }
  .bp3-breadcrumb-current .bp3-input{
    font-size:inherit;
    font-weight:inherit;
    vertical-align:baseline; }

.bp3-breadcrumbs-collapsed{
  background:#ced9e0;
  border:none;
  border-radius:3px;
  cursor:pointer;
  margin-right:2px;
  padding:1px 5px;
  vertical-align:text-bottom; }
  .bp3-breadcrumbs-collapsed::before{
    background:url("data:image/svg+xml,%3csvg xmlns='http://www.w3.org/2000/svg' viewBox='0 0 16 16'%3e%3cg fill='%235C7080'%3e%3ccircle cx='2' cy='8.03' r='2'/%3e%3ccircle cx='14' cy='8.03' r='2'/%3e%3ccircle cx='8' cy='8.03' r='2'/%3e%3c/g%3e%3c/svg%3e") center no-repeat;
    content:"";
    display:block;
    height:16px;
    width:16px; }
  .bp3-breadcrumbs-collapsed:hover{
    background:#bfccd6;
    color:#182026;
    text-decoration:none; }

.bp3-dark .bp3-breadcrumb,
.bp3-dark .bp3-breadcrumbs-collapsed{
  color:#a7b6c2; }

.bp3-dark .bp3-breadcrumbs > li::after{
  color:#a7b6c2; }

.bp3-dark .bp3-breadcrumb.bp3-disabled{
  color:rgba(167, 182, 194, 0.6); }

.bp3-dark .bp3-breadcrumb-current{
  color:#f5f8fa; }

.bp3-dark .bp3-breadcrumbs-collapsed{
  background:rgba(16, 22, 26, 0.4); }
  .bp3-dark .bp3-breadcrumbs-collapsed:hover{
    background:rgba(16, 22, 26, 0.6);
    color:#f5f8fa; }
.bp3-button{
  display:-webkit-inline-box;
  display:-ms-inline-flexbox;
  display:inline-flex;
  -webkit-box-orient:horizontal;
  -webkit-box-direction:normal;
      -ms-flex-direction:row;
          flex-direction:row;
  -webkit-box-align:center;
      -ms-flex-align:center;
          align-items:center;
  border:none;
  border-radius:3px;
  cursor:pointer;
  font-size:14px;
  -webkit-box-pack:center;
      -ms-flex-pack:center;
          justify-content:center;
  padding:5px 10px;
  text-align:left;
  vertical-align:middle;
  min-height:30px;
  min-width:30px; }
  .bp3-button > *{
    -webkit-box-flex:0;
        -ms-flex-positive:0;
            flex-grow:0;
    -ms-flex-negative:0;
        flex-shrink:0; }
  .bp3-button > .bp3-fill{
    -webkit-box-flex:1;
        -ms-flex-positive:1;
            flex-grow:1;
    -ms-flex-negative:1;
        flex-shrink:1; }
  .bp3-button::before,
  .bp3-button > *{
    margin-right:7px; }
  .bp3-button:empty::before,
  .bp3-button > :last-child{
    margin-right:0; }
  .bp3-button:empty{
    padding:0 !important; }
  .bp3-button:disabled, .bp3-button.bp3-disabled{
    cursor:not-allowed; }
  .bp3-button.bp3-fill{
    display:-webkit-box;
    display:-ms-flexbox;
    display:flex;
    width:100%; }
  .bp3-button.bp3-align-right,
  .bp3-align-right .bp3-button{
    text-align:right; }
  .bp3-button.bp3-align-left,
  .bp3-align-left .bp3-button{
    text-align:left; }
  .bp3-button:not([class*="bp3-intent-"]){
    background-color:#f5f8fa;
    background-image:-webkit-gradient(linear, left top, left bottom, from(rgba(255, 255, 255, 0.8)), to(rgba(255, 255, 255, 0)));
    background-image:linear-gradient(to bottom, rgba(255, 255, 255, 0.8), rgba(255, 255, 255, 0));
    -webkit-box-shadow:inset 0 0 0 1px rgba(16, 22, 26, 0.2), inset 0 -1px 0 rgba(16, 22, 26, 0.1);
            box-shadow:inset 0 0 0 1px rgba(16, 22, 26, 0.2), inset 0 -1px 0 rgba(16, 22, 26, 0.1);
    color:#182026; }
    .bp3-button:not([class*="bp3-intent-"]):hover{
      background-clip:padding-box;
      background-color:#ebf1f5;
      -webkit-box-shadow:inset 0 0 0 1px rgba(16, 22, 26, 0.2), inset 0 -1px 0 rgba(16, 22, 26, 0.1);
              box-shadow:inset 0 0 0 1px rgba(16, 22, 26, 0.2), inset 0 -1px 0 rgba(16, 22, 26, 0.1); }
    .bp3-button:not([class*="bp3-intent-"]):active, .bp3-button:not([class*="bp3-intent-"]).bp3-active{
      background-color:#d8e1e8;
      background-image:none;
      -webkit-box-shadow:inset 0 0 0 1px rgba(16, 22, 26, 0.2), inset 0 1px 2px rgba(16, 22, 26, 0.2);
              box-shadow:inset 0 0 0 1px rgba(16, 22, 26, 0.2), inset 0 1px 2px rgba(16, 22, 26, 0.2); }
    .bp3-button:not([class*="bp3-intent-"]):disabled, .bp3-button:not([class*="bp3-intent-"]).bp3-disabled{
      background-color:rgba(206, 217, 224, 0.5);
      background-image:none;
      -webkit-box-shadow:none;
              box-shadow:none;
      color:rgba(92, 112, 128, 0.6);
      cursor:not-allowed;
      outline:none; }
      .bp3-button:not([class*="bp3-intent-"]):disabled.bp3-active, .bp3-button:not([class*="bp3-intent-"]):disabled.bp3-active:hover, .bp3-button:not([class*="bp3-intent-"]).bp3-disabled.bp3-active, .bp3-button:not([class*="bp3-intent-"]).bp3-disabled.bp3-active:hover{
        background:rgba(206, 217, 224, 0.7); }
  .bp3-button.bp3-intent-primary{
    background-color:#137cbd;
    background-image:-webkit-gradient(linear, left top, left bottom, from(rgba(255, 255, 255, 0.1)), to(rgba(255, 255, 255, 0)));
    background-image:linear-gradient(to bottom, rgba(255, 255, 255, 0.1), rgba(255, 255, 255, 0));
    -webkit-box-shadow:inset 0 0 0 1px rgba(16, 22, 26, 0.4), inset 0 -1px 0 rgba(16, 22, 26, 0.2);
            box-shadow:inset 0 0 0 1px rgba(16, 22, 26, 0.4), inset 0 -1px 0 rgba(16, 22, 26, 0.2);
    color:#ffffff; }
    .bp3-button.bp3-intent-primary:hover, .bp3-button.bp3-intent-primary:active, .bp3-button.bp3-intent-primary.bp3-active{
      color:#ffffff; }
    .bp3-button.bp3-intent-primary:hover{
      background-color:#106ba3;
      -webkit-box-shadow:inset 0 0 0 1px rgba(16, 22, 26, 0.4), inset 0 -1px 0 rgba(16, 22, 26, 0.2);
              box-shadow:inset 0 0 0 1px rgba(16, 22, 26, 0.4), inset 0 -1px 0 rgba(16, 22, 26, 0.2); }
    .bp3-button.bp3-intent-primary:active, .bp3-button.bp3-intent-primary.bp3-active{
      background-color:#0e5a8a;
      background-image:none;
      -webkit-box-shadow:inset 0 0 0 1px rgba(16, 22, 26, 0.4), inset 0 1px 2px rgba(16, 22, 26, 0.2);
              box-shadow:inset 0 0 0 1px rgba(16, 22, 26, 0.4), inset 0 1px 2px rgba(16, 22, 26, 0.2); }
    .bp3-button.bp3-intent-primary:disabled, .bp3-button.bp3-intent-primary.bp3-disabled{
      background-color:rgba(19, 124, 189, 0.5);
      background-image:none;
      border-color:transparent;
      -webkit-box-shadow:none;
              box-shadow:none;
      color:rgba(255, 255, 255, 0.6); }
  .bp3-button.bp3-intent-success{
    background-color:#0f9960;
    background-image:-webkit-gradient(linear, left top, left bottom, from(rgba(255, 255, 255, 0.1)), to(rgba(255, 255, 255, 0)));
    background-image:linear-gradient(to bottom, rgba(255, 255, 255, 0.1), rgba(255, 255, 255, 0));
    -webkit-box-shadow:inset 0 0 0 1px rgba(16, 22, 26, 0.4), inset 0 -1px 0 rgba(16, 22, 26, 0.2);
            box-shadow:inset 0 0 0 1px rgba(16, 22, 26, 0.4), inset 0 -1px 0 rgba(16, 22, 26, 0.2);
    color:#ffffff; }
    .bp3-button.bp3-intent-success:hover, .bp3-button.bp3-intent-success:active, .bp3-button.bp3-intent-success.bp3-active{
      color:#ffffff; }
    .bp3-button.bp3-intent-success:hover{
      background-color:#0d8050;
      -webkit-box-shadow:inset 0 0 0 1px rgba(16, 22, 26, 0.4), inset 0 -1px 0 rgba(16, 22, 26, 0.2);
              box-shadow:inset 0 0 0 1px rgba(16, 22, 26, 0.4), inset 0 -1px 0 rgba(16, 22, 26, 0.2); }
    .bp3-button.bp3-intent-success:active, .bp3-button.bp3-intent-success.bp3-active{
      background-color:#0a6640;
      background-image:none;
      -webkit-box-shadow:inset 0 0 0 1px rgba(16, 22, 26, 0.4), inset 0 1px 2px rgba(16, 22, 26, 0.2);
              box-shadow:inset 0 0 0 1px rgba(16, 22, 26, 0.4), inset 0 1px 2px rgba(16, 22, 26, 0.2); }
    .bp3-button.bp3-intent-success:disabled, .bp3-button.bp3-intent-success.bp3-disabled{
      background-color:rgba(15, 153, 96, 0.5);
      background-image:none;
      border-color:transparent;
      -webkit-box-shadow:none;
              box-shadow:none;
      color:rgba(255, 255, 255, 0.6); }
  .bp3-button.bp3-intent-warning{
    background-color:#d9822b;
    background-image:-webkit-gradient(linear, left top, left bottom, from(rgba(255, 255, 255, 0.1)), to(rgba(255, 255, 255, 0)));
    background-image:linear-gradient(to bottom, rgba(255, 255, 255, 0.1), rgba(255, 255, 255, 0));
    -webkit-box-shadow:inset 0 0 0 1px rgba(16, 22, 26, 0.4), inset 0 -1px 0 rgba(16, 22, 26, 0.2);
            box-shadow:inset 0 0 0 1px rgba(16, 22, 26, 0.4), inset 0 -1px 0 rgba(16, 22, 26, 0.2);
    color:#ffffff; }
    .bp3-button.bp3-intent-warning:hover, .bp3-button.bp3-intent-warning:active, .bp3-button.bp3-intent-warning.bp3-active{
      color:#ffffff; }
    .bp3-button.bp3-intent-warning:hover{
      background-color:#bf7326;
      -webkit-box-shadow:inset 0 0 0 1px rgba(16, 22, 26, 0.4), inset 0 -1px 0 rgba(16, 22, 26, 0.2);
              box-shadow:inset 0 0 0 1px rgba(16, 22, 26, 0.4), inset 0 -1px 0 rgba(16, 22, 26, 0.2); }
    .bp3-button.bp3-intent-warning:active, .bp3-button.bp3-intent-warning.bp3-active{
      background-color:#a66321;
      background-image:none;
      -webkit-box-shadow:inset 0 0 0 1px rgba(16, 22, 26, 0.4), inset 0 1px 2px rgba(16, 22, 26, 0.2);
              box-shadow:inset 0 0 0 1px rgba(16, 22, 26, 0.4), inset 0 1px 2px rgba(16, 22, 26, 0.2); }
    .bp3-button.bp3-intent-warning:disabled, .bp3-button.bp3-intent-warning.bp3-disabled{
      background-color:rgba(217, 130, 43, 0.5);
      background-image:none;
      border-color:transparent;
      -webkit-box-shadow:none;
              box-shadow:none;
      color:rgba(255, 255, 255, 0.6); }
  .bp3-button.bp3-intent-danger{
    background-color:#db3737;
    background-image:-webkit-gradient(linear, left top, left bottom, from(rgba(255, 255, 255, 0.1)), to(rgba(255, 255, 255, 0)));
    background-image:linear-gradient(to bottom, rgba(255, 255, 255, 0.1), rgba(255, 255, 255, 0));
    -webkit-box-shadow:inset 0 0 0 1px rgba(16, 22, 26, 0.4), inset 0 -1px 0 rgba(16, 22, 26, 0.2);
            box-shadow:inset 0 0 0 1px rgba(16, 22, 26, 0.4), inset 0 -1px 0 rgba(16, 22, 26, 0.2);
    color:#ffffff; }
    .bp3-button.bp3-intent-danger:hover, .bp3-button.bp3-intent-danger:active, .bp3-button.bp3-intent-danger.bp3-active{
      color:#ffffff; }
    .bp3-button.bp3-intent-danger:hover{
      background-color:#c23030;
      -webkit-box-shadow:inset 0 0 0 1px rgba(16, 22, 26, 0.4), inset 0 -1px 0 rgba(16, 22, 26, 0.2);
              box-shadow:inset 0 0 0 1px rgba(16, 22, 26, 0.4), inset 0 -1px 0 rgba(16, 22, 26, 0.2); }
    .bp3-button.bp3-intent-danger:active, .bp3-button.bp3-intent-danger.bp3-active{
      background-color:#a82a2a;
      background-image:none;
      -webkit-box-shadow:inset 0 0 0 1px rgba(16, 22, 26, 0.4), inset 0 1px 2px rgba(16, 22, 26, 0.2);
              box-shadow:inset 0 0 0 1px rgba(16, 22, 26, 0.4), inset 0 1px 2px rgba(16, 22, 26, 0.2); }
    .bp3-button.bp3-intent-danger:disabled, .bp3-button.bp3-intent-danger.bp3-disabled{
      background-color:rgba(219, 55, 55, 0.5);
      background-image:none;
      border-color:transparent;
      -webkit-box-shadow:none;
              box-shadow:none;
      color:rgba(255, 255, 255, 0.6); }
  .bp3-button[class*="bp3-intent-"] .bp3-button-spinner .bp3-spinner-head{
    stroke:#ffffff; }
  .bp3-button.bp3-large,
  .bp3-large .bp3-button{
    min-height:40px;
    min-width:40px;
    font-size:16px;
    padding:5px 15px; }
    .bp3-button.bp3-large::before,
    .bp3-button.bp3-large > *,
    .bp3-large .bp3-button::before,
    .bp3-large .bp3-button > *{
      margin-right:10px; }
    .bp3-button.bp3-large:empty::before,
    .bp3-button.bp3-large > :last-child,
    .bp3-large .bp3-button:empty::before,
    .bp3-large .bp3-button > :last-child{
      margin-right:0; }
  .bp3-button.bp3-small,
  .bp3-small .bp3-button{
    min-height:24px;
    min-width:24px;
    padding:0 7px; }
  .bp3-button.bp3-loading{
    position:relative; }
    .bp3-button.bp3-loading[class*="bp3-icon-"]::before{
      visibility:hidden; }
    .bp3-button.bp3-loading .bp3-button-spinner{
      margin:0;
      position:absolute; }
    .bp3-button.bp3-loading > :not(.bp3-button-spinner){
      visibility:hidden; }
  .bp3-button[class*="bp3-icon-"]::before{
    font-family:"Icons16", sans-serif;
    font-size:16px;
    font-style:normal;
    font-weight:400;
    line-height:1;
    -moz-osx-font-smoothing:grayscale;
    -webkit-font-smoothing:antialiased;
    color:#5c7080; }
  .bp3-button .bp3-icon, .bp3-button .bp3-icon-standard, .bp3-button .bp3-icon-large{
    color:#5c7080; }
    .bp3-button .bp3-icon.bp3-align-right, .bp3-button .bp3-icon-standard.bp3-align-right, .bp3-button .bp3-icon-large.bp3-align-right{
      margin-left:7px; }
  .bp3-button .bp3-icon:first-child:last-child,
  .bp3-button .bp3-spinner + .bp3-icon:last-child{
    margin:0 -7px; }
  .bp3-dark .bp3-button:not([class*="bp3-intent-"]){
    background-color:#394b59;
    background-image:-webkit-gradient(linear, left top, left bottom, from(rgba(255, 255, 255, 0.05)), to(rgba(255, 255, 255, 0)));
    background-image:linear-gradient(to bottom, rgba(255, 255, 255, 0.05), rgba(255, 255, 255, 0));
    -webkit-box-shadow:0 0 0 1px rgba(16, 22, 26, 0.4);
            box-shadow:0 0 0 1px rgba(16, 22, 26, 0.4);
    color:#f5f8fa; }
    .bp3-dark .bp3-button:not([class*="bp3-intent-"]):hover, .bp3-dark .bp3-button:not([class*="bp3-intent-"]):active, .bp3-dark .bp3-button:not([class*="bp3-intent-"]).bp3-active{
      color:#f5f8fa; }
    .bp3-dark .bp3-button:not([class*="bp3-intent-"]):hover{
      background-color:#30404d;
      -webkit-box-shadow:0 0 0 1px rgba(16, 22, 26, 0.4);
              box-shadow:0 0 0 1px rgba(16, 22, 26, 0.4); }
    .bp3-dark .bp3-button:not([class*="bp3-intent-"]):active, .bp3-dark .bp3-button:not([class*="bp3-intent-"]).bp3-active{
      background-color:#202b33;
      background-image:none;
      -webkit-box-shadow:0 0 0 1px rgba(16, 22, 26, 0.6), inset 0 1px 2px rgba(16, 22, 26, 0.2);
              box-shadow:0 0 0 1px rgba(16, 22, 26, 0.6), inset 0 1px 2px rgba(16, 22, 26, 0.2); }
    .bp3-dark .bp3-button:not([class*="bp3-intent-"]):disabled, .bp3-dark .bp3-button:not([class*="bp3-intent-"]).bp3-disabled{
      background-color:rgba(57, 75, 89, 0.5);
      background-image:none;
      -webkit-box-shadow:none;
              box-shadow:none;
      color:rgba(167, 182, 194, 0.6); }
      .bp3-dark .bp3-button:not([class*="bp3-intent-"]):disabled.bp3-active, .bp3-dark .bp3-button:not([class*="bp3-intent-"]).bp3-disabled.bp3-active{
        background:rgba(57, 75, 89, 0.7); }
    .bp3-dark .bp3-button:not([class*="bp3-intent-"]) .bp3-button-spinner .bp3-spinner-head{
      background:rgba(16, 22, 26, 0.5);
      stroke:#8a9ba8; }
    .bp3-dark .bp3-button:not([class*="bp3-intent-"])[class*="bp3-icon-"]::before{
      color:#a7b6c2; }
    .bp3-dark .bp3-button:not([class*="bp3-intent-"]) .bp3-icon, .bp3-dark .bp3-button:not([class*="bp3-intent-"]) .bp3-icon-standard, .bp3-dark .bp3-button:not([class*="bp3-intent-"]) .bp3-icon-large{
      color:#a7b6c2; }
  .bp3-dark .bp3-button[class*="bp3-intent-"]{
    -webkit-box-shadow:0 0 0 1px rgba(16, 22, 26, 0.4);
            box-shadow:0 0 0 1px rgba(16, 22, 26, 0.4); }
    .bp3-dark .bp3-button[class*="bp3-intent-"]:hover{
      -webkit-box-shadow:0 0 0 1px rgba(16, 22, 26, 0.4);
              box-shadow:0 0 0 1px rgba(16, 22, 26, 0.4); }
    .bp3-dark .bp3-button[class*="bp3-intent-"]:active, .bp3-dark .bp3-button[class*="bp3-intent-"].bp3-active{
      -webkit-box-shadow:0 0 0 1px rgba(16, 22, 26, 0.4), inset 0 1px 2px rgba(16, 22, 26, 0.2);
              box-shadow:0 0 0 1px rgba(16, 22, 26, 0.4), inset 0 1px 2px rgba(16, 22, 26, 0.2); }
    .bp3-dark .bp3-button[class*="bp3-intent-"]:disabled, .bp3-dark .bp3-button[class*="bp3-intent-"].bp3-disabled{
      background-image:none;
      -webkit-box-shadow:none;
              box-shadow:none;
      color:rgba(255, 255, 255, 0.3); }
    .bp3-dark .bp3-button[class*="bp3-intent-"] .bp3-button-spinner .bp3-spinner-head{
      stroke:#8a9ba8; }
  .bp3-button:disabled::before,
  .bp3-button:disabled .bp3-icon, .bp3-button:disabled .bp3-icon-standard, .bp3-button:disabled .bp3-icon-large, .bp3-button.bp3-disabled::before,
  .bp3-button.bp3-disabled .bp3-icon, .bp3-button.bp3-disabled .bp3-icon-standard, .bp3-button.bp3-disabled .bp3-icon-large, .bp3-button[class*="bp3-intent-"]::before,
  .bp3-button[class*="bp3-intent-"] .bp3-icon, .bp3-button[class*="bp3-intent-"] .bp3-icon-standard, .bp3-button[class*="bp3-intent-"] .bp3-icon-large{
    color:inherit !important; }
  .bp3-button.bp3-minimal{
    background:none;
    -webkit-box-shadow:none;
            box-shadow:none; }
    .bp3-button.bp3-minimal:hover{
      background:rgba(167, 182, 194, 0.3);
      -webkit-box-shadow:none;
              box-shadow:none;
      color:#182026;
      text-decoration:none; }
    .bp3-button.bp3-minimal:active, .bp3-button.bp3-minimal.bp3-active{
      background:rgba(115, 134, 148, 0.3);
      -webkit-box-shadow:none;
              box-shadow:none;
      color:#182026; }
    .bp3-button.bp3-minimal:disabled, .bp3-button.bp3-minimal:disabled:hover, .bp3-button.bp3-minimal.bp3-disabled, .bp3-button.bp3-minimal.bp3-disabled:hover{
      background:none;
      color:rgba(92, 112, 128, 0.6);
      cursor:not-allowed; }
      .bp3-button.bp3-minimal:disabled.bp3-active, .bp3-button.bp3-minimal:disabled:hover.bp3-active, .bp3-button.bp3-minimal.bp3-disabled.bp3-active, .bp3-button.bp3-minimal.bp3-disabled:hover.bp3-active{
        background:rgba(115, 134, 148, 0.3); }
    .bp3-dark .bp3-button.bp3-minimal{
      background:none;
      -webkit-box-shadow:none;
              box-shadow:none;
      color:inherit; }
      .bp3-dark .bp3-button.bp3-minimal:hover, .bp3-dark .bp3-button.bp3-minimal:active, .bp3-dark .bp3-button.bp3-minimal.bp3-active{
        background:none;
        -webkit-box-shadow:none;
                box-shadow:none; }
      .bp3-dark .bp3-button.bp3-minimal:hover{
        background:rgba(138, 155, 168, 0.15); }
      .bp3-dark .bp3-button.bp3-minimal:active, .bp3-dark .bp3-button.bp3-minimal.bp3-active{
        background:rgba(138, 155, 168, 0.3);
        color:#f5f8fa; }
      .bp3-dark .bp3-button.bp3-minimal:disabled, .bp3-dark .bp3-button.bp3-minimal:disabled:hover, .bp3-dark .bp3-button.bp3-minimal.bp3-disabled, .bp3-dark .bp3-button.bp3-minimal.bp3-disabled:hover{
        background:none;
        color:rgba(167, 182, 194, 0.6);
        cursor:not-allowed; }
        .bp3-dark .bp3-button.bp3-minimal:disabled.bp3-active, .bp3-dark .bp3-button.bp3-minimal:disabled:hover.bp3-active, .bp3-dark .bp3-button.bp3-minimal.bp3-disabled.bp3-active, .bp3-dark .bp3-button.bp3-minimal.bp3-disabled:hover.bp3-active{
          background:rgba(138, 155, 168, 0.3); }
    .bp3-button.bp3-minimal.bp3-intent-primary{
      color:#106ba3; }
      .bp3-button.bp3-minimal.bp3-intent-primary:hover, .bp3-button.bp3-minimal.bp3-intent-primary:active, .bp3-button.bp3-minimal.bp3-intent-primary.bp3-active{
        background:none;
        -webkit-box-shadow:none;
                box-shadow:none;
        color:#106ba3; }
      .bp3-button.bp3-minimal.bp3-intent-primary:hover{
        background:rgba(19, 124, 189, 0.15);
        color:#106ba3; }
      .bp3-button.bp3-minimal.bp3-intent-primary:active, .bp3-button.bp3-minimal.bp3-intent-primary.bp3-active{
        background:rgba(19, 124, 189, 0.3);
        color:#106ba3; }
      .bp3-button.bp3-minimal.bp3-intent-primary:disabled, .bp3-button.bp3-minimal.bp3-intent-primary.bp3-disabled{
        background:none;
        color:rgba(16, 107, 163, 0.5); }
        .bp3-button.bp3-minimal.bp3-intent-primary:disabled.bp3-active, .bp3-button.bp3-minimal.bp3-intent-primary.bp3-disabled.bp3-active{
          background:rgba(19, 124, 189, 0.3); }
      .bp3-button.bp3-minimal.bp3-intent-primary .bp3-button-spinner .bp3-spinner-head{
        stroke:#106ba3; }
      .bp3-dark .bp3-button.bp3-minimal.bp3-intent-primary{
        color:#48aff0; }
        .bp3-dark .bp3-button.bp3-minimal.bp3-intent-primary:hover{
          background:rgba(19, 124, 189, 0.2);
          color:#48aff0; }
        .bp3-dark .bp3-button.bp3-minimal.bp3-intent-primary:active, .bp3-dark .bp3-button.bp3-minimal.bp3-intent-primary.bp3-active{
          background:rgba(19, 124, 189, 0.3);
          color:#48aff0; }
        .bp3-dark .bp3-button.bp3-minimal.bp3-intent-primary:disabled, .bp3-dark .bp3-button.bp3-minimal.bp3-intent-primary.bp3-disabled{
          background:none;
          color:rgba(72, 175, 240, 0.5); }
          .bp3-dark .bp3-button.bp3-minimal.bp3-intent-primary:disabled.bp3-active, .bp3-dark .bp3-button.bp3-minimal.bp3-intent-primary.bp3-disabled.bp3-active{
            background:rgba(19, 124, 189, 0.3); }
    .bp3-button.bp3-minimal.bp3-intent-success{
      color:#0d8050; }
      .bp3-button.bp3-minimal.bp3-intent-success:hover, .bp3-button.bp3-minimal.bp3-intent-success:active, .bp3-button.bp3-minimal.bp3-intent-success.bp3-active{
        background:none;
        -webkit-box-shadow:none;
                box-shadow:none;
        color:#0d8050; }
      .bp3-button.bp3-minimal.bp3-intent-success:hover{
        background:rgba(15, 153, 96, 0.15);
        color:#0d8050; }
      .bp3-button.bp3-minimal.bp3-intent-success:active, .bp3-button.bp3-minimal.bp3-intent-success.bp3-active{
        background:rgba(15, 153, 96, 0.3);
        color:#0d8050; }
      .bp3-button.bp3-minimal.bp3-intent-success:disabled, .bp3-button.bp3-minimal.bp3-intent-success.bp3-disabled{
        background:none;
        color:rgba(13, 128, 80, 0.5); }
        .bp3-button.bp3-minimal.bp3-intent-success:disabled.bp3-active, .bp3-button.bp3-minimal.bp3-intent-success.bp3-disabled.bp3-active{
          background:rgba(15, 153, 96, 0.3); }
      .bp3-button.bp3-minimal.bp3-intent-success .bp3-button-spinner .bp3-spinner-head{
        stroke:#0d8050; }
      .bp3-dark .bp3-button.bp3-minimal.bp3-intent-success{
        color:#3dcc91; }
        .bp3-dark .bp3-button.bp3-minimal.bp3-intent-success:hover{
          background:rgba(15, 153, 96, 0.2);
          color:#3dcc91; }
        .bp3-dark .bp3-button.bp3-minimal.bp3-intent-success:active, .bp3-dark .bp3-button.bp3-minimal.bp3-intent-success.bp3-active{
          background:rgba(15, 153, 96, 0.3);
          color:#3dcc91; }
        .bp3-dark .bp3-button.bp3-minimal.bp3-intent-success:disabled, .bp3-dark .bp3-button.bp3-minimal.bp3-intent-success.bp3-disabled{
          background:none;
          color:rgba(61, 204, 145, 0.5); }
          .bp3-dark .bp3-button.bp3-minimal.bp3-intent-success:disabled.bp3-active, .bp3-dark .bp3-button.bp3-minimal.bp3-intent-success.bp3-disabled.bp3-active{
            background:rgba(15, 153, 96, 0.3); }
    .bp3-button.bp3-minimal.bp3-intent-warning{
      color:#bf7326; }
      .bp3-button.bp3-minimal.bp3-intent-warning:hover, .bp3-button.bp3-minimal.bp3-intent-warning:active, .bp3-button.bp3-minimal.bp3-intent-warning.bp3-active{
        background:none;
        -webkit-box-shadow:none;
                box-shadow:none;
        color:#bf7326; }
      .bp3-button.bp3-minimal.bp3-intent-warning:hover{
        background:rgba(217, 130, 43, 0.15);
        color:#bf7326; }
      .bp3-button.bp3-minimal.bp3-intent-warning:active, .bp3-button.bp3-minimal.bp3-intent-warning.bp3-active{
        background:rgba(217, 130, 43, 0.3);
        color:#bf7326; }
      .bp3-button.bp3-minimal.bp3-intent-warning:disabled, .bp3-button.bp3-minimal.bp3-intent-warning.bp3-disabled{
        background:none;
        color:rgba(191, 115, 38, 0.5); }
        .bp3-button.bp3-minimal.bp3-intent-warning:disabled.bp3-active, .bp3-button.bp3-minimal.bp3-intent-warning.bp3-disabled.bp3-active{
          background:rgba(217, 130, 43, 0.3); }
      .bp3-button.bp3-minimal.bp3-intent-warning .bp3-button-spinner .bp3-spinner-head{
        stroke:#bf7326; }
      .bp3-dark .bp3-button.bp3-minimal.bp3-intent-warning{
        color:#ffb366; }
        .bp3-dark .bp3-button.bp3-minimal.bp3-intent-warning:hover{
          background:rgba(217, 130, 43, 0.2);
          color:#ffb366; }
        .bp3-dark .bp3-button.bp3-minimal.bp3-intent-warning:active, .bp3-dark .bp3-button.bp3-minimal.bp3-intent-warning.bp3-active{
          background:rgba(217, 130, 43, 0.3);
          color:#ffb366; }
        .bp3-dark .bp3-button.bp3-minimal.bp3-intent-warning:disabled, .bp3-dark .bp3-button.bp3-minimal.bp3-intent-warning.bp3-disabled{
          background:none;
          color:rgba(255, 179, 102, 0.5); }
          .bp3-dark .bp3-button.bp3-minimal.bp3-intent-warning:disabled.bp3-active, .bp3-dark .bp3-button.bp3-minimal.bp3-intent-warning.bp3-disabled.bp3-active{
            background:rgba(217, 130, 43, 0.3); }
    .bp3-button.bp3-minimal.bp3-intent-danger{
      color:#c23030; }
      .bp3-button.bp3-minimal.bp3-intent-danger:hover, .bp3-button.bp3-minimal.bp3-intent-danger:active, .bp3-button.bp3-minimal.bp3-intent-danger.bp3-active{
        background:none;
        -webkit-box-shadow:none;
                box-shadow:none;
        color:#c23030; }
      .bp3-button.bp3-minimal.bp3-intent-danger:hover{
        background:rgba(219, 55, 55, 0.15);
        color:#c23030; }
      .bp3-button.bp3-minimal.bp3-intent-danger:active, .bp3-button.bp3-minimal.bp3-intent-danger.bp3-active{
        background:rgba(219, 55, 55, 0.3);
        color:#c23030; }
      .bp3-button.bp3-minimal.bp3-intent-danger:disabled, .bp3-button.bp3-minimal.bp3-intent-danger.bp3-disabled{
        background:none;
        color:rgba(194, 48, 48, 0.5); }
        .bp3-button.bp3-minimal.bp3-intent-danger:disabled.bp3-active, .bp3-button.bp3-minimal.bp3-intent-danger.bp3-disabled.bp3-active{
          background:rgba(219, 55, 55, 0.3); }
      .bp3-button.bp3-minimal.bp3-intent-danger .bp3-button-spinner .bp3-spinner-head{
        stroke:#c23030; }
      .bp3-dark .bp3-button.bp3-minimal.bp3-intent-danger{
        color:#ff7373; }
        .bp3-dark .bp3-button.bp3-minimal.bp3-intent-danger:hover{
          background:rgba(219, 55, 55, 0.2);
          color:#ff7373; }
        .bp3-dark .bp3-button.bp3-minimal.bp3-intent-danger:active, .bp3-dark .bp3-button.bp3-minimal.bp3-intent-danger.bp3-active{
          background:rgba(219, 55, 55, 0.3);
          color:#ff7373; }
        .bp3-dark .bp3-button.bp3-minimal.bp3-intent-danger:disabled, .bp3-dark .bp3-button.bp3-minimal.bp3-intent-danger.bp3-disabled{
          background:none;
          color:rgba(255, 115, 115, 0.5); }
          .bp3-dark .bp3-button.bp3-minimal.bp3-intent-danger:disabled.bp3-active, .bp3-dark .bp3-button.bp3-minimal.bp3-intent-danger.bp3-disabled.bp3-active{
            background:rgba(219, 55, 55, 0.3); }
  .bp3-button.bp3-outlined{
    background:none;
    -webkit-box-shadow:none;
            box-shadow:none;
    border:1px solid rgba(24, 32, 38, 0.2);
    -webkit-box-sizing:border-box;
            box-sizing:border-box; }
    .bp3-button.bp3-outlined:hover{
      background:rgba(167, 182, 194, 0.3);
      -webkit-box-shadow:none;
              box-shadow:none;
      color:#182026;
      text-decoration:none; }
    .bp3-button.bp3-outlined:active, .bp3-button.bp3-outlined.bp3-active{
      background:rgba(115, 134, 148, 0.3);
      -webkit-box-shadow:none;
              box-shadow:none;
      color:#182026; }
    .bp3-button.bp3-outlined:disabled, .bp3-button.bp3-outlined:disabled:hover, .bp3-button.bp3-outlined.bp3-disabled, .bp3-button.bp3-outlined.bp3-disabled:hover{
      background:none;
      color:rgba(92, 112, 128, 0.6);
      cursor:not-allowed; }
      .bp3-button.bp3-outlined:disabled.bp3-active, .bp3-button.bp3-outlined:disabled:hover.bp3-active, .bp3-button.bp3-outlined.bp3-disabled.bp3-active, .bp3-button.bp3-outlined.bp3-disabled:hover.bp3-active{
        background:rgba(115, 134, 148, 0.3); }
    .bp3-dark .bp3-button.bp3-outlined{
      background:none;
      -webkit-box-shadow:none;
              box-shadow:none;
      color:inherit; }
      .bp3-dark .bp3-button.bp3-outlined:hover, .bp3-dark .bp3-button.bp3-outlined:active, .bp3-dark .bp3-button.bp3-outlined.bp3-active{
        background:none;
        -webkit-box-shadow:none;
                box-shadow:none; }
      .bp3-dark .bp3-button.bp3-outlined:hover{
        background:rgba(138, 155, 168, 0.15); }
      .bp3-dark .bp3-button.bp3-outlined:active, .bp3-dark .bp3-button.bp3-outlined.bp3-active{
        background:rgba(138, 155, 168, 0.3);
        color:#f5f8fa; }
      .bp3-dark .bp3-button.bp3-outlined:disabled, .bp3-dark .bp3-button.bp3-outlined:disabled:hover, .bp3-dark .bp3-button.bp3-outlined.bp3-disabled, .bp3-dark .bp3-button.bp3-outlined.bp3-disabled:hover{
        background:none;
        color:rgba(167, 182, 194, 0.6);
        cursor:not-allowed; }
        .bp3-dark .bp3-button.bp3-outlined:disabled.bp3-active, .bp3-dark .bp3-button.bp3-outlined:disabled:hover.bp3-active, .bp3-dark .bp3-button.bp3-outlined.bp3-disabled.bp3-active, .bp3-dark .bp3-button.bp3-outlined.bp3-disabled:hover.bp3-active{
          background:rgba(138, 155, 168, 0.3); }
    .bp3-button.bp3-outlined.bp3-intent-primary{
      color:#106ba3; }
      .bp3-button.bp3-outlined.bp3-intent-primary:hover, .bp3-button.bp3-outlined.bp3-intent-primary:active, .bp3-button.bp3-outlined.bp3-intent-primary.bp3-active{
        background:none;
        -webkit-box-shadow:none;
                box-shadow:none;
        color:#106ba3; }
      .bp3-button.bp3-outlined.bp3-intent-primary:hover{
        background:rgba(19, 124, 189, 0.15);
        color:#106ba3; }
      .bp3-button.bp3-outlined.bp3-intent-primary:active, .bp3-button.bp3-outlined.bp3-intent-primary.bp3-active{
        background:rgba(19, 124, 189, 0.3);
        color:#106ba3; }
      .bp3-button.bp3-outlined.bp3-intent-primary:disabled, .bp3-button.bp3-outlined.bp3-intent-primary.bp3-disabled{
        background:none;
        color:rgba(16, 107, 163, 0.5); }
        .bp3-button.bp3-outlined.bp3-intent-primary:disabled.bp3-active, .bp3-button.bp3-outlined.bp3-intent-primary.bp3-disabled.bp3-active{
          background:rgba(19, 124, 189, 0.3); }
      .bp3-button.bp3-outlined.bp3-intent-primary .bp3-button-spinner .bp3-spinner-head{
        stroke:#106ba3; }
      .bp3-dark .bp3-button.bp3-outlined.bp3-intent-primary{
        color:#48aff0; }
        .bp3-dark .bp3-button.bp3-outlined.bp3-intent-primary:hover{
          background:rgba(19, 124, 189, 0.2);
          color:#48aff0; }
        .bp3-dark .bp3-button.bp3-outlined.bp3-intent-primary:active, .bp3-dark .bp3-button.bp3-outlined.bp3-intent-primary.bp3-active{
          background:rgba(19, 124, 189, 0.3);
          color:#48aff0; }
        .bp3-dark .bp3-button.bp3-outlined.bp3-intent-primary:disabled, .bp3-dark .bp3-button.bp3-outlined.bp3-intent-primary.bp3-disabled{
          background:none;
          color:rgba(72, 175, 240, 0.5); }
          .bp3-dark .bp3-button.bp3-outlined.bp3-intent-primary:disabled.bp3-active, .bp3-dark .bp3-button.bp3-outlined.bp3-intent-primary.bp3-disabled.bp3-active{
            background:rgba(19, 124, 189, 0.3); }
    .bp3-button.bp3-outlined.bp3-intent-success{
      color:#0d8050; }
      .bp3-button.bp3-outlined.bp3-intent-success:hover, .bp3-button.bp3-outlined.bp3-intent-success:active, .bp3-button.bp3-outlined.bp3-intent-success.bp3-active{
        background:none;
        -webkit-box-shadow:none;
                box-shadow:none;
        color:#0d8050; }
      .bp3-button.bp3-outlined.bp3-intent-success:hover{
        background:rgba(15, 153, 96, 0.15);
        color:#0d8050; }
      .bp3-button.bp3-outlined.bp3-intent-success:active, .bp3-button.bp3-outlined.bp3-intent-success.bp3-active{
        background:rgba(15, 153, 96, 0.3);
        color:#0d8050; }
      .bp3-button.bp3-outlined.bp3-intent-success:disabled, .bp3-button.bp3-outlined.bp3-intent-success.bp3-disabled{
        background:none;
        color:rgba(13, 128, 80, 0.5); }
        .bp3-button.bp3-outlined.bp3-intent-success:disabled.bp3-active, .bp3-button.bp3-outlined.bp3-intent-success.bp3-disabled.bp3-active{
          background:rgba(15, 153, 96, 0.3); }
      .bp3-button.bp3-outlined.bp3-intent-success .bp3-button-spinner .bp3-spinner-head{
        stroke:#0d8050; }
      .bp3-dark .bp3-button.bp3-outlined.bp3-intent-success{
        color:#3dcc91; }
        .bp3-dark .bp3-button.bp3-outlined.bp3-intent-success:hover{
          background:rgba(15, 153, 96, 0.2);
          color:#3dcc91; }
        .bp3-dark .bp3-button.bp3-outlined.bp3-intent-success:active, .bp3-dark .bp3-button.bp3-outlined.bp3-intent-success.bp3-active{
          background:rgba(15, 153, 96, 0.3);
          color:#3dcc91; }
        .bp3-dark .bp3-button.bp3-outlined.bp3-intent-success:disabled, .bp3-dark .bp3-button.bp3-outlined.bp3-intent-success.bp3-disabled{
          background:none;
          color:rgba(61, 204, 145, 0.5); }
          .bp3-dark .bp3-button.bp3-outlined.bp3-intent-success:disabled.bp3-active, .bp3-dark .bp3-button.bp3-outlined.bp3-intent-success.bp3-disabled.bp3-active{
            background:rgba(15, 153, 96, 0.3); }
    .bp3-button.bp3-outlined.bp3-intent-warning{
      color:#bf7326; }
      .bp3-button.bp3-outlined.bp3-intent-warning:hover, .bp3-button.bp3-outlined.bp3-intent-warning:active, .bp3-button.bp3-outlined.bp3-intent-warning.bp3-active{
        background:none;
        -webkit-box-shadow:none;
                box-shadow:none;
        color:#bf7326; }
      .bp3-button.bp3-outlined.bp3-intent-warning:hover{
        background:rgba(217, 130, 43, 0.15);
        color:#bf7326; }
      .bp3-button.bp3-outlined.bp3-intent-warning:active, .bp3-button.bp3-outlined.bp3-intent-warning.bp3-active{
        background:rgba(217, 130, 43, 0.3);
        color:#bf7326; }
      .bp3-button.bp3-outlined.bp3-intent-warning:disabled, .bp3-button.bp3-outlined.bp3-intent-warning.bp3-disabled{
        background:none;
        color:rgba(191, 115, 38, 0.5); }
        .bp3-button.bp3-outlined.bp3-intent-warning:disabled.bp3-active, .bp3-button.bp3-outlined.bp3-intent-warning.bp3-disabled.bp3-active{
          background:rgba(217, 130, 43, 0.3); }
      .bp3-button.bp3-outlined.bp3-intent-warning .bp3-button-spinner .bp3-spinner-head{
        stroke:#bf7326; }
      .bp3-dark .bp3-button.bp3-outlined.bp3-intent-warning{
        color:#ffb366; }
        .bp3-dark .bp3-button.bp3-outlined.bp3-intent-warning:hover{
          background:rgba(217, 130, 43, 0.2);
          color:#ffb366; }
        .bp3-dark .bp3-button.bp3-outlined.bp3-intent-warning:active, .bp3-dark .bp3-button.bp3-outlined.bp3-intent-warning.bp3-active{
          background:rgba(217, 130, 43, 0.3);
          color:#ffb366; }
        .bp3-dark .bp3-button.bp3-outlined.bp3-intent-warning:disabled, .bp3-dark .bp3-button.bp3-outlined.bp3-intent-warning.bp3-disabled{
          background:none;
          color:rgba(255, 179, 102, 0.5); }
          .bp3-dark .bp3-button.bp3-outlined.bp3-intent-warning:disabled.bp3-active, .bp3-dark .bp3-button.bp3-outlined.bp3-intent-warning.bp3-disabled.bp3-active{
            background:rgba(217, 130, 43, 0.3); }
    .bp3-button.bp3-outlined.bp3-intent-danger{
      color:#c23030; }
      .bp3-button.bp3-outlined.bp3-intent-danger:hover, .bp3-button.bp3-outlined.bp3-intent-danger:active, .bp3-button.bp3-outlined.bp3-intent-danger.bp3-active{
        background:none;
        -webkit-box-shadow:none;
                box-shadow:none;
        color:#c23030; }
      .bp3-button.bp3-outlined.bp3-intent-danger:hover{
        background:rgba(219, 55, 55, 0.15);
        color:#c23030; }
      .bp3-button.bp3-outlined.bp3-intent-danger:active, .bp3-button.bp3-outlined.bp3-intent-danger.bp3-active{
        background:rgba(219, 55, 55, 0.3);
        color:#c23030; }
      .bp3-button.bp3-outlined.bp3-intent-danger:disabled, .bp3-button.bp3-outlined.bp3-intent-danger.bp3-disabled{
        background:none;
        color:rgba(194, 48, 48, 0.5); }
        .bp3-button.bp3-outlined.bp3-intent-danger:disabled.bp3-active, .bp3-button.bp3-outlined.bp3-intent-danger.bp3-disabled.bp3-active{
          background:rgba(219, 55, 55, 0.3); }
      .bp3-button.bp3-outlined.bp3-intent-danger .bp3-button-spinner .bp3-spinner-head{
        stroke:#c23030; }
      .bp3-dark .bp3-button.bp3-outlined.bp3-intent-danger{
        color:#ff7373; }
        .bp3-dark .bp3-button.bp3-outlined.bp3-intent-danger:hover{
          background:rgba(219, 55, 55, 0.2);
          color:#ff7373; }
        .bp3-dark .bp3-button.bp3-outlined.bp3-intent-danger:active, .bp3-dark .bp3-button.bp3-outlined.bp3-intent-danger.bp3-active{
          background:rgba(219, 55, 55, 0.3);
          color:#ff7373; }
        .bp3-dark .bp3-button.bp3-outlined.bp3-intent-danger:disabled, .bp3-dark .bp3-button.bp3-outlined.bp3-intent-danger.bp3-disabled{
          background:none;
          color:rgba(255, 115, 115, 0.5); }
          .bp3-dark .bp3-button.bp3-outlined.bp3-intent-danger:disabled.bp3-active, .bp3-dark .bp3-button.bp3-outlined.bp3-intent-danger.bp3-disabled.bp3-active{
            background:rgba(219, 55, 55, 0.3); }
    .bp3-button.bp3-outlined:disabled, .bp3-button.bp3-outlined.bp3-disabled, .bp3-button.bp3-outlined:disabled:hover, .bp3-button.bp3-outlined.bp3-disabled:hover{
      border-color:rgba(92, 112, 128, 0.1); }
    .bp3-dark .bp3-button.bp3-outlined{
      border-color:rgba(255, 255, 255, 0.4); }
      .bp3-dark .bp3-button.bp3-outlined:disabled, .bp3-dark .bp3-button.bp3-outlined:disabled:hover, .bp3-dark .bp3-button.bp3-outlined.bp3-disabled, .bp3-dark .bp3-button.bp3-outlined.bp3-disabled:hover{
        border-color:rgba(255, 255, 255, 0.2); }
    .bp3-button.bp3-outlined.bp3-intent-primary{
      border-color:rgba(16, 107, 163, 0.6); }
      .bp3-button.bp3-outlined.bp3-intent-primary:disabled, .bp3-button.bp3-outlined.bp3-intent-primary.bp3-disabled{
        border-color:rgba(16, 107, 163, 0.2); }
      .bp3-dark .bp3-button.bp3-outlined.bp3-intent-primary{
        border-color:rgba(72, 175, 240, 0.6); }
        .bp3-dark .bp3-button.bp3-outlined.bp3-intent-primary:disabled, .bp3-dark .bp3-button.bp3-outlined.bp3-intent-primary.bp3-disabled{
          border-color:rgba(72, 175, 240, 0.2); }
    .bp3-button.bp3-outlined.bp3-intent-success{
      border-color:rgba(13, 128, 80, 0.6); }
      .bp3-button.bp3-outlined.bp3-intent-success:disabled, .bp3-button.bp3-outlined.bp3-intent-success.bp3-disabled{
        border-color:rgba(13, 128, 80, 0.2); }
      .bp3-dark .bp3-button.bp3-outlined.bp3-intent-success{
        border-color:rgba(61, 204, 145, 0.6); }
        .bp3-dark .bp3-button.bp3-outlined.bp3-intent-success:disabled, .bp3-dark .bp3-button.bp3-outlined.bp3-intent-success.bp3-disabled{
          border-color:rgba(61, 204, 145, 0.2); }
    .bp3-button.bp3-outlined.bp3-intent-warning{
      border-color:rgba(191, 115, 38, 0.6); }
      .bp3-button.bp3-outlined.bp3-intent-warning:disabled, .bp3-button.bp3-outlined.bp3-intent-warning.bp3-disabled{
        border-color:rgba(191, 115, 38, 0.2); }
      .bp3-dark .bp3-button.bp3-outlined.bp3-intent-warning{
        border-color:rgba(255, 179, 102, 0.6); }
        .bp3-dark .bp3-button.bp3-outlined.bp3-intent-warning:disabled, .bp3-dark .bp3-button.bp3-outlined.bp3-intent-warning.bp3-disabled{
          border-color:rgba(255, 179, 102, 0.2); }
    .bp3-button.bp3-outlined.bp3-intent-danger{
      border-color:rgba(194, 48, 48, 0.6); }
      .bp3-button.bp3-outlined.bp3-intent-danger:disabled, .bp3-button.bp3-outlined.bp3-intent-danger.bp3-disabled{
        border-color:rgba(194, 48, 48, 0.2); }
      .bp3-dark .bp3-button.bp3-outlined.bp3-intent-danger{
        border-color:rgba(255, 115, 115, 0.6); }
        .bp3-dark .bp3-button.bp3-outlined.bp3-intent-danger:disabled, .bp3-dark .bp3-button.bp3-outlined.bp3-intent-danger.bp3-disabled{
          border-color:rgba(255, 115, 115, 0.2); }

a.bp3-button{
  text-align:center;
  text-decoration:none;
  -webkit-transition:none;
  transition:none; }
  a.bp3-button, a.bp3-button:hover, a.bp3-button:active{
    color:#182026; }
  a.bp3-button.bp3-disabled{
    color:rgba(92, 112, 128, 0.6); }

.bp3-button-text{
  -webkit-box-flex:0;
      -ms-flex:0 1 auto;
          flex:0 1 auto; }

.bp3-button.bp3-align-left .bp3-button-text, .bp3-button.bp3-align-right .bp3-button-text,
.bp3-button-group.bp3-align-left .bp3-button-text,
.bp3-button-group.bp3-align-right .bp3-button-text{
  -webkit-box-flex:1;
      -ms-flex:1 1 auto;
          flex:1 1 auto; }
.bp3-button-group{
  display:-webkit-inline-box;
  display:-ms-inline-flexbox;
  display:inline-flex; }
  .bp3-button-group .bp3-button{
    -webkit-box-flex:0;
        -ms-flex:0 0 auto;
            flex:0 0 auto;
    position:relative;
    z-index:4; }
    .bp3-button-group .bp3-button:focus{
      z-index:5; }
    .bp3-button-group .bp3-button:hover{
      z-index:6; }
    .bp3-button-group .bp3-button:active, .bp3-button-group .bp3-button.bp3-active{
      z-index:7; }
    .bp3-button-group .bp3-button:disabled, .bp3-button-group .bp3-button.bp3-disabled{
      z-index:3; }
    .bp3-button-group .bp3-button[class*="bp3-intent-"]{
      z-index:9; }
      .bp3-button-group .bp3-button[class*="bp3-intent-"]:focus{
        z-index:10; }
      .bp3-button-group .bp3-button[class*="bp3-intent-"]:hover{
        z-index:11; }
      .bp3-button-group .bp3-button[class*="bp3-intent-"]:active, .bp3-button-group .bp3-button[class*="bp3-intent-"].bp3-active{
        z-index:12; }
      .bp3-button-group .bp3-button[class*="bp3-intent-"]:disabled, .bp3-button-group .bp3-button[class*="bp3-intent-"].bp3-disabled{
        z-index:8; }
  .bp3-button-group:not(.bp3-minimal) > .bp3-popover-wrapper:not(:first-child) .bp3-button,
  .bp3-button-group:not(.bp3-minimal) > .bp3-button:not(:first-child){
    border-bottom-left-radius:0;
    border-top-left-radius:0; }
  .bp3-button-group:not(.bp3-minimal) > .bp3-popover-wrapper:not(:last-child) .bp3-button,
  .bp3-button-group:not(.bp3-minimal) > .bp3-button:not(:last-child){
    border-bottom-right-radius:0;
    border-top-right-radius:0;
    margin-right:-1px; }
  .bp3-button-group.bp3-minimal .bp3-button{
    background:none;
    -webkit-box-shadow:none;
            box-shadow:none; }
    .bp3-button-group.bp3-minimal .bp3-button:hover{
      background:rgba(167, 182, 194, 0.3);
      -webkit-box-shadow:none;
              box-shadow:none;
      color:#182026;
      text-decoration:none; }
    .bp3-button-group.bp3-minimal .bp3-button:active, .bp3-button-group.bp3-minimal .bp3-button.bp3-active{
      background:rgba(115, 134, 148, 0.3);
      -webkit-box-shadow:none;
              box-shadow:none;
      color:#182026; }
    .bp3-button-group.bp3-minimal .bp3-button:disabled, .bp3-button-group.bp3-minimal .bp3-button:disabled:hover, .bp3-button-group.bp3-minimal .bp3-button.bp3-disabled, .bp3-button-group.bp3-minimal .bp3-button.bp3-disabled:hover{
      background:none;
      color:rgba(92, 112, 128, 0.6);
      cursor:not-allowed; }
      .bp3-button-group.bp3-minimal .bp3-button:disabled.bp3-active, .bp3-button-group.bp3-minimal .bp3-button:disabled:hover.bp3-active, .bp3-button-group.bp3-minimal .bp3-button.bp3-disabled.bp3-active, .bp3-button-group.bp3-minimal .bp3-button.bp3-disabled:hover.bp3-active{
        background:rgba(115, 134, 148, 0.3); }
    .bp3-dark .bp3-button-group.bp3-minimal .bp3-button{
      background:none;
      -webkit-box-shadow:none;
              box-shadow:none;
      color:inherit; }
      .bp3-dark .bp3-button-group.bp3-minimal .bp3-button:hover, .bp3-dark .bp3-button-group.bp3-minimal .bp3-button:active, .bp3-dark .bp3-button-group.bp3-minimal .bp3-button.bp3-active{
        background:none;
        -webkit-box-shadow:none;
                box-shadow:none; }
      .bp3-dark .bp3-button-group.bp3-minimal .bp3-button:hover{
        background:rgba(138, 155, 168, 0.15); }
      .bp3-dark .bp3-button-group.bp3-minimal .bp3-button:active, .bp3-dark .bp3-button-group.bp3-minimal .bp3-button.bp3-active{
        background:rgba(138, 155, 168, 0.3);
        color:#f5f8fa; }
      .bp3-dark .bp3-button-group.bp3-minimal .bp3-button:disabled, .bp3-dark .bp3-button-group.bp3-minimal .bp3-button:disabled:hover, .bp3-dark .bp3-button-group.bp3-minimal .bp3-button.bp3-disabled, .bp3-dark .bp3-button-group.bp3-minimal .bp3-button.bp3-disabled:hover{
        background:none;
        color:rgba(167, 182, 194, 0.6);
        cursor:not-allowed; }
        .bp3-dark .bp3-button-group.bp3-minimal .bp3-button:disabled.bp3-active, .bp3-dark .bp3-button-group.bp3-minimal .bp3-button:disabled:hover.bp3-active, .bp3-dark .bp3-button-group.bp3-minimal .bp3-button.bp3-disabled.bp3-active, .bp3-dark .bp3-button-group.bp3-minimal .bp3-button.bp3-disabled:hover.bp3-active{
          background:rgba(138, 155, 168, 0.3); }
    .bp3-button-group.bp3-minimal .bp3-button.bp3-intent-primary{
      color:#106ba3; }
      .bp3-button-group.bp3-minimal .bp3-button.bp3-intent-primary:hover, .bp3-button-group.bp3-minimal .bp3-button.bp3-intent-primary:active, .bp3-button-group.bp3-minimal .bp3-button.bp3-intent-primary.bp3-active{
        background:none;
        -webkit-box-shadow:none;
                box-shadow:none;
        color:#106ba3; }
      .bp3-button-group.bp3-minimal .bp3-button.bp3-intent-primary:hover{
        background:rgba(19, 124, 189, 0.15);
        color:#106ba3; }
      .bp3-button-group.bp3-minimal .bp3-button.bp3-intent-primary:active, .bp3-button-group.bp3-minimal .bp3-button.bp3-intent-primary.bp3-active{
        background:rgba(19, 124, 189, 0.3);
        color:#106ba3; }
      .bp3-button-group.bp3-minimal .bp3-button.bp3-intent-primary:disabled, .bp3-button-group.bp3-minimal .bp3-button.bp3-intent-primary.bp3-disabled{
        background:none;
        color:rgba(16, 107, 163, 0.5); }
        .bp3-button-group.bp3-minimal .bp3-button.bp3-intent-primary:disabled.bp3-active, .bp3-button-group.bp3-minimal .bp3-button.bp3-intent-primary.bp3-disabled.bp3-active{
          background:rgba(19, 124, 189, 0.3); }
      .bp3-button-group.bp3-minimal .bp3-button.bp3-intent-primary .bp3-button-spinner .bp3-spinner-head{
        stroke:#106ba3; }
      .bp3-dark .bp3-button-group.bp3-minimal .bp3-button.bp3-intent-primary{
        color:#48aff0; }
        .bp3-dark .bp3-button-group.bp3-minimal .bp3-button.bp3-intent-primary:hover{
          background:rgba(19, 124, 189, 0.2);
          color:#48aff0; }
        .bp3-dark .bp3-button-group.bp3-minimal .bp3-button.bp3-intent-primary:active, .bp3-dark .bp3-button-group.bp3-minimal .bp3-button.bp3-intent-primary.bp3-active{
          background:rgba(19, 124, 189, 0.3);
          color:#48aff0; }
        .bp3-dark .bp3-button-group.bp3-minimal .bp3-button.bp3-intent-primary:disabled, .bp3-dark .bp3-button-group.bp3-minimal .bp3-button.bp3-intent-primary.bp3-disabled{
          background:none;
          color:rgba(72, 175, 240, 0.5); }
          .bp3-dark .bp3-button-group.bp3-minimal .bp3-button.bp3-intent-primary:disabled.bp3-active, .bp3-dark .bp3-button-group.bp3-minimal .bp3-button.bp3-intent-primary.bp3-disabled.bp3-active{
            background:rgba(19, 124, 189, 0.3); }
    .bp3-button-group.bp3-minimal .bp3-button.bp3-intent-success{
      color:#0d8050; }
      .bp3-button-group.bp3-minimal .bp3-button.bp3-intent-success:hover, .bp3-button-group.bp3-minimal .bp3-button.bp3-intent-success:active, .bp3-button-group.bp3-minimal .bp3-button.bp3-intent-success.bp3-active{
        background:none;
        -webkit-box-shadow:none;
                box-shadow:none;
        color:#0d8050; }
      .bp3-button-group.bp3-minimal .bp3-button.bp3-intent-success:hover{
        background:rgba(15, 153, 96, 0.15);
        color:#0d8050; }
      .bp3-button-group.bp3-minimal .bp3-button.bp3-intent-success:active, .bp3-button-group.bp3-minimal .bp3-button.bp3-intent-success.bp3-active{
        background:rgba(15, 153, 96, 0.3);
        color:#0d8050; }
      .bp3-button-group.bp3-minimal .bp3-button.bp3-intent-success:disabled, .bp3-button-group.bp3-minimal .bp3-button.bp3-intent-success.bp3-disabled{
        background:none;
        color:rgba(13, 128, 80, 0.5); }
        .bp3-button-group.bp3-minimal .bp3-button.bp3-intent-success:disabled.bp3-active, .bp3-button-group.bp3-minimal .bp3-button.bp3-intent-success.bp3-disabled.bp3-active{
          background:rgba(15, 153, 96, 0.3); }
      .bp3-button-group.bp3-minimal .bp3-button.bp3-intent-success .bp3-button-spinner .bp3-spinner-head{
        stroke:#0d8050; }
      .bp3-dark .bp3-button-group.bp3-minimal .bp3-button.bp3-intent-success{
        color:#3dcc91; }
        .bp3-dark .bp3-button-group.bp3-minimal .bp3-button.bp3-intent-success:hover{
          background:rgba(15, 153, 96, 0.2);
          color:#3dcc91; }
        .bp3-dark .bp3-button-group.bp3-minimal .bp3-button.bp3-intent-success:active, .bp3-dark .bp3-button-group.bp3-minimal .bp3-button.bp3-intent-success.bp3-active{
          background:rgba(15, 153, 96, 0.3);
          color:#3dcc91; }
        .bp3-dark .bp3-button-group.bp3-minimal .bp3-button.bp3-intent-success:disabled, .bp3-dark .bp3-button-group.bp3-minimal .bp3-button.bp3-intent-success.bp3-disabled{
          background:none;
          color:rgba(61, 204, 145, 0.5); }
          .bp3-dark .bp3-button-group.bp3-minimal .bp3-button.bp3-intent-success:disabled.bp3-active, .bp3-dark .bp3-button-group.bp3-minimal .bp3-button.bp3-intent-success.bp3-disabled.bp3-active{
            background:rgba(15, 153, 96, 0.3); }
    .bp3-button-group.bp3-minimal .bp3-button.bp3-intent-warning{
      color:#bf7326; }
      .bp3-button-group.bp3-minimal .bp3-button.bp3-intent-warning:hover, .bp3-button-group.bp3-minimal .bp3-button.bp3-intent-warning:active, .bp3-button-group.bp3-minimal .bp3-button.bp3-intent-warning.bp3-active{
        background:none;
        -webkit-box-shadow:none;
                box-shadow:none;
        color:#bf7326; }
      .bp3-button-group.bp3-minimal .bp3-button.bp3-intent-warning:hover{
        background:rgba(217, 130, 43, 0.15);
        color:#bf7326; }
      .bp3-button-group.bp3-minimal .bp3-button.bp3-intent-warning:active, .bp3-button-group.bp3-minimal .bp3-button.bp3-intent-warning.bp3-active{
        background:rgba(217, 130, 43, 0.3);
        color:#bf7326; }
      .bp3-button-group.bp3-minimal .bp3-button.bp3-intent-warning:disabled, .bp3-button-group.bp3-minimal .bp3-button.bp3-intent-warning.bp3-disabled{
        background:none;
        color:rgba(191, 115, 38, 0.5); }
        .bp3-button-group.bp3-minimal .bp3-button.bp3-intent-warning:disabled.bp3-active, .bp3-button-group.bp3-minimal .bp3-button.bp3-intent-warning.bp3-disabled.bp3-active{
          background:rgba(217, 130, 43, 0.3); }
      .bp3-button-group.bp3-minimal .bp3-button.bp3-intent-warning .bp3-button-spinner .bp3-spinner-head{
        stroke:#bf7326; }
      .bp3-dark .bp3-button-group.bp3-minimal .bp3-button.bp3-intent-warning{
        color:#ffb366; }
        .bp3-dark .bp3-button-group.bp3-minimal .bp3-button.bp3-intent-warning:hover{
          background:rgba(217, 130, 43, 0.2);
          color:#ffb366; }
        .bp3-dark .bp3-button-group.bp3-minimal .bp3-button.bp3-intent-warning:active, .bp3-dark .bp3-button-group.bp3-minimal .bp3-button.bp3-intent-warning.bp3-active{
          background:rgba(217, 130, 43, 0.3);
          color:#ffb366; }
        .bp3-dark .bp3-button-group.bp3-minimal .bp3-button.bp3-intent-warning:disabled, .bp3-dark .bp3-button-group.bp3-minimal .bp3-button.bp3-intent-warning.bp3-disabled{
          background:none;
          color:rgba(255, 179, 102, 0.5); }
          .bp3-dark .bp3-button-group.bp3-minimal .bp3-button.bp3-intent-warning:disabled.bp3-active, .bp3-dark .bp3-button-group.bp3-minimal .bp3-button.bp3-intent-warning.bp3-disabled.bp3-active{
            background:rgba(217, 130, 43, 0.3); }
    .bp3-button-group.bp3-minimal .bp3-button.bp3-intent-danger{
      color:#c23030; }
      .bp3-button-group.bp3-minimal .bp3-button.bp3-intent-danger:hover, .bp3-button-group.bp3-minimal .bp3-button.bp3-intent-danger:active, .bp3-button-group.bp3-minimal .bp3-button.bp3-intent-danger.bp3-active{
        background:none;
        -webkit-box-shadow:none;
                box-shadow:none;
        color:#c23030; }
      .bp3-button-group.bp3-minimal .bp3-button.bp3-intent-danger:hover{
        background:rgba(219, 55, 55, 0.15);
        color:#c23030; }
      .bp3-button-group.bp3-minimal .bp3-button.bp3-intent-danger:active, .bp3-button-group.bp3-minimal .bp3-button.bp3-intent-danger.bp3-active{
        background:rgba(219, 55, 55, 0.3);
        color:#c23030; }
      .bp3-button-group.bp3-minimal .bp3-button.bp3-intent-danger:disabled, .bp3-button-group.bp3-minimal .bp3-button.bp3-intent-danger.bp3-disabled{
        background:none;
        color:rgba(194, 48, 48, 0.5); }
        .bp3-button-group.bp3-minimal .bp3-button.bp3-intent-danger:disabled.bp3-active, .bp3-button-group.bp3-minimal .bp3-button.bp3-intent-danger.bp3-disabled.bp3-active{
          background:rgba(219, 55, 55, 0.3); }
      .bp3-button-group.bp3-minimal .bp3-button.bp3-intent-danger .bp3-button-spinner .bp3-spinner-head{
        stroke:#c23030; }
      .bp3-dark .bp3-button-group.bp3-minimal .bp3-button.bp3-intent-danger{
        color:#ff7373; }
        .bp3-dark .bp3-button-group.bp3-minimal .bp3-button.bp3-intent-danger:hover{
          background:rgba(219, 55, 55, 0.2);
          color:#ff7373; }
        .bp3-dark .bp3-button-group.bp3-minimal .bp3-button.bp3-intent-danger:active, .bp3-dark .bp3-button-group.bp3-minimal .bp3-button.bp3-intent-danger.bp3-active{
          background:rgba(219, 55, 55, 0.3);
          color:#ff7373; }
        .bp3-dark .bp3-button-group.bp3-minimal .bp3-button.bp3-intent-danger:disabled, .bp3-dark .bp3-button-group.bp3-minimal .bp3-button.bp3-intent-danger.bp3-disabled{
          background:none;
          color:rgba(255, 115, 115, 0.5); }
          .bp3-dark .bp3-button-group.bp3-minimal .bp3-button.bp3-intent-danger:disabled.bp3-active, .bp3-dark .bp3-button-group.bp3-minimal .bp3-button.bp3-intent-danger.bp3-disabled.bp3-active{
            background:rgba(219, 55, 55, 0.3); }
  .bp3-button-group .bp3-popover-wrapper,
  .bp3-button-group .bp3-popover-target{
    display:-webkit-box;
    display:-ms-flexbox;
    display:flex;
    -webkit-box-flex:1;
        -ms-flex:1 1 auto;
            flex:1 1 auto; }
  .bp3-button-group.bp3-fill{
    display:-webkit-box;
    display:-ms-flexbox;
    display:flex;
    width:100%; }
  .bp3-button-group .bp3-button.bp3-fill,
  .bp3-button-group.bp3-fill .bp3-button:not(.bp3-fixed){
    -webkit-box-flex:1;
        -ms-flex:1 1 auto;
            flex:1 1 auto; }
  .bp3-button-group.bp3-vertical{
    -webkit-box-align:stretch;
        -ms-flex-align:stretch;
            align-items:stretch;
    -webkit-box-orient:vertical;
    -webkit-box-direction:normal;
        -ms-flex-direction:column;
            flex-direction:column;
    vertical-align:top; }
    .bp3-button-group.bp3-vertical.bp3-fill{
      height:100%;
      width:unset; }
    .bp3-button-group.bp3-vertical .bp3-button{
      margin-right:0 !important;
      width:100%; }
    .bp3-button-group.bp3-vertical:not(.bp3-minimal) > .bp3-popover-wrapper:first-child .bp3-button,
    .bp3-button-group.bp3-vertical:not(.bp3-minimal) > .bp3-button:first-child{
      border-radius:3px 3px 0 0; }
    .bp3-button-group.bp3-vertical:not(.bp3-minimal) > .bp3-popover-wrapper:last-child .bp3-button,
    .bp3-button-group.bp3-vertical:not(.bp3-minimal) > .bp3-button:last-child{
      border-radius:0 0 3px 3px; }
    .bp3-button-group.bp3-vertical:not(.bp3-minimal) > .bp3-popover-wrapper:not(:last-child) .bp3-button,
    .bp3-button-group.bp3-vertical:not(.bp3-minimal) > .bp3-button:not(:last-child){
      margin-bottom:-1px; }
  .bp3-button-group.bp3-align-left .bp3-button{
    text-align:left; }
  .bp3-dark .bp3-button-group:not(.bp3-minimal) > .bp3-popover-wrapper:not(:last-child) .bp3-button,
  .bp3-dark .bp3-button-group:not(.bp3-minimal) > .bp3-button:not(:last-child){
    margin-right:1px; }
  .bp3-dark .bp3-button-group.bp3-vertical > .bp3-popover-wrapper:not(:last-child) .bp3-button,
  .bp3-dark .bp3-button-group.bp3-vertical > .bp3-button:not(:last-child){
    margin-bottom:1px; }
.bp3-callout{
  font-size:14px;
  line-height:1.5;
  background-color:rgba(138, 155, 168, 0.15);
  border-radius:3px;
  padding:10px 12px 9px;
  position:relative;
  width:100%; }
  .bp3-callout[class*="bp3-icon-"]{
    padding-left:40px; }
    .bp3-callout[class*="bp3-icon-"]::before{
      font-family:"Icons20", sans-serif;
      font-size:20px;
      font-style:normal;
      font-weight:400;
      line-height:1;
      -moz-osx-font-smoothing:grayscale;
      -webkit-font-smoothing:antialiased;
      color:#5c7080;
      left:10px;
      position:absolute;
      top:10px; }
  .bp3-callout.bp3-callout-icon{
    padding-left:40px; }
    .bp3-callout.bp3-callout-icon > .bp3-icon:first-child{
      color:#5c7080;
      left:10px;
      position:absolute;
      top:10px; }
  .bp3-callout .bp3-heading{
    line-height:20px;
    margin-bottom:5px;
    margin-top:0; }
    .bp3-callout .bp3-heading:last-child{
      margin-bottom:0; }
  .bp3-dark .bp3-callout{
    background-color:rgba(138, 155, 168, 0.2); }
    .bp3-dark .bp3-callout[class*="bp3-icon-"]::before{
      color:#a7b6c2; }
  .bp3-callout.bp3-intent-primary{
    background-color:rgba(19, 124, 189, 0.15); }
    .bp3-callout.bp3-intent-primary[class*="bp3-icon-"]::before,
    .bp3-callout.bp3-intent-primary > .bp3-icon:first-child,
    .bp3-callout.bp3-intent-primary .bp3-heading{
      color:#106ba3; }
    .bp3-dark .bp3-callout.bp3-intent-primary{
      background-color:rgba(19, 124, 189, 0.25); }
      .bp3-dark .bp3-callout.bp3-intent-primary[class*="bp3-icon-"]::before,
      .bp3-dark .bp3-callout.bp3-intent-primary > .bp3-icon:first-child,
      .bp3-dark .bp3-callout.bp3-intent-primary .bp3-heading{
        color:#48aff0; }
  .bp3-callout.bp3-intent-success{
    background-color:rgba(15, 153, 96, 0.15); }
    .bp3-callout.bp3-intent-success[class*="bp3-icon-"]::before,
    .bp3-callout.bp3-intent-success > .bp3-icon:first-child,
    .bp3-callout.bp3-intent-success .bp3-heading{
      color:#0d8050; }
    .bp3-dark .bp3-callout.bp3-intent-success{
      background-color:rgba(15, 153, 96, 0.25); }
      .bp3-dark .bp3-callout.bp3-intent-success[class*="bp3-icon-"]::before,
      .bp3-dark .bp3-callout.bp3-intent-success > .bp3-icon:first-child,
      .bp3-dark .bp3-callout.bp3-intent-success .bp3-heading{
        color:#3dcc91; }
  .bp3-callout.bp3-intent-warning{
    background-color:rgba(217, 130, 43, 0.15); }
    .bp3-callout.bp3-intent-warning[class*="bp3-icon-"]::before,
    .bp3-callout.bp3-intent-warning > .bp3-icon:first-child,
    .bp3-callout.bp3-intent-warning .bp3-heading{
      color:#bf7326; }
    .bp3-dark .bp3-callout.bp3-intent-warning{
      background-color:rgba(217, 130, 43, 0.25); }
      .bp3-dark .bp3-callout.bp3-intent-warning[class*="bp3-icon-"]::before,
      .bp3-dark .bp3-callout.bp3-intent-warning > .bp3-icon:first-child,
      .bp3-dark .bp3-callout.bp3-intent-warning .bp3-heading{
        color:#ffb366; }
  .bp3-callout.bp3-intent-danger{
    background-color:rgba(219, 55, 55, 0.15); }
    .bp3-callout.bp3-intent-danger[class*="bp3-icon-"]::before,
    .bp3-callout.bp3-intent-danger > .bp3-icon:first-child,
    .bp3-callout.bp3-intent-danger .bp3-heading{
      color:#c23030; }
    .bp3-dark .bp3-callout.bp3-intent-danger{
      background-color:rgba(219, 55, 55, 0.25); }
      .bp3-dark .bp3-callout.bp3-intent-danger[class*="bp3-icon-"]::before,
      .bp3-dark .bp3-callout.bp3-intent-danger > .bp3-icon:first-child,
      .bp3-dark .bp3-callout.bp3-intent-danger .bp3-heading{
        color:#ff7373; }
  .bp3-running-text .bp3-callout{
    margin:20px 0; }
.bp3-card{
  background-color:#ffffff;
  border-radius:3px;
  -webkit-box-shadow:0 0 0 1px rgba(16, 22, 26, 0.15), 0 0 0 rgba(16, 22, 26, 0), 0 0 0 rgba(16, 22, 26, 0);
          box-shadow:0 0 0 1px rgba(16, 22, 26, 0.15), 0 0 0 rgba(16, 22, 26, 0), 0 0 0 rgba(16, 22, 26, 0);
  padding:20px;
  -webkit-transition:-webkit-transform 200ms cubic-bezier(0.4, 1, 0.75, 0.9), -webkit-box-shadow 200ms cubic-bezier(0.4, 1, 0.75, 0.9);
  transition:-webkit-transform 200ms cubic-bezier(0.4, 1, 0.75, 0.9), -webkit-box-shadow 200ms cubic-bezier(0.4, 1, 0.75, 0.9);
  transition:transform 200ms cubic-bezier(0.4, 1, 0.75, 0.9), box-shadow 200ms cubic-bezier(0.4, 1, 0.75, 0.9);
  transition:transform 200ms cubic-bezier(0.4, 1, 0.75, 0.9), box-shadow 200ms cubic-bezier(0.4, 1, 0.75, 0.9), -webkit-transform 200ms cubic-bezier(0.4, 1, 0.75, 0.9), -webkit-box-shadow 200ms cubic-bezier(0.4, 1, 0.75, 0.9); }
  .bp3-card.bp3-dark,
  .bp3-dark .bp3-card{
    background-color:#30404d;
    -webkit-box-shadow:0 0 0 1px rgba(16, 22, 26, 0.4), 0 0 0 rgba(16, 22, 26, 0), 0 0 0 rgba(16, 22, 26, 0);
            box-shadow:0 0 0 1px rgba(16, 22, 26, 0.4), 0 0 0 rgba(16, 22, 26, 0), 0 0 0 rgba(16, 22, 26, 0); }

.bp3-elevation-0{
  -webkit-box-shadow:0 0 0 1px rgba(16, 22, 26, 0.15), 0 0 0 rgba(16, 22, 26, 0), 0 0 0 rgba(16, 22, 26, 0);
          box-shadow:0 0 0 1px rgba(16, 22, 26, 0.15), 0 0 0 rgba(16, 22, 26, 0), 0 0 0 rgba(16, 22, 26, 0); }
  .bp3-elevation-0.bp3-dark,
  .bp3-dark .bp3-elevation-0{
    -webkit-box-shadow:0 0 0 1px rgba(16, 22, 26, 0.4), 0 0 0 rgba(16, 22, 26, 0), 0 0 0 rgba(16, 22, 26, 0);
            box-shadow:0 0 0 1px rgba(16, 22, 26, 0.4), 0 0 0 rgba(16, 22, 26, 0), 0 0 0 rgba(16, 22, 26, 0); }

.bp3-elevation-1{
  -webkit-box-shadow:0 0 0 1px rgba(16, 22, 26, 0.1), 0 0 0 rgba(16, 22, 26, 0), 0 1px 1px rgba(16, 22, 26, 0.2);
          box-shadow:0 0 0 1px rgba(16, 22, 26, 0.1), 0 0 0 rgba(16, 22, 26, 0), 0 1px 1px rgba(16, 22, 26, 0.2); }
  .bp3-elevation-1.bp3-dark,
  .bp3-dark .bp3-elevation-1{
    -webkit-box-shadow:0 0 0 1px rgba(16, 22, 26, 0.2), 0 0 0 rgba(16, 22, 26, 0), 0 1px 1px rgba(16, 22, 26, 0.4);
            box-shadow:0 0 0 1px rgba(16, 22, 26, 0.2), 0 0 0 rgba(16, 22, 26, 0), 0 1px 1px rgba(16, 22, 26, 0.4); }

.bp3-elevation-2{
  -webkit-box-shadow:0 0 0 1px rgba(16, 22, 26, 0.1), 0 1px 1px rgba(16, 22, 26, 0.2), 0 2px 6px rgba(16, 22, 26, 0.2);
          box-shadow:0 0 0 1px rgba(16, 22, 26, 0.1), 0 1px 1px rgba(16, 22, 26, 0.2), 0 2px 6px rgba(16, 22, 26, 0.2); }
  .bp3-elevation-2.bp3-dark,
  .bp3-dark .bp3-elevation-2{
    -webkit-box-shadow:0 0 0 1px rgba(16, 22, 26, 0.2), 0 1px 1px rgba(16, 22, 26, 0.4), 0 2px 6px rgba(16, 22, 26, 0.4);
            box-shadow:0 0 0 1px rgba(16, 22, 26, 0.2), 0 1px 1px rgba(16, 22, 26, 0.4), 0 2px 6px rgba(16, 22, 26, 0.4); }

.bp3-elevation-3{
  -webkit-box-shadow:0 0 0 1px rgba(16, 22, 26, 0.1), 0 2px 4px rgba(16, 22, 26, 0.2), 0 8px 24px rgba(16, 22, 26, 0.2);
          box-shadow:0 0 0 1px rgba(16, 22, 26, 0.1), 0 2px 4px rgba(16, 22, 26, 0.2), 0 8px 24px rgba(16, 22, 26, 0.2); }
  .bp3-elevation-3.bp3-dark,
  .bp3-dark .bp3-elevation-3{
    -webkit-box-shadow:0 0 0 1px rgba(16, 22, 26, 0.2), 0 2px 4px rgba(16, 22, 26, 0.4), 0 8px 24px rgba(16, 22, 26, 0.4);
            box-shadow:0 0 0 1px rgba(16, 22, 26, 0.2), 0 2px 4px rgba(16, 22, 26, 0.4), 0 8px 24px rgba(16, 22, 26, 0.4); }

.bp3-elevation-4{
  -webkit-box-shadow:0 0 0 1px rgba(16, 22, 26, 0.1), 0 4px 8px rgba(16, 22, 26, 0.2), 0 18px 46px 6px rgba(16, 22, 26, 0.2);
          box-shadow:0 0 0 1px rgba(16, 22, 26, 0.1), 0 4px 8px rgba(16, 22, 26, 0.2), 0 18px 46px 6px rgba(16, 22, 26, 0.2); }
  .bp3-elevation-4.bp3-dark,
  .bp3-dark .bp3-elevation-4{
    -webkit-box-shadow:0 0 0 1px rgba(16, 22, 26, 0.2), 0 4px 8px rgba(16, 22, 26, 0.4), 0 18px 46px 6px rgba(16, 22, 26, 0.4);
            box-shadow:0 0 0 1px rgba(16, 22, 26, 0.2), 0 4px 8px rgba(16, 22, 26, 0.4), 0 18px 46px 6px rgba(16, 22, 26, 0.4); }

.bp3-card.bp3-interactive:hover{
  -webkit-box-shadow:0 0 0 1px rgba(16, 22, 26, 0.1), 0 2px 4px rgba(16, 22, 26, 0.2), 0 8px 24px rgba(16, 22, 26, 0.2);
          box-shadow:0 0 0 1px rgba(16, 22, 26, 0.1), 0 2px 4px rgba(16, 22, 26, 0.2), 0 8px 24px rgba(16, 22, 26, 0.2);
  cursor:pointer; }
  .bp3-card.bp3-interactive:hover.bp3-dark,
  .bp3-dark .bp3-card.bp3-interactive:hover{
    -webkit-box-shadow:0 0 0 1px rgba(16, 22, 26, 0.2), 0 2px 4px rgba(16, 22, 26, 0.4), 0 8px 24px rgba(16, 22, 26, 0.4);
            box-shadow:0 0 0 1px rgba(16, 22, 26, 0.2), 0 2px 4px rgba(16, 22, 26, 0.4), 0 8px 24px rgba(16, 22, 26, 0.4); }

.bp3-card.bp3-interactive:active{
  -webkit-box-shadow:0 0 0 1px rgba(16, 22, 26, 0.1), 0 0 0 rgba(16, 22, 26, 0), 0 1px 1px rgba(16, 22, 26, 0.2);
          box-shadow:0 0 0 1px rgba(16, 22, 26, 0.1), 0 0 0 rgba(16, 22, 26, 0), 0 1px 1px rgba(16, 22, 26, 0.2);
  opacity:0.9;
  -webkit-transition-duration:0;
          transition-duration:0; }
  .bp3-card.bp3-interactive:active.bp3-dark,
  .bp3-dark .bp3-card.bp3-interactive:active{
    -webkit-box-shadow:0 0 0 1px rgba(16, 22, 26, 0.2), 0 0 0 rgba(16, 22, 26, 0), 0 1px 1px rgba(16, 22, 26, 0.4);
            box-shadow:0 0 0 1px rgba(16, 22, 26, 0.2), 0 0 0 rgba(16, 22, 26, 0), 0 1px 1px rgba(16, 22, 26, 0.4); }

.bp3-collapse{
  height:0;
  overflow-y:hidden;
  -webkit-transition:height 200ms cubic-bezier(0.4, 1, 0.75, 0.9);
  transition:height 200ms cubic-bezier(0.4, 1, 0.75, 0.9); }
  .bp3-collapse .bp3-collapse-body{
    -webkit-transition:-webkit-transform 200ms cubic-bezier(0.4, 1, 0.75, 0.9);
    transition:-webkit-transform 200ms cubic-bezier(0.4, 1, 0.75, 0.9);
    transition:transform 200ms cubic-bezier(0.4, 1, 0.75, 0.9);
    transition:transform 200ms cubic-bezier(0.4, 1, 0.75, 0.9), -webkit-transform 200ms cubic-bezier(0.4, 1, 0.75, 0.9); }
    .bp3-collapse .bp3-collapse-body[aria-hidden="true"]{
      display:none; }

.bp3-context-menu .bp3-popover-target{
  display:block; }

.bp3-context-menu-popover-target{
  position:fixed; }

.bp3-divider{
  border-bottom:1px solid rgba(16, 22, 26, 0.15);
  border-right:1px solid rgba(16, 22, 26, 0.15);
  margin:5px; }
  .bp3-dark .bp3-divider{
    border-color:rgba(16, 22, 26, 0.4); }
.bp3-dialog-container{
  opacity:1;
  -webkit-transform:scale(1);
          transform:scale(1);
  -webkit-box-align:center;
      -ms-flex-align:center;
          align-items:center;
  display:-webkit-box;
  display:-ms-flexbox;
  display:flex;
  -webkit-box-pack:center;
      -ms-flex-pack:center;
          justify-content:center;
  min-height:100%;
  pointer-events:none;
  -webkit-user-select:none;
     -moz-user-select:none;
      -ms-user-select:none;
          user-select:none;
  width:100%; }
  .bp3-dialog-container.bp3-overlay-enter > .bp3-dialog, .bp3-dialog-container.bp3-overlay-appear > .bp3-dialog{
    opacity:0;
    -webkit-transform:scale(0.5);
            transform:scale(0.5); }
  .bp3-dialog-container.bp3-overlay-enter-active > .bp3-dialog, .bp3-dialog-container.bp3-overlay-appear-active > .bp3-dialog{
    opacity:1;
    -webkit-transform:scale(1);
            transform:scale(1);
    -webkit-transition-delay:0;
            transition-delay:0;
    -webkit-transition-duration:300ms;
            transition-duration:300ms;
    -webkit-transition-property:opacity, -webkit-transform;
    transition-property:opacity, -webkit-transform;
    transition-property:opacity, transform;
    transition-property:opacity, transform, -webkit-transform;
    -webkit-transition-timing-function:cubic-bezier(0.54, 1.12, 0.38, 1.11);
            transition-timing-function:cubic-bezier(0.54, 1.12, 0.38, 1.11); }
  .bp3-dialog-container.bp3-overlay-exit > .bp3-dialog{
    opacity:1;
    -webkit-transform:scale(1);
            transform:scale(1); }
  .bp3-dialog-container.bp3-overlay-exit-active > .bp3-dialog{
    opacity:0;
    -webkit-transform:scale(0.5);
            transform:scale(0.5);
    -webkit-transition-delay:0;
            transition-delay:0;
    -webkit-transition-duration:300ms;
            transition-duration:300ms;
    -webkit-transition-property:opacity, -webkit-transform;
    transition-property:opacity, -webkit-transform;
    transition-property:opacity, transform;
    transition-property:opacity, transform, -webkit-transform;
    -webkit-transition-timing-function:cubic-bezier(0.54, 1.12, 0.38, 1.11);
            transition-timing-function:cubic-bezier(0.54, 1.12, 0.38, 1.11); }

.bp3-dialog{
  background:#ebf1f5;
  border-radius:6px;
  -webkit-box-shadow:0 0 0 1px rgba(16, 22, 26, 0.1), 0 4px 8px rgba(16, 22, 26, 0.2), 0 18px 46px 6px rgba(16, 22, 26, 0.2);
          box-shadow:0 0 0 1px rgba(16, 22, 26, 0.1), 0 4px 8px rgba(16, 22, 26, 0.2), 0 18px 46px 6px rgba(16, 22, 26, 0.2);
  display:-webkit-box;
  display:-ms-flexbox;
  display:flex;
  -webkit-box-orient:vertical;
  -webkit-box-direction:normal;
      -ms-flex-direction:column;
          flex-direction:column;
  margin:30px 0;
  padding-bottom:20px;
  pointer-events:all;
  -webkit-user-select:text;
     -moz-user-select:text;
      -ms-user-select:text;
          user-select:text;
  width:500px; }
  .bp3-dialog:focus{
    outline:0; }
  .bp3-dialog.bp3-dark,
  .bp3-dark .bp3-dialog{
    background:#293742;
    -webkit-box-shadow:0 0 0 1px rgba(16, 22, 26, 0.2), 0 4px 8px rgba(16, 22, 26, 0.4), 0 18px 46px 6px rgba(16, 22, 26, 0.4);
            box-shadow:0 0 0 1px rgba(16, 22, 26, 0.2), 0 4px 8px rgba(16, 22, 26, 0.4), 0 18px 46px 6px rgba(16, 22, 26, 0.4);
    color:#f5f8fa; }

.bp3-dialog-header{
  -webkit-box-align:center;
      -ms-flex-align:center;
          align-items:center;
  background:#ffffff;
  border-radius:6px 6px 0 0;
  -webkit-box-shadow:0 1px 0 rgba(16, 22, 26, 0.15);
          box-shadow:0 1px 0 rgba(16, 22, 26, 0.15);
  display:-webkit-box;
  display:-ms-flexbox;
  display:flex;
  -webkit-box-flex:0;
      -ms-flex:0 0 auto;
          flex:0 0 auto;
  min-height:40px;
  padding-left:20px;
  padding-right:5px;
  z-index:30; }
  .bp3-dialog-header .bp3-icon-large,
  .bp3-dialog-header .bp3-icon{
    color:#5c7080;
    -webkit-box-flex:0;
        -ms-flex:0 0 auto;
            flex:0 0 auto;
    margin-right:10px; }
  .bp3-dialog-header .bp3-heading{
    overflow:hidden;
    text-overflow:ellipsis;
    white-space:nowrap;
    word-wrap:normal;
    -webkit-box-flex:1;
        -ms-flex:1 1 auto;
            flex:1 1 auto;
    line-height:inherit;
    margin:0; }
    .bp3-dialog-header .bp3-heading:last-child{
      margin-right:20px; }
  .bp3-dark .bp3-dialog-header{
    background:#30404d;
    -webkit-box-shadow:0 1px 0 rgba(16, 22, 26, 0.4);
            box-shadow:0 1px 0 rgba(16, 22, 26, 0.4); }
    .bp3-dark .bp3-dialog-header .bp3-icon-large,
    .bp3-dark .bp3-dialog-header .bp3-icon{
      color:#a7b6c2; }

.bp3-dialog-body{
  -webkit-box-flex:1;
      -ms-flex:1 1 auto;
          flex:1 1 auto;
  line-height:18px;
  margin:20px; }

.bp3-dialog-footer{
  -webkit-box-flex:0;
      -ms-flex:0 0 auto;
          flex:0 0 auto;
  margin:0 20px; }

.bp3-dialog-footer-actions{
  display:-webkit-box;
  display:-ms-flexbox;
  display:flex;
  -webkit-box-pack:end;
      -ms-flex-pack:end;
          justify-content:flex-end; }
  .bp3-dialog-footer-actions .bp3-button{
    margin-left:10px; }
.bp3-multistep-dialog-panels{
  display:-webkit-box;
  display:-ms-flexbox;
  display:flex; }

.bp3-multistep-dialog-left-panel{
  display:-webkit-box;
  display:-ms-flexbox;
  display:flex;
  -webkit-box-flex:1;
      -ms-flex:1;
          flex:1;
  -webkit-box-orient:vertical;
  -webkit-box-direction:normal;
      -ms-flex-direction:column;
          flex-direction:column; }
  .bp3-dark .bp3-multistep-dialog-left-panel{
    background:#202b33; }

.bp3-multistep-dialog-right-panel{
  background-color:#f5f8fa;
  border-left:1px solid rgba(16, 22, 26, 0.15);
  border-radius:0 0 6px 0;
  -webkit-box-flex:3;
      -ms-flex:3;
          flex:3;
  min-width:0; }
  .bp3-dark .bp3-multistep-dialog-right-panel{
    background-color:#293742;
    border-left:1px solid rgba(16, 22, 26, 0.4); }

.bp3-multistep-dialog-footer{
  background-color:#ffffff;
  border-radius:0 0 6px 0;
  border-top:1px solid rgba(16, 22, 26, 0.15);
  padding:10px; }
  .bp3-dark .bp3-multistep-dialog-footer{
    background:#30404d;
    border-top:1px solid rgba(16, 22, 26, 0.4); }

.bp3-dialog-step-container{
  background-color:#f5f8fa;
  border-bottom:1px solid rgba(16, 22, 26, 0.15); }
  .bp3-dark .bp3-dialog-step-container{
    background:#293742;
    border-bottom:1px solid rgba(16, 22, 26, 0.4); }
  .bp3-dialog-step-container.bp3-dialog-step-viewed{
    background-color:#ffffff; }
    .bp3-dark .bp3-dialog-step-container.bp3-dialog-step-viewed{
      background:#30404d; }

.bp3-dialog-step{
  -webkit-box-align:center;
      -ms-flex-align:center;
          align-items:center;
  background-color:#f5f8fa;
  border-radius:6px;
  cursor:not-allowed;
  display:-webkit-box;
  display:-ms-flexbox;
  display:flex;
  margin:4px;
  padding:6px 14px; }
  .bp3-dark .bp3-dialog-step{
    background:#293742; }
  .bp3-dialog-step-viewed .bp3-dialog-step{
    background-color:#ffffff;
    cursor:pointer; }
    .bp3-dark .bp3-dialog-step-viewed .bp3-dialog-step{
      background:#30404d; }
  .bp3-dialog-step:hover{
    background-color:#f5f8fa; }
    .bp3-dark .bp3-dialog-step:hover{
      background:#293742; }

.bp3-dialog-step-icon{
  -webkit-box-align:center;
      -ms-flex-align:center;
          align-items:center;
  background-color:rgba(92, 112, 128, 0.6);
  border-radius:50%;
  color:#ffffff;
  display:-webkit-box;
  display:-ms-flexbox;
  display:flex;
  height:25px;
  -webkit-box-pack:center;
      -ms-flex-pack:center;
          justify-content:center;
  width:25px; }
  .bp3-dark .bp3-dialog-step-icon{
    background-color:rgba(167, 182, 194, 0.6); }
  .bp3-active.bp3-dialog-step-viewed .bp3-dialog-step-icon{
    background-color:#2b95d6; }
  .bp3-dialog-step-viewed .bp3-dialog-step-icon{
    background-color:#8a9ba8; }

.bp3-dialog-step-title{
  color:rgba(92, 112, 128, 0.6);
  -webkit-box-flex:1;
      -ms-flex:1;
          flex:1;
  padding-left:10px; }
  .bp3-dark .bp3-dialog-step-title{
    color:rgba(167, 182, 194, 0.6); }
  .bp3-active.bp3-dialog-step-viewed .bp3-dialog-step-title{
    color:#2b95d6; }
  .bp3-dialog-step-viewed:not(.bp3-active) .bp3-dialog-step-title{
    color:#182026; }
    .bp3-dark .bp3-dialog-step-viewed:not(.bp3-active) .bp3-dialog-step-title{
      color:#f5f8fa; }
.bp3-drawer{
  background:#ffffff;
  -webkit-box-shadow:0 0 0 1px rgba(16, 22, 26, 0.1), 0 4px 8px rgba(16, 22, 26, 0.2), 0 18px 46px 6px rgba(16, 22, 26, 0.2);
          box-shadow:0 0 0 1px rgba(16, 22, 26, 0.1), 0 4px 8px rgba(16, 22, 26, 0.2), 0 18px 46px 6px rgba(16, 22, 26, 0.2);
  display:-webkit-box;
  display:-ms-flexbox;
  display:flex;
  -webkit-box-orient:vertical;
  -webkit-box-direction:normal;
      -ms-flex-direction:column;
          flex-direction:column;
  margin:0;
  padding:0; }
  .bp3-drawer:focus{
    outline:0; }
  .bp3-drawer.bp3-position-top{
    height:50%;
    left:0;
    right:0;
    top:0; }
    .bp3-drawer.bp3-position-top.bp3-overlay-enter, .bp3-drawer.bp3-position-top.bp3-overlay-appear{
      -webkit-transform:translateY(-100%);
              transform:translateY(-100%); }
    .bp3-drawer.bp3-position-top.bp3-overlay-enter-active, .bp3-drawer.bp3-position-top.bp3-overlay-appear-active{
      -webkit-transform:translateY(0);
              transform:translateY(0);
      -webkit-transition-delay:0;
              transition-delay:0;
      -webkit-transition-duration:200ms;
              transition-duration:200ms;
      -webkit-transition-property:-webkit-transform;
      transition-property:-webkit-transform;
      transition-property:transform;
      transition-property:transform, -webkit-transform;
      -webkit-transition-timing-function:cubic-bezier(0.4, 1, 0.75, 0.9);
              transition-timing-function:cubic-bezier(0.4, 1, 0.75, 0.9); }
    .bp3-drawer.bp3-position-top.bp3-overlay-exit{
      -webkit-transform:translateY(0);
              transform:translateY(0); }
    .bp3-drawer.bp3-position-top.bp3-overlay-exit-active{
      -webkit-transform:translateY(-100%);
              transform:translateY(-100%);
      -webkit-transition-delay:0;
              transition-delay:0;
      -webkit-transition-duration:100ms;
              transition-duration:100ms;
      -webkit-transition-property:-webkit-transform;
      transition-property:-webkit-transform;
      transition-property:transform;
      transition-property:transform, -webkit-transform;
      -webkit-transition-timing-function:cubic-bezier(0.4, 1, 0.75, 0.9);
              transition-timing-function:cubic-bezier(0.4, 1, 0.75, 0.9); }
  .bp3-drawer.bp3-position-bottom{
    bottom:0;
    height:50%;
    left:0;
    right:0; }
    .bp3-drawer.bp3-position-bottom.bp3-overlay-enter, .bp3-drawer.bp3-position-bottom.bp3-overlay-appear{
      -webkit-transform:translateY(100%);
              transform:translateY(100%); }
    .bp3-drawer.bp3-position-bottom.bp3-overlay-enter-active, .bp3-drawer.bp3-position-bottom.bp3-overlay-appear-active{
      -webkit-transform:translateY(0);
              transform:translateY(0);
      -webkit-transition-delay:0;
              transition-delay:0;
      -webkit-transition-duration:200ms;
              transition-duration:200ms;
      -webkit-transition-property:-webkit-transform;
      transition-property:-webkit-transform;
      transition-property:transform;
      transition-property:transform, -webkit-transform;
      -webkit-transition-timing-function:cubic-bezier(0.4, 1, 0.75, 0.9);
              transition-timing-function:cubic-bezier(0.4, 1, 0.75, 0.9); }
    .bp3-drawer.bp3-position-bottom.bp3-overlay-exit{
      -webkit-transform:translateY(0);
              transform:translateY(0); }
    .bp3-drawer.bp3-position-bottom.bp3-overlay-exit-active{
      -webkit-transform:translateY(100%);
              transform:translateY(100%);
      -webkit-transition-delay:0;
              transition-delay:0;
      -webkit-transition-duration:100ms;
              transition-duration:100ms;
      -webkit-transition-property:-webkit-transform;
      transition-property:-webkit-transform;
      transition-property:transform;
      transition-property:transform, -webkit-transform;
      -webkit-transition-timing-function:cubic-bezier(0.4, 1, 0.75, 0.9);
              transition-timing-function:cubic-bezier(0.4, 1, 0.75, 0.9); }
  .bp3-drawer.bp3-position-left{
    bottom:0;
    left:0;
    top:0;
    width:50%; }
    .bp3-drawer.bp3-position-left.bp3-overlay-enter, .bp3-drawer.bp3-position-left.bp3-overlay-appear{
      -webkit-transform:translateX(-100%);
              transform:translateX(-100%); }
    .bp3-drawer.bp3-position-left.bp3-overlay-enter-active, .bp3-drawer.bp3-position-left.bp3-overlay-appear-active{
      -webkit-transform:translateX(0);
              transform:translateX(0);
      -webkit-transition-delay:0;
              transition-delay:0;
      -webkit-transition-duration:200ms;
              transition-duration:200ms;
      -webkit-transition-property:-webkit-transform;
      transition-property:-webkit-transform;
      transition-property:transform;
      transition-property:transform, -webkit-transform;
      -webkit-transition-timing-function:cubic-bezier(0.4, 1, 0.75, 0.9);
              transition-timing-function:cubic-bezier(0.4, 1, 0.75, 0.9); }
    .bp3-drawer.bp3-position-left.bp3-overlay-exit{
      -webkit-transform:translateX(0);
              transform:translateX(0); }
    .bp3-drawer.bp3-position-left.bp3-overlay-exit-active{
      -webkit-transform:translateX(-100%);
              transform:translateX(-100%);
      -webkit-transition-delay:0;
              transition-delay:0;
      -webkit-transition-duration:100ms;
              transition-duration:100ms;
      -webkit-transition-property:-webkit-transform;
      transition-property:-webkit-transform;
      transition-property:transform;
      transition-property:transform, -webkit-transform;
      -webkit-transition-timing-function:cubic-bezier(0.4, 1, 0.75, 0.9);
              transition-timing-function:cubic-bezier(0.4, 1, 0.75, 0.9); }
  .bp3-drawer.bp3-position-right{
    bottom:0;
    right:0;
    top:0;
    width:50%; }
    .bp3-drawer.bp3-position-right.bp3-overlay-enter, .bp3-drawer.bp3-position-right.bp3-overlay-appear{
      -webkit-transform:translateX(100%);
              transform:translateX(100%); }
    .bp3-drawer.bp3-position-right.bp3-overlay-enter-active, .bp3-drawer.bp3-position-right.bp3-overlay-appear-active{
      -webkit-transform:translateX(0);
              transform:translateX(0);
      -webkit-transition-delay:0;
              transition-delay:0;
      -webkit-transition-duration:200ms;
              transition-duration:200ms;
      -webkit-transition-property:-webkit-transform;
      transition-property:-webkit-transform;
      transition-property:transform;
      transition-property:transform, -webkit-transform;
      -webkit-transition-timing-function:cubic-bezier(0.4, 1, 0.75, 0.9);
              transition-timing-function:cubic-bezier(0.4, 1, 0.75, 0.9); }
    .bp3-drawer.bp3-position-right.bp3-overlay-exit{
      -webkit-transform:translateX(0);
              transform:translateX(0); }
    .bp3-drawer.bp3-position-right.bp3-overlay-exit-active{
      -webkit-transform:translateX(100%);
              transform:translateX(100%);
      -webkit-transition-delay:0;
              transition-delay:0;
      -webkit-transition-duration:100ms;
              transition-duration:100ms;
      -webkit-transition-property:-webkit-transform;
      transition-property:-webkit-transform;
      transition-property:transform;
      transition-property:transform, -webkit-transform;
      -webkit-transition-timing-function:cubic-bezier(0.4, 1, 0.75, 0.9);
              transition-timing-function:cubic-bezier(0.4, 1, 0.75, 0.9); }
  .bp3-drawer:not(.bp3-position-top):not(.bp3-position-bottom):not(.bp3-position-left):not(
  .bp3-position-right):not(.bp3-vertical){
    bottom:0;
    right:0;
    top:0;
    width:50%; }
    .bp3-drawer:not(.bp3-position-top):not(.bp3-position-bottom):not(.bp3-position-left):not(
    .bp3-position-right):not(.bp3-vertical).bp3-overlay-enter, .bp3-drawer:not(.bp3-position-top):not(.bp3-position-bottom):not(.bp3-position-left):not(
    .bp3-position-right):not(.bp3-vertical).bp3-overlay-appear{
      -webkit-transform:translateX(100%);
              transform:translateX(100%); }
    .bp3-drawer:not(.bp3-position-top):not(.bp3-position-bottom):not(.bp3-position-left):not(
    .bp3-position-right):not(.bp3-vertical).bp3-overlay-enter-active, .bp3-drawer:not(.bp3-position-top):not(.bp3-position-bottom):not(.bp3-position-left):not(
    .bp3-position-right):not(.bp3-vertical).bp3-overlay-appear-active{
      -webkit-transform:translateX(0);
              transform:translateX(0);
      -webkit-transition-delay:0;
              transition-delay:0;
      -webkit-transition-duration:200ms;
              transition-duration:200ms;
      -webkit-transition-property:-webkit-transform;
      transition-property:-webkit-transform;
      transition-property:transform;
      transition-property:transform, -webkit-transform;
      -webkit-transition-timing-function:cubic-bezier(0.4, 1, 0.75, 0.9);
              transition-timing-function:cubic-bezier(0.4, 1, 0.75, 0.9); }
    .bp3-drawer:not(.bp3-position-top):not(.bp3-position-bottom):not(.bp3-position-left):not(
    .bp3-position-right):not(.bp3-vertical).bp3-overlay-exit{
      -webkit-transform:translateX(0);
              transform:translateX(0); }
    .bp3-drawer:not(.bp3-position-top):not(.bp3-position-bottom):not(.bp3-position-left):not(
    .bp3-position-right):not(.bp3-vertical).bp3-overlay-exit-active{
      -webkit-transform:translateX(100%);
              transform:translateX(100%);
      -webkit-transition-delay:0;
              transition-delay:0;
      -webkit-transition-duration:100ms;
              transition-duration:100ms;
      -webkit-transition-property:-webkit-transform;
      transition-property:-webkit-transform;
      transition-property:transform;
      transition-property:transform, -webkit-transform;
      -webkit-transition-timing-function:cubic-bezier(0.4, 1, 0.75, 0.9);
              transition-timing-function:cubic-bezier(0.4, 1, 0.75, 0.9); }
  .bp3-drawer:not(.bp3-position-top):not(.bp3-position-bottom):not(.bp3-position-left):not(
  .bp3-position-right).bp3-vertical{
    bottom:0;
    height:50%;
    left:0;
    right:0; }
    .bp3-drawer:not(.bp3-position-top):not(.bp3-position-bottom):not(.bp3-position-left):not(
    .bp3-position-right).bp3-vertical.bp3-overlay-enter, .bp3-drawer:not(.bp3-position-top):not(.bp3-position-bottom):not(.bp3-position-left):not(
    .bp3-position-right).bp3-vertical.bp3-overlay-appear{
      -webkit-transform:translateY(100%);
              transform:translateY(100%); }
    .bp3-drawer:not(.bp3-position-top):not(.bp3-position-bottom):not(.bp3-position-left):not(
    .bp3-position-right).bp3-vertical.bp3-overlay-enter-active, .bp3-drawer:not(.bp3-position-top):not(.bp3-position-bottom):not(.bp3-position-left):not(
    .bp3-position-right).bp3-vertical.bp3-overlay-appear-active{
      -webkit-transform:translateY(0);
              transform:translateY(0);
      -webkit-transition-delay:0;
              transition-delay:0;
      -webkit-transition-duration:200ms;
              transition-duration:200ms;
      -webkit-transition-property:-webkit-transform;
      transition-property:-webkit-transform;
      transition-property:transform;
      transition-property:transform, -webkit-transform;
      -webkit-transition-timing-function:cubic-bezier(0.4, 1, 0.75, 0.9);
              transition-timing-function:cubic-bezier(0.4, 1, 0.75, 0.9); }
    .bp3-drawer:not(.bp3-position-top):not(.bp3-position-bottom):not(.bp3-position-left):not(
    .bp3-position-right).bp3-vertical.bp3-overlay-exit{
      -webkit-transform:translateY(0);
              transform:translateY(0); }
    .bp3-drawer:not(.bp3-position-top):not(.bp3-position-bottom):not(.bp3-position-left):not(
    .bp3-position-right).bp3-vertical.bp3-overlay-exit-active{
      -webkit-transform:translateY(100%);
              transform:translateY(100%);
      -webkit-transition-delay:0;
              transition-delay:0;
      -webkit-transition-duration:100ms;
              transition-duration:100ms;
      -webkit-transition-property:-webkit-transform;
      transition-property:-webkit-transform;
      transition-property:transform;
      transition-property:transform, -webkit-transform;
      -webkit-transition-timing-function:cubic-bezier(0.4, 1, 0.75, 0.9);
              transition-timing-function:cubic-bezier(0.4, 1, 0.75, 0.9); }
  .bp3-drawer.bp3-dark,
  .bp3-dark .bp3-drawer{
    background:#30404d;
    -webkit-box-shadow:0 0 0 1px rgba(16, 22, 26, 0.2), 0 4px 8px rgba(16, 22, 26, 0.4), 0 18px 46px 6px rgba(16, 22, 26, 0.4);
            box-shadow:0 0 0 1px rgba(16, 22, 26, 0.2), 0 4px 8px rgba(16, 22, 26, 0.4), 0 18px 46px 6px rgba(16, 22, 26, 0.4);
    color:#f5f8fa; }

.bp3-drawer-header{
  -webkit-box-align:center;
      -ms-flex-align:center;
          align-items:center;
  border-radius:0;
  -webkit-box-shadow:0 1px 0 rgba(16, 22, 26, 0.15);
          box-shadow:0 1px 0 rgba(16, 22, 26, 0.15);
  display:-webkit-box;
  display:-ms-flexbox;
  display:flex;
  -webkit-box-flex:0;
      -ms-flex:0 0 auto;
          flex:0 0 auto;
  min-height:40px;
  padding:5px;
  padding-left:20px;
  position:relative; }
  .bp3-drawer-header .bp3-icon-large,
  .bp3-drawer-header .bp3-icon{
    color:#5c7080;
    -webkit-box-flex:0;
        -ms-flex:0 0 auto;
            flex:0 0 auto;
    margin-right:10px; }
  .bp3-drawer-header .bp3-heading{
    overflow:hidden;
    text-overflow:ellipsis;
    white-space:nowrap;
    word-wrap:normal;
    -webkit-box-flex:1;
        -ms-flex:1 1 auto;
            flex:1 1 auto;
    line-height:inherit;
    margin:0; }
    .bp3-drawer-header .bp3-heading:last-child{
      margin-right:20px; }
  .bp3-dark .bp3-drawer-header{
    -webkit-box-shadow:0 1px 0 rgba(16, 22, 26, 0.4);
            box-shadow:0 1px 0 rgba(16, 22, 26, 0.4); }
    .bp3-dark .bp3-drawer-header .bp3-icon-large,
    .bp3-dark .bp3-drawer-header .bp3-icon{
      color:#a7b6c2; }

.bp3-drawer-body{
  -webkit-box-flex:1;
      -ms-flex:1 1 auto;
          flex:1 1 auto;
  line-height:18px;
  overflow:auto; }

.bp3-drawer-footer{
  -webkit-box-shadow:inset 0 1px 0 rgba(16, 22, 26, 0.15);
          box-shadow:inset 0 1px 0 rgba(16, 22, 26, 0.15);
  -webkit-box-flex:0;
      -ms-flex:0 0 auto;
          flex:0 0 auto;
  padding:10px 20px;
  position:relative; }
  .bp3-dark .bp3-drawer-footer{
    -webkit-box-shadow:inset 0 1px 0 rgba(16, 22, 26, 0.4);
            box-shadow:inset 0 1px 0 rgba(16, 22, 26, 0.4); }
.bp3-editable-text{
  cursor:text;
  display:inline-block;
  max-width:100%;
  position:relative;
  vertical-align:top;
  white-space:nowrap; }
  .bp3-editable-text::before{
    bottom:-3px;
    left:-3px;
    position:absolute;
    right:-3px;
    top:-3px;
    border-radius:3px;
    content:"";
    -webkit-transition:background-color 100ms cubic-bezier(0.4, 1, 0.75, 0.9), -webkit-box-shadow 100ms cubic-bezier(0.4, 1, 0.75, 0.9);
    transition:background-color 100ms cubic-bezier(0.4, 1, 0.75, 0.9), -webkit-box-shadow 100ms cubic-bezier(0.4, 1, 0.75, 0.9);
    transition:background-color 100ms cubic-bezier(0.4, 1, 0.75, 0.9), box-shadow 100ms cubic-bezier(0.4, 1, 0.75, 0.9);
    transition:background-color 100ms cubic-bezier(0.4, 1, 0.75, 0.9), box-shadow 100ms cubic-bezier(0.4, 1, 0.75, 0.9), -webkit-box-shadow 100ms cubic-bezier(0.4, 1, 0.75, 0.9); }
  .bp3-editable-text:hover::before{
    -webkit-box-shadow:0 0 0 0 rgba(19, 124, 189, 0), 0 0 0 0 rgba(19, 124, 189, 0), inset 0 0 0 1px rgba(16, 22, 26, 0.15);
            box-shadow:0 0 0 0 rgba(19, 124, 189, 0), 0 0 0 0 rgba(19, 124, 189, 0), inset 0 0 0 1px rgba(16, 22, 26, 0.15); }
  .bp3-editable-text.bp3-editable-text-editing::before{
    background-color:#ffffff;
    -webkit-box-shadow:0 0 0 1px #137cbd, 0 0 0 3px rgba(19, 124, 189, 0.3), inset 0 1px 1px rgba(16, 22, 26, 0.2);
            box-shadow:0 0 0 1px #137cbd, 0 0 0 3px rgba(19, 124, 189, 0.3), inset 0 1px 1px rgba(16, 22, 26, 0.2); }
  .bp3-editable-text.bp3-disabled::before{
    -webkit-box-shadow:none;
            box-shadow:none; }
  .bp3-editable-text.bp3-intent-primary .bp3-editable-text-input,
  .bp3-editable-text.bp3-intent-primary .bp3-editable-text-content{
    color:#137cbd; }
  .bp3-editable-text.bp3-intent-primary:hover::before{
    -webkit-box-shadow:0 0 0 0 rgba(19, 124, 189, 0), 0 0 0 0 rgba(19, 124, 189, 0), inset 0 0 0 1px rgba(19, 124, 189, 0.4);
            box-shadow:0 0 0 0 rgba(19, 124, 189, 0), 0 0 0 0 rgba(19, 124, 189, 0), inset 0 0 0 1px rgba(19, 124, 189, 0.4); }
  .bp3-editable-text.bp3-intent-primary.bp3-editable-text-editing::before{
    -webkit-box-shadow:0 0 0 1px #137cbd, 0 0 0 3px rgba(19, 124, 189, 0.3), inset 0 1px 1px rgba(16, 22, 26, 0.2);
            box-shadow:0 0 0 1px #137cbd, 0 0 0 3px rgba(19, 124, 189, 0.3), inset 0 1px 1px rgba(16, 22, 26, 0.2); }
  .bp3-editable-text.bp3-intent-success .bp3-editable-text-input,
  .bp3-editable-text.bp3-intent-success .bp3-editable-text-content{
    color:#0f9960; }
  .bp3-editable-text.bp3-intent-success:hover::before{
    -webkit-box-shadow:0 0 0 0 rgba(15, 153, 96, 0), 0 0 0 0 rgba(15, 153, 96, 0), inset 0 0 0 1px rgba(15, 153, 96, 0.4);
            box-shadow:0 0 0 0 rgba(15, 153, 96, 0), 0 0 0 0 rgba(15, 153, 96, 0), inset 0 0 0 1px rgba(15, 153, 96, 0.4); }
  .bp3-editable-text.bp3-intent-success.bp3-editable-text-editing::before{
    -webkit-box-shadow:0 0 0 1px #0f9960, 0 0 0 3px rgba(15, 153, 96, 0.3), inset 0 1px 1px rgba(16, 22, 26, 0.2);
            box-shadow:0 0 0 1px #0f9960, 0 0 0 3px rgba(15, 153, 96, 0.3), inset 0 1px 1px rgba(16, 22, 26, 0.2); }
  .bp3-editable-text.bp3-intent-warning .bp3-editable-text-input,
  .bp3-editable-text.bp3-intent-warning .bp3-editable-text-content{
    color:#d9822b; }
  .bp3-editable-text.bp3-intent-warning:hover::before{
    -webkit-box-shadow:0 0 0 0 rgba(217, 130, 43, 0), 0 0 0 0 rgba(217, 130, 43, 0), inset 0 0 0 1px rgba(217, 130, 43, 0.4);
            box-shadow:0 0 0 0 rgba(217, 130, 43, 0), 0 0 0 0 rgba(217, 130, 43, 0), inset 0 0 0 1px rgba(217, 130, 43, 0.4); }
  .bp3-editable-text.bp3-intent-warning.bp3-editable-text-editing::before{
    -webkit-box-shadow:0 0 0 1px #d9822b, 0 0 0 3px rgba(217, 130, 43, 0.3), inset 0 1px 1px rgba(16, 22, 26, 0.2);
            box-shadow:0 0 0 1px #d9822b, 0 0 0 3px rgba(217, 130, 43, 0.3), inset 0 1px 1px rgba(16, 22, 26, 0.2); }
  .bp3-editable-text.bp3-intent-danger .bp3-editable-text-input,
  .bp3-editable-text.bp3-intent-danger .bp3-editable-text-content{
    color:#db3737; }
  .bp3-editable-text.bp3-intent-danger:hover::before{
    -webkit-box-shadow:0 0 0 0 rgba(219, 55, 55, 0), 0 0 0 0 rgba(219, 55, 55, 0), inset 0 0 0 1px rgba(219, 55, 55, 0.4);
            box-shadow:0 0 0 0 rgba(219, 55, 55, 0), 0 0 0 0 rgba(219, 55, 55, 0), inset 0 0 0 1px rgba(219, 55, 55, 0.4); }
  .bp3-editable-text.bp3-intent-danger.bp3-editable-text-editing::before{
    -webkit-box-shadow:0 0 0 1px #db3737, 0 0 0 3px rgba(219, 55, 55, 0.3), inset 0 1px 1px rgba(16, 22, 26, 0.2);
            box-shadow:0 0 0 1px #db3737, 0 0 0 3px rgba(219, 55, 55, 0.3), inset 0 1px 1px rgba(16, 22, 26, 0.2); }
  .bp3-dark .bp3-editable-text:hover::before{
    -webkit-box-shadow:0 0 0 0 rgba(19, 124, 189, 0), 0 0 0 0 rgba(19, 124, 189, 0), inset 0 0 0 1px rgba(255, 255, 255, 0.15);
            box-shadow:0 0 0 0 rgba(19, 124, 189, 0), 0 0 0 0 rgba(19, 124, 189, 0), inset 0 0 0 1px rgba(255, 255, 255, 0.15); }
  .bp3-dark .bp3-editable-text.bp3-editable-text-editing::before{
    background-color:rgba(16, 22, 26, 0.3);
    -webkit-box-shadow:0 0 0 1px #137cbd, 0 0 0 3px rgba(19, 124, 189, 0.3), inset 0 0 0 1px rgba(16, 22, 26, 0.3), inset 0 1px 1px rgba(16, 22, 26, 0.4);
            box-shadow:0 0 0 1px #137cbd, 0 0 0 3px rgba(19, 124, 189, 0.3), inset 0 0 0 1px rgba(16, 22, 26, 0.3), inset 0 1px 1px rgba(16, 22, 26, 0.4); }
  .bp3-dark .bp3-editable-text.bp3-disabled::before{
    -webkit-box-shadow:none;
            box-shadow:none; }
  .bp3-dark .bp3-editable-text.bp3-intent-primary .bp3-editable-text-content{
    color:#48aff0; }
  .bp3-dark .bp3-editable-text.bp3-intent-primary:hover::before{
    -webkit-box-shadow:0 0 0 0 rgba(72, 175, 240, 0), 0 0 0 0 rgba(72, 175, 240, 0), inset 0 0 0 1px rgba(72, 175, 240, 0.4);
            box-shadow:0 0 0 0 rgba(72, 175, 240, 0), 0 0 0 0 rgba(72, 175, 240, 0), inset 0 0 0 1px rgba(72, 175, 240, 0.4); }
  .bp3-dark .bp3-editable-text.bp3-intent-primary.bp3-editable-text-editing::before{
    -webkit-box-shadow:0 0 0 1px #48aff0, 0 0 0 3px rgba(72, 175, 240, 0.3), inset 0 0 0 1px rgba(16, 22, 26, 0.3), inset 0 1px 1px rgba(16, 22, 26, 0.4);
            box-shadow:0 0 0 1px #48aff0, 0 0 0 3px rgba(72, 175, 240, 0.3), inset 0 0 0 1px rgba(16, 22, 26, 0.3), inset 0 1px 1px rgba(16, 22, 26, 0.4); }
  .bp3-dark .bp3-editable-text.bp3-intent-success .bp3-editable-text-content{
    color:#3dcc91; }
  .bp3-dark .bp3-editable-text.bp3-intent-success:hover::before{
    -webkit-box-shadow:0 0 0 0 rgba(61, 204, 145, 0), 0 0 0 0 rgba(61, 204, 145, 0), inset 0 0 0 1px rgba(61, 204, 145, 0.4);
            box-shadow:0 0 0 0 rgba(61, 204, 145, 0), 0 0 0 0 rgba(61, 204, 145, 0), inset 0 0 0 1px rgba(61, 204, 145, 0.4); }
  .bp3-dark .bp3-editable-text.bp3-intent-success.bp3-editable-text-editing::before{
    -webkit-box-shadow:0 0 0 1px #3dcc91, 0 0 0 3px rgba(61, 204, 145, 0.3), inset 0 0 0 1px rgba(16, 22, 26, 0.3), inset 0 1px 1px rgba(16, 22, 26, 0.4);
            box-shadow:0 0 0 1px #3dcc91, 0 0 0 3px rgba(61, 204, 145, 0.3), inset 0 0 0 1px rgba(16, 22, 26, 0.3), inset 0 1px 1px rgba(16, 22, 26, 0.4); }
  .bp3-dark .bp3-editable-text.bp3-intent-warning .bp3-editable-text-content{
    color:#ffb366; }
  .bp3-dark .bp3-editable-text.bp3-intent-warning:hover::before{
    -webkit-box-shadow:0 0 0 0 rgba(255, 179, 102, 0), 0 0 0 0 rgba(255, 179, 102, 0), inset 0 0 0 1px rgba(255, 179, 102, 0.4);
            box-shadow:0 0 0 0 rgba(255, 179, 102, 0), 0 0 0 0 rgba(255, 179, 102, 0), inset 0 0 0 1px rgba(255, 179, 102, 0.4); }
  .bp3-dark .bp3-editable-text.bp3-intent-warning.bp3-editable-text-editing::before{
    -webkit-box-shadow:0 0 0 1px #ffb366, 0 0 0 3px rgba(255, 179, 102, 0.3), inset 0 0 0 1px rgba(16, 22, 26, 0.3), inset 0 1px 1px rgba(16, 22, 26, 0.4);
            box-shadow:0 0 0 1px #ffb366, 0 0 0 3px rgba(255, 179, 102, 0.3), inset 0 0 0 1px rgba(16, 22, 26, 0.3), inset 0 1px 1px rgba(16, 22, 26, 0.4); }
  .bp3-dark .bp3-editable-text.bp3-intent-danger .bp3-editable-text-content{
    color:#ff7373; }
  .bp3-dark .bp3-editable-text.bp3-intent-danger:hover::before{
    -webkit-box-shadow:0 0 0 0 rgba(255, 115, 115, 0), 0 0 0 0 rgba(255, 115, 115, 0), inset 0 0 0 1px rgba(255, 115, 115, 0.4);
            box-shadow:0 0 0 0 rgba(255, 115, 115, 0), 0 0 0 0 rgba(255, 115, 115, 0), inset 0 0 0 1px rgba(255, 115, 115, 0.4); }
  .bp3-dark .bp3-editable-text.bp3-intent-danger.bp3-editable-text-editing::before{
    -webkit-box-shadow:0 0 0 1px #ff7373, 0 0 0 3px rgba(255, 115, 115, 0.3), inset 0 0 0 1px rgba(16, 22, 26, 0.3), inset 0 1px 1px rgba(16, 22, 26, 0.4);
            box-shadow:0 0 0 1px #ff7373, 0 0 0 3px rgba(255, 115, 115, 0.3), inset 0 0 0 1px rgba(16, 22, 26, 0.3), inset 0 1px 1px rgba(16, 22, 26, 0.4); }

.bp3-editable-text-input,
.bp3-editable-text-content{
  color:inherit;
  display:inherit;
  font:inherit;
  letter-spacing:inherit;
  max-width:inherit;
  min-width:inherit;
  position:relative;
  resize:none;
  text-transform:inherit;
  vertical-align:top; }

.bp3-editable-text-input{
  background:none;
  border:none;
  -webkit-box-shadow:none;
          box-shadow:none;
  padding:0;
  white-space:pre-wrap;
  width:100%; }
  .bp3-editable-text-input::-webkit-input-placeholder{
    color:rgba(92, 112, 128, 0.6);
    opacity:1; }
  .bp3-editable-text-input::-moz-placeholder{
    color:rgba(92, 112, 128, 0.6);
    opacity:1; }
  .bp3-editable-text-input:-ms-input-placeholder{
    color:rgba(92, 112, 128, 0.6);
    opacity:1; }
  .bp3-editable-text-input::-ms-input-placeholder{
    color:rgba(92, 112, 128, 0.6);
    opacity:1; }
  .bp3-editable-text-input::placeholder{
    color:rgba(92, 112, 128, 0.6);
    opacity:1; }
  .bp3-editable-text-input:focus{
    outline:none; }
  .bp3-editable-text-input::-ms-clear{
    display:none; }

.bp3-editable-text-content{
  overflow:hidden;
  padding-right:2px;
  text-overflow:ellipsis;
  white-space:pre; }
  .bp3-editable-text-editing > .bp3-editable-text-content{
    left:0;
    position:absolute;
    visibility:hidden; }
  .bp3-editable-text-placeholder > .bp3-editable-text-content{
    color:rgba(92, 112, 128, 0.6); }
    .bp3-dark .bp3-editable-text-placeholder > .bp3-editable-text-content{
      color:rgba(167, 182, 194, 0.6); }

.bp3-editable-text.bp3-multiline{
  display:block; }
  .bp3-editable-text.bp3-multiline .bp3-editable-text-content{
    overflow:auto;
    white-space:pre-wrap;
    word-wrap:break-word; }
.bp3-divider{
  border-bottom:1px solid rgba(16, 22, 26, 0.15);
  border-right:1px solid rgba(16, 22, 26, 0.15);
  margin:5px; }
  .bp3-dark .bp3-divider{
    border-color:rgba(16, 22, 26, 0.4); }
.bp3-control-group{
  -webkit-transform:translateZ(0);
          transform:translateZ(0);
  display:-webkit-box;
  display:-ms-flexbox;
  display:flex;
  -webkit-box-orient:horizontal;
  -webkit-box-direction:normal;
      -ms-flex-direction:row;
          flex-direction:row;
  -webkit-box-align:stretch;
      -ms-flex-align:stretch;
          align-items:stretch; }
  .bp3-control-group > *{
    -webkit-box-flex:0;
        -ms-flex-positive:0;
            flex-grow:0;
    -ms-flex-negative:0;
        flex-shrink:0; }
  .bp3-control-group > .bp3-fill{
    -webkit-box-flex:1;
        -ms-flex-positive:1;
            flex-grow:1;
    -ms-flex-negative:1;
        flex-shrink:1; }
  .bp3-control-group .bp3-button,
  .bp3-control-group .bp3-html-select,
  .bp3-control-group .bp3-input,
  .bp3-control-group .bp3-select{
    position:relative; }
  .bp3-control-group .bp3-input{
    border-radius:inherit;
    z-index:2; }
    .bp3-control-group .bp3-input:focus{
      border-radius:3px;
      z-index:14; }
    .bp3-control-group .bp3-input[class*="bp3-intent"]{
      z-index:13; }
      .bp3-control-group .bp3-input[class*="bp3-intent"]:focus{
        z-index:15; }
    .bp3-control-group .bp3-input[readonly], .bp3-control-group .bp3-input:disabled, .bp3-control-group .bp3-input.bp3-disabled{
      z-index:1; }
  .bp3-control-group .bp3-input-group[class*="bp3-intent"] .bp3-input{
    z-index:13; }
    .bp3-control-group .bp3-input-group[class*="bp3-intent"] .bp3-input:focus{
      z-index:15; }
  .bp3-control-group .bp3-button,
  .bp3-control-group .bp3-html-select select,
  .bp3-control-group .bp3-select select{
    -webkit-transform:translateZ(0);
            transform:translateZ(0);
    border-radius:inherit;
    z-index:4; }
    .bp3-control-group .bp3-button:focus,
    .bp3-control-group .bp3-html-select select:focus,
    .bp3-control-group .bp3-select select:focus{
      z-index:5; }
    .bp3-control-group .bp3-button:hover,
    .bp3-control-group .bp3-html-select select:hover,
    .bp3-control-group .bp3-select select:hover{
      z-index:6; }
    .bp3-control-group .bp3-button:active,
    .bp3-control-group .bp3-html-select select:active,
    .bp3-control-group .bp3-select select:active{
      z-index:7; }
    .bp3-control-group .bp3-button[readonly], .bp3-control-group .bp3-button:disabled, .bp3-control-group .bp3-button.bp3-disabled,
    .bp3-control-group .bp3-html-select select[readonly],
    .bp3-control-group .bp3-html-select select:disabled,
    .bp3-control-group .bp3-html-select select.bp3-disabled,
    .bp3-control-group .bp3-select select[readonly],
    .bp3-control-group .bp3-select select:disabled,
    .bp3-control-group .bp3-select select.bp3-disabled{
      z-index:3; }
    .bp3-control-group .bp3-button[class*="bp3-intent"],
    .bp3-control-group .bp3-html-select select[class*="bp3-intent"],
    .bp3-control-group .bp3-select select[class*="bp3-intent"]{
      z-index:9; }
      .bp3-control-group .bp3-button[class*="bp3-intent"]:focus,
      .bp3-control-group .bp3-html-select select[class*="bp3-intent"]:focus,
      .bp3-control-group .bp3-select select[class*="bp3-intent"]:focus{
        z-index:10; }
      .bp3-control-group .bp3-button[class*="bp3-intent"]:hover,
      .bp3-control-group .bp3-html-select select[class*="bp3-intent"]:hover,
      .bp3-control-group .bp3-select select[class*="bp3-intent"]:hover{
        z-index:11; }
      .bp3-control-group .bp3-button[class*="bp3-intent"]:active,
      .bp3-control-group .bp3-html-select select[class*="bp3-intent"]:active,
      .bp3-control-group .bp3-select select[class*="bp3-intent"]:active{
        z-index:12; }
      .bp3-control-group .bp3-button[class*="bp3-intent"][readonly], .bp3-control-group .bp3-button[class*="bp3-intent"]:disabled, .bp3-control-group .bp3-button[class*="bp3-intent"].bp3-disabled,
      .bp3-control-group .bp3-html-select select[class*="bp3-intent"][readonly],
      .bp3-control-group .bp3-html-select select[class*="bp3-intent"]:disabled,
      .bp3-control-group .bp3-html-select select[class*="bp3-intent"].bp3-disabled,
      .bp3-control-group .bp3-select select[class*="bp3-intent"][readonly],
      .bp3-control-group .bp3-select select[class*="bp3-intent"]:disabled,
      .bp3-control-group .bp3-select select[class*="bp3-intent"].bp3-disabled{
        z-index:8; }
  .bp3-control-group .bp3-input-group > .bp3-icon,
  .bp3-control-group .bp3-input-group > .bp3-button,
  .bp3-control-group .bp3-input-group > .bp3-input-left-container,
  .bp3-control-group .bp3-input-group > .bp3-input-action{
    z-index:16; }
  .bp3-control-group .bp3-select::after,
  .bp3-control-group .bp3-html-select::after,
  .bp3-control-group .bp3-select > .bp3-icon,
  .bp3-control-group .bp3-html-select > .bp3-icon{
    z-index:17; }
  .bp3-control-group .bp3-select:focus-within{
    z-index:5; }
  .bp3-control-group:not(.bp3-vertical) > *:not(.bp3-divider){
    margin-right:-1px; }
  .bp3-control-group:not(.bp3-vertical) > .bp3-divider:not(:first-child){
    margin-left:6px; }
  .bp3-dark .bp3-control-group:not(.bp3-vertical) > *:not(.bp3-divider){
    margin-right:0; }
  .bp3-dark .bp3-control-group:not(.bp3-vertical) > .bp3-button + .bp3-button{
    margin-left:1px; }
  .bp3-control-group .bp3-popover-wrapper,
  .bp3-control-group .bp3-popover-target{
    border-radius:inherit; }
  .bp3-control-group > :first-child{
    border-radius:3px 0 0 3px; }
  .bp3-control-group > :last-child{
    border-radius:0 3px 3px 0;
    margin-right:0; }
  .bp3-control-group > :only-child{
    border-radius:3px;
    margin-right:0; }
  .bp3-control-group .bp3-input-group .bp3-button{
    border-radius:3px; }
  .bp3-control-group .bp3-numeric-input:not(:first-child) .bp3-input-group{
    border-bottom-left-radius:0;
    border-top-left-radius:0; }
  .bp3-control-group.bp3-fill{
    width:100%; }
  .bp3-control-group > .bp3-fill{
    -webkit-box-flex:1;
        -ms-flex:1 1 auto;
            flex:1 1 auto; }
  .bp3-control-group.bp3-fill > *:not(.bp3-fixed){
    -webkit-box-flex:1;
        -ms-flex:1 1 auto;
            flex:1 1 auto; }
  .bp3-control-group.bp3-vertical{
    -webkit-box-orient:vertical;
    -webkit-box-direction:normal;
        -ms-flex-direction:column;
            flex-direction:column; }
    .bp3-control-group.bp3-vertical > *{
      margin-top:-1px; }
    .bp3-control-group.bp3-vertical > :first-child{
      border-radius:3px 3px 0 0;
      margin-top:0; }
    .bp3-control-group.bp3-vertical > :last-child{
      border-radius:0 0 3px 3px; }
.bp3-control{
  cursor:pointer;
  display:block;
  margin-bottom:10px;
  position:relative;
  text-transform:none; }
  .bp3-control input:checked ~ .bp3-control-indicator{
    background-color:#137cbd;
    background-image:-webkit-gradient(linear, left top, left bottom, from(rgba(255, 255, 255, 0.1)), to(rgba(255, 255, 255, 0)));
    background-image:linear-gradient(to bottom, rgba(255, 255, 255, 0.1), rgba(255, 255, 255, 0));
    -webkit-box-shadow:inset 0 0 0 1px rgba(16, 22, 26, 0.4), inset 0 -1px 0 rgba(16, 22, 26, 0.2);
            box-shadow:inset 0 0 0 1px rgba(16, 22, 26, 0.4), inset 0 -1px 0 rgba(16, 22, 26, 0.2);
    color:#ffffff; }
  .bp3-control:hover input:checked ~ .bp3-control-indicator{
    background-color:#106ba3;
    -webkit-box-shadow:inset 0 0 0 1px rgba(16, 22, 26, 0.4), inset 0 -1px 0 rgba(16, 22, 26, 0.2);
            box-shadow:inset 0 0 0 1px rgba(16, 22, 26, 0.4), inset 0 -1px 0 rgba(16, 22, 26, 0.2); }
  .bp3-control input:not(:disabled):active:checked ~ .bp3-control-indicator{
    background:#0e5a8a;
    -webkit-box-shadow:inset 0 0 0 1px rgba(16, 22, 26, 0.4), inset 0 1px 2px rgba(16, 22, 26, 0.2);
            box-shadow:inset 0 0 0 1px rgba(16, 22, 26, 0.4), inset 0 1px 2px rgba(16, 22, 26, 0.2); }
  .bp3-control input:disabled:checked ~ .bp3-control-indicator{
    background:rgba(19, 124, 189, 0.5);
    -webkit-box-shadow:none;
            box-shadow:none; }
  .bp3-dark .bp3-control input:checked ~ .bp3-control-indicator{
    -webkit-box-shadow:0 0 0 1px rgba(16, 22, 26, 0.4);
            box-shadow:0 0 0 1px rgba(16, 22, 26, 0.4); }
  .bp3-dark .bp3-control:hover input:checked ~ .bp3-control-indicator{
    background-color:#106ba3;
    -webkit-box-shadow:0 0 0 1px rgba(16, 22, 26, 0.4);
            box-shadow:0 0 0 1px rgba(16, 22, 26, 0.4); }
  .bp3-dark .bp3-control input:not(:disabled):active:checked ~ .bp3-control-indicator{
    background-color:#0e5a8a;
    -webkit-box-shadow:0 0 0 1px rgba(16, 22, 26, 0.4), inset 0 1px 2px rgba(16, 22, 26, 0.2);
            box-shadow:0 0 0 1px rgba(16, 22, 26, 0.4), inset 0 1px 2px rgba(16, 22, 26, 0.2); }
  .bp3-dark .bp3-control input:disabled:checked ~ .bp3-control-indicator{
    background:rgba(14, 90, 138, 0.5);
    -webkit-box-shadow:none;
            box-shadow:none; }
  .bp3-control:not(.bp3-align-right){
    padding-left:26px; }
    .bp3-control:not(.bp3-align-right) .bp3-control-indicator{
      margin-left:-26px; }
  .bp3-control.bp3-align-right{
    padding-right:26px; }
    .bp3-control.bp3-align-right .bp3-control-indicator{
      margin-right:-26px; }
  .bp3-control.bp3-disabled{
    color:rgba(92, 112, 128, 0.6);
    cursor:not-allowed; }
  .bp3-control.bp3-inline{
    display:inline-block;
    margin-right:20px; }
  .bp3-control input{
    left:0;
    opacity:0;
    position:absolute;
    top:0;
    z-index:-1; }
  .bp3-control .bp3-control-indicator{
    background-clip:padding-box;
    background-color:#f5f8fa;
    background-image:-webkit-gradient(linear, left top, left bottom, from(rgba(255, 255, 255, 0.8)), to(rgba(255, 255, 255, 0)));
    background-image:linear-gradient(to bottom, rgba(255, 255, 255, 0.8), rgba(255, 255, 255, 0));
    border:none;
    -webkit-box-shadow:inset 0 0 0 1px rgba(16, 22, 26, 0.2), inset 0 -1px 0 rgba(16, 22, 26, 0.1);
            box-shadow:inset 0 0 0 1px rgba(16, 22, 26, 0.2), inset 0 -1px 0 rgba(16, 22, 26, 0.1);
    cursor:pointer;
    display:inline-block;
    font-size:16px;
    height:1em;
    margin-right:10px;
    margin-top:-3px;
    position:relative;
    -webkit-user-select:none;
       -moz-user-select:none;
        -ms-user-select:none;
            user-select:none;
    vertical-align:middle;
    width:1em; }
    .bp3-control .bp3-control-indicator::before{
      content:"";
      display:block;
      height:1em;
      width:1em; }
  .bp3-control:hover .bp3-control-indicator{
    background-color:#ebf1f5; }
  .bp3-control input:not(:disabled):active ~ .bp3-control-indicator{
    background:#d8e1e8;
    -webkit-box-shadow:inset 0 0 0 1px rgba(16, 22, 26, 0.2), inset 0 1px 2px rgba(16, 22, 26, 0.2);
            box-shadow:inset 0 0 0 1px rgba(16, 22, 26, 0.2), inset 0 1px 2px rgba(16, 22, 26, 0.2); }
  .bp3-control input:disabled ~ .bp3-control-indicator{
    background:rgba(206, 217, 224, 0.5);
    -webkit-box-shadow:none;
            box-shadow:none;
    cursor:not-allowed; }
  .bp3-control input:focus ~ .bp3-control-indicator{
    outline:rgba(19, 124, 189, 0.6) auto 2px;
    outline-offset:2px;
    -moz-outline-radius:6px; }
  .bp3-control.bp3-align-right .bp3-control-indicator{
    float:right;
    margin-left:10px;
    margin-top:1px; }
  .bp3-control.bp3-large{
    font-size:16px; }
    .bp3-control.bp3-large:not(.bp3-align-right){
      padding-left:30px; }
      .bp3-control.bp3-large:not(.bp3-align-right) .bp3-control-indicator{
        margin-left:-30px; }
    .bp3-control.bp3-large.bp3-align-right{
      padding-right:30px; }
      .bp3-control.bp3-large.bp3-align-right .bp3-control-indicator{
        margin-right:-30px; }
    .bp3-control.bp3-large .bp3-control-indicator{
      font-size:20px; }
    .bp3-control.bp3-large.bp3-align-right .bp3-control-indicator{
      margin-top:0; }
  .bp3-control.bp3-checkbox input:indeterminate ~ .bp3-control-indicator{
    background-color:#137cbd;
    background-image:-webkit-gradient(linear, left top, left bottom, from(rgba(255, 255, 255, 0.1)), to(rgba(255, 255, 255, 0)));
    background-image:linear-gradient(to bottom, rgba(255, 255, 255, 0.1), rgba(255, 255, 255, 0));
    -webkit-box-shadow:inset 0 0 0 1px rgba(16, 22, 26, 0.4), inset 0 -1px 0 rgba(16, 22, 26, 0.2);
            box-shadow:inset 0 0 0 1px rgba(16, 22, 26, 0.4), inset 0 -1px 0 rgba(16, 22, 26, 0.2);
    color:#ffffff; }
  .bp3-control.bp3-checkbox:hover input:indeterminate ~ .bp3-control-indicator{
    background-color:#106ba3;
    -webkit-box-shadow:inset 0 0 0 1px rgba(16, 22, 26, 0.4), inset 0 -1px 0 rgba(16, 22, 26, 0.2);
            box-shadow:inset 0 0 0 1px rgba(16, 22, 26, 0.4), inset 0 -1px 0 rgba(16, 22, 26, 0.2); }
  .bp3-control.bp3-checkbox input:not(:disabled):active:indeterminate ~ .bp3-control-indicator{
    background:#0e5a8a;
    -webkit-box-shadow:inset 0 0 0 1px rgba(16, 22, 26, 0.4), inset 0 1px 2px rgba(16, 22, 26, 0.2);
            box-shadow:inset 0 0 0 1px rgba(16, 22, 26, 0.4), inset 0 1px 2px rgba(16, 22, 26, 0.2); }
  .bp3-control.bp3-checkbox input:disabled:indeterminate ~ .bp3-control-indicator{
    background:rgba(19, 124, 189, 0.5);
    -webkit-box-shadow:none;
            box-shadow:none; }
  .bp3-dark .bp3-control.bp3-checkbox input:indeterminate ~ .bp3-control-indicator{
    -webkit-box-shadow:0 0 0 1px rgba(16, 22, 26, 0.4);
            box-shadow:0 0 0 1px rgba(16, 22, 26, 0.4); }
  .bp3-dark .bp3-control.bp3-checkbox:hover input:indeterminate ~ .bp3-control-indicator{
    background-color:#106ba3;
    -webkit-box-shadow:0 0 0 1px rgba(16, 22, 26, 0.4);
            box-shadow:0 0 0 1px rgba(16, 22, 26, 0.4); }
  .bp3-dark .bp3-control.bp3-checkbox input:not(:disabled):active:indeterminate ~ .bp3-control-indicator{
    background-color:#0e5a8a;
    -webkit-box-shadow:0 0 0 1px rgba(16, 22, 26, 0.4), inset 0 1px 2px rgba(16, 22, 26, 0.2);
            box-shadow:0 0 0 1px rgba(16, 22, 26, 0.4), inset 0 1px 2px rgba(16, 22, 26, 0.2); }
  .bp3-dark .bp3-control.bp3-checkbox input:disabled:indeterminate ~ .bp3-control-indicator{
    background:rgba(14, 90, 138, 0.5);
    -webkit-box-shadow:none;
            box-shadow:none; }
  .bp3-control.bp3-checkbox .bp3-control-indicator{
    border-radius:3px; }
  .bp3-control.bp3-checkbox input:checked ~ .bp3-control-indicator::before{
    background-image:url("data:image/svg+xml,%3csvg xmlns='http://www.w3.org/2000/svg' viewBox='0 0 16 16'%3e%3cpath fill-rule='evenodd' clip-rule='evenodd' d='M12 5c-.28 0-.53.11-.71.29L7 9.59l-2.29-2.3a1.003 1.003 0 00-1.42 1.42l3 3c.18.18.43.29.71.29s.53-.11.71-.29l5-5A1.003 1.003 0 0012 5z' fill='white'/%3e%3c/svg%3e"); }
  .bp3-control.bp3-checkbox input:indeterminate ~ .bp3-control-indicator::before{
    background-image:url("data:image/svg+xml,%3csvg xmlns='http://www.w3.org/2000/svg' viewBox='0 0 16 16'%3e%3cpath fill-rule='evenodd' clip-rule='evenodd' d='M11 7H5c-.55 0-1 .45-1 1s.45 1 1 1h6c.55 0 1-.45 1-1s-.45-1-1-1z' fill='white'/%3e%3c/svg%3e"); }
  .bp3-control.bp3-radio .bp3-control-indicator{
    border-radius:50%; }
  .bp3-control.bp3-radio input:checked ~ .bp3-control-indicator::before{
    background-image:radial-gradient(#ffffff, #ffffff 28%, transparent 32%); }
  .bp3-control.bp3-radio input:checked:disabled ~ .bp3-control-indicator::before{
    opacity:0.5; }
  .bp3-control.bp3-radio input:focus ~ .bp3-control-indicator{
    -moz-outline-radius:16px; }
  .bp3-control.bp3-switch input ~ .bp3-control-indicator{
    background:rgba(167, 182, 194, 0.5); }
  .bp3-control.bp3-switch:hover input ~ .bp3-control-indicator{
    background:rgba(115, 134, 148, 0.5); }
  .bp3-control.bp3-switch input:not(:disabled):active ~ .bp3-control-indicator{
    background:rgba(92, 112, 128, 0.5); }
  .bp3-control.bp3-switch input:disabled ~ .bp3-control-indicator{
    background:rgba(206, 217, 224, 0.5); }
    .bp3-control.bp3-switch input:disabled ~ .bp3-control-indicator::before{
      background:rgba(255, 255, 255, 0.8); }
  .bp3-control.bp3-switch input:checked ~ .bp3-control-indicator{
    background:#137cbd; }
  .bp3-control.bp3-switch:hover input:checked ~ .bp3-control-indicator{
    background:#106ba3; }
  .bp3-control.bp3-switch input:checked:not(:disabled):active ~ .bp3-control-indicator{
    background:#0e5a8a; }
  .bp3-control.bp3-switch input:checked:disabled ~ .bp3-control-indicator{
    background:rgba(19, 124, 189, 0.5); }
    .bp3-control.bp3-switch input:checked:disabled ~ .bp3-control-indicator::before{
      background:rgba(255, 255, 255, 0.8); }
  .bp3-control.bp3-switch:not(.bp3-align-right){
    padding-left:38px; }
    .bp3-control.bp3-switch:not(.bp3-align-right) .bp3-control-indicator{
      margin-left:-38px; }
  .bp3-control.bp3-switch.bp3-align-right{
    padding-right:38px; }
    .bp3-control.bp3-switch.bp3-align-right .bp3-control-indicator{
      margin-right:-38px; }
  .bp3-control.bp3-switch .bp3-control-indicator{
    border:none;
    border-radius:1.75em;
    -webkit-box-shadow:none !important;
            box-shadow:none !important;
    min-width:1.75em;
    -webkit-transition:background-color 100ms cubic-bezier(0.4, 1, 0.75, 0.9);
    transition:background-color 100ms cubic-bezier(0.4, 1, 0.75, 0.9);
    width:auto; }
    .bp3-control.bp3-switch .bp3-control-indicator::before{
      background:#ffffff;
      border-radius:50%;
      -webkit-box-shadow:0 0 0 1px rgba(16, 22, 26, 0.2), 0 1px 1px rgba(16, 22, 26, 0.2);
              box-shadow:0 0 0 1px rgba(16, 22, 26, 0.2), 0 1px 1px rgba(16, 22, 26, 0.2);
      height:calc(1em - 4px);
      left:0;
      margin:2px;
      position:absolute;
      -webkit-transition:left 100ms cubic-bezier(0.4, 1, 0.75, 0.9);
      transition:left 100ms cubic-bezier(0.4, 1, 0.75, 0.9);
      width:calc(1em - 4px); }
  .bp3-control.bp3-switch input:checked ~ .bp3-control-indicator::before{
    left:calc(100% - 1em); }
  .bp3-control.bp3-switch.bp3-large:not(.bp3-align-right){
    padding-left:45px; }
    .bp3-control.bp3-switch.bp3-large:not(.bp3-align-right) .bp3-control-indicator{
      margin-left:-45px; }
  .bp3-control.bp3-switch.bp3-large.bp3-align-right{
    padding-right:45px; }
    .bp3-control.bp3-switch.bp3-large.bp3-align-right .bp3-control-indicator{
      margin-right:-45px; }
  .bp3-dark .bp3-control.bp3-switch input ~ .bp3-control-indicator{
    background:rgba(16, 22, 26, 0.5); }
  .bp3-dark .bp3-control.bp3-switch:hover input ~ .bp3-control-indicator{
    background:rgba(16, 22, 26, 0.7); }
  .bp3-dark .bp3-control.bp3-switch input:not(:disabled):active ~ .bp3-control-indicator{
    background:rgba(16, 22, 26, 0.9); }
  .bp3-dark .bp3-control.bp3-switch input:disabled ~ .bp3-control-indicator{
    background:rgba(57, 75, 89, 0.5); }
    .bp3-dark .bp3-control.bp3-switch input:disabled ~ .bp3-control-indicator::before{
      background:rgba(16, 22, 26, 0.4); }
  .bp3-dark .bp3-control.bp3-switch input:checked ~ .bp3-control-indicator{
    background:#137cbd; }
  .bp3-dark .bp3-control.bp3-switch:hover input:checked ~ .bp3-control-indicator{
    background:#106ba3; }
  .bp3-dark .bp3-control.bp3-switch input:checked:not(:disabled):active ~ .bp3-control-indicator{
    background:#0e5a8a; }
  .bp3-dark .bp3-control.bp3-switch input:checked:disabled ~ .bp3-control-indicator{
    background:rgba(14, 90, 138, 0.5); }
    .bp3-dark .bp3-control.bp3-switch input:checked:disabled ~ .bp3-control-indicator::before{
      background:rgba(16, 22, 26, 0.4); }
  .bp3-dark .bp3-control.bp3-switch .bp3-control-indicator::before{
    background:#394b59;
    -webkit-box-shadow:0 0 0 1px rgba(16, 22, 26, 0.4);
            box-shadow:0 0 0 1px rgba(16, 22, 26, 0.4); }
  .bp3-dark .bp3-control.bp3-switch input:checked ~ .bp3-control-indicator::before{
    -webkit-box-shadow:inset 0 0 0 1px rgba(16, 22, 26, 0.4);
            box-shadow:inset 0 0 0 1px rgba(16, 22, 26, 0.4); }
  .bp3-control.bp3-switch .bp3-switch-inner-text{
    font-size:0.7em;
    text-align:center; }
  .bp3-control.bp3-switch .bp3-control-indicator-child:first-child{
    line-height:0;
    margin-left:0.5em;
    margin-right:1.2em;
    visibility:hidden; }
  .bp3-control.bp3-switch .bp3-control-indicator-child:last-child{
    line-height:1em;
    margin-left:1.2em;
    margin-right:0.5em;
    visibility:visible; }
  .bp3-control.bp3-switch input:checked ~ .bp3-control-indicator .bp3-control-indicator-child:first-child{
    line-height:1em;
    visibility:visible; }
  .bp3-control.bp3-switch input:checked ~ .bp3-control-indicator .bp3-control-indicator-child:last-child{
    line-height:0;
    visibility:hidden; }
  .bp3-dark .bp3-control{
    color:#f5f8fa; }
    .bp3-dark .bp3-control.bp3-disabled{
      color:rgba(167, 182, 194, 0.6); }
    .bp3-dark .bp3-control .bp3-control-indicator{
      background-color:#394b59;
      background-image:-webkit-gradient(linear, left top, left bottom, from(rgba(255, 255, 255, 0.05)), to(rgba(255, 255, 255, 0)));
      background-image:linear-gradient(to bottom, rgba(255, 255, 255, 0.05), rgba(255, 255, 255, 0));
      -webkit-box-shadow:0 0 0 1px rgba(16, 22, 26, 0.4);
              box-shadow:0 0 0 1px rgba(16, 22, 26, 0.4); }
    .bp3-dark .bp3-control:hover .bp3-control-indicator{
      background-color:#30404d; }
    .bp3-dark .bp3-control input:not(:disabled):active ~ .bp3-control-indicator{
      background:#202b33;
      -webkit-box-shadow:0 0 0 1px rgba(16, 22, 26, 0.6), inset 0 1px 2px rgba(16, 22, 26, 0.2);
              box-shadow:0 0 0 1px rgba(16, 22, 26, 0.6), inset 0 1px 2px rgba(16, 22, 26, 0.2); }
    .bp3-dark .bp3-control input:disabled ~ .bp3-control-indicator{
      background:rgba(57, 75, 89, 0.5);
      -webkit-box-shadow:none;
              box-shadow:none;
      cursor:not-allowed; }
    .bp3-dark .bp3-control.bp3-checkbox input:disabled:checked ~ .bp3-control-indicator, .bp3-dark .bp3-control.bp3-checkbox input:disabled:indeterminate ~ .bp3-control-indicator{
      color:rgba(167, 182, 194, 0.6); }
.bp3-file-input{
  cursor:pointer;
  display:inline-block;
  height:30px;
  position:relative; }
  .bp3-file-input input{
    margin:0;
    min-width:200px;
    opacity:0; }
    .bp3-file-input input:disabled + .bp3-file-upload-input,
    .bp3-file-input input.bp3-disabled + .bp3-file-upload-input{
      background:rgba(206, 217, 224, 0.5);
      -webkit-box-shadow:none;
              box-shadow:none;
      color:rgba(92, 112, 128, 0.6);
      cursor:not-allowed;
      resize:none; }
      .bp3-file-input input:disabled + .bp3-file-upload-input::after,
      .bp3-file-input input.bp3-disabled + .bp3-file-upload-input::after{
        background-color:rgba(206, 217, 224, 0.5);
        background-image:none;
        -webkit-box-shadow:none;
                box-shadow:none;
        color:rgba(92, 112, 128, 0.6);
        cursor:not-allowed;
        outline:none; }
        .bp3-file-input input:disabled + .bp3-file-upload-input::after.bp3-active, .bp3-file-input input:disabled + .bp3-file-upload-input::after.bp3-active:hover,
        .bp3-file-input input.bp3-disabled + .bp3-file-upload-input::after.bp3-active,
        .bp3-file-input input.bp3-disabled + .bp3-file-upload-input::after.bp3-active:hover{
          background:rgba(206, 217, 224, 0.7); }
      .bp3-dark .bp3-file-input input:disabled + .bp3-file-upload-input, .bp3-dark
      .bp3-file-input input.bp3-disabled + .bp3-file-upload-input{
        background:rgba(57, 75, 89, 0.5);
        -webkit-box-shadow:none;
                box-shadow:none;
        color:rgba(167, 182, 194, 0.6); }
        .bp3-dark .bp3-file-input input:disabled + .bp3-file-upload-input::after, .bp3-dark
        .bp3-file-input input.bp3-disabled + .bp3-file-upload-input::after{
          background-color:rgba(57, 75, 89, 0.5);
          background-image:none;
          -webkit-box-shadow:none;
                  box-shadow:none;
          color:rgba(167, 182, 194, 0.6); }
          .bp3-dark .bp3-file-input input:disabled + .bp3-file-upload-input::after.bp3-active, .bp3-dark
          .bp3-file-input input.bp3-disabled + .bp3-file-upload-input::after.bp3-active{
            background:rgba(57, 75, 89, 0.7); }
  .bp3-file-input.bp3-file-input-has-selection .bp3-file-upload-input{
    color:#182026; }
  .bp3-dark .bp3-file-input.bp3-file-input-has-selection .bp3-file-upload-input{
    color:#f5f8fa; }
  .bp3-file-input.bp3-fill{
    width:100%; }
  .bp3-file-input.bp3-large,
  .bp3-large .bp3-file-input{
    height:40px; }
  .bp3-file-input .bp3-file-upload-input-custom-text::after{
    content:attr(bp3-button-text); }

.bp3-file-upload-input{
  -webkit-appearance:none;
     -moz-appearance:none;
          appearance:none;
  background:#ffffff;
  border:none;
  border-radius:3px;
  -webkit-box-shadow:0 0 0 0 rgba(19, 124, 189, 0), 0 0 0 0 rgba(19, 124, 189, 0), inset 0 0 0 1px rgba(16, 22, 26, 0.15), inset 0 1px 1px rgba(16, 22, 26, 0.2);
          box-shadow:0 0 0 0 rgba(19, 124, 189, 0), 0 0 0 0 rgba(19, 124, 189, 0), inset 0 0 0 1px rgba(16, 22, 26, 0.15), inset 0 1px 1px rgba(16, 22, 26, 0.2);
  color:#182026;
  font-size:14px;
  font-weight:400;
  height:30px;
  line-height:30px;
  outline:none;
  padding:0 10px;
  -webkit-transition:-webkit-box-shadow 100ms cubic-bezier(0.4, 1, 0.75, 0.9);
  transition:-webkit-box-shadow 100ms cubic-bezier(0.4, 1, 0.75, 0.9);
  transition:box-shadow 100ms cubic-bezier(0.4, 1, 0.75, 0.9);
  transition:box-shadow 100ms cubic-bezier(0.4, 1, 0.75, 0.9), -webkit-box-shadow 100ms cubic-bezier(0.4, 1, 0.75, 0.9);
  vertical-align:middle;
  overflow:hidden;
  text-overflow:ellipsis;
  white-space:nowrap;
  word-wrap:normal;
  color:rgba(92, 112, 128, 0.6);
  left:0;
  padding-right:80px;
  position:absolute;
  right:0;
  top:0;
  -webkit-user-select:none;
     -moz-user-select:none;
      -ms-user-select:none;
          user-select:none; }
  .bp3-file-upload-input::-webkit-input-placeholder{
    color:rgba(92, 112, 128, 0.6);
    opacity:1; }
  .bp3-file-upload-input::-moz-placeholder{
    color:rgba(92, 112, 128, 0.6);
    opacity:1; }
  .bp3-file-upload-input:-ms-input-placeholder{
    color:rgba(92, 112, 128, 0.6);
    opacity:1; }
  .bp3-file-upload-input::-ms-input-placeholder{
    color:rgba(92, 112, 128, 0.6);
    opacity:1; }
  .bp3-file-upload-input::placeholder{
    color:rgba(92, 112, 128, 0.6);
    opacity:1; }
  .bp3-file-upload-input:focus, .bp3-file-upload-input.bp3-active{
    -webkit-box-shadow:0 0 0 1px #137cbd, 0 0 0 3px rgba(19, 124, 189, 0.3), inset 0 1px 1px rgba(16, 22, 26, 0.2);
            box-shadow:0 0 0 1px #137cbd, 0 0 0 3px rgba(19, 124, 189, 0.3), inset 0 1px 1px rgba(16, 22, 26, 0.2); }
  .bp3-file-upload-input[type="search"], .bp3-file-upload-input.bp3-round{
    border-radius:30px;
    -webkit-box-sizing:border-box;
            box-sizing:border-box;
    padding-left:10px; }
  .bp3-file-upload-input[readonly]{
    -webkit-box-shadow:inset 0 0 0 1px rgba(16, 22, 26, 0.15);
            box-shadow:inset 0 0 0 1px rgba(16, 22, 26, 0.15); }
  .bp3-file-upload-input:disabled, .bp3-file-upload-input.bp3-disabled{
    background:rgba(206, 217, 224, 0.5);
    -webkit-box-shadow:none;
            box-shadow:none;
    color:rgba(92, 112, 128, 0.6);
    cursor:not-allowed;
    resize:none; }
  .bp3-file-upload-input::after{
    background-color:#f5f8fa;
    background-image:-webkit-gradient(linear, left top, left bottom, from(rgba(255, 255, 255, 0.8)), to(rgba(255, 255, 255, 0)));
    background-image:linear-gradient(to bottom, rgba(255, 255, 255, 0.8), rgba(255, 255, 255, 0));
    -webkit-box-shadow:inset 0 0 0 1px rgba(16, 22, 26, 0.2), inset 0 -1px 0 rgba(16, 22, 26, 0.1);
            box-shadow:inset 0 0 0 1px rgba(16, 22, 26, 0.2), inset 0 -1px 0 rgba(16, 22, 26, 0.1);
    color:#182026;
    min-height:24px;
    min-width:24px;
    overflow:hidden;
    text-overflow:ellipsis;
    white-space:nowrap;
    word-wrap:normal;
    border-radius:3px;
    content:"Browse";
    line-height:24px;
    margin:3px;
    position:absolute;
    right:0;
    text-align:center;
    top:0;
    width:70px; }
    .bp3-file-upload-input::after:hover{
      background-clip:padding-box;
      background-color:#ebf1f5;
      -webkit-box-shadow:inset 0 0 0 1px rgba(16, 22, 26, 0.2), inset 0 -1px 0 rgba(16, 22, 26, 0.1);
              box-shadow:inset 0 0 0 1px rgba(16, 22, 26, 0.2), inset 0 -1px 0 rgba(16, 22, 26, 0.1); }
    .bp3-file-upload-input::after:active, .bp3-file-upload-input::after.bp3-active{
      background-color:#d8e1e8;
      background-image:none;
      -webkit-box-shadow:inset 0 0 0 1px rgba(16, 22, 26, 0.2), inset 0 1px 2px rgba(16, 22, 26, 0.2);
              box-shadow:inset 0 0 0 1px rgba(16, 22, 26, 0.2), inset 0 1px 2px rgba(16, 22, 26, 0.2); }
    .bp3-file-upload-input::after:disabled, .bp3-file-upload-input::after.bp3-disabled{
      background-color:rgba(206, 217, 224, 0.5);
      background-image:none;
      -webkit-box-shadow:none;
              box-shadow:none;
      color:rgba(92, 112, 128, 0.6);
      cursor:not-allowed;
      outline:none; }
      .bp3-file-upload-input::after:disabled.bp3-active, .bp3-file-upload-input::after:disabled.bp3-active:hover, .bp3-file-upload-input::after.bp3-disabled.bp3-active, .bp3-file-upload-input::after.bp3-disabled.bp3-active:hover{
        background:rgba(206, 217, 224, 0.7); }
  .bp3-file-upload-input:hover::after{
    background-clip:padding-box;
    background-color:#ebf1f5;
    -webkit-box-shadow:inset 0 0 0 1px rgba(16, 22, 26, 0.2), inset 0 -1px 0 rgba(16, 22, 26, 0.1);
            box-shadow:inset 0 0 0 1px rgba(16, 22, 26, 0.2), inset 0 -1px 0 rgba(16, 22, 26, 0.1); }
  .bp3-file-upload-input:active::after{
    background-color:#d8e1e8;
    background-image:none;
    -webkit-box-shadow:inset 0 0 0 1px rgba(16, 22, 26, 0.2), inset 0 1px 2px rgba(16, 22, 26, 0.2);
            box-shadow:inset 0 0 0 1px rgba(16, 22, 26, 0.2), inset 0 1px 2px rgba(16, 22, 26, 0.2); }
  .bp3-large .bp3-file-upload-input{
    font-size:16px;
    height:40px;
    line-height:40px;
    padding-right:95px; }
    .bp3-large .bp3-file-upload-input[type="search"], .bp3-large .bp3-file-upload-input.bp3-round{
      padding:0 15px; }
    .bp3-large .bp3-file-upload-input::after{
      min-height:30px;
      min-width:30px;
      line-height:30px;
      margin:5px;
      width:85px; }
  .bp3-dark .bp3-file-upload-input{
    background:rgba(16, 22, 26, 0.3);
    -webkit-box-shadow:0 0 0 0 rgba(19, 124, 189, 0), 0 0 0 0 rgba(19, 124, 189, 0), 0 0 0 0 rgba(19, 124, 189, 0), inset 0 0 0 1px rgba(16, 22, 26, 0.3), inset 0 1px 1px rgba(16, 22, 26, 0.4);
            box-shadow:0 0 0 0 rgba(19, 124, 189, 0), 0 0 0 0 rgba(19, 124, 189, 0), 0 0 0 0 rgba(19, 124, 189, 0), inset 0 0 0 1px rgba(16, 22, 26, 0.3), inset 0 1px 1px rgba(16, 22, 26, 0.4);
    color:#f5f8fa;
    color:rgba(167, 182, 194, 0.6); }
    .bp3-dark .bp3-file-upload-input::-webkit-input-placeholder{
      color:rgba(167, 182, 194, 0.6); }
    .bp3-dark .bp3-file-upload-input::-moz-placeholder{
      color:rgba(167, 182, 194, 0.6); }
    .bp3-dark .bp3-file-upload-input:-ms-input-placeholder{
      color:rgba(167, 182, 194, 0.6); }
    .bp3-dark .bp3-file-upload-input::-ms-input-placeholder{
      color:rgba(167, 182, 194, 0.6); }
    .bp3-dark .bp3-file-upload-input::placeholder{
      color:rgba(167, 182, 194, 0.6); }
    .bp3-dark .bp3-file-upload-input:focus{
      -webkit-box-shadow:0 0 0 1px #137cbd, 0 0 0 1px #137cbd, 0 0 0 3px rgba(19, 124, 189, 0.3), inset 0 0 0 1px rgba(16, 22, 26, 0.3), inset 0 1px 1px rgba(16, 22, 26, 0.4);
              box-shadow:0 0 0 1px #137cbd, 0 0 0 1px #137cbd, 0 0 0 3px rgba(19, 124, 189, 0.3), inset 0 0 0 1px rgba(16, 22, 26, 0.3), inset 0 1px 1px rgba(16, 22, 26, 0.4); }
    .bp3-dark .bp3-file-upload-input[readonly]{
      -webkit-box-shadow:inset 0 0 0 1px rgba(16, 22, 26, 0.4);
              box-shadow:inset 0 0 0 1px rgba(16, 22, 26, 0.4); }
    .bp3-dark .bp3-file-upload-input:disabled, .bp3-dark .bp3-file-upload-input.bp3-disabled{
      background:rgba(57, 75, 89, 0.5);
      -webkit-box-shadow:none;
              box-shadow:none;
      color:rgba(167, 182, 194, 0.6); }
    .bp3-dark .bp3-file-upload-input::after{
      background-color:#394b59;
      background-image:-webkit-gradient(linear, left top, left bottom, from(rgba(255, 255, 255, 0.05)), to(rgba(255, 255, 255, 0)));
      background-image:linear-gradient(to bottom, rgba(255, 255, 255, 0.05), rgba(255, 255, 255, 0));
      -webkit-box-shadow:0 0 0 1px rgba(16, 22, 26, 0.4);
              box-shadow:0 0 0 1px rgba(16, 22, 26, 0.4);
      color:#f5f8fa; }
      .bp3-dark .bp3-file-upload-input::after:hover, .bp3-dark .bp3-file-upload-input::after:active, .bp3-dark .bp3-file-upload-input::after.bp3-active{
        color:#f5f8fa; }
      .bp3-dark .bp3-file-upload-input::after:hover{
        background-color:#30404d;
        -webkit-box-shadow:0 0 0 1px rgba(16, 22, 26, 0.4);
                box-shadow:0 0 0 1px rgba(16, 22, 26, 0.4); }
      .bp3-dark .bp3-file-upload-input::after:active, .bp3-dark .bp3-file-upload-input::after.bp3-active{
        background-color:#202b33;
        background-image:none;
        -webkit-box-shadow:0 0 0 1px rgba(16, 22, 26, 0.6), inset 0 1px 2px rgba(16, 22, 26, 0.2);
                box-shadow:0 0 0 1px rgba(16, 22, 26, 0.6), inset 0 1px 2px rgba(16, 22, 26, 0.2); }
      .bp3-dark .bp3-file-upload-input::after:disabled, .bp3-dark .bp3-file-upload-input::after.bp3-disabled{
        background-color:rgba(57, 75, 89, 0.5);
        background-image:none;
        -webkit-box-shadow:none;
                box-shadow:none;
        color:rgba(167, 182, 194, 0.6); }
        .bp3-dark .bp3-file-upload-input::after:disabled.bp3-active, .bp3-dark .bp3-file-upload-input::after.bp3-disabled.bp3-active{
          background:rgba(57, 75, 89, 0.7); }
      .bp3-dark .bp3-file-upload-input::after .bp3-button-spinner .bp3-spinner-head{
        background:rgba(16, 22, 26, 0.5);
        stroke:#8a9ba8; }
    .bp3-dark .bp3-file-upload-input:hover::after{
      background-color:#30404d;
      -webkit-box-shadow:0 0 0 1px rgba(16, 22, 26, 0.4);
              box-shadow:0 0 0 1px rgba(16, 22, 26, 0.4); }
    .bp3-dark .bp3-file-upload-input:active::after{
      background-color:#202b33;
      background-image:none;
      -webkit-box-shadow:0 0 0 1px rgba(16, 22, 26, 0.6), inset 0 1px 2px rgba(16, 22, 26, 0.2);
              box-shadow:0 0 0 1px rgba(16, 22, 26, 0.6), inset 0 1px 2px rgba(16, 22, 26, 0.2); }
.bp3-file-upload-input::after{
  -webkit-box-shadow:inset 0 0 0 1px rgba(16, 22, 26, 0.2), inset 0 -1px 0 rgba(16, 22, 26, 0.1);
          box-shadow:inset 0 0 0 1px rgba(16, 22, 26, 0.2), inset 0 -1px 0 rgba(16, 22, 26, 0.1); }
.bp3-form-group{
  display:-webkit-box;
  display:-ms-flexbox;
  display:flex;
  -webkit-box-orient:vertical;
  -webkit-box-direction:normal;
      -ms-flex-direction:column;
          flex-direction:column;
  margin:0 0 15px; }
  .bp3-form-group label.bp3-label{
    margin-bottom:5px; }
  .bp3-form-group .bp3-control{
    margin-top:7px; }
  .bp3-form-group .bp3-form-helper-text{
    color:#5c7080;
    font-size:12px;
    margin-top:5px; }
  .bp3-form-group.bp3-intent-primary .bp3-form-helper-text{
    color:#106ba3; }
  .bp3-form-group.bp3-intent-success .bp3-form-helper-text{
    color:#0d8050; }
  .bp3-form-group.bp3-intent-warning .bp3-form-helper-text{
    color:#bf7326; }
  .bp3-form-group.bp3-intent-danger .bp3-form-helper-text{
    color:#c23030; }
  .bp3-form-group.bp3-inline{
    -webkit-box-align:start;
        -ms-flex-align:start;
            align-items:flex-start;
    -webkit-box-orient:horizontal;
    -webkit-box-direction:normal;
        -ms-flex-direction:row;
            flex-direction:row; }
    .bp3-form-group.bp3-inline.bp3-large label.bp3-label{
      line-height:40px;
      margin:0 10px 0 0; }
    .bp3-form-group.bp3-inline label.bp3-label{
      line-height:30px;
      margin:0 10px 0 0; }
  .bp3-form-group.bp3-disabled .bp3-label,
  .bp3-form-group.bp3-disabled .bp3-text-muted,
  .bp3-form-group.bp3-disabled .bp3-form-helper-text{
    color:rgba(92, 112, 128, 0.6) !important; }
  .bp3-dark .bp3-form-group.bp3-intent-primary .bp3-form-helper-text{
    color:#48aff0; }
  .bp3-dark .bp3-form-group.bp3-intent-success .bp3-form-helper-text{
    color:#3dcc91; }
  .bp3-dark .bp3-form-group.bp3-intent-warning .bp3-form-helper-text{
    color:#ffb366; }
  .bp3-dark .bp3-form-group.bp3-intent-danger .bp3-form-helper-text{
    color:#ff7373; }
  .bp3-dark .bp3-form-group .bp3-form-helper-text{
    color:#a7b6c2; }
  .bp3-dark .bp3-form-group.bp3-disabled .bp3-label,
  .bp3-dark .bp3-form-group.bp3-disabled .bp3-text-muted,
  .bp3-dark .bp3-form-group.bp3-disabled .bp3-form-helper-text{
    color:rgba(167, 182, 194, 0.6) !important; }
.bp3-input-group{
  display:block;
  position:relative; }
  .bp3-input-group .bp3-input{
    position:relative;
    width:100%; }
    .bp3-input-group .bp3-input:not(:first-child){
      padding-left:30px; }
    .bp3-input-group .bp3-input:not(:last-child){
      padding-right:30px; }
  .bp3-input-group .bp3-input-action,
  .bp3-input-group > .bp3-input-left-container,
  .bp3-input-group > .bp3-button,
  .bp3-input-group > .bp3-icon{
    position:absolute;
    top:0; }
    .bp3-input-group .bp3-input-action:first-child,
    .bp3-input-group > .bp3-input-left-container:first-child,
    .bp3-input-group > .bp3-button:first-child,
    .bp3-input-group > .bp3-icon:first-child{
      left:0; }
    .bp3-input-group .bp3-input-action:last-child,
    .bp3-input-group > .bp3-input-left-container:last-child,
    .bp3-input-group > .bp3-button:last-child,
    .bp3-input-group > .bp3-icon:last-child{
      right:0; }
  .bp3-input-group .bp3-button{
    min-height:24px;
    min-width:24px;
    margin:3px;
    padding:0 7px; }
    .bp3-input-group .bp3-button:empty{
      padding:0; }
  .bp3-input-group > .bp3-input-left-container,
  .bp3-input-group > .bp3-icon{
    z-index:1; }
  .bp3-input-group > .bp3-input-left-container > .bp3-icon,
  .bp3-input-group > .bp3-icon{
    color:#5c7080; }
    .bp3-input-group > .bp3-input-left-container > .bp3-icon:empty,
    .bp3-input-group > .bp3-icon:empty{
      font-family:"Icons16", sans-serif;
      font-size:16px;
      font-style:normal;
      font-weight:400;
      line-height:1;
      -moz-osx-font-smoothing:grayscale;
      -webkit-font-smoothing:antialiased; }
  .bp3-input-group > .bp3-input-left-container > .bp3-icon,
  .bp3-input-group > .bp3-icon,
  .bp3-input-group .bp3-input-action > .bp3-spinner{
    margin:7px; }
  .bp3-input-group .bp3-tag{
    margin:5px; }
  .bp3-input-group .bp3-input:not(:focus) + .bp3-button.bp3-minimal:not(:hover):not(:focus),
  .bp3-input-group .bp3-input:not(:focus) + .bp3-input-action .bp3-button.bp3-minimal:not(:hover):not(:focus){
    color:#5c7080; }
    .bp3-dark .bp3-input-group .bp3-input:not(:focus) + .bp3-button.bp3-minimal:not(:hover):not(:focus), .bp3-dark
    .bp3-input-group .bp3-input:not(:focus) + .bp3-input-action .bp3-button.bp3-minimal:not(:hover):not(:focus){
      color:#a7b6c2; }
    .bp3-input-group .bp3-input:not(:focus) + .bp3-button.bp3-minimal:not(:hover):not(:focus) .bp3-icon, .bp3-input-group .bp3-input:not(:focus) + .bp3-button.bp3-minimal:not(:hover):not(:focus) .bp3-icon-standard, .bp3-input-group .bp3-input:not(:focus) + .bp3-button.bp3-minimal:not(:hover):not(:focus) .bp3-icon-large,
    .bp3-input-group .bp3-input:not(:focus) + .bp3-input-action .bp3-button.bp3-minimal:not(:hover):not(:focus) .bp3-icon,
    .bp3-input-group .bp3-input:not(:focus) + .bp3-input-action .bp3-button.bp3-minimal:not(:hover):not(:focus) .bp3-icon-standard,
    .bp3-input-group .bp3-input:not(:focus) + .bp3-input-action .bp3-button.bp3-minimal:not(:hover):not(:focus) .bp3-icon-large{
      color:#5c7080; }
  .bp3-input-group .bp3-input:not(:focus) + .bp3-button.bp3-minimal:disabled,
  .bp3-input-group .bp3-input:not(:focus) + .bp3-input-action .bp3-button.bp3-minimal:disabled{
    color:rgba(92, 112, 128, 0.6) !important; }
    .bp3-input-group .bp3-input:not(:focus) + .bp3-button.bp3-minimal:disabled .bp3-icon, .bp3-input-group .bp3-input:not(:focus) + .bp3-button.bp3-minimal:disabled .bp3-icon-standard, .bp3-input-group .bp3-input:not(:focus) + .bp3-button.bp3-minimal:disabled .bp3-icon-large,
    .bp3-input-group .bp3-input:not(:focus) + .bp3-input-action .bp3-button.bp3-minimal:disabled .bp3-icon,
    .bp3-input-group .bp3-input:not(:focus) + .bp3-input-action .bp3-button.bp3-minimal:disabled .bp3-icon-standard,
    .bp3-input-group .bp3-input:not(:focus) + .bp3-input-action .bp3-button.bp3-minimal:disabled .bp3-icon-large{
      color:rgba(92, 112, 128, 0.6) !important; }
  .bp3-input-group.bp3-disabled{
    cursor:not-allowed; }
    .bp3-input-group.bp3-disabled .bp3-icon{
      color:rgba(92, 112, 128, 0.6); }
  .bp3-input-group.bp3-large .bp3-button{
    min-height:30px;
    min-width:30px;
    margin:5px; }
  .bp3-input-group.bp3-large > .bp3-input-left-container > .bp3-icon,
  .bp3-input-group.bp3-large > .bp3-icon,
  .bp3-input-group.bp3-large .bp3-input-action > .bp3-spinner{
    margin:12px; }
  .bp3-input-group.bp3-large .bp3-input{
    font-size:16px;
    height:40px;
    line-height:40px; }
    .bp3-input-group.bp3-large .bp3-input[type="search"], .bp3-input-group.bp3-large .bp3-input.bp3-round{
      padding:0 15px; }
    .bp3-input-group.bp3-large .bp3-input:not(:first-child){
      padding-left:40px; }
    .bp3-input-group.bp3-large .bp3-input:not(:last-child){
      padding-right:40px; }
  .bp3-input-group.bp3-small .bp3-button{
    min-height:20px;
    min-width:20px;
    margin:2px; }
  .bp3-input-group.bp3-small .bp3-tag{
    min-height:20px;
    min-width:20px;
    margin:2px; }
  .bp3-input-group.bp3-small > .bp3-input-left-container > .bp3-icon,
  .bp3-input-group.bp3-small > .bp3-icon,
  .bp3-input-group.bp3-small .bp3-input-action > .bp3-spinner{
    margin:4px; }
  .bp3-input-group.bp3-small .bp3-input{
    font-size:12px;
    height:24px;
    line-height:24px;
    padding-left:8px;
    padding-right:8px; }
    .bp3-input-group.bp3-small .bp3-input[type="search"], .bp3-input-group.bp3-small .bp3-input.bp3-round{
      padding:0 12px; }
    .bp3-input-group.bp3-small .bp3-input:not(:first-child){
      padding-left:24px; }
    .bp3-input-group.bp3-small .bp3-input:not(:last-child){
      padding-right:24px; }
  .bp3-input-group.bp3-fill{
    -webkit-box-flex:1;
        -ms-flex:1 1 auto;
            flex:1 1 auto;
    width:100%; }
  .bp3-input-group.bp3-round .bp3-button,
  .bp3-input-group.bp3-round .bp3-input,
  .bp3-input-group.bp3-round .bp3-tag{
    border-radius:30px; }
  .bp3-dark .bp3-input-group .bp3-icon{
    color:#a7b6c2; }
  .bp3-dark .bp3-input-group.bp3-disabled .bp3-icon{
    color:rgba(167, 182, 194, 0.6); }
  .bp3-input-group.bp3-intent-primary .bp3-input{
    -webkit-box-shadow:0 0 0 0 rgba(19, 124, 189, 0), 0 0 0 0 rgba(19, 124, 189, 0), inset 0 0 0 1px #137cbd, inset 0 0 0 1px rgba(16, 22, 26, 0.15), inset 0 1px 1px rgba(16, 22, 26, 0.2);
            box-shadow:0 0 0 0 rgba(19, 124, 189, 0), 0 0 0 0 rgba(19, 124, 189, 0), inset 0 0 0 1px #137cbd, inset 0 0 0 1px rgba(16, 22, 26, 0.15), inset 0 1px 1px rgba(16, 22, 26, 0.2); }
    .bp3-input-group.bp3-intent-primary .bp3-input:focus{
      -webkit-box-shadow:0 0 0 1px #137cbd, 0 0 0 3px rgba(19, 124, 189, 0.3), inset 0 1px 1px rgba(16, 22, 26, 0.2);
              box-shadow:0 0 0 1px #137cbd, 0 0 0 3px rgba(19, 124, 189, 0.3), inset 0 1px 1px rgba(16, 22, 26, 0.2); }
    .bp3-input-group.bp3-intent-primary .bp3-input[readonly]{
      -webkit-box-shadow:inset 0 0 0 1px #137cbd;
              box-shadow:inset 0 0 0 1px #137cbd; }
    .bp3-input-group.bp3-intent-primary .bp3-input:disabled, .bp3-input-group.bp3-intent-primary .bp3-input.bp3-disabled{
      -webkit-box-shadow:none;
              box-shadow:none; }
  .bp3-input-group.bp3-intent-primary > .bp3-icon{
    color:#106ba3; }
    .bp3-dark .bp3-input-group.bp3-intent-primary > .bp3-icon{
      color:#48aff0; }
  .bp3-input-group.bp3-intent-success .bp3-input{
    -webkit-box-shadow:0 0 0 0 rgba(15, 153, 96, 0), 0 0 0 0 rgba(15, 153, 96, 0), inset 0 0 0 1px #0f9960, inset 0 0 0 1px rgba(16, 22, 26, 0.15), inset 0 1px 1px rgba(16, 22, 26, 0.2);
            box-shadow:0 0 0 0 rgba(15, 153, 96, 0), 0 0 0 0 rgba(15, 153, 96, 0), inset 0 0 0 1px #0f9960, inset 0 0 0 1px rgba(16, 22, 26, 0.15), inset 0 1px 1px rgba(16, 22, 26, 0.2); }
    .bp3-input-group.bp3-intent-success .bp3-input:focus{
      -webkit-box-shadow:0 0 0 1px #0f9960, 0 0 0 3px rgba(15, 153, 96, 0.3), inset 0 1px 1px rgba(16, 22, 26, 0.2);
              box-shadow:0 0 0 1px #0f9960, 0 0 0 3px rgba(15, 153, 96, 0.3), inset 0 1px 1px rgba(16, 22, 26, 0.2); }
    .bp3-input-group.bp3-intent-success .bp3-input[readonly]{
      -webkit-box-shadow:inset 0 0 0 1px #0f9960;
              box-shadow:inset 0 0 0 1px #0f9960; }
    .bp3-input-group.bp3-intent-success .bp3-input:disabled, .bp3-input-group.bp3-intent-success .bp3-input.bp3-disabled{
      -webkit-box-shadow:none;
              box-shadow:none; }
  .bp3-input-group.bp3-intent-success > .bp3-icon{
    color:#0d8050; }
    .bp3-dark .bp3-input-group.bp3-intent-success > .bp3-icon{
      color:#3dcc91; }
  .bp3-input-group.bp3-intent-warning .bp3-input{
    -webkit-box-shadow:0 0 0 0 rgba(217, 130, 43, 0), 0 0 0 0 rgba(217, 130, 43, 0), inset 0 0 0 1px #d9822b, inset 0 0 0 1px rgba(16, 22, 26, 0.15), inset 0 1px 1px rgba(16, 22, 26, 0.2);
            box-shadow:0 0 0 0 rgba(217, 130, 43, 0), 0 0 0 0 rgba(217, 130, 43, 0), inset 0 0 0 1px #d9822b, inset 0 0 0 1px rgba(16, 22, 26, 0.15), inset 0 1px 1px rgba(16, 22, 26, 0.2); }
    .bp3-input-group.bp3-intent-warning .bp3-input:focus{
      -webkit-box-shadow:0 0 0 1px #d9822b, 0 0 0 3px rgba(217, 130, 43, 0.3), inset 0 1px 1px rgba(16, 22, 26, 0.2);
              box-shadow:0 0 0 1px #d9822b, 0 0 0 3px rgba(217, 130, 43, 0.3), inset 0 1px 1px rgba(16, 22, 26, 0.2); }
    .bp3-input-group.bp3-intent-warning .bp3-input[readonly]{
      -webkit-box-shadow:inset 0 0 0 1px #d9822b;
              box-shadow:inset 0 0 0 1px #d9822b; }
    .bp3-input-group.bp3-intent-warning .bp3-input:disabled, .bp3-input-group.bp3-intent-warning .bp3-input.bp3-disabled{
      -webkit-box-shadow:none;
              box-shadow:none; }
  .bp3-input-group.bp3-intent-warning > .bp3-icon{
    color:#bf7326; }
    .bp3-dark .bp3-input-group.bp3-intent-warning > .bp3-icon{
      color:#ffb366; }
  .bp3-input-group.bp3-intent-danger .bp3-input{
    -webkit-box-shadow:0 0 0 0 rgba(219, 55, 55, 0), 0 0 0 0 rgba(219, 55, 55, 0), inset 0 0 0 1px #db3737, inset 0 0 0 1px rgba(16, 22, 26, 0.15), inset 0 1px 1px rgba(16, 22, 26, 0.2);
            box-shadow:0 0 0 0 rgba(219, 55, 55, 0), 0 0 0 0 rgba(219, 55, 55, 0), inset 0 0 0 1px #db3737, inset 0 0 0 1px rgba(16, 22, 26, 0.15), inset 0 1px 1px rgba(16, 22, 26, 0.2); }
    .bp3-input-group.bp3-intent-danger .bp3-input:focus{
      -webkit-box-shadow:0 0 0 1px #db3737, 0 0 0 3px rgba(219, 55, 55, 0.3), inset 0 1px 1px rgba(16, 22, 26, 0.2);
              box-shadow:0 0 0 1px #db3737, 0 0 0 3px rgba(219, 55, 55, 0.3), inset 0 1px 1px rgba(16, 22, 26, 0.2); }
    .bp3-input-group.bp3-intent-danger .bp3-input[readonly]{
      -webkit-box-shadow:inset 0 0 0 1px #db3737;
              box-shadow:inset 0 0 0 1px #db3737; }
    .bp3-input-group.bp3-intent-danger .bp3-input:disabled, .bp3-input-group.bp3-intent-danger .bp3-input.bp3-disabled{
      -webkit-box-shadow:none;
              box-shadow:none; }
  .bp3-input-group.bp3-intent-danger > .bp3-icon{
    color:#c23030; }
    .bp3-dark .bp3-input-group.bp3-intent-danger > .bp3-icon{
      color:#ff7373; }
.bp3-input{
  -webkit-appearance:none;
     -moz-appearance:none;
          appearance:none;
  background:#ffffff;
  border:none;
  border-radius:3px;
  -webkit-box-shadow:0 0 0 0 rgba(19, 124, 189, 0), 0 0 0 0 rgba(19, 124, 189, 0), inset 0 0 0 1px rgba(16, 22, 26, 0.15), inset 0 1px 1px rgba(16, 22, 26, 0.2);
          box-shadow:0 0 0 0 rgba(19, 124, 189, 0), 0 0 0 0 rgba(19, 124, 189, 0), inset 0 0 0 1px rgba(16, 22, 26, 0.15), inset 0 1px 1px rgba(16, 22, 26, 0.2);
  color:#182026;
  font-size:14px;
  font-weight:400;
  height:30px;
  line-height:30px;
  outline:none;
  padding:0 10px;
  -webkit-transition:-webkit-box-shadow 100ms cubic-bezier(0.4, 1, 0.75, 0.9);
  transition:-webkit-box-shadow 100ms cubic-bezier(0.4, 1, 0.75, 0.9);
  transition:box-shadow 100ms cubic-bezier(0.4, 1, 0.75, 0.9);
  transition:box-shadow 100ms cubic-bezier(0.4, 1, 0.75, 0.9), -webkit-box-shadow 100ms cubic-bezier(0.4, 1, 0.75, 0.9);
  vertical-align:middle; }
  .bp3-input::-webkit-input-placeholder{
    color:rgba(92, 112, 128, 0.6);
    opacity:1; }
  .bp3-input::-moz-placeholder{
    color:rgba(92, 112, 128, 0.6);
    opacity:1; }
  .bp3-input:-ms-input-placeholder{
    color:rgba(92, 112, 128, 0.6);
    opacity:1; }
  .bp3-input::-ms-input-placeholder{
    color:rgba(92, 112, 128, 0.6);
    opacity:1; }
  .bp3-input::placeholder{
    color:rgba(92, 112, 128, 0.6);
    opacity:1; }
  .bp3-input:focus, .bp3-input.bp3-active{
    -webkit-box-shadow:0 0 0 1px #137cbd, 0 0 0 3px rgba(19, 124, 189, 0.3), inset 0 1px 1px rgba(16, 22, 26, 0.2);
            box-shadow:0 0 0 1px #137cbd, 0 0 0 3px rgba(19, 124, 189, 0.3), inset 0 1px 1px rgba(16, 22, 26, 0.2); }
  .bp3-input[type="search"], .bp3-input.bp3-round{
    border-radius:30px;
    -webkit-box-sizing:border-box;
            box-sizing:border-box;
    padding-left:10px; }
  .bp3-input[readonly]{
    -webkit-box-shadow:inset 0 0 0 1px rgba(16, 22, 26, 0.15);
            box-shadow:inset 0 0 0 1px rgba(16, 22, 26, 0.15); }
  .bp3-input:disabled, .bp3-input.bp3-disabled{
    background:rgba(206, 217, 224, 0.5);
    -webkit-box-shadow:none;
            box-shadow:none;
    color:rgba(92, 112, 128, 0.6);
    cursor:not-allowed;
    resize:none; }
  .bp3-input.bp3-large{
    font-size:16px;
    height:40px;
    line-height:40px; }
    .bp3-input.bp3-large[type="search"], .bp3-input.bp3-large.bp3-round{
      padding:0 15px; }
  .bp3-input.bp3-small{
    font-size:12px;
    height:24px;
    line-height:24px;
    padding-left:8px;
    padding-right:8px; }
    .bp3-input.bp3-small[type="search"], .bp3-input.bp3-small.bp3-round{
      padding:0 12px; }
  .bp3-input.bp3-fill{
    -webkit-box-flex:1;
        -ms-flex:1 1 auto;
            flex:1 1 auto;
    width:100%; }
  .bp3-dark .bp3-input{
    background:rgba(16, 22, 26, 0.3);
    -webkit-box-shadow:0 0 0 0 rgba(19, 124, 189, 0), 0 0 0 0 rgba(19, 124, 189, 0), 0 0 0 0 rgba(19, 124, 189, 0), inset 0 0 0 1px rgba(16, 22, 26, 0.3), inset 0 1px 1px rgba(16, 22, 26, 0.4);
            box-shadow:0 0 0 0 rgba(19, 124, 189, 0), 0 0 0 0 rgba(19, 124, 189, 0), 0 0 0 0 rgba(19, 124, 189, 0), inset 0 0 0 1px rgba(16, 22, 26, 0.3), inset 0 1px 1px rgba(16, 22, 26, 0.4);
    color:#f5f8fa; }
    .bp3-dark .bp3-input::-webkit-input-placeholder{
      color:rgba(167, 182, 194, 0.6); }
    .bp3-dark .bp3-input::-moz-placeholder{
      color:rgba(167, 182, 194, 0.6); }
    .bp3-dark .bp3-input:-ms-input-placeholder{
      color:rgba(167, 182, 194, 0.6); }
    .bp3-dark .bp3-input::-ms-input-placeholder{
      color:rgba(167, 182, 194, 0.6); }
    .bp3-dark .bp3-input::placeholder{
      color:rgba(167, 182, 194, 0.6); }
    .bp3-dark .bp3-input:focus{
      -webkit-box-shadow:0 0 0 1px #137cbd, 0 0 0 1px #137cbd, 0 0 0 3px rgba(19, 124, 189, 0.3), inset 0 0 0 1px rgba(16, 22, 26, 0.3), inset 0 1px 1px rgba(16, 22, 26, 0.4);
              box-shadow:0 0 0 1px #137cbd, 0 0 0 1px #137cbd, 0 0 0 3px rgba(19, 124, 189, 0.3), inset 0 0 0 1px rgba(16, 22, 26, 0.3), inset 0 1px 1px rgba(16, 22, 26, 0.4); }
    .bp3-dark .bp3-input[readonly]{
      -webkit-box-shadow:inset 0 0 0 1px rgba(16, 22, 26, 0.4);
              box-shadow:inset 0 0 0 1px rgba(16, 22, 26, 0.4); }
    .bp3-dark .bp3-input:disabled, .bp3-dark .bp3-input.bp3-disabled{
      background:rgba(57, 75, 89, 0.5);
      -webkit-box-shadow:none;
              box-shadow:none;
      color:rgba(167, 182, 194, 0.6); }
  .bp3-input.bp3-intent-primary{
    -webkit-box-shadow:0 0 0 0 rgba(19, 124, 189, 0), 0 0 0 0 rgba(19, 124, 189, 0), inset 0 0 0 1px #137cbd, inset 0 0 0 1px rgba(16, 22, 26, 0.15), inset 0 1px 1px rgba(16, 22, 26, 0.2);
            box-shadow:0 0 0 0 rgba(19, 124, 189, 0), 0 0 0 0 rgba(19, 124, 189, 0), inset 0 0 0 1px #137cbd, inset 0 0 0 1px rgba(16, 22, 26, 0.15), inset 0 1px 1px rgba(16, 22, 26, 0.2); }
    .bp3-input.bp3-intent-primary:focus{
      -webkit-box-shadow:0 0 0 1px #137cbd, 0 0 0 3px rgba(19, 124, 189, 0.3), inset 0 1px 1px rgba(16, 22, 26, 0.2);
              box-shadow:0 0 0 1px #137cbd, 0 0 0 3px rgba(19, 124, 189, 0.3), inset 0 1px 1px rgba(16, 22, 26, 0.2); }
    .bp3-input.bp3-intent-primary[readonly]{
      -webkit-box-shadow:inset 0 0 0 1px #137cbd;
              box-shadow:inset 0 0 0 1px #137cbd; }
    .bp3-input.bp3-intent-primary:disabled, .bp3-input.bp3-intent-primary.bp3-disabled{
      -webkit-box-shadow:none;
              box-shadow:none; }
    .bp3-dark .bp3-input.bp3-intent-primary{
      -webkit-box-shadow:0 0 0 0 rgba(19, 124, 189, 0), 0 0 0 0 rgba(19, 124, 189, 0), 0 0 0 0 rgba(19, 124, 189, 0), inset 0 0 0 1px #137cbd, inset 0 0 0 1px rgba(16, 22, 26, 0.3), inset 0 1px 1px rgba(16, 22, 26, 0.4);
              box-shadow:0 0 0 0 rgba(19, 124, 189, 0), 0 0 0 0 rgba(19, 124, 189, 0), 0 0 0 0 rgba(19, 124, 189, 0), inset 0 0 0 1px #137cbd, inset 0 0 0 1px rgba(16, 22, 26, 0.3), inset 0 1px 1px rgba(16, 22, 26, 0.4); }
      .bp3-dark .bp3-input.bp3-intent-primary:focus{
        -webkit-box-shadow:0 0 0 1px #137cbd, 0 0 0 1px #137cbd, 0 0 0 3px rgba(19, 124, 189, 0.3), inset 0 0 0 1px rgba(16, 22, 26, 0.3), inset 0 1px 1px rgba(16, 22, 26, 0.4);
                box-shadow:0 0 0 1px #137cbd, 0 0 0 1px #137cbd, 0 0 0 3px rgba(19, 124, 189, 0.3), inset 0 0 0 1px rgba(16, 22, 26, 0.3), inset 0 1px 1px rgba(16, 22, 26, 0.4); }
      .bp3-dark .bp3-input.bp3-intent-primary[readonly]{
        -webkit-box-shadow:inset 0 0 0 1px #137cbd;
                box-shadow:inset 0 0 0 1px #137cbd; }
      .bp3-dark .bp3-input.bp3-intent-primary:disabled, .bp3-dark .bp3-input.bp3-intent-primary.bp3-disabled{
        -webkit-box-shadow:none;
                box-shadow:none; }
  .bp3-input.bp3-intent-success{
    -webkit-box-shadow:0 0 0 0 rgba(15, 153, 96, 0), 0 0 0 0 rgba(15, 153, 96, 0), inset 0 0 0 1px #0f9960, inset 0 0 0 1px rgba(16, 22, 26, 0.15), inset 0 1px 1px rgba(16, 22, 26, 0.2);
            box-shadow:0 0 0 0 rgba(15, 153, 96, 0), 0 0 0 0 rgba(15, 153, 96, 0), inset 0 0 0 1px #0f9960, inset 0 0 0 1px rgba(16, 22, 26, 0.15), inset 0 1px 1px rgba(16, 22, 26, 0.2); }
    .bp3-input.bp3-intent-success:focus{
      -webkit-box-shadow:0 0 0 1px #0f9960, 0 0 0 3px rgba(15, 153, 96, 0.3), inset 0 1px 1px rgba(16, 22, 26, 0.2);
              box-shadow:0 0 0 1px #0f9960, 0 0 0 3px rgba(15, 153, 96, 0.3), inset 0 1px 1px rgba(16, 22, 26, 0.2); }
    .bp3-input.bp3-intent-success[readonly]{
      -webkit-box-shadow:inset 0 0 0 1px #0f9960;
              box-shadow:inset 0 0 0 1px #0f9960; }
    .bp3-input.bp3-intent-success:disabled, .bp3-input.bp3-intent-success.bp3-disabled{
      -webkit-box-shadow:none;
              box-shadow:none; }
    .bp3-dark .bp3-input.bp3-intent-success{
      -webkit-box-shadow:0 0 0 0 rgba(15, 153, 96, 0), 0 0 0 0 rgba(15, 153, 96, 0), 0 0 0 0 rgba(15, 153, 96, 0), inset 0 0 0 1px #0f9960, inset 0 0 0 1px rgba(16, 22, 26, 0.3), inset 0 1px 1px rgba(16, 22, 26, 0.4);
              box-shadow:0 0 0 0 rgba(15, 153, 96, 0), 0 0 0 0 rgba(15, 153, 96, 0), 0 0 0 0 rgba(15, 153, 96, 0), inset 0 0 0 1px #0f9960, inset 0 0 0 1px rgba(16, 22, 26, 0.3), inset 0 1px 1px rgba(16, 22, 26, 0.4); }
      .bp3-dark .bp3-input.bp3-intent-success:focus{
        -webkit-box-shadow:0 0 0 1px #0f9960, 0 0 0 1px #0f9960, 0 0 0 3px rgba(15, 153, 96, 0.3), inset 0 0 0 1px rgba(16, 22, 26, 0.3), inset 0 1px 1px rgba(16, 22, 26, 0.4);
                box-shadow:0 0 0 1px #0f9960, 0 0 0 1px #0f9960, 0 0 0 3px rgba(15, 153, 96, 0.3), inset 0 0 0 1px rgba(16, 22, 26, 0.3), inset 0 1px 1px rgba(16, 22, 26, 0.4); }
      .bp3-dark .bp3-input.bp3-intent-success[readonly]{
        -webkit-box-shadow:inset 0 0 0 1px #0f9960;
                box-shadow:inset 0 0 0 1px #0f9960; }
      .bp3-dark .bp3-input.bp3-intent-success:disabled, .bp3-dark .bp3-input.bp3-intent-success.bp3-disabled{
        -webkit-box-shadow:none;
                box-shadow:none; }
  .bp3-input.bp3-intent-warning{
    -webkit-box-shadow:0 0 0 0 rgba(217, 130, 43, 0), 0 0 0 0 rgba(217, 130, 43, 0), inset 0 0 0 1px #d9822b, inset 0 0 0 1px rgba(16, 22, 26, 0.15), inset 0 1px 1px rgba(16, 22, 26, 0.2);
            box-shadow:0 0 0 0 rgba(217, 130, 43, 0), 0 0 0 0 rgba(217, 130, 43, 0), inset 0 0 0 1px #d9822b, inset 0 0 0 1px rgba(16, 22, 26, 0.15), inset 0 1px 1px rgba(16, 22, 26, 0.2); }
    .bp3-input.bp3-intent-warning:focus{
      -webkit-box-shadow:0 0 0 1px #d9822b, 0 0 0 3px rgba(217, 130, 43, 0.3), inset 0 1px 1px rgba(16, 22, 26, 0.2);
              box-shadow:0 0 0 1px #d9822b, 0 0 0 3px rgba(217, 130, 43, 0.3), inset 0 1px 1px rgba(16, 22, 26, 0.2); }
    .bp3-input.bp3-intent-warning[readonly]{
      -webkit-box-shadow:inset 0 0 0 1px #d9822b;
              box-shadow:inset 0 0 0 1px #d9822b; }
    .bp3-input.bp3-intent-warning:disabled, .bp3-input.bp3-intent-warning.bp3-disabled{
      -webkit-box-shadow:none;
              box-shadow:none; }
    .bp3-dark .bp3-input.bp3-intent-warning{
      -webkit-box-shadow:0 0 0 0 rgba(217, 130, 43, 0), 0 0 0 0 rgba(217, 130, 43, 0), 0 0 0 0 rgba(217, 130, 43, 0), inset 0 0 0 1px #d9822b, inset 0 0 0 1px rgba(16, 22, 26, 0.3), inset 0 1px 1px rgba(16, 22, 26, 0.4);
              box-shadow:0 0 0 0 rgba(217, 130, 43, 0), 0 0 0 0 rgba(217, 130, 43, 0), 0 0 0 0 rgba(217, 130, 43, 0), inset 0 0 0 1px #d9822b, inset 0 0 0 1px rgba(16, 22, 26, 0.3), inset 0 1px 1px rgba(16, 22, 26, 0.4); }
      .bp3-dark .bp3-input.bp3-intent-warning:focus{
        -webkit-box-shadow:0 0 0 1px #d9822b, 0 0 0 1px #d9822b, 0 0 0 3px rgba(217, 130, 43, 0.3), inset 0 0 0 1px rgba(16, 22, 26, 0.3), inset 0 1px 1px rgba(16, 22, 26, 0.4);
                box-shadow:0 0 0 1px #d9822b, 0 0 0 1px #d9822b, 0 0 0 3px rgba(217, 130, 43, 0.3), inset 0 0 0 1px rgba(16, 22, 26, 0.3), inset 0 1px 1px rgba(16, 22, 26, 0.4); }
      .bp3-dark .bp3-input.bp3-intent-warning[readonly]{
        -webkit-box-shadow:inset 0 0 0 1px #d9822b;
                box-shadow:inset 0 0 0 1px #d9822b; }
      .bp3-dark .bp3-input.bp3-intent-warning:disabled, .bp3-dark .bp3-input.bp3-intent-warning.bp3-disabled{
        -webkit-box-shadow:none;
                box-shadow:none; }
  .bp3-input.bp3-intent-danger{
    -webkit-box-shadow:0 0 0 0 rgba(219, 55, 55, 0), 0 0 0 0 rgba(219, 55, 55, 0), inset 0 0 0 1px #db3737, inset 0 0 0 1px rgba(16, 22, 26, 0.15), inset 0 1px 1px rgba(16, 22, 26, 0.2);
            box-shadow:0 0 0 0 rgba(219, 55, 55, 0), 0 0 0 0 rgba(219, 55, 55, 0), inset 0 0 0 1px #db3737, inset 0 0 0 1px rgba(16, 22, 26, 0.15), inset 0 1px 1px rgba(16, 22, 26, 0.2); }
    .bp3-input.bp3-intent-danger:focus{
      -webkit-box-shadow:0 0 0 1px #db3737, 0 0 0 3px rgba(219, 55, 55, 0.3), inset 0 1px 1px rgba(16, 22, 26, 0.2);
              box-shadow:0 0 0 1px #db3737, 0 0 0 3px rgba(219, 55, 55, 0.3), inset 0 1px 1px rgba(16, 22, 26, 0.2); }
    .bp3-input.bp3-intent-danger[readonly]{
      -webkit-box-shadow:inset 0 0 0 1px #db3737;
              box-shadow:inset 0 0 0 1px #db3737; }
    .bp3-input.bp3-intent-danger:disabled, .bp3-input.bp3-intent-danger.bp3-disabled{
      -webkit-box-shadow:none;
              box-shadow:none; }
    .bp3-dark .bp3-input.bp3-intent-danger{
      -webkit-box-shadow:0 0 0 0 rgba(219, 55, 55, 0), 0 0 0 0 rgba(219, 55, 55, 0), 0 0 0 0 rgba(219, 55, 55, 0), inset 0 0 0 1px #db3737, inset 0 0 0 1px rgba(16, 22, 26, 0.3), inset 0 1px 1px rgba(16, 22, 26, 0.4);
              box-shadow:0 0 0 0 rgba(219, 55, 55, 0), 0 0 0 0 rgba(219, 55, 55, 0), 0 0 0 0 rgba(219, 55, 55, 0), inset 0 0 0 1px #db3737, inset 0 0 0 1px rgba(16, 22, 26, 0.3), inset 0 1px 1px rgba(16, 22, 26, 0.4); }
      .bp3-dark .bp3-input.bp3-intent-danger:focus{
        -webkit-box-shadow:0 0 0 1px #db3737, 0 0 0 1px #db3737, 0 0 0 3px rgba(219, 55, 55, 0.3), inset 0 0 0 1px rgba(16, 22, 26, 0.3), inset 0 1px 1px rgba(16, 22, 26, 0.4);
                box-shadow:0 0 0 1px #db3737, 0 0 0 1px #db3737, 0 0 0 3px rgba(219, 55, 55, 0.3), inset 0 0 0 1px rgba(16, 22, 26, 0.3), inset 0 1px 1px rgba(16, 22, 26, 0.4); }
      .bp3-dark .bp3-input.bp3-intent-danger[readonly]{
        -webkit-box-shadow:inset 0 0 0 1px #db3737;
                box-shadow:inset 0 0 0 1px #db3737; }
      .bp3-dark .bp3-input.bp3-intent-danger:disabled, .bp3-dark .bp3-input.bp3-intent-danger.bp3-disabled{
        -webkit-box-shadow:none;
                box-shadow:none; }
  .bp3-input::-ms-clear{
    display:none; }
textarea.bp3-input{
  max-width:100%;
  padding:10px; }
  textarea.bp3-input, textarea.bp3-input.bp3-large, textarea.bp3-input.bp3-small{
    height:auto;
    line-height:inherit; }
  textarea.bp3-input.bp3-small{
    padding:8px; }
  .bp3-dark textarea.bp3-input{
    background:rgba(16, 22, 26, 0.3);
    -webkit-box-shadow:0 0 0 0 rgba(19, 124, 189, 0), 0 0 0 0 rgba(19, 124, 189, 0), 0 0 0 0 rgba(19, 124, 189, 0), inset 0 0 0 1px rgba(16, 22, 26, 0.3), inset 0 1px 1px rgba(16, 22, 26, 0.4);
            box-shadow:0 0 0 0 rgba(19, 124, 189, 0), 0 0 0 0 rgba(19, 124, 189, 0), 0 0 0 0 rgba(19, 124, 189, 0), inset 0 0 0 1px rgba(16, 22, 26, 0.3), inset 0 1px 1px rgba(16, 22, 26, 0.4);
    color:#f5f8fa; }
    .bp3-dark textarea.bp3-input::-webkit-input-placeholder{
      color:rgba(167, 182, 194, 0.6); }
    .bp3-dark textarea.bp3-input::-moz-placeholder{
      color:rgba(167, 182, 194, 0.6); }
    .bp3-dark textarea.bp3-input:-ms-input-placeholder{
      color:rgba(167, 182, 194, 0.6); }
    .bp3-dark textarea.bp3-input::-ms-input-placeholder{
      color:rgba(167, 182, 194, 0.6); }
    .bp3-dark textarea.bp3-input::placeholder{
      color:rgba(167, 182, 194, 0.6); }
    .bp3-dark textarea.bp3-input:focus{
      -webkit-box-shadow:0 0 0 1px #137cbd, 0 0 0 1px #137cbd, 0 0 0 3px rgba(19, 124, 189, 0.3), inset 0 0 0 1px rgba(16, 22, 26, 0.3), inset 0 1px 1px rgba(16, 22, 26, 0.4);
              box-shadow:0 0 0 1px #137cbd, 0 0 0 1px #137cbd, 0 0 0 3px rgba(19, 124, 189, 0.3), inset 0 0 0 1px rgba(16, 22, 26, 0.3), inset 0 1px 1px rgba(16, 22, 26, 0.4); }
    .bp3-dark textarea.bp3-input[readonly]{
      -webkit-box-shadow:inset 0 0 0 1px rgba(16, 22, 26, 0.4);
              box-shadow:inset 0 0 0 1px rgba(16, 22, 26, 0.4); }
    .bp3-dark textarea.bp3-input:disabled, .bp3-dark textarea.bp3-input.bp3-disabled{
      background:rgba(57, 75, 89, 0.5);
      -webkit-box-shadow:none;
              box-shadow:none;
      color:rgba(167, 182, 194, 0.6); }
label.bp3-label{
  display:block;
  margin-bottom:15px;
  margin-top:0; }
  label.bp3-label .bp3-html-select,
  label.bp3-label .bp3-input,
  label.bp3-label .bp3-select,
  label.bp3-label .bp3-slider,
  label.bp3-label .bp3-popover-wrapper{
    display:block;
    margin-top:5px;
    text-transform:none; }
  label.bp3-label .bp3-button-group{
    margin-top:5px; }
  label.bp3-label .bp3-select select,
  label.bp3-label .bp3-html-select select{
    font-weight:400;
    vertical-align:top;
    width:100%; }
  label.bp3-label.bp3-disabled,
  label.bp3-label.bp3-disabled .bp3-text-muted{
    color:rgba(92, 112, 128, 0.6); }
  label.bp3-label.bp3-inline{
    line-height:30px; }
    label.bp3-label.bp3-inline .bp3-html-select,
    label.bp3-label.bp3-inline .bp3-input,
    label.bp3-label.bp3-inline .bp3-input-group,
    label.bp3-label.bp3-inline .bp3-select,
    label.bp3-label.bp3-inline .bp3-popover-wrapper{
      display:inline-block;
      margin:0 0 0 5px;
      vertical-align:top; }
    label.bp3-label.bp3-inline .bp3-button-group{
      margin:0 0 0 5px; }
    label.bp3-label.bp3-inline .bp3-input-group .bp3-input{
      margin-left:0; }
    label.bp3-label.bp3-inline.bp3-large{
      line-height:40px; }
  label.bp3-label:not(.bp3-inline) .bp3-popover-target{
    display:block; }
  .bp3-dark label.bp3-label{
    color:#f5f8fa; }
    .bp3-dark label.bp3-label.bp3-disabled,
    .bp3-dark label.bp3-label.bp3-disabled .bp3-text-muted{
      color:rgba(167, 182, 194, 0.6); }
.bp3-numeric-input .bp3-button-group.bp3-vertical > .bp3-button{
  -webkit-box-flex:1;
      -ms-flex:1 1 14px;
          flex:1 1 14px;
  min-height:0;
  padding:0;
  width:30px; }
  .bp3-numeric-input .bp3-button-group.bp3-vertical > .bp3-button:first-child{
    border-radius:0 3px 0 0; }
  .bp3-numeric-input .bp3-button-group.bp3-vertical > .bp3-button:last-child{
    border-radius:0 0 3px 0; }

.bp3-numeric-input .bp3-button-group.bp3-vertical:first-child > .bp3-button:first-child{
  border-radius:3px 0 0 0; }

.bp3-numeric-input .bp3-button-group.bp3-vertical:first-child > .bp3-button:last-child{
  border-radius:0 0 0 3px; }

.bp3-numeric-input.bp3-large .bp3-button-group.bp3-vertical > .bp3-button{
  width:40px; }

form{
  display:block; }
.bp3-html-select select,
.bp3-select select{
  display:-webkit-inline-box;
  display:-ms-inline-flexbox;
  display:inline-flex;
  -webkit-box-orient:horizontal;
  -webkit-box-direction:normal;
      -ms-flex-direction:row;
          flex-direction:row;
  -webkit-box-align:center;
      -ms-flex-align:center;
          align-items:center;
  border:none;
  border-radius:3px;
  cursor:pointer;
  font-size:14px;
  -webkit-box-pack:center;
      -ms-flex-pack:center;
          justify-content:center;
  padding:5px 10px;
  text-align:left;
  vertical-align:middle;
  background-color:#f5f8fa;
  background-image:-webkit-gradient(linear, left top, left bottom, from(rgba(255, 255, 255, 0.8)), to(rgba(255, 255, 255, 0)));
  background-image:linear-gradient(to bottom, rgba(255, 255, 255, 0.8), rgba(255, 255, 255, 0));
  -webkit-box-shadow:inset 0 0 0 1px rgba(16, 22, 26, 0.2), inset 0 -1px 0 rgba(16, 22, 26, 0.1);
          box-shadow:inset 0 0 0 1px rgba(16, 22, 26, 0.2), inset 0 -1px 0 rgba(16, 22, 26, 0.1);
  color:#182026;
  -moz-appearance:none;
  -webkit-appearance:none;
  border-radius:3px;
  height:30px;
  padding:0 25px 0 10px;
  width:100%; }
  .bp3-html-select select > *, .bp3-select select > *{
    -webkit-box-flex:0;
        -ms-flex-positive:0;
            flex-grow:0;
    -ms-flex-negative:0;
        flex-shrink:0; }
  .bp3-html-select select > .bp3-fill, .bp3-select select > .bp3-fill{
    -webkit-box-flex:1;
        -ms-flex-positive:1;
            flex-grow:1;
    -ms-flex-negative:1;
        flex-shrink:1; }
  .bp3-html-select select::before,
  .bp3-select select::before, .bp3-html-select select > *, .bp3-select select > *{
    margin-right:7px; }
  .bp3-html-select select:empty::before,
  .bp3-select select:empty::before,
  .bp3-html-select select > :last-child,
  .bp3-select select > :last-child{
    margin-right:0; }
  .bp3-html-select select:hover,
  .bp3-select select:hover{
    background-clip:padding-box;
    background-color:#ebf1f5;
    -webkit-box-shadow:inset 0 0 0 1px rgba(16, 22, 26, 0.2), inset 0 -1px 0 rgba(16, 22, 26, 0.1);
            box-shadow:inset 0 0 0 1px rgba(16, 22, 26, 0.2), inset 0 -1px 0 rgba(16, 22, 26, 0.1); }
  .bp3-html-select select:active,
  .bp3-select select:active, .bp3-html-select select.bp3-active,
  .bp3-select select.bp3-active{
    background-color:#d8e1e8;
    background-image:none;
    -webkit-box-shadow:inset 0 0 0 1px rgba(16, 22, 26, 0.2), inset 0 1px 2px rgba(16, 22, 26, 0.2);
            box-shadow:inset 0 0 0 1px rgba(16, 22, 26, 0.2), inset 0 1px 2px rgba(16, 22, 26, 0.2); }
  .bp3-html-select select:disabled,
  .bp3-select select:disabled, .bp3-html-select select.bp3-disabled,
  .bp3-select select.bp3-disabled{
    background-color:rgba(206, 217, 224, 0.5);
    background-image:none;
    -webkit-box-shadow:none;
            box-shadow:none;
    color:rgba(92, 112, 128, 0.6);
    cursor:not-allowed;
    outline:none; }
    .bp3-html-select select:disabled.bp3-active,
    .bp3-select select:disabled.bp3-active, .bp3-html-select select:disabled.bp3-active:hover,
    .bp3-select select:disabled.bp3-active:hover, .bp3-html-select select.bp3-disabled.bp3-active,
    .bp3-select select.bp3-disabled.bp3-active, .bp3-html-select select.bp3-disabled.bp3-active:hover,
    .bp3-select select.bp3-disabled.bp3-active:hover{
      background:rgba(206, 217, 224, 0.7); }

.bp3-html-select.bp3-minimal select,
.bp3-select.bp3-minimal select{
  background:none;
  -webkit-box-shadow:none;
          box-shadow:none; }
  .bp3-html-select.bp3-minimal select:hover,
  .bp3-select.bp3-minimal select:hover{
    background:rgba(167, 182, 194, 0.3);
    -webkit-box-shadow:none;
            box-shadow:none;
    color:#182026;
    text-decoration:none; }
  .bp3-html-select.bp3-minimal select:active,
  .bp3-select.bp3-minimal select:active, .bp3-html-select.bp3-minimal select.bp3-active,
  .bp3-select.bp3-minimal select.bp3-active{
    background:rgba(115, 134, 148, 0.3);
    -webkit-box-shadow:none;
            box-shadow:none;
    color:#182026; }
  .bp3-html-select.bp3-minimal select:disabled,
  .bp3-select.bp3-minimal select:disabled, .bp3-html-select.bp3-minimal select:disabled:hover,
  .bp3-select.bp3-minimal select:disabled:hover, .bp3-html-select.bp3-minimal select.bp3-disabled,
  .bp3-select.bp3-minimal select.bp3-disabled, .bp3-html-select.bp3-minimal select.bp3-disabled:hover,
  .bp3-select.bp3-minimal select.bp3-disabled:hover{
    background:none;
    color:rgba(92, 112, 128, 0.6);
    cursor:not-allowed; }
    .bp3-html-select.bp3-minimal select:disabled.bp3-active,
    .bp3-select.bp3-minimal select:disabled.bp3-active, .bp3-html-select.bp3-minimal select:disabled:hover.bp3-active,
    .bp3-select.bp3-minimal select:disabled:hover.bp3-active, .bp3-html-select.bp3-minimal select.bp3-disabled.bp3-active,
    .bp3-select.bp3-minimal select.bp3-disabled.bp3-active, .bp3-html-select.bp3-minimal select.bp3-disabled:hover.bp3-active,
    .bp3-select.bp3-minimal select.bp3-disabled:hover.bp3-active{
      background:rgba(115, 134, 148, 0.3); }
  .bp3-dark .bp3-html-select.bp3-minimal select, .bp3-html-select.bp3-minimal .bp3-dark select,
  .bp3-dark .bp3-select.bp3-minimal select, .bp3-select.bp3-minimal .bp3-dark select{
    background:none;
    -webkit-box-shadow:none;
            box-shadow:none;
    color:inherit; }
    .bp3-dark .bp3-html-select.bp3-minimal select:hover, .bp3-html-select.bp3-minimal .bp3-dark select:hover,
    .bp3-dark .bp3-select.bp3-minimal select:hover, .bp3-select.bp3-minimal .bp3-dark select:hover, .bp3-dark .bp3-html-select.bp3-minimal select:active, .bp3-html-select.bp3-minimal .bp3-dark select:active,
    .bp3-dark .bp3-select.bp3-minimal select:active, .bp3-select.bp3-minimal .bp3-dark select:active, .bp3-dark .bp3-html-select.bp3-minimal select.bp3-active, .bp3-html-select.bp3-minimal .bp3-dark select.bp3-active,
    .bp3-dark .bp3-select.bp3-minimal select.bp3-active, .bp3-select.bp3-minimal .bp3-dark select.bp3-active{
      background:none;
      -webkit-box-shadow:none;
              box-shadow:none; }
    .bp3-dark .bp3-html-select.bp3-minimal select:hover, .bp3-html-select.bp3-minimal .bp3-dark select:hover,
    .bp3-dark .bp3-select.bp3-minimal select:hover, .bp3-select.bp3-minimal .bp3-dark select:hover{
      background:rgba(138, 155, 168, 0.15); }
    .bp3-dark .bp3-html-select.bp3-minimal select:active, .bp3-html-select.bp3-minimal .bp3-dark select:active,
    .bp3-dark .bp3-select.bp3-minimal select:active, .bp3-select.bp3-minimal .bp3-dark select:active, .bp3-dark .bp3-html-select.bp3-minimal select.bp3-active, .bp3-html-select.bp3-minimal .bp3-dark select.bp3-active,
    .bp3-dark .bp3-select.bp3-minimal select.bp3-active, .bp3-select.bp3-minimal .bp3-dark select.bp3-active{
      background:rgba(138, 155, 168, 0.3);
      color:#f5f8fa; }
    .bp3-dark .bp3-html-select.bp3-minimal select:disabled, .bp3-html-select.bp3-minimal .bp3-dark select:disabled,
    .bp3-dark .bp3-select.bp3-minimal select:disabled, .bp3-select.bp3-minimal .bp3-dark select:disabled, .bp3-dark .bp3-html-select.bp3-minimal select:disabled:hover, .bp3-html-select.bp3-minimal .bp3-dark select:disabled:hover,
    .bp3-dark .bp3-select.bp3-minimal select:disabled:hover, .bp3-select.bp3-minimal .bp3-dark select:disabled:hover, .bp3-dark .bp3-html-select.bp3-minimal select.bp3-disabled, .bp3-html-select.bp3-minimal .bp3-dark select.bp3-disabled,
    .bp3-dark .bp3-select.bp3-minimal select.bp3-disabled, .bp3-select.bp3-minimal .bp3-dark select.bp3-disabled, .bp3-dark .bp3-html-select.bp3-minimal select.bp3-disabled:hover, .bp3-html-select.bp3-minimal .bp3-dark select.bp3-disabled:hover,
    .bp3-dark .bp3-select.bp3-minimal select.bp3-disabled:hover, .bp3-select.bp3-minimal .bp3-dark select.bp3-disabled:hover{
      background:none;
      color:rgba(167, 182, 194, 0.6);
      cursor:not-allowed; }
      .bp3-dark .bp3-html-select.bp3-minimal select:disabled.bp3-active, .bp3-html-select.bp3-minimal .bp3-dark select:disabled.bp3-active,
      .bp3-dark .bp3-select.bp3-minimal select:disabled.bp3-active, .bp3-select.bp3-minimal .bp3-dark select:disabled.bp3-active, .bp3-dark .bp3-html-select.bp3-minimal select:disabled:hover.bp3-active, .bp3-html-select.bp3-minimal .bp3-dark select:disabled:hover.bp3-active,
      .bp3-dark .bp3-select.bp3-minimal select:disabled:hover.bp3-active, .bp3-select.bp3-minimal .bp3-dark select:disabled:hover.bp3-active, .bp3-dark .bp3-html-select.bp3-minimal select.bp3-disabled.bp3-active, .bp3-html-select.bp3-minimal .bp3-dark select.bp3-disabled.bp3-active,
      .bp3-dark .bp3-select.bp3-minimal select.bp3-disabled.bp3-active, .bp3-select.bp3-minimal .bp3-dark select.bp3-disabled.bp3-active, .bp3-dark .bp3-html-select.bp3-minimal select.bp3-disabled:hover.bp3-active, .bp3-html-select.bp3-minimal .bp3-dark select.bp3-disabled:hover.bp3-active,
      .bp3-dark .bp3-select.bp3-minimal select.bp3-disabled:hover.bp3-active, .bp3-select.bp3-minimal .bp3-dark select.bp3-disabled:hover.bp3-active{
        background:rgba(138, 155, 168, 0.3); }
  .bp3-html-select.bp3-minimal select.bp3-intent-primary,
  .bp3-select.bp3-minimal select.bp3-intent-primary{
    color:#106ba3; }
    .bp3-html-select.bp3-minimal select.bp3-intent-primary:hover,
    .bp3-select.bp3-minimal select.bp3-intent-primary:hover, .bp3-html-select.bp3-minimal select.bp3-intent-primary:active,
    .bp3-select.bp3-minimal select.bp3-intent-primary:active, .bp3-html-select.bp3-minimal select.bp3-intent-primary.bp3-active,
    .bp3-select.bp3-minimal select.bp3-intent-primary.bp3-active{
      background:none;
      -webkit-box-shadow:none;
              box-shadow:none;
      color:#106ba3; }
    .bp3-html-select.bp3-minimal select.bp3-intent-primary:hover,
    .bp3-select.bp3-minimal select.bp3-intent-primary:hover{
      background:rgba(19, 124, 189, 0.15);
      color:#106ba3; }
    .bp3-html-select.bp3-minimal select.bp3-intent-primary:active,
    .bp3-select.bp3-minimal select.bp3-intent-primary:active, .bp3-html-select.bp3-minimal select.bp3-intent-primary.bp3-active,
    .bp3-select.bp3-minimal select.bp3-intent-primary.bp3-active{
      background:rgba(19, 124, 189, 0.3);
      color:#106ba3; }
    .bp3-html-select.bp3-minimal select.bp3-intent-primary:disabled,
    .bp3-select.bp3-minimal select.bp3-intent-primary:disabled, .bp3-html-select.bp3-minimal select.bp3-intent-primary.bp3-disabled,
    .bp3-select.bp3-minimal select.bp3-intent-primary.bp3-disabled{
      background:none;
      color:rgba(16, 107, 163, 0.5); }
      .bp3-html-select.bp3-minimal select.bp3-intent-primary:disabled.bp3-active,
      .bp3-select.bp3-minimal select.bp3-intent-primary:disabled.bp3-active, .bp3-html-select.bp3-minimal select.bp3-intent-primary.bp3-disabled.bp3-active,
      .bp3-select.bp3-minimal select.bp3-intent-primary.bp3-disabled.bp3-active{
        background:rgba(19, 124, 189, 0.3); }
    .bp3-html-select.bp3-minimal select.bp3-intent-primary .bp3-button-spinner .bp3-spinner-head, .bp3-select.bp3-minimal select.bp3-intent-primary .bp3-button-spinner .bp3-spinner-head{
      stroke:#106ba3; }
    .bp3-dark .bp3-html-select.bp3-minimal select.bp3-intent-primary, .bp3-html-select.bp3-minimal .bp3-dark select.bp3-intent-primary,
    .bp3-dark .bp3-select.bp3-minimal select.bp3-intent-primary, .bp3-select.bp3-minimal .bp3-dark select.bp3-intent-primary{
      color:#48aff0; }
      .bp3-dark .bp3-html-select.bp3-minimal select.bp3-intent-primary:hover, .bp3-html-select.bp3-minimal .bp3-dark select.bp3-intent-primary:hover,
      .bp3-dark .bp3-select.bp3-minimal select.bp3-intent-primary:hover, .bp3-select.bp3-minimal .bp3-dark select.bp3-intent-primary:hover{
        background:rgba(19, 124, 189, 0.2);
        color:#48aff0; }
      .bp3-dark .bp3-html-select.bp3-minimal select.bp3-intent-primary:active, .bp3-html-select.bp3-minimal .bp3-dark select.bp3-intent-primary:active,
      .bp3-dark .bp3-select.bp3-minimal select.bp3-intent-primary:active, .bp3-select.bp3-minimal .bp3-dark select.bp3-intent-primary:active, .bp3-dark .bp3-html-select.bp3-minimal select.bp3-intent-primary.bp3-active, .bp3-html-select.bp3-minimal .bp3-dark select.bp3-intent-primary.bp3-active,
      .bp3-dark .bp3-select.bp3-minimal select.bp3-intent-primary.bp3-active, .bp3-select.bp3-minimal .bp3-dark select.bp3-intent-primary.bp3-active{
        background:rgba(19, 124, 189, 0.3);
        color:#48aff0; }
      .bp3-dark .bp3-html-select.bp3-minimal select.bp3-intent-primary:disabled, .bp3-html-select.bp3-minimal .bp3-dark select.bp3-intent-primary:disabled,
      .bp3-dark .bp3-select.bp3-minimal select.bp3-intent-primary:disabled, .bp3-select.bp3-minimal .bp3-dark select.bp3-intent-primary:disabled, .bp3-dark .bp3-html-select.bp3-minimal select.bp3-intent-primary.bp3-disabled, .bp3-html-select.bp3-minimal .bp3-dark select.bp3-intent-primary.bp3-disabled,
      .bp3-dark .bp3-select.bp3-minimal select.bp3-intent-primary.bp3-disabled, .bp3-select.bp3-minimal .bp3-dark select.bp3-intent-primary.bp3-disabled{
        background:none;
        color:rgba(72, 175, 240, 0.5); }
        .bp3-dark .bp3-html-select.bp3-minimal select.bp3-intent-primary:disabled.bp3-active, .bp3-html-select.bp3-minimal .bp3-dark select.bp3-intent-primary:disabled.bp3-active,
        .bp3-dark .bp3-select.bp3-minimal select.bp3-intent-primary:disabled.bp3-active, .bp3-select.bp3-minimal .bp3-dark select.bp3-intent-primary:disabled.bp3-active, .bp3-dark .bp3-html-select.bp3-minimal select.bp3-intent-primary.bp3-disabled.bp3-active, .bp3-html-select.bp3-minimal .bp3-dark select.bp3-intent-primary.bp3-disabled.bp3-active,
        .bp3-dark .bp3-select.bp3-minimal select.bp3-intent-primary.bp3-disabled.bp3-active, .bp3-select.bp3-minimal .bp3-dark select.bp3-intent-primary.bp3-disabled.bp3-active{
          background:rgba(19, 124, 189, 0.3); }
  .bp3-html-select.bp3-minimal select.bp3-intent-success,
  .bp3-select.bp3-minimal select.bp3-intent-success{
    color:#0d8050; }
    .bp3-html-select.bp3-minimal select.bp3-intent-success:hover,
    .bp3-select.bp3-minimal select.bp3-intent-success:hover, .bp3-html-select.bp3-minimal select.bp3-intent-success:active,
    .bp3-select.bp3-minimal select.bp3-intent-success:active, .bp3-html-select.bp3-minimal select.bp3-intent-success.bp3-active,
    .bp3-select.bp3-minimal select.bp3-intent-success.bp3-active{
      background:none;
      -webkit-box-shadow:none;
              box-shadow:none;
      color:#0d8050; }
    .bp3-html-select.bp3-minimal select.bp3-intent-success:hover,
    .bp3-select.bp3-minimal select.bp3-intent-success:hover{
      background:rgba(15, 153, 96, 0.15);
      color:#0d8050; }
    .bp3-html-select.bp3-minimal select.bp3-intent-success:active,
    .bp3-select.bp3-minimal select.bp3-intent-success:active, .bp3-html-select.bp3-minimal select.bp3-intent-success.bp3-active,
    .bp3-select.bp3-minimal select.bp3-intent-success.bp3-active{
      background:rgba(15, 153, 96, 0.3);
      color:#0d8050; }
    .bp3-html-select.bp3-minimal select.bp3-intent-success:disabled,
    .bp3-select.bp3-minimal select.bp3-intent-success:disabled, .bp3-html-select.bp3-minimal select.bp3-intent-success.bp3-disabled,
    .bp3-select.bp3-minimal select.bp3-intent-success.bp3-disabled{
      background:none;
      color:rgba(13, 128, 80, 0.5); }
      .bp3-html-select.bp3-minimal select.bp3-intent-success:disabled.bp3-active,
      .bp3-select.bp3-minimal select.bp3-intent-success:disabled.bp3-active, .bp3-html-select.bp3-minimal select.bp3-intent-success.bp3-disabled.bp3-active,
      .bp3-select.bp3-minimal select.bp3-intent-success.bp3-disabled.bp3-active{
        background:rgba(15, 153, 96, 0.3); }
    .bp3-html-select.bp3-minimal select.bp3-intent-success .bp3-button-spinner .bp3-spinner-head, .bp3-select.bp3-minimal select.bp3-intent-success .bp3-button-spinner .bp3-spinner-head{
      stroke:#0d8050; }
    .bp3-dark .bp3-html-select.bp3-minimal select.bp3-intent-success, .bp3-html-select.bp3-minimal .bp3-dark select.bp3-intent-success,
    .bp3-dark .bp3-select.bp3-minimal select.bp3-intent-success, .bp3-select.bp3-minimal .bp3-dark select.bp3-intent-success{
      color:#3dcc91; }
      .bp3-dark .bp3-html-select.bp3-minimal select.bp3-intent-success:hover, .bp3-html-select.bp3-minimal .bp3-dark select.bp3-intent-success:hover,
      .bp3-dark .bp3-select.bp3-minimal select.bp3-intent-success:hover, .bp3-select.bp3-minimal .bp3-dark select.bp3-intent-success:hover{
        background:rgba(15, 153, 96, 0.2);
        color:#3dcc91; }
      .bp3-dark .bp3-html-select.bp3-minimal select.bp3-intent-success:active, .bp3-html-select.bp3-minimal .bp3-dark select.bp3-intent-success:active,
      .bp3-dark .bp3-select.bp3-minimal select.bp3-intent-success:active, .bp3-select.bp3-minimal .bp3-dark select.bp3-intent-success:active, .bp3-dark .bp3-html-select.bp3-minimal select.bp3-intent-success.bp3-active, .bp3-html-select.bp3-minimal .bp3-dark select.bp3-intent-success.bp3-active,
      .bp3-dark .bp3-select.bp3-minimal select.bp3-intent-success.bp3-active, .bp3-select.bp3-minimal .bp3-dark select.bp3-intent-success.bp3-active{
        background:rgba(15, 153, 96, 0.3);
        color:#3dcc91; }
      .bp3-dark .bp3-html-select.bp3-minimal select.bp3-intent-success:disabled, .bp3-html-select.bp3-minimal .bp3-dark select.bp3-intent-success:disabled,
      .bp3-dark .bp3-select.bp3-minimal select.bp3-intent-success:disabled, .bp3-select.bp3-minimal .bp3-dark select.bp3-intent-success:disabled, .bp3-dark .bp3-html-select.bp3-minimal select.bp3-intent-success.bp3-disabled, .bp3-html-select.bp3-minimal .bp3-dark select.bp3-intent-success.bp3-disabled,
      .bp3-dark .bp3-select.bp3-minimal select.bp3-intent-success.bp3-disabled, .bp3-select.bp3-minimal .bp3-dark select.bp3-intent-success.bp3-disabled{
        background:none;
        color:rgba(61, 204, 145, 0.5); }
        .bp3-dark .bp3-html-select.bp3-minimal select.bp3-intent-success:disabled.bp3-active, .bp3-html-select.bp3-minimal .bp3-dark select.bp3-intent-success:disabled.bp3-active,
        .bp3-dark .bp3-select.bp3-minimal select.bp3-intent-success:disabled.bp3-active, .bp3-select.bp3-minimal .bp3-dark select.bp3-intent-success:disabled.bp3-active, .bp3-dark .bp3-html-select.bp3-minimal select.bp3-intent-success.bp3-disabled.bp3-active, .bp3-html-select.bp3-minimal .bp3-dark select.bp3-intent-success.bp3-disabled.bp3-active,
        .bp3-dark .bp3-select.bp3-minimal select.bp3-intent-success.bp3-disabled.bp3-active, .bp3-select.bp3-minimal .bp3-dark select.bp3-intent-success.bp3-disabled.bp3-active{
          background:rgba(15, 153, 96, 0.3); }
  .bp3-html-select.bp3-minimal select.bp3-intent-warning,
  .bp3-select.bp3-minimal select.bp3-intent-warning{
    color:#bf7326; }
    .bp3-html-select.bp3-minimal select.bp3-intent-warning:hover,
    .bp3-select.bp3-minimal select.bp3-intent-warning:hover, .bp3-html-select.bp3-minimal select.bp3-intent-warning:active,
    .bp3-select.bp3-minimal select.bp3-intent-warning:active, .bp3-html-select.bp3-minimal select.bp3-intent-warning.bp3-active,
    .bp3-select.bp3-minimal select.bp3-intent-warning.bp3-active{
      background:none;
      -webkit-box-shadow:none;
              box-shadow:none;
      color:#bf7326; }
    .bp3-html-select.bp3-minimal select.bp3-intent-warning:hover,
    .bp3-select.bp3-minimal select.bp3-intent-warning:hover{
      background:rgba(217, 130, 43, 0.15);
      color:#bf7326; }
    .bp3-html-select.bp3-minimal select.bp3-intent-warning:active,
    .bp3-select.bp3-minimal select.bp3-intent-warning:active, .bp3-html-select.bp3-minimal select.bp3-intent-warning.bp3-active,
    .bp3-select.bp3-minimal select.bp3-intent-warning.bp3-active{
      background:rgba(217, 130, 43, 0.3);
      color:#bf7326; }
    .bp3-html-select.bp3-minimal select.bp3-intent-warning:disabled,
    .bp3-select.bp3-minimal select.bp3-intent-warning:disabled, .bp3-html-select.bp3-minimal select.bp3-intent-warning.bp3-disabled,
    .bp3-select.bp3-minimal select.bp3-intent-warning.bp3-disabled{
      background:none;
      color:rgba(191, 115, 38, 0.5); }
      .bp3-html-select.bp3-minimal select.bp3-intent-warning:disabled.bp3-active,
      .bp3-select.bp3-minimal select.bp3-intent-warning:disabled.bp3-active, .bp3-html-select.bp3-minimal select.bp3-intent-warning.bp3-disabled.bp3-active,
      .bp3-select.bp3-minimal select.bp3-intent-warning.bp3-disabled.bp3-active{
        background:rgba(217, 130, 43, 0.3); }
    .bp3-html-select.bp3-minimal select.bp3-intent-warning .bp3-button-spinner .bp3-spinner-head, .bp3-select.bp3-minimal select.bp3-intent-warning .bp3-button-spinner .bp3-spinner-head{
      stroke:#bf7326; }
    .bp3-dark .bp3-html-select.bp3-minimal select.bp3-intent-warning, .bp3-html-select.bp3-minimal .bp3-dark select.bp3-intent-warning,
    .bp3-dark .bp3-select.bp3-minimal select.bp3-intent-warning, .bp3-select.bp3-minimal .bp3-dark select.bp3-intent-warning{
      color:#ffb366; }
      .bp3-dark .bp3-html-select.bp3-minimal select.bp3-intent-warning:hover, .bp3-html-select.bp3-minimal .bp3-dark select.bp3-intent-warning:hover,
      .bp3-dark .bp3-select.bp3-minimal select.bp3-intent-warning:hover, .bp3-select.bp3-minimal .bp3-dark select.bp3-intent-warning:hover{
        background:rgba(217, 130, 43, 0.2);
        color:#ffb366; }
      .bp3-dark .bp3-html-select.bp3-minimal select.bp3-intent-warning:active, .bp3-html-select.bp3-minimal .bp3-dark select.bp3-intent-warning:active,
      .bp3-dark .bp3-select.bp3-minimal select.bp3-intent-warning:active, .bp3-select.bp3-minimal .bp3-dark select.bp3-intent-warning:active, .bp3-dark .bp3-html-select.bp3-minimal select.bp3-intent-warning.bp3-active, .bp3-html-select.bp3-minimal .bp3-dark select.bp3-intent-warning.bp3-active,
      .bp3-dark .bp3-select.bp3-minimal select.bp3-intent-warning.bp3-active, .bp3-select.bp3-minimal .bp3-dark select.bp3-intent-warning.bp3-active{
        background:rgba(217, 130, 43, 0.3);
        color:#ffb366; }
      .bp3-dark .bp3-html-select.bp3-minimal select.bp3-intent-warning:disabled, .bp3-html-select.bp3-minimal .bp3-dark select.bp3-intent-warning:disabled,
      .bp3-dark .bp3-select.bp3-minimal select.bp3-intent-warning:disabled, .bp3-select.bp3-minimal .bp3-dark select.bp3-intent-warning:disabled, .bp3-dark .bp3-html-select.bp3-minimal select.bp3-intent-warning.bp3-disabled, .bp3-html-select.bp3-minimal .bp3-dark select.bp3-intent-warning.bp3-disabled,
      .bp3-dark .bp3-select.bp3-minimal select.bp3-intent-warning.bp3-disabled, .bp3-select.bp3-minimal .bp3-dark select.bp3-intent-warning.bp3-disabled{
        background:none;
        color:rgba(255, 179, 102, 0.5); }
        .bp3-dark .bp3-html-select.bp3-minimal select.bp3-intent-warning:disabled.bp3-active, .bp3-html-select.bp3-minimal .bp3-dark select.bp3-intent-warning:disabled.bp3-active,
        .bp3-dark .bp3-select.bp3-minimal select.bp3-intent-warning:disabled.bp3-active, .bp3-select.bp3-minimal .bp3-dark select.bp3-intent-warning:disabled.bp3-active, .bp3-dark .bp3-html-select.bp3-minimal select.bp3-intent-warning.bp3-disabled.bp3-active, .bp3-html-select.bp3-minimal .bp3-dark select.bp3-intent-warning.bp3-disabled.bp3-active,
        .bp3-dark .bp3-select.bp3-minimal select.bp3-intent-warning.bp3-disabled.bp3-active, .bp3-select.bp3-minimal .bp3-dark select.bp3-intent-warning.bp3-disabled.bp3-active{
          background:rgba(217, 130, 43, 0.3); }
  .bp3-html-select.bp3-minimal select.bp3-intent-danger,
  .bp3-select.bp3-minimal select.bp3-intent-danger{
    color:#c23030; }
    .bp3-html-select.bp3-minimal select.bp3-intent-danger:hover,
    .bp3-select.bp3-minimal select.bp3-intent-danger:hover, .bp3-html-select.bp3-minimal select.bp3-intent-danger:active,
    .bp3-select.bp3-minimal select.bp3-intent-danger:active, .bp3-html-select.bp3-minimal select.bp3-intent-danger.bp3-active,
    .bp3-select.bp3-minimal select.bp3-intent-danger.bp3-active{
      background:none;
      -webkit-box-shadow:none;
              box-shadow:none;
      color:#c23030; }
    .bp3-html-select.bp3-minimal select.bp3-intent-danger:hover,
    .bp3-select.bp3-minimal select.bp3-intent-danger:hover{
      background:rgba(219, 55, 55, 0.15);
      color:#c23030; }
    .bp3-html-select.bp3-minimal select.bp3-intent-danger:active,
    .bp3-select.bp3-minimal select.bp3-intent-danger:active, .bp3-html-select.bp3-minimal select.bp3-intent-danger.bp3-active,
    .bp3-select.bp3-minimal select.bp3-intent-danger.bp3-active{
      background:rgba(219, 55, 55, 0.3);
      color:#c23030; }
    .bp3-html-select.bp3-minimal select.bp3-intent-danger:disabled,
    .bp3-select.bp3-minimal select.bp3-intent-danger:disabled, .bp3-html-select.bp3-minimal select.bp3-intent-danger.bp3-disabled,
    .bp3-select.bp3-minimal select.bp3-intent-danger.bp3-disabled{
      background:none;
      color:rgba(194, 48, 48, 0.5); }
      .bp3-html-select.bp3-minimal select.bp3-intent-danger:disabled.bp3-active,
      .bp3-select.bp3-minimal select.bp3-intent-danger:disabled.bp3-active, .bp3-html-select.bp3-minimal select.bp3-intent-danger.bp3-disabled.bp3-active,
      .bp3-select.bp3-minimal select.bp3-intent-danger.bp3-disabled.bp3-active{
        background:rgba(219, 55, 55, 0.3); }
    .bp3-html-select.bp3-minimal select.bp3-intent-danger .bp3-button-spinner .bp3-spinner-head, .bp3-select.bp3-minimal select.bp3-intent-danger .bp3-button-spinner .bp3-spinner-head{
      stroke:#c23030; }
    .bp3-dark .bp3-html-select.bp3-minimal select.bp3-intent-danger, .bp3-html-select.bp3-minimal .bp3-dark select.bp3-intent-danger,
    .bp3-dark .bp3-select.bp3-minimal select.bp3-intent-danger, .bp3-select.bp3-minimal .bp3-dark select.bp3-intent-danger{
      color:#ff7373; }
      .bp3-dark .bp3-html-select.bp3-minimal select.bp3-intent-danger:hover, .bp3-html-select.bp3-minimal .bp3-dark select.bp3-intent-danger:hover,
      .bp3-dark .bp3-select.bp3-minimal select.bp3-intent-danger:hover, .bp3-select.bp3-minimal .bp3-dark select.bp3-intent-danger:hover{
        background:rgba(219, 55, 55, 0.2);
        color:#ff7373; }
      .bp3-dark .bp3-html-select.bp3-minimal select.bp3-intent-danger:active, .bp3-html-select.bp3-minimal .bp3-dark select.bp3-intent-danger:active,
      .bp3-dark .bp3-select.bp3-minimal select.bp3-intent-danger:active, .bp3-select.bp3-minimal .bp3-dark select.bp3-intent-danger:active, .bp3-dark .bp3-html-select.bp3-minimal select.bp3-intent-danger.bp3-active, .bp3-html-select.bp3-minimal .bp3-dark select.bp3-intent-danger.bp3-active,
      .bp3-dark .bp3-select.bp3-minimal select.bp3-intent-danger.bp3-active, .bp3-select.bp3-minimal .bp3-dark select.bp3-intent-danger.bp3-active{
        background:rgba(219, 55, 55, 0.3);
        color:#ff7373; }
      .bp3-dark .bp3-html-select.bp3-minimal select.bp3-intent-danger:disabled, .bp3-html-select.bp3-minimal .bp3-dark select.bp3-intent-danger:disabled,
      .bp3-dark .bp3-select.bp3-minimal select.bp3-intent-danger:disabled, .bp3-select.bp3-minimal .bp3-dark select.bp3-intent-danger:disabled, .bp3-dark .bp3-html-select.bp3-minimal select.bp3-intent-danger.bp3-disabled, .bp3-html-select.bp3-minimal .bp3-dark select.bp3-intent-danger.bp3-disabled,
      .bp3-dark .bp3-select.bp3-minimal select.bp3-intent-danger.bp3-disabled, .bp3-select.bp3-minimal .bp3-dark select.bp3-intent-danger.bp3-disabled{
        background:none;
        color:rgba(255, 115, 115, 0.5); }
        .bp3-dark .bp3-html-select.bp3-minimal select.bp3-intent-danger:disabled.bp3-active, .bp3-html-select.bp3-minimal .bp3-dark select.bp3-intent-danger:disabled.bp3-active,
        .bp3-dark .bp3-select.bp3-minimal select.bp3-intent-danger:disabled.bp3-active, .bp3-select.bp3-minimal .bp3-dark select.bp3-intent-danger:disabled.bp3-active, .bp3-dark .bp3-html-select.bp3-minimal select.bp3-intent-danger.bp3-disabled.bp3-active, .bp3-html-select.bp3-minimal .bp3-dark select.bp3-intent-danger.bp3-disabled.bp3-active,
        .bp3-dark .bp3-select.bp3-minimal select.bp3-intent-danger.bp3-disabled.bp3-active, .bp3-select.bp3-minimal .bp3-dark select.bp3-intent-danger.bp3-disabled.bp3-active{
          background:rgba(219, 55, 55, 0.3); }

.bp3-html-select.bp3-large select,
.bp3-select.bp3-large select{
  font-size:16px;
  height:40px;
  padding-right:35px; }

.bp3-dark .bp3-html-select select, .bp3-dark .bp3-select select{
  background-color:#394b59;
  background-image:-webkit-gradient(linear, left top, left bottom, from(rgba(255, 255, 255, 0.05)), to(rgba(255, 255, 255, 0)));
  background-image:linear-gradient(to bottom, rgba(255, 255, 255, 0.05), rgba(255, 255, 255, 0));
  -webkit-box-shadow:0 0 0 1px rgba(16, 22, 26, 0.4);
          box-shadow:0 0 0 1px rgba(16, 22, 26, 0.4);
  color:#f5f8fa; }
  .bp3-dark .bp3-html-select select:hover, .bp3-dark .bp3-select select:hover, .bp3-dark .bp3-html-select select:active, .bp3-dark .bp3-select select:active, .bp3-dark .bp3-html-select select.bp3-active, .bp3-dark .bp3-select select.bp3-active{
    color:#f5f8fa; }
  .bp3-dark .bp3-html-select select:hover, .bp3-dark .bp3-select select:hover{
    background-color:#30404d;
    -webkit-box-shadow:0 0 0 1px rgba(16, 22, 26, 0.4);
            box-shadow:0 0 0 1px rgba(16, 22, 26, 0.4); }
  .bp3-dark .bp3-html-select select:active, .bp3-dark .bp3-select select:active, .bp3-dark .bp3-html-select select.bp3-active, .bp3-dark .bp3-select select.bp3-active{
    background-color:#202b33;
    background-image:none;
    -webkit-box-shadow:0 0 0 1px rgba(16, 22, 26, 0.6), inset 0 1px 2px rgba(16, 22, 26, 0.2);
            box-shadow:0 0 0 1px rgba(16, 22, 26, 0.6), inset 0 1px 2px rgba(16, 22, 26, 0.2); }
  .bp3-dark .bp3-html-select select:disabled, .bp3-dark .bp3-select select:disabled, .bp3-dark .bp3-html-select select.bp3-disabled, .bp3-dark .bp3-select select.bp3-disabled{
    background-color:rgba(57, 75, 89, 0.5);
    background-image:none;
    -webkit-box-shadow:none;
            box-shadow:none;
    color:rgba(167, 182, 194, 0.6); }
    .bp3-dark .bp3-html-select select:disabled.bp3-active, .bp3-dark .bp3-select select:disabled.bp3-active, .bp3-dark .bp3-html-select select.bp3-disabled.bp3-active, .bp3-dark .bp3-select select.bp3-disabled.bp3-active{
      background:rgba(57, 75, 89, 0.7); }
  .bp3-dark .bp3-html-select select .bp3-button-spinner .bp3-spinner-head, .bp3-dark .bp3-select select .bp3-button-spinner .bp3-spinner-head{
    background:rgba(16, 22, 26, 0.5);
    stroke:#8a9ba8; }

.bp3-html-select select:disabled,
.bp3-select select:disabled{
  background-color:rgba(206, 217, 224, 0.5);
  -webkit-box-shadow:none;
          box-shadow:none;
  color:rgba(92, 112, 128, 0.6);
  cursor:not-allowed; }

.bp3-html-select .bp3-icon,
.bp3-select .bp3-icon, .bp3-select::after{
  color:#5c7080;
  pointer-events:none;
  position:absolute;
  right:7px;
  top:7px; }
  .bp3-html-select .bp3-disabled.bp3-icon,
  .bp3-select .bp3-disabled.bp3-icon, .bp3-disabled.bp3-select::after{
    color:rgba(92, 112, 128, 0.6); }
.bp3-html-select,
.bp3-select{
  display:inline-block;
  letter-spacing:normal;
  position:relative;
  vertical-align:middle; }
  .bp3-html-select select::-ms-expand,
  .bp3-select select::-ms-expand{
    display:none; }
  .bp3-html-select .bp3-icon,
  .bp3-select .bp3-icon{
    color:#5c7080; }
    .bp3-html-select .bp3-icon:hover,
    .bp3-select .bp3-icon:hover{
      color:#182026; }
    .bp3-dark .bp3-html-select .bp3-icon, .bp3-dark
    .bp3-select .bp3-icon{
      color:#a7b6c2; }
      .bp3-dark .bp3-html-select .bp3-icon:hover, .bp3-dark
      .bp3-select .bp3-icon:hover{
        color:#f5f8fa; }
  .bp3-html-select.bp3-large::after,
  .bp3-html-select.bp3-large .bp3-icon,
  .bp3-select.bp3-large::after,
  .bp3-select.bp3-large .bp3-icon{
    right:12px;
    top:12px; }
  .bp3-html-select.bp3-fill,
  .bp3-html-select.bp3-fill select,
  .bp3-select.bp3-fill,
  .bp3-select.bp3-fill select{
    width:100%; }
  .bp3-dark .bp3-html-select option, .bp3-dark
  .bp3-select option{
    background-color:#30404d;
    color:#f5f8fa; }
  .bp3-dark .bp3-html-select option:disabled, .bp3-dark
  .bp3-select option:disabled{
    color:rgba(167, 182, 194, 0.6); }
  .bp3-dark .bp3-html-select::after, .bp3-dark
  .bp3-select::after{
    color:#a7b6c2; }

.bp3-select::after{
  font-family:"Icons16", sans-serif;
  font-size:16px;
  font-style:normal;
  font-weight:400;
  line-height:1;
  -moz-osx-font-smoothing:grayscale;
  -webkit-font-smoothing:antialiased;
  content:""; }
.bp3-running-text table, table.bp3-html-table{
  border-spacing:0;
  font-size:14px; }
  .bp3-running-text table th, table.bp3-html-table th,
  .bp3-running-text table td,
  table.bp3-html-table td{
    padding:11px;
    text-align:left;
    vertical-align:top; }
  .bp3-running-text table th, table.bp3-html-table th{
    color:#182026;
    font-weight:600; }
  
  .bp3-running-text table td,
  table.bp3-html-table td{
    color:#182026; }
  .bp3-running-text table tbody tr:first-child th, table.bp3-html-table tbody tr:first-child th,
  .bp3-running-text table tbody tr:first-child td,
  table.bp3-html-table tbody tr:first-child td,
  .bp3-running-text table tfoot tr:first-child th,
  table.bp3-html-table tfoot tr:first-child th,
  .bp3-running-text table tfoot tr:first-child td,
  table.bp3-html-table tfoot tr:first-child td{
    -webkit-box-shadow:inset 0 1px 0 0 rgba(16, 22, 26, 0.15);
            box-shadow:inset 0 1px 0 0 rgba(16, 22, 26, 0.15); }
  .bp3-dark .bp3-running-text table th, .bp3-running-text .bp3-dark table th, .bp3-dark table.bp3-html-table th{
    color:#f5f8fa; }
  .bp3-dark .bp3-running-text table td, .bp3-running-text .bp3-dark table td, .bp3-dark table.bp3-html-table td{
    color:#f5f8fa; }
  .bp3-dark .bp3-running-text table tbody tr:first-child th, .bp3-running-text .bp3-dark table tbody tr:first-child th, .bp3-dark table.bp3-html-table tbody tr:first-child th,
  .bp3-dark .bp3-running-text table tbody tr:first-child td,
  .bp3-running-text .bp3-dark table tbody tr:first-child td,
  .bp3-dark table.bp3-html-table tbody tr:first-child td,
  .bp3-dark .bp3-running-text table tfoot tr:first-child th,
  .bp3-running-text .bp3-dark table tfoot tr:first-child th,
  .bp3-dark table.bp3-html-table tfoot tr:first-child th,
  .bp3-dark .bp3-running-text table tfoot tr:first-child td,
  .bp3-running-text .bp3-dark table tfoot tr:first-child td,
  .bp3-dark table.bp3-html-table tfoot tr:first-child td{
    -webkit-box-shadow:inset 0 1px 0 0 rgba(255, 255, 255, 0.15);
            box-shadow:inset 0 1px 0 0 rgba(255, 255, 255, 0.15); }

table.bp3-html-table.bp3-html-table-condensed th,
table.bp3-html-table.bp3-html-table-condensed td, table.bp3-html-table.bp3-small th,
table.bp3-html-table.bp3-small td{
  padding-bottom:6px;
  padding-top:6px; }

table.bp3-html-table.bp3-html-table-striped tbody tr:nth-child(odd) td{
  background:rgba(191, 204, 214, 0.15); }

table.bp3-html-table.bp3-html-table-bordered th:not(:first-child){
  -webkit-box-shadow:inset 1px 0 0 0 rgba(16, 22, 26, 0.15);
          box-shadow:inset 1px 0 0 0 rgba(16, 22, 26, 0.15); }

table.bp3-html-table.bp3-html-table-bordered tbody tr td,
table.bp3-html-table.bp3-html-table-bordered tfoot tr td{
  -webkit-box-shadow:inset 0 1px 0 0 rgba(16, 22, 26, 0.15);
          box-shadow:inset 0 1px 0 0 rgba(16, 22, 26, 0.15); }
  table.bp3-html-table.bp3-html-table-bordered tbody tr td:not(:first-child),
  table.bp3-html-table.bp3-html-table-bordered tfoot tr td:not(:first-child){
    -webkit-box-shadow:inset 1px 1px 0 0 rgba(16, 22, 26, 0.15);
            box-shadow:inset 1px 1px 0 0 rgba(16, 22, 26, 0.15); }

table.bp3-html-table.bp3-html-table-bordered.bp3-html-table-striped tbody tr:not(:first-child) td{
  -webkit-box-shadow:none;
          box-shadow:none; }
  table.bp3-html-table.bp3-html-table-bordered.bp3-html-table-striped tbody tr:not(:first-child) td:not(:first-child){
    -webkit-box-shadow:inset 1px 0 0 0 rgba(16, 22, 26, 0.15);
            box-shadow:inset 1px 0 0 0 rgba(16, 22, 26, 0.15); }

table.bp3-html-table.bp3-interactive tbody tr:hover td{
  background-color:rgba(191, 204, 214, 0.3);
  cursor:pointer; }

table.bp3-html-table.bp3-interactive tbody tr:active td{
  background-color:rgba(191, 204, 214, 0.4); }

.bp3-dark table.bp3-html-table{ }
  .bp3-dark table.bp3-html-table.bp3-html-table-striped tbody tr:nth-child(odd) td{
    background:rgba(92, 112, 128, 0.15); }
  .bp3-dark table.bp3-html-table.bp3-html-table-bordered th:not(:first-child){
    -webkit-box-shadow:inset 1px 0 0 0 rgba(255, 255, 255, 0.15);
            box-shadow:inset 1px 0 0 0 rgba(255, 255, 255, 0.15); }
  .bp3-dark table.bp3-html-table.bp3-html-table-bordered tbody tr td,
  .bp3-dark table.bp3-html-table.bp3-html-table-bordered tfoot tr td{
    -webkit-box-shadow:inset 0 1px 0 0 rgba(255, 255, 255, 0.15);
            box-shadow:inset 0 1px 0 0 rgba(255, 255, 255, 0.15); }
    .bp3-dark table.bp3-html-table.bp3-html-table-bordered tbody tr td:not(:first-child),
    .bp3-dark table.bp3-html-table.bp3-html-table-bordered tfoot tr td:not(:first-child){
      -webkit-box-shadow:inset 1px 1px 0 0 rgba(255, 255, 255, 0.15);
              box-shadow:inset 1px 1px 0 0 rgba(255, 255, 255, 0.15); }
  .bp3-dark table.bp3-html-table.bp3-html-table-bordered.bp3-html-table-striped tbody tr:not(:first-child) td{
    -webkit-box-shadow:inset 1px 0 0 0 rgba(255, 255, 255, 0.15);
            box-shadow:inset 1px 0 0 0 rgba(255, 255, 255, 0.15); }
    .bp3-dark table.bp3-html-table.bp3-html-table-bordered.bp3-html-table-striped tbody tr:not(:first-child) td:first-child{
      -webkit-box-shadow:none;
              box-shadow:none; }
  .bp3-dark table.bp3-html-table.bp3-interactive tbody tr:hover td{
    background-color:rgba(92, 112, 128, 0.3);
    cursor:pointer; }
  .bp3-dark table.bp3-html-table.bp3-interactive tbody tr:active td{
    background-color:rgba(92, 112, 128, 0.4); }

.bp3-key-combo{
  display:-webkit-box;
  display:-ms-flexbox;
  display:flex;
  -webkit-box-orient:horizontal;
  -webkit-box-direction:normal;
      -ms-flex-direction:row;
          flex-direction:row;
  -webkit-box-align:center;
      -ms-flex-align:center;
          align-items:center; }
  .bp3-key-combo > *{
    -webkit-box-flex:0;
        -ms-flex-positive:0;
            flex-grow:0;
    -ms-flex-negative:0;
        flex-shrink:0; }
  .bp3-key-combo > .bp3-fill{
    -webkit-box-flex:1;
        -ms-flex-positive:1;
            flex-grow:1;
    -ms-flex-negative:1;
        flex-shrink:1; }
  .bp3-key-combo::before,
  .bp3-key-combo > *{
    margin-right:5px; }
  .bp3-key-combo:empty::before,
  .bp3-key-combo > :last-child{
    margin-right:0; }

.bp3-hotkey-dialog{
  padding-bottom:0;
  top:40px; }
  .bp3-hotkey-dialog .bp3-dialog-body{
    margin:0;
    padding:0; }
  .bp3-hotkey-dialog .bp3-hotkey-label{
    -webkit-box-flex:1;
        -ms-flex-positive:1;
            flex-grow:1; }

.bp3-hotkey-column{
  margin:auto;
  max-height:80vh;
  overflow-y:auto;
  padding:30px; }
  .bp3-hotkey-column .bp3-heading{
    margin-bottom:20px; }
    .bp3-hotkey-column .bp3-heading:not(:first-child){
      margin-top:40px; }

.bp3-hotkey{
  -webkit-box-align:center;
      -ms-flex-align:center;
          align-items:center;
  display:-webkit-box;
  display:-ms-flexbox;
  display:flex;
  -webkit-box-pack:justify;
      -ms-flex-pack:justify;
          justify-content:space-between;
  margin-left:0;
  margin-right:0; }
  .bp3-hotkey:not(:last-child){
    margin-bottom:10px; }
.bp3-icon{
  display:inline-block;
  -webkit-box-flex:0;
      -ms-flex:0 0 auto;
          flex:0 0 auto;
  vertical-align:text-bottom; }
  .bp3-icon:not(:empty)::before{
    content:"" !important;
    content:unset !important; }
  .bp3-icon > svg{
    display:block; }
    .bp3-icon > svg:not([fill]){
      fill:currentColor; }

.bp3-icon.bp3-intent-primary, .bp3-icon-standard.bp3-intent-primary, .bp3-icon-large.bp3-intent-primary{
  color:#106ba3; }
  .bp3-dark .bp3-icon.bp3-intent-primary, .bp3-dark .bp3-icon-standard.bp3-intent-primary, .bp3-dark .bp3-icon-large.bp3-intent-primary{
    color:#48aff0; }

.bp3-icon.bp3-intent-success, .bp3-icon-standard.bp3-intent-success, .bp3-icon-large.bp3-intent-success{
  color:#0d8050; }
  .bp3-dark .bp3-icon.bp3-intent-success, .bp3-dark .bp3-icon-standard.bp3-intent-success, .bp3-dark .bp3-icon-large.bp3-intent-success{
    color:#3dcc91; }

.bp3-icon.bp3-intent-warning, .bp3-icon-standard.bp3-intent-warning, .bp3-icon-large.bp3-intent-warning{
  color:#bf7326; }
  .bp3-dark .bp3-icon.bp3-intent-warning, .bp3-dark .bp3-icon-standard.bp3-intent-warning, .bp3-dark .bp3-icon-large.bp3-intent-warning{
    color:#ffb366; }

.bp3-icon.bp3-intent-danger, .bp3-icon-standard.bp3-intent-danger, .bp3-icon-large.bp3-intent-danger{
  color:#c23030; }
  .bp3-dark .bp3-icon.bp3-intent-danger, .bp3-dark .bp3-icon-standard.bp3-intent-danger, .bp3-dark .bp3-icon-large.bp3-intent-danger{
    color:#ff7373; }

span.bp3-icon-standard{
  font-family:"Icons16", sans-serif;
  font-size:16px;
  font-style:normal;
  font-weight:400;
  line-height:1;
  -moz-osx-font-smoothing:grayscale;
  -webkit-font-smoothing:antialiased;
  display:inline-block; }

span.bp3-icon-large{
  font-family:"Icons20", sans-serif;
  font-size:20px;
  font-style:normal;
  font-weight:400;
  line-height:1;
  -moz-osx-font-smoothing:grayscale;
  -webkit-font-smoothing:antialiased;
  display:inline-block; }

span.bp3-icon:empty{
  font-family:"Icons20";
  font-size:inherit;
  font-style:normal;
  font-weight:400;
  line-height:1; }
  span.bp3-icon:empty::before{
    -moz-osx-font-smoothing:grayscale;
    -webkit-font-smoothing:antialiased; }

.bp3-icon-add::before{
  content:""; }

.bp3-icon-add-column-left::before{
  content:""; }

.bp3-icon-add-column-right::before{
  content:""; }

.bp3-icon-add-row-bottom::before{
  content:""; }

.bp3-icon-add-row-top::before{
  content:""; }

.bp3-icon-add-to-artifact::before{
  content:""; }

.bp3-icon-add-to-folder::before{
  content:""; }

.bp3-icon-airplane::before{
  content:""; }

.bp3-icon-align-center::before{
  content:""; }

.bp3-icon-align-justify::before{
  content:""; }

.bp3-icon-align-left::before{
  content:""; }

.bp3-icon-align-right::before{
  content:""; }

.bp3-icon-alignment-bottom::before{
  content:""; }

.bp3-icon-alignment-horizontal-center::before{
  content:""; }

.bp3-icon-alignment-left::before{
  content:""; }

.bp3-icon-alignment-right::before{
  content:""; }

.bp3-icon-alignment-top::before{
  content:""; }

.bp3-icon-alignment-vertical-center::before{
  content:""; }

.bp3-icon-annotation::before{
  content:""; }

.bp3-icon-application::before{
  content:""; }

.bp3-icon-applications::before{
  content:""; }

.bp3-icon-archive::before{
  content:""; }

.bp3-icon-arrow-bottom-left::before{
  content:"↙"; }

.bp3-icon-arrow-bottom-right::before{
  content:"↘"; }

.bp3-icon-arrow-down::before{
  content:"↓"; }

.bp3-icon-arrow-left::before{
  content:"←"; }

.bp3-icon-arrow-right::before{
  content:"→"; }

.bp3-icon-arrow-top-left::before{
  content:"↖"; }

.bp3-icon-arrow-top-right::before{
  content:"↗"; }

.bp3-icon-arrow-up::before{
  content:"↑"; }

.bp3-icon-arrows-horizontal::before{
  content:"↔"; }

.bp3-icon-arrows-vertical::before{
  content:"↕"; }

.bp3-icon-asterisk::before{
  content:"*"; }

.bp3-icon-automatic-updates::before{
  content:""; }

.bp3-icon-badge::before{
  content:""; }

.bp3-icon-ban-circle::before{
  content:""; }

.bp3-icon-bank-account::before{
  content:""; }

.bp3-icon-barcode::before{
  content:""; }

.bp3-icon-blank::before{
  content:""; }

.bp3-icon-blocked-person::before{
  content:""; }

.bp3-icon-bold::before{
  content:""; }

.bp3-icon-book::before{
  content:""; }

.bp3-icon-bookmark::before{
  content:""; }

.bp3-icon-box::before{
  content:""; }

.bp3-icon-briefcase::before{
  content:""; }

.bp3-icon-bring-data::before{
  content:""; }

.bp3-icon-build::before{
  content:""; }

.bp3-icon-calculator::before{
  content:""; }

.bp3-icon-calendar::before{
  content:""; }

.bp3-icon-camera::before{
  content:""; }

.bp3-icon-caret-down::before{
  content:"⌄"; }

.bp3-icon-caret-left::before{
  content:"〈"; }

.bp3-icon-caret-right::before{
  content:"〉"; }

.bp3-icon-caret-up::before{
  content:"⌃"; }

.bp3-icon-cell-tower::before{
  content:""; }

.bp3-icon-changes::before{
  content:""; }

.bp3-icon-chart::before{
  content:""; }

.bp3-icon-chat::before{
  content:""; }

.bp3-icon-chevron-backward::before{
  content:""; }

.bp3-icon-chevron-down::before{
  content:""; }

.bp3-icon-chevron-forward::before{
  content:""; }

.bp3-icon-chevron-left::before{
  content:""; }

.bp3-icon-chevron-right::before{
  content:""; }

.bp3-icon-chevron-up::before{
  content:""; }

.bp3-icon-circle::before{
  content:""; }

.bp3-icon-circle-arrow-down::before{
  content:""; }

.bp3-icon-circle-arrow-left::before{
  content:""; }

.bp3-icon-circle-arrow-right::before{
  content:""; }

.bp3-icon-circle-arrow-up::before{
  content:""; }

.bp3-icon-citation::before{
  content:""; }

.bp3-icon-clean::before{
  content:""; }

.bp3-icon-clipboard::before{
  content:""; }

.bp3-icon-cloud::before{
  content:"☁"; }

.bp3-icon-cloud-download::before{
  content:""; }

.bp3-icon-cloud-upload::before{
  content:""; }

.bp3-icon-code::before{
  content:""; }

.bp3-icon-code-block::before{
  content:""; }

.bp3-icon-cog::before{
  content:""; }

.bp3-icon-collapse-all::before{
  content:""; }

.bp3-icon-column-layout::before{
  content:""; }

.bp3-icon-comment::before{
  content:""; }

.bp3-icon-comparison::before{
  content:""; }

.bp3-icon-compass::before{
  content:""; }

.bp3-icon-compressed::before{
  content:""; }

.bp3-icon-confirm::before{
  content:""; }

.bp3-icon-console::before{
  content:""; }

.bp3-icon-contrast::before{
  content:""; }

.bp3-icon-control::before{
  content:""; }

.bp3-icon-credit-card::before{
  content:""; }

.bp3-icon-cross::before{
  content:"✗"; }

.bp3-icon-crown::before{
  content:""; }

.bp3-icon-cube::before{
  content:""; }

.bp3-icon-cube-add::before{
  content:""; }

.bp3-icon-cube-remove::before{
  content:""; }

.bp3-icon-curved-range-chart::before{
  content:""; }

.bp3-icon-cut::before{
  content:""; }

.bp3-icon-dashboard::before{
  content:""; }

.bp3-icon-data-lineage::before{
  content:""; }

.bp3-icon-database::before{
  content:""; }

.bp3-icon-delete::before{
  content:""; }

.bp3-icon-delta::before{
  content:"Δ"; }

.bp3-icon-derive-column::before{
  content:""; }

.bp3-icon-desktop::before{
  content:""; }

.bp3-icon-diagnosis::before{
  content:""; }

.bp3-icon-diagram-tree::before{
  content:""; }

.bp3-icon-direction-left::before{
  content:""; }

.bp3-icon-direction-right::before{
  content:""; }

.bp3-icon-disable::before{
  content:""; }

.bp3-icon-document::before{
  content:""; }

.bp3-icon-document-open::before{
  content:""; }

.bp3-icon-document-share::before{
  content:""; }

.bp3-icon-dollar::before{
  content:"$"; }

.bp3-icon-dot::before{
  content:"•"; }

.bp3-icon-double-caret-horizontal::before{
  content:""; }

.bp3-icon-double-caret-vertical::before{
  content:""; }

.bp3-icon-double-chevron-down::before{
  content:""; }

.bp3-icon-double-chevron-left::before{
  content:""; }

.bp3-icon-double-chevron-right::before{
  content:""; }

.bp3-icon-double-chevron-up::before{
  content:""; }

.bp3-icon-doughnut-chart::before{
  content:""; }

.bp3-icon-download::before{
  content:""; }

.bp3-icon-drag-handle-horizontal::before{
  content:""; }

.bp3-icon-drag-handle-vertical::before{
  content:""; }

.bp3-icon-draw::before{
  content:""; }

.bp3-icon-drive-time::before{
  content:""; }

.bp3-icon-duplicate::before{
  content:""; }

.bp3-icon-edit::before{
  content:"✎"; }

.bp3-icon-eject::before{
  content:"⏏"; }

.bp3-icon-endorsed::before{
  content:""; }

.bp3-icon-envelope::before{
  content:"✉"; }

.bp3-icon-equals::before{
  content:""; }

.bp3-icon-eraser::before{
  content:""; }

.bp3-icon-error::before{
  content:""; }

.bp3-icon-euro::before{
  content:"€"; }

.bp3-icon-exchange::before{
  content:""; }

.bp3-icon-exclude-row::before{
  content:""; }

.bp3-icon-expand-all::before{
  content:""; }

.bp3-icon-export::before{
  content:""; }

.bp3-icon-eye-off::before{
  content:""; }

.bp3-icon-eye-on::before{
  content:""; }

.bp3-icon-eye-open::before{
  content:""; }

.bp3-icon-fast-backward::before{
  content:""; }

.bp3-icon-fast-forward::before{
  content:""; }

.bp3-icon-feed::before{
  content:""; }

.bp3-icon-feed-subscribed::before{
  content:""; }

.bp3-icon-film::before{
  content:""; }

.bp3-icon-filter::before{
  content:""; }

.bp3-icon-filter-keep::before{
  content:""; }

.bp3-icon-filter-list::before{
  content:""; }

.bp3-icon-filter-open::before{
  content:""; }

.bp3-icon-filter-remove::before{
  content:""; }

.bp3-icon-flag::before{
  content:"⚑"; }

.bp3-icon-flame::before{
  content:""; }

.bp3-icon-flash::before{
  content:""; }

.bp3-icon-floppy-disk::before{
  content:""; }

.bp3-icon-flow-branch::before{
  content:""; }

.bp3-icon-flow-end::before{
  content:""; }

.bp3-icon-flow-linear::before{
  content:""; }

.bp3-icon-flow-review::before{
  content:""; }

.bp3-icon-flow-review-branch::before{
  content:""; }

.bp3-icon-flows::before{
  content:""; }

.bp3-icon-folder-close::before{
  content:""; }

.bp3-icon-folder-new::before{
  content:""; }

.bp3-icon-folder-open::before{
  content:""; }

.bp3-icon-folder-shared::before{
  content:""; }

.bp3-icon-folder-shared-open::before{
  content:""; }

.bp3-icon-follower::before{
  content:""; }

.bp3-icon-following::before{
  content:""; }

.bp3-icon-font::before{
  content:""; }

.bp3-icon-fork::before{
  content:""; }

.bp3-icon-form::before{
  content:""; }

.bp3-icon-full-circle::before{
  content:""; }

.bp3-icon-full-stacked-chart::before{
  content:""; }

.bp3-icon-fullscreen::before{
  content:""; }

.bp3-icon-function::before{
  content:""; }

.bp3-icon-gantt-chart::before{
  content:""; }

.bp3-icon-geolocation::before{
  content:""; }

.bp3-icon-geosearch::before{
  content:""; }

.bp3-icon-git-branch::before{
  content:""; }

.bp3-icon-git-commit::before{
  content:""; }

.bp3-icon-git-merge::before{
  content:""; }

.bp3-icon-git-new-branch::before{
  content:""; }

.bp3-icon-git-pull::before{
  content:""; }

.bp3-icon-git-push::before{
  content:""; }

.bp3-icon-git-repo::before{
  content:""; }

.bp3-icon-glass::before{
  content:""; }

.bp3-icon-globe::before{
  content:""; }

.bp3-icon-globe-network::before{
  content:""; }

.bp3-icon-graph::before{
  content:""; }

.bp3-icon-graph-remove::before{
  content:""; }

.bp3-icon-greater-than::before{
  content:""; }

.bp3-icon-greater-than-or-equal-to::before{
  content:""; }

.bp3-icon-grid::before{
  content:""; }

.bp3-icon-grid-view::before{
  content:""; }

.bp3-icon-group-objects::before{
  content:""; }

.bp3-icon-grouped-bar-chart::before{
  content:""; }

.bp3-icon-hand::before{
  content:""; }

.bp3-icon-hand-down::before{
  content:""; }

.bp3-icon-hand-left::before{
  content:""; }

.bp3-icon-hand-right::before{
  content:""; }

.bp3-icon-hand-up::before{
  content:""; }

.bp3-icon-header::before{
  content:""; }

.bp3-icon-header-one::before{
  content:""; }

.bp3-icon-header-two::before{
  content:""; }

.bp3-icon-headset::before{
  content:""; }

.bp3-icon-heart::before{
  content:"♥"; }

.bp3-icon-heart-broken::before{
  content:""; }

.bp3-icon-heat-grid::before{
  content:""; }

.bp3-icon-heatmap::before{
  content:""; }

.bp3-icon-help::before{
  content:"?"; }

.bp3-icon-helper-management::before{
  content:""; }

.bp3-icon-highlight::before{
  content:""; }

.bp3-icon-history::before{
  content:""; }

.bp3-icon-home::before{
  content:"⌂"; }

.bp3-icon-horizontal-bar-chart::before{
  content:""; }

.bp3-icon-horizontal-bar-chart-asc::before{
  content:""; }

.bp3-icon-horizontal-bar-chart-desc::before{
  content:""; }

.bp3-icon-horizontal-distribution::before{
  content:""; }

.bp3-icon-id-number::before{
  content:""; }

.bp3-icon-image-rotate-left::before{
  content:""; }

.bp3-icon-image-rotate-right::before{
  content:""; }

.bp3-icon-import::before{
  content:""; }

.bp3-icon-inbox::before{
  content:""; }

.bp3-icon-inbox-filtered::before{
  content:""; }

.bp3-icon-inbox-geo::before{
  content:""; }

.bp3-icon-inbox-search::before{
  content:""; }

.bp3-icon-inbox-update::before{
  content:""; }

.bp3-icon-info-sign::before{
  content:"ℹ"; }

.bp3-icon-inheritance::before{
  content:""; }

.bp3-icon-inner-join::before{
  content:""; }

.bp3-icon-insert::before{
  content:""; }

.bp3-icon-intersection::before{
  content:""; }

.bp3-icon-ip-address::before{
  content:""; }

.bp3-icon-issue::before{
  content:""; }

.bp3-icon-issue-closed::before{
  content:""; }

.bp3-icon-issue-new::before{
  content:""; }

.bp3-icon-italic::before{
  content:""; }

.bp3-icon-join-table::before{
  content:""; }

.bp3-icon-key::before{
  content:""; }

.bp3-icon-key-backspace::before{
  content:""; }

.bp3-icon-key-command::before{
  content:""; }

.bp3-icon-key-control::before{
  content:""; }

.bp3-icon-key-delete::before{
  content:""; }

.bp3-icon-key-enter::before{
  content:""; }

.bp3-icon-key-escape::before{
  content:""; }

.bp3-icon-key-option::before{
  content:""; }

.bp3-icon-key-shift::before{
  content:""; }

.bp3-icon-key-tab::before{
  content:""; }

.bp3-icon-known-vehicle::before{
  content:""; }

.bp3-icon-lab-test::before{
  content:""; }

.bp3-icon-label::before{
  content:""; }

.bp3-icon-layer::before{
  content:""; }

.bp3-icon-layers::before{
  content:""; }

.bp3-icon-layout::before{
  content:""; }

.bp3-icon-layout-auto::before{
  content:""; }

.bp3-icon-layout-balloon::before{
  content:""; }

.bp3-icon-layout-circle::before{
  content:""; }

.bp3-icon-layout-grid::before{
  content:""; }

.bp3-icon-layout-group-by::before{
  content:""; }

.bp3-icon-layout-hierarchy::before{
  content:""; }

.bp3-icon-layout-linear::before{
  content:""; }

.bp3-icon-layout-skew-grid::before{
  content:""; }

.bp3-icon-layout-sorted-clusters::before{
  content:""; }

.bp3-icon-learning::before{
  content:""; }

.bp3-icon-left-join::before{
  content:""; }

.bp3-icon-less-than::before{
  content:""; }

.bp3-icon-less-than-or-equal-to::before{
  content:""; }

.bp3-icon-lifesaver::before{
  content:""; }

.bp3-icon-lightbulb::before{
  content:""; }

.bp3-icon-link::before{
  content:""; }

.bp3-icon-list::before{
  content:"☰"; }

.bp3-icon-list-columns::before{
  content:""; }

.bp3-icon-list-detail-view::before{
  content:""; }

.bp3-icon-locate::before{
  content:""; }

.bp3-icon-lock::before{
  content:""; }

.bp3-icon-log-in::before{
  content:""; }

.bp3-icon-log-out::before{
  content:""; }

.bp3-icon-manual::before{
  content:""; }

.bp3-icon-manually-entered-data::before{
  content:""; }

.bp3-icon-map::before{
  content:""; }

.bp3-icon-map-create::before{
  content:""; }

.bp3-icon-map-marker::before{
  content:""; }

.bp3-icon-maximize::before{
  content:""; }

.bp3-icon-media::before{
  content:""; }

.bp3-icon-menu::before{
  content:""; }

.bp3-icon-menu-closed::before{
  content:""; }

.bp3-icon-menu-open::before{
  content:""; }

.bp3-icon-merge-columns::before{
  content:""; }

.bp3-icon-merge-links::before{
  content:""; }

.bp3-icon-minimize::before{
  content:""; }

.bp3-icon-minus::before{
  content:"−"; }

.bp3-icon-mobile-phone::before{
  content:""; }

.bp3-icon-mobile-video::before{
  content:""; }

.bp3-icon-moon::before{
  content:""; }

.bp3-icon-more::before{
  content:""; }

.bp3-icon-mountain::before{
  content:""; }

.bp3-icon-move::before{
  content:""; }

.bp3-icon-mugshot::before{
  content:""; }

.bp3-icon-multi-select::before{
  content:""; }

.bp3-icon-music::before{
  content:""; }

.bp3-icon-new-drawing::before{
  content:""; }

.bp3-icon-new-grid-item::before{
  content:""; }

.bp3-icon-new-layer::before{
  content:""; }

.bp3-icon-new-layers::before{
  content:""; }

.bp3-icon-new-link::before{
  content:""; }

.bp3-icon-new-object::before{
  content:""; }

.bp3-icon-new-person::before{
  content:""; }

.bp3-icon-new-prescription::before{
  content:""; }

.bp3-icon-new-text-box::before{
  content:""; }

.bp3-icon-ninja::before{
  content:""; }

.bp3-icon-not-equal-to::before{
  content:""; }

.bp3-icon-notifications::before{
  content:""; }

.bp3-icon-notifications-updated::before{
  content:""; }

.bp3-icon-numbered-list::before{
  content:""; }

.bp3-icon-numerical::before{
  content:""; }

.bp3-icon-office::before{
  content:""; }

.bp3-icon-offline::before{
  content:""; }

.bp3-icon-oil-field::before{
  content:""; }

.bp3-icon-one-column::before{
  content:""; }

.bp3-icon-outdated::before{
  content:""; }

.bp3-icon-page-layout::before{
  content:""; }

.bp3-icon-panel-stats::before{
  content:""; }

.bp3-icon-panel-table::before{
  content:""; }

.bp3-icon-paperclip::before{
  content:""; }

.bp3-icon-paragraph::before{
  content:""; }

.bp3-icon-path::before{
  content:""; }

.bp3-icon-path-search::before{
  content:""; }

.bp3-icon-pause::before{
  content:""; }

.bp3-icon-people::before{
  content:""; }

.bp3-icon-percentage::before{
  content:""; }

.bp3-icon-person::before{
  content:""; }

.bp3-icon-phone::before{
  content:"☎"; }

.bp3-icon-pie-chart::before{
  content:""; }

.bp3-icon-pin::before{
  content:""; }

.bp3-icon-pivot::before{
  content:""; }

.bp3-icon-pivot-table::before{
  content:""; }

.bp3-icon-play::before{
  content:""; }

.bp3-icon-plus::before{
  content:"+"; }

.bp3-icon-polygon-filter::before{
  content:""; }

.bp3-icon-power::before{
  content:""; }

.bp3-icon-predictive-analysis::before{
  content:""; }

.bp3-icon-prescription::before{
  content:""; }

.bp3-icon-presentation::before{
  content:""; }

.bp3-icon-print::before{
  content:"⎙"; }

.bp3-icon-projects::before{
  content:""; }

.bp3-icon-properties::before{
  content:""; }

.bp3-icon-property::before{
  content:""; }

.bp3-icon-publish-function::before{
  content:""; }

.bp3-icon-pulse::before{
  content:""; }

.bp3-icon-random::before{
  content:""; }

.bp3-icon-record::before{
  content:""; }

.bp3-icon-redo::before{
  content:""; }

.bp3-icon-refresh::before{
  content:""; }

.bp3-icon-regression-chart::before{
  content:""; }

.bp3-icon-remove::before{
  content:""; }

.bp3-icon-remove-column::before{
  content:""; }

.bp3-icon-remove-column-left::before{
  content:""; }

.bp3-icon-remove-column-right::before{
  content:""; }

.bp3-icon-remove-row-bottom::before{
  content:""; }

.bp3-icon-remove-row-top::before{
  content:""; }

.bp3-icon-repeat::before{
  content:""; }

.bp3-icon-reset::before{
  content:""; }

.bp3-icon-resolve::before{
  content:""; }

.bp3-icon-rig::before{
  content:""; }

.bp3-icon-right-join::before{
  content:""; }

.bp3-icon-ring::before{
  content:""; }

.bp3-icon-rotate-document::before{
  content:""; }

.bp3-icon-rotate-page::before{
  content:""; }

.bp3-icon-satellite::before{
  content:""; }

.bp3-icon-saved::before{
  content:""; }

.bp3-icon-scatter-plot::before{
  content:""; }

.bp3-icon-search::before{
  content:""; }

.bp3-icon-search-around::before{
  content:""; }

.bp3-icon-search-template::before{
  content:""; }

.bp3-icon-search-text::before{
  content:""; }

.bp3-icon-segmented-control::before{
  content:""; }

.bp3-icon-select::before{
  content:""; }

.bp3-icon-selection::before{
  content:"⦿"; }

.bp3-icon-send-to::before{
  content:""; }

.bp3-icon-send-to-graph::before{
  content:""; }

.bp3-icon-send-to-map::before{
  content:""; }

.bp3-icon-series-add::before{
  content:""; }

.bp3-icon-series-configuration::before{
  content:""; }

.bp3-icon-series-derived::before{
  content:""; }

.bp3-icon-series-filtered::before{
  content:""; }

.bp3-icon-series-search::before{
  content:""; }

.bp3-icon-settings::before{
  content:""; }

.bp3-icon-share::before{
  content:""; }

.bp3-icon-shield::before{
  content:""; }

.bp3-icon-shop::before{
  content:""; }

.bp3-icon-shopping-cart::before{
  content:""; }

.bp3-icon-signal-search::before{
  content:""; }

.bp3-icon-sim-card::before{
  content:""; }

.bp3-icon-slash::before{
  content:""; }

.bp3-icon-small-cross::before{
  content:""; }

.bp3-icon-small-minus::before{
  content:""; }

.bp3-icon-small-plus::before{
  content:""; }

.bp3-icon-small-tick::before{
  content:""; }

.bp3-icon-snowflake::before{
  content:""; }

.bp3-icon-social-media::before{
  content:""; }

.bp3-icon-sort::before{
  content:""; }

.bp3-icon-sort-alphabetical::before{
  content:""; }

.bp3-icon-sort-alphabetical-desc::before{
  content:""; }

.bp3-icon-sort-asc::before{
  content:""; }

.bp3-icon-sort-desc::before{
  content:""; }

.bp3-icon-sort-numerical::before{
  content:""; }

.bp3-icon-sort-numerical-desc::before{
  content:""; }

.bp3-icon-split-columns::before{
  content:""; }

.bp3-icon-square::before{
  content:""; }

.bp3-icon-stacked-chart::before{
  content:""; }

.bp3-icon-star::before{
  content:"★"; }

.bp3-icon-star-empty::before{
  content:"☆"; }

.bp3-icon-step-backward::before{
  content:""; }

.bp3-icon-step-chart::before{
  content:""; }

.bp3-icon-step-forward::before{
  content:""; }

.bp3-icon-stop::before{
  content:""; }

.bp3-icon-stopwatch::before{
  content:""; }

.bp3-icon-strikethrough::before{
  content:""; }

.bp3-icon-style::before{
  content:""; }

.bp3-icon-swap-horizontal::before{
  content:""; }

.bp3-icon-swap-vertical::before{
  content:""; }

.bp3-icon-symbol-circle::before{
  content:""; }

.bp3-icon-symbol-cross::before{
  content:""; }

.bp3-icon-symbol-diamond::before{
  content:""; }

.bp3-icon-symbol-square::before{
  content:""; }

.bp3-icon-symbol-triangle-down::before{
  content:""; }

.bp3-icon-symbol-triangle-up::before{
  content:""; }

.bp3-icon-tag::before{
  content:""; }

.bp3-icon-take-action::before{
  content:""; }

.bp3-icon-taxi::before{
  content:""; }

.bp3-icon-text-highlight::before{
  content:""; }

.bp3-icon-th::before{
  content:""; }

.bp3-icon-th-derived::before{
  content:""; }

.bp3-icon-th-disconnect::before{
  content:""; }

.bp3-icon-th-filtered::before{
  content:""; }

.bp3-icon-th-list::before{
  content:""; }

.bp3-icon-thumbs-down::before{
  content:""; }

.bp3-icon-thumbs-up::before{
  content:""; }

.bp3-icon-tick::before{
  content:"✓"; }

.bp3-icon-tick-circle::before{
  content:""; }

.bp3-icon-time::before{
  content:"⏲"; }

.bp3-icon-timeline-area-chart::before{
  content:""; }

.bp3-icon-timeline-bar-chart::before{
  content:""; }

.bp3-icon-timeline-events::before{
  content:""; }

.bp3-icon-timeline-line-chart::before{
  content:""; }

.bp3-icon-tint::before{
  content:""; }

.bp3-icon-torch::before{
  content:""; }

.bp3-icon-tractor::before{
  content:""; }

.bp3-icon-train::before{
  content:""; }

.bp3-icon-translate::before{
  content:""; }

.bp3-icon-trash::before{
  content:""; }

.bp3-icon-tree::before{
  content:""; }

.bp3-icon-trending-down::before{
  content:""; }

.bp3-icon-trending-up::before{
  content:""; }

.bp3-icon-truck::before{
  content:""; }

.bp3-icon-two-columns::before{
  content:""; }

.bp3-icon-unarchive::before{
  content:""; }

.bp3-icon-underline::before{
  content:"⎁"; }

.bp3-icon-undo::before{
  content:"⎌"; }

.bp3-icon-ungroup-objects::before{
  content:""; }

.bp3-icon-unknown-vehicle::before{
  content:""; }

.bp3-icon-unlock::before{
  content:""; }

.bp3-icon-unpin::before{
  content:""; }

.bp3-icon-unresolve::before{
  content:""; }

.bp3-icon-updated::before{
  content:""; }

.bp3-icon-upload::before{
  content:""; }

.bp3-icon-user::before{
  content:""; }

.bp3-icon-variable::before{
  content:""; }

.bp3-icon-vertical-bar-chart-asc::before{
  content:""; }

.bp3-icon-vertical-bar-chart-desc::before{
  content:""; }

.bp3-icon-vertical-distribution::before{
  content:""; }

.bp3-icon-video::before{
  content:""; }

.bp3-icon-volume-down::before{
  content:""; }

.bp3-icon-volume-off::before{
  content:""; }

.bp3-icon-volume-up::before{
  content:""; }

.bp3-icon-walk::before{
  content:""; }

.bp3-icon-warning-sign::before{
  content:""; }

.bp3-icon-waterfall-chart::before{
  content:""; }

.bp3-icon-widget::before{
  content:""; }

.bp3-icon-widget-button::before{
  content:""; }

.bp3-icon-widget-footer::before{
  content:""; }

.bp3-icon-widget-header::before{
  content:""; }

.bp3-icon-wrench::before{
  content:""; }

.bp3-icon-zoom-in::before{
  content:""; }

.bp3-icon-zoom-out::before{
  content:""; }

.bp3-icon-zoom-to-fit::before{
  content:""; }
.bp3-submenu > .bp3-popover-wrapper{
  display:block; }

.bp3-submenu .bp3-popover-target{
  display:block; }
  .bp3-submenu .bp3-popover-target.bp3-popover-open > .bp3-menu-item{ }

.bp3-submenu.bp3-popover{
  -webkit-box-shadow:none;
          box-shadow:none;
  padding:0 5px; }
  .bp3-submenu.bp3-popover > .bp3-popover-content{
    -webkit-box-shadow:0 0 0 1px rgba(16, 22, 26, 0.1), 0 2px 4px rgba(16, 22, 26, 0.2), 0 8px 24px rgba(16, 22, 26, 0.2);
            box-shadow:0 0 0 1px rgba(16, 22, 26, 0.1), 0 2px 4px rgba(16, 22, 26, 0.2), 0 8px 24px rgba(16, 22, 26, 0.2); }
  .bp3-dark .bp3-submenu.bp3-popover, .bp3-submenu.bp3-popover.bp3-dark{
    -webkit-box-shadow:none;
            box-shadow:none; }
    .bp3-dark .bp3-submenu.bp3-popover > .bp3-popover-content, .bp3-submenu.bp3-popover.bp3-dark > .bp3-popover-content{
      -webkit-box-shadow:0 0 0 1px rgba(16, 22, 26, 0.2), 0 2px 4px rgba(16, 22, 26, 0.4), 0 8px 24px rgba(16, 22, 26, 0.4);
              box-shadow:0 0 0 1px rgba(16, 22, 26, 0.2), 0 2px 4px rgba(16, 22, 26, 0.4), 0 8px 24px rgba(16, 22, 26, 0.4); }
.bp3-menu{
  background:#ffffff;
  border-radius:3px;
  color:#182026;
  list-style:none;
  margin:0;
  min-width:180px;
  padding:5px;
  text-align:left; }

.bp3-menu-divider{
  border-top:1px solid rgba(16, 22, 26, 0.15);
  display:block;
  margin:5px; }
  .bp3-dark .bp3-menu-divider{
    border-top-color:rgba(255, 255, 255, 0.15); }

.bp3-menu-item{
  display:-webkit-box;
  display:-ms-flexbox;
  display:flex;
  -webkit-box-orient:horizontal;
  -webkit-box-direction:normal;
      -ms-flex-direction:row;
          flex-direction:row;
  -webkit-box-align:start;
      -ms-flex-align:start;
          align-items:flex-start;
  border-radius:2px;
  color:inherit;
  line-height:20px;
  padding:5px 7px;
  text-decoration:none;
  -webkit-user-select:none;
     -moz-user-select:none;
      -ms-user-select:none;
          user-select:none; }
  .bp3-menu-item > *{
    -webkit-box-flex:0;
        -ms-flex-positive:0;
            flex-grow:0;
    -ms-flex-negative:0;
        flex-shrink:0; }
  .bp3-menu-item > .bp3-fill{
    -webkit-box-flex:1;
        -ms-flex-positive:1;
            flex-grow:1;
    -ms-flex-negative:1;
        flex-shrink:1; }
  .bp3-menu-item::before,
  .bp3-menu-item > *{
    margin-right:7px; }
  .bp3-menu-item:empty::before,
  .bp3-menu-item > :last-child{
    margin-right:0; }
  .bp3-menu-item > .bp3-fill{
    word-break:break-word; }
  .bp3-menu-item:hover, .bp3-submenu .bp3-popover-target.bp3-popover-open > .bp3-menu-item{
    background-color:rgba(167, 182, 194, 0.3);
    cursor:pointer;
    text-decoration:none; }
  .bp3-menu-item.bp3-disabled{
    background-color:inherit;
    color:rgba(92, 112, 128, 0.6);
    cursor:not-allowed; }
  .bp3-dark .bp3-menu-item{
    color:inherit; }
    .bp3-dark .bp3-menu-item:hover, .bp3-dark .bp3-submenu .bp3-popover-target.bp3-popover-open > .bp3-menu-item, .bp3-submenu .bp3-dark .bp3-popover-target.bp3-popover-open > .bp3-menu-item{
      background-color:rgba(138, 155, 168, 0.15);
      color:inherit; }
    .bp3-dark .bp3-menu-item.bp3-disabled{
      background-color:inherit;
      color:rgba(167, 182, 194, 0.6); }
  .bp3-menu-item.bp3-intent-primary{
    color:#106ba3; }
    .bp3-menu-item.bp3-intent-primary .bp3-icon{
      color:inherit; }
    .bp3-menu-item.bp3-intent-primary::before, .bp3-menu-item.bp3-intent-primary::after,
    .bp3-menu-item.bp3-intent-primary .bp3-menu-item-label{
      color:#106ba3; }
    .bp3-menu-item.bp3-intent-primary:hover, .bp3-submenu .bp3-popover-target.bp3-popover-open > .bp3-intent-primary.bp3-menu-item, .bp3-menu-item.bp3-intent-primary.bp3-active{
      background-color:#137cbd; }
    .bp3-menu-item.bp3-intent-primary:active{
      background-color:#106ba3; }
    .bp3-menu-item.bp3-intent-primary:hover, .bp3-submenu .bp3-popover-target.bp3-popover-open > .bp3-intent-primary.bp3-menu-item, .bp3-menu-item.bp3-intent-primary:hover::before, .bp3-submenu .bp3-popover-target.bp3-popover-open > .bp3-intent-primary.bp3-menu-item::before, .bp3-menu-item.bp3-intent-primary:hover::after, .bp3-submenu .bp3-popover-target.bp3-popover-open > .bp3-intent-primary.bp3-menu-item::after,
    .bp3-menu-item.bp3-intent-primary:hover .bp3-menu-item-label,
    .bp3-submenu .bp3-popover-target.bp3-popover-open > .bp3-intent-primary.bp3-menu-item .bp3-menu-item-label, .bp3-menu-item.bp3-intent-primary:active, .bp3-menu-item.bp3-intent-primary:active::before, .bp3-menu-item.bp3-intent-primary:active::after,
    .bp3-menu-item.bp3-intent-primary:active .bp3-menu-item-label, .bp3-menu-item.bp3-intent-primary.bp3-active, .bp3-menu-item.bp3-intent-primary.bp3-active::before, .bp3-menu-item.bp3-intent-primary.bp3-active::after,
    .bp3-menu-item.bp3-intent-primary.bp3-active .bp3-menu-item-label{
      color:#ffffff; }
  .bp3-menu-item.bp3-intent-success{
    color:#0d8050; }
    .bp3-menu-item.bp3-intent-success .bp3-icon{
      color:inherit; }
    .bp3-menu-item.bp3-intent-success::before, .bp3-menu-item.bp3-intent-success::after,
    .bp3-menu-item.bp3-intent-success .bp3-menu-item-label{
      color:#0d8050; }
    .bp3-menu-item.bp3-intent-success:hover, .bp3-submenu .bp3-popover-target.bp3-popover-open > .bp3-intent-success.bp3-menu-item, .bp3-menu-item.bp3-intent-success.bp3-active{
      background-color:#0f9960; }
    .bp3-menu-item.bp3-intent-success:active{
      background-color:#0d8050; }
    .bp3-menu-item.bp3-intent-success:hover, .bp3-submenu .bp3-popover-target.bp3-popover-open > .bp3-intent-success.bp3-menu-item, .bp3-menu-item.bp3-intent-success:hover::before, .bp3-submenu .bp3-popover-target.bp3-popover-open > .bp3-intent-success.bp3-menu-item::before, .bp3-menu-item.bp3-intent-success:hover::after, .bp3-submenu .bp3-popover-target.bp3-popover-open > .bp3-intent-success.bp3-menu-item::after,
    .bp3-menu-item.bp3-intent-success:hover .bp3-menu-item-label,
    .bp3-submenu .bp3-popover-target.bp3-popover-open > .bp3-intent-success.bp3-menu-item .bp3-menu-item-label, .bp3-menu-item.bp3-intent-success:active, .bp3-menu-item.bp3-intent-success:active::before, .bp3-menu-item.bp3-intent-success:active::after,
    .bp3-menu-item.bp3-intent-success:active .bp3-menu-item-label, .bp3-menu-item.bp3-intent-success.bp3-active, .bp3-menu-item.bp3-intent-success.bp3-active::before, .bp3-menu-item.bp3-intent-success.bp3-active::after,
    .bp3-menu-item.bp3-intent-success.bp3-active .bp3-menu-item-label{
      color:#ffffff; }
  .bp3-menu-item.bp3-intent-warning{
    color:#bf7326; }
    .bp3-menu-item.bp3-intent-warning .bp3-icon{
      color:inherit; }
    .bp3-menu-item.bp3-intent-warning::before, .bp3-menu-item.bp3-intent-warning::after,
    .bp3-menu-item.bp3-intent-warning .bp3-menu-item-label{
      color:#bf7326; }
    .bp3-menu-item.bp3-intent-warning:hover, .bp3-submenu .bp3-popover-target.bp3-popover-open > .bp3-intent-warning.bp3-menu-item, .bp3-menu-item.bp3-intent-warning.bp3-active{
      background-color:#d9822b; }
    .bp3-menu-item.bp3-intent-warning:active{
      background-color:#bf7326; }
    .bp3-menu-item.bp3-intent-warning:hover, .bp3-submenu .bp3-popover-target.bp3-popover-open > .bp3-intent-warning.bp3-menu-item, .bp3-menu-item.bp3-intent-warning:hover::before, .bp3-submenu .bp3-popover-target.bp3-popover-open > .bp3-intent-warning.bp3-menu-item::before, .bp3-menu-item.bp3-intent-warning:hover::after, .bp3-submenu .bp3-popover-target.bp3-popover-open > .bp3-intent-warning.bp3-menu-item::after,
    .bp3-menu-item.bp3-intent-warning:hover .bp3-menu-item-label,
    .bp3-submenu .bp3-popover-target.bp3-popover-open > .bp3-intent-warning.bp3-menu-item .bp3-menu-item-label, .bp3-menu-item.bp3-intent-warning:active, .bp3-menu-item.bp3-intent-warning:active::before, .bp3-menu-item.bp3-intent-warning:active::after,
    .bp3-menu-item.bp3-intent-warning:active .bp3-menu-item-label, .bp3-menu-item.bp3-intent-warning.bp3-active, .bp3-menu-item.bp3-intent-warning.bp3-active::before, .bp3-menu-item.bp3-intent-warning.bp3-active::after,
    .bp3-menu-item.bp3-intent-warning.bp3-active .bp3-menu-item-label{
      color:#ffffff; }
  .bp3-menu-item.bp3-intent-danger{
    color:#c23030; }
    .bp3-menu-item.bp3-intent-danger .bp3-icon{
      color:inherit; }
    .bp3-menu-item.bp3-intent-danger::before, .bp3-menu-item.bp3-intent-danger::after,
    .bp3-menu-item.bp3-intent-danger .bp3-menu-item-label{
      color:#c23030; }
    .bp3-menu-item.bp3-intent-danger:hover, .bp3-submenu .bp3-popover-target.bp3-popover-open > .bp3-intent-danger.bp3-menu-item, .bp3-menu-item.bp3-intent-danger.bp3-active{
      background-color:#db3737; }
    .bp3-menu-item.bp3-intent-danger:active{
      background-color:#c23030; }
    .bp3-menu-item.bp3-intent-danger:hover, .bp3-submenu .bp3-popover-target.bp3-popover-open > .bp3-intent-danger.bp3-menu-item, .bp3-menu-item.bp3-intent-danger:hover::before, .bp3-submenu .bp3-popover-target.bp3-popover-open > .bp3-intent-danger.bp3-menu-item::before, .bp3-menu-item.bp3-intent-danger:hover::after, .bp3-submenu .bp3-popover-target.bp3-popover-open > .bp3-intent-danger.bp3-menu-item::after,
    .bp3-menu-item.bp3-intent-danger:hover .bp3-menu-item-label,
    .bp3-submenu .bp3-popover-target.bp3-popover-open > .bp3-intent-danger.bp3-menu-item .bp3-menu-item-label, .bp3-menu-item.bp3-intent-danger:active, .bp3-menu-item.bp3-intent-danger:active::before, .bp3-menu-item.bp3-intent-danger:active::after,
    .bp3-menu-item.bp3-intent-danger:active .bp3-menu-item-label, .bp3-menu-item.bp3-intent-danger.bp3-active, .bp3-menu-item.bp3-intent-danger.bp3-active::before, .bp3-menu-item.bp3-intent-danger.bp3-active::after,
    .bp3-menu-item.bp3-intent-danger.bp3-active .bp3-menu-item-label{
      color:#ffffff; }
  .bp3-menu-item::before{
    font-family:"Icons16", sans-serif;
    font-size:16px;
    font-style:normal;
    font-weight:400;
    line-height:1;
    -moz-osx-font-smoothing:grayscale;
    -webkit-font-smoothing:antialiased;
    margin-right:7px; }
  .bp3-menu-item::before,
  .bp3-menu-item > .bp3-icon{
    color:#5c7080;
    margin-top:2px; }
  .bp3-menu-item .bp3-menu-item-label{
    color:#5c7080; }
  .bp3-menu-item:hover, .bp3-submenu .bp3-popover-target.bp3-popover-open > .bp3-menu-item{
    color:inherit; }
  .bp3-menu-item.bp3-active, .bp3-menu-item:active{
    background-color:rgba(115, 134, 148, 0.3); }
  .bp3-menu-item.bp3-disabled{
    background-color:inherit !important;
    color:rgba(92, 112, 128, 0.6) !important;
    cursor:not-allowed !important;
    outline:none !important; }
    .bp3-menu-item.bp3-disabled::before,
    .bp3-menu-item.bp3-disabled > .bp3-icon,
    .bp3-menu-item.bp3-disabled .bp3-menu-item-label{
      color:rgba(92, 112, 128, 0.6) !important; }
  .bp3-large .bp3-menu-item{
    font-size:16px;
    line-height:22px;
    padding:9px 7px; }
    .bp3-large .bp3-menu-item .bp3-icon{
      margin-top:3px; }
    .bp3-large .bp3-menu-item::before{
      font-family:"Icons20", sans-serif;
      font-size:20px;
      font-style:normal;
      font-weight:400;
      line-height:1;
      -moz-osx-font-smoothing:grayscale;
      -webkit-font-smoothing:antialiased;
      margin-right:10px;
      margin-top:1px; }

button.bp3-menu-item{
  background:none;
  border:none;
  text-align:left;
  width:100%; }
.bp3-menu-header{
  border-top:1px solid rgba(16, 22, 26, 0.15);
  display:block;
  margin:5px;
  cursor:default;
  padding-left:2px; }
  .bp3-dark .bp3-menu-header{
    border-top-color:rgba(255, 255, 255, 0.15); }
  .bp3-menu-header:first-of-type{
    border-top:none; }
  .bp3-menu-header > h6{
    color:#182026;
    font-weight:600;
    overflow:hidden;
    text-overflow:ellipsis;
    white-space:nowrap;
    word-wrap:normal;
    line-height:17px;
    margin:0;
    padding:10px 7px 0 1px; }
    .bp3-dark .bp3-menu-header > h6{
      color:#f5f8fa; }
  .bp3-menu-header:first-of-type > h6{
    padding-top:0; }
  .bp3-large .bp3-menu-header > h6{
    font-size:18px;
    padding-bottom:5px;
    padding-top:15px; }
  .bp3-large .bp3-menu-header:first-of-type > h6{
    padding-top:0; }

.bp3-dark .bp3-menu{
  background:#30404d;
  color:#f5f8fa; }

.bp3-dark .bp3-menu-item{ }
  .bp3-dark .bp3-menu-item.bp3-intent-primary{
    color:#48aff0; }
    .bp3-dark .bp3-menu-item.bp3-intent-primary .bp3-icon{
      color:inherit; }
    .bp3-dark .bp3-menu-item.bp3-intent-primary::before, .bp3-dark .bp3-menu-item.bp3-intent-primary::after,
    .bp3-dark .bp3-menu-item.bp3-intent-primary .bp3-menu-item-label{
      color:#48aff0; }
    .bp3-dark .bp3-menu-item.bp3-intent-primary:hover, .bp3-dark .bp3-submenu .bp3-popover-target.bp3-popover-open > .bp3-intent-primary.bp3-menu-item, .bp3-submenu .bp3-dark .bp3-popover-target.bp3-popover-open > .bp3-intent-primary.bp3-menu-item, .bp3-dark .bp3-menu-item.bp3-intent-primary.bp3-active{
      background-color:#137cbd; }
    .bp3-dark .bp3-menu-item.bp3-intent-primary:active{
      background-color:#106ba3; }
    .bp3-dark .bp3-menu-item.bp3-intent-primary:hover, .bp3-dark .bp3-submenu .bp3-popover-target.bp3-popover-open > .bp3-intent-primary.bp3-menu-item, .bp3-submenu .bp3-dark .bp3-popover-target.bp3-popover-open > .bp3-intent-primary.bp3-menu-item, .bp3-dark .bp3-menu-item.bp3-intent-primary:hover::before, .bp3-dark .bp3-submenu .bp3-popover-target.bp3-popover-open > .bp3-intent-primary.bp3-menu-item::before, .bp3-submenu .bp3-dark .bp3-popover-target.bp3-popover-open > .bp3-intent-primary.bp3-menu-item::before, .bp3-dark .bp3-menu-item.bp3-intent-primary:hover::after, .bp3-dark .bp3-submenu .bp3-popover-target.bp3-popover-open > .bp3-intent-primary.bp3-menu-item::after, .bp3-submenu .bp3-dark .bp3-popover-target.bp3-popover-open > .bp3-intent-primary.bp3-menu-item::after,
    .bp3-dark .bp3-menu-item.bp3-intent-primary:hover .bp3-menu-item-label,
    .bp3-dark .bp3-submenu .bp3-popover-target.bp3-popover-open > .bp3-intent-primary.bp3-menu-item .bp3-menu-item-label,
    .bp3-submenu .bp3-dark .bp3-popover-target.bp3-popover-open > .bp3-intent-primary.bp3-menu-item .bp3-menu-item-label, .bp3-dark .bp3-menu-item.bp3-intent-primary:active, .bp3-dark .bp3-menu-item.bp3-intent-primary:active::before, .bp3-dark .bp3-menu-item.bp3-intent-primary:active::after,
    .bp3-dark .bp3-menu-item.bp3-intent-primary:active .bp3-menu-item-label, .bp3-dark .bp3-menu-item.bp3-intent-primary.bp3-active, .bp3-dark .bp3-menu-item.bp3-intent-primary.bp3-active::before, .bp3-dark .bp3-menu-item.bp3-intent-primary.bp3-active::after,
    .bp3-dark .bp3-menu-item.bp3-intent-primary.bp3-active .bp3-menu-item-label{
      color:#ffffff; }
  .bp3-dark .bp3-menu-item.bp3-intent-success{
    color:#3dcc91; }
    .bp3-dark .bp3-menu-item.bp3-intent-success .bp3-icon{
      color:inherit; }
    .bp3-dark .bp3-menu-item.bp3-intent-success::before, .bp3-dark .bp3-menu-item.bp3-intent-success::after,
    .bp3-dark .bp3-menu-item.bp3-intent-success .bp3-menu-item-label{
      color:#3dcc91; }
    .bp3-dark .bp3-menu-item.bp3-intent-success:hover, .bp3-dark .bp3-submenu .bp3-popover-target.bp3-popover-open > .bp3-intent-success.bp3-menu-item, .bp3-submenu .bp3-dark .bp3-popover-target.bp3-popover-open > .bp3-intent-success.bp3-menu-item, .bp3-dark .bp3-menu-item.bp3-intent-success.bp3-active{
      background-color:#0f9960; }
    .bp3-dark .bp3-menu-item.bp3-intent-success:active{
      background-color:#0d8050; }
    .bp3-dark .bp3-menu-item.bp3-intent-success:hover, .bp3-dark .bp3-submenu .bp3-popover-target.bp3-popover-open > .bp3-intent-success.bp3-menu-item, .bp3-submenu .bp3-dark .bp3-popover-target.bp3-popover-open > .bp3-intent-success.bp3-menu-item, .bp3-dark .bp3-menu-item.bp3-intent-success:hover::before, .bp3-dark .bp3-submenu .bp3-popover-target.bp3-popover-open > .bp3-intent-success.bp3-menu-item::before, .bp3-submenu .bp3-dark .bp3-popover-target.bp3-popover-open > .bp3-intent-success.bp3-menu-item::before, .bp3-dark .bp3-menu-item.bp3-intent-success:hover::after, .bp3-dark .bp3-submenu .bp3-popover-target.bp3-popover-open > .bp3-intent-success.bp3-menu-item::after, .bp3-submenu .bp3-dark .bp3-popover-target.bp3-popover-open > .bp3-intent-success.bp3-menu-item::after,
    .bp3-dark .bp3-menu-item.bp3-intent-success:hover .bp3-menu-item-label,
    .bp3-dark .bp3-submenu .bp3-popover-target.bp3-popover-open > .bp3-intent-success.bp3-menu-item .bp3-menu-item-label,
    .bp3-submenu .bp3-dark .bp3-popover-target.bp3-popover-open > .bp3-intent-success.bp3-menu-item .bp3-menu-item-label, .bp3-dark .bp3-menu-item.bp3-intent-success:active, .bp3-dark .bp3-menu-item.bp3-intent-success:active::before, .bp3-dark .bp3-menu-item.bp3-intent-success:active::after,
    .bp3-dark .bp3-menu-item.bp3-intent-success:active .bp3-menu-item-label, .bp3-dark .bp3-menu-item.bp3-intent-success.bp3-active, .bp3-dark .bp3-menu-item.bp3-intent-success.bp3-active::before, .bp3-dark .bp3-menu-item.bp3-intent-success.bp3-active::after,
    .bp3-dark .bp3-menu-item.bp3-intent-success.bp3-active .bp3-menu-item-label{
      color:#ffffff; }
  .bp3-dark .bp3-menu-item.bp3-intent-warning{
    color:#ffb366; }
    .bp3-dark .bp3-menu-item.bp3-intent-warning .bp3-icon{
      color:inherit; }
    .bp3-dark .bp3-menu-item.bp3-intent-warning::before, .bp3-dark .bp3-menu-item.bp3-intent-warning::after,
    .bp3-dark .bp3-menu-item.bp3-intent-warning .bp3-menu-item-label{
      color:#ffb366; }
    .bp3-dark .bp3-menu-item.bp3-intent-warning:hover, .bp3-dark .bp3-submenu .bp3-popover-target.bp3-popover-open > .bp3-intent-warning.bp3-menu-item, .bp3-submenu .bp3-dark .bp3-popover-target.bp3-popover-open > .bp3-intent-warning.bp3-menu-item, .bp3-dark .bp3-menu-item.bp3-intent-warning.bp3-active{
      background-color:#d9822b; }
    .bp3-dark .bp3-menu-item.bp3-intent-warning:active{
      background-color:#bf7326; }
    .bp3-dark .bp3-menu-item.bp3-intent-warning:hover, .bp3-dark .bp3-submenu .bp3-popover-target.bp3-popover-open > .bp3-intent-warning.bp3-menu-item, .bp3-submenu .bp3-dark .bp3-popover-target.bp3-popover-open > .bp3-intent-warning.bp3-menu-item, .bp3-dark .bp3-menu-item.bp3-intent-warning:hover::before, .bp3-dark .bp3-submenu .bp3-popover-target.bp3-popover-open > .bp3-intent-warning.bp3-menu-item::before, .bp3-submenu .bp3-dark .bp3-popover-target.bp3-popover-open > .bp3-intent-warning.bp3-menu-item::before, .bp3-dark .bp3-menu-item.bp3-intent-warning:hover::after, .bp3-dark .bp3-submenu .bp3-popover-target.bp3-popover-open > .bp3-intent-warning.bp3-menu-item::after, .bp3-submenu .bp3-dark .bp3-popover-target.bp3-popover-open > .bp3-intent-warning.bp3-menu-item::after,
    .bp3-dark .bp3-menu-item.bp3-intent-warning:hover .bp3-menu-item-label,
    .bp3-dark .bp3-submenu .bp3-popover-target.bp3-popover-open > .bp3-intent-warning.bp3-menu-item .bp3-menu-item-label,
    .bp3-submenu .bp3-dark .bp3-popover-target.bp3-popover-open > .bp3-intent-warning.bp3-menu-item .bp3-menu-item-label, .bp3-dark .bp3-menu-item.bp3-intent-warning:active, .bp3-dark .bp3-menu-item.bp3-intent-warning:active::before, .bp3-dark .bp3-menu-item.bp3-intent-warning:active::after,
    .bp3-dark .bp3-menu-item.bp3-intent-warning:active .bp3-menu-item-label, .bp3-dark .bp3-menu-item.bp3-intent-warning.bp3-active, .bp3-dark .bp3-menu-item.bp3-intent-warning.bp3-active::before, .bp3-dark .bp3-menu-item.bp3-intent-warning.bp3-active::after,
    .bp3-dark .bp3-menu-item.bp3-intent-warning.bp3-active .bp3-menu-item-label{
      color:#ffffff; }
  .bp3-dark .bp3-menu-item.bp3-intent-danger{
    color:#ff7373; }
    .bp3-dark .bp3-menu-item.bp3-intent-danger .bp3-icon{
      color:inherit; }
    .bp3-dark .bp3-menu-item.bp3-intent-danger::before, .bp3-dark .bp3-menu-item.bp3-intent-danger::after,
    .bp3-dark .bp3-menu-item.bp3-intent-danger .bp3-menu-item-label{
      color:#ff7373; }
    .bp3-dark .bp3-menu-item.bp3-intent-danger:hover, .bp3-dark .bp3-submenu .bp3-popover-target.bp3-popover-open > .bp3-intent-danger.bp3-menu-item, .bp3-submenu .bp3-dark .bp3-popover-target.bp3-popover-open > .bp3-intent-danger.bp3-menu-item, .bp3-dark .bp3-menu-item.bp3-intent-danger.bp3-active{
      background-color:#db3737; }
    .bp3-dark .bp3-menu-item.bp3-intent-danger:active{
      background-color:#c23030; }
    .bp3-dark .bp3-menu-item.bp3-intent-danger:hover, .bp3-dark .bp3-submenu .bp3-popover-target.bp3-popover-open > .bp3-intent-danger.bp3-menu-item, .bp3-submenu .bp3-dark .bp3-popover-target.bp3-popover-open > .bp3-intent-danger.bp3-menu-item, .bp3-dark .bp3-menu-item.bp3-intent-danger:hover::before, .bp3-dark .bp3-submenu .bp3-popover-target.bp3-popover-open > .bp3-intent-danger.bp3-menu-item::before, .bp3-submenu .bp3-dark .bp3-popover-target.bp3-popover-open > .bp3-intent-danger.bp3-menu-item::before, .bp3-dark .bp3-menu-item.bp3-intent-danger:hover::after, .bp3-dark .bp3-submenu .bp3-popover-target.bp3-popover-open > .bp3-intent-danger.bp3-menu-item::after, .bp3-submenu .bp3-dark .bp3-popover-target.bp3-popover-open > .bp3-intent-danger.bp3-menu-item::after,
    .bp3-dark .bp3-menu-item.bp3-intent-danger:hover .bp3-menu-item-label,
    .bp3-dark .bp3-submenu .bp3-popover-target.bp3-popover-open > .bp3-intent-danger.bp3-menu-item .bp3-menu-item-label,
    .bp3-submenu .bp3-dark .bp3-popover-target.bp3-popover-open > .bp3-intent-danger.bp3-menu-item .bp3-menu-item-label, .bp3-dark .bp3-menu-item.bp3-intent-danger:active, .bp3-dark .bp3-menu-item.bp3-intent-danger:active::before, .bp3-dark .bp3-menu-item.bp3-intent-danger:active::after,
    .bp3-dark .bp3-menu-item.bp3-intent-danger:active .bp3-menu-item-label, .bp3-dark .bp3-menu-item.bp3-intent-danger.bp3-active, .bp3-dark .bp3-menu-item.bp3-intent-danger.bp3-active::before, .bp3-dark .bp3-menu-item.bp3-intent-danger.bp3-active::after,
    .bp3-dark .bp3-menu-item.bp3-intent-danger.bp3-active .bp3-menu-item-label{
      color:#ffffff; }
  .bp3-dark .bp3-menu-item::before,
  .bp3-dark .bp3-menu-item > .bp3-icon{
    color:#a7b6c2; }
  .bp3-dark .bp3-menu-item .bp3-menu-item-label{
    color:#a7b6c2; }
  .bp3-dark .bp3-menu-item.bp3-active, .bp3-dark .bp3-menu-item:active{
    background-color:rgba(138, 155, 168, 0.3); }
  .bp3-dark .bp3-menu-item.bp3-disabled{
    color:rgba(167, 182, 194, 0.6) !important; }
    .bp3-dark .bp3-menu-item.bp3-disabled::before,
    .bp3-dark .bp3-menu-item.bp3-disabled > .bp3-icon,
    .bp3-dark .bp3-menu-item.bp3-disabled .bp3-menu-item-label{
      color:rgba(167, 182, 194, 0.6) !important; }

.bp3-dark .bp3-menu-divider,
.bp3-dark .bp3-menu-header{
  border-color:rgba(255, 255, 255, 0.15); }

.bp3-dark .bp3-menu-header > h6{
  color:#f5f8fa; }

.bp3-label .bp3-menu{
  margin-top:5px; }
.bp3-navbar{
  background-color:#ffffff;
  -webkit-box-shadow:0 0 0 1px rgba(16, 22, 26, 0.1), 0 0 0 rgba(16, 22, 26, 0), 0 1px 1px rgba(16, 22, 26, 0.2);
          box-shadow:0 0 0 1px rgba(16, 22, 26, 0.1), 0 0 0 rgba(16, 22, 26, 0), 0 1px 1px rgba(16, 22, 26, 0.2);
  height:50px;
  padding:0 15px;
  position:relative;
  width:100%;
  z-index:10; }
  .bp3-navbar.bp3-dark,
  .bp3-dark .bp3-navbar{
    background-color:#394b59; }
  .bp3-navbar.bp3-dark{
    -webkit-box-shadow:inset 0 0 0 1px rgba(16, 22, 26, 0.2), 0 0 0 rgba(16, 22, 26, 0), 0 1px 1px rgba(16, 22, 26, 0.4);
            box-shadow:inset 0 0 0 1px rgba(16, 22, 26, 0.2), 0 0 0 rgba(16, 22, 26, 0), 0 1px 1px rgba(16, 22, 26, 0.4); }
  .bp3-dark .bp3-navbar{
    -webkit-box-shadow:0 0 0 1px rgba(16, 22, 26, 0.2), 0 0 0 rgba(16, 22, 26, 0), 0 1px 1px rgba(16, 22, 26, 0.4);
            box-shadow:0 0 0 1px rgba(16, 22, 26, 0.2), 0 0 0 rgba(16, 22, 26, 0), 0 1px 1px rgba(16, 22, 26, 0.4); }
  .bp3-navbar.bp3-fixed-top{
    left:0;
    position:fixed;
    right:0;
    top:0; }

.bp3-navbar-heading{
  font-size:16px;
  margin-right:15px; }

.bp3-navbar-group{
  -webkit-box-align:center;
      -ms-flex-align:center;
          align-items:center;
  display:-webkit-box;
  display:-ms-flexbox;
  display:flex;
  height:50px; }
  .bp3-navbar-group.bp3-align-left{
    float:left; }
  .bp3-navbar-group.bp3-align-right{
    float:right; }

.bp3-navbar-divider{
  border-left:1px solid rgba(16, 22, 26, 0.15);
  height:20px;
  margin:0 10px; }
  .bp3-dark .bp3-navbar-divider{
    border-left-color:rgba(255, 255, 255, 0.15); }
.bp3-non-ideal-state{
  display:-webkit-box;
  display:-ms-flexbox;
  display:flex;
  -webkit-box-orient:vertical;
  -webkit-box-direction:normal;
      -ms-flex-direction:column;
          flex-direction:column;
  -webkit-box-align:center;
      -ms-flex-align:center;
          align-items:center;
  height:100%;
  -webkit-box-pack:center;
      -ms-flex-pack:center;
          justify-content:center;
  text-align:center;
  width:100%; }
  .bp3-non-ideal-state > *{
    -webkit-box-flex:0;
        -ms-flex-positive:0;
            flex-grow:0;
    -ms-flex-negative:0;
        flex-shrink:0; }
  .bp3-non-ideal-state > .bp3-fill{
    -webkit-box-flex:1;
        -ms-flex-positive:1;
            flex-grow:1;
    -ms-flex-negative:1;
        flex-shrink:1; }
  .bp3-non-ideal-state::before,
  .bp3-non-ideal-state > *{
    margin-bottom:20px; }
  .bp3-non-ideal-state:empty::before,
  .bp3-non-ideal-state > :last-child{
    margin-bottom:0; }
  .bp3-non-ideal-state > *{
    max-width:400px; }

.bp3-non-ideal-state-visual{
  color:rgba(92, 112, 128, 0.6);
  font-size:60px; }
  .bp3-dark .bp3-non-ideal-state-visual{
    color:rgba(167, 182, 194, 0.6); }

.bp3-overflow-list{
  display:-webkit-box;
  display:-ms-flexbox;
  display:flex;
  -ms-flex-wrap:nowrap;
      flex-wrap:nowrap;
  min-width:0; }

.bp3-overflow-list-spacer{
  -ms-flex-negative:1;
      flex-shrink:1;
  width:1px; }

body.bp3-overlay-open{
  overflow:hidden; }

.bp3-overlay{
  bottom:0;
  left:0;
  position:static;
  right:0;
  top:0;
  z-index:20; }
  .bp3-overlay:not(.bp3-overlay-open){
    pointer-events:none; }
  .bp3-overlay.bp3-overlay-container{
    overflow:hidden;
    position:fixed; }
    .bp3-overlay.bp3-overlay-container.bp3-overlay-inline{
      position:absolute; }
  .bp3-overlay.bp3-overlay-scroll-container{
    overflow:auto;
    position:fixed; }
    .bp3-overlay.bp3-overlay-scroll-container.bp3-overlay-inline{
      position:absolute; }
  .bp3-overlay.bp3-overlay-inline{
    display:inline;
    overflow:visible; }

.bp3-overlay-content{
  position:fixed;
  z-index:20; }
  .bp3-overlay-inline .bp3-overlay-content,
  .bp3-overlay-scroll-container .bp3-overlay-content{
    position:absolute; }

.bp3-overlay-backdrop{
  bottom:0;
  left:0;
  position:fixed;
  right:0;
  top:0;
  opacity:1;
  background-color:rgba(16, 22, 26, 0.7);
  overflow:auto;
  -webkit-user-select:none;
     -moz-user-select:none;
      -ms-user-select:none;
          user-select:none;
  z-index:20; }
  .bp3-overlay-backdrop.bp3-overlay-enter, .bp3-overlay-backdrop.bp3-overlay-appear{
    opacity:0; }
  .bp3-overlay-backdrop.bp3-overlay-enter-active, .bp3-overlay-backdrop.bp3-overlay-appear-active{
    opacity:1;
    -webkit-transition-delay:0;
            transition-delay:0;
    -webkit-transition-duration:200ms;
            transition-duration:200ms;
    -webkit-transition-property:opacity;
    transition-property:opacity;
    -webkit-transition-timing-function:cubic-bezier(0.4, 1, 0.75, 0.9);
            transition-timing-function:cubic-bezier(0.4, 1, 0.75, 0.9); }
  .bp3-overlay-backdrop.bp3-overlay-exit{
    opacity:1; }
  .bp3-overlay-backdrop.bp3-overlay-exit-active{
    opacity:0;
    -webkit-transition-delay:0;
            transition-delay:0;
    -webkit-transition-duration:200ms;
            transition-duration:200ms;
    -webkit-transition-property:opacity;
    transition-property:opacity;
    -webkit-transition-timing-function:cubic-bezier(0.4, 1, 0.75, 0.9);
            transition-timing-function:cubic-bezier(0.4, 1, 0.75, 0.9); }
  .bp3-overlay-backdrop:focus{
    outline:none; }
  .bp3-overlay-inline .bp3-overlay-backdrop{
    position:absolute; }
.bp3-panel-stack{
  overflow:hidden;
  position:relative; }

.bp3-panel-stack-header{
  -webkit-box-align:center;
      -ms-flex-align:center;
          align-items:center;
  -webkit-box-shadow:0 1px rgba(16, 22, 26, 0.15);
          box-shadow:0 1px rgba(16, 22, 26, 0.15);
  display:-webkit-box;
  display:-ms-flexbox;
  display:flex;
  -ms-flex-negative:0;
      flex-shrink:0;
  height:30px;
  z-index:1; }
  .bp3-dark .bp3-panel-stack-header{
    -webkit-box-shadow:0 1px rgba(255, 255, 255, 0.15);
            box-shadow:0 1px rgba(255, 255, 255, 0.15); }
  .bp3-panel-stack-header > span{
    -webkit-box-align:stretch;
        -ms-flex-align:stretch;
            align-items:stretch;
    display:-webkit-box;
    display:-ms-flexbox;
    display:flex;
    -webkit-box-flex:1;
        -ms-flex:1;
            flex:1; }
  .bp3-panel-stack-header .bp3-heading{
    margin:0 5px; }

.bp3-button.bp3-panel-stack-header-back{
  margin-left:5px;
  padding-left:0;
  white-space:nowrap; }
  .bp3-button.bp3-panel-stack-header-back .bp3-icon{
    margin:0 2px; }

.bp3-panel-stack-view{
  bottom:0;
  left:0;
  position:absolute;
  right:0;
  top:0;
  background-color:#ffffff;
  border-right:1px solid rgba(16, 22, 26, 0.15);
  display:-webkit-box;
  display:-ms-flexbox;
  display:flex;
  -webkit-box-orient:vertical;
  -webkit-box-direction:normal;
      -ms-flex-direction:column;
          flex-direction:column;
  margin-right:-1px;
  overflow-y:auto;
  z-index:1; }
  .bp3-dark .bp3-panel-stack-view{
    background-color:#30404d; }
  .bp3-panel-stack-view:nth-last-child(n + 4){
    display:none; }

.bp3-panel-stack-push .bp3-panel-stack-enter, .bp3-panel-stack-push .bp3-panel-stack-appear{
  -webkit-transform:translateX(100%);
          transform:translateX(100%);
  opacity:0; }

.bp3-panel-stack-push .bp3-panel-stack-enter-active, .bp3-panel-stack-push .bp3-panel-stack-appear-active{
  -webkit-transform:translate(0%);
          transform:translate(0%);
  opacity:1;
  -webkit-transition-delay:0;
          transition-delay:0;
  -webkit-transition-duration:400ms;
          transition-duration:400ms;
  -webkit-transition-property:opacity, -webkit-transform;
  transition-property:opacity, -webkit-transform;
  transition-property:transform, opacity;
  transition-property:transform, opacity, -webkit-transform;
  -webkit-transition-timing-function:ease;
          transition-timing-function:ease; }

.bp3-panel-stack-push .bp3-panel-stack-exit{
  -webkit-transform:translate(0%);
          transform:translate(0%);
  opacity:1; }

.bp3-panel-stack-push .bp3-panel-stack-exit-active{
  -webkit-transform:translateX(-50%);
          transform:translateX(-50%);
  opacity:0;
  -webkit-transition-delay:0;
          transition-delay:0;
  -webkit-transition-duration:400ms;
          transition-duration:400ms;
  -webkit-transition-property:opacity, -webkit-transform;
  transition-property:opacity, -webkit-transform;
  transition-property:transform, opacity;
  transition-property:transform, opacity, -webkit-transform;
  -webkit-transition-timing-function:ease;
          transition-timing-function:ease; }

.bp3-panel-stack-pop .bp3-panel-stack-enter, .bp3-panel-stack-pop .bp3-panel-stack-appear{
  -webkit-transform:translateX(-50%);
          transform:translateX(-50%);
  opacity:0; }

.bp3-panel-stack-pop .bp3-panel-stack-enter-active, .bp3-panel-stack-pop .bp3-panel-stack-appear-active{
  -webkit-transform:translate(0%);
          transform:translate(0%);
  opacity:1;
  -webkit-transition-delay:0;
          transition-delay:0;
  -webkit-transition-duration:400ms;
          transition-duration:400ms;
  -webkit-transition-property:opacity, -webkit-transform;
  transition-property:opacity, -webkit-transform;
  transition-property:transform, opacity;
  transition-property:transform, opacity, -webkit-transform;
  -webkit-transition-timing-function:ease;
          transition-timing-function:ease; }

.bp3-panel-stack-pop .bp3-panel-stack-exit{
  -webkit-transform:translate(0%);
          transform:translate(0%);
  opacity:1; }

.bp3-panel-stack-pop .bp3-panel-stack-exit-active{
  -webkit-transform:translateX(100%);
          transform:translateX(100%);
  opacity:0;
  -webkit-transition-delay:0;
          transition-delay:0;
  -webkit-transition-duration:400ms;
          transition-duration:400ms;
  -webkit-transition-property:opacity, -webkit-transform;
  transition-property:opacity, -webkit-transform;
  transition-property:transform, opacity;
  transition-property:transform, opacity, -webkit-transform;
  -webkit-transition-timing-function:ease;
          transition-timing-function:ease; }
.bp3-panel-stack2{
  overflow:hidden;
  position:relative; }

.bp3-panel-stack2-header{
  -webkit-box-align:center;
      -ms-flex-align:center;
          align-items:center;
  -webkit-box-shadow:0 1px rgba(16, 22, 26, 0.15);
          box-shadow:0 1px rgba(16, 22, 26, 0.15);
  display:-webkit-box;
  display:-ms-flexbox;
  display:flex;
  -ms-flex-negative:0;
      flex-shrink:0;
  height:30px;
  z-index:1; }
  .bp3-dark .bp3-panel-stack2-header{
    -webkit-box-shadow:0 1px rgba(255, 255, 255, 0.15);
            box-shadow:0 1px rgba(255, 255, 255, 0.15); }
  .bp3-panel-stack2-header > span{
    -webkit-box-align:stretch;
        -ms-flex-align:stretch;
            align-items:stretch;
    display:-webkit-box;
    display:-ms-flexbox;
    display:flex;
    -webkit-box-flex:1;
        -ms-flex:1;
            flex:1; }
  .bp3-panel-stack2-header .bp3-heading{
    margin:0 5px; }

.bp3-button.bp3-panel-stack2-header-back{
  margin-left:5px;
  padding-left:0;
  white-space:nowrap; }
  .bp3-button.bp3-panel-stack2-header-back .bp3-icon{
    margin:0 2px; }

.bp3-panel-stack2-view{
  bottom:0;
  left:0;
  position:absolute;
  right:0;
  top:0;
  background-color:#ffffff;
  border-right:1px solid rgba(16, 22, 26, 0.15);
  display:-webkit-box;
  display:-ms-flexbox;
  display:flex;
  -webkit-box-orient:vertical;
  -webkit-box-direction:normal;
      -ms-flex-direction:column;
          flex-direction:column;
  margin-right:-1px;
  overflow-y:auto;
  z-index:1; }
  .bp3-dark .bp3-panel-stack2-view{
    background-color:#30404d; }
  .bp3-panel-stack2-view:nth-last-child(n + 4){
    display:none; }

.bp3-panel-stack2-push .bp3-panel-stack2-enter, .bp3-panel-stack2-push .bp3-panel-stack2-appear{
  -webkit-transform:translateX(100%);
          transform:translateX(100%);
  opacity:0; }

.bp3-panel-stack2-push .bp3-panel-stack2-enter-active, .bp3-panel-stack2-push .bp3-panel-stack2-appear-active{
  -webkit-transform:translate(0%);
          transform:translate(0%);
  opacity:1;
  -webkit-transition-delay:0;
          transition-delay:0;
  -webkit-transition-duration:400ms;
          transition-duration:400ms;
  -webkit-transition-property:opacity, -webkit-transform;
  transition-property:opacity, -webkit-transform;
  transition-property:transform, opacity;
  transition-property:transform, opacity, -webkit-transform;
  -webkit-transition-timing-function:ease;
          transition-timing-function:ease; }

.bp3-panel-stack2-push .bp3-panel-stack2-exit{
  -webkit-transform:translate(0%);
          transform:translate(0%);
  opacity:1; }

.bp3-panel-stack2-push .bp3-panel-stack2-exit-active{
  -webkit-transform:translateX(-50%);
          transform:translateX(-50%);
  opacity:0;
  -webkit-transition-delay:0;
          transition-delay:0;
  -webkit-transition-duration:400ms;
          transition-duration:400ms;
  -webkit-transition-property:opacity, -webkit-transform;
  transition-property:opacity, -webkit-transform;
  transition-property:transform, opacity;
  transition-property:transform, opacity, -webkit-transform;
  -webkit-transition-timing-function:ease;
          transition-timing-function:ease; }

.bp3-panel-stack2-pop .bp3-panel-stack2-enter, .bp3-panel-stack2-pop .bp3-panel-stack2-appear{
  -webkit-transform:translateX(-50%);
          transform:translateX(-50%);
  opacity:0; }

.bp3-panel-stack2-pop .bp3-panel-stack2-enter-active, .bp3-panel-stack2-pop .bp3-panel-stack2-appear-active{
  -webkit-transform:translate(0%);
          transform:translate(0%);
  opacity:1;
  -webkit-transition-delay:0;
          transition-delay:0;
  -webkit-transition-duration:400ms;
          transition-duration:400ms;
  -webkit-transition-property:opacity, -webkit-transform;
  transition-property:opacity, -webkit-transform;
  transition-property:transform, opacity;
  transition-property:transform, opacity, -webkit-transform;
  -webkit-transition-timing-function:ease;
          transition-timing-function:ease; }

.bp3-panel-stack2-pop .bp3-panel-stack2-exit{
  -webkit-transform:translate(0%);
          transform:translate(0%);
  opacity:1; }

.bp3-panel-stack2-pop .bp3-panel-stack2-exit-active{
  -webkit-transform:translateX(100%);
          transform:translateX(100%);
  opacity:0;
  -webkit-transition-delay:0;
          transition-delay:0;
  -webkit-transition-duration:400ms;
          transition-duration:400ms;
  -webkit-transition-property:opacity, -webkit-transform;
  transition-property:opacity, -webkit-transform;
  transition-property:transform, opacity;
  transition-property:transform, opacity, -webkit-transform;
  -webkit-transition-timing-function:ease;
          transition-timing-function:ease; }
.bp3-popover{
  -webkit-box-shadow:0 0 0 1px rgba(16, 22, 26, 0.1), 0 2px 4px rgba(16, 22, 26, 0.2), 0 8px 24px rgba(16, 22, 26, 0.2);
          box-shadow:0 0 0 1px rgba(16, 22, 26, 0.1), 0 2px 4px rgba(16, 22, 26, 0.2), 0 8px 24px rgba(16, 22, 26, 0.2);
  -webkit-transform:scale(1);
          transform:scale(1);
  border-radius:3px;
  display:inline-block;
  z-index:20; }
  .bp3-popover .bp3-popover-arrow{
    height:30px;
    position:absolute;
    width:30px; }
    .bp3-popover .bp3-popover-arrow::before{
      height:20px;
      margin:5px;
      width:20px; }
  .bp3-tether-element-attached-bottom.bp3-tether-target-attached-top > .bp3-popover{
    margin-bottom:17px;
    margin-top:-17px; }
    .bp3-tether-element-attached-bottom.bp3-tether-target-attached-top > .bp3-popover > .bp3-popover-arrow{
      bottom:-11px; }
      .bp3-tether-element-attached-bottom.bp3-tether-target-attached-top > .bp3-popover > .bp3-popover-arrow svg{
        -webkit-transform:rotate(-90deg);
                transform:rotate(-90deg); }
  .bp3-tether-element-attached-left.bp3-tether-target-attached-right > .bp3-popover{
    margin-left:17px; }
    .bp3-tether-element-attached-left.bp3-tether-target-attached-right > .bp3-popover > .bp3-popover-arrow{
      left:-11px; }
      .bp3-tether-element-attached-left.bp3-tether-target-attached-right > .bp3-popover > .bp3-popover-arrow svg{
        -webkit-transform:rotate(0);
                transform:rotate(0); }
  .bp3-tether-element-attached-top.bp3-tether-target-attached-bottom > .bp3-popover{
    margin-top:17px; }
    .bp3-tether-element-attached-top.bp3-tether-target-attached-bottom > .bp3-popover > .bp3-popover-arrow{
      top:-11px; }
      .bp3-tether-element-attached-top.bp3-tether-target-attached-bottom > .bp3-popover > .bp3-popover-arrow svg{
        -webkit-transform:rotate(90deg);
                transform:rotate(90deg); }
  .bp3-tether-element-attached-right.bp3-tether-target-attached-left > .bp3-popover{
    margin-left:-17px;
    margin-right:17px; }
    .bp3-tether-element-attached-right.bp3-tether-target-attached-left > .bp3-popover > .bp3-popover-arrow{
      right:-11px; }
      .bp3-tether-element-attached-right.bp3-tether-target-attached-left > .bp3-popover > .bp3-popover-arrow svg{
        -webkit-transform:rotate(180deg);
                transform:rotate(180deg); }
  .bp3-tether-element-attached-middle > .bp3-popover > .bp3-popover-arrow{
    top:50%;
    -webkit-transform:translateY(-50%);
            transform:translateY(-50%); }
  .bp3-tether-element-attached-center > .bp3-popover > .bp3-popover-arrow{
    right:50%;
    -webkit-transform:translateX(50%);
            transform:translateX(50%); }
  .bp3-tether-element-attached-top.bp3-tether-target-attached-top > .bp3-popover > .bp3-popover-arrow{
    top:-0.3934px; }
  .bp3-tether-element-attached-right.bp3-tether-target-attached-right > .bp3-popover > .bp3-popover-arrow{
    right:-0.3934px; }
  .bp3-tether-element-attached-left.bp3-tether-target-attached-left > .bp3-popover > .bp3-popover-arrow{
    left:-0.3934px; }
  .bp3-tether-element-attached-bottom.bp3-tether-target-attached-bottom > .bp3-popover > .bp3-popover-arrow{
    bottom:-0.3934px; }
  .bp3-tether-element-attached-top.bp3-tether-element-attached-left > .bp3-popover{
    -webkit-transform-origin:top left;
            transform-origin:top left; }
  .bp3-tether-element-attached-top.bp3-tether-element-attached-center > .bp3-popover{
    -webkit-transform-origin:top center;
            transform-origin:top center; }
  .bp3-tether-element-attached-top.bp3-tether-element-attached-right > .bp3-popover{
    -webkit-transform-origin:top right;
            transform-origin:top right; }
  .bp3-tether-element-attached-middle.bp3-tether-element-attached-left > .bp3-popover{
    -webkit-transform-origin:center left;
            transform-origin:center left; }
  .bp3-tether-element-attached-middle.bp3-tether-element-attached-center > .bp3-popover{
    -webkit-transform-origin:center center;
            transform-origin:center center; }
  .bp3-tether-element-attached-middle.bp3-tether-element-attached-right > .bp3-popover{
    -webkit-transform-origin:center right;
            transform-origin:center right; }
  .bp3-tether-element-attached-bottom.bp3-tether-element-attached-left > .bp3-popover{
    -webkit-transform-origin:bottom left;
            transform-origin:bottom left; }
  .bp3-tether-element-attached-bottom.bp3-tether-element-attached-center > .bp3-popover{
    -webkit-transform-origin:bottom center;
            transform-origin:bottom center; }
  .bp3-tether-element-attached-bottom.bp3-tether-element-attached-right > .bp3-popover{
    -webkit-transform-origin:bottom right;
            transform-origin:bottom right; }
  .bp3-popover .bp3-popover-content{
    background:#ffffff;
    color:inherit; }
  .bp3-popover .bp3-popover-arrow::before{
    -webkit-box-shadow:1px 1px 6px rgba(16, 22, 26, 0.2);
            box-shadow:1px 1px 6px rgba(16, 22, 26, 0.2); }
  .bp3-popover .bp3-popover-arrow-border{
    fill:#10161a;
    fill-opacity:0.1; }
  .bp3-popover .bp3-popover-arrow-fill{
    fill:#ffffff; }
  .bp3-popover-enter > .bp3-popover, .bp3-popover-appear > .bp3-popover{
    -webkit-transform:scale(0.3);
            transform:scale(0.3); }
  .bp3-popover-enter-active > .bp3-popover, .bp3-popover-appear-active > .bp3-popover{
    -webkit-transform:scale(1);
            transform:scale(1);
    -webkit-transition-delay:0;
            transition-delay:0;
    -webkit-transition-duration:300ms;
            transition-duration:300ms;
    -webkit-transition-property:-webkit-transform;
    transition-property:-webkit-transform;
    transition-property:transform;
    transition-property:transform, -webkit-transform;
    -webkit-transition-timing-function:cubic-bezier(0.54, 1.12, 0.38, 1.11);
            transition-timing-function:cubic-bezier(0.54, 1.12, 0.38, 1.11); }
  .bp3-popover-exit > .bp3-popover{
    -webkit-transform:scale(1);
            transform:scale(1); }
  .bp3-popover-exit-active > .bp3-popover{
    -webkit-transform:scale(0.3);
            transform:scale(0.3);
    -webkit-transition-delay:0;
            transition-delay:0;
    -webkit-transition-duration:300ms;
            transition-duration:300ms;
    -webkit-transition-property:-webkit-transform;
    transition-property:-webkit-transform;
    transition-property:transform;
    transition-property:transform, -webkit-transform;
    -webkit-transition-timing-function:cubic-bezier(0.54, 1.12, 0.38, 1.11);
            transition-timing-function:cubic-bezier(0.54, 1.12, 0.38, 1.11); }
  .bp3-popover .bp3-popover-content{
    border-radius:3px;
    position:relative; }
  .bp3-popover.bp3-popover-content-sizing .bp3-popover-content{
    max-width:350px;
    padding:20px; }
  .bp3-popover-target + .bp3-overlay .bp3-popover.bp3-popover-content-sizing{
    width:350px; }
  .bp3-popover.bp3-minimal{
    margin:0 !important; }
    .bp3-popover.bp3-minimal .bp3-popover-arrow{
      display:none; }
    .bp3-popover.bp3-minimal.bp3-popover{
      -webkit-transform:scale(1);
              transform:scale(1); }
      .bp3-popover-enter > .bp3-popover.bp3-minimal.bp3-popover, .bp3-popover-appear > .bp3-popover.bp3-minimal.bp3-popover{
        -webkit-transform:scale(1);
                transform:scale(1); }
      .bp3-popover-enter-active > .bp3-popover.bp3-minimal.bp3-popover, .bp3-popover-appear-active > .bp3-popover.bp3-minimal.bp3-popover{
        -webkit-transform:scale(1);
                transform:scale(1);
        -webkit-transition-delay:0;
                transition-delay:0;
        -webkit-transition-duration:100ms;
                transition-duration:100ms;
        -webkit-transition-property:-webkit-transform;
        transition-property:-webkit-transform;
        transition-property:transform;
        transition-property:transform, -webkit-transform;
        -webkit-transition-timing-function:cubic-bezier(0.4, 1, 0.75, 0.9);
                transition-timing-function:cubic-bezier(0.4, 1, 0.75, 0.9); }
      .bp3-popover-exit > .bp3-popover.bp3-minimal.bp3-popover{
        -webkit-transform:scale(1);
                transform:scale(1); }
      .bp3-popover-exit-active > .bp3-popover.bp3-minimal.bp3-popover{
        -webkit-transform:scale(1);
                transform:scale(1);
        -webkit-transition-delay:0;
                transition-delay:0;
        -webkit-transition-duration:100ms;
                transition-duration:100ms;
        -webkit-transition-property:-webkit-transform;
        transition-property:-webkit-transform;
        transition-property:transform;
        transition-property:transform, -webkit-transform;
        -webkit-transition-timing-function:cubic-bezier(0.4, 1, 0.75, 0.9);
                transition-timing-function:cubic-bezier(0.4, 1, 0.75, 0.9); }
  .bp3-popover.bp3-dark,
  .bp3-dark .bp3-popover{
    -webkit-box-shadow:0 0 0 1px rgba(16, 22, 26, 0.2), 0 2px 4px rgba(16, 22, 26, 0.4), 0 8px 24px rgba(16, 22, 26, 0.4);
            box-shadow:0 0 0 1px rgba(16, 22, 26, 0.2), 0 2px 4px rgba(16, 22, 26, 0.4), 0 8px 24px rgba(16, 22, 26, 0.4); }
    .bp3-popover.bp3-dark .bp3-popover-content,
    .bp3-dark .bp3-popover .bp3-popover-content{
      background:#30404d;
      color:inherit; }
    .bp3-popover.bp3-dark .bp3-popover-arrow::before,
    .bp3-dark .bp3-popover .bp3-popover-arrow::before{
      -webkit-box-shadow:1px 1px 6px rgba(16, 22, 26, 0.4);
              box-shadow:1px 1px 6px rgba(16, 22, 26, 0.4); }
    .bp3-popover.bp3-dark .bp3-popover-arrow-border,
    .bp3-dark .bp3-popover .bp3-popover-arrow-border{
      fill:#10161a;
      fill-opacity:0.2; }
    .bp3-popover.bp3-dark .bp3-popover-arrow-fill,
    .bp3-dark .bp3-popover .bp3-popover-arrow-fill{
      fill:#30404d; }

.bp3-popover-arrow::before{
  border-radius:2px;
  content:"";
  display:block;
  position:absolute;
  -webkit-transform:rotate(45deg);
          transform:rotate(45deg); }

.bp3-tether-pinned .bp3-popover-arrow{
  display:none; }

.bp3-popover-backdrop{
  background:rgba(255, 255, 255, 0); }

.bp3-transition-container{
  opacity:1;
  display:-webkit-box;
  display:-ms-flexbox;
  display:flex;
  z-index:20; }
  .bp3-transition-container.bp3-popover-enter, .bp3-transition-container.bp3-popover-appear{
    opacity:0; }
  .bp3-transition-container.bp3-popover-enter-active, .bp3-transition-container.bp3-popover-appear-active{
    opacity:1;
    -webkit-transition-delay:0;
            transition-delay:0;
    -webkit-transition-duration:100ms;
            transition-duration:100ms;
    -webkit-transition-property:opacity;
    transition-property:opacity;
    -webkit-transition-timing-function:cubic-bezier(0.4, 1, 0.75, 0.9);
            transition-timing-function:cubic-bezier(0.4, 1, 0.75, 0.9); }
  .bp3-transition-container.bp3-popover-exit{
    opacity:1; }
  .bp3-transition-container.bp3-popover-exit-active{
    opacity:0;
    -webkit-transition-delay:0;
            transition-delay:0;
    -webkit-transition-duration:100ms;
            transition-duration:100ms;
    -webkit-transition-property:opacity;
    transition-property:opacity;
    -webkit-transition-timing-function:cubic-bezier(0.4, 1, 0.75, 0.9);
            transition-timing-function:cubic-bezier(0.4, 1, 0.75, 0.9); }
  .bp3-transition-container:focus{
    outline:none; }
  .bp3-transition-container.bp3-popover-leave .bp3-popover-content{
    pointer-events:none; }
  .bp3-transition-container[data-x-out-of-boundaries]{
    display:none; }

span.bp3-popover-target{
  display:inline-block; }

.bp3-popover-wrapper.bp3-fill{
  width:100%; }

.bp3-portal{
  left:0;
  position:absolute;
  right:0;
  top:0; }
@-webkit-keyframes linear-progress-bar-stripes{
  from{
    background-position:0 0; }
  to{
    background-position:30px 0; } }
@keyframes linear-progress-bar-stripes{
  from{
    background-position:0 0; }
  to{
    background-position:30px 0; } }

.bp3-progress-bar{
  background:rgba(92, 112, 128, 0.2);
  border-radius:40px;
  display:block;
  height:8px;
  overflow:hidden;
  position:relative;
  width:100%; }
  .bp3-progress-bar .bp3-progress-meter{
    background:linear-gradient(-45deg, rgba(255, 255, 255, 0.2) 25%, transparent 25%, transparent 50%, rgba(255, 255, 255, 0.2) 50%, rgba(255, 255, 255, 0.2) 75%, transparent 75%);
    background-color:rgba(92, 112, 128, 0.8);
    background-size:30px 30px;
    border-radius:40px;
    height:100%;
    position:absolute;
    -webkit-transition:width 200ms cubic-bezier(0.4, 1, 0.75, 0.9);
    transition:width 200ms cubic-bezier(0.4, 1, 0.75, 0.9);
    width:100%; }
  .bp3-progress-bar:not(.bp3-no-animation):not(.bp3-no-stripes) .bp3-progress-meter{
    animation:linear-progress-bar-stripes 300ms linear infinite reverse; }
  .bp3-progress-bar.bp3-no-stripes .bp3-progress-meter{
    background-image:none; }

.bp3-dark .bp3-progress-bar{
  background:rgba(16, 22, 26, 0.5); }
  .bp3-dark .bp3-progress-bar .bp3-progress-meter{
    background-color:#8a9ba8; }

.bp3-progress-bar.bp3-intent-primary .bp3-progress-meter{
  background-color:#137cbd; }

.bp3-progress-bar.bp3-intent-success .bp3-progress-meter{
  background-color:#0f9960; }

.bp3-progress-bar.bp3-intent-warning .bp3-progress-meter{
  background-color:#d9822b; }

.bp3-progress-bar.bp3-intent-danger .bp3-progress-meter{
  background-color:#db3737; }
@-webkit-keyframes skeleton-glow{
  from{
    background:rgba(206, 217, 224, 0.2);
    border-color:rgba(206, 217, 224, 0.2); }
  to{
    background:rgba(92, 112, 128, 0.2);
    border-color:rgba(92, 112, 128, 0.2); } }
@keyframes skeleton-glow{
  from{
    background:rgba(206, 217, 224, 0.2);
    border-color:rgba(206, 217, 224, 0.2); }
  to{
    background:rgba(92, 112, 128, 0.2);
    border-color:rgba(92, 112, 128, 0.2); } }
.bp3-skeleton{
  -webkit-animation:1000ms linear infinite alternate skeleton-glow;
          animation:1000ms linear infinite alternate skeleton-glow;
  background:rgba(206, 217, 224, 0.2);
  background-clip:padding-box !important;
  border-color:rgba(206, 217, 224, 0.2) !important;
  border-radius:2px;
  -webkit-box-shadow:none !important;
          box-shadow:none !important;
  color:transparent !important;
  cursor:default;
  pointer-events:none;
  -webkit-user-select:none;
     -moz-user-select:none;
      -ms-user-select:none;
          user-select:none; }
  .bp3-skeleton::before, .bp3-skeleton::after,
  .bp3-skeleton *{
    visibility:hidden !important; }
.bp3-slider{
  height:40px;
  min-width:150px;
  width:100%;
  cursor:default;
  outline:none;
  position:relative;
  -webkit-user-select:none;
     -moz-user-select:none;
      -ms-user-select:none;
          user-select:none; }
  .bp3-slider:hover{
    cursor:pointer; }
  .bp3-slider:active{
    cursor:-webkit-grabbing;
    cursor:grabbing; }
  .bp3-slider.bp3-disabled{
    cursor:not-allowed;
    opacity:0.5; }
  .bp3-slider.bp3-slider-unlabeled{
    height:16px; }

.bp3-slider-track,
.bp3-slider-progress{
  height:6px;
  left:0;
  right:0;
  top:5px;
  position:absolute; }

.bp3-slider-track{
  border-radius:3px;
  overflow:hidden; }

.bp3-slider-progress{
  background:rgba(92, 112, 128, 0.2); }
  .bp3-dark .bp3-slider-progress{
    background:rgba(16, 22, 26, 0.5); }
  .bp3-slider-progress.bp3-intent-primary{
    background-color:#137cbd; }
  .bp3-slider-progress.bp3-intent-success{
    background-color:#0f9960; }
  .bp3-slider-progress.bp3-intent-warning{
    background-color:#d9822b; }
  .bp3-slider-progress.bp3-intent-danger{
    background-color:#db3737; }

.bp3-slider-handle{
  background-color:#f5f8fa;
  background-image:-webkit-gradient(linear, left top, left bottom, from(rgba(255, 255, 255, 0.8)), to(rgba(255, 255, 255, 0)));
  background-image:linear-gradient(to bottom, rgba(255, 255, 255, 0.8), rgba(255, 255, 255, 0));
  -webkit-box-shadow:inset 0 0 0 1px rgba(16, 22, 26, 0.2), inset 0 -1px 0 rgba(16, 22, 26, 0.1);
          box-shadow:inset 0 0 0 1px rgba(16, 22, 26, 0.2), inset 0 -1px 0 rgba(16, 22, 26, 0.1);
  color:#182026;
  border-radius:3px;
  -webkit-box-shadow:0 0 0 1px rgba(16, 22, 26, 0.2), 0 1px 1px rgba(16, 22, 26, 0.2);
          box-shadow:0 0 0 1px rgba(16, 22, 26, 0.2), 0 1px 1px rgba(16, 22, 26, 0.2);
  cursor:pointer;
  height:16px;
  left:0;
  position:absolute;
  top:0;
  width:16px; }
  .bp3-slider-handle:hover{
    background-clip:padding-box;
    background-color:#ebf1f5;
    -webkit-box-shadow:inset 0 0 0 1px rgba(16, 22, 26, 0.2), inset 0 -1px 0 rgba(16, 22, 26, 0.1);
            box-shadow:inset 0 0 0 1px rgba(16, 22, 26, 0.2), inset 0 -1px 0 rgba(16, 22, 26, 0.1); }
  .bp3-slider-handle:active, .bp3-slider-handle.bp3-active{
    background-color:#d8e1e8;
    background-image:none;
    -webkit-box-shadow:inset 0 0 0 1px rgba(16, 22, 26, 0.2), inset 0 1px 2px rgba(16, 22, 26, 0.2);
            box-shadow:inset 0 0 0 1px rgba(16, 22, 26, 0.2), inset 0 1px 2px rgba(16, 22, 26, 0.2); }
  .bp3-slider-handle:disabled, .bp3-slider-handle.bp3-disabled{
    background-color:rgba(206, 217, 224, 0.5);
    background-image:none;
    -webkit-box-shadow:none;
            box-shadow:none;
    color:rgba(92, 112, 128, 0.6);
    cursor:not-allowed;
    outline:none; }
    .bp3-slider-handle:disabled.bp3-active, .bp3-slider-handle:disabled.bp3-active:hover, .bp3-slider-handle.bp3-disabled.bp3-active, .bp3-slider-handle.bp3-disabled.bp3-active:hover{
      background:rgba(206, 217, 224, 0.7); }
  .bp3-slider-handle:focus{
    z-index:1; }
  .bp3-slider-handle:hover{
    background-clip:padding-box;
    background-color:#ebf1f5;
    -webkit-box-shadow:inset 0 0 0 1px rgba(16, 22, 26, 0.2), inset 0 -1px 0 rgba(16, 22, 26, 0.1);
            box-shadow:inset 0 0 0 1px rgba(16, 22, 26, 0.2), inset 0 -1px 0 rgba(16, 22, 26, 0.1);
    -webkit-box-shadow:0 0 0 1px rgba(16, 22, 26, 0.2), 0 1px 1px rgba(16, 22, 26, 0.2);
            box-shadow:0 0 0 1px rgba(16, 22, 26, 0.2), 0 1px 1px rgba(16, 22, 26, 0.2);
    cursor:-webkit-grab;
    cursor:grab;
    z-index:2; }
  .bp3-slider-handle.bp3-active{
    background-color:#d8e1e8;
    background-image:none;
    -webkit-box-shadow:inset 0 0 0 1px rgba(16, 22, 26, 0.2), inset 0 1px 2px rgba(16, 22, 26, 0.2);
            box-shadow:inset 0 0 0 1px rgba(16, 22, 26, 0.2), inset 0 1px 2px rgba(16, 22, 26, 0.2);
    -webkit-box-shadow:0 0 0 1px rgba(16, 22, 26, 0.2), inset 0 1px 1px rgba(16, 22, 26, 0.1);
            box-shadow:0 0 0 1px rgba(16, 22, 26, 0.2), inset 0 1px 1px rgba(16, 22, 26, 0.1);
    cursor:-webkit-grabbing;
    cursor:grabbing; }
  .bp3-disabled .bp3-slider-handle{
    background:#bfccd6;
    -webkit-box-shadow:none;
            box-shadow:none;
    pointer-events:none; }
  .bp3-dark .bp3-slider-handle{
    background-color:#394b59;
    background-image:-webkit-gradient(linear, left top, left bottom, from(rgba(255, 255, 255, 0.05)), to(rgba(255, 255, 255, 0)));
    background-image:linear-gradient(to bottom, rgba(255, 255, 255, 0.05), rgba(255, 255, 255, 0));
    -webkit-box-shadow:0 0 0 1px rgba(16, 22, 26, 0.4);
            box-shadow:0 0 0 1px rgba(16, 22, 26, 0.4);
    color:#f5f8fa; }
    .bp3-dark .bp3-slider-handle:hover, .bp3-dark .bp3-slider-handle:active, .bp3-dark .bp3-slider-handle.bp3-active{
      color:#f5f8fa; }
    .bp3-dark .bp3-slider-handle:hover{
      background-color:#30404d;
      -webkit-box-shadow:0 0 0 1px rgba(16, 22, 26, 0.4);
              box-shadow:0 0 0 1px rgba(16, 22, 26, 0.4); }
    .bp3-dark .bp3-slider-handle:active, .bp3-dark .bp3-slider-handle.bp3-active{
      background-color:#202b33;
      background-image:none;
      -webkit-box-shadow:0 0 0 1px rgba(16, 22, 26, 0.6), inset 0 1px 2px rgba(16, 22, 26, 0.2);
              box-shadow:0 0 0 1px rgba(16, 22, 26, 0.6), inset 0 1px 2px rgba(16, 22, 26, 0.2); }
    .bp3-dark .bp3-slider-handle:disabled, .bp3-dark .bp3-slider-handle.bp3-disabled{
      background-color:rgba(57, 75, 89, 0.5);
      background-image:none;
      -webkit-box-shadow:none;
              box-shadow:none;
      color:rgba(167, 182, 194, 0.6); }
      .bp3-dark .bp3-slider-handle:disabled.bp3-active, .bp3-dark .bp3-slider-handle.bp3-disabled.bp3-active{
        background:rgba(57, 75, 89, 0.7); }
    .bp3-dark .bp3-slider-handle .bp3-button-spinner .bp3-spinner-head{
      background:rgba(16, 22, 26, 0.5);
      stroke:#8a9ba8; }
    .bp3-dark .bp3-slider-handle, .bp3-dark .bp3-slider-handle:hover{
      background-color:#394b59; }
    .bp3-dark .bp3-slider-handle.bp3-active{
      background-color:#293742; }
  .bp3-dark .bp3-disabled .bp3-slider-handle{
    background:#5c7080;
    border-color:#5c7080;
    -webkit-box-shadow:none;
            box-shadow:none; }
  .bp3-slider-handle .bp3-slider-label{
    background:#394b59;
    border-radius:3px;
    -webkit-box-shadow:0 0 0 1px rgba(16, 22, 26, 0.1), 0 2px 4px rgba(16, 22, 26, 0.2), 0 8px 24px rgba(16, 22, 26, 0.2);
            box-shadow:0 0 0 1px rgba(16, 22, 26, 0.1), 0 2px 4px rgba(16, 22, 26, 0.2), 0 8px 24px rgba(16, 22, 26, 0.2);
    color:#f5f8fa;
    margin-left:8px; }
    .bp3-dark .bp3-slider-handle .bp3-slider-label{
      background:#e1e8ed;
      -webkit-box-shadow:0 0 0 1px rgba(16, 22, 26, 0.2), 0 2px 4px rgba(16, 22, 26, 0.4), 0 8px 24px rgba(16, 22, 26, 0.4);
              box-shadow:0 0 0 1px rgba(16, 22, 26, 0.2), 0 2px 4px rgba(16, 22, 26, 0.4), 0 8px 24px rgba(16, 22, 26, 0.4);
      color:#394b59; }
    .bp3-disabled .bp3-slider-handle .bp3-slider-label{
      -webkit-box-shadow:none;
              box-shadow:none; }
  .bp3-slider-handle.bp3-start, .bp3-slider-handle.bp3-end{
    width:8px; }
  .bp3-slider-handle.bp3-start{
    border-bottom-right-radius:0;
    border-top-right-radius:0; }
  .bp3-slider-handle.bp3-end{
    border-bottom-left-radius:0;
    border-top-left-radius:0;
    margin-left:8px; }
    .bp3-slider-handle.bp3-end .bp3-slider-label{
      margin-left:0; }

.bp3-slider-label{
  -webkit-transform:translate(-50%, 20px);
          transform:translate(-50%, 20px);
  display:inline-block;
  font-size:12px;
  line-height:1;
  padding:2px 5px;
  position:absolute;
  vertical-align:top; }

.bp3-slider.bp3-vertical{
  height:150px;
  min-width:40px;
  width:40px; }
  .bp3-slider.bp3-vertical .bp3-slider-track,
  .bp3-slider.bp3-vertical .bp3-slider-progress{
    bottom:0;
    height:auto;
    left:5px;
    top:0;
    width:6px; }
  .bp3-slider.bp3-vertical .bp3-slider-progress{
    top:auto; }
  .bp3-slider.bp3-vertical .bp3-slider-label{
    -webkit-transform:translate(20px, 50%);
            transform:translate(20px, 50%); }
  .bp3-slider.bp3-vertical .bp3-slider-handle{
    top:auto; }
    .bp3-slider.bp3-vertical .bp3-slider-handle .bp3-slider-label{
      margin-left:0;
      margin-top:-8px; }
    .bp3-slider.bp3-vertical .bp3-slider-handle.bp3-end, .bp3-slider.bp3-vertical .bp3-slider-handle.bp3-start{
      height:8px;
      margin-left:0;
      width:16px; }
    .bp3-slider.bp3-vertical .bp3-slider-handle.bp3-start{
      border-bottom-right-radius:3px;
      border-top-left-radius:0; }
      .bp3-slider.bp3-vertical .bp3-slider-handle.bp3-start .bp3-slider-label{
        -webkit-transform:translate(20px);
                transform:translate(20px); }
    .bp3-slider.bp3-vertical .bp3-slider-handle.bp3-end{
      border-bottom-left-radius:0;
      border-bottom-right-radius:0;
      border-top-left-radius:3px;
      margin-bottom:8px; }

@-webkit-keyframes pt-spinner-animation{
  from{
    -webkit-transform:rotate(0deg);
            transform:rotate(0deg); }
  to{
    -webkit-transform:rotate(360deg);
            transform:rotate(360deg); } }

@keyframes pt-spinner-animation{
  from{
    -webkit-transform:rotate(0deg);
            transform:rotate(0deg); }
  to{
    -webkit-transform:rotate(360deg);
            transform:rotate(360deg); } }

.bp3-spinner{
  -webkit-box-align:center;
      -ms-flex-align:center;
          align-items:center;
  display:-webkit-box;
  display:-ms-flexbox;
  display:flex;
  -webkit-box-pack:center;
      -ms-flex-pack:center;
          justify-content:center;
  overflow:visible;
  vertical-align:middle; }
  .bp3-spinner svg{
    display:block; }
  .bp3-spinner path{
    fill-opacity:0; }
  .bp3-spinner .bp3-spinner-head{
    stroke:rgba(92, 112, 128, 0.8);
    stroke-linecap:round;
    -webkit-transform-origin:center;
            transform-origin:center;
    -webkit-transition:stroke-dashoffset 200ms cubic-bezier(0.4, 1, 0.75, 0.9);
    transition:stroke-dashoffset 200ms cubic-bezier(0.4, 1, 0.75, 0.9); }
  .bp3-spinner .bp3-spinner-track{
    stroke:rgba(92, 112, 128, 0.2); }

.bp3-spinner-animation{
  -webkit-animation:pt-spinner-animation 500ms linear infinite;
          animation:pt-spinner-animation 500ms linear infinite; }
  .bp3-no-spin > .bp3-spinner-animation{
    -webkit-animation:none;
            animation:none; }

.bp3-dark .bp3-spinner .bp3-spinner-head{
  stroke:#8a9ba8; }

.bp3-dark .bp3-spinner .bp3-spinner-track{
  stroke:rgba(16, 22, 26, 0.5); }

.bp3-spinner.bp3-intent-primary .bp3-spinner-head{
  stroke:#137cbd; }

.bp3-spinner.bp3-intent-success .bp3-spinner-head{
  stroke:#0f9960; }

.bp3-spinner.bp3-intent-warning .bp3-spinner-head{
  stroke:#d9822b; }

.bp3-spinner.bp3-intent-danger .bp3-spinner-head{
  stroke:#db3737; }
.bp3-tabs.bp3-vertical{
  display:-webkit-box;
  display:-ms-flexbox;
  display:flex; }
  .bp3-tabs.bp3-vertical > .bp3-tab-list{
    -webkit-box-align:start;
        -ms-flex-align:start;
            align-items:flex-start;
    -webkit-box-orient:vertical;
    -webkit-box-direction:normal;
        -ms-flex-direction:column;
            flex-direction:column; }
    .bp3-tabs.bp3-vertical > .bp3-tab-list .bp3-tab{
      border-radius:3px;
      padding:0 10px;
      width:100%; }
      .bp3-tabs.bp3-vertical > .bp3-tab-list .bp3-tab[aria-selected="true"]{
        background-color:rgba(19, 124, 189, 0.2);
        -webkit-box-shadow:none;
                box-shadow:none; }
    .bp3-tabs.bp3-vertical > .bp3-tab-list .bp3-tab-indicator-wrapper .bp3-tab-indicator{
      background-color:rgba(19, 124, 189, 0.2);
      border-radius:3px;
      bottom:0;
      height:auto;
      left:0;
      right:0;
      top:0; }
  .bp3-tabs.bp3-vertical > .bp3-tab-panel{
    margin-top:0;
    padding-left:20px; }

.bp3-tab-list{
  -webkit-box-align:end;
      -ms-flex-align:end;
          align-items:flex-end;
  border:none;
  display:-webkit-box;
  display:-ms-flexbox;
  display:flex;
  -webkit-box-flex:0;
      -ms-flex:0 0 auto;
          flex:0 0 auto;
  list-style:none;
  margin:0;
  padding:0;
  position:relative; }
  .bp3-tab-list > *:not(:last-child){
    margin-right:20px; }

.bp3-tab{
  overflow:hidden;
  text-overflow:ellipsis;
  white-space:nowrap;
  word-wrap:normal;
  color:#182026;
  cursor:pointer;
  -webkit-box-flex:0;
      -ms-flex:0 0 auto;
          flex:0 0 auto;
  font-size:14px;
  line-height:30px;
  max-width:100%;
  position:relative;
  vertical-align:top; }
  .bp3-tab a{
    color:inherit;
    display:block;
    text-decoration:none; }
  .bp3-tab-indicator-wrapper ~ .bp3-tab{
    background-color:transparent !important;
    -webkit-box-shadow:none !important;
            box-shadow:none !important; }
  .bp3-tab[aria-disabled="true"]{
    color:rgba(92, 112, 128, 0.6);
    cursor:not-allowed; }
  .bp3-tab[aria-selected="true"]{
    border-radius:0;
    -webkit-box-shadow:inset 0 -3px 0 #106ba3;
            box-shadow:inset 0 -3px 0 #106ba3; }
  .bp3-tab[aria-selected="true"], .bp3-tab:not([aria-disabled="true"]):hover{
    color:#106ba3; }
  .bp3-tab:focus{
    -moz-outline-radius:0; }
  .bp3-large > .bp3-tab{
    font-size:16px;
    line-height:40px; }

.bp3-tab-panel{
  margin-top:20px; }
  .bp3-tab-panel[aria-hidden="true"]{
    display:none; }

.bp3-tab-indicator-wrapper{
  left:0;
  pointer-events:none;
  position:absolute;
  top:0;
  -webkit-transform:translateX(0), translateY(0);
          transform:translateX(0), translateY(0);
  -webkit-transition:height, width, -webkit-transform;
  transition:height, width, -webkit-transform;
  transition:height, transform, width;
  transition:height, transform, width, -webkit-transform;
  -webkit-transition-duration:200ms;
          transition-duration:200ms;
  -webkit-transition-timing-function:cubic-bezier(0.4, 1, 0.75, 0.9);
          transition-timing-function:cubic-bezier(0.4, 1, 0.75, 0.9); }
  .bp3-tab-indicator-wrapper .bp3-tab-indicator{
    background-color:#106ba3;
    bottom:0;
    height:3px;
    left:0;
    position:absolute;
    right:0; }
  .bp3-tab-indicator-wrapper.bp3-no-animation{
    -webkit-transition:none;
    transition:none; }

.bp3-dark .bp3-tab{
  color:#f5f8fa; }
  .bp3-dark .bp3-tab[aria-disabled="true"]{
    color:rgba(167, 182, 194, 0.6); }
  .bp3-dark .bp3-tab[aria-selected="true"]{
    -webkit-box-shadow:inset 0 -3px 0 #48aff0;
            box-shadow:inset 0 -3px 0 #48aff0; }
  .bp3-dark .bp3-tab[aria-selected="true"], .bp3-dark .bp3-tab:not([aria-disabled="true"]):hover{
    color:#48aff0; }

.bp3-dark .bp3-tab-indicator{
  background-color:#48aff0; }

.bp3-flex-expander{
  -webkit-box-flex:1;
      -ms-flex:1 1;
          flex:1 1; }
.bp3-tag{
  display:-webkit-inline-box;
  display:-ms-inline-flexbox;
  display:inline-flex;
  -webkit-box-orient:horizontal;
  -webkit-box-direction:normal;
      -ms-flex-direction:row;
          flex-direction:row;
  -webkit-box-align:center;
      -ms-flex-align:center;
          align-items:center;
  background-color:#5c7080;
  border:none;
  border-radius:3px;
  -webkit-box-shadow:none;
          box-shadow:none;
  color:#f5f8fa;
  font-size:12px;
  line-height:16px;
  max-width:100%;
  min-height:20px;
  min-width:20px;
  padding:2px 6px;
  position:relative; }
  .bp3-tag.bp3-interactive{
    cursor:pointer; }
    .bp3-tag.bp3-interactive:hover{
      background-color:rgba(92, 112, 128, 0.85); }
    .bp3-tag.bp3-interactive.bp3-active, .bp3-tag.bp3-interactive:active{
      background-color:rgba(92, 112, 128, 0.7); }
  .bp3-tag > *{
    -webkit-box-flex:0;
        -ms-flex-positive:0;
            flex-grow:0;
    -ms-flex-negative:0;
        flex-shrink:0; }
  .bp3-tag > .bp3-fill{
    -webkit-box-flex:1;
        -ms-flex-positive:1;
            flex-grow:1;
    -ms-flex-negative:1;
        flex-shrink:1; }
  .bp3-tag::before,
  .bp3-tag > *{
    margin-right:4px; }
  .bp3-tag:empty::before,
  .bp3-tag > :last-child{
    margin-right:0; }
  .bp3-tag:focus{
    outline:rgba(19, 124, 189, 0.6) auto 2px;
    outline-offset:0;
    -moz-outline-radius:6px; }
  .bp3-tag.bp3-round{
    border-radius:30px;
    padding-left:8px;
    padding-right:8px; }
  .bp3-dark .bp3-tag{
    background-color:#bfccd6;
    color:#182026; }
    .bp3-dark .bp3-tag.bp3-interactive{
      cursor:pointer; }
      .bp3-dark .bp3-tag.bp3-interactive:hover{
        background-color:rgba(191, 204, 214, 0.85); }
      .bp3-dark .bp3-tag.bp3-interactive.bp3-active, .bp3-dark .bp3-tag.bp3-interactive:active{
        background-color:rgba(191, 204, 214, 0.7); }
    .bp3-dark .bp3-tag > .bp3-icon, .bp3-dark .bp3-tag .bp3-icon-standard, .bp3-dark .bp3-tag .bp3-icon-large{
      fill:currentColor; }
  .bp3-tag > .bp3-icon, .bp3-tag .bp3-icon-standard, .bp3-tag .bp3-icon-large{
    fill:#ffffff; }
  .bp3-tag.bp3-large,
  .bp3-large .bp3-tag{
    font-size:14px;
    line-height:20px;
    min-height:30px;
    min-width:30px;
    padding:5px 10px; }
    .bp3-tag.bp3-large::before,
    .bp3-tag.bp3-large > *,
    .bp3-large .bp3-tag::before,
    .bp3-large .bp3-tag > *{
      margin-right:7px; }
    .bp3-tag.bp3-large:empty::before,
    .bp3-tag.bp3-large > :last-child,
    .bp3-large .bp3-tag:empty::before,
    .bp3-large .bp3-tag > :last-child{
      margin-right:0; }
    .bp3-tag.bp3-large.bp3-round,
    .bp3-large .bp3-tag.bp3-round{
      padding-left:12px;
      padding-right:12px; }
  .bp3-tag.bp3-intent-primary{
    background:#137cbd;
    color:#ffffff; }
    .bp3-tag.bp3-intent-primary.bp3-interactive{
      cursor:pointer; }
      .bp3-tag.bp3-intent-primary.bp3-interactive:hover{
        background-color:rgba(19, 124, 189, 0.85); }
      .bp3-tag.bp3-intent-primary.bp3-interactive.bp3-active, .bp3-tag.bp3-intent-primary.bp3-interactive:active{
        background-color:rgba(19, 124, 189, 0.7); }
  .bp3-tag.bp3-intent-success{
    background:#0f9960;
    color:#ffffff; }
    .bp3-tag.bp3-intent-success.bp3-interactive{
      cursor:pointer; }
      .bp3-tag.bp3-intent-success.bp3-interactive:hover{
        background-color:rgba(15, 153, 96, 0.85); }
      .bp3-tag.bp3-intent-success.bp3-interactive.bp3-active, .bp3-tag.bp3-intent-success.bp3-interactive:active{
        background-color:rgba(15, 153, 96, 0.7); }
  .bp3-tag.bp3-intent-warning{
    background:#d9822b;
    color:#ffffff; }
    .bp3-tag.bp3-intent-warning.bp3-interactive{
      cursor:pointer; }
      .bp3-tag.bp3-intent-warning.bp3-interactive:hover{
        background-color:rgba(217, 130, 43, 0.85); }
      .bp3-tag.bp3-intent-warning.bp3-interactive.bp3-active, .bp3-tag.bp3-intent-warning.bp3-interactive:active{
        background-color:rgba(217, 130, 43, 0.7); }
  .bp3-tag.bp3-intent-danger{
    background:#db3737;
    color:#ffffff; }
    .bp3-tag.bp3-intent-danger.bp3-interactive{
      cursor:pointer; }
      .bp3-tag.bp3-intent-danger.bp3-interactive:hover{
        background-color:rgba(219, 55, 55, 0.85); }
      .bp3-tag.bp3-intent-danger.bp3-interactive.bp3-active, .bp3-tag.bp3-intent-danger.bp3-interactive:active{
        background-color:rgba(219, 55, 55, 0.7); }
  .bp3-tag.bp3-fill{
    display:-webkit-box;
    display:-ms-flexbox;
    display:flex;
    width:100%; }
  .bp3-tag.bp3-minimal > .bp3-icon, .bp3-tag.bp3-minimal .bp3-icon-standard, .bp3-tag.bp3-minimal .bp3-icon-large{
    fill:#5c7080; }
  .bp3-tag.bp3-minimal:not([class*="bp3-intent-"]){
    background-color:rgba(138, 155, 168, 0.2);
    color:#182026; }
    .bp3-tag.bp3-minimal:not([class*="bp3-intent-"]).bp3-interactive{
      cursor:pointer; }
      .bp3-tag.bp3-minimal:not([class*="bp3-intent-"]).bp3-interactive:hover{
        background-color:rgba(92, 112, 128, 0.3); }
      .bp3-tag.bp3-minimal:not([class*="bp3-intent-"]).bp3-interactive.bp3-active, .bp3-tag.bp3-minimal:not([class*="bp3-intent-"]).bp3-interactive:active{
        background-color:rgba(92, 112, 128, 0.4); }
    .bp3-dark .bp3-tag.bp3-minimal:not([class*="bp3-intent-"]){
      color:#f5f8fa; }
      .bp3-dark .bp3-tag.bp3-minimal:not([class*="bp3-intent-"]).bp3-interactive{
        cursor:pointer; }
        .bp3-dark .bp3-tag.bp3-minimal:not([class*="bp3-intent-"]).bp3-interactive:hover{
          background-color:rgba(191, 204, 214, 0.3); }
        .bp3-dark .bp3-tag.bp3-minimal:not([class*="bp3-intent-"]).bp3-interactive.bp3-active, .bp3-dark .bp3-tag.bp3-minimal:not([class*="bp3-intent-"]).bp3-interactive:active{
          background-color:rgba(191, 204, 214, 0.4); }
      .bp3-dark .bp3-tag.bp3-minimal:not([class*="bp3-intent-"]) > .bp3-icon, .bp3-dark .bp3-tag.bp3-minimal:not([class*="bp3-intent-"]) .bp3-icon-standard, .bp3-dark .bp3-tag.bp3-minimal:not([class*="bp3-intent-"]) .bp3-icon-large{
        fill:#a7b6c2; }
  .bp3-tag.bp3-minimal.bp3-intent-primary{
    background-color:rgba(19, 124, 189, 0.15);
    color:#106ba3; }
    .bp3-tag.bp3-minimal.bp3-intent-primary.bp3-interactive{
      cursor:pointer; }
      .bp3-tag.bp3-minimal.bp3-intent-primary.bp3-interactive:hover{
        background-color:rgba(19, 124, 189, 0.25); }
      .bp3-tag.bp3-minimal.bp3-intent-primary.bp3-interactive.bp3-active, .bp3-tag.bp3-minimal.bp3-intent-primary.bp3-interactive:active{
        background-color:rgba(19, 124, 189, 0.35); }
    .bp3-tag.bp3-minimal.bp3-intent-primary > .bp3-icon, .bp3-tag.bp3-minimal.bp3-intent-primary .bp3-icon-standard, .bp3-tag.bp3-minimal.bp3-intent-primary .bp3-icon-large{
      fill:#137cbd; }
    .bp3-dark .bp3-tag.bp3-minimal.bp3-intent-primary{
      background-color:rgba(19, 124, 189, 0.25);
      color:#48aff0; }
      .bp3-dark .bp3-tag.bp3-minimal.bp3-intent-primary.bp3-interactive{
        cursor:pointer; }
        .bp3-dark .bp3-tag.bp3-minimal.bp3-intent-primary.bp3-interactive:hover{
          background-color:rgba(19, 124, 189, 0.35); }
        .bp3-dark .bp3-tag.bp3-minimal.bp3-intent-primary.bp3-interactive.bp3-active, .bp3-dark .bp3-tag.bp3-minimal.bp3-intent-primary.bp3-interactive:active{
          background-color:rgba(19, 124, 189, 0.45); }
  .bp3-tag.bp3-minimal.bp3-intent-success{
    background-color:rgba(15, 153, 96, 0.15);
    color:#0d8050; }
    .bp3-tag.bp3-minimal.bp3-intent-success.bp3-interactive{
      cursor:pointer; }
      .bp3-tag.bp3-minimal.bp3-intent-success.bp3-interactive:hover{
        background-color:rgba(15, 153, 96, 0.25); }
      .bp3-tag.bp3-minimal.bp3-intent-success.bp3-interactive.bp3-active, .bp3-tag.bp3-minimal.bp3-intent-success.bp3-interactive:active{
        background-color:rgba(15, 153, 96, 0.35); }
    .bp3-tag.bp3-minimal.bp3-intent-success > .bp3-icon, .bp3-tag.bp3-minimal.bp3-intent-success .bp3-icon-standard, .bp3-tag.bp3-minimal.bp3-intent-success .bp3-icon-large{
      fill:#0f9960; }
    .bp3-dark .bp3-tag.bp3-minimal.bp3-intent-success{
      background-color:rgba(15, 153, 96, 0.25);
      color:#3dcc91; }
      .bp3-dark .bp3-tag.bp3-minimal.bp3-intent-success.bp3-interactive{
        cursor:pointer; }
        .bp3-dark .bp3-tag.bp3-minimal.bp3-intent-success.bp3-interactive:hover{
          background-color:rgba(15, 153, 96, 0.35); }
        .bp3-dark .bp3-tag.bp3-minimal.bp3-intent-success.bp3-interactive.bp3-active, .bp3-dark .bp3-tag.bp3-minimal.bp3-intent-success.bp3-interactive:active{
          background-color:rgba(15, 153, 96, 0.45); }
  .bp3-tag.bp3-minimal.bp3-intent-warning{
    background-color:rgba(217, 130, 43, 0.15);
    color:#bf7326; }
    .bp3-tag.bp3-minimal.bp3-intent-warning.bp3-interactive{
      cursor:pointer; }
      .bp3-tag.bp3-minimal.bp3-intent-warning.bp3-interactive:hover{
        background-color:rgba(217, 130, 43, 0.25); }
      .bp3-tag.bp3-minimal.bp3-intent-warning.bp3-interactive.bp3-active, .bp3-tag.bp3-minimal.bp3-intent-warning.bp3-interactive:active{
        background-color:rgba(217, 130, 43, 0.35); }
    .bp3-tag.bp3-minimal.bp3-intent-warning > .bp3-icon, .bp3-tag.bp3-minimal.bp3-intent-warning .bp3-icon-standard, .bp3-tag.bp3-minimal.bp3-intent-warning .bp3-icon-large{
      fill:#d9822b; }
    .bp3-dark .bp3-tag.bp3-minimal.bp3-intent-warning{
      background-color:rgba(217, 130, 43, 0.25);
      color:#ffb366; }
      .bp3-dark .bp3-tag.bp3-minimal.bp3-intent-warning.bp3-interactive{
        cursor:pointer; }
        .bp3-dark .bp3-tag.bp3-minimal.bp3-intent-warning.bp3-interactive:hover{
          background-color:rgba(217, 130, 43, 0.35); }
        .bp3-dark .bp3-tag.bp3-minimal.bp3-intent-warning.bp3-interactive.bp3-active, .bp3-dark .bp3-tag.bp3-minimal.bp3-intent-warning.bp3-interactive:active{
          background-color:rgba(217, 130, 43, 0.45); }
  .bp3-tag.bp3-minimal.bp3-intent-danger{
    background-color:rgba(219, 55, 55, 0.15);
    color:#c23030; }
    .bp3-tag.bp3-minimal.bp3-intent-danger.bp3-interactive{
      cursor:pointer; }
      .bp3-tag.bp3-minimal.bp3-intent-danger.bp3-interactive:hover{
        background-color:rgba(219, 55, 55, 0.25); }
      .bp3-tag.bp3-minimal.bp3-intent-danger.bp3-interactive.bp3-active, .bp3-tag.bp3-minimal.bp3-intent-danger.bp3-interactive:active{
        background-color:rgba(219, 55, 55, 0.35); }
    .bp3-tag.bp3-minimal.bp3-intent-danger > .bp3-icon, .bp3-tag.bp3-minimal.bp3-intent-danger .bp3-icon-standard, .bp3-tag.bp3-minimal.bp3-intent-danger .bp3-icon-large{
      fill:#db3737; }
    .bp3-dark .bp3-tag.bp3-minimal.bp3-intent-danger{
      background-color:rgba(219, 55, 55, 0.25);
      color:#ff7373; }
      .bp3-dark .bp3-tag.bp3-minimal.bp3-intent-danger.bp3-interactive{
        cursor:pointer; }
        .bp3-dark .bp3-tag.bp3-minimal.bp3-intent-danger.bp3-interactive:hover{
          background-color:rgba(219, 55, 55, 0.35); }
        .bp3-dark .bp3-tag.bp3-minimal.bp3-intent-danger.bp3-interactive.bp3-active, .bp3-dark .bp3-tag.bp3-minimal.bp3-intent-danger.bp3-interactive:active{
          background-color:rgba(219, 55, 55, 0.45); }

.bp3-tag-remove{
  background:none;
  border:none;
  color:inherit;
  cursor:pointer;
  display:-webkit-box;
  display:-ms-flexbox;
  display:flex;
  margin-bottom:-2px;
  margin-right:-6px !important;
  margin-top:-2px;
  opacity:0.5;
  padding:2px;
  padding-left:0; }
  .bp3-tag-remove:hover{
    background:none;
    opacity:0.8;
    text-decoration:none; }
  .bp3-tag-remove:active{
    opacity:1; }
  .bp3-tag-remove:empty::before{
    font-family:"Icons16", sans-serif;
    font-size:16px;
    font-style:normal;
    font-weight:400;
    line-height:1;
    -moz-osx-font-smoothing:grayscale;
    -webkit-font-smoothing:antialiased;
    content:""; }
  .bp3-large .bp3-tag-remove{
    margin-right:-10px !important;
    padding:0 5px 0 0; }
    .bp3-large .bp3-tag-remove:empty::before{
      font-family:"Icons20", sans-serif;
      font-size:20px;
      font-style:normal;
      font-weight:400;
      line-height:1; }
.bp3-tag-input{
  display:-webkit-box;
  display:-ms-flexbox;
  display:flex;
  -webkit-box-orient:horizontal;
  -webkit-box-direction:normal;
      -ms-flex-direction:row;
          flex-direction:row;
  -webkit-box-align:start;
      -ms-flex-align:start;
          align-items:flex-start;
  cursor:text;
  height:auto;
  line-height:inherit;
  min-height:30px;
  padding-left:5px;
  padding-right:0; }
  .bp3-tag-input > *{
    -webkit-box-flex:0;
        -ms-flex-positive:0;
            flex-grow:0;
    -ms-flex-negative:0;
        flex-shrink:0; }
  .bp3-tag-input > .bp3-tag-input-values{
    -webkit-box-flex:1;
        -ms-flex-positive:1;
            flex-grow:1;
    -ms-flex-negative:1;
        flex-shrink:1; }
  .bp3-tag-input .bp3-tag-input-icon{
    color:#5c7080;
    margin-left:2px;
    margin-right:7px;
    margin-top:7px; }
  .bp3-tag-input .bp3-tag-input-values{
    display:-webkit-box;
    display:-ms-flexbox;
    display:flex;
    -webkit-box-orient:horizontal;
    -webkit-box-direction:normal;
        -ms-flex-direction:row;
            flex-direction:row;
    -webkit-box-align:center;
        -ms-flex-align:center;
            align-items:center;
    -ms-flex-item-align:stretch;
        align-self:stretch;
    -ms-flex-wrap:wrap;
        flex-wrap:wrap;
    margin-right:7px;
    margin-top:5px;
    min-width:0; }
    .bp3-tag-input .bp3-tag-input-values > *{
      -webkit-box-flex:0;
          -ms-flex-positive:0;
              flex-grow:0;
      -ms-flex-negative:0;
          flex-shrink:0; }
    .bp3-tag-input .bp3-tag-input-values > .bp3-fill{
      -webkit-box-flex:1;
          -ms-flex-positive:1;
              flex-grow:1;
      -ms-flex-negative:1;
          flex-shrink:1; }
    .bp3-tag-input .bp3-tag-input-values::before,
    .bp3-tag-input .bp3-tag-input-values > *{
      margin-right:5px; }
    .bp3-tag-input .bp3-tag-input-values:empty::before,
    .bp3-tag-input .bp3-tag-input-values > :last-child{
      margin-right:0; }
    .bp3-tag-input .bp3-tag-input-values:first-child .bp3-input-ghost:first-child{
      padding-left:5px; }
    .bp3-tag-input .bp3-tag-input-values > *{
      margin-bottom:5px; }
  .bp3-tag-input .bp3-tag{
    overflow-wrap:break-word; }
    .bp3-tag-input .bp3-tag.bp3-active{
      outline:rgba(19, 124, 189, 0.6) auto 2px;
      outline-offset:0;
      -moz-outline-radius:6px; }
  .bp3-tag-input .bp3-input-ghost{
    -webkit-box-flex:1;
        -ms-flex:1 1 auto;
            flex:1 1 auto;
    line-height:20px;
    width:80px; }
    .bp3-tag-input .bp3-input-ghost:disabled, .bp3-tag-input .bp3-input-ghost.bp3-disabled{
      cursor:not-allowed; }
  .bp3-tag-input .bp3-button,
  .bp3-tag-input .bp3-spinner{
    margin:3px;
    margin-left:0; }
  .bp3-tag-input .bp3-button{
    min-height:24px;
    min-width:24px;
    padding:0 7px; }
  .bp3-tag-input.bp3-large{
    height:auto;
    min-height:40px; }
    .bp3-tag-input.bp3-large::before,
    .bp3-tag-input.bp3-large > *{
      margin-right:10px; }
    .bp3-tag-input.bp3-large:empty::before,
    .bp3-tag-input.bp3-large > :last-child{
      margin-right:0; }
    .bp3-tag-input.bp3-large .bp3-tag-input-icon{
      margin-left:5px;
      margin-top:10px; }
    .bp3-tag-input.bp3-large .bp3-input-ghost{
      line-height:30px; }
    .bp3-tag-input.bp3-large .bp3-button{
      min-height:30px;
      min-width:30px;
      padding:5px 10px;
      margin:5px;
      margin-left:0; }
    .bp3-tag-input.bp3-large .bp3-spinner{
      margin:8px;
      margin-left:0; }
  .bp3-tag-input.bp3-active{
    background-color:#ffffff;
    -webkit-box-shadow:0 0 0 1px #137cbd, 0 0 0 3px rgba(19, 124, 189, 0.3), inset 0 1px 1px rgba(16, 22, 26, 0.2);
            box-shadow:0 0 0 1px #137cbd, 0 0 0 3px rgba(19, 124, 189, 0.3), inset 0 1px 1px rgba(16, 22, 26, 0.2); }
    .bp3-tag-input.bp3-active.bp3-intent-primary{
      -webkit-box-shadow:0 0 0 1px #106ba3, 0 0 0 3px rgba(16, 107, 163, 0.3), inset 0 1px 1px rgba(16, 22, 26, 0.2);
              box-shadow:0 0 0 1px #106ba3, 0 0 0 3px rgba(16, 107, 163, 0.3), inset 0 1px 1px rgba(16, 22, 26, 0.2); }
    .bp3-tag-input.bp3-active.bp3-intent-success{
      -webkit-box-shadow:0 0 0 1px #0d8050, 0 0 0 3px rgba(13, 128, 80, 0.3), inset 0 1px 1px rgba(16, 22, 26, 0.2);
              box-shadow:0 0 0 1px #0d8050, 0 0 0 3px rgba(13, 128, 80, 0.3), inset 0 1px 1px rgba(16, 22, 26, 0.2); }
    .bp3-tag-input.bp3-active.bp3-intent-warning{
      -webkit-box-shadow:0 0 0 1px #bf7326, 0 0 0 3px rgba(191, 115, 38, 0.3), inset 0 1px 1px rgba(16, 22, 26, 0.2);
              box-shadow:0 0 0 1px #bf7326, 0 0 0 3px rgba(191, 115, 38, 0.3), inset 0 1px 1px rgba(16, 22, 26, 0.2); }
    .bp3-tag-input.bp3-active.bp3-intent-danger{
      -webkit-box-shadow:0 0 0 1px #c23030, 0 0 0 3px rgba(194, 48, 48, 0.3), inset 0 1px 1px rgba(16, 22, 26, 0.2);
              box-shadow:0 0 0 1px #c23030, 0 0 0 3px rgba(194, 48, 48, 0.3), inset 0 1px 1px rgba(16, 22, 26, 0.2); }
  .bp3-dark .bp3-tag-input .bp3-tag-input-icon, .bp3-tag-input.bp3-dark .bp3-tag-input-icon{
    color:#a7b6c2; }
  .bp3-dark .bp3-tag-input .bp3-input-ghost, .bp3-tag-input.bp3-dark .bp3-input-ghost{
    color:#f5f8fa; }
    .bp3-dark .bp3-tag-input .bp3-input-ghost::-webkit-input-placeholder, .bp3-tag-input.bp3-dark .bp3-input-ghost::-webkit-input-placeholder{
      color:rgba(167, 182, 194, 0.6); }
    .bp3-dark .bp3-tag-input .bp3-input-ghost::-moz-placeholder, .bp3-tag-input.bp3-dark .bp3-input-ghost::-moz-placeholder{
      color:rgba(167, 182, 194, 0.6); }
    .bp3-dark .bp3-tag-input .bp3-input-ghost:-ms-input-placeholder, .bp3-tag-input.bp3-dark .bp3-input-ghost:-ms-input-placeholder{
      color:rgba(167, 182, 194, 0.6); }
    .bp3-dark .bp3-tag-input .bp3-input-ghost::-ms-input-placeholder, .bp3-tag-input.bp3-dark .bp3-input-ghost::-ms-input-placeholder{
      color:rgba(167, 182, 194, 0.6); }
    .bp3-dark .bp3-tag-input .bp3-input-ghost::placeholder, .bp3-tag-input.bp3-dark .bp3-input-ghost::placeholder{
      color:rgba(167, 182, 194, 0.6); }
  .bp3-dark .bp3-tag-input.bp3-active, .bp3-tag-input.bp3-dark.bp3-active{
    background-color:rgba(16, 22, 26, 0.3);
    -webkit-box-shadow:0 0 0 1px #137cbd, 0 0 0 1px #137cbd, 0 0 0 3px rgba(19, 124, 189, 0.3), inset 0 0 0 1px rgba(16, 22, 26, 0.3), inset 0 1px 1px rgba(16, 22, 26, 0.4);
            box-shadow:0 0 0 1px #137cbd, 0 0 0 1px #137cbd, 0 0 0 3px rgba(19, 124, 189, 0.3), inset 0 0 0 1px rgba(16, 22, 26, 0.3), inset 0 1px 1px rgba(16, 22, 26, 0.4); }
    .bp3-dark .bp3-tag-input.bp3-active.bp3-intent-primary, .bp3-tag-input.bp3-dark.bp3-active.bp3-intent-primary{
      -webkit-box-shadow:0 0 0 1px #106ba3, 0 0 0 3px rgba(16, 107, 163, 0.3), inset 0 0 0 1px rgba(16, 22, 26, 0.3), inset 0 1px 1px rgba(16, 22, 26, 0.4);
              box-shadow:0 0 0 1px #106ba3, 0 0 0 3px rgba(16, 107, 163, 0.3), inset 0 0 0 1px rgba(16, 22, 26, 0.3), inset 0 1px 1px rgba(16, 22, 26, 0.4); }
    .bp3-dark .bp3-tag-input.bp3-active.bp3-intent-success, .bp3-tag-input.bp3-dark.bp3-active.bp3-intent-success{
      -webkit-box-shadow:0 0 0 1px #0d8050, 0 0 0 3px rgba(13, 128, 80, 0.3), inset 0 0 0 1px rgba(16, 22, 26, 0.3), inset 0 1px 1px rgba(16, 22, 26, 0.4);
              box-shadow:0 0 0 1px #0d8050, 0 0 0 3px rgba(13, 128, 80, 0.3), inset 0 0 0 1px rgba(16, 22, 26, 0.3), inset 0 1px 1px rgba(16, 22, 26, 0.4); }
    .bp3-dark .bp3-tag-input.bp3-active.bp3-intent-warning, .bp3-tag-input.bp3-dark.bp3-active.bp3-intent-warning{
      -webkit-box-shadow:0 0 0 1px #bf7326, 0 0 0 3px rgba(191, 115, 38, 0.3), inset 0 0 0 1px rgba(16, 22, 26, 0.3), inset 0 1px 1px rgba(16, 22, 26, 0.4);
              box-shadow:0 0 0 1px #bf7326, 0 0 0 3px rgba(191, 115, 38, 0.3), inset 0 0 0 1px rgba(16, 22, 26, 0.3), inset 0 1px 1px rgba(16, 22, 26, 0.4); }
    .bp3-dark .bp3-tag-input.bp3-active.bp3-intent-danger, .bp3-tag-input.bp3-dark.bp3-active.bp3-intent-danger{
      -webkit-box-shadow:0 0 0 1px #c23030, 0 0 0 3px rgba(194, 48, 48, 0.3), inset 0 0 0 1px rgba(16, 22, 26, 0.3), inset 0 1px 1px rgba(16, 22, 26, 0.4);
              box-shadow:0 0 0 1px #c23030, 0 0 0 3px rgba(194, 48, 48, 0.3), inset 0 0 0 1px rgba(16, 22, 26, 0.3), inset 0 1px 1px rgba(16, 22, 26, 0.4); }

.bp3-input-ghost{
  background:none;
  border:none;
  -webkit-box-shadow:none;
          box-shadow:none;
  padding:0; }
  .bp3-input-ghost::-webkit-input-placeholder{
    color:rgba(92, 112, 128, 0.6);
    opacity:1; }
  .bp3-input-ghost::-moz-placeholder{
    color:rgba(92, 112, 128, 0.6);
    opacity:1; }
  .bp3-input-ghost:-ms-input-placeholder{
    color:rgba(92, 112, 128, 0.6);
    opacity:1; }
  .bp3-input-ghost::-ms-input-placeholder{
    color:rgba(92, 112, 128, 0.6);
    opacity:1; }
  .bp3-input-ghost::placeholder{
    color:rgba(92, 112, 128, 0.6);
    opacity:1; }
  .bp3-input-ghost:focus{
    outline:none !important; }
.bp3-toast{
  -webkit-box-align:start;
      -ms-flex-align:start;
          align-items:flex-start;
  background-color:#ffffff;
  border-radius:3px;
  -webkit-box-shadow:0 0 0 1px rgba(16, 22, 26, 0.1), 0 2px 4px rgba(16, 22, 26, 0.2), 0 8px 24px rgba(16, 22, 26, 0.2);
          box-shadow:0 0 0 1px rgba(16, 22, 26, 0.1), 0 2px 4px rgba(16, 22, 26, 0.2), 0 8px 24px rgba(16, 22, 26, 0.2);
  display:-webkit-box;
  display:-ms-flexbox;
  display:flex;
  margin:20px 0 0;
  max-width:500px;
  min-width:300px;
  pointer-events:all;
  position:relative !important; }
  .bp3-toast.bp3-toast-enter, .bp3-toast.bp3-toast-appear{
    -webkit-transform:translateY(-40px);
            transform:translateY(-40px); }
  .bp3-toast.bp3-toast-enter-active, .bp3-toast.bp3-toast-appear-active{
    -webkit-transform:translateY(0);
            transform:translateY(0);
    -webkit-transition-delay:0;
            transition-delay:0;
    -webkit-transition-duration:300ms;
            transition-duration:300ms;
    -webkit-transition-property:-webkit-transform;
    transition-property:-webkit-transform;
    transition-property:transform;
    transition-property:transform, -webkit-transform;
    -webkit-transition-timing-function:cubic-bezier(0.54, 1.12, 0.38, 1.11);
            transition-timing-function:cubic-bezier(0.54, 1.12, 0.38, 1.11); }
  .bp3-toast.bp3-toast-enter ~ .bp3-toast, .bp3-toast.bp3-toast-appear ~ .bp3-toast{
    -webkit-transform:translateY(-40px);
            transform:translateY(-40px); }
  .bp3-toast.bp3-toast-enter-active ~ .bp3-toast, .bp3-toast.bp3-toast-appear-active ~ .bp3-toast{
    -webkit-transform:translateY(0);
            transform:translateY(0);
    -webkit-transition-delay:0;
            transition-delay:0;
    -webkit-transition-duration:300ms;
            transition-duration:300ms;
    -webkit-transition-property:-webkit-transform;
    transition-property:-webkit-transform;
    transition-property:transform;
    transition-property:transform, -webkit-transform;
    -webkit-transition-timing-function:cubic-bezier(0.54, 1.12, 0.38, 1.11);
            transition-timing-function:cubic-bezier(0.54, 1.12, 0.38, 1.11); }
  .bp3-toast.bp3-toast-exit{
    opacity:1;
    -webkit-filter:blur(0);
            filter:blur(0); }
  .bp3-toast.bp3-toast-exit-active{
    opacity:0;
    -webkit-filter:blur(10px);
            filter:blur(10px);
    -webkit-transition-delay:0;
            transition-delay:0;
    -webkit-transition-duration:300ms;
            transition-duration:300ms;
    -webkit-transition-property:opacity, -webkit-filter;
    transition-property:opacity, -webkit-filter;
    transition-property:opacity, filter;
    transition-property:opacity, filter, -webkit-filter;
    -webkit-transition-timing-function:cubic-bezier(0.4, 1, 0.75, 0.9);
            transition-timing-function:cubic-bezier(0.4, 1, 0.75, 0.9); }
  .bp3-toast.bp3-toast-exit ~ .bp3-toast{
    -webkit-transform:translateY(0);
            transform:translateY(0); }
  .bp3-toast.bp3-toast-exit-active ~ .bp3-toast{
    -webkit-transform:translateY(-40px);
            transform:translateY(-40px);
    -webkit-transition-delay:50ms;
            transition-delay:50ms;
    -webkit-transition-duration:100ms;
            transition-duration:100ms;
    -webkit-transition-property:-webkit-transform;
    transition-property:-webkit-transform;
    transition-property:transform;
    transition-property:transform, -webkit-transform;
    -webkit-transition-timing-function:cubic-bezier(0.4, 1, 0.75, 0.9);
            transition-timing-function:cubic-bezier(0.4, 1, 0.75, 0.9); }
  .bp3-toast .bp3-button-group{
    -webkit-box-flex:0;
        -ms-flex:0 0 auto;
            flex:0 0 auto;
    padding:5px;
    padding-left:0; }
  .bp3-toast > .bp3-icon{
    color:#5c7080;
    margin:12px;
    margin-right:0; }
  .bp3-toast.bp3-dark,
  .bp3-dark .bp3-toast{
    background-color:#394b59;
    -webkit-box-shadow:0 0 0 1px rgba(16, 22, 26, 0.2), 0 2px 4px rgba(16, 22, 26, 0.4), 0 8px 24px rgba(16, 22, 26, 0.4);
            box-shadow:0 0 0 1px rgba(16, 22, 26, 0.2), 0 2px 4px rgba(16, 22, 26, 0.4), 0 8px 24px rgba(16, 22, 26, 0.4); }
    .bp3-toast.bp3-dark > .bp3-icon,
    .bp3-dark .bp3-toast > .bp3-icon{
      color:#a7b6c2; }
  .bp3-toast[class*="bp3-intent-"] a{
    color:rgba(255, 255, 255, 0.7); }
    .bp3-toast[class*="bp3-intent-"] a:hover{
      color:#ffffff; }
  .bp3-toast[class*="bp3-intent-"] > .bp3-icon{
    color:#ffffff; }
  .bp3-toast[class*="bp3-intent-"] .bp3-button, .bp3-toast[class*="bp3-intent-"] .bp3-button::before,
  .bp3-toast[class*="bp3-intent-"] .bp3-button .bp3-icon, .bp3-toast[class*="bp3-intent-"] .bp3-button:active{
    color:rgba(255, 255, 255, 0.7) !important; }
  .bp3-toast[class*="bp3-intent-"] .bp3-button:focus{
    outline-color:rgba(255, 255, 255, 0.5); }
  .bp3-toast[class*="bp3-intent-"] .bp3-button:hover{
    background-color:rgba(255, 255, 255, 0.15) !important;
    color:#ffffff !important; }
  .bp3-toast[class*="bp3-intent-"] .bp3-button:active{
    background-color:rgba(255, 255, 255, 0.3) !important;
    color:#ffffff !important; }
  .bp3-toast[class*="bp3-intent-"] .bp3-button::after{
    background:rgba(255, 255, 255, 0.3) !important; }
  .bp3-toast.bp3-intent-primary{
    background-color:#137cbd;
    color:#ffffff; }
  .bp3-toast.bp3-intent-success{
    background-color:#0f9960;
    color:#ffffff; }
  .bp3-toast.bp3-intent-warning{
    background-color:#d9822b;
    color:#ffffff; }
  .bp3-toast.bp3-intent-danger{
    background-color:#db3737;
    color:#ffffff; }

.bp3-toast-message{
  -webkit-box-flex:1;
      -ms-flex:1 1 auto;
          flex:1 1 auto;
  padding:11px;
  word-break:break-word; }

.bp3-toast-container{
  -webkit-box-align:center;
      -ms-flex-align:center;
          align-items:center;
  display:-webkit-box !important;
  display:-ms-flexbox !important;
  display:flex !important;
  -webkit-box-orient:vertical;
  -webkit-box-direction:normal;
      -ms-flex-direction:column;
          flex-direction:column;
  left:0;
  overflow:hidden;
  padding:0 20px 20px;
  pointer-events:none;
  right:0;
  z-index:40; }
  .bp3-toast-container.bp3-toast-container-in-portal{
    position:fixed; }
  .bp3-toast-container.bp3-toast-container-inline{
    position:absolute; }
  .bp3-toast-container.bp3-toast-container-top{
    top:0; }
  .bp3-toast-container.bp3-toast-container-bottom{
    bottom:0;
    -webkit-box-orient:vertical;
    -webkit-box-direction:reverse;
        -ms-flex-direction:column-reverse;
            flex-direction:column-reverse;
    top:auto; }
  .bp3-toast-container.bp3-toast-container-left{
    -webkit-box-align:start;
        -ms-flex-align:start;
            align-items:flex-start; }
  .bp3-toast-container.bp3-toast-container-right{
    -webkit-box-align:end;
        -ms-flex-align:end;
            align-items:flex-end; }

.bp3-toast-container-bottom .bp3-toast.bp3-toast-enter:not(.bp3-toast-enter-active),
.bp3-toast-container-bottom .bp3-toast.bp3-toast-enter:not(.bp3-toast-enter-active) ~ .bp3-toast, .bp3-toast-container-bottom .bp3-toast.bp3-toast-appear:not(.bp3-toast-appear-active),
.bp3-toast-container-bottom .bp3-toast.bp3-toast-appear:not(.bp3-toast-appear-active) ~ .bp3-toast,
.bp3-toast-container-bottom .bp3-toast.bp3-toast-exit-active ~ .bp3-toast,
.bp3-toast-container-bottom .bp3-toast.bp3-toast-leave-active ~ .bp3-toast{
  -webkit-transform:translateY(60px);
          transform:translateY(60px); }
.bp3-tooltip{
  -webkit-box-shadow:0 0 0 1px rgba(16, 22, 26, 0.1), 0 2px 4px rgba(16, 22, 26, 0.2), 0 8px 24px rgba(16, 22, 26, 0.2);
          box-shadow:0 0 0 1px rgba(16, 22, 26, 0.1), 0 2px 4px rgba(16, 22, 26, 0.2), 0 8px 24px rgba(16, 22, 26, 0.2);
  -webkit-transform:scale(1);
          transform:scale(1); }
  .bp3-tooltip .bp3-popover-arrow{
    height:22px;
    position:absolute;
    width:22px; }
    .bp3-tooltip .bp3-popover-arrow::before{
      height:14px;
      margin:4px;
      width:14px; }
  .bp3-tether-element-attached-bottom.bp3-tether-target-attached-top > .bp3-tooltip{
    margin-bottom:11px;
    margin-top:-11px; }
    .bp3-tether-element-attached-bottom.bp3-tether-target-attached-top > .bp3-tooltip > .bp3-popover-arrow{
      bottom:-8px; }
      .bp3-tether-element-attached-bottom.bp3-tether-target-attached-top > .bp3-tooltip > .bp3-popover-arrow svg{
        -webkit-transform:rotate(-90deg);
                transform:rotate(-90deg); }
  .bp3-tether-element-attached-left.bp3-tether-target-attached-right > .bp3-tooltip{
    margin-left:11px; }
    .bp3-tether-element-attached-left.bp3-tether-target-attached-right > .bp3-tooltip > .bp3-popover-arrow{
      left:-8px; }
      .bp3-tether-element-attached-left.bp3-tether-target-attached-right > .bp3-tooltip > .bp3-popover-arrow svg{
        -webkit-transform:rotate(0);
                transform:rotate(0); }
  .bp3-tether-element-attached-top.bp3-tether-target-attached-bottom > .bp3-tooltip{
    margin-top:11px; }
    .bp3-tether-element-attached-top.bp3-tether-target-attached-bottom > .bp3-tooltip > .bp3-popover-arrow{
      top:-8px; }
      .bp3-tether-element-attached-top.bp3-tether-target-attached-bottom > .bp3-tooltip > .bp3-popover-arrow svg{
        -webkit-transform:rotate(90deg);
                transform:rotate(90deg); }
  .bp3-tether-element-attached-right.bp3-tether-target-attached-left > .bp3-tooltip{
    margin-left:-11px;
    margin-right:11px; }
    .bp3-tether-element-attached-right.bp3-tether-target-attached-left > .bp3-tooltip > .bp3-popover-arrow{
      right:-8px; }
      .bp3-tether-element-attached-right.bp3-tether-target-attached-left > .bp3-tooltip > .bp3-popover-arrow svg{
        -webkit-transform:rotate(180deg);
                transform:rotate(180deg); }
  .bp3-tether-element-attached-middle > .bp3-tooltip > .bp3-popover-arrow{
    top:50%;
    -webkit-transform:translateY(-50%);
            transform:translateY(-50%); }
  .bp3-tether-element-attached-center > .bp3-tooltip > .bp3-popover-arrow{
    right:50%;
    -webkit-transform:translateX(50%);
            transform:translateX(50%); }
  .bp3-tether-element-attached-top.bp3-tether-target-attached-top > .bp3-tooltip > .bp3-popover-arrow{
    top:-0.22183px; }
  .bp3-tether-element-attached-right.bp3-tether-target-attached-right > .bp3-tooltip > .bp3-popover-arrow{
    right:-0.22183px; }
  .bp3-tether-element-attached-left.bp3-tether-target-attached-left > .bp3-tooltip > .bp3-popover-arrow{
    left:-0.22183px; }
  .bp3-tether-element-attached-bottom.bp3-tether-target-attached-bottom > .bp3-tooltip > .bp3-popover-arrow{
    bottom:-0.22183px; }
  .bp3-tether-element-attached-top.bp3-tether-element-attached-left > .bp3-tooltip{
    -webkit-transform-origin:top left;
            transform-origin:top left; }
  .bp3-tether-element-attached-top.bp3-tether-element-attached-center > .bp3-tooltip{
    -webkit-transform-origin:top center;
            transform-origin:top center; }
  .bp3-tether-element-attached-top.bp3-tether-element-attached-right > .bp3-tooltip{
    -webkit-transform-origin:top right;
            transform-origin:top right; }
  .bp3-tether-element-attached-middle.bp3-tether-element-attached-left > .bp3-tooltip{
    -webkit-transform-origin:center left;
            transform-origin:center left; }
  .bp3-tether-element-attached-middle.bp3-tether-element-attached-center > .bp3-tooltip{
    -webkit-transform-origin:center center;
            transform-origin:center center; }
  .bp3-tether-element-attached-middle.bp3-tether-element-attached-right > .bp3-tooltip{
    -webkit-transform-origin:center right;
            transform-origin:center right; }
  .bp3-tether-element-attached-bottom.bp3-tether-element-attached-left > .bp3-tooltip{
    -webkit-transform-origin:bottom left;
            transform-origin:bottom left; }
  .bp3-tether-element-attached-bottom.bp3-tether-element-attached-center > .bp3-tooltip{
    -webkit-transform-origin:bottom center;
            transform-origin:bottom center; }
  .bp3-tether-element-attached-bottom.bp3-tether-element-attached-right > .bp3-tooltip{
    -webkit-transform-origin:bottom right;
            transform-origin:bottom right; }
  .bp3-tooltip .bp3-popover-content{
    background:#394b59;
    color:#f5f8fa; }
  .bp3-tooltip .bp3-popover-arrow::before{
    -webkit-box-shadow:1px 1px 6px rgba(16, 22, 26, 0.2);
            box-shadow:1px 1px 6px rgba(16, 22, 26, 0.2); }
  .bp3-tooltip .bp3-popover-arrow-border{
    fill:#10161a;
    fill-opacity:0.1; }
  .bp3-tooltip .bp3-popover-arrow-fill{
    fill:#394b59; }
  .bp3-popover-enter > .bp3-tooltip, .bp3-popover-appear > .bp3-tooltip{
    -webkit-transform:scale(0.8);
            transform:scale(0.8); }
  .bp3-popover-enter-active > .bp3-tooltip, .bp3-popover-appear-active > .bp3-tooltip{
    -webkit-transform:scale(1);
            transform:scale(1);
    -webkit-transition-delay:0;
            transition-delay:0;
    -webkit-transition-duration:100ms;
            transition-duration:100ms;
    -webkit-transition-property:-webkit-transform;
    transition-property:-webkit-transform;
    transition-property:transform;
    transition-property:transform, -webkit-transform;
    -webkit-transition-timing-function:cubic-bezier(0.4, 1, 0.75, 0.9);
            transition-timing-function:cubic-bezier(0.4, 1, 0.75, 0.9); }
  .bp3-popover-exit > .bp3-tooltip{
    -webkit-transform:scale(1);
            transform:scale(1); }
  .bp3-popover-exit-active > .bp3-tooltip{
    -webkit-transform:scale(0.8);
            transform:scale(0.8);
    -webkit-transition-delay:0;
            transition-delay:0;
    -webkit-transition-duration:100ms;
            transition-duration:100ms;
    -webkit-transition-property:-webkit-transform;
    transition-property:-webkit-transform;
    transition-property:transform;
    transition-property:transform, -webkit-transform;
    -webkit-transition-timing-function:cubic-bezier(0.4, 1, 0.75, 0.9);
            transition-timing-function:cubic-bezier(0.4, 1, 0.75, 0.9); }
  .bp3-tooltip .bp3-popover-content{
    padding:10px 12px; }
  .bp3-tooltip.bp3-dark,
  .bp3-dark .bp3-tooltip{
    -webkit-box-shadow:0 0 0 1px rgba(16, 22, 26, 0.2), 0 2px 4px rgba(16, 22, 26, 0.4), 0 8px 24px rgba(16, 22, 26, 0.4);
            box-shadow:0 0 0 1px rgba(16, 22, 26, 0.2), 0 2px 4px rgba(16, 22, 26, 0.4), 0 8px 24px rgba(16, 22, 26, 0.4); }
    .bp3-tooltip.bp3-dark .bp3-popover-content,
    .bp3-dark .bp3-tooltip .bp3-popover-content{
      background:#e1e8ed;
      color:#394b59; }
    .bp3-tooltip.bp3-dark .bp3-popover-arrow::before,
    .bp3-dark .bp3-tooltip .bp3-popover-arrow::before{
      -webkit-box-shadow:1px 1px 6px rgba(16, 22, 26, 0.4);
              box-shadow:1px 1px 6px rgba(16, 22, 26, 0.4); }
    .bp3-tooltip.bp3-dark .bp3-popover-arrow-border,
    .bp3-dark .bp3-tooltip .bp3-popover-arrow-border{
      fill:#10161a;
      fill-opacity:0.2; }
    .bp3-tooltip.bp3-dark .bp3-popover-arrow-fill,
    .bp3-dark .bp3-tooltip .bp3-popover-arrow-fill{
      fill:#e1e8ed; }
  .bp3-tooltip.bp3-intent-primary .bp3-popover-content{
    background:#137cbd;
    color:#ffffff; }
  .bp3-tooltip.bp3-intent-primary .bp3-popover-arrow-fill{
    fill:#137cbd; }
  .bp3-tooltip.bp3-intent-success .bp3-popover-content{
    background:#0f9960;
    color:#ffffff; }
  .bp3-tooltip.bp3-intent-success .bp3-popover-arrow-fill{
    fill:#0f9960; }
  .bp3-tooltip.bp3-intent-warning .bp3-popover-content{
    background:#d9822b;
    color:#ffffff; }
  .bp3-tooltip.bp3-intent-warning .bp3-popover-arrow-fill{
    fill:#d9822b; }
  .bp3-tooltip.bp3-intent-danger .bp3-popover-content{
    background:#db3737;
    color:#ffffff; }
  .bp3-tooltip.bp3-intent-danger .bp3-popover-arrow-fill{
    fill:#db3737; }

.bp3-tooltip-indicator{
  border-bottom:dotted 1px;
  cursor:help; }
.bp3-tree .bp3-icon, .bp3-tree .bp3-icon-standard, .bp3-tree .bp3-icon-large{
  color:#5c7080; }
  .bp3-tree .bp3-icon.bp3-intent-primary, .bp3-tree .bp3-icon-standard.bp3-intent-primary, .bp3-tree .bp3-icon-large.bp3-intent-primary{
    color:#137cbd; }
  .bp3-tree .bp3-icon.bp3-intent-success, .bp3-tree .bp3-icon-standard.bp3-intent-success, .bp3-tree .bp3-icon-large.bp3-intent-success{
    color:#0f9960; }
  .bp3-tree .bp3-icon.bp3-intent-warning, .bp3-tree .bp3-icon-standard.bp3-intent-warning, .bp3-tree .bp3-icon-large.bp3-intent-warning{
    color:#d9822b; }
  .bp3-tree .bp3-icon.bp3-intent-danger, .bp3-tree .bp3-icon-standard.bp3-intent-danger, .bp3-tree .bp3-icon-large.bp3-intent-danger{
    color:#db3737; }

.bp3-tree-node-list{
  list-style:none;
  margin:0;
  padding-left:0; }

.bp3-tree-root{
  background-color:transparent;
  cursor:default;
  padding-left:0;
  position:relative; }

.bp3-tree-node-content-0{
  padding-left:0px; }

.bp3-tree-node-content-1{
  padding-left:23px; }

.bp3-tree-node-content-2{
  padding-left:46px; }

.bp3-tree-node-content-3{
  padding-left:69px; }

.bp3-tree-node-content-4{
  padding-left:92px; }

.bp3-tree-node-content-5{
  padding-left:115px; }

.bp3-tree-node-content-6{
  padding-left:138px; }

.bp3-tree-node-content-7{
  padding-left:161px; }

.bp3-tree-node-content-8{
  padding-left:184px; }

.bp3-tree-node-content-9{
  padding-left:207px; }

.bp3-tree-node-content-10{
  padding-left:230px; }

.bp3-tree-node-content-11{
  padding-left:253px; }

.bp3-tree-node-content-12{
  padding-left:276px; }

.bp3-tree-node-content-13{
  padding-left:299px; }

.bp3-tree-node-content-14{
  padding-left:322px; }

.bp3-tree-node-content-15{
  padding-left:345px; }

.bp3-tree-node-content-16{
  padding-left:368px; }

.bp3-tree-node-content-17{
  padding-left:391px; }

.bp3-tree-node-content-18{
  padding-left:414px; }

.bp3-tree-node-content-19{
  padding-left:437px; }

.bp3-tree-node-content-20{
  padding-left:460px; }

.bp3-tree-node-content{
  -webkit-box-align:center;
      -ms-flex-align:center;
          align-items:center;
  display:-webkit-box;
  display:-ms-flexbox;
  display:flex;
  height:30px;
  padding-right:5px;
  width:100%; }
  .bp3-tree-node-content:hover{
    background-color:rgba(191, 204, 214, 0.4); }

.bp3-tree-node-caret,
.bp3-tree-node-caret-none{
  min-width:30px; }

.bp3-tree-node-caret{
  color:#5c7080;
  cursor:pointer;
  padding:7px;
  -webkit-transform:rotate(0deg);
          transform:rotate(0deg);
  -webkit-transition:-webkit-transform 200ms cubic-bezier(0.4, 1, 0.75, 0.9);
  transition:-webkit-transform 200ms cubic-bezier(0.4, 1, 0.75, 0.9);
  transition:transform 200ms cubic-bezier(0.4, 1, 0.75, 0.9);
  transition:transform 200ms cubic-bezier(0.4, 1, 0.75, 0.9), -webkit-transform 200ms cubic-bezier(0.4, 1, 0.75, 0.9); }
  .bp3-tree-node-caret:hover{
    color:#182026; }
  .bp3-dark .bp3-tree-node-caret{
    color:#a7b6c2; }
    .bp3-dark .bp3-tree-node-caret:hover{
      color:#f5f8fa; }
  .bp3-tree-node-caret.bp3-tree-node-caret-open{
    -webkit-transform:rotate(90deg);
            transform:rotate(90deg); }
  .bp3-tree-node-caret.bp3-icon-standard::before{
    content:""; }

.bp3-tree-node-icon{
  margin-right:7px;
  position:relative; }

.bp3-tree-node-label{
  overflow:hidden;
  text-overflow:ellipsis;
  white-space:nowrap;
  word-wrap:normal;
  -webkit-box-flex:1;
      -ms-flex:1 1 auto;
          flex:1 1 auto;
  position:relative;
  -webkit-user-select:none;
     -moz-user-select:none;
      -ms-user-select:none;
          user-select:none; }
  .bp3-tree-node-label span{
    display:inline; }

.bp3-tree-node-secondary-label{
  padding:0 5px;
  -webkit-user-select:none;
     -moz-user-select:none;
      -ms-user-select:none;
          user-select:none; }
  .bp3-tree-node-secondary-label .bp3-popover-wrapper,
  .bp3-tree-node-secondary-label .bp3-popover-target{
    -webkit-box-align:center;
        -ms-flex-align:center;
            align-items:center;
    display:-webkit-box;
    display:-ms-flexbox;
    display:flex; }

.bp3-tree-node.bp3-disabled .bp3-tree-node-content{
  background-color:inherit;
  color:rgba(92, 112, 128, 0.6);
  cursor:not-allowed; }

.bp3-tree-node.bp3-disabled .bp3-tree-node-caret,
.bp3-tree-node.bp3-disabled .bp3-tree-node-icon{
  color:rgba(92, 112, 128, 0.6);
  cursor:not-allowed; }

.bp3-tree-node.bp3-tree-node-selected > .bp3-tree-node-content{
  background-color:#137cbd; }
  .bp3-tree-node.bp3-tree-node-selected > .bp3-tree-node-content,
  .bp3-tree-node.bp3-tree-node-selected > .bp3-tree-node-content .bp3-icon, .bp3-tree-node.bp3-tree-node-selected > .bp3-tree-node-content .bp3-icon-standard, .bp3-tree-node.bp3-tree-node-selected > .bp3-tree-node-content .bp3-icon-large{
    color:#ffffff; }
  .bp3-tree-node.bp3-tree-node-selected > .bp3-tree-node-content .bp3-tree-node-caret::before{
    color:rgba(255, 255, 255, 0.7); }
  .bp3-tree-node.bp3-tree-node-selected > .bp3-tree-node-content .bp3-tree-node-caret:hover::before{
    color:#ffffff; }

.bp3-dark .bp3-tree-node-content:hover{
  background-color:rgba(92, 112, 128, 0.3); }

.bp3-dark .bp3-tree .bp3-icon, .bp3-dark .bp3-tree .bp3-icon-standard, .bp3-dark .bp3-tree .bp3-icon-large{
  color:#a7b6c2; }
  .bp3-dark .bp3-tree .bp3-icon.bp3-intent-primary, .bp3-dark .bp3-tree .bp3-icon-standard.bp3-intent-primary, .bp3-dark .bp3-tree .bp3-icon-large.bp3-intent-primary{
    color:#137cbd; }
  .bp3-dark .bp3-tree .bp3-icon.bp3-intent-success, .bp3-dark .bp3-tree .bp3-icon-standard.bp3-intent-success, .bp3-dark .bp3-tree .bp3-icon-large.bp3-intent-success{
    color:#0f9960; }
  .bp3-dark .bp3-tree .bp3-icon.bp3-intent-warning, .bp3-dark .bp3-tree .bp3-icon-standard.bp3-intent-warning, .bp3-dark .bp3-tree .bp3-icon-large.bp3-intent-warning{
    color:#d9822b; }
  .bp3-dark .bp3-tree .bp3-icon.bp3-intent-danger, .bp3-dark .bp3-tree .bp3-icon-standard.bp3-intent-danger, .bp3-dark .bp3-tree .bp3-icon-large.bp3-intent-danger{
    color:#db3737; }

.bp3-dark .bp3-tree-node.bp3-tree-node-selected > .bp3-tree-node-content{
  background-color:#137cbd; }
.bp3-omnibar{
  -webkit-filter:blur(0);
          filter:blur(0);
  opacity:1;
  background-color:#ffffff;
  border-radius:3px;
  -webkit-box-shadow:0 0 0 1px rgba(16, 22, 26, 0.1), 0 4px 8px rgba(16, 22, 26, 0.2), 0 18px 46px 6px rgba(16, 22, 26, 0.2);
          box-shadow:0 0 0 1px rgba(16, 22, 26, 0.1), 0 4px 8px rgba(16, 22, 26, 0.2), 0 18px 46px 6px rgba(16, 22, 26, 0.2);
  left:calc(50% - 250px);
  top:20vh;
  width:500px;
  z-index:21; }
  .bp3-omnibar.bp3-overlay-enter, .bp3-omnibar.bp3-overlay-appear{
    -webkit-filter:blur(20px);
            filter:blur(20px);
    opacity:0.2; }
  .bp3-omnibar.bp3-overlay-enter-active, .bp3-omnibar.bp3-overlay-appear-active{
    -webkit-filter:blur(0);
            filter:blur(0);
    opacity:1;
    -webkit-transition-delay:0;
            transition-delay:0;
    -webkit-transition-duration:200ms;
            transition-duration:200ms;
    -webkit-transition-property:opacity, -webkit-filter;
    transition-property:opacity, -webkit-filter;
    transition-property:filter, opacity;
    transition-property:filter, opacity, -webkit-filter;
    -webkit-transition-timing-function:cubic-bezier(0.4, 1, 0.75, 0.9);
            transition-timing-function:cubic-bezier(0.4, 1, 0.75, 0.9); }
  .bp3-omnibar.bp3-overlay-exit{
    -webkit-filter:blur(0);
            filter:blur(0);
    opacity:1; }
  .bp3-omnibar.bp3-overlay-exit-active{
    -webkit-filter:blur(20px);
            filter:blur(20px);
    opacity:0.2;
    -webkit-transition-delay:0;
            transition-delay:0;
    -webkit-transition-duration:200ms;
            transition-duration:200ms;
    -webkit-transition-property:opacity, -webkit-filter;
    transition-property:opacity, -webkit-filter;
    transition-property:filter, opacity;
    transition-property:filter, opacity, -webkit-filter;
    -webkit-transition-timing-function:cubic-bezier(0.4, 1, 0.75, 0.9);
            transition-timing-function:cubic-bezier(0.4, 1, 0.75, 0.9); }
  .bp3-omnibar .bp3-input{
    background-color:transparent;
    border-radius:0; }
    .bp3-omnibar .bp3-input, .bp3-omnibar .bp3-input:focus{
      -webkit-box-shadow:none;
              box-shadow:none; }
  .bp3-omnibar .bp3-menu{
    background-color:transparent;
    border-radius:0;
    -webkit-box-shadow:inset 0 1px 0 rgba(16, 22, 26, 0.15);
            box-shadow:inset 0 1px 0 rgba(16, 22, 26, 0.15);
    max-height:calc(60vh - 40px);
    overflow:auto; }
    .bp3-omnibar .bp3-menu:empty{
      display:none; }
  .bp3-dark .bp3-omnibar, .bp3-omnibar.bp3-dark{
    background-color:#30404d;
    -webkit-box-shadow:0 0 0 1px rgba(16, 22, 26, 0.2), 0 4px 8px rgba(16, 22, 26, 0.4), 0 18px 46px 6px rgba(16, 22, 26, 0.4);
            box-shadow:0 0 0 1px rgba(16, 22, 26, 0.2), 0 4px 8px rgba(16, 22, 26, 0.4), 0 18px 46px 6px rgba(16, 22, 26, 0.4); }

.bp3-omnibar-overlay .bp3-overlay-backdrop{
  background-color:rgba(16, 22, 26, 0.2); }

.bp3-select-popover .bp3-popover-content{
  padding:5px; }

.bp3-select-popover .bp3-input-group{
  margin-bottom:0; }

.bp3-select-popover .bp3-menu{
  max-height:300px;
  max-width:400px;
  overflow:auto;
  padding:0; }
  .bp3-select-popover .bp3-menu:not(:first-child){
    padding-top:5px; }

.bp3-multi-select{
  min-width:150px; }

.bp3-multi-select-popover .bp3-menu{
  max-height:300px;
  max-width:400px;
  overflow:auto; }

.bp3-select-popover .bp3-popover-content{
  padding:5px; }

.bp3-select-popover .bp3-input-group{
  margin-bottom:0; }

.bp3-select-popover .bp3-menu{
  max-height:300px;
  max-width:400px;
  overflow:auto;
  padding:0; }
  .bp3-select-popover .bp3-menu:not(:first-child){
    padding-top:5px; }
/*-----------------------------------------------------------------------------
| Copyright (c) Jupyter Development Team.
| Distributed under the terms of the Modified BSD License.
|----------------------------------------------------------------------------*/

/* This file was auto-generated by ensureUiComponents() in @jupyterlab/buildutils */

/**
 * (DEPRECATED) Support for consuming icons as CSS background images
 */

/* Icons urls */

:root {
  --jp-icon-add: url(data:image/svg+xml;base64,PHN2ZyB4bWxucz0iaHR0cDovL3d3dy53My5vcmcvMjAwMC9zdmciIHdpZHRoPSIxNiIgdmlld0JveD0iMCAwIDI0IDI0Ij4KICA8ZyBjbGFzcz0ianAtaWNvbjMiIGZpbGw9IiM2MTYxNjEiPgogICAgPHBhdGggZD0iTTE5IDEzaC02djZoLTJ2LTZINXYtMmg2VjVoMnY2aDZ2MnoiLz4KICA8L2c+Cjwvc3ZnPgo=);
  --jp-icon-bug: url(data:image/svg+xml;base64,PHN2ZyB2aWV3Qm94PSIwIDAgMjQgMjQiIHdpZHRoPSIxNiIgeG1sbnM9Imh0dHA6Ly93d3cudzMub3JnLzIwMDAvc3ZnIj4KICA8ZyBjbGFzcz0ianAtaWNvbjMganAtaWNvbi1zZWxlY3RhYmxlIiBmaWxsPSIjNjE2MTYxIj4KICAgIDxwYXRoIGQ9Ik0yMCA4aC0yLjgxYy0uNDUtLjc4LTEuMDctMS40NS0xLjgyLTEuOTZMMTcgNC40MSAxNS41OSAzbC0yLjE3IDIuMTdDMTIuOTYgNS4wNiAxMi40OSA1IDEyIDVjLS40OSAwLS45Ni4wNi0xLjQxLjE3TDguNDEgMyA3IDQuNDFsMS42MiAxLjYzQzcuODggNi41NSA3LjI2IDcuMjIgNi44MSA4SDR2MmgyLjA5Yy0uMDUuMzMtLjA5LjY2LS4wOSAxdjFINHYyaDJ2MWMwIC4zNC4wNC42Ny4wOSAxSDR2MmgyLjgxYzEuMDQgMS43OSAyLjk3IDMgNS4xOSAzczQuMTUtMS4yMSA1LjE5LTNIMjB2LTJoLTIuMDljLjA1LS4zMy4wOS0uNjYuMDktMXYtMWgydi0yaC0ydi0xYzAtLjM0LS4wNC0uNjctLjA5LTFIMjBWOHptLTYgOGgtNHYtMmg0djJ6bTAtNGgtNHYtMmg0djJ6Ii8+CiAgPC9nPgo8L3N2Zz4K);
  --jp-icon-build: url(data:image/svg+xml;base64,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);
  --jp-icon-caret-down-empty-thin: url(data:image/svg+xml;base64,PHN2ZyB4bWxucz0iaHR0cDovL3d3dy53My5vcmcvMjAwMC9zdmciIHdpZHRoPSIxNiIgdmlld0JveD0iMCAwIDIwIDIwIj4KCTxnIGNsYXNzPSJqcC1pY29uMyIgZmlsbD0iIzYxNjE2MSIgc2hhcGUtcmVuZGVyaW5nPSJnZW9tZXRyaWNQcmVjaXNpb24iPgoJCTxwb2x5Z29uIGNsYXNzPSJzdDEiIHBvaW50cz0iOS45LDEzLjYgMy42LDcuNCA0LjQsNi42IDkuOSwxMi4yIDE1LjQsNi43IDE2LjEsNy40ICIvPgoJPC9nPgo8L3N2Zz4K);
  --jp-icon-caret-down-empty: url(data:image/svg+xml;base64,PHN2ZyB4bWxucz0iaHR0cDovL3d3dy53My5vcmcvMjAwMC9zdmciIHdpZHRoPSIxNiIgdmlld0JveD0iMCAwIDE4IDE4Ij4KICA8ZyBjbGFzcz0ianAtaWNvbjMiIGZpbGw9IiM2MTYxNjEiIHNoYXBlLXJlbmRlcmluZz0iZ2VvbWV0cmljUHJlY2lzaW9uIj4KICAgIDxwYXRoIGQ9Ik01LjIsNS45TDksOS43bDMuOC0zLjhsMS4yLDEuMmwtNC45LDVsLTQuOS01TDUuMiw1Ljl6Ii8+CiAgPC9nPgo8L3N2Zz4K);
  --jp-icon-caret-down: url(data:image/svg+xml;base64,PHN2ZyB4bWxucz0iaHR0cDovL3d3dy53My5vcmcvMjAwMC9zdmciIHdpZHRoPSIxNiIgdmlld0JveD0iMCAwIDE4IDE4Ij4KICA8ZyBjbGFzcz0ianAtaWNvbjMiIGZpbGw9IiM2MTYxNjEiIHNoYXBlLXJlbmRlcmluZz0iZ2VvbWV0cmljUHJlY2lzaW9uIj4KICAgIDxwYXRoIGQ9Ik01LjIsNy41TDksMTEuMmwzLjgtMy44SDUuMnoiLz4KICA8L2c+Cjwvc3ZnPgo=);
  --jp-icon-caret-left: url(data:image/svg+xml;base64,PHN2ZyB4bWxucz0iaHR0cDovL3d3dy53My5vcmcvMjAwMC9zdmciIHdpZHRoPSIxNiIgdmlld0JveD0iMCAwIDE4IDE4Ij4KCTxnIGNsYXNzPSJqcC1pY29uMyIgZmlsbD0iIzYxNjE2MSIgc2hhcGUtcmVuZGVyaW5nPSJnZW9tZXRyaWNQcmVjaXNpb24iPgoJCTxwYXRoIGQ9Ik0xMC44LDEyLjhMNy4xLDlsMy44LTMuOGwwLDcuNkgxMC44eiIvPgogIDwvZz4KPC9zdmc+Cg==);
  --jp-icon-caret-right: url(data:image/svg+xml;base64,PHN2ZyB4bWxucz0iaHR0cDovL3d3dy53My5vcmcvMjAwMC9zdmciIHdpZHRoPSIxNiIgdmlld0JveD0iMCAwIDE4IDE4Ij4KICA8ZyBjbGFzcz0ianAtaWNvbjMiIGZpbGw9IiM2MTYxNjEiIHNoYXBlLXJlbmRlcmluZz0iZ2VvbWV0cmljUHJlY2lzaW9uIj4KICAgIDxwYXRoIGQ9Ik03LjIsNS4yTDEwLjksOWwtMy44LDMuOFY1LjJINy4yeiIvPgogIDwvZz4KPC9zdmc+Cg==);
  --jp-icon-caret-up-empty-thin: url(data:image/svg+xml;base64,PHN2ZyB4bWxucz0iaHR0cDovL3d3dy53My5vcmcvMjAwMC9zdmciIHdpZHRoPSIxNiIgdmlld0JveD0iMCAwIDIwIDIwIj4KCTxnIGNsYXNzPSJqcC1pY29uMyIgZmlsbD0iIzYxNjE2MSIgc2hhcGUtcmVuZGVyaW5nPSJnZW9tZXRyaWNQcmVjaXNpb24iPgoJCTxwb2x5Z29uIGNsYXNzPSJzdDEiIHBvaW50cz0iMTUuNCwxMy4zIDkuOSw3LjcgNC40LDEzLjIgMy42LDEyLjUgOS45LDYuMyAxNi4xLDEyLjYgIi8+Cgk8L2c+Cjwvc3ZnPgo=);
  --jp-icon-caret-up: url(data:image/svg+xml;base64,PHN2ZyB4bWxucz0iaHR0cDovL3d3dy53My5vcmcvMjAwMC9zdmciIHdpZHRoPSIxNiIgdmlld0JveD0iMCAwIDE4IDE4Ij4KCTxnIGNsYXNzPSJqcC1pY29uMyIgZmlsbD0iIzYxNjE2MSIgc2hhcGUtcmVuZGVyaW5nPSJnZW9tZXRyaWNQcmVjaXNpb24iPgoJCTxwYXRoIGQ9Ik01LjIsMTAuNUw5LDYuOGwzLjgsMy44SDUuMnoiLz4KICA8L2c+Cjwvc3ZnPgo=);
  --jp-icon-case-sensitive: url(data:image/svg+xml;base64,PHN2ZyB4bWxucz0iaHR0cDovL3d3dy53My5vcmcvMjAwMC9zdmciIHdpZHRoPSIxNiIgdmlld0JveD0iMCAwIDIwIDIwIj4KICA8ZyBjbGFzcz0ianAtaWNvbjIiIGZpbGw9IiM0MTQxNDEiPgogICAgPHJlY3QgeD0iMiIgeT0iMiIgd2lkdGg9IjE2IiBoZWlnaHQ9IjE2Ii8+CiAgPC9nPgogIDxnIGNsYXNzPSJqcC1pY29uLWFjY2VudDIiIGZpbGw9IiNGRkYiPgogICAgPHBhdGggZD0iTTcuNiw4aDAuOWwzLjUsOGgtMS4xTDEwLDE0SDZsLTAuOSwySDRMNy42LDh6IE04LDkuMUw2LjQsMTNoMy4yTDgsOS4xeiIvPgogICAgPHBhdGggZD0iTTE2LjYsOS44Yy0wLjIsMC4xLTAuNCwwLjEtMC43LDAuMWMtMC4yLDAtMC40LTAuMS0wLjYtMC4yYy0wLjEtMC4xLTAuMi0wLjQtMC4yLTAuNyBjLTAuMywwLjMtMC42LDAuNS0wLjksMC43Yy0wLjMsMC4xLTAuNywwLjItMS4xLDAuMmMtMC4zLDAtMC41LDAtMC43LTAuMWMtMC4yLTAuMS0wLjQtMC4yLTAuNi0wLjNjLTAuMi0wLjEtMC4zLTAuMy0wLjQtMC41IGMtMC4xLTAuMi0wLjEtMC40LTAuMS0wLjdjMC0wLjMsMC4xLTAuNiwwLjItMC44YzAuMS0wLjIsMC4zLTAuNCwwLjQtMC41QzEyLDcsMTIuMiw2LjksMTIuNSw2LjhjMC4yLTAuMSwwLjUtMC4xLDAuNy0wLjIgYzAuMy0wLjEsMC41LTAuMSwwLjctMC4xYzAuMiwwLDAuNC0wLjEsMC42LTAuMWMwLjIsMCwwLjMtMC4xLDAuNC0wLjJjMC4xLTAuMSwwLjItMC4yLDAuMi0wLjRjMC0xLTEuMS0xLTEuMy0xIGMtMC40LDAtMS40LDAtMS40LDEuMmgtMC45YzAtMC40LDAuMS0wLjcsMC4yLTFjMC4xLTAuMiwwLjMtMC40LDAuNS0wLjZjMC4yLTAuMiwwLjUtMC4zLDAuOC0wLjNDMTMuMyw0LDEzLjYsNCwxMy45LDQgYzAuMywwLDAuNSwwLDAuOCwwLjFjMC4zLDAsMC41LDAuMSwwLjcsMC4yYzAuMiwwLjEsMC40LDAuMywwLjUsMC41QzE2LDUsMTYsNS4yLDE2LDUuNnYyLjljMCwwLjIsMCwwLjQsMCwwLjUgYzAsMC4xLDAuMSwwLjIsMC4zLDAuMmMwLjEsMCwwLjIsMCwwLjMsMFY5Ljh6IE0xNS4yLDYuOWMtMS4yLDAuNi0zLjEsMC4yLTMuMSwxLjRjMCwxLjQsMy4xLDEsMy4xLTAuNVY2Ljl6Ii8+CiAgPC9nPgo8L3N2Zz4K);
  --jp-icon-check: url(data:image/svg+xml;base64,PHN2ZyB4bWxucz0iaHR0cDovL3d3dy53My5vcmcvMjAwMC9zdmciIHdpZHRoPSIxNiIgdmlld0JveD0iMCAwIDI0IDI0Ij4KICA8ZyBjbGFzcz0ianAtaWNvbjMganAtaWNvbi1zZWxlY3RhYmxlIiBmaWxsPSIjNjE2MTYxIj4KICAgIDxwYXRoIGQ9Ik05IDE2LjE3TDQuODMgMTJsLTEuNDIgMS40MUw5IDE5IDIxIDdsLTEuNDEtMS40MXoiLz4KICA8L2c+Cjwvc3ZnPgo=);
  --jp-icon-circle-empty: url(data:image/svg+xml;base64,PHN2ZyB4bWxucz0iaHR0cDovL3d3dy53My5vcmcvMjAwMC9zdmciIHdpZHRoPSIxNiIgdmlld0JveD0iMCAwIDI0IDI0Ij4KICA8ZyBjbGFzcz0ianAtaWNvbjMiIGZpbGw9IiM2MTYxNjEiPgogICAgPHBhdGggZD0iTTEyIDJDNi40NyAyIDIgNi40NyAyIDEyczQuNDcgMTAgMTAgMTAgMTAtNC40NyAxMC0xMFMxNy41MyAyIDEyIDJ6bTAgMThjLTQuNDEgMC04LTMuNTktOC04czMuNTktOCA4LTggOCAzLjU5IDggOC0zLjU5IDgtOCA4eiIvPgogIDwvZz4KPC9zdmc+Cg==);
  --jp-icon-circle: url(data:image/svg+xml;base64,PHN2ZyB2aWV3Qm94PSIwIDAgMTggMTgiIHdpZHRoPSIxNiIgeG1sbnM9Imh0dHA6Ly93d3cudzMub3JnLzIwMDAvc3ZnIj4KICA8ZyBjbGFzcz0ianAtaWNvbjMiIGZpbGw9IiM2MTYxNjEiPgogICAgPGNpcmNsZSBjeD0iOSIgY3k9IjkiIHI9IjgiLz4KICA8L2c+Cjwvc3ZnPgo=);
  --jp-icon-clear: url(data:image/svg+xml;base64,PHN2ZyB4bWxucz0iaHR0cDovL3d3dy53My5vcmcvMjAwMC9zdmciIHdpZHRoPSIxNiIgdmlld0JveD0iMCAwIDI0IDI0Ij4KICA8bWFzayBpZD0iZG9udXRIb2xlIj4KICAgIDxyZWN0IHdpZHRoPSIyNCIgaGVpZ2h0PSIyNCIgZmlsbD0id2hpdGUiIC8+CiAgICA8Y2lyY2xlIGN4PSIxMiIgY3k9IjEyIiByPSI4IiBmaWxsPSJibGFjayIvPgogIDwvbWFzaz4KCiAgPGcgY2xhc3M9ImpwLWljb24zIiBmaWxsPSIjNjE2MTYxIj4KICAgIDxyZWN0IGhlaWdodD0iMTgiIHdpZHRoPSIyIiB4PSIxMSIgeT0iMyIgdHJhbnNmb3JtPSJyb3RhdGUoMzE1LCAxMiwgMTIpIi8+CiAgICA8Y2lyY2xlIGN4PSIxMiIgY3k9IjEyIiByPSIxMCIgbWFzaz0idXJsKCNkb251dEhvbGUpIi8+CiAgPC9nPgo8L3N2Zz4K);
  --jp-icon-close: url(data:image/svg+xml;base64,PHN2ZyB2aWV3Qm94PSIwIDAgMjQgMjQiIHdpZHRoPSIxNiIgeG1sbnM9Imh0dHA6Ly93d3cudzMub3JnLzIwMDAvc3ZnIj4KICA8ZyBjbGFzcz0ianAtaWNvbi1ub25lIGpwLWljb24tc2VsZWN0YWJsZS1pbnZlcnNlIGpwLWljb24zLWhvdmVyIiBmaWxsPSJub25lIj4KICAgIDxjaXJjbGUgY3g9IjEyIiBjeT0iMTIiIHI9IjExIi8+CiAgPC9nPgoKICA8ZyBjbGFzcz0ianAtaWNvbjMganAtaWNvbi1zZWxlY3RhYmxlIGpwLWljb24tYWNjZW50Mi1ob3ZlciIgZmlsbD0iIzYxNjE2MSI+CiAgICA8cGF0aCBkPSJNMTkgNi40MUwxNy41OSA1IDEyIDEwLjU5IDYuNDEgNSA1IDYuNDEgMTAuNTkgMTIgNSAxNy41OSA2LjQxIDE5IDEyIDEzLjQxIDE3LjU5IDE5IDE5IDE3LjU5IDEzLjQxIDEyeiIvPgogIDwvZz4KCiAgPGcgY2xhc3M9ImpwLWljb24tbm9uZSBqcC1pY29uLWJ1c3kiIGZpbGw9Im5vbmUiPgogICAgPGNpcmNsZSBjeD0iMTIiIGN5PSIxMiIgcj0iNyIvPgogIDwvZz4KPC9zdmc+Cg==);
  --jp-icon-code: url(data:image/svg+xml;base64,PHN2ZyB3aWR0aD0iMjIiIGhlaWdodD0iMjIiIHZpZXdCb3g9IjAgMCAyOCAyOCIgeG1sbnM9Imh0dHA6Ly93d3cudzMub3JnLzIwMDAvc3ZnIj4KCTxnIGNsYXNzPSJqcC1pY29uMyIgZmlsbD0iIzYxNjE2MSI+CgkJPHBhdGggZD0iTTExLjQgMTguNkw2LjggMTRMMTEuNCA5LjRMMTAgOEw0IDE0TDEwIDIwTDExLjQgMTguNlpNMTYuNiAxOC42TDIxLjIgMTRMMTYuNiA5LjRMMTggOEwyNCAxNEwxOCAyMEwxNi42IDE4LjZWMTguNloiLz4KCTwvZz4KPC9zdmc+Cg==);
  --jp-icon-console: url(data:image/svg+xml;base64,PHN2ZyB4bWxucz0iaHR0cDovL3d3dy53My5vcmcvMjAwMC9zdmciIHdpZHRoPSIxNiIgdmlld0JveD0iMCAwIDIwMCAyMDAiPgogIDxnIGNsYXNzPSJqcC1pY29uLWJyYW5kMSBqcC1pY29uLXNlbGVjdGFibGUiIGZpbGw9IiMwMjg4RDEiPgogICAgPHBhdGggZD0iTTIwIDE5LjhoMTYwdjE1OS45SDIweiIvPgogIDwvZz4KICA8ZyBjbGFzcz0ianAtaWNvbi1zZWxlY3RhYmxlLWludmVyc2UiIGZpbGw9IiNmZmYiPgogICAgPHBhdGggZD0iTTEwNSAxMjcuM2g0MHYxMi44aC00MHpNNTEuMSA3N0w3NCA5OS45bC0yMy4zIDIzLjMgMTAuNSAxMC41IDIzLjMtMjMuM0w5NSA5OS45IDg0LjUgODkuNCA2MS42IDY2LjV6Ii8+CiAgPC9nPgo8L3N2Zz4K);
  --jp-icon-copy: url(data:image/svg+xml;base64,PHN2ZyB2aWV3Qm94PSIwIDAgMTggMTgiIHdpZHRoPSIxNiIgeG1sbnM9Imh0dHA6Ly93d3cudzMub3JnLzIwMDAvc3ZnIj4KICA8ZyBjbGFzcz0ianAtaWNvbjMiIGZpbGw9IiM2MTYxNjEiPgogICAgPHBhdGggZD0iTTExLjksMUgzLjJDMi40LDEsMS43LDEuNywxLjcsMi41djEwLjJoMS41VjIuNWg4LjdWMXogTTE0LjEsMy45aC04Yy0wLjgsMC0xLjUsMC43LTEuNSwxLjV2MTAuMmMwLDAuOCwwLjcsMS41LDEuNSwxLjVoOCBjMC44LDAsMS41LTAuNywxLjUtMS41VjUuNEMxNS41LDQuNiwxNC45LDMuOSwxNC4xLDMuOXogTTE0LjEsMTUuNWgtOFY1LjRoOFYxNS41eiIvPgogIDwvZz4KPC9zdmc+Cg==);
  --jp-icon-copyright: url(data:image/svg+xml;base64,PHN2ZyB4bWxucz0iaHR0cDovL3d3dy53My5vcmcvMjAwMC9zdmciIGVuYWJsZS1iYWNrZ3JvdW5kPSJuZXcgMCAwIDI0IDI0IiBoZWlnaHQ9IjI0IiB2aWV3Qm94PSIwIDAgMjQgMjQiIHdpZHRoPSIyNCI+CiAgPGcgY2xhc3M9ImpwLWljb24zIiBmaWxsPSIjNjE2MTYxIj4KICAgIDxwYXRoIGQ9Ik0xMS44OCw5LjE0YzEuMjgsMC4wNiwxLjYxLDEuMTUsMS42MywxLjY2aDEuNzljLTAuMDgtMS45OC0xLjQ5LTMuMTktMy40NS0zLjE5QzkuNjQsNy42MSw4LDksOCwxMi4xNCBjMCwxLjk0LDAuOTMsNC4yNCwzLjg0LDQuMjRjMi4yMiwwLDMuNDEtMS42NSwzLjQ0LTIuOTVoLTEuNzljLTAuMDMsMC41OS0wLjQ1LDEuMzgtMS42MywxLjQ0QzEwLjU1LDE0LjgzLDEwLDEzLjgxLDEwLDEyLjE0IEMxMCw5LjI1LDExLjI4LDkuMTYsMTEuODgsOS4xNHogTTEyLDJDNi40OCwyLDIsNi40OCwyLDEyczQuNDgsMTAsMTAsMTBzMTAtNC40OCwxMC0xMFMxNy41MiwyLDEyLDJ6IE0xMiwyMGMtNC40MSwwLTgtMy41OS04LTggczMuNTktOCw4LThzOCwzLjU5LDgsOFMxNi40MSwyMCwxMiwyMHoiLz4KICA8L2c+Cjwvc3ZnPgo=);
  --jp-icon-cut: url(data:image/svg+xml;base64,PHN2ZyB2aWV3Qm94PSIwIDAgMjQgMjQiIHdpZHRoPSIxNiIgeG1sbnM9Imh0dHA6Ly93d3cudzMub3JnLzIwMDAvc3ZnIj4KICA8ZyBjbGFzcz0ianAtaWNvbjMiIGZpbGw9IiM2MTYxNjEiPgogICAgPHBhdGggZD0iTTkuNjQgNy42NGMuMjMtLjUuMzYtMS4wNS4zNi0xLjY0IDAtMi4yMS0xLjc5LTQtNC00UzIgMy43OSAyIDZzMS43OSA0IDQgNGMuNTkgMCAxLjE0LS4xMyAxLjY0LS4zNkwxMCAxMmwtMi4zNiAyLjM2QzcuMTQgMTQuMTMgNi41OSAxNCA2IDE0Yy0yLjIxIDAtNCAxLjc5LTQgNHMxLjc5IDQgNCA0IDQtMS43OSA0LTRjMC0uNTktLjEzLTEuMTQtLjM2LTEuNjRMMTIgMTRsNyA3aDN2LTFMOS42NCA3LjY0ek02IDhjLTEuMSAwLTItLjg5LTItMnMuOS0yIDItMiAyIC44OSAyIDItLjkgMi0yIDJ6bTAgMTJjLTEuMSAwLTItLjg5LTItMnMuOS0yIDItMiAyIC44OSAyIDItLjkgMi0yIDJ6bTYtNy41Yy0uMjggMC0uNS0uMjItLjUtLjVzLjIyLS41LjUtLjUuNS4yMi41LjUtLjIyLjUtLjUuNXpNMTkgM2wtNiA2IDIgMiA3LTdWM3oiLz4KICA8L2c+Cjwvc3ZnPgo=);
  --jp-icon-download: url(data:image/svg+xml;base64,PHN2ZyB2aWV3Qm94PSIwIDAgMjQgMjQiIHdpZHRoPSIxNiIgeG1sbnM9Imh0dHA6Ly93d3cudzMub3JnLzIwMDAvc3ZnIj4KICA8ZyBjbGFzcz0ianAtaWNvbjMiIGZpbGw9IiM2MTYxNjEiPgogICAgPHBhdGggZD0iTTE5IDloLTRWM0g5djZINWw3IDcgNy03ek01IDE4djJoMTR2LTJINXoiLz4KICA8L2c+Cjwvc3ZnPgo=);
  --jp-icon-edit: url(data:image/svg+xml;base64,PHN2ZyB2aWV3Qm94PSIwIDAgMjQgMjQiIHdpZHRoPSIxNiIgeG1sbnM9Imh0dHA6Ly93d3cudzMub3JnLzIwMDAvc3ZnIj4KICA8ZyBjbGFzcz0ianAtaWNvbjMiIGZpbGw9IiM2MTYxNjEiPgogICAgPHBhdGggZD0iTTMgMTcuMjVWMjFoMy43NUwxNy44MSA5Ljk0bC0zLjc1LTMuNzVMMyAxNy4yNXpNMjAuNzEgNy4wNGMuMzktLjM5LjM5LTEuMDIgMC0xLjQxbC0yLjM0LTIuMzRjLS4zOS0uMzktMS4wMi0uMzktMS40MSAwbC0xLjgzIDEuODMgMy43NSAzLjc1IDEuODMtMS44M3oiLz4KICA8L2c+Cjwvc3ZnPgo=);
  --jp-icon-ellipses: url(data:image/svg+xml;base64,PHN2ZyB2aWV3Qm94PSIwIDAgMjQgMjQiIHdpZHRoPSIxNiIgeG1sbnM9Imh0dHA6Ly93d3cudzMub3JnLzIwMDAvc3ZnIj4KICA8ZyBjbGFzcz0ianAtaWNvbjMiIGZpbGw9IiM2MTYxNjEiPgogICAgPGNpcmNsZSBjeD0iNSIgY3k9IjEyIiByPSIyIi8+CiAgICA8Y2lyY2xlIGN4PSIxMiIgY3k9IjEyIiByPSIyIi8+CiAgICA8Y2lyY2xlIGN4PSIxOSIgY3k9IjEyIiByPSIyIi8+CiAgPC9nPgo8L3N2Zz4K);
  --jp-icon-extension: url(data:image/svg+xml;base64,PHN2ZyB4bWxucz0iaHR0cDovL3d3dy53My5vcmcvMjAwMC9zdmciIHdpZHRoPSIxNiIgdmlld0JveD0iMCAwIDI0IDI0Ij4KICA8ZyBjbGFzcz0ianAtaWNvbjMiIGZpbGw9IiM2MTYxNjEiPgogICAgPHBhdGggZD0iTTIwLjUgMTFIMTlWN2MwLTEuMS0uOS0yLTItMmgtNFYzLjVDMTMgMi4xMiAxMS44OCAxIDEwLjUgMVM4IDIuMTIgOCAzLjVWNUg0Yy0xLjEgMC0xLjk5LjktMS45OSAydjMuOEgzLjVjMS40OSAwIDIuNyAxLjIxIDIuNyAyLjdzLTEuMjEgMi43LTIuNyAyLjdIMlYyMGMwIDEuMS45IDIgMiAyaDMuOHYtMS41YzAtMS40OSAxLjIxLTIuNyAyLjctMi43IDEuNDkgMCAyLjcgMS4yMSAyLjcgMi43VjIySDE3YzEuMSAwIDItLjkgMi0ydi00aDEuNWMxLjM4IDAgMi41LTEuMTIgMi41LTIuNVMyMS44OCAxMSAyMC41IDExeiIvPgogIDwvZz4KPC9zdmc+Cg==);
  --jp-icon-fast-forward: url(data:image/svg+xml;base64,PHN2ZyB4bWxucz0iaHR0cDovL3d3dy53My5vcmcvMjAwMC9zdmciIHdpZHRoPSIyNCIgaGVpZ2h0PSIyNCIgdmlld0JveD0iMCAwIDI0IDI0Ij4KICAgIDxnIGNsYXNzPSJqcC1pY29uMyIgZmlsbD0iIzYxNjE2MSI+CiAgICAgICAgPHBhdGggZD0iTTQgMThsOC41LTZMNCA2djEyem05LTEydjEybDguNS02TDEzIDZ6Ii8+CiAgICA8L2c+Cjwvc3ZnPgo=);
  --jp-icon-file-upload: url(data:image/svg+xml;base64,PHN2ZyB4bWxucz0iaHR0cDovL3d3dy53My5vcmcvMjAwMC9zdmciIHdpZHRoPSIxNiIgdmlld0JveD0iMCAwIDI0IDI0Ij4KICA8ZyBjbGFzcz0ianAtaWNvbjMiIGZpbGw9IiM2MTYxNjEiPgogICAgPHBhdGggZD0iTTkgMTZoNnYtNmg0bC03LTctNyA3aDR6bS00IDJoMTR2Mkg1eiIvPgogIDwvZz4KPC9zdmc+Cg==);
  --jp-icon-file: url(data:image/svg+xml;base64,PHN2ZyB4bWxucz0iaHR0cDovL3d3dy53My5vcmcvMjAwMC9zdmciIHdpZHRoPSIxNiIgdmlld0JveD0iMCAwIDIyIDIyIj4KICA8cGF0aCBjbGFzcz0ianAtaWNvbjMganAtaWNvbi1zZWxlY3RhYmxlIiBmaWxsPSIjNjE2MTYxIiBkPSJNMTkuMyA4LjJsLTUuNS01LjVjLS4zLS4zLS43LS41LTEuMi0uNUgzLjljLS44LjEtMS42LjktMS42IDEuOHYxNC4xYzAgLjkuNyAxLjYgMS42IDEuNmgxNC4yYy45IDAgMS42LS43IDEuNi0xLjZWOS40Yy4xLS41LS4xLS45LS40LTEuMnptLTUuOC0zLjNsMy40IDMuNmgtMy40VjQuOXptMy45IDEyLjdINC43Yy0uMSAwLS4yIDAtLjItLjJWNC43YzAtLjIuMS0uMy4yLS4zaDcuMnY0LjRzMCAuOC4zIDEuMWMuMy4zIDEuMS4zIDEuMS4zaDQuM3Y3LjJzLS4xLjItLjIuMnoiLz4KPC9zdmc+Cg==);
  --jp-icon-filter-list: url(data:image/svg+xml;base64,PHN2ZyB4bWxucz0iaHR0cDovL3d3dy53My5vcmcvMjAwMC9zdmciIHdpZHRoPSIxNiIgdmlld0JveD0iMCAwIDI0IDI0Ij4KICA8ZyBjbGFzcz0ianAtaWNvbjMiIGZpbGw9IiM2MTYxNjEiPgogICAgPHBhdGggZD0iTTEwIDE4aDR2LTJoLTR2MnpNMyA2djJoMThWNkgzem0zIDdoMTJ2LTJINnYyeiIvPgogIDwvZz4KPC9zdmc+Cg==);
  --jp-icon-folder: url(data:image/svg+xml;base64,PHN2ZyB4bWxucz0iaHR0cDovL3d3dy53My5vcmcvMjAwMC9zdmciIHdpZHRoPSIxNiIgdmlld0JveD0iMCAwIDI0IDI0Ij4KICA8cGF0aCBjbGFzcz0ianAtaWNvbjMganAtaWNvbi1zZWxlY3RhYmxlIiBmaWxsPSIjNjE2MTYxIiBkPSJNMTAgNEg0Yy0xLjEgMC0xLjk5LjktMS45OSAyTDIgMThjMCAxLjEuOSAyIDIgMmgxNmMxLjEgMCAyLS45IDItMlY4YzAtMS4xLS45LTItMi0yaC04bC0yLTJ6Ii8+Cjwvc3ZnPgo=);
  --jp-icon-html5: url(data:image/svg+xml;base64,PHN2ZyB4bWxucz0iaHR0cDovL3d3dy53My5vcmcvMjAwMC9zdmciIHdpZHRoPSIxNiIgdmlld0JveD0iMCAwIDUxMiA1MTIiPgogIDxwYXRoIGNsYXNzPSJqcC1pY29uMCBqcC1pY29uLXNlbGVjdGFibGUiIGZpbGw9IiMwMDAiIGQ9Ik0xMDguNCAwaDIzdjIyLjhoMjEuMlYwaDIzdjY5aC0yM1Y0NmgtMjF2MjNoLTIzLjJNMjA2IDIzaC0yMC4zVjBoNjMuN3YyM0gyMjl2NDZoLTIzbTUzLjUtNjloMjQuMWwxNC44IDI0LjNMMzEzLjIgMGgyNC4xdjY5aC0yM1YzNC44bC0xNi4xIDI0LjgtMTYuMS0yNC44VjY5aC0yMi42bTg5LjItNjloMjN2NDYuMmgzMi42VjY5aC01NS42Ii8+CiAgPHBhdGggY2xhc3M9ImpwLWljb24tc2VsZWN0YWJsZSIgZmlsbD0iI2U0NGQyNiIgZD0iTTEwNy42IDQ3MWwtMzMtMzcwLjRoMzYyLjhsLTMzIDM3MC4yTDI1NS43IDUxMiIvPgogIDxwYXRoIGNsYXNzPSJqcC1pY29uLXNlbGVjdGFibGUiIGZpbGw9IiNmMTY1MjkiIGQ9Ik0yNTYgNDgwLjVWMTMxaDE0OC4zTDM3NiA0NDciLz4KICA8cGF0aCBjbGFzcz0ianAtaWNvbi1zZWxlY3RhYmxlLWludmVyc2UiIGZpbGw9IiNlYmViZWIiIGQ9Ik0xNDIgMTc2LjNoMTE0djQ1LjRoLTY0LjJsNC4yIDQ2LjVoNjB2NDUuM0gxNTQuNG0yIDIyLjhIMjAybDMuMiAzNi4zIDUwLjggMTMuNnY0Ny40bC05My4yLTI2Ii8+CiAgPHBhdGggY2xhc3M9ImpwLWljb24tc2VsZWN0YWJsZS1pbnZlcnNlIiBmaWxsPSIjZmZmIiBkPSJNMzY5LjYgMTc2LjNIMjU1Ljh2NDUuNGgxMDkuNm0tNC4xIDQ2LjVIMjU1Ljh2NDUuNGg1NmwtNS4zIDU5LTUwLjcgMTMuNnY0Ny4ybDkzLTI1LjgiLz4KPC9zdmc+Cg==);
  --jp-icon-image: url(data:image/svg+xml;base64,PHN2ZyB4bWxucz0iaHR0cDovL3d3dy53My5vcmcvMjAwMC9zdmciIHdpZHRoPSIxNiIgdmlld0JveD0iMCAwIDIyIDIyIj4KICA8cGF0aCBjbGFzcz0ianAtaWNvbi1icmFuZDQganAtaWNvbi1zZWxlY3RhYmxlLWludmVyc2UiIGZpbGw9IiNGRkYiIGQ9Ik0yLjIgMi4yaDE3LjV2MTcuNUgyLjJ6Ii8+CiAgPHBhdGggY2xhc3M9ImpwLWljb24tYnJhbmQwIGpwLWljb24tc2VsZWN0YWJsZSIgZmlsbD0iIzNGNTFCNSIgZD0iTTIuMiAyLjJ2MTcuNWgxNy41bC4xLTE3LjVIMi4yem0xMi4xIDIuMmMxLjIgMCAyLjIgMSAyLjIgMi4ycy0xIDIuMi0yLjIgMi4yLTIuMi0xLTIuMi0yLjIgMS0yLjIgMi4yLTIuMnpNNC40IDE3LjZsMy4zLTguOCAzLjMgNi42IDIuMi0zLjIgNC40IDUuNEg0LjR6Ii8+Cjwvc3ZnPgo=);
  --jp-icon-inspector: url(data:image/svg+xml;base64,PHN2ZyB4bWxucz0iaHR0cDovL3d3dy53My5vcmcvMjAwMC9zdmciIHdpZHRoPSIxNiIgdmlld0JveD0iMCAwIDI0IDI0Ij4KICA8cGF0aCBjbGFzcz0ianAtaWNvbjMganAtaWNvbi1zZWxlY3RhYmxlIiBmaWxsPSIjNjE2MTYxIiBkPSJNMjAgNEg0Yy0xLjEgMC0xLjk5LjktMS45OSAyTDIgMThjMCAxLjEuOSAyIDIgMmgxNmMxLjEgMCAyLS45IDItMlY2YzAtMS4xLS45LTItMi0yem0tNSAxNEg0di00aDExdjR6bTAtNUg0VjloMTF2NHptNSA1aC00VjloNHY5eiIvPgo8L3N2Zz4K);
  --jp-icon-json: url(data:image/svg+xml;base64,PHN2ZyB4bWxucz0iaHR0cDovL3d3dy53My5vcmcvMjAwMC9zdmciIHdpZHRoPSIxNiIgdmlld0JveD0iMCAwIDIyIDIyIj4KICA8ZyBjbGFzcz0ianAtaWNvbi13YXJuMSBqcC1pY29uLXNlbGVjdGFibGUiIGZpbGw9IiNGOUE4MjUiPgogICAgPHBhdGggZD0iTTIwLjIgMTEuOGMtMS42IDAtMS43LjUtMS43IDEgMCAuNC4xLjkuMSAxLjMuMS41LjEuOS4xIDEuMyAwIDEuNy0xLjQgMi4zLTMuNSAyLjNoLS45di0xLjloLjVjMS4xIDAgMS40IDAgMS40LS44IDAtLjMgMC0uNi0uMS0xIDAtLjQtLjEtLjgtLjEtMS4yIDAtMS4zIDAtMS44IDEuMy0yLTEuMy0uMi0xLjMtLjctMS4zLTIgMC0uNC4xLS44LjEtMS4yLjEtLjQuMS0uNy4xLTEgMC0uOC0uNC0uNy0xLjQtLjhoLS41VjQuMWguOWMyLjIgMCAzLjUuNyAzLjUgMi4zIDAgLjQtLjEuOS0uMSAxLjMtLjEuNS0uMS45LS4xIDEuMyAwIC41LjIgMSAxLjcgMXYxLjh6TTEuOCAxMC4xYzEuNiAwIDEuNy0uNSAxLjctMSAwLS40LS4xLS45LS4xLTEuMy0uMS0uNS0uMS0uOS0uMS0xLjMgMC0xLjYgMS40LTIuMyAzLjUtMi4zaC45djEuOWgtLjVjLTEgMC0xLjQgMC0xLjQuOCAwIC4zIDAgLjYuMSAxIDAgLjIuMS42LjEgMSAwIDEuMyAwIDEuOC0xLjMgMkM2IDExLjIgNiAxMS43IDYgMTNjMCAuNC0uMS44LS4xIDEuMi0uMS4zLS4xLjctLjEgMSAwIC44LjMuOCAxLjQuOGguNXYxLjloLS45Yy0yLjEgMC0zLjUtLjYtMy41LTIuMyAwLS40LjEtLjkuMS0xLjMuMS0uNS4xLS45LjEtMS4zIDAtLjUtLjItMS0xLjctMXYtMS45eiIvPgogICAgPGNpcmNsZSBjeD0iMTEiIGN5PSIxMy44IiByPSIyLjEiLz4KICAgIDxjaXJjbGUgY3g9IjExIiBjeT0iOC4yIiByPSIyLjEiLz4KICA8L2c+Cjwvc3ZnPgo=);
  --jp-icon-julia: url(data:image/svg+xml;base64,PHN2ZyB4bWxucz0iaHR0cDovL3d3dy53My5vcmcvMjAwMC9zdmciIHdpZHRoPSIxNiIgdmlld0JveD0iMCAwIDMyNSAzMDAiPgogIDxnIGNsYXNzPSJqcC1icmFuZDAganAtaWNvbi1zZWxlY3RhYmxlIiBmaWxsPSIjY2IzYzMzIj4KICAgIDxwYXRoIGQ9Ik0gMTUwLjg5ODQzOCAyMjUgQyAxNTAuODk4NDM4IDI2Ni40MjE4NzUgMTE3LjMyMDMxMiAzMDAgNzUuODk4NDM4IDMwMCBDIDM0LjQ3NjU2MiAzMDAgMC44OTg0MzggMjY2LjQyMTg3NSAwLjg5ODQzOCAyMjUgQyAwLjg5ODQzOCAxODMuNTc4MTI1IDM0LjQ3NjU2MiAxNTAgNzUuODk4NDM4IDE1MCBDIDExNy4zMjAzMTIgMTUwIDE1MC44OTg0MzggMTgzLjU3ODEyNSAxNTAuODk4NDM4IDIyNSIvPgogIDwvZz4KICA8ZyBjbGFzcz0ianAtYnJhbmQwIGpwLWljb24tc2VsZWN0YWJsZSIgZmlsbD0iIzM4OTgyNiI+CiAgICA8cGF0aCBkPSJNIDIzNy41IDc1IEMgMjM3LjUgMTE2LjQyMTg3NSAyMDMuOTIxODc1IDE1MCAxNjIuNSAxNTAgQyAxMjEuMDc4MTI1IDE1MCA4Ny41IDExNi40MjE4NzUgODcuNSA3NSBDIDg3LjUgMzMuNTc4MTI1IDEyMS4wNzgxMjUgMCAxNjIuNSAwIEMgMjAzLjkyMTg3NSAwIDIzNy41IDMzLjU3ODEyNSAyMzcuNSA3NSIvPgogIDwvZz4KICA8ZyBjbGFzcz0ianAtYnJhbmQwIGpwLWljb24tc2VsZWN0YWJsZSIgZmlsbD0iIzk1NThiMiI+CiAgICA8cGF0aCBkPSJNIDMyNC4xMDE1NjIgMjI1IEMgMzI0LjEwMTU2MiAyNjYuNDIxODc1IDI5MC41MjM0MzggMzAwIDI0OS4xMDE1NjIgMzAwIEMgMjA3LjY3OTY4OCAzMDAgMTc0LjEwMTU2MiAyNjYuNDIxODc1IDE3NC4xMDE1NjIgMjI1IEMgMTc0LjEwMTU2MiAxODMuNTc4MTI1IDIwNy42Nzk2ODggMTUwIDI0OS4xMDE1NjIgMTUwIEMgMjkwLjUyMzQzOCAxNTAgMzI0LjEwMTU2MiAxODMuNTc4MTI1IDMyNC4xMDE1NjIgMjI1Ii8+CiAgPC9nPgo8L3N2Zz4K);
  --jp-icon-jupyter-favicon: url(data:image/svg+xml;base64,PHN2ZyB3aWR0aD0iMTUyIiBoZWlnaHQ9IjE2NSIgdmlld0JveD0iMCAwIDE1MiAxNjUiIHZlcnNpb249IjEuMSIgeG1sbnM9Imh0dHA6Ly93d3cudzMub3JnLzIwMDAvc3ZnIj4KICA8ZyBjbGFzcz0ianAtaWNvbi13YXJuMCIgZmlsbD0iI0YzNzcyNiI+CiAgICA8cGF0aCB0cmFuc2Zvcm09InRyYW5zbGF0ZSgwLjA3ODk0NywgMTEwLjU4MjkyNykiIGQ9Ik03NS45NDIyODQyLDI5LjU4MDQ1NjEgQzQzLjMwMjM5NDcsMjkuNTgwNDU2MSAxNC43OTY3ODMyLDE3LjY1MzQ2MzQgMCwwIEM1LjUxMDgzMjExLDE1Ljg0MDY4MjkgMTUuNzgxNTM4OSwyOS41NjY3NzMyIDI5LjM5MDQ5NDcsMzkuMjc4NDE3MSBDNDIuOTk5Nyw0OC45ODk4NTM3IDU5LjI3MzcsNTQuMjA2NzgwNSA3NS45NjA1Nzg5LDU0LjIwNjc4MDUgQzkyLjY0NzQ1NzksNTQuMjA2NzgwNSAxMDguOTIxNDU4LDQ4Ljk4OTg1MzcgMTIyLjUzMDY2MywzOS4yNzg0MTcxIEMxMzYuMTM5NDUzLDI5LjU2Njc3MzIgMTQ2LjQxMDI4NCwxNS44NDA2ODI5IDE1MS45MjExNTgsMCBDMTM3LjA4Nzg2OCwxNy42NTM0NjM0IDEwOC41ODI1ODksMjkuNTgwNDU2MSA3NS45NDIyODQyLDI5LjU4MDQ1NjEgTDc1Ljk0MjI4NDIsMjkuNTgwNDU2MSBaIiAvPgogICAgPHBhdGggdHJhbnNmb3JtPSJ0cmFuc2xhdGUoMC4wMzczNjgsIDAuNzA0ODc4KSIgZD0iTTc1Ljk3ODQ1NzksMjQuNjI2NDA3MyBDMTA4LjYxODc2MywyNC42MjY0MDczIDEzNy4xMjQ0NTgsMzYuNTUzNDQxNSAxNTEuOTIxMTU4LDU0LjIwNjc4MDUgQzE0Ni40MTAyODQsMzguMzY2MjIyIDEzNi4xMzk0NTMsMjQuNjQwMTMxNyAxMjIuNTMwNjYzLDE0LjkyODQ4NzggQzEwOC45MjE0NTgsNS4yMTY4NDM5IDkyLjY0NzQ1NzksMCA3NS45NjA1Nzg5LDAgQzU5LjI3MzcsMCA0Mi45OTk3LDUuMjE2ODQzOSAyOS4zOTA0OTQ3LDE0LjkyODQ4NzggQzE1Ljc4MTUzODksMjQuNjQwMTMxNyA1LjUxMDgzMjExLDM4LjM2NjIyMiAwLDU0LjIwNjc4MDUgQzE0LjgzMzA4MTYsMzYuNTg5OTI5MyA0My4zMzg1Njg0LDI0LjYyNjQwNzMgNzUuOTc4NDU3OSwyNC42MjY0MDczIEw3NS45Nzg0NTc5LDI0LjYyNjQwNzMgWiIgLz4KICA8L2c+Cjwvc3ZnPgo=);
  --jp-icon-jupyter: url(data:image/svg+xml;base64,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);
  --jp-icon-jupyterlab-wordmark: url(data:image/svg+xml;base64,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);
  --jp-icon-kernel: url(data:image/svg+xml;base64,PHN2ZyB4bWxucz0iaHR0cDovL3d3dy53My5vcmcvMjAwMC9zdmciIHdpZHRoPSIxNiIgdmlld0JveD0iMCAwIDI0IDI0Ij4KICAgIDxwYXRoIGNsYXNzPSJqcC1pY29uMiIgZmlsbD0iIzYxNjE2MSIgZD0iTTE1IDlIOXY2aDZWOXptLTIgNGgtMnYtMmgydjJ6bTgtMlY5aC0yVjdjMC0xLjEtLjktMi0yLTJoLTJWM2gtMnYyaC0yVjNIOXYySDdjLTEuMSAwLTIgLjktMiAydjJIM3YyaDJ2MkgzdjJoMnYyYzAgMS4xLjkgMiAyIDJoMnYyaDJ2LTJoMnYyaDJ2LTJoMmMxLjEgMCAyLS45IDItMnYtMmgydi0yaC0ydi0yaDJ6bS00IDZIN1Y3aDEwdjEweiIvPgo8L3N2Zz4K);
  --jp-icon-keyboard: url(data:image/svg+xml;base64,PHN2ZyB4bWxucz0iaHR0cDovL3d3dy53My5vcmcvMjAwMC9zdmciIHdpZHRoPSIxNiIgdmlld0JveD0iMCAwIDI0IDI0Ij4KICA8cGF0aCBjbGFzcz0ianAtaWNvbjMganAtaWNvbi1zZWxlY3RhYmxlIiBmaWxsPSIjNjE2MTYxIiBkPSJNMjAgNUg0Yy0xLjEgMC0xLjk5LjktMS45OSAyTDIgMTdjMCAxLjEuOSAyIDIgMmgxNmMxLjEgMCAyLS45IDItMlY3YzAtMS4xLS45LTItMi0yem0tOSAzaDJ2MmgtMlY4em0wIDNoMnYyaC0ydi0yek04IDhoMnYySDhWOHptMCAzaDJ2Mkg4di0yem0tMSAySDV2LTJoMnYyem0wLTNINVY4aDJ2MnptOSA3SDh2LTJoOHYyem0wLTRoLTJ2LTJoMnYyem0wLTNoLTJWOGgydjJ6bTMgM2gtMnYtMmgydjJ6bTAtM2gtMlY4aDJ2MnoiLz4KPC9zdmc+Cg==);
  --jp-icon-launcher: url(data:image/svg+xml;base64,PHN2ZyB4bWxucz0iaHR0cDovL3d3dy53My5vcmcvMjAwMC9zdmciIHdpZHRoPSIxNiIgdmlld0JveD0iMCAwIDI0IDI0Ij4KICA8cGF0aCBjbGFzcz0ianAtaWNvbjMganAtaWNvbi1zZWxlY3RhYmxlIiBmaWxsPSIjNjE2MTYxIiBkPSJNMTkgMTlINVY1aDdWM0g1YTIgMiAwIDAwLTIgMnYxNGEyIDIgMCAwMDIgMmgxNGMxLjEgMCAyLS45IDItMnYtN2gtMnY3ek0xNCAzdjJoMy41OWwtOS44MyA5LjgzIDEuNDEgMS40MUwxOSA2LjQxVjEwaDJWM2gtN3oiLz4KPC9zdmc+Cg==);
  --jp-icon-line-form: url(data:image/svg+xml;base64,PHN2ZyB4bWxucz0iaHR0cDovL3d3dy53My5vcmcvMjAwMC9zdmciIHdpZHRoPSIxNiIgdmlld0JveD0iMCAwIDI0IDI0Ij4KICAgIDxwYXRoIGZpbGw9IndoaXRlIiBkPSJNNS44OCA0LjEyTDEzLjc2IDEybC03Ljg4IDcuODhMOCAyMmwxMC0xMEw4IDJ6Ii8+Cjwvc3ZnPgo=);
  --jp-icon-link: url(data:image/svg+xml;base64,PHN2ZyB2aWV3Qm94PSIwIDAgMjQgMjQiIHdpZHRoPSIxNiIgeG1sbnM9Imh0dHA6Ly93d3cudzMub3JnLzIwMDAvc3ZnIj4KICA8ZyBjbGFzcz0ianAtaWNvbjMiIGZpbGw9IiM2MTYxNjEiPgogICAgPHBhdGggZD0iTTMuOSAxMmMwLTEuNzEgMS4zOS0zLjEgMy4xLTMuMWg0VjdIN2MtMi43NiAwLTUgMi4yNC01IDVzMi4yNCA1IDUgNWg0di0xLjlIN2MtMS43MSAwLTMuMS0xLjM5LTMuMS0zLjF6TTggMTNoOHYtMkg4djJ6bTktNmgtNHYxLjloNGMxLjcxIDAgMy4xIDEuMzkgMy4xIDMuMXMtMS4zOSAzLjEtMy4xIDMuMWgtNFYxN2g0YzIuNzYgMCA1LTIuMjQgNS01cy0yLjI0LTUtNS01eiIvPgogIDwvZz4KPC9zdmc+Cg==);
  --jp-icon-list: url(data:image/svg+xml;base64,PHN2ZyB4bWxucz0iaHR0cDovL3d3dy53My5vcmcvMjAwMC9zdmciIHdpZHRoPSIxNiIgdmlld0JveD0iMCAwIDI0IDI0Ij4KICAgIDxwYXRoIGNsYXNzPSJqcC1pY29uMiBqcC1pY29uLXNlbGVjdGFibGUiIGZpbGw9IiM2MTYxNjEiIGQ9Ik0xOSA1djE0SDVWNWgxNG0xLjEtMkgzLjljLS41IDAtLjkuNC0uOS45djE2LjJjMCAuNC40LjkuOS45aDE2LjJjLjQgMCAuOS0uNS45LS45VjMuOWMwLS41LS41LS45LS45LS45ek0xMSA3aDZ2MmgtNlY3em0wIDRoNnYyaC02di0yem0wIDRoNnYyaC02ek03IDdoMnYySDd6bTAgNGgydjJIN3ptMCA0aDJ2Mkg3eiIvPgo8L3N2Zz4=);
  --jp-icon-listings-info: url(data:image/svg+xml;base64,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);
  --jp-icon-markdown: url(data:image/svg+xml;base64,PHN2ZyB4bWxucz0iaHR0cDovL3d3dy53My5vcmcvMjAwMC9zdmciIHdpZHRoPSIxNiIgdmlld0JveD0iMCAwIDIyIDIyIj4KICA8cGF0aCBjbGFzcz0ianAtaWNvbi1jb250cmFzdDAganAtaWNvbi1zZWxlY3RhYmxlIiBmaWxsPSIjN0IxRkEyIiBkPSJNNSAxNC45aDEybC02LjEgNnptOS40LTYuOGMwLTEuMy0uMS0yLjktLjEtNC41LS40IDEuNC0uOSAyLjktMS4zIDQuM2wtMS4zIDQuM2gtMkw4LjUgNy45Yy0uNC0xLjMtLjctMi45LTEtNC4zLS4xIDEuNi0uMSAzLjItLjIgNC42TDcgMTIuNEg0LjhsLjctMTFoMy4zTDEwIDVjLjQgMS4yLjcgMi43IDEgMy45LjMtMS4yLjctMi42IDEtMy45bDEuMi0zLjdoMy4zbC42IDExaC0yLjRsLS4zLTQuMnoiLz4KPC9zdmc+Cg==);
  --jp-icon-new-folder: url(data:image/svg+xml;base64,PHN2ZyB4bWxucz0iaHR0cDovL3d3dy53My5vcmcvMjAwMC9zdmciIHdpZHRoPSIxNiIgdmlld0JveD0iMCAwIDI0IDI0Ij4KICA8ZyBjbGFzcz0ianAtaWNvbjMiIGZpbGw9IiM2MTYxNjEiPgogICAgPHBhdGggZD0iTTIwIDZoLThsLTItMkg0Yy0xLjExIDAtMS45OS44OS0xLjk5IDJMMiAxOGMwIDEuMTEuODkgMiAyIDJoMTZjMS4xMSAwIDItLjg5IDItMlY4YzAtMS4xMS0uODktMi0yLTJ6bS0xIDhoLTN2M2gtMnYtM2gtM3YtMmgzVjloMnYzaDN2MnoiLz4KICA8L2c+Cjwvc3ZnPgo=);
  --jp-icon-not-trusted: url(data:image/svg+xml;base64,PHN2ZyBmaWxsPSJub25lIiB4bWxucz0iaHR0cDovL3d3dy53My5vcmcvMjAwMC9zdmciIHdpZHRoPSIxNiIgdmlld0JveD0iMCAwIDI1IDI1Ij4KICAgIDxwYXRoIGNsYXNzPSJqcC1pY29uMiIgc3Ryb2tlPSIjMzMzMzMzIiBzdHJva2Utd2lkdGg9IjIiIHRyYW5zZm9ybT0idHJhbnNsYXRlKDMgMykiIGQ9Ik0xLjg2MDk0IDExLjQ0MDlDMC44MjY0NDggOC43NzAyNyAwLjg2Mzc3OSA2LjA1NzY0IDEuMjQ5MDcgNC4xOTkzMkMyLjQ4MjA2IDMuOTMzNDcgNC4wODA2OCAzLjQwMzQ3IDUuNjAxMDIgMi44NDQ5QzcuMjM1NDkgMi4yNDQ0IDguODU2NjYgMS41ODE1IDkuOTg3NiAxLjA5NTM5QzExLjA1OTcgMS41ODM0MSAxMi42MDk0IDIuMjQ0NCAxNC4yMTggMi44NDMzOUMxNS43NTAzIDMuNDEzOTQgMTcuMzk5NSAzLjk1MjU4IDE4Ljc1MzkgNC4yMTM4NUMxOS4xMzY0IDYuMDcxNzcgMTkuMTcwOSA4Ljc3NzIyIDE4LjEzOSAxMS40NDA5QzE3LjAzMDMgMTQuMzAzMiAxNC42NjY4IDE3LjE4NDQgOS45OTk5OSAxOC45MzU0QzUuMzMzMTkgMTcuMTg0NCAyLjk2OTY4IDE0LjMwMzIgMS44NjA5NCAxMS40NDA5WiIvPgogICAgPHBhdGggY2xhc3M9ImpwLWljb24yIiBzdHJva2U9IiMzMzMzMzMiIHN0cm9rZS13aWR0aD0iMiIgdHJhbnNmb3JtPSJ0cmFuc2xhdGUoOS4zMTU5MiA5LjMyMDMxKSIgZD0iTTcuMzY4NDIgMEwwIDcuMzY0NzkiLz4KICAgIDxwYXRoIGNsYXNzPSJqcC1pY29uMiIgc3Ryb2tlPSIjMzMzMzMzIiBzdHJva2Utd2lkdGg9IjIiIHRyYW5zZm9ybT0idHJhbnNsYXRlKDkuMzE1OTIgMTYuNjgzNikgc2NhbGUoMSAtMSkiIGQ9Ik03LjM2ODQyIDBMMCA3LjM2NDc5Ii8+Cjwvc3ZnPgo=);
  --jp-icon-notebook: url(data:image/svg+xml;base64,PHN2ZyB4bWxucz0iaHR0cDovL3d3dy53My5vcmcvMjAwMC9zdmciIHdpZHRoPSIxNiIgdmlld0JveD0iMCAwIDIyIDIyIj4KICA8ZyBjbGFzcz0ianAtaWNvbi13YXJuMCBqcC1pY29uLXNlbGVjdGFibGUiIGZpbGw9IiNFRjZDMDAiPgogICAgPHBhdGggZD0iTTE4LjcgMy4zdjE1LjRIMy4zVjMuM2gxNS40bTEuNS0xLjVIMS44djE4LjNoMTguM2wuMS0xOC4zeiIvPgogICAgPHBhdGggZD0iTTE2LjUgMTYuNWwtNS40LTQuMy01LjYgNC4zdi0xMWgxMXoiLz4KICA8L2c+Cjwvc3ZnPgo=);
  --jp-icon-numbering: url(data:image/svg+xml;base64,PHN2ZyB3aWR0aD0iMjIiIGhlaWdodD0iMjIiIHZpZXdCb3g9IjAgMCAyOCAyOCIgeG1sbnM9Imh0dHA6Ly93d3cudzMub3JnLzIwMDAvc3ZnIj4KCTxnIGNsYXNzPSJqcC1pY29uMyIgZmlsbD0iIzYxNjE2MSI+CgkJPHBhdGggZD0iTTQgMTlINlYxOS41SDVWMjAuNUg2VjIxSDRWMjJIN1YxOEg0VjE5Wk01IDEwSDZWNkg0VjdINVYxMFpNNCAxM0g1LjhMNCAxNS4xVjE2SDdWMTVINS4yTDcgMTIuOVYxMkg0VjEzWk05IDdWOUgyM1Y3SDlaTTkgMjFIMjNWMTlIOVYyMVpNOSAxNUgyM1YxM0g5VjE1WiIvPgoJPC9nPgo8L3N2Zz4K);
  --jp-icon-offline-bolt: url(data:image/svg+xml;base64,PHN2ZyB4bWxucz0iaHR0cDovL3d3dy53My5vcmcvMjAwMC9zdmciIHZpZXdCb3g9IjAgMCAyNCAyNCIgd2lkdGg9IjE2Ij4KICA8ZyBjbGFzcz0ianAtaWNvbjMiIGZpbGw9IiM2MTYxNjEiPgogICAgPHBhdGggZD0iTTEyIDIuMDJjLTUuNTEgMC05Ljk4IDQuNDctOS45OCA5Ljk4czQuNDcgOS45OCA5Ljk4IDkuOTggOS45OC00LjQ3IDkuOTgtOS45OFMxNy41MSAyLjAyIDEyIDIuMDJ6TTExLjQ4IDIwdi02LjI2SDhMMTMgNHY2LjI2aDMuMzVMMTEuNDggMjB6Ii8+CiAgPC9nPgo8L3N2Zz4K);
  --jp-icon-palette: url(data:image/svg+xml;base64,PHN2ZyB4bWxucz0iaHR0cDovL3d3dy53My5vcmcvMjAwMC9zdmciIHdpZHRoPSIxNiIgdmlld0JveD0iMCAwIDI0IDI0Ij4KICA8ZyBjbGFzcz0ianAtaWNvbjMiIGZpbGw9IiM2MTYxNjEiPgogICAgPHBhdGggZD0iTTE4IDEzVjIwSDRWNkg5LjAyQzkuMDcgNS4yOSA5LjI0IDQuNjIgOS41IDRINEMyLjkgNCAyIDQuOSAyIDZWMjBDMiAyMS4xIDIuOSAyMiA0IDIySDE4QzE5LjEgMjIgMjAgMjEuMSAyMCAyMFYxNUwxOCAxM1pNMTkuMyA4Ljg5QzE5Ljc0IDguMTkgMjAgNy4zOCAyMCA2LjVDMjAgNC4wMSAxNy45OSAyIDE1LjUgMkMxMy4wMSAyIDExIDQuMDEgMTEgNi41QzExIDguOTkgMTMuMDEgMTEgMTUuNDkgMTFDMTYuMzcgMTEgMTcuMTkgMTAuNzQgMTcuODggMTAuM0wyMSAxMy40MkwyMi40MiAxMkwxOS4zIDguODlaTTE1LjUgOUMxNC4xMiA5IDEzIDcuODggMTMgNi41QzEzIDUuMTIgMTQuMTIgNCAxNS41IDRDMTYuODggNCAxOCA1LjEyIDE4IDYuNUMxOCA3Ljg4IDE2Ljg4IDkgMTUuNSA5WiIvPgogICAgPHBhdGggZmlsbC1ydWxlPSJldmVub2RkIiBjbGlwLXJ1bGU9ImV2ZW5vZGQiIGQ9Ik00IDZIOS4wMTg5NEM5LjAwNjM5IDYuMTY1MDIgOSA2LjMzMTc2IDkgNi41QzkgOC44MTU3NyAxMC4yMTEgMTAuODQ4NyAxMi4wMzQzIDEySDlWMTRIMTZWMTIuOTgxMUMxNi41NzAzIDEyLjkzNzcgMTcuMTIgMTIuODIwNyAxNy42Mzk2IDEyLjYzOTZMMTggMTNWMjBINFY2Wk04IDhINlYxMEg4VjhaTTYgMTJIOFYxNEg2VjEyWk04IDE2SDZWMThIOFYxNlpNOSAxNkgxNlYxOEg5VjE2WiIvPgogIDwvZz4KPC9zdmc+Cg==);
  --jp-icon-paste: url(data:image/svg+xml;base64,PHN2ZyBoZWlnaHQ9IjI0IiB2aWV3Qm94PSIwIDAgMjQgMjQiIHdpZHRoPSIyNCIgeG1sbnM9Imh0dHA6Ly93d3cudzMub3JnLzIwMDAvc3ZnIj4KICAgIDxnIGNsYXNzPSJqcC1pY29uMyIgZmlsbD0iIzYxNjE2MSI+CiAgICAgICAgPHBhdGggZD0iTTE5IDJoLTQuMThDMTQuNC44NCAxMy4zIDAgMTIgMGMtMS4zIDAtMi40Ljg0LTIuODIgMkg1Yy0xLjEgMC0yIC45LTIgMnYxNmMwIDEuMS45IDIgMiAyaDE0YzEuMSAwIDItLjkgMi0yVjRjMC0xLjEtLjktMi0yLTJ6bS03IDBjLjU1IDAgMSAuNDUgMSAxcy0uNDUgMS0xIDEtMS0uNDUtMS0xIC40NS0xIDEtMXptNyAxOEg1VjRoMnYzaDEwVjRoMnYxNnoiLz4KICAgIDwvZz4KPC9zdmc+Cg==);
  --jp-icon-pdf: url(data:image/svg+xml;base64,PHN2ZwogICB4bWxucz0iaHR0cDovL3d3dy53My5vcmcvMjAwMC9zdmciIHZpZXdCb3g9IjAgMCAyMiAyMiIgd2lkdGg9IjE2Ij4KICAgIDxwYXRoIHRyYW5zZm9ybT0icm90YXRlKDQ1KSIgY2xhc3M9ImpwLWljb24tc2VsZWN0YWJsZSIgZmlsbD0iI0ZGMkEyQSIKICAgICAgIGQ9Im0gMjIuMzQ0MzY5LC0zLjAxNjM2NDIgaCA1LjYzODYwNCB2IDEuNTc5MjQzMyBoIC0zLjU0OTIyNyB2IDEuNTA4NjkyOTkgaCAzLjMzNzU3NiBWIDEuNjUwODE1NCBoIC0zLjMzNzU3NiB2IDMuNDM1MjYxMyBoIC0yLjA4OTM3NyB6IG0gLTcuMTM2NDQ0LDEuNTc5MjQzMyB2IDQuOTQzOTU0MyBoIDAuNzQ4OTIgcSAxLjI4MDc2MSwwIDEuOTUzNzAzLC0wLjYzNDk1MzUgMC42NzgzNjksLTAuNjM0OTUzNSAwLjY3ODM2OSwtMS44NDUxNjQxIDAsLTEuMjA0NzgzNTUgLTAuNjcyOTQyLC0xLjgzNDMxMDExIC0wLjY3Mjk0MiwtMC42Mjk1MjY1OSAtMS45NTkxMywtMC42Mjk1MjY1OSB6IG0gLTIuMDg5Mzc3LC0xLjU3OTI0MzMgaCAyLjIwMzM0MyBxIDEuODQ1MTY0LDAgMi43NDYwMzksMC4yNjU5MjA3IDAuOTA2MzAxLDAuMjYwNDkzNyAxLjU1MjEwOCwwLjg5MDAyMDMgMC41Njk4MywwLjU0ODEyMjMgMC44NDY2MDUsMS4yNjQ0ODAwNiAwLjI3Njc3NCwwLjcxNjM1NzgxIDAuMjc2Nzc0LDEuNjIyNjU4OTQgMCwwLjkxNzE1NTEgLTAuMjc2Nzc0LDEuNjM4OTM5OSAtMC4yNzY3NzUsMC43MTYzNTc4IC0wLjg0NjYwNSwxLjI2NDQ4IC0wLjY1MTIzNCwwLjYyOTUyNjYgLTEuNTYyOTYyLDAuODk1NDQ3MyAtMC45MTE3MjgsMC4yNjA0OTM3IC0yLjczNTE4NSwwLjI2MDQ5MzcgaCAtMi4yMDMzNDMgeiBtIC04LjE0NTg1NjUsMCBoIDMuNDY3ODIzIHEgMS41NDY2ODE2LDAgMi4zNzE1Nzg1LDAuNjg5MjIzIDAuODMwMzI0LDAuNjgzNzk2MSAwLjgzMDMyNCwxLjk1MzcwMzE0IDAsMS4yNzUzMzM5NyAtMC44MzAzMjQsMS45NjQ1NTcwNiBRIDkuOTg3MTk2MSwyLjI3NDkxNSA4LjQ0MDUxNDUsMi4yNzQ5MTUgSCA3LjA2MjA2ODQgViA1LjA4NjA3NjcgSCA0Ljk3MjY5MTUgWiBtIDIuMDg5Mzc2OSwxLjUxNDExOTkgdiAyLjI2MzAzOTQzIGggMS4xNTU5NDEgcSAwLjYwNzgxODgsMCAwLjkzODg2MjksLTAuMjkzMDU1NDcgMC4zMzEwNDQxLC0wLjI5ODQ4MjQxIDAuMzMxMDQ0MSwtMC44NDExNzc3MiAwLC0wLjU0MjY5NTMxIC0wLjMzMTA0NDEsLTAuODM1NzUwNzQgLTAuMzMxMDQ0MSwtMC4yOTMwNTU1IC0wLjkzODg2MjksLTAuMjkzMDU1NSB6IgovPgo8L3N2Zz4K);
  --jp-icon-python: url(data:image/svg+xml;base64,PHN2ZyB4bWxucz0iaHR0cDovL3d3dy53My5vcmcvMjAwMC9zdmciIHdpZHRoPSIxNiIgdmlld0JveD0iMCAwIDIyIDIyIj4KICA8ZyBjbGFzcz0ianAtaWNvbi1icmFuZDAganAtaWNvbi1zZWxlY3RhYmxlIiBmaWxsPSIjMEQ0N0ExIj4KICAgIDxwYXRoIGQ9Ik0xMS4xIDYuOVY1LjhINi45YzAtLjUgMC0xLjMuMi0xLjYuNC0uNy44LTEuMSAxLjctMS40IDEuNy0uMyAyLjUtLjMgMy45LS4xIDEgLjEgMS45LjkgMS45IDEuOXY0LjJjMCAuNS0uOSAxLjYtMiAxLjZIOC44Yy0xLjUgMC0yLjQgMS40LTIuNCAyLjh2Mi4ySDQuN0MzLjUgMTUuMSAzIDE0IDMgMTMuMVY5Yy0uMS0xIC42LTIgMS44LTIgMS41LS4xIDYuMy0uMSA2LjMtLjF6Ii8+CiAgICA8cGF0aCBkPSJNMTAuOSAxNS4xdjEuMWg0LjJjMCAuNSAwIDEuMy0uMiAxLjYtLjQuNy0uOCAxLjEtMS43IDEuNC0xLjcuMy0yLjUuMy0zLjkuMS0xLS4xLTEuOS0uOS0xLjktMS45di00LjJjMC0uNS45LTEuNiAyLTEuNmgzLjhjMS41IDAgMi40LTEuNCAyLjQtMi44VjYuNmgxLjdDMTguNSA2LjkgMTkgOCAxOSA4LjlWMTNjMCAxLS43IDIuMS0xLjkgMi4xaC02LjJ6Ii8+CiAgPC9nPgo8L3N2Zz4K);
  --jp-icon-r-kernel: url(data:image/svg+xml;base64,PHN2ZyB4bWxucz0iaHR0cDovL3d3dy53My5vcmcvMjAwMC9zdmciIHdpZHRoPSIxNiIgdmlld0JveD0iMCAwIDIyIDIyIj4KICA8cGF0aCBjbGFzcz0ianAtaWNvbi1jb250cmFzdDMganAtaWNvbi1zZWxlY3RhYmxlIiBmaWxsPSIjMjE5NkYzIiBkPSJNNC40IDIuNWMxLjItLjEgMi45LS4zIDQuOS0uMyAyLjUgMCA0LjEuNCA1LjIgMS4zIDEgLjcgMS41IDEuOSAxLjUgMy41IDAgMi0xLjQgMy41LTIuOSA0LjEgMS4yLjQgMS43IDEuNiAyLjIgMyAuNiAxLjkgMSAzLjkgMS4zIDQuNmgtMy44Yy0uMy0uNC0uOC0xLjctMS4yLTMuN3MtMS4yLTIuNi0yLjYtMi42aC0uOXY2LjRINC40VjIuNXptMy43IDYuOWgxLjRjMS45IDAgMi45LS45IDIuOS0yLjNzLTEtMi4zLTIuOC0yLjNjLS43IDAtMS4zIDAtMS42LjJ2NC41aC4xdi0uMXoiLz4KPC9zdmc+Cg==);
  --jp-icon-react: url(data:image/svg+xml;base64,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);
  --jp-icon-redo: url(data:image/svg+xml;base64,PHN2ZyB4bWxucz0iaHR0cDovL3d3dy53My5vcmcvMjAwMC9zdmciIGhlaWdodD0iMjQiIHZpZXdCb3g9IjAgMCAyNCAyNCIgd2lkdGg9IjE2Ij4KICA8ZyBjbGFzcz0ianAtaWNvbjMiIGZpbGw9IiM2MTYxNjEiPgogICAgICA8cGF0aCBkPSJNMCAwaDI0djI0SDB6IiBmaWxsPSJub25lIi8+PHBhdGggZD0iTTE4LjQgMTAuNkMxNi41NSA4Ljk5IDE0LjE1IDggMTEuNSA4Yy00LjY1IDAtOC41OCAzLjAzLTkuOTYgNy4yMkwzLjkgMTZjMS4wNS0zLjE5IDQuMDUtNS41IDcuNi01LjUgMS45NSAwIDMuNzMuNzIgNS4xMiAxLjg4TDEzIDE2aDlWN2wtMy42IDMuNnoiLz4KICA8L2c+Cjwvc3ZnPgo=);
  --jp-icon-refresh: url(data:image/svg+xml;base64,PHN2ZyB4bWxucz0iaHR0cDovL3d3dy53My5vcmcvMjAwMC9zdmciIHdpZHRoPSIxNiIgdmlld0JveD0iMCAwIDE4IDE4Ij4KICAgIDxnIGNsYXNzPSJqcC1pY29uMyIgZmlsbD0iIzYxNjE2MSI+CiAgICAgICAgPHBhdGggZD0iTTkgMTMuNWMtMi40OSAwLTQuNS0yLjAxLTQuNS00LjVTNi41MSA0LjUgOSA0LjVjMS4yNCAwIDIuMzYuNTIgMy4xNyAxLjMzTDEwIDhoNVYzbC0xLjc2IDEuNzZDMTIuMTUgMy42OCAxMC42NiAzIDkgMyA1LjY5IDMgMy4wMSA1LjY5IDMuMDEgOVM1LjY5IDE1IDkgMTVjMi45NyAwIDUuNDMtMi4xNiA1LjktNWgtMS41MmMtLjQ2IDItMi4yNCAzLjUtNC4zOCAzLjV6Ii8+CiAgICA8L2c+Cjwvc3ZnPgo=);
  --jp-icon-regex: url(data:image/svg+xml;base64,PHN2ZyB4bWxucz0iaHR0cDovL3d3dy53My5vcmcvMjAwMC9zdmciIHdpZHRoPSIxNiIgdmlld0JveD0iMCAwIDIwIDIwIj4KICA8ZyBjbGFzcz0ianAtaWNvbjIiIGZpbGw9IiM0MTQxNDEiPgogICAgPHJlY3QgeD0iMiIgeT0iMiIgd2lkdGg9IjE2IiBoZWlnaHQ9IjE2Ii8+CiAgPC9nPgoKICA8ZyBjbGFzcz0ianAtaWNvbi1hY2NlbnQyIiBmaWxsPSIjRkZGIj4KICAgIDxjaXJjbGUgY2xhc3M9InN0MiIgY3g9IjUuNSIgY3k9IjE0LjUiIHI9IjEuNSIvPgogICAgPHJlY3QgeD0iMTIiIHk9IjQiIGNsYXNzPSJzdDIiIHdpZHRoPSIxIiBoZWlnaHQ9IjgiLz4KICAgIDxyZWN0IHg9IjguNSIgeT0iNy41IiB0cmFuc2Zvcm09Im1hdHJpeCgwLjg2NiAtMC41IDAuNSAwLjg2NiAtMi4zMjU1IDcuMzIxOSkiIGNsYXNzPSJzdDIiIHdpZHRoPSI4IiBoZWlnaHQ9IjEiLz4KICAgIDxyZWN0IHg9IjEyIiB5PSI0IiB0cmFuc2Zvcm09Im1hdHJpeCgwLjUgLTAuODY2IDAuODY2IDAuNSAtMC42Nzc5IDE0LjgyNTIpIiBjbGFzcz0ic3QyIiB3aWR0aD0iMSIgaGVpZ2h0PSI4Ii8+CiAgPC9nPgo8L3N2Zz4K);
  --jp-icon-run: url(data:image/svg+xml;base64,PHN2ZyBoZWlnaHQ9IjI0IiB2aWV3Qm94PSIwIDAgMjQgMjQiIHdpZHRoPSIyNCIgeG1sbnM9Imh0dHA6Ly93d3cudzMub3JnLzIwMDAvc3ZnIj4KICAgIDxnIGNsYXNzPSJqcC1pY29uMyIgZmlsbD0iIzYxNjE2MSI+CiAgICAgICAgPHBhdGggZD0iTTggNXYxNGwxMS03eiIvPgogICAgPC9nPgo8L3N2Zz4K);
  --jp-icon-running: url(data:image/svg+xml;base64,PHN2ZyB4bWxucz0iaHR0cDovL3d3dy53My5vcmcvMjAwMC9zdmciIHdpZHRoPSIxNiIgdmlld0JveD0iMCAwIDUxMiA1MTIiPgogIDxnIGNsYXNzPSJqcC1pY29uMyIgZmlsbD0iIzYxNjE2MSI+CiAgICA8cGF0aCBkPSJNMjU2IDhDMTE5IDggOCAxMTkgOCAyNTZzMTExIDI0OCAyNDggMjQ4IDI0OC0xMTEgMjQ4LTI0OFMzOTMgOCAyNTYgOHptOTYgMzI4YzAgOC44LTcuMiAxNi0xNiAxNkgxNzZjLTguOCAwLTE2LTcuMi0xNi0xNlYxNzZjMC04LjggNy4yLTE2IDE2LTE2aDE2MGM4LjggMCAxNiA3LjIgMTYgMTZ2MTYweiIvPgogIDwvZz4KPC9zdmc+Cg==);
  --jp-icon-save: url(data:image/svg+xml;base64,PHN2ZyBoZWlnaHQ9IjI0IiB2aWV3Qm94PSIwIDAgMjQgMjQiIHdpZHRoPSIyNCIgeG1sbnM9Imh0dHA6Ly93d3cudzMub3JnLzIwMDAvc3ZnIj4KICAgIDxnIGNsYXNzPSJqcC1pY29uMyIgZmlsbD0iIzYxNjE2MSI+CiAgICAgICAgPHBhdGggZD0iTTE3IDNINWMtMS4xMSAwLTIgLjktMiAydjE0YzAgMS4xLjg5IDIgMiAyaDE0YzEuMSAwIDItLjkgMi0yVjdsLTQtNHptLTUgMTZjLTEuNjYgMC0zLTEuMzQtMy0zczEuMzQtMyAzLTMgMyAxLjM0IDMgMy0xLjM0IDMtMyAzem0zLTEwSDVWNWgxMHY0eiIvPgogICAgPC9nPgo8L3N2Zz4K);
  --jp-icon-search: url(data:image/svg+xml;base64,PHN2ZyB2aWV3Qm94PSIwIDAgMTggMTgiIHdpZHRoPSIxNiIgeG1sbnM9Imh0dHA6Ly93d3cudzMub3JnLzIwMDAvc3ZnIj4KICA8ZyBjbGFzcz0ianAtaWNvbjMiIGZpbGw9IiM2MTYxNjEiPgogICAgPHBhdGggZD0iTTEyLjEsMTAuOWgtMC43bC0wLjItMC4yYzAuOC0wLjksMS4zLTIuMiwxLjMtMy41YzAtMy0yLjQtNS40LTUuNC01LjRTMS44LDQuMiwxLjgsNy4xczIuNCw1LjQsNS40LDUuNCBjMS4zLDAsMi41LTAuNSwzLjUtMS4zbDAuMiwwLjJ2MC43bDQuMSw0LjFsMS4yLTEuMkwxMi4xLDEwLjl6IE03LjEsMTAuOWMtMi4xLDAtMy43LTEuNy0zLjctMy43czEuNy0zLjcsMy43LTMuN3MzLjcsMS43LDMuNywzLjcgUzkuMiwxMC45LDcuMSwxMC45eiIvPgogIDwvZz4KPC9zdmc+Cg==);
  --jp-icon-settings: url(data:image/svg+xml;base64,PHN2ZyB4bWxucz0iaHR0cDovL3d3dy53My5vcmcvMjAwMC9zdmciIHdpZHRoPSIxNiIgdmlld0JveD0iMCAwIDI0IDI0Ij4KICA8cGF0aCBjbGFzcz0ianAtaWNvbjMganAtaWNvbi1zZWxlY3RhYmxlIiBmaWxsPSIjNjE2MTYxIiBkPSJNMTkuNDMgMTIuOThjLjA0LS4zMi4wNy0uNjQuMDctLjk4cy0uMDMtLjY2LS4wNy0uOThsMi4xMS0xLjY1Yy4xOS0uMTUuMjQtLjQyLjEyLS42NGwtMi0zLjQ2Yy0uMTItLjIyLS4zOS0uMy0uNjEtLjIybC0yLjQ5IDFjLS41Mi0uNC0xLjA4LS43My0xLjY5LS45OGwtLjM4LTIuNjVBLjQ4OC40ODggMCAwMDE0IDJoLTRjLS4yNSAwLS40Ni4xOC0uNDkuNDJsLS4zOCAyLjY1Yy0uNjEuMjUtMS4xNy41OS0xLjY5Ljk4bC0yLjQ5LTFjLS4yMy0uMDktLjQ5IDAtLjYxLjIybC0yIDMuNDZjLS4xMy4yMi0uMDcuNDkuMTIuNjRsMi4xMSAxLjY1Yy0uMDQuMzItLjA3LjY1LS4wNy45OHMuMDMuNjYuMDcuOThsLTIuMTEgMS42NWMtLjE5LjE1LS4yNC40Mi0uMTIuNjRsMiAzLjQ2Yy4xMi4yMi4zOS4zLjYxLjIybDIuNDktMWMuNTIuNCAxLjA4LjczIDEuNjkuOThsLjM4IDIuNjVjLjAzLjI0LjI0LjQyLjQ5LjQyaDRjLjI1IDAgLjQ2LS4xOC40OS0uNDJsLjM4LTIuNjVjLjYxLS4yNSAxLjE3LS41OSAxLjY5LS45OGwyLjQ5IDFjLjIzLjA5LjQ5IDAgLjYxLS4yMmwyLTMuNDZjLjEyLS4yMi4wNy0uNDktLjEyLS42NGwtMi4xMS0xLjY1ek0xMiAxNS41Yy0xLjkzIDAtMy41LTEuNTctMy41LTMuNXMxLjU3LTMuNSAzLjUtMy41IDMuNSAxLjU3IDMuNSAzLjUtMS41NyAzLjUtMy41IDMuNXoiLz4KPC9zdmc+Cg==);
  --jp-icon-spreadsheet: url(data:image/svg+xml;base64,PHN2ZyB4bWxucz0iaHR0cDovL3d3dy53My5vcmcvMjAwMC9zdmciIHdpZHRoPSIxNiIgdmlld0JveD0iMCAwIDIyIDIyIj4KICA8cGF0aCBjbGFzcz0ianAtaWNvbi1jb250cmFzdDEganAtaWNvbi1zZWxlY3RhYmxlIiBmaWxsPSIjNENBRjUwIiBkPSJNMi4yIDIuMnYxNy42aDE3LjZWMi4ySDIuMnptMTUuNCA3LjdoLTUuNVY0LjRoNS41djUuNXpNOS45IDQuNHY1LjVINC40VjQuNGg1LjV6bS01LjUgNy43aDUuNXY1LjVINC40di01LjV6bTcuNyA1LjV2LTUuNWg1LjV2NS41aC01LjV6Ii8+Cjwvc3ZnPgo=);
  --jp-icon-stop: url(data:image/svg+xml;base64,PHN2ZyBoZWlnaHQ9IjI0IiB2aWV3Qm94PSIwIDAgMjQgMjQiIHdpZHRoPSIyNCIgeG1sbnM9Imh0dHA6Ly93d3cudzMub3JnLzIwMDAvc3ZnIj4KICAgIDxnIGNsYXNzPSJqcC1pY29uMyIgZmlsbD0iIzYxNjE2MSI+CiAgICAgICAgPHBhdGggZD0iTTAgMGgyNHYyNEgweiIgZmlsbD0ibm9uZSIvPgogICAgICAgIDxwYXRoIGQ9Ik02IDZoMTJ2MTJINnoiLz4KICAgIDwvZz4KPC9zdmc+Cg==);
  --jp-icon-tab: url(data:image/svg+xml;base64,PHN2ZyB4bWxucz0iaHR0cDovL3d3dy53My5vcmcvMjAwMC9zdmciIHdpZHRoPSIxNiIgdmlld0JveD0iMCAwIDI0IDI0Ij4KICA8ZyBjbGFzcz0ianAtaWNvbjMiIGZpbGw9IiM2MTYxNjEiPgogICAgPHBhdGggZD0iTTIxIDNIM2MtMS4xIDAtMiAuOS0yIDJ2MTRjMCAxLjEuOSAyIDIgMmgxOGMxLjEgMCAyLS45IDItMlY1YzAtMS4xLS45LTItMi0yem0wIDE2SDNWNWgxMHY0aDh2MTB6Ii8+CiAgPC9nPgo8L3N2Zz4K);
  --jp-icon-table-rows: url(data:image/svg+xml;base64,PHN2ZyBoZWlnaHQ9IjI0IiB2aWV3Qm94PSIwIDAgMjQgMjQiIHdpZHRoPSIyNCIgeG1sbnM9Imh0dHA6Ly93d3cudzMub3JnLzIwMDAvc3ZnIj4KICAgIDxnIGNsYXNzPSJqcC1pY29uMyIgZmlsbD0iIzYxNjE2MSI+CiAgICAgICAgPHBhdGggZD0iTTAgMGgyNHYyNEgweiIgZmlsbD0ibm9uZSIvPgogICAgICAgIDxwYXRoIGQ9Ik0yMSw4SDNWNGgxOFY4eiBNMjEsMTBIM3Y0aDE4VjEweiBNMjEsMTZIM3Y0aDE4VjE2eiIvPgogICAgPC9nPgo8L3N2Zz4=);
  --jp-icon-tag: url(data:image/svg+xml;base64,PHN2ZyB3aWR0aD0iMjgiIGhlaWdodD0iMjgiIHZpZXdCb3g9IjAgMCA0MyAyOCIgeG1sbnM9Imh0dHA6Ly93d3cudzMub3JnLzIwMDAvc3ZnIj4KCTxnIGNsYXNzPSJqcC1pY29uMyIgZmlsbD0iIzYxNjE2MSI+CgkJPHBhdGggZD0iTTI4LjgzMzIgMTIuMzM0TDMyLjk5OTggMTYuNTAwN0wzNy4xNjY1IDEyLjMzNEgyOC44MzMyWiIvPgoJCTxwYXRoIGQ9Ik0xNi4yMDk1IDIxLjYxMDRDMTUuNjg3MyAyMi4xMjk5IDE0Ljg0NDMgMjIuMTI5OSAxNC4zMjQ4IDIxLjYxMDRMNi45ODI5IDE0LjcyNDVDNi41NzI0IDE0LjMzOTQgNi4wODMxMyAxMy42MDk4IDYuMDQ3ODYgMTMuMDQ4MkM1Ljk1MzQ3IDExLjUyODggNi4wMjAwMiA4LjYxOTQ0IDYuMDY2MjEgNy4wNzY5NUM2LjA4MjgxIDYuNTE0NzcgNi41NTU0OCA2LjA0MzQ3IDcuMTE4MDQgNi4wMzA1NUM5LjA4ODYzIDUuOTg0NzMgMTMuMjYzOCA1LjkzNTc5IDEzLjY1MTggNi4zMjQyNUwyMS43MzY5IDEzLjYzOUMyMi4yNTYgMTQuMTU4NSAyMS43ODUxIDE1LjQ3MjQgMjEuMjYyIDE1Ljk5NDZMMTYuMjA5NSAyMS42MTA0Wk05Ljc3NTg1IDguMjY1QzkuMzM1NTEgNy44MjU2NiA4LjYyMzUxIDcuODI1NjYgOC4xODI4IDguMjY1QzcuNzQzNDYgOC43MDU3MSA3Ljc0MzQ2IDkuNDE3MzMgOC4xODI4IDkuODU2NjdDOC42MjM4MiAxMC4yOTY0IDkuMzM1ODIgMTAuMjk2NCA5Ljc3NTg1IDkuODU2NjdDMTAuMjE1NiA5LjQxNzMzIDEwLjIxNTYgOC43MDUzMyA5Ljc3NTg1IDguMjY1WiIvPgoJPC9nPgo8L3N2Zz4K);
  --jp-icon-terminal: url(data:image/svg+xml;base64,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);
  --jp-icon-text-editor: url(data:image/svg+xml;base64,PHN2ZyB4bWxucz0iaHR0cDovL3d3dy53My5vcmcvMjAwMC9zdmciIHdpZHRoPSIxNiIgdmlld0JveD0iMCAwIDI0IDI0Ij4KICA8cGF0aCBjbGFzcz0ianAtaWNvbjMganAtaWNvbi1zZWxlY3RhYmxlIiBmaWxsPSIjNjE2MTYxIiBkPSJNMTUgMTVIM3YyaDEydi0yem0wLThIM3YyaDEyVjd6TTMgMTNoMTh2LTJIM3Yyem0wIDhoMTh2LTJIM3Yyek0zIDN2MmgxOFYzSDN6Ii8+Cjwvc3ZnPgo=);
  --jp-icon-toc: url(data:image/svg+xml;base64,PHN2ZyB4bWxucz0iaHR0cDovL3d3dy53My5vcmcvMjAwMC9zdmciIHdpZHRoPSIyNCIgaGVpZ2h0PSIyNCIgdmlld0JveD0iMCAwIDI0IDI0Ij4KICA8ZyBjbGFzcz0ianAtaWNvbjMganAtaWNvbi1zZWxlY3RhYmxlIiBmaWxsPSIjNjE2MTYxIj4KICAgIDxwYXRoIGQ9Ik03LDVIMjFWN0g3VjVNNywxM1YxMUgyMVYxM0g3TTQsNC41QTEuNSwxLjUgMCAwLDEgNS41LDZBMS41LDEuNSAwIDAsMSA0LDcuNUExLjUsMS41IDAgMCwxIDIuNSw2QTEuNSwxLjUgMCAwLDEgNCw0LjVNNCwxMC41QTEuNSwxLjUgMCAwLDEgNS41LDEyQTEuNSwxLjUgMCAwLDEgNCwxMy41QTEuNSwxLjUgMCAwLDEgMi41LDEyQTEuNSwxLjUgMCAwLDEgNCwxMC41TTcsMTlWMTdIMjFWMTlIN000LDE2LjVBMS41LDEuNSAwIDAsMSA1LjUsMThBMS41LDEuNSAwIDAsMSA0LDE5LjVBMS41LDEuNSAwIDAsMSAyLjUsMThBMS41LDEuNSAwIDAsMSA0LDE2LjVaIiAvPgogIDwvZz4KPC9zdmc+Cg==);
  --jp-icon-tree-view: url(data:image/svg+xml;base64,PHN2ZyBoZWlnaHQ9IjI0IiB2aWV3Qm94PSIwIDAgMjQgMjQiIHdpZHRoPSIyNCIgeG1sbnM9Imh0dHA6Ly93d3cudzMub3JnLzIwMDAvc3ZnIj4KICAgIDxnIGNsYXNzPSJqcC1pY29uMyIgZmlsbD0iIzYxNjE2MSI+CiAgICAgICAgPHBhdGggZD0iTTAgMGgyNHYyNEgweiIgZmlsbD0ibm9uZSIvPgogICAgICAgIDxwYXRoIGQ9Ik0yMiAxMVYzaC03djNIOVYzSDJ2OGg3VjhoMnYxMGg0djNoN3YtOGgtN3YzaC0yVjhoMnYzeiIvPgogICAgPC9nPgo8L3N2Zz4=);
  --jp-icon-trusted: url(data:image/svg+xml;base64,PHN2ZyBmaWxsPSJub25lIiB4bWxucz0iaHR0cDovL3d3dy53My5vcmcvMjAwMC9zdmciIHdpZHRoPSIxNiIgdmlld0JveD0iMCAwIDI0IDI1Ij4KICAgIDxwYXRoIGNsYXNzPSJqcC1pY29uMiIgc3Ryb2tlPSIjMzMzMzMzIiBzdHJva2Utd2lkdGg9IjIiIHRyYW5zZm9ybT0idHJhbnNsYXRlKDIgMykiIGQ9Ik0xLjg2MDk0IDExLjQ0MDlDMC44MjY0NDggOC43NzAyNyAwLjg2Mzc3OSA2LjA1NzY0IDEuMjQ5MDcgNC4xOTkzMkMyLjQ4MjA2IDMuOTMzNDcgNC4wODA2OCAzLjQwMzQ3IDUuNjAxMDIgMi44NDQ5QzcuMjM1NDkgMi4yNDQ0IDguODU2NjYgMS41ODE1IDkuOTg3NiAxLjA5NTM5QzExLjA1OTcgMS41ODM0MSAxMi42MDk0IDIuMjQ0NCAxNC4yMTggMi44NDMzOUMxNS43NTAzIDMuNDEzOTQgMTcuMzk5NSAzLjk1MjU4IDE4Ljc1MzkgNC4yMTM4NUMxOS4xMzY0IDYuMDcxNzcgMTkuMTcwOSA4Ljc3NzIyIDE4LjEzOSAxMS40NDA5QzE3LjAzMDMgMTQuMzAzMiAxNC42NjY4IDE3LjE4NDQgOS45OTk5OSAxOC45MzU0QzUuMzMzMiAxNy4xODQ0IDIuOTY5NjggMTQuMzAzMiAxLjg2MDk0IDExLjQ0MDlaIi8+CiAgICA8cGF0aCBjbGFzcz0ianAtaWNvbjIiIGZpbGw9IiMzMzMzMzMiIHN0cm9rZT0iIzMzMzMzMyIgdHJhbnNmb3JtPSJ0cmFuc2xhdGUoOCA5Ljg2NzE5KSIgZD0iTTIuODYwMTUgNC44NjUzNUwwLjcyNjU0OSAyLjk5OTU5TDAgMy42MzA0NUwyLjg2MDE1IDYuMTMxNTdMOCAwLjYzMDg3Mkw3LjI3ODU3IDBMMi44NjAxNSA0Ljg2NTM1WiIvPgo8L3N2Zz4K);
  --jp-icon-undo: url(data:image/svg+xml;base64,PHN2ZyB2aWV3Qm94PSIwIDAgMjQgMjQiIHdpZHRoPSIxNiIgeG1sbnM9Imh0dHA6Ly93d3cudzMub3JnLzIwMDAvc3ZnIj4KICA8ZyBjbGFzcz0ianAtaWNvbjMiIGZpbGw9IiM2MTYxNjEiPgogICAgPHBhdGggZD0iTTEyLjUgOGMtMi42NSAwLTUuMDUuOTktNi45IDIuNkwyIDd2OWg5bC0zLjYyLTMuNjJjMS4zOS0xLjE2IDMuMTYtMS44OCA1LjEyLTEuODggMy41NCAwIDYuNTUgMi4zMSA3LjYgNS41bDIuMzctLjc4QzIxLjA4IDExLjAzIDE3LjE1IDggMTIuNSA4eiIvPgogIDwvZz4KPC9zdmc+Cg==);
  --jp-icon-vega: url(data:image/svg+xml;base64,PHN2ZyB4bWxucz0iaHR0cDovL3d3dy53My5vcmcvMjAwMC9zdmciIHdpZHRoPSIxNiIgdmlld0JveD0iMCAwIDIyIDIyIj4KICA8ZyBjbGFzcz0ianAtaWNvbjEganAtaWNvbi1zZWxlY3RhYmxlIiBmaWxsPSIjMjEyMTIxIj4KICAgIDxwYXRoIGQ9Ik0xMC42IDUuNGwyLjItMy4ySDIuMnY3LjNsNC02LjZ6Ii8+CiAgICA8cGF0aCBkPSJNMTUuOCAyLjJsLTQuNCA2LjZMNyA2LjNsLTQuOCA4djUuNWgxNy42VjIuMmgtNHptLTcgMTUuNEg1LjV2LTQuNGgzLjN2NC40em00LjQgMEg5LjhWOS44aDMuNHY3Ljh6bTQuNCAwaC0zLjRWNi41aDMuNHYxMS4xeiIvPgogIDwvZz4KPC9zdmc+Cg==);
  --jp-icon-yaml: url(data:image/svg+xml;base64,PHN2ZyB4bWxucz0iaHR0cDovL3d3dy53My5vcmcvMjAwMC9zdmciIHdpZHRoPSIxNiIgdmlld0JveD0iMCAwIDIyIDIyIj4KICA8ZyBjbGFzcz0ianAtaWNvbi1jb250cmFzdDIganAtaWNvbi1zZWxlY3RhYmxlIiBmaWxsPSIjRDgxQjYwIj4KICAgIDxwYXRoIGQ9Ik03LjIgMTguNnYtNS40TDMgNS42aDMuM2wxLjQgMy4xYy4zLjkuNiAxLjYgMSAyLjUuMy0uOC42LTEuNiAxLTIuNWwxLjQtMy4xaDMuNGwtNC40IDcuNnY1LjVsLTIuOS0uMXoiLz4KICAgIDxjaXJjbGUgY2xhc3M9InN0MCIgY3g9IjE3LjYiIGN5PSIxNi41IiByPSIyLjEiLz4KICAgIDxjaXJjbGUgY2xhc3M9InN0MCIgY3g9IjE3LjYiIGN5PSIxMSIgcj0iMi4xIi8+CiAgPC9nPgo8L3N2Zz4K);
}

/* Icon CSS class declarations */

.jp-AddIcon {
  background-image: var(--jp-icon-add);
}
.jp-BugIcon {
  background-image: var(--jp-icon-bug);
}
.jp-BuildIcon {
  background-image: var(--jp-icon-build);
}
.jp-CaretDownEmptyIcon {
  background-image: var(--jp-icon-caret-down-empty);
}
.jp-CaretDownEmptyThinIcon {
  background-image: var(--jp-icon-caret-down-empty-thin);
}
.jp-CaretDownIcon {
  background-image: var(--jp-icon-caret-down);
}
.jp-CaretLeftIcon {
  background-image: var(--jp-icon-caret-left);
}
.jp-CaretRightIcon {
  background-image: var(--jp-icon-caret-right);
}
.jp-CaretUpEmptyThinIcon {
  background-image: var(--jp-icon-caret-up-empty-thin);
}
.jp-CaretUpIcon {
  background-image: var(--jp-icon-caret-up);
}
.jp-CaseSensitiveIcon {
  background-image: var(--jp-icon-case-sensitive);
}
.jp-CheckIcon {
  background-image: var(--jp-icon-check);
}
.jp-CircleEmptyIcon {
  background-image: var(--jp-icon-circle-empty);
}
.jp-CircleIcon {
  background-image: var(--jp-icon-circle);
}
.jp-ClearIcon {
  background-image: var(--jp-icon-clear);
}
.jp-CloseIcon {
  background-image: var(--jp-icon-close);
}
.jp-CodeIcon {
  background-image: var(--jp-icon-code);
}
.jp-ConsoleIcon {
  background-image: var(--jp-icon-console);
}
.jp-CopyIcon {
  background-image: var(--jp-icon-copy);
}
.jp-CopyrightIcon {
  background-image: var(--jp-icon-copyright);
}
.jp-CutIcon {
  background-image: var(--jp-icon-cut);
}
.jp-DownloadIcon {
  background-image: var(--jp-icon-download);
}
.jp-EditIcon {
  background-image: var(--jp-icon-edit);
}
.jp-EllipsesIcon {
  background-image: var(--jp-icon-ellipses);
}
.jp-ExtensionIcon {
  background-image: var(--jp-icon-extension);
}
.jp-FastForwardIcon {
  background-image: var(--jp-icon-fast-forward);
}
.jp-FileIcon {
  background-image: var(--jp-icon-file);
}
.jp-FileUploadIcon {
  background-image: var(--jp-icon-file-upload);
}
.jp-FilterListIcon {
  background-image: var(--jp-icon-filter-list);
}
.jp-FolderIcon {
  background-image: var(--jp-icon-folder);
}
.jp-Html5Icon {
  background-image: var(--jp-icon-html5);
}
.jp-ImageIcon {
  background-image: var(--jp-icon-image);
}
.jp-InspectorIcon {
  background-image: var(--jp-icon-inspector);
}
.jp-JsonIcon {
  background-image: var(--jp-icon-json);
}
.jp-JuliaIcon {
  background-image: var(--jp-icon-julia);
}
.jp-JupyterFaviconIcon {
  background-image: var(--jp-icon-jupyter-favicon);
}
.jp-JupyterIcon {
  background-image: var(--jp-icon-jupyter);
}
.jp-JupyterlabWordmarkIcon {
  background-image: var(--jp-icon-jupyterlab-wordmark);
}
.jp-KernelIcon {
  background-image: var(--jp-icon-kernel);
}
.jp-KeyboardIcon {
  background-image: var(--jp-icon-keyboard);
}
.jp-LauncherIcon {
  background-image: var(--jp-icon-launcher);
}
.jp-LineFormIcon {
  background-image: var(--jp-icon-line-form);
}
.jp-LinkIcon {
  background-image: var(--jp-icon-link);
}
.jp-ListIcon {
  background-image: var(--jp-icon-list);
}
.jp-ListingsInfoIcon {
  background-image: var(--jp-icon-listings-info);
}
.jp-MarkdownIcon {
  background-image: var(--jp-icon-markdown);
}
.jp-NewFolderIcon {
  background-image: var(--jp-icon-new-folder);
}
.jp-NotTrustedIcon {
  background-image: var(--jp-icon-not-trusted);
}
.jp-NotebookIcon {
  background-image: var(--jp-icon-notebook);
}
.jp-NumberingIcon {
  background-image: var(--jp-icon-numbering);
}
.jp-OfflineBoltIcon {
  background-image: var(--jp-icon-offline-bolt);
}
.jp-PaletteIcon {
  background-image: var(--jp-icon-palette);
}
.jp-PasteIcon {
  background-image: var(--jp-icon-paste);
}
.jp-PdfIcon {
  background-image: var(--jp-icon-pdf);
}
.jp-PythonIcon {
  background-image: var(--jp-icon-python);
}
.jp-RKernelIcon {
  background-image: var(--jp-icon-r-kernel);
}
.jp-ReactIcon {
  background-image: var(--jp-icon-react);
}
.jp-RedoIcon {
  background-image: var(--jp-icon-redo);
}
.jp-RefreshIcon {
  background-image: var(--jp-icon-refresh);
}
.jp-RegexIcon {
  background-image: var(--jp-icon-regex);
}
.jp-RunIcon {
  background-image: var(--jp-icon-run);
}
.jp-RunningIcon {
  background-image: var(--jp-icon-running);
}
.jp-SaveIcon {
  background-image: var(--jp-icon-save);
}
.jp-SearchIcon {
  background-image: var(--jp-icon-search);
}
.jp-SettingsIcon {
  background-image: var(--jp-icon-settings);
}
.jp-SpreadsheetIcon {
  background-image: var(--jp-icon-spreadsheet);
}
.jp-StopIcon {
  background-image: var(--jp-icon-stop);
}
.jp-TabIcon {
  background-image: var(--jp-icon-tab);
}
.jp-TableRowsIcon {
  background-image: var(--jp-icon-table-rows);
}
.jp-TagIcon {
  background-image: var(--jp-icon-tag);
}
.jp-TerminalIcon {
  background-image: var(--jp-icon-terminal);
}
.jp-TextEditorIcon {
  background-image: var(--jp-icon-text-editor);
}
.jp-TocIcon {
  background-image: var(--jp-icon-toc);
}
.jp-TreeViewIcon {
  background-image: var(--jp-icon-tree-view);
}
.jp-TrustedIcon {
  background-image: var(--jp-icon-trusted);
}
.jp-UndoIcon {
  background-image: var(--jp-icon-undo);
}
.jp-VegaIcon {
  background-image: var(--jp-icon-vega);
}
.jp-YamlIcon {
  background-image: var(--jp-icon-yaml);
}

/*-----------------------------------------------------------------------------
| Copyright (c) Jupyter Development Team.
| Distributed under the terms of the Modified BSD License.
|----------------------------------------------------------------------------*/

/**
 * (DEPRECATED) Support for consuming icons as CSS background images
 */

.jp-Icon,
.jp-MaterialIcon {
  background-position: center;
  background-repeat: no-repeat;
  background-size: 16px;
  min-width: 16px;
  min-height: 16px;
}

.jp-Icon-cover {
  background-position: center;
  background-repeat: no-repeat;
  background-size: cover;
}

/**
 * (DEPRECATED) Support for specific CSS icon sizes
 */

.jp-Icon-16 {
  background-size: 16px;
  min-width: 16px;
  min-height: 16px;
}

.jp-Icon-18 {
  background-size: 18px;
  min-width: 18px;
  min-height: 18px;
}

.jp-Icon-20 {
  background-size: 20px;
  min-width: 20px;
  min-height: 20px;
}

/*-----------------------------------------------------------------------------
| Copyright (c) Jupyter Development Team.
| Distributed under the terms of the Modified BSD License.
|----------------------------------------------------------------------------*/

/**
 * Support for icons as inline SVG HTMLElements
 */

/* recolor the primary elements of an icon */
.jp-icon0[fill] {
  fill: var(--jp-inverse-layout-color0);
}
.jp-icon1[fill] {
  fill: var(--jp-inverse-layout-color1);
}
.jp-icon2[fill] {
  fill: var(--jp-inverse-layout-color2);
}
.jp-icon3[fill] {
  fill: var(--jp-inverse-layout-color3);
}
.jp-icon4[fill] {
  fill: var(--jp-inverse-layout-color4);
}

.jp-icon0[stroke] {
  stroke: var(--jp-inverse-layout-color0);
}
.jp-icon1[stroke] {
  stroke: var(--jp-inverse-layout-color1);
}
.jp-icon2[stroke] {
  stroke: var(--jp-inverse-layout-color2);
}
.jp-icon3[stroke] {
  stroke: var(--jp-inverse-layout-color3);
}
.jp-icon4[stroke] {
  stroke: var(--jp-inverse-layout-color4);
}
/* recolor the accent elements of an icon */
.jp-icon-accent0[fill] {
  fill: var(--jp-layout-color0);
}
.jp-icon-accent1[fill] {
  fill: var(--jp-layout-color1);
}
.jp-icon-accent2[fill] {
  fill: var(--jp-layout-color2);
}
.jp-icon-accent3[fill] {
  fill: var(--jp-layout-color3);
}
.jp-icon-accent4[fill] {
  fill: var(--jp-layout-color4);
}

.jp-icon-accent0[stroke] {
  stroke: var(--jp-layout-color0);
}
.jp-icon-accent1[stroke] {
  stroke: var(--jp-layout-color1);
}
.jp-icon-accent2[stroke] {
  stroke: var(--jp-layout-color2);
}
.jp-icon-accent3[stroke] {
  stroke: var(--jp-layout-color3);
}
.jp-icon-accent4[stroke] {
  stroke: var(--jp-layout-color4);
}
/* set the color of an icon to transparent */
.jp-icon-none[fill] {
  fill: none;
}

.jp-icon-none[stroke] {
  stroke: none;
}
/* brand icon colors. Same for light and dark */
.jp-icon-brand0[fill] {
  fill: var(--jp-brand-color0);
}
.jp-icon-brand1[fill] {
  fill: var(--jp-brand-color1);
}
.jp-icon-brand2[fill] {
  fill: var(--jp-brand-color2);
}
.jp-icon-brand3[fill] {
  fill: var(--jp-brand-color3);
}
.jp-icon-brand4[fill] {
  fill: var(--jp-brand-color4);
}

.jp-icon-brand0[stroke] {
  stroke: var(--jp-brand-color0);
}
.jp-icon-brand1[stroke] {
  stroke: var(--jp-brand-color1);
}
.jp-icon-brand2[stroke] {
  stroke: var(--jp-brand-color2);
}
.jp-icon-brand3[stroke] {
  stroke: var(--jp-brand-color3);
}
.jp-icon-brand4[stroke] {
  stroke: var(--jp-brand-color4);
}
/* warn icon colors. Same for light and dark */
.jp-icon-warn0[fill] {
  fill: var(--jp-warn-color0);
}
.jp-icon-warn1[fill] {
  fill: var(--jp-warn-color1);
}
.jp-icon-warn2[fill] {
  fill: var(--jp-warn-color2);
}
.jp-icon-warn3[fill] {
  fill: var(--jp-warn-color3);
}

.jp-icon-warn0[stroke] {
  stroke: var(--jp-warn-color0);
}
.jp-icon-warn1[stroke] {
  stroke: var(--jp-warn-color1);
}
.jp-icon-warn2[stroke] {
  stroke: var(--jp-warn-color2);
}
.jp-icon-warn3[stroke] {
  stroke: var(--jp-warn-color3);
}
/* icon colors that contrast well with each other and most backgrounds */
.jp-icon-contrast0[fill] {
  fill: var(--jp-icon-contrast-color0);
}
.jp-icon-contrast1[fill] {
  fill: var(--jp-icon-contrast-color1);
}
.jp-icon-contrast2[fill] {
  fill: var(--jp-icon-contrast-color2);
}
.jp-icon-contrast3[fill] {
  fill: var(--jp-icon-contrast-color3);
}

.jp-icon-contrast0[stroke] {
  stroke: var(--jp-icon-contrast-color0);
}
.jp-icon-contrast1[stroke] {
  stroke: var(--jp-icon-contrast-color1);
}
.jp-icon-contrast2[stroke] {
  stroke: var(--jp-icon-contrast-color2);
}
.jp-icon-contrast3[stroke] {
  stroke: var(--jp-icon-contrast-color3);
}

/* CSS for icons in selected items in the settings editor */
#setting-editor .jp-PluginList .jp-mod-selected .jp-icon-selectable[fill] {
  fill: #fff;
}
#setting-editor
  .jp-PluginList
  .jp-mod-selected
  .jp-icon-selectable-inverse[fill] {
  fill: var(--jp-brand-color1);
}

/* CSS for icons in selected filebrowser listing items */
.jp-DirListing-item.jp-mod-selected .jp-icon-selectable[fill] {
  fill: #fff;
}
.jp-DirListing-item.jp-mod-selected .jp-icon-selectable-inverse[fill] {
  fill: var(--jp-brand-color1);
}

/* CSS for icons in selected tabs in the sidebar tab manager */
#tab-manager .lm-TabBar-tab.jp-mod-active .jp-icon-selectable[fill] {
  fill: #fff;
}

#tab-manager .lm-TabBar-tab.jp-mod-active .jp-icon-selectable-inverse[fill] {
  fill: var(--jp-brand-color1);
}
#tab-manager
  .lm-TabBar-tab.jp-mod-active
  .jp-icon-hover
  :hover
  .jp-icon-selectable[fill] {
  fill: var(--jp-brand-color1);
}

#tab-manager
  .lm-TabBar-tab.jp-mod-active
  .jp-icon-hover
  :hover
  .jp-icon-selectable-inverse[fill] {
  fill: #fff;
}

/**
 * TODO: come up with non css-hack solution for showing the busy icon on top
 *  of the close icon
 * CSS for complex behavior of close icon of tabs in the sidebar tab manager
 */
#tab-manager
  .lm-TabBar-tab.jp-mod-dirty
  > .lm-TabBar-tabCloseIcon
  > :not(:hover)
  > .jp-icon3[fill] {
  fill: none;
}
#tab-manager
  .lm-TabBar-tab.jp-mod-dirty
  > .lm-TabBar-tabCloseIcon
  > :not(:hover)
  > .jp-icon-busy[fill] {
  fill: var(--jp-inverse-layout-color3);
}

#tab-manager
  .lm-TabBar-tab.jp-mod-dirty.jp-mod-active
  > .lm-TabBar-tabCloseIcon
  > :not(:hover)
  > .jp-icon-busy[fill] {
  fill: #fff;
}

/**
* TODO: come up with non css-hack solution for showing the busy icon on top
*  of the close icon
* CSS for complex behavior of close icon of tabs in the main area tabbar
*/
.lm-DockPanel-tabBar
  .lm-TabBar-tab.lm-mod-closable.jp-mod-dirty
  > .lm-TabBar-tabCloseIcon
  > :not(:hover)
  > .jp-icon3[fill] {
  fill: none;
}
.lm-DockPanel-tabBar
  .lm-TabBar-tab.lm-mod-closable.jp-mod-dirty
  > .lm-TabBar-tabCloseIcon
  > :not(:hover)
  > .jp-icon-busy[fill] {
  fill: var(--jp-inverse-layout-color3);
}

/* CSS for icons in status bar */
#jp-main-statusbar .jp-mod-selected .jp-icon-selectable[fill] {
  fill: #fff;
}

#jp-main-statusbar .jp-mod-selected .jp-icon-selectable-inverse[fill] {
  fill: var(--jp-brand-color1);
}
/* special handling for splash icon CSS. While the theme CSS reloads during
   splash, the splash icon can loose theming. To prevent that, we set a
   default for its color variable */
:root {
  --jp-warn-color0: var(--md-orange-700);
}

/* not sure what to do with this one, used in filebrowser listing */
.jp-DragIcon {
  margin-right: 4px;
}

/*-----------------------------------------------------------------------------
| Copyright (c) Jupyter Development Team.
| Distributed under the terms of the Modified BSD License.
|----------------------------------------------------------------------------*/

/**
 * Support for alt colors for icons as inline SVG HTMLElements
 */

/* alt recolor the primary elements of an icon */
.jp-icon-alt .jp-icon0[fill] {
  fill: var(--jp-layout-color0);
}
.jp-icon-alt .jp-icon1[fill] {
  fill: var(--jp-layout-color1);
}
.jp-icon-alt .jp-icon2[fill] {
  fill: var(--jp-layout-color2);
}
.jp-icon-alt .jp-icon3[fill] {
  fill: var(--jp-layout-color3);
}
.jp-icon-alt .jp-icon4[fill] {
  fill: var(--jp-layout-color4);
}

.jp-icon-alt .jp-icon0[stroke] {
  stroke: var(--jp-layout-color0);
}
.jp-icon-alt .jp-icon1[stroke] {
  stroke: var(--jp-layout-color1);
}
.jp-icon-alt .jp-icon2[stroke] {
  stroke: var(--jp-layout-color2);
}
.jp-icon-alt .jp-icon3[stroke] {
  stroke: var(--jp-layout-color3);
}
.jp-icon-alt .jp-icon4[stroke] {
  stroke: var(--jp-layout-color4);
}

/* alt recolor the accent elements of an icon */
.jp-icon-alt .jp-icon-accent0[fill] {
  fill: var(--jp-inverse-layout-color0);
}
.jp-icon-alt .jp-icon-accent1[fill] {
  fill: var(--jp-inverse-layout-color1);
}
.jp-icon-alt .jp-icon-accent2[fill] {
  fill: var(--jp-inverse-layout-color2);
}
.jp-icon-alt .jp-icon-accent3[fill] {
  fill: var(--jp-inverse-layout-color3);
}
.jp-icon-alt .jp-icon-accent4[fill] {
  fill: var(--jp-inverse-layout-color4);
}

.jp-icon-alt .jp-icon-accent0[stroke] {
  stroke: var(--jp-inverse-layout-color0);
}
.jp-icon-alt .jp-icon-accent1[stroke] {
  stroke: var(--jp-inverse-layout-color1);
}
.jp-icon-alt .jp-icon-accent2[stroke] {
  stroke: var(--jp-inverse-layout-color2);
}
.jp-icon-alt .jp-icon-accent3[stroke] {
  stroke: var(--jp-inverse-layout-color3);
}
.jp-icon-alt .jp-icon-accent4[stroke] {
  stroke: var(--jp-inverse-layout-color4);
}

/*-----------------------------------------------------------------------------
| Copyright (c) Jupyter Development Team.
| Distributed under the terms of the Modified BSD License.
|----------------------------------------------------------------------------*/

.jp-icon-hoverShow:not(:hover) svg {
  display: none !important;
}

/**
 * Support for hover colors for icons as inline SVG HTMLElements
 */

/**
 * regular colors
 */

/* recolor the primary elements of an icon */
.jp-icon-hover :hover .jp-icon0-hover[fill] {
  fill: var(--jp-inverse-layout-color0);
}
.jp-icon-hover :hover .jp-icon1-hover[fill] {
  fill: var(--jp-inverse-layout-color1);
}
.jp-icon-hover :hover .jp-icon2-hover[fill] {
  fill: var(--jp-inverse-layout-color2);
}
.jp-icon-hover :hover .jp-icon3-hover[fill] {
  fill: var(--jp-inverse-layout-color3);
}
.jp-icon-hover :hover .jp-icon4-hover[fill] {
  fill: var(--jp-inverse-layout-color4);
}

.jp-icon-hover :hover .jp-icon0-hover[stroke] {
  stroke: var(--jp-inverse-layout-color0);
}
.jp-icon-hover :hover .jp-icon1-hover[stroke] {
  stroke: var(--jp-inverse-layout-color1);
}
.jp-icon-hover :hover .jp-icon2-hover[stroke] {
  stroke: var(--jp-inverse-layout-color2);
}
.jp-icon-hover :hover .jp-icon3-hover[stroke] {
  stroke: var(--jp-inverse-layout-color3);
}
.jp-icon-hover :hover .jp-icon4-hover[stroke] {
  stroke: var(--jp-inverse-layout-color4);
}

/* recolor the accent elements of an icon */
.jp-icon-hover :hover .jp-icon-accent0-hover[fill] {
  fill: var(--jp-layout-color0);
}
.jp-icon-hover :hover .jp-icon-accent1-hover[fill] {
  fill: var(--jp-layout-color1);
}
.jp-icon-hover :hover .jp-icon-accent2-hover[fill] {
  fill: var(--jp-layout-color2);
}
.jp-icon-hover :hover .jp-icon-accent3-hover[fill] {
  fill: var(--jp-layout-color3);
}
.jp-icon-hover :hover .jp-icon-accent4-hover[fill] {
  fill: var(--jp-layout-color4);
}

.jp-icon-hover :hover .jp-icon-accent0-hover[stroke] {
  stroke: var(--jp-layout-color0);
}
.jp-icon-hover :hover .jp-icon-accent1-hover[stroke] {
  stroke: var(--jp-layout-color1);
}
.jp-icon-hover :hover .jp-icon-accent2-hover[stroke] {
  stroke: var(--jp-layout-color2);
}
.jp-icon-hover :hover .jp-icon-accent3-hover[stroke] {
  stroke: var(--jp-layout-color3);
}
.jp-icon-hover :hover .jp-icon-accent4-hover[stroke] {
  stroke: var(--jp-layout-color4);
}

/* set the color of an icon to transparent */
.jp-icon-hover :hover .jp-icon-none-hover[fill] {
  fill: none;
}

.jp-icon-hover :hover .jp-icon-none-hover[stroke] {
  stroke: none;
}

/**
 * inverse colors
 */

/* inverse recolor the primary elements of an icon */
.jp-icon-hover.jp-icon-alt :hover .jp-icon0-hover[fill] {
  fill: var(--jp-layout-color0);
}
.jp-icon-hover.jp-icon-alt :hover .jp-icon1-hover[fill] {
  fill: var(--jp-layout-color1);
}
.jp-icon-hover.jp-icon-alt :hover .jp-icon2-hover[fill] {
  fill: var(--jp-layout-color2);
}
.jp-icon-hover.jp-icon-alt :hover .jp-icon3-hover[fill] {
  fill: var(--jp-layout-color3);
}
.jp-icon-hover.jp-icon-alt :hover .jp-icon4-hover[fill] {
  fill: var(--jp-layout-color4);
}

.jp-icon-hover.jp-icon-alt :hover .jp-icon0-hover[stroke] {
  stroke: var(--jp-layout-color0);
}
.jp-icon-hover.jp-icon-alt :hover .jp-icon1-hover[stroke] {
  stroke: var(--jp-layout-color1);
}
.jp-icon-hover.jp-icon-alt :hover .jp-icon2-hover[stroke] {
  stroke: var(--jp-layout-color2);
}
.jp-icon-hover.jp-icon-alt :hover .jp-icon3-hover[stroke] {
  stroke: var(--jp-layout-color3);
}
.jp-icon-hover.jp-icon-alt :hover .jp-icon4-hover[stroke] {
  stroke: var(--jp-layout-color4);
}

/* inverse recolor the accent elements of an icon */
.jp-icon-hover.jp-icon-alt :hover .jp-icon-accent0-hover[fill] {
  fill: var(--jp-inverse-layout-color0);
}
.jp-icon-hover.jp-icon-alt :hover .jp-icon-accent1-hover[fill] {
  fill: var(--jp-inverse-layout-color1);
}
.jp-icon-hover.jp-icon-alt :hover .jp-icon-accent2-hover[fill] {
  fill: var(--jp-inverse-layout-color2);
}
.jp-icon-hover.jp-icon-alt :hover .jp-icon-accent3-hover[fill] {
  fill: var(--jp-inverse-layout-color3);
}
.jp-icon-hover.jp-icon-alt :hover .jp-icon-accent4-hover[fill] {
  fill: var(--jp-inverse-layout-color4);
}

.jp-icon-hover.jp-icon-alt :hover .jp-icon-accent0-hover[stroke] {
  stroke: var(--jp-inverse-layout-color0);
}
.jp-icon-hover.jp-icon-alt :hover .jp-icon-accent1-hover[stroke] {
  stroke: var(--jp-inverse-layout-color1);
}
.jp-icon-hover.jp-icon-alt :hover .jp-icon-accent2-hover[stroke] {
  stroke: var(--jp-inverse-layout-color2);
}
.jp-icon-hover.jp-icon-alt :hover .jp-icon-accent3-hover[stroke] {
  stroke: var(--jp-inverse-layout-color3);
}
.jp-icon-hover.jp-icon-alt :hover .jp-icon-accent4-hover[stroke] {
  stroke: var(--jp-inverse-layout-color4);
}

/*-----------------------------------------------------------------------------
| Copyright (c) Jupyter Development Team.
| Distributed under the terms of the Modified BSD License.
|----------------------------------------------------------------------------*/

.jp-switch {
  display: flex;
  align-items: center;
  padding-left: 4px;
  padding-right: 4px;
  font-size: var(--jp-ui-font-size1);
  background-color: transparent;
  color: var(--jp-ui-font-color1);
  border: none;
  height: 20px;
}

.jp-switch:hover {
  background-color: var(--jp-layout-color2);
}

.jp-switch-label {
  margin-right: 5px;
}

.jp-switch-track {
  cursor: pointer;
  background-color: var(--jp-border-color1);
  -webkit-transition: 0.4s;
  transition: 0.4s;
  border-radius: 34px;
  height: 16px;
  width: 35px;
  position: relative;
}

.jp-switch-track::before {
  content: '';
  position: absolute;
  height: 10px;
  width: 10px;
  margin: 3px;
  left: 0px;
  background-color: var(--jp-ui-inverse-font-color1);
  -webkit-transition: 0.4s;
  transition: 0.4s;
  border-radius: 50%;
}

.jp-switch[aria-checked='true'] .jp-switch-track {
  background-color: var(--jp-warn-color0);
}

.jp-switch[aria-checked='true'] .jp-switch-track::before {
  /* track width (35) - margins (3 + 3) - thumb width (10) */
  left: 19px;
}

/*-----------------------------------------------------------------------------
| Copyright (c) Jupyter Development Team.
| Distributed under the terms of the Modified BSD License.
|----------------------------------------------------------------------------*/

/* Sibling imports */

/* Override Blueprint's _reset.scss styles */
html {
  box-sizing: unset;
}

*,
*::before,
*::after {
  box-sizing: unset;
}

body {
  color: unset;
  font-family: var(--jp-ui-font-family);
}

p {
  margin-top: unset;
  margin-bottom: unset;
}

small {
  font-size: unset;
}

strong {
  font-weight: unset;
}

/* Override Blueprint's _typography.scss styles */
a {
  text-decoration: unset;
  color: unset;
}
a:hover {
  text-decoration: unset;
  color: unset;
}

/* Override Blueprint's _accessibility.scss styles */
:focus {
  outline: unset;
  outline-offset: unset;
  -moz-outline-radius: unset;
}

/* Styles for ui-components */
.jp-Button {
  border-radius: var(--jp-border-radius);
  padding: 0px 12px;
  font-size: var(--jp-ui-font-size1);
}

/* Use our own theme for hover styles */
button.jp-Button.bp3-button.bp3-minimal:hover {
  background-color: var(--jp-layout-color2);
}
.jp-Button.minimal {
  color: unset !important;
}

.jp-Button.jp-ToolbarButtonComponent {
  text-transform: none;
}

.jp-InputGroup input {
  box-sizing: border-box;
  border-radius: 0;
  background-color: transparent;
  color: var(--jp-ui-font-color0);
  box-shadow: inset 0 0 0 var(--jp-border-width) var(--jp-input-border-color);
}

.jp-InputGroup input:focus {
  box-shadow: inset 0 0 0 var(--jp-border-width)
      var(--jp-input-active-box-shadow-color),
    inset 0 0 0 3px var(--jp-input-active-box-shadow-color);
}

.jp-InputGroup input::placeholder,
input::placeholder {
  color: var(--jp-ui-font-color3);
}

.jp-BPIcon {
  display: inline-block;
  vertical-align: middle;
  margin: auto;
}

/* Stop blueprint futzing with our icon fills */
.bp3-icon.jp-BPIcon > svg:not([fill]) {
  fill: var(--jp-inverse-layout-color3);
}

.jp-InputGroupAction {
  padding: 6px;
}

.jp-HTMLSelect.jp-DefaultStyle select {
  background-color: initial;
  border: none;
  border-radius: 0;
  box-shadow: none;
  color: var(--jp-ui-font-color0);
  display: block;
  font-size: var(--jp-ui-font-size1);
  height: 24px;
  line-height: 14px;
  padding: 0 25px 0 10px;
  text-align: left;
  -moz-appearance: none;
  -webkit-appearance: none;
}

/* Use our own theme for hover and option styles */
.jp-HTMLSelect.jp-DefaultStyle select:hover,
.jp-HTMLSelect.jp-DefaultStyle select > option {
  background-color: var(--jp-layout-color2);
  color: var(--jp-ui-font-color0);
}
select {
  box-sizing: border-box;
}

/*-----------------------------------------------------------------------------
| Copyright (c) Jupyter Development Team.
| Distributed under the terms of the Modified BSD License.
|----------------------------------------------------------------------------*/

.jp-Collapse {
  display: flex;
  flex-direction: column;
  align-items: stretch;
  border-top: 1px solid var(--jp-border-color2);
  border-bottom: 1px solid var(--jp-border-color2);
}

.jp-Collapse-header {
  padding: 1px 12px;
  color: var(--jp-ui-font-color1);
  background-color: var(--jp-layout-color1);
  font-size: var(--jp-ui-font-size2);
}

.jp-Collapse-header:hover {
  background-color: var(--jp-layout-color2);
}

.jp-Collapse-contents {
  padding: 0px 12px 0px 12px;
  background-color: var(--jp-layout-color1);
  color: var(--jp-ui-font-color1);
  overflow: auto;
}

/*-----------------------------------------------------------------------------
| Copyright (c) Jupyter Development Team.
| Distributed under the terms of the Modified BSD License.
|----------------------------------------------------------------------------*/

/*-----------------------------------------------------------------------------
| Variables
|----------------------------------------------------------------------------*/

:root {
  --jp-private-commandpalette-search-height: 28px;
}

/*-----------------------------------------------------------------------------
| Overall styles
|----------------------------------------------------------------------------*/

.lm-CommandPalette {
  padding-bottom: 0px;
  color: var(--jp-ui-font-color1);
  background: var(--jp-layout-color1);
  /* This is needed so that all font sizing of children done in ems is
   * relative to this base size */
  font-size: var(--jp-ui-font-size1);
}

/*-----------------------------------------------------------------------------
| Modal variant
|----------------------------------------------------------------------------*/

.jp-ModalCommandPalette {
  position: absolute;
  z-index: 10000;
  top: 38px;
  left: 30%;
  margin: 0;
  padding: 4px;
  width: 40%;
  box-shadow: var(--jp-elevation-z4);
  border-radius: 4px;
  background: var(--jp-layout-color0);
}

.jp-ModalCommandPalette .lm-CommandPalette {
  max-height: 40vh;
}

.jp-ModalCommandPalette .lm-CommandPalette .lm-close-icon::after {
  display: none;
}

.jp-ModalCommandPalette .lm-CommandPalette .lm-CommandPalette-header {
  display: none;
}

.jp-ModalCommandPalette .lm-CommandPalette .lm-CommandPalette-item {
  margin-left: 4px;
  margin-right: 4px;
}

.jp-ModalCommandPalette
  .lm-CommandPalette
  .lm-CommandPalette-item.lm-mod-disabled {
  display: none;
}

/*-----------------------------------------------------------------------------
| Search
|----------------------------------------------------------------------------*/

.lm-CommandPalette-search {
  padding: 4px;
  background-color: var(--jp-layout-color1);
  z-index: 2;
}

.lm-CommandPalette-wrapper {
  overflow: overlay;
  padding: 0px 9px;
  background-color: var(--jp-input-active-background);
  height: 30px;
  box-shadow: inset 0 0 0 var(--jp-border-width) var(--jp-input-border-color);
}

.lm-CommandPalette.lm-mod-focused .lm-CommandPalette-wrapper {
  box-shadow: inset 0 0 0 1px var(--jp-input-active-box-shadow-color),
    inset 0 0 0 3px var(--jp-input-active-box-shadow-color);
}

.jp-SearchIconGroup {
  color: white;
  background-color: var(--jp-brand-color1);
  position: absolute;
  top: 4px;
  right: 4px;
  padding: 5px 5px 1px 5px;
}

.jp-SearchIconGroup svg {
  height: 20px;
  width: 20px;
}

.jp-SearchIconGroup .jp-icon3[fill] {
  fill: var(--jp-layout-color0);
}

.lm-CommandPalette-input {
  background: transparent;
  width: calc(100% - 18px);
  float: left;
  border: none;
  outline: none;
  font-size: var(--jp-ui-font-size1);
  color: var(--jp-ui-font-color0);
  line-height: var(--jp-private-commandpalette-search-height);
}

.lm-CommandPalette-input::-webkit-input-placeholder,
.lm-CommandPalette-input::-moz-placeholder,
.lm-CommandPalette-input:-ms-input-placeholder {
  color: var(--jp-ui-font-color2);
  font-size: var(--jp-ui-font-size1);
}

/*-----------------------------------------------------------------------------
| Results
|----------------------------------------------------------------------------*/

.lm-CommandPalette-header:first-child {
  margin-top: 0px;
}

.lm-CommandPalette-header {
  border-bottom: solid var(--jp-border-width) var(--jp-border-color2);
  color: var(--jp-ui-font-color1);
  cursor: pointer;
  display: flex;
  font-size: var(--jp-ui-font-size0);
  font-weight: 600;
  letter-spacing: 1px;
  margin-top: 8px;
  padding: 8px 0 8px 12px;
  text-transform: uppercase;
}

.lm-CommandPalette-header.lm-mod-active {
  background: var(--jp-layout-color2);
}

.lm-CommandPalette-header > mark {
  background-color: transparent;
  font-weight: bold;
  color: var(--jp-ui-font-color1);
}

.lm-CommandPalette-item {
  padding: 4px 12px 4px 4px;
  color: var(--jp-ui-font-color1);
  font-size: var(--jp-ui-font-size1);
  font-weight: 400;
  display: flex;
}

.lm-CommandPalette-item.lm-mod-disabled {
  color: var(--jp-ui-font-color2);
}

.lm-CommandPalette-item.lm-mod-active {
  color: var(--jp-ui-inverse-font-color1);
  background: var(--jp-brand-color1);
}

.lm-CommandPalette-item.lm-mod-active .lm-CommandPalette-itemLabel > mark {
  color: var(--jp-ui-inverse-font-color0);
}

.lm-CommandPalette-item.lm-mod-active .jp-icon-selectable[fill] {
  fill: var(--jp-layout-color0);
}

.lm-CommandPalette-item.lm-mod-active .lm-CommandPalette-itemLabel > mark {
  color: var(--jp-ui-inverse-font-color0);
}

.lm-CommandPalette-item.lm-mod-active:hover:not(.lm-mod-disabled) {
  color: var(--jp-ui-inverse-font-color1);
  background: var(--jp-brand-color1);
}

.lm-CommandPalette-item:hover:not(.lm-mod-active):not(.lm-mod-disabled) {
  background: var(--jp-layout-color2);
}

.lm-CommandPalette-itemContent {
  overflow: hidden;
}

.lm-CommandPalette-itemLabel > mark {
  color: var(--jp-ui-font-color0);
  background-color: transparent;
  font-weight: bold;
}

.lm-CommandPalette-item.lm-mod-disabled mark {
  color: var(--jp-ui-font-color2);
}

.lm-CommandPalette-item .lm-CommandPalette-itemIcon {
  margin: 0 4px 0 0;
  position: relative;
  width: 16px;
  top: 2px;
  flex: 0 0 auto;
}

.lm-CommandPalette-item.lm-mod-disabled .lm-CommandPalette-itemIcon {
  opacity: 0.6;
}

.lm-CommandPalette-item .lm-CommandPalette-itemShortcut {
  flex: 0 0 auto;
}

.lm-CommandPalette-itemCaption {
  display: none;
}

.lm-CommandPalette-content {
  background-color: var(--jp-layout-color1);
}

.lm-CommandPalette-content:empty:after {
  content: 'No results';
  margin: auto;
  margin-top: 20px;
  width: 100px;
  display: block;
  font-size: var(--jp-ui-font-size2);
  font-family: var(--jp-ui-font-family);
  font-weight: lighter;
}

.lm-CommandPalette-emptyMessage {
  text-align: center;
  margin-top: 24px;
  line-height: 1.32;
  padding: 0px 8px;
  color: var(--jp-content-font-color3);
}

/*-----------------------------------------------------------------------------
| Copyright (c) 2014-2017, Jupyter Development Team.
|
| Distributed under the terms of the Modified BSD License.
|----------------------------------------------------------------------------*/

.jp-Dialog {
  position: absolute;
  z-index: 10000;
  display: flex;
  flex-direction: column;
  align-items: center;
  justify-content: center;
  top: 0px;
  left: 0px;
  margin: 0;
  padding: 0;
  width: 100%;
  height: 100%;
  background: var(--jp-dialog-background);
}

.jp-Dialog-content {
  display: flex;
  flex-direction: column;
  margin-left: auto;
  margin-right: auto;
  background: var(--jp-layout-color1);
  padding: 24px;
  padding-bottom: 12px;
  min-width: 300px;
  min-height: 150px;
  max-width: 1000px;
  max-height: 500px;
  box-sizing: border-box;
  box-shadow: var(--jp-elevation-z20);
  word-wrap: break-word;
  border-radius: var(--jp-border-radius);
  /* This is needed so that all font sizing of children done in ems is
   * relative to this base size */
  font-size: var(--jp-ui-font-size1);
  color: var(--jp-ui-font-color1);
  resize: both;
}

.jp-Dialog-button {
  overflow: visible;
}

button.jp-Dialog-button:focus {
  outline: 1px solid var(--jp-brand-color1);
  outline-offset: 4px;
  -moz-outline-radius: 0px;
}

button.jp-Dialog-button:focus::-moz-focus-inner {
  border: 0;
}

button.jp-Dialog-close-button {
  padding: 0;
  height: 100%;
  min-width: unset;
  min-height: unset;
}

.jp-Dialog-header {
  display: flex;
  justify-content: space-between;
  flex: 0 0 auto;
  padding-bottom: 12px;
  font-size: var(--jp-ui-font-size3);
  font-weight: 400;
  color: var(--jp-ui-font-color0);
}

.jp-Dialog-body {
  display: flex;
  flex-direction: column;
  flex: 1 1 auto;
  font-size: var(--jp-ui-font-size1);
  background: var(--jp-layout-color1);
  overflow: auto;
}

.jp-Dialog-footer {
  display: flex;
  flex-direction: row;
  justify-content: flex-end;
  flex: 0 0 auto;
  margin-left: -12px;
  margin-right: -12px;
  padding: 12px;
}

.jp-Dialog-title {
  overflow: hidden;
  white-space: nowrap;
  text-overflow: ellipsis;
}

.jp-Dialog-body > .jp-select-wrapper {
  width: 100%;
}

.jp-Dialog-body > button {
  padding: 0px 16px;
}

.jp-Dialog-body > label {
  line-height: 1.4;
  color: var(--jp-ui-font-color0);
}

.jp-Dialog-button.jp-mod-styled:not(:last-child) {
  margin-right: 12px;
}

/*-----------------------------------------------------------------------------
| Copyright (c) 2014-2016, Jupyter Development Team.
|
| Distributed under the terms of the Modified BSD License.
|----------------------------------------------------------------------------*/

.jp-HoverBox {
  position: fixed;
}

.jp-HoverBox.jp-mod-outofview {
  display: none;
}

/*-----------------------------------------------------------------------------
| Copyright (c) Jupyter Development Team.
| Distributed under the terms of the Modified BSD License.
|----------------------------------------------------------------------------*/

.jp-IFrame {
  width: 100%;
  height: 100%;
}

.jp-IFrame > iframe {
  border: none;
}

/*
When drag events occur, `p-mod-override-cursor` is added to the body.
Because iframes steal all cursor events, the following two rules are necessary
to suppress pointer events while resize drags are occurring. There may be a
better solution to this problem.
*/
body.lm-mod-override-cursor .jp-IFrame {
  position: relative;
}

body.lm-mod-override-cursor .jp-IFrame:before {
  content: '';
  position: absolute;
  top: 0;
  left: 0;
  right: 0;
  bottom: 0;
  background: transparent;
}

.jp-Input-Boolean-Dialog {
  flex-direction: row-reverse;
  align-items: end;
  width: 100%;
}

.jp-Input-Boolean-Dialog > label {
  flex: 1 1 auto;
}

/*-----------------------------------------------------------------------------
| Copyright (c) 2014-2016, Jupyter Development Team.
|
| Distributed under the terms of the Modified BSD License.
|----------------------------------------------------------------------------*/

.jp-MainAreaWidget > :focus {
  outline: none;
}

/**
 * google-material-color v1.2.6
 * https://github.com/danlevan/google-material-color
 */
:root {
  --md-red-50: #ffebee;
  --md-red-100: #ffcdd2;
  --md-red-200: #ef9a9a;
  --md-red-300: #e57373;
  --md-red-400: #ef5350;
  --md-red-500: #f44336;
  --md-red-600: #e53935;
  --md-red-700: #d32f2f;
  --md-red-800: #c62828;
  --md-red-900: #b71c1c;
  --md-red-A100: #ff8a80;
  --md-red-A200: #ff5252;
  --md-red-A400: #ff1744;
  --md-red-A700: #d50000;

  --md-pink-50: #fce4ec;
  --md-pink-100: #f8bbd0;
  --md-pink-200: #f48fb1;
  --md-pink-300: #f06292;
  --md-pink-400: #ec407a;
  --md-pink-500: #e91e63;
  --md-pink-600: #d81b60;
  --md-pink-700: #c2185b;
  --md-pink-800: #ad1457;
  --md-pink-900: #880e4f;
  --md-pink-A100: #ff80ab;
  --md-pink-A200: #ff4081;
  --md-pink-A400: #f50057;
  --md-pink-A700: #c51162;

  --md-purple-50: #f3e5f5;
  --md-purple-100: #e1bee7;
  --md-purple-200: #ce93d8;
  --md-purple-300: #ba68c8;
  --md-purple-400: #ab47bc;
  --md-purple-500: #9c27b0;
  --md-purple-600: #8e24aa;
  --md-purple-700: #7b1fa2;
  --md-purple-800: #6a1b9a;
  --md-purple-900: #4a148c;
  --md-purple-A100: #ea80fc;
  --md-purple-A200: #e040fb;
  --md-purple-A400: #d500f9;
  --md-purple-A700: #aa00ff;

  --md-deep-purple-50: #ede7f6;
  --md-deep-purple-100: #d1c4e9;
  --md-deep-purple-200: #b39ddb;
  --md-deep-purple-300: #9575cd;
  --md-deep-purple-400: #7e57c2;
  --md-deep-purple-500: #673ab7;
  --md-deep-purple-600: #5e35b1;
  --md-deep-purple-700: #512da8;
  --md-deep-purple-800: #4527a0;
  --md-deep-purple-900: #311b92;
  --md-deep-purple-A100: #b388ff;
  --md-deep-purple-A200: #7c4dff;
  --md-deep-purple-A400: #651fff;
  --md-deep-purple-A700: #6200ea;

  --md-indigo-50: #e8eaf6;
  --md-indigo-100: #c5cae9;
  --md-indigo-200: #9fa8da;
  --md-indigo-300: #7986cb;
  --md-indigo-400: #5c6bc0;
  --md-indigo-500: #3f51b5;
  --md-indigo-600: #3949ab;
  --md-indigo-700: #303f9f;
  --md-indigo-800: #283593;
  --md-indigo-900: #1a237e;
  --md-indigo-A100: #8c9eff;
  --md-indigo-A200: #536dfe;
  --md-indigo-A400: #3d5afe;
  --md-indigo-A700: #304ffe;

  --md-blue-50: #e3f2fd;
  --md-blue-100: #bbdefb;
  --md-blue-200: #90caf9;
  --md-blue-300: #64b5f6;
  --md-blue-400: #42a5f5;
  --md-blue-500: #2196f3;
  --md-blue-600: #1e88e5;
  --md-blue-700: #1976d2;
  --md-blue-800: #1565c0;
  --md-blue-900: #0d47a1;
  --md-blue-A100: #82b1ff;
  --md-blue-A200: #448aff;
  --md-blue-A400: #2979ff;
  --md-blue-A700: #2962ff;

  --md-light-blue-50: #e1f5fe;
  --md-light-blue-100: #b3e5fc;
  --md-light-blue-200: #81d4fa;
  --md-light-blue-300: #4fc3f7;
  --md-light-blue-400: #29b6f6;
  --md-light-blue-500: #03a9f4;
  --md-light-blue-600: #039be5;
  --md-light-blue-700: #0288d1;
  --md-light-blue-800: #0277bd;
  --md-light-blue-900: #01579b;
  --md-light-blue-A100: #80d8ff;
  --md-light-blue-A200: #40c4ff;
  --md-light-blue-A400: #00b0ff;
  --md-light-blue-A700: #0091ea;

  --md-cyan-50: #e0f7fa;
  --md-cyan-100: #b2ebf2;
  --md-cyan-200: #80deea;
  --md-cyan-300: #4dd0e1;
  --md-cyan-400: #26c6da;
  --md-cyan-500: #00bcd4;
  --md-cyan-600: #00acc1;
  --md-cyan-700: #0097a7;
  --md-cyan-800: #00838f;
  --md-cyan-900: #006064;
  --md-cyan-A100: #84ffff;
  --md-cyan-A200: #18ffff;
  --md-cyan-A400: #00e5ff;
  --md-cyan-A700: #00b8d4;

  --md-teal-50: #e0f2f1;
  --md-teal-100: #b2dfdb;
  --md-teal-200: #80cbc4;
  --md-teal-300: #4db6ac;
  --md-teal-400: #26a69a;
  --md-teal-500: #009688;
  --md-teal-600: #00897b;
  --md-teal-700: #00796b;
  --md-teal-800: #00695c;
  --md-teal-900: #004d40;
  --md-teal-A100: #a7ffeb;
  --md-teal-A200: #64ffda;
  --md-teal-A400: #1de9b6;
  --md-teal-A700: #00bfa5;

  --md-green-50: #e8f5e9;
  --md-green-100: #c8e6c9;
  --md-green-200: #a5d6a7;
  --md-green-300: #81c784;
  --md-green-400: #66bb6a;
  --md-green-500: #4caf50;
  --md-green-600: #43a047;
  --md-green-700: #388e3c;
  --md-green-800: #2e7d32;
  --md-green-900: #1b5e20;
  --md-green-A100: #b9f6ca;
  --md-green-A200: #69f0ae;
  --md-green-A400: #00e676;
  --md-green-A700: #00c853;

  --md-light-green-50: #f1f8e9;
  --md-light-green-100: #dcedc8;
  --md-light-green-200: #c5e1a5;
  --md-light-green-300: #aed581;
  --md-light-green-400: #9ccc65;
  --md-light-green-500: #8bc34a;
  --md-light-green-600: #7cb342;
  --md-light-green-700: #689f38;
  --md-light-green-800: #558b2f;
  --md-light-green-900: #33691e;
  --md-light-green-A100: #ccff90;
  --md-light-green-A200: #b2ff59;
  --md-light-green-A400: #76ff03;
  --md-light-green-A700: #64dd17;

  --md-lime-50: #f9fbe7;
  --md-lime-100: #f0f4c3;
  --md-lime-200: #e6ee9c;
  --md-lime-300: #dce775;
  --md-lime-400: #d4e157;
  --md-lime-500: #cddc39;
  --md-lime-600: #c0ca33;
  --md-lime-700: #afb42b;
  --md-lime-800: #9e9d24;
  --md-lime-900: #827717;
  --md-lime-A100: #f4ff81;
  --md-lime-A200: #eeff41;
  --md-lime-A400: #c6ff00;
  --md-lime-A700: #aeea00;

  --md-yellow-50: #fffde7;
  --md-yellow-100: #fff9c4;
  --md-yellow-200: #fff59d;
  --md-yellow-300: #fff176;
  --md-yellow-400: #ffee58;
  --md-yellow-500: #ffeb3b;
  --md-yellow-600: #fdd835;
  --md-yellow-700: #fbc02d;
  --md-yellow-800: #f9a825;
  --md-yellow-900: #f57f17;
  --md-yellow-A100: #ffff8d;
  --md-yellow-A200: #ffff00;
  --md-yellow-A400: #ffea00;
  --md-yellow-A700: #ffd600;

  --md-amber-50: #fff8e1;
  --md-amber-100: #ffecb3;
  --md-amber-200: #ffe082;
  --md-amber-300: #ffd54f;
  --md-amber-400: #ffca28;
  --md-amber-500: #ffc107;
  --md-amber-600: #ffb300;
  --md-amber-700: #ffa000;
  --md-amber-800: #ff8f00;
  --md-amber-900: #ff6f00;
  --md-amber-A100: #ffe57f;
  --md-amber-A200: #ffd740;
  --md-amber-A400: #ffc400;
  --md-amber-A700: #ffab00;

  --md-orange-50: #fff3e0;
  --md-orange-100: #ffe0b2;
  --md-orange-200: #ffcc80;
  --md-orange-300: #ffb74d;
  --md-orange-400: #ffa726;
  --md-orange-500: #ff9800;
  --md-orange-600: #fb8c00;
  --md-orange-700: #f57c00;
  --md-orange-800: #ef6c00;
  --md-orange-900: #e65100;
  --md-orange-A100: #ffd180;
  --md-orange-A200: #ffab40;
  --md-orange-A400: #ff9100;
  --md-orange-A700: #ff6d00;

  --md-deep-orange-50: #fbe9e7;
  --md-deep-orange-100: #ffccbc;
  --md-deep-orange-200: #ffab91;
  --md-deep-orange-300: #ff8a65;
  --md-deep-orange-400: #ff7043;
  --md-deep-orange-500: #ff5722;
  --md-deep-orange-600: #f4511e;
  --md-deep-orange-700: #e64a19;
  --md-deep-orange-800: #d84315;
  --md-deep-orange-900: #bf360c;
  --md-deep-orange-A100: #ff9e80;
  --md-deep-orange-A200: #ff6e40;
  --md-deep-orange-A400: #ff3d00;
  --md-deep-orange-A700: #dd2c00;

  --md-brown-50: #efebe9;
  --md-brown-100: #d7ccc8;
  --md-brown-200: #bcaaa4;
  --md-brown-300: #a1887f;
  --md-brown-400: #8d6e63;
  --md-brown-500: #795548;
  --md-brown-600: #6d4c41;
  --md-brown-700: #5d4037;
  --md-brown-800: #4e342e;
  --md-brown-900: #3e2723;

  --md-grey-50: #fafafa;
  --md-grey-100: #f5f5f5;
  --md-grey-200: #eeeeee;
  --md-grey-300: #e0e0e0;
  --md-grey-400: #bdbdbd;
  --md-grey-500: #9e9e9e;
  --md-grey-600: #757575;
  --md-grey-700: #616161;
  --md-grey-800: #424242;
  --md-grey-900: #212121;

  --md-blue-grey-50: #eceff1;
  --md-blue-grey-100: #cfd8dc;
  --md-blue-grey-200: #b0bec5;
  --md-blue-grey-300: #90a4ae;
  --md-blue-grey-400: #78909c;
  --md-blue-grey-500: #607d8b;
  --md-blue-grey-600: #546e7a;
  --md-blue-grey-700: #455a64;
  --md-blue-grey-800: #37474f;
  --md-blue-grey-900: #263238;
}

/*-----------------------------------------------------------------------------
| Copyright (c) 2017, Jupyter Development Team.
|
| Distributed under the terms of the Modified BSD License.
|----------------------------------------------------------------------------*/

.jp-Spinner {
  position: absolute;
  display: flex;
  justify-content: center;
  align-items: center;
  z-index: 10;
  left: 0;
  top: 0;
  width: 100%;
  height: 100%;
  background: var(--jp-layout-color0);
  outline: none;
}

.jp-SpinnerContent {
  font-size: 10px;
  margin: 50px auto;
  text-indent: -9999em;
  width: 3em;
  height: 3em;
  border-radius: 50%;
  background: var(--jp-brand-color3);
  background: linear-gradient(
    to right,
    #f37626 10%,
    rgba(255, 255, 255, 0) 42%
  );
  position: relative;
  animation: load3 1s infinite linear, fadeIn 1s;
}

.jp-SpinnerContent:before {
  width: 50%;
  height: 50%;
  background: #f37626;
  border-radius: 100% 0 0 0;
  position: absolute;
  top: 0;
  left: 0;
  content: '';
}

.jp-SpinnerContent:after {
  background: var(--jp-layout-color0);
  width: 75%;
  height: 75%;
  border-radius: 50%;
  content: '';
  margin: auto;
  position: absolute;
  top: 0;
  left: 0;
  bottom: 0;
  right: 0;
}

@keyframes fadeIn {
  0% {
    opacity: 0;
  }
  100% {
    opacity: 1;
  }
}

@keyframes load3 {
  0% {
    transform: rotate(0deg);
  }
  100% {
    transform: rotate(360deg);
  }
}

/*-----------------------------------------------------------------------------
| Copyright (c) 2014-2017, Jupyter Development Team.
|
| Distributed under the terms of the Modified BSD License.
|----------------------------------------------------------------------------*/

button.jp-mod-styled {
  font-size: var(--jp-ui-font-size1);
  color: var(--jp-ui-font-color0);
  border: none;
  box-sizing: border-box;
  text-align: center;
  line-height: 32px;
  height: 32px;
  padding: 0px 12px;
  letter-spacing: 0.8px;
  outline: none;
  appearance: none;
  -webkit-appearance: none;
  -moz-appearance: none;
}

input.jp-mod-styled {
  background: var(--jp-input-background);
  height: 28px;
  box-sizing: border-box;
  border: var(--jp-border-width) solid var(--jp-border-color1);
  padding-left: 7px;
  padding-right: 7px;
  font-size: var(--jp-ui-font-size2);
  color: var(--jp-ui-font-color0);
  outline: none;
  appearance: none;
  -webkit-appearance: none;
  -moz-appearance: none;
}

input[type='checkbox'].jp-mod-styled {
  appearance: checkbox;
  -webkit-appearance: checkbox;
  -moz-appearance: checkbox;
  height: auto;
}

input.jp-mod-styled:focus {
  border: var(--jp-border-width) solid var(--md-blue-500);
  box-shadow: inset 0 0 4px var(--md-blue-300);
}

.jp-FileDialog-Checkbox {
  margin-top: 35px;
  display: flex;
  flex-direction: row;
  align-items: end;
  width: 100%;
}

.jp-FileDialog-Checkbox > label {
  flex: 1 1 auto;
}

.jp-select-wrapper {
  display: flex;
  position: relative;
  flex-direction: column;
  padding: 1px;
  background-color: var(--jp-layout-color1);
  height: 28px;
  box-sizing: border-box;
  margin-bottom: 12px;
}

.jp-select-wrapper.jp-mod-focused select.jp-mod-styled {
  border: var(--jp-border-width) solid var(--jp-input-active-border-color);
  box-shadow: var(--jp-input-box-shadow);
  background-color: var(--jp-input-active-background);
}

select.jp-mod-styled:hover {
  background-color: var(--jp-layout-color1);
  cursor: pointer;
  color: var(--jp-ui-font-color0);
  background-color: var(--jp-input-hover-background);
  box-shadow: inset 0 0px 1px rgba(0, 0, 0, 0.5);
}

select.jp-mod-styled {
  flex: 1 1 auto;
  height: 32px;
  width: 100%;
  font-size: var(--jp-ui-font-size2);
  background: var(--jp-input-background);
  color: var(--jp-ui-font-color0);
  padding: 0 25px 0 8px;
  border: var(--jp-border-width) solid var(--jp-input-border-color);
  border-radius: 0px;
  outline: none;
  appearance: none;
  -webkit-appearance: none;
  -moz-appearance: none;
}

/*-----------------------------------------------------------------------------
| Copyright (c) 2014-2016, Jupyter Development Team.
|
| Distributed under the terms of the Modified BSD License.
|----------------------------------------------------------------------------*/

:root {
  --jp-private-toolbar-height: calc(
    28px + var(--jp-border-width)
  ); /* leave 28px for content */
}

.jp-Toolbar {
  color: var(--jp-ui-font-color1);
  flex: 0 0 auto;
  display: flex;
  flex-direction: row;
  border-bottom: var(--jp-border-width) solid var(--jp-toolbar-border-color);
  box-shadow: var(--jp-toolbar-box-shadow);
  background: var(--jp-toolbar-background);
  min-height: var(--jp-toolbar-micro-height);
  padding: 2px;
  z-index: 1;
  overflow-x: auto;
}

/* Toolbar items */

.jp-Toolbar > .jp-Toolbar-item.jp-Toolbar-spacer {
  flex-grow: 1;
  flex-shrink: 1;
}

.jp-Toolbar-item.jp-Toolbar-kernelStatus {
  display: inline-block;
  width: 32px;
  background-repeat: no-repeat;
  background-position: center;
  background-size: 16px;
}

.jp-Toolbar > .jp-Toolbar-item {
  flex: 0 0 auto;
  display: flex;
  padding-left: 1px;
  padding-right: 1px;
  font-size: var(--jp-ui-font-size1);
  line-height: var(--jp-private-toolbar-height);
  height: 100%;
}

/* Toolbar buttons */

/* This is the div we use to wrap the react component into a Widget */
div.jp-ToolbarButton {
  color: transparent;
  border: none;
  box-sizing: border-box;
  outline: none;
  appearance: none;
  -webkit-appearance: none;
  -moz-appearance: none;
  padding: 0px;
  margin: 0px;
}

button.jp-ToolbarButtonComponent {
  background: var(--jp-layout-color1);
  border: none;
  box-sizing: border-box;
  outline: none;
  appearance: none;
  -webkit-appearance: none;
  -moz-appearance: none;
  padding: 0px 6px;
  margin: 0px;
  height: 24px;
  border-radius: var(--jp-border-radius);
  display: flex;
  align-items: center;
  text-align: center;
  font-size: 14px;
  min-width: unset;
  min-height: unset;
}

button.jp-ToolbarButtonComponent:disabled {
  opacity: 0.4;
}

button.jp-ToolbarButtonComponent span {
  padding: 0px;
  flex: 0 0 auto;
}

button.jp-ToolbarButtonComponent .jp-ToolbarButtonComponent-label {
  font-size: var(--jp-ui-font-size1);
  line-height: 100%;
  padding-left: 2px;
  color: var(--jp-ui-font-color1);
}

#jp-main-dock-panel[data-mode='single-document']
  .jp-MainAreaWidget
  > .jp-Toolbar.jp-Toolbar-micro {
  padding: 0;
  min-height: 0;
}

#jp-main-dock-panel[data-mode='single-document']
  .jp-MainAreaWidget
  > .jp-Toolbar {
  border: none;
  box-shadow: none;
}

/*-----------------------------------------------------------------------------
| Copyright (c) 2014-2017, Jupyter Development Team.
|
| Distributed under the terms of the Modified BSD License.
|----------------------------------------------------------------------------*/

/*-----------------------------------------------------------------------------
| Copyright (c) Jupyter Development Team.
| Copyright (c) 2014-2017, PhosphorJS Contributors
|
| Distributed under the terms of the BSD 3-Clause License.
|
| The full license is in the file LICENSE, distributed with this software.
|----------------------------------------------------------------------------*/


/* <DEPRECATED> */ body.p-mod-override-cursor *, /* </DEPRECATED> */
body.lm-mod-override-cursor * {
  cursor: inherit !important;
}

/*-----------------------------------------------------------------------------
| Copyright (c) 2014-2016, Jupyter Development Team.
|
| Distributed under the terms of the Modified BSD License.
|----------------------------------------------------------------------------*/

.jp-JSONEditor {
  display: flex;
  flex-direction: column;
  width: 100%;
}

.jp-JSONEditor-host {
  flex: 1 1 auto;
  border: var(--jp-border-width) solid var(--jp-input-border-color);
  border-radius: 0px;
  background: var(--jp-layout-color0);
  min-height: 50px;
  padding: 1px;
}

.jp-JSONEditor.jp-mod-error .jp-JSONEditor-host {
  border-color: red;
  outline-color: red;
}

.jp-JSONEditor-header {
  display: flex;
  flex: 1 0 auto;
  padding: 0 0 0 12px;
}

.jp-JSONEditor-header label {
  flex: 0 0 auto;
}

.jp-JSONEditor-commitButton {
  height: 16px;
  width: 16px;
  background-size: 18px;
  background-repeat: no-repeat;
  background-position: center;
}

.jp-JSONEditor-host.jp-mod-focused {
  background-color: var(--jp-input-active-background);
  border: 1px solid var(--jp-input-active-border-color);
  box-shadow: var(--jp-input-box-shadow);
}

.jp-Editor.jp-mod-dropTarget {
  border: var(--jp-border-width) solid var(--jp-input-active-border-color);
  box-shadow: var(--jp-input-box-shadow);
}

/* BASICS */

.CodeMirror {
  /* Set height, width, borders, and global font properties here */
  font-family: monospace;
  height: 300px;
  color: black;
  direction: ltr;
}

/* PADDING */

.CodeMirror-lines {
  padding: 4px 0; /* Vertical padding around content */
}
.CodeMirror pre.CodeMirror-line,
.CodeMirror pre.CodeMirror-line-like {
  padding: 0 4px; /* Horizontal padding of content */
}

.CodeMirror-scrollbar-filler, .CodeMirror-gutter-filler {
  background-color: white; /* The little square between H and V scrollbars */
}

/* GUTTER */

.CodeMirror-gutters {
  border-right: 1px solid #ddd;
  background-color: #f7f7f7;
  white-space: nowrap;
}
.CodeMirror-linenumbers {}
.CodeMirror-linenumber {
  padding: 0 3px 0 5px;
  min-width: 20px;
  text-align: right;
  color: #999;
  white-space: nowrap;
}

.CodeMirror-guttermarker { color: black; }
.CodeMirror-guttermarker-subtle { color: #999; }

/* CURSOR */

.CodeMirror-cursor {
  border-left: 1px solid black;
  border-right: none;
  width: 0;
}
/* Shown when moving in bi-directional text */
.CodeMirror div.CodeMirror-secondarycursor {
  border-left: 1px solid silver;
}
.cm-fat-cursor .CodeMirror-cursor {
  width: auto;
  border: 0 !important;
  background: #7e7;
}
.cm-fat-cursor div.CodeMirror-cursors {
  z-index: 1;
}
.cm-fat-cursor-mark {
  background-color: rgba(20, 255, 20, 0.5);
  -webkit-animation: blink 1.06s steps(1) infinite;
  -moz-animation: blink 1.06s steps(1) infinite;
  animation: blink 1.06s steps(1) infinite;
}
.cm-animate-fat-cursor {
  width: auto;
  border: 0;
  -webkit-animation: blink 1.06s steps(1) infinite;
  -moz-animation: blink 1.06s steps(1) infinite;
  animation: blink 1.06s steps(1) infinite;
  background-color: #7e7;
}
@-moz-keyframes blink {
  0% {}
  50% { background-color: transparent; }
  100% {}
}
@-webkit-keyframes blink {
  0% {}
  50% { background-color: transparent; }
  100% {}
}
@keyframes blink {
  0% {}
  50% { background-color: transparent; }
  100% {}
}

/* Can style cursor different in overwrite (non-insert) mode */
.CodeMirror-overwrite .CodeMirror-cursor {}

.cm-tab { display: inline-block; text-decoration: inherit; }

.CodeMirror-rulers {
  position: absolute;
  left: 0; right: 0; top: -50px; bottom: 0;
  overflow: hidden;
}
.CodeMirror-ruler {
  border-left: 1px solid #ccc;
  top: 0; bottom: 0;
  position: absolute;
}

/* DEFAULT THEME */

.cm-s-default .cm-header {color: blue;}
.cm-s-default .cm-quote {color: #090;}
.cm-negative {color: #d44;}
.cm-positive {color: #292;}
.cm-header, .cm-strong {font-weight: bold;}
.cm-em {font-style: italic;}
.cm-link {text-decoration: underline;}
.cm-strikethrough {text-decoration: line-through;}

.cm-s-default .cm-keyword {color: #708;}
.cm-s-default .cm-atom {color: #219;}
.cm-s-default .cm-number {color: #164;}
.cm-s-default .cm-def {color: #00f;}
.cm-s-default .cm-variable,
.cm-s-default .cm-punctuation,
.cm-s-default .cm-property,
.cm-s-default .cm-operator {}
.cm-s-default .cm-variable-2 {color: #05a;}
.cm-s-default .cm-variable-3, .cm-s-default .cm-type {color: #085;}
.cm-s-default .cm-comment {color: #a50;}
.cm-s-default .cm-string {color: #a11;}
.cm-s-default .cm-string-2 {color: #f50;}
.cm-s-default .cm-meta {color: #555;}
.cm-s-default .cm-qualifier {color: #555;}
.cm-s-default .cm-builtin {color: #30a;}
.cm-s-default .cm-bracket {color: #997;}
.cm-s-default .cm-tag {color: #170;}
.cm-s-default .cm-attribute {color: #00c;}
.cm-s-default .cm-hr {color: #999;}
.cm-s-default .cm-link {color: #00c;}

.cm-s-default .cm-error {color: #f00;}
.cm-invalidchar {color: #f00;}

.CodeMirror-composing { border-bottom: 2px solid; }

/* Default styles for common addons */

div.CodeMirror span.CodeMirror-matchingbracket {color: #0b0;}
div.CodeMirror span.CodeMirror-nonmatchingbracket {color: #a22;}
.CodeMirror-matchingtag { background: rgba(255, 150, 0, .3); }
.CodeMirror-activeline-background {background: #e8f2ff;}

/* STOP */

/* The rest of this file contains styles related to the mechanics of
   the editor. You probably shouldn't touch them. */

.CodeMirror {
  position: relative;
  overflow: hidden;
  background: white;
}

.CodeMirror-scroll {
  overflow: scroll !important; /* Things will break if this is overridden */
  /* 50px is the magic margin used to hide the element's real scrollbars */
  /* See overflow: hidden in .CodeMirror */
  margin-bottom: -50px; margin-right: -50px;
  padding-bottom: 50px;
  height: 100%;
  outline: none; /* Prevent dragging from highlighting the element */
  position: relative;
}
.CodeMirror-sizer {
  position: relative;
  border-right: 50px solid transparent;
}

/* The fake, visible scrollbars. Used to force redraw during scrolling
   before actual scrolling happens, thus preventing shaking and
   flickering artifacts. */
.CodeMirror-vscrollbar, .CodeMirror-hscrollbar, .CodeMirror-scrollbar-filler, .CodeMirror-gutter-filler {
  position: absolute;
  z-index: 6;
  display: none;
  outline: none;
}
.CodeMirror-vscrollbar {
  right: 0; top: 0;
  overflow-x: hidden;
  overflow-y: scroll;
}
.CodeMirror-hscrollbar {
  bottom: 0; left: 0;
  overflow-y: hidden;
  overflow-x: scroll;
}
.CodeMirror-scrollbar-filler {
  right: 0; bottom: 0;
}
.CodeMirror-gutter-filler {
  left: 0; bottom: 0;
}

.CodeMirror-gutters {
  position: absolute; left: 0; top: 0;
  min-height: 100%;
  z-index: 3;
}
.CodeMirror-gutter {
  white-space: normal;
  height: 100%;
  display: inline-block;
  vertical-align: top;
  margin-bottom: -50px;
}
.CodeMirror-gutter-wrapper {
  position: absolute;
  z-index: 4;
  background: none !important;
  border: none !important;
}
.CodeMirror-gutter-background {
  position: absolute;
  top: 0; bottom: 0;
  z-index: 4;
}
.CodeMirror-gutter-elt {
  position: absolute;
  cursor: default;
  z-index: 4;
}
.CodeMirror-gutter-wrapper ::selection { background-color: transparent }
.CodeMirror-gutter-wrapper ::-moz-selection { background-color: transparent }

.CodeMirror-lines {
  cursor: text;
  min-height: 1px; /* prevents collapsing before first draw */
}
.CodeMirror pre.CodeMirror-line,
.CodeMirror pre.CodeMirror-line-like {
  /* Reset some styles that the rest of the page might have set */
  -moz-border-radius: 0; -webkit-border-radius: 0; border-radius: 0;
  border-width: 0;
  background: transparent;
  font-family: inherit;
  font-size: inherit;
  margin: 0;
  white-space: pre;
  word-wrap: normal;
  line-height: inherit;
  color: inherit;
  z-index: 2;
  position: relative;
  overflow: visible;
  -webkit-tap-highlight-color: transparent;
  -webkit-font-variant-ligatures: contextual;
  font-variant-ligatures: contextual;
}
.CodeMirror-wrap pre.CodeMirror-line,
.CodeMirror-wrap pre.CodeMirror-line-like {
  word-wrap: break-word;
  white-space: pre-wrap;
  word-break: normal;
}

.CodeMirror-linebackground {
  position: absolute;
  left: 0; right: 0; top: 0; bottom: 0;
  z-index: 0;
}

.CodeMirror-linewidget {
  position: relative;
  z-index: 2;
  padding: 0.1px; /* Force widget margins to stay inside of the container */
}

.CodeMirror-widget {}

.CodeMirror-rtl pre { direction: rtl; }

.CodeMirror-code {
  outline: none;
}

/* Force content-box sizing for the elements where we expect it */
.CodeMirror-scroll,
.CodeMirror-sizer,
.CodeMirror-gutter,
.CodeMirror-gutters,
.CodeMirror-linenumber {
  -moz-box-sizing: content-box;
  box-sizing: content-box;
}

.CodeMirror-measure {
  position: absolute;
  width: 100%;
  height: 0;
  overflow: hidden;
  visibility: hidden;
}

.CodeMirror-cursor {
  position: absolute;
  pointer-events: none;
}
.CodeMirror-measure pre { position: static; }

div.CodeMirror-cursors {
  visibility: hidden;
  position: relative;
  z-index: 3;
}
div.CodeMirror-dragcursors {
  visibility: visible;
}

.CodeMirror-focused div.CodeMirror-cursors {
  visibility: visible;
}

.CodeMirror-selected { background: #d9d9d9; }
.CodeMirror-focused .CodeMirror-selected { background: #d7d4f0; }
.CodeMirror-crosshair { cursor: crosshair; }
.CodeMirror-line::selection, .CodeMirror-line > span::selection, .CodeMirror-line > span > span::selection { background: #d7d4f0; }
.CodeMirror-line::-moz-selection, .CodeMirror-line > span::-moz-selection, .CodeMirror-line > span > span::-moz-selection { background: #d7d4f0; }

.cm-searching {
  background-color: #ffa;
  background-color: rgba(255, 255, 0, .4);
}

/* Used to force a border model for a node */
.cm-force-border { padding-right: .1px; }

@media print {
  /* Hide the cursor when printing */
  .CodeMirror div.CodeMirror-cursors {
    visibility: hidden;
  }
}

/* See issue #2901 */
.cm-tab-wrap-hack:after { content: ''; }

/* Help users use markselection to safely style text background */
span.CodeMirror-selectedtext { background: none; }

.CodeMirror-dialog {
  position: absolute;
  left: 0; right: 0;
  background: inherit;
  z-index: 15;
  padding: .1em .8em;
  overflow: hidden;
  color: inherit;
}

.CodeMirror-dialog-top {
  border-bottom: 1px solid #eee;
  top: 0;
}

.CodeMirror-dialog-bottom {
  border-top: 1px solid #eee;
  bottom: 0;
}

.CodeMirror-dialog input {
  border: none;
  outline: none;
  background: transparent;
  width: 20em;
  color: inherit;
  font-family: monospace;
}

.CodeMirror-dialog button {
  font-size: 70%;
}

.CodeMirror-foldmarker {
  color: blue;
  text-shadow: #b9f 1px 1px 2px, #b9f -1px -1px 2px, #b9f 1px -1px 2px, #b9f -1px 1px 2px;
  font-family: arial;
  line-height: .3;
  cursor: pointer;
}
.CodeMirror-foldgutter {
  width: .7em;
}
.CodeMirror-foldgutter-open,
.CodeMirror-foldgutter-folded {
  cursor: pointer;
}
.CodeMirror-foldgutter-open:after {
  content: "\25BE";
}
.CodeMirror-foldgutter-folded:after {
  content: "\25B8";
}

/*-----------------------------------------------------------------------------
| Copyright (c) Jupyter Development Team.
| Distributed under the terms of the Modified BSD License.
|----------------------------------------------------------------------------*/

.CodeMirror {
  line-height: var(--jp-code-line-height);
  font-size: var(--jp-code-font-size);
  font-family: var(--jp-code-font-family);
  border: 0;
  border-radius: 0;
  height: auto;
  /* Changed to auto to autogrow */
}

.CodeMirror pre {
  padding: 0 var(--jp-code-padding);
}

.jp-CodeMirrorEditor[data-type='inline'] .CodeMirror-dialog {
  background-color: var(--jp-layout-color0);
  color: var(--jp-content-font-color1);
}

/* This causes https://github.com/jupyter/jupyterlab/issues/522 */
/* May not cause it not because we changed it! */
.CodeMirror-lines {
  padding: var(--jp-code-padding) 0;
}

.CodeMirror-linenumber {
  padding: 0 8px;
}

.jp-CodeMirrorEditor {
  cursor: text;
}

.jp-CodeMirrorEditor[data-type='inline'] .CodeMirror-cursor {
  border-left: var(--jp-code-cursor-width0) solid var(--jp-editor-cursor-color);
}

/* When zoomed out 67% and 33% on a screen of 1440 width x 900 height */
@media screen and (min-width: 2138px) and (max-width: 4319px) {
  .jp-CodeMirrorEditor[data-type='inline'] .CodeMirror-cursor {
    border-left: var(--jp-code-cursor-width1) solid
      var(--jp-editor-cursor-color);
  }
}

/* When zoomed out less than 33% */
@media screen and (min-width: 4320px) {
  .jp-CodeMirrorEditor[data-type='inline'] .CodeMirror-cursor {
    border-left: var(--jp-code-cursor-width2) solid
      var(--jp-editor-cursor-color);
  }
}

.CodeMirror.jp-mod-readOnly .CodeMirror-cursor {
  display: none;
}

.CodeMirror-gutters {
  border-right: 1px solid var(--jp-border-color2);
  background-color: var(--jp-layout-color0);
}

.jp-CollaboratorCursor {
  border-left: 5px solid transparent;
  border-right: 5px solid transparent;
  border-top: none;
  border-bottom: 3px solid;
  background-clip: content-box;
  margin-left: -5px;
  margin-right: -5px;
}

.CodeMirror-selectedtext.cm-searching {
  background-color: var(--jp-search-selected-match-background-color) !important;
  color: var(--jp-search-selected-match-color) !important;
}

.cm-searching {
  background-color: var(
    --jp-search-unselected-match-background-color
  ) !important;
  color: var(--jp-search-unselected-match-color) !important;
}

.CodeMirror-focused .CodeMirror-selected {
  background-color: var(--jp-editor-selected-focused-background);
}

.CodeMirror-selected {
  background-color: var(--jp-editor-selected-background);
}

.jp-CollaboratorCursor-hover {
  position: absolute;
  z-index: 1;
  transform: translateX(-50%);
  color: white;
  border-radius: 3px;
  padding-left: 4px;
  padding-right: 4px;
  padding-top: 1px;
  padding-bottom: 1px;
  text-align: center;
  font-size: var(--jp-ui-font-size1);
  white-space: nowrap;
}

.jp-CodeMirror-ruler {
  border-left: 1px dashed var(--jp-border-color2);
}

/**
 * Here is our jupyter theme for CodeMirror syntax highlighting
 * This is used in our marked.js syntax highlighting and CodeMirror itself
 * The string "jupyter" is set in ../codemirror/widget.DEFAULT_CODEMIRROR_THEME
 * This came from the classic notebook, which came form highlight.js/GitHub
 */

/**
 * CodeMirror themes are handling the background/color in this way. This works
 * fine for CodeMirror editors outside the notebook, but the notebook styles
 * these things differently.
 */
.CodeMirror.cm-s-jupyter {
  background: var(--jp-layout-color0);
  color: var(--jp-content-font-color1);
}

/* In the notebook, we want this styling to be handled by its container */
.jp-CodeConsole .CodeMirror.cm-s-jupyter,
.jp-Notebook .CodeMirror.cm-s-jupyter {
  background: transparent;
}

.cm-s-jupyter .CodeMirror-cursor {
  border-left: var(--jp-code-cursor-width0) solid var(--jp-editor-cursor-color);
}
.cm-s-jupyter span.cm-keyword {
  color: var(--jp-mirror-editor-keyword-color);
  font-weight: bold;
}
.cm-s-jupyter span.cm-atom {
  color: var(--jp-mirror-editor-atom-color);
}
.cm-s-jupyter span.cm-number {
  color: var(--jp-mirror-editor-number-color);
}
.cm-s-jupyter span.cm-def {
  color: var(--jp-mirror-editor-def-color);
}
.cm-s-jupyter span.cm-variable {
  color: var(--jp-mirror-editor-variable-color);
}
.cm-s-jupyter span.cm-variable-2 {
  color: var(--jp-mirror-editor-variable-2-color);
}
.cm-s-jupyter span.cm-variable-3 {
  color: var(--jp-mirror-editor-variable-3-color);
}
.cm-s-jupyter span.cm-punctuation {
  color: var(--jp-mirror-editor-punctuation-color);
}
.cm-s-jupyter span.cm-property {
  color: var(--jp-mirror-editor-property-color);
}
.cm-s-jupyter span.cm-operator {
  color: var(--jp-mirror-editor-operator-color);
  font-weight: bold;
}
.cm-s-jupyter span.cm-comment {
  color: var(--jp-mirror-editor-comment-color);
  font-style: italic;
}
.cm-s-jupyter span.cm-string {
  color: var(--jp-mirror-editor-string-color);
}
.cm-s-jupyter span.cm-string-2 {
  color: var(--jp-mirror-editor-string-2-color);
}
.cm-s-jupyter span.cm-meta {
  color: var(--jp-mirror-editor-meta-color);
}
.cm-s-jupyter span.cm-qualifier {
  color: var(--jp-mirror-editor-qualifier-color);
}
.cm-s-jupyter span.cm-builtin {
  color: var(--jp-mirror-editor-builtin-color);
}
.cm-s-jupyter span.cm-bracket {
  color: var(--jp-mirror-editor-bracket-color);
}
.cm-s-jupyter span.cm-tag {
  color: var(--jp-mirror-editor-tag-color);
}
.cm-s-jupyter span.cm-attribute {
  color: var(--jp-mirror-editor-attribute-color);
}
.cm-s-jupyter span.cm-header {
  color: var(--jp-mirror-editor-header-color);
}
.cm-s-jupyter span.cm-quote {
  color: var(--jp-mirror-editor-quote-color);
}
.cm-s-jupyter span.cm-link {
  color: var(--jp-mirror-editor-link-color);
}
.cm-s-jupyter span.cm-error {
  color: var(--jp-mirror-editor-error-color);
}
.cm-s-jupyter span.cm-hr {
  color: #999;
}

.cm-s-jupyter span.cm-tab {
  background: url(data:image/png;base64,iVBORw0KGgoAAAANSUhEUgAAADAAAAAMCAYAAAAkuj5RAAAAAXNSR0IArs4c6QAAAGFJREFUSMft1LsRQFAQheHPowAKoACx3IgEKtaEHujDjORSgWTH/ZOdnZOcM/sgk/kFFWY0qV8foQwS4MKBCS3qR6ixBJvElOobYAtivseIE120FaowJPN75GMu8j/LfMwNjh4HUpwg4LUAAAAASUVORK5CYII=);
  background-position: right;
  background-repeat: no-repeat;
}

.cm-s-jupyter .CodeMirror-activeline-background,
.cm-s-jupyter .CodeMirror-gutter {
  background-color: var(--jp-layout-color2);
}

/* Styles for shared cursors (remote cursor locations and selected ranges) */
.jp-CodeMirrorEditor .remote-caret {
  position: relative;
  border-left: 2px solid black;
  margin-left: -1px;
  margin-right: -1px;
  box-sizing: border-box;
}

.jp-CodeMirrorEditor .remote-caret > div {
  white-space: nowrap;
  position: absolute;
  top: -1.15em;
  padding-bottom: 0.05em;
  left: -2px;
  font-size: 0.95em;
  background-color: rgb(250, 129, 0);
  font-family: var(--jp-ui-font-family);
  font-weight: bold;
  line-height: normal;
  user-select: none;
  color: white;
  padding-left: 2px;
  padding-right: 2px;
  z-index: 3;
  transition: opacity 0.3s ease-in-out;
}

.jp-CodeMirrorEditor .remote-caret.hide-name > div {
  transition-delay: 0.7s;
  opacity: 0;
}

.jp-CodeMirrorEditor .remote-caret:hover > div {
  opacity: 1;
  transition-delay: 0s;
}

/*-----------------------------------------------------------------------------
| Copyright (c) Jupyter Development Team.
| Distributed under the terms of the Modified BSD License.
|----------------------------------------------------------------------------*/

/*-----------------------------------------------------------------------------
| RenderedText
|----------------------------------------------------------------------------*/

:root {
  /* This is the padding value to fill the gaps between lines containing spans with background color. */
  --jp-private-code-span-padding: calc(
    (var(--jp-code-line-height) - 1) * var(--jp-code-font-size) / 2
  );
}

.jp-RenderedText {
  text-align: left;
  padding-left: var(--jp-code-padding);
  line-height: var(--jp-code-line-height);
  font-family: var(--jp-code-font-family);
}

.jp-RenderedText pre,
.jp-RenderedJavaScript pre,
.jp-RenderedHTMLCommon pre {
  color: var(--jp-content-font-color1);
  font-size: var(--jp-code-font-size);
  border: none;
  margin: 0px;
  padding: 0px;
}

.jp-RenderedText pre a:link {
  text-decoration: none;
  color: var(--jp-content-link-color);
}
.jp-RenderedText pre a:hover {
  text-decoration: underline;
  color: var(--jp-content-link-color);
}
.jp-RenderedText pre a:visited {
  text-decoration: none;
  color: var(--jp-content-link-color);
}

/* console foregrounds and backgrounds */
.jp-RenderedText pre .ansi-black-fg {
  color: #3e424d;
}
.jp-RenderedText pre .ansi-red-fg {
  color: #e75c58;
}
.jp-RenderedText pre .ansi-green-fg {
  color: #00a250;
}
.jp-RenderedText pre .ansi-yellow-fg {
  color: #ddb62b;
}
.jp-RenderedText pre .ansi-blue-fg {
  color: #208ffb;
}
.jp-RenderedText pre .ansi-magenta-fg {
  color: #d160c4;
}
.jp-RenderedText pre .ansi-cyan-fg {
  color: #60c6c8;
}
.jp-RenderedText pre .ansi-white-fg {
  color: #c5c1b4;
}

.jp-RenderedText pre .ansi-black-bg {
  background-color: #3e424d;
  padding: var(--jp-private-code-span-padding) 0;
}
.jp-RenderedText pre .ansi-red-bg {
  background-color: #e75c58;
  padding: var(--jp-private-code-span-padding) 0;
}
.jp-RenderedText pre .ansi-green-bg {
  background-color: #00a250;
  padding: var(--jp-private-code-span-padding) 0;
}
.jp-RenderedText pre .ansi-yellow-bg {
  background-color: #ddb62b;
  padding: var(--jp-private-code-span-padding) 0;
}
.jp-RenderedText pre .ansi-blue-bg {
  background-color: #208ffb;
  padding: var(--jp-private-code-span-padding) 0;
}
.jp-RenderedText pre .ansi-magenta-bg {
  background-color: #d160c4;
  padding: var(--jp-private-code-span-padding) 0;
}
.jp-RenderedText pre .ansi-cyan-bg {
  background-color: #60c6c8;
  padding: var(--jp-private-code-span-padding) 0;
}
.jp-RenderedText pre .ansi-white-bg {
  background-color: #c5c1b4;
  padding: var(--jp-private-code-span-padding) 0;
}

.jp-RenderedText pre .ansi-black-intense-fg {
  color: #282c36;
}
.jp-RenderedText pre .ansi-red-intense-fg {
  color: #b22b31;
}
.jp-RenderedText pre .ansi-green-intense-fg {
  color: #007427;
}
.jp-RenderedText pre .ansi-yellow-intense-fg {
  color: #b27d12;
}
.jp-RenderedText pre .ansi-blue-intense-fg {
  color: #0065ca;
}
.jp-RenderedText pre .ansi-magenta-intense-fg {
  color: #a03196;
}
.jp-RenderedText pre .ansi-cyan-intense-fg {
  color: #258f8f;
}
.jp-RenderedText pre .ansi-white-intense-fg {
  color: #a1a6b2;
}

.jp-RenderedText pre .ansi-black-intense-bg {
  background-color: #282c36;
  padding: var(--jp-private-code-span-padding) 0;
}
.jp-RenderedText pre .ansi-red-intense-bg {
  background-color: #b22b31;
  padding: var(--jp-private-code-span-padding) 0;
}
.jp-RenderedText pre .ansi-green-intense-bg {
  background-color: #007427;
  padding: var(--jp-private-code-span-padding) 0;
}
.jp-RenderedText pre .ansi-yellow-intense-bg {
  background-color: #b27d12;
  padding: var(--jp-private-code-span-padding) 0;
}
.jp-RenderedText pre .ansi-blue-intense-bg {
  background-color: #0065ca;
  padding: var(--jp-private-code-span-padding) 0;
}
.jp-RenderedText pre .ansi-magenta-intense-bg {
  background-color: #a03196;
  padding: var(--jp-private-code-span-padding) 0;
}
.jp-RenderedText pre .ansi-cyan-intense-bg {
  background-color: #258f8f;
  padding: var(--jp-private-code-span-padding) 0;
}
.jp-RenderedText pre .ansi-white-intense-bg {
  background-color: #a1a6b2;
  padding: var(--jp-private-code-span-padding) 0;
}

.jp-RenderedText pre .ansi-default-inverse-fg {
  color: var(--jp-ui-inverse-font-color0);
}
.jp-RenderedText pre .ansi-default-inverse-bg {
  background-color: var(--jp-inverse-layout-color0);
  padding: var(--jp-private-code-span-padding) 0;
}

.jp-RenderedText pre .ansi-bold {
  font-weight: bold;
}
.jp-RenderedText pre .ansi-underline {
  text-decoration: underline;
}

.jp-RenderedText[data-mime-type='application/vnd.jupyter.stderr'] {
  background: var(--jp-rendermime-error-background);
  padding-top: var(--jp-code-padding);
}

/*-----------------------------------------------------------------------------
| RenderedLatex
|----------------------------------------------------------------------------*/

.jp-RenderedLatex {
  color: var(--jp-content-font-color1);
  font-size: var(--jp-content-font-size1);
  line-height: var(--jp-content-line-height);
}

/* Left-justify outputs.*/
.jp-OutputArea-output.jp-RenderedLatex {
  padding: var(--jp-code-padding);
  text-align: left;
}

/*-----------------------------------------------------------------------------
| RenderedHTML
|----------------------------------------------------------------------------*/

.jp-RenderedHTMLCommon {
  color: var(--jp-content-font-color1);
  font-family: var(--jp-content-font-family);
  font-size: var(--jp-content-font-size1);
  line-height: var(--jp-content-line-height);
  /* Give a bit more R padding on Markdown text to keep line lengths reasonable */
  padding-right: 20px;
}

.jp-RenderedHTMLCommon em {
  font-style: italic;
}

.jp-RenderedHTMLCommon strong {
  font-weight: bold;
}

.jp-RenderedHTMLCommon u {
  text-decoration: underline;
}

.jp-RenderedHTMLCommon a:link {
  text-decoration: none;
  color: var(--jp-content-link-color);
}

.jp-RenderedHTMLCommon a:hover {
  text-decoration: underline;
  color: var(--jp-content-link-color);
}

.jp-RenderedHTMLCommon a:visited {
  text-decoration: none;
  color: var(--jp-content-link-color);
}

/* Headings */

.jp-RenderedHTMLCommon h1,
.jp-RenderedHTMLCommon h2,
.jp-RenderedHTMLCommon h3,
.jp-RenderedHTMLCommon h4,
.jp-RenderedHTMLCommon h5,
.jp-RenderedHTMLCommon h6 {
  line-height: var(--jp-content-heading-line-height);
  font-weight: var(--jp-content-heading-font-weight);
  font-style: normal;
  margin: var(--jp-content-heading-margin-top) 0
    var(--jp-content-heading-margin-bottom) 0;
}

.jp-RenderedHTMLCommon h1:first-child,
.jp-RenderedHTMLCommon h2:first-child,
.jp-RenderedHTMLCommon h3:first-child,
.jp-RenderedHTMLCommon h4:first-child,
.jp-RenderedHTMLCommon h5:first-child,
.jp-RenderedHTMLCommon h6:first-child {
  margin-top: calc(0.5 * var(--jp-content-heading-margin-top));
}

.jp-RenderedHTMLCommon h1:last-child,
.jp-RenderedHTMLCommon h2:last-child,
.jp-RenderedHTMLCommon h3:last-child,
.jp-RenderedHTMLCommon h4:last-child,
.jp-RenderedHTMLCommon h5:last-child,
.jp-RenderedHTMLCommon h6:last-child {
  margin-bottom: calc(0.5 * var(--jp-content-heading-margin-bottom));
}

.jp-RenderedHTMLCommon h1 {
  font-size: var(--jp-content-font-size5);
}

.jp-RenderedHTMLCommon h2 {
  font-size: var(--jp-content-font-size4);
}

.jp-RenderedHTMLCommon h3 {
  font-size: var(--jp-content-font-size3);
}

.jp-RenderedHTMLCommon h4 {
  font-size: var(--jp-content-font-size2);
}

.jp-RenderedHTMLCommon h5 {
  font-size: var(--jp-content-font-size1);
}

.jp-RenderedHTMLCommon h6 {
  font-size: var(--jp-content-font-size0);
}

/* Lists */

.jp-RenderedHTMLCommon ul:not(.list-inline),
.jp-RenderedHTMLCommon ol:not(.list-inline) {
  padding-left: 2em;
}

.jp-RenderedHTMLCommon ul {
  list-style: disc;
}

.jp-RenderedHTMLCommon ul ul {
  list-style: square;
}

.jp-RenderedHTMLCommon ul ul ul {
  list-style: circle;
}

.jp-RenderedHTMLCommon ol {
  list-style: decimal;
}

.jp-RenderedHTMLCommon ol ol {
  list-style: upper-alpha;
}

.jp-RenderedHTMLCommon ol ol ol {
  list-style: lower-alpha;
}

.jp-RenderedHTMLCommon ol ol ol ol {
  list-style: lower-roman;
}

.jp-RenderedHTMLCommon ol ol ol ol ol {
  list-style: decimal;
}

.jp-RenderedHTMLCommon ol,
.jp-RenderedHTMLCommon ul {
  margin-bottom: 1em;
}

.jp-RenderedHTMLCommon ul ul,
.jp-RenderedHTMLCommon ul ol,
.jp-RenderedHTMLCommon ol ul,
.jp-RenderedHTMLCommon ol ol {
  margin-bottom: 0em;
}

.jp-RenderedHTMLCommon hr {
  color: var(--jp-border-color2);
  background-color: var(--jp-border-color1);
  margin-top: 1em;
  margin-bottom: 1em;
}

.jp-RenderedHTMLCommon > pre {
  margin: 1.5em 2em;
}

.jp-RenderedHTMLCommon pre,
.jp-RenderedHTMLCommon code {
  border: 0;
  background-color: var(--jp-layout-color0);
  color: var(--jp-content-font-color1);
  font-family: var(--jp-code-font-family);
  font-size: inherit;
  line-height: var(--jp-code-line-height);
  padding: 0;
  white-space: pre-wrap;
}

.jp-RenderedHTMLCommon :not(pre) > code {
  background-color: var(--jp-layout-color2);
  padding: 1px 5px;
}

/* Tables */

.jp-RenderedHTMLCommon table {
  border-collapse: collapse;
  border-spacing: 0;
  border: none;
  color: var(--jp-ui-font-color1);
  font-size: 12px;
  table-layout: fixed;
  margin-left: auto;
  margin-right: auto;
}

.jp-RenderedHTMLCommon thead {
  border-bottom: var(--jp-border-width) solid var(--jp-border-color1);
  vertical-align: bottom;
}

.jp-RenderedHTMLCommon td,
.jp-RenderedHTMLCommon th,
.jp-RenderedHTMLCommon tr {
  vertical-align: middle;
  padding: 0.5em 0.5em;
  line-height: normal;
  white-space: normal;
  max-width: none;
  border: none;
}

.jp-RenderedMarkdown.jp-RenderedHTMLCommon td,
.jp-RenderedMarkdown.jp-RenderedHTMLCommon th {
  max-width: none;
}

:not(.jp-RenderedMarkdown).jp-RenderedHTMLCommon td,
:not(.jp-RenderedMarkdown).jp-RenderedHTMLCommon th,
:not(.jp-RenderedMarkdown).jp-RenderedHTMLCommon tr {
  text-align: right;
}

.jp-RenderedHTMLCommon th {
  font-weight: bold;
}

.jp-RenderedHTMLCommon tbody tr:nth-child(odd) {
  background: var(--jp-layout-color0);
}

.jp-RenderedHTMLCommon tbody tr:nth-child(even) {
  background: var(--jp-rendermime-table-row-background);
}

.jp-RenderedHTMLCommon tbody tr:hover {
  background: var(--jp-rendermime-table-row-hover-background);
}

.jp-RenderedHTMLCommon table {
  margin-bottom: 1em;
}

.jp-RenderedHTMLCommon p {
  text-align: left;
  margin: 0px;
}

.jp-RenderedHTMLCommon p {
  margin-bottom: 1em;
}

.jp-RenderedHTMLCommon img {
  -moz-force-broken-image-icon: 1;
}

/* Restrict to direct children as other images could be nested in other content. */
.jp-RenderedHTMLCommon > img {
  display: block;
  margin-left: 0;
  margin-right: 0;
  margin-bottom: 1em;
}

/* Change color behind transparent images if they need it... */
[data-jp-theme-light='false'] .jp-RenderedImage img.jp-needs-light-background {
  background-color: var(--jp-inverse-layout-color1);
}
[data-jp-theme-light='true'] .jp-RenderedImage img.jp-needs-dark-background {
  background-color: var(--jp-inverse-layout-color1);
}
/* ...or leave it untouched if they don't */
[data-jp-theme-light='false'] .jp-RenderedImage img.jp-needs-dark-background {
}
[data-jp-theme-light='true'] .jp-RenderedImage img.jp-needs-light-background {
}

.jp-RenderedHTMLCommon img,
.jp-RenderedImage img,
.jp-RenderedHTMLCommon svg,
.jp-RenderedSVG svg {
  max-width: 100%;
  height: auto;
}

.jp-RenderedHTMLCommon img.jp-mod-unconfined,
.jp-RenderedImage img.jp-mod-unconfined,
.jp-RenderedHTMLCommon svg.jp-mod-unconfined,
.jp-RenderedSVG svg.jp-mod-unconfined {
  max-width: none;
}

.jp-RenderedHTMLCommon .alert {
  padding: var(--jp-notebook-padding);
  border: var(--jp-border-width) solid transparent;
  border-radius: var(--jp-border-radius);
  margin-bottom: 1em;
}

.jp-RenderedHTMLCommon .alert-info {
  color: var(--jp-info-color0);
  background-color: var(--jp-info-color3);
  border-color: var(--jp-info-color2);
}
.jp-RenderedHTMLCommon .alert-info hr {
  border-color: var(--jp-info-color3);
}
.jp-RenderedHTMLCommon .alert-info > p:last-child,
.jp-RenderedHTMLCommon .alert-info > ul:last-child {
  margin-bottom: 0;
}

.jp-RenderedHTMLCommon .alert-warning {
  color: var(--jp-warn-color0);
  background-color: var(--jp-warn-color3);
  border-color: var(--jp-warn-color2);
}
.jp-RenderedHTMLCommon .alert-warning hr {
  border-color: var(--jp-warn-color3);
}
.jp-RenderedHTMLCommon .alert-warning > p:last-child,
.jp-RenderedHTMLCommon .alert-warning > ul:last-child {
  margin-bottom: 0;
}

.jp-RenderedHTMLCommon .alert-success {
  color: var(--jp-success-color0);
  background-color: var(--jp-success-color3);
  border-color: var(--jp-success-color2);
}
.jp-RenderedHTMLCommon .alert-success hr {
  border-color: var(--jp-success-color3);
}
.jp-RenderedHTMLCommon .alert-success > p:last-child,
.jp-RenderedHTMLCommon .alert-success > ul:last-child {
  margin-bottom: 0;
}

.jp-RenderedHTMLCommon .alert-danger {
  color: var(--jp-error-color0);
  background-color: var(--jp-error-color3);
  border-color: var(--jp-error-color2);
}
.jp-RenderedHTMLCommon .alert-danger hr {
  border-color: var(--jp-error-color3);
}
.jp-RenderedHTMLCommon .alert-danger > p:last-child,
.jp-RenderedHTMLCommon .alert-danger > ul:last-child {
  margin-bottom: 0;
}

.jp-RenderedHTMLCommon blockquote {
  margin: 1em 2em;
  padding: 0 1em;
  border-left: 5px solid var(--jp-border-color2);
}

a.jp-InternalAnchorLink {
  visibility: hidden;
  margin-left: 8px;
  color: var(--md-blue-800);
}

h1:hover .jp-InternalAnchorLink,
h2:hover .jp-InternalAnchorLink,
h3:hover .jp-InternalAnchorLink,
h4:hover .jp-InternalAnchorLink,
h5:hover .jp-InternalAnchorLink,
h6:hover .jp-InternalAnchorLink {
  visibility: visible;
}

.jp-RenderedHTMLCommon kbd {
  background-color: var(--jp-rendermime-table-row-background);
  border: 1px solid var(--jp-border-color0);
  border-bottom-color: var(--jp-border-color2);
  border-radius: 3px;
  box-shadow: inset 0 -1px 0 rgba(0, 0, 0, 0.25);
  display: inline-block;
  font-size: 0.8em;
  line-height: 1em;
  padding: 0.2em 0.5em;
}

/* Most direct children of .jp-RenderedHTMLCommon have a margin-bottom of 1.0.
 * At the bottom of cells this is a bit too much as there is also spacing
 * between cells. Going all the way to 0 gets too tight between markdown and
 * code cells.
 */
.jp-RenderedHTMLCommon > *:last-child {
  margin-bottom: 0.5em;
}

/*-----------------------------------------------------------------------------
| Copyright (c) Jupyter Development Team.
| Distributed under the terms of the Modified BSD License.
|----------------------------------------------------------------------------*/

.jp-MimeDocument {
  outline: none;
}

/*-----------------------------------------------------------------------------
| Copyright (c) Jupyter Development Team.
| Distributed under the terms of the Modified BSD License.
|----------------------------------------------------------------------------*/

/*-----------------------------------------------------------------------------
| Variables
|----------------------------------------------------------------------------*/

:root {
  --jp-private-filebrowser-button-height: 28px;
  --jp-private-filebrowser-button-width: 48px;
}

/*-----------------------------------------------------------------------------
| Copyright (c) Jupyter Development Team.
| Distributed under the terms of the Modified BSD License.
|----------------------------------------------------------------------------*/

.jp-FileBrowser {
  display: flex;
  flex-direction: column;
  color: var(--jp-ui-font-color1);
  background: var(--jp-layout-color1);
  /* This is needed so that all font sizing of children done in ems is
   * relative to this base size */
  font-size: var(--jp-ui-font-size1);
}

.jp-FileBrowser-toolbar.jp-Toolbar {
  border-bottom: none;
  height: auto;
  margin: var(--jp-toolbar-header-margin);
  box-shadow: none;
}

.jp-BreadCrumbs {
  flex: 0 0 auto;
  margin: 8px 12px 8px 12px;
}

.jp-BreadCrumbs-item {
  margin: 0px 2px;
  padding: 0px 2px;
  border-radius: var(--jp-border-radius);
  cursor: pointer;
}

.jp-BreadCrumbs-item:hover {
  background-color: var(--jp-layout-color2);
}

.jp-BreadCrumbs-item:first-child {
  margin-left: 0px;
}

.jp-BreadCrumbs-item.jp-mod-dropTarget {
  background-color: var(--jp-brand-color2);
  opacity: 0.7;
}

/*-----------------------------------------------------------------------------
| Buttons
|----------------------------------------------------------------------------*/

.jp-FileBrowser-toolbar.jp-Toolbar {
  padding: 0px;
  margin: 8px 12px 0px 12px;
}

.jp-FileBrowser-toolbar.jp-Toolbar {
  justify-content: flex-start;
}

.jp-FileBrowser-toolbar.jp-Toolbar .jp-Toolbar-item {
  flex: 0 0 auto;
  padding-left: 0px;
  padding-right: 2px;
}

.jp-FileBrowser-toolbar.jp-Toolbar .jp-ToolbarButtonComponent {
  width: 40px;
}

.jp-FileBrowser-toolbar.jp-Toolbar
  .jp-Toolbar-item:first-child
  .jp-ToolbarButtonComponent {
  width: 72px;
  background: var(--jp-brand-color1);
}

.jp-FileBrowser-toolbar.jp-Toolbar
  .jp-Toolbar-item:first-child
  .jp-ToolbarButtonComponent:focus-visible {
  background-color: var(--jp-brand-color0);
}

.jp-FileBrowser-toolbar.jp-Toolbar
  .jp-Toolbar-item:first-child
  .jp-ToolbarButtonComponent
  .jp-icon3 {
  fill: white;
}

/*-----------------------------------------------------------------------------
| Other styles
|----------------------------------------------------------------------------*/

.jp-FileDialog.jp-mod-conflict input {
  color: var(--jp-error-color1);
}

.jp-FileDialog .jp-new-name-title {
  margin-top: 12px;
}

.jp-LastModified-hidden {
  display: none;
}

.jp-FileBrowser-filterBox {
  padding: 0px;
  flex: 0 0 auto;
  margin: 8px 12px 0px 12px;
}

/*-----------------------------------------------------------------------------
| DirListing
|----------------------------------------------------------------------------*/

.jp-DirListing {
  flex: 1 1 auto;
  display: flex;
  flex-direction: column;
  outline: 0;
}

.jp-DirListing:focus-visible {
  border: 1px solid var(--jp-brand-color1);
}

.jp-DirListing-header {
  flex: 0 0 auto;
  display: flex;
  flex-direction: row;
  overflow: hidden;
  border-top: var(--jp-border-width) solid var(--jp-border-color2);
  border-bottom: var(--jp-border-width) solid var(--jp-border-color1);
  box-shadow: var(--jp-toolbar-box-shadow);
  z-index: 2;
}

.jp-DirListing-headerItem {
  padding: 4px 12px 2px 12px;
  font-weight: 500;
}

.jp-DirListing-headerItem:hover {
  background: var(--jp-layout-color2);
}

.jp-DirListing-headerItem.jp-id-name {
  flex: 1 0 84px;
}

.jp-DirListing-headerItem.jp-id-modified {
  flex: 0 0 112px;
  border-left: var(--jp-border-width) solid var(--jp-border-color2);
  text-align: right;
}

.jp-id-narrow {
  display: none;
  flex: 0 0 5px;
  padding: 4px 4px;
  border-left: var(--jp-border-width) solid var(--jp-border-color2);
  text-align: right;
  color: var(--jp-border-color2);
}

.jp-DirListing-narrow .jp-id-narrow {
  display: block;
}

.jp-DirListing-narrow .jp-id-modified,
.jp-DirListing-narrow .jp-DirListing-itemModified {
  display: none;
}

.jp-DirListing-headerItem.jp-mod-selected {
  font-weight: 600;
}

/* increase specificity to override bundled default */
.jp-DirListing-content {
  flex: 1 1 auto;
  margin: 0;
  padding: 0;
  list-style-type: none;
  overflow: auto;
  background-color: var(--jp-layout-color1);
}

.jp-DirListing-content mark {
  color: var(--jp-ui-font-color0);
  background-color: transparent;
  font-weight: bold;
}

.jp-DirListing-content .jp-DirListing-item.jp-mod-selected mark {
  color: var(--jp-ui-inverse-font-color0);
}

/* Style the directory listing content when a user drops a file to upload */
.jp-DirListing.jp-mod-native-drop .jp-DirListing-content {
  outline: 5px dashed rgba(128, 128, 128, 0.5);
  outline-offset: -10px;
  cursor: copy;
}

.jp-DirListing-item {
  display: flex;
  flex-direction: row;
  padding: 4px 12px;
  -webkit-user-select: none;
  -moz-user-select: none;
  -ms-user-select: none;
  user-select: none;
}

.jp-DirListing-item[data-is-dot] {
  opacity: 75%;
}

.jp-DirListing-item.jp-mod-selected {
  color: var(--jp-ui-inverse-font-color1);
  background: var(--jp-brand-color1);
}

.jp-DirListing-item.jp-mod-dropTarget {
  background: var(--jp-brand-color3);
}

.jp-DirListing-item:hover:not(.jp-mod-selected) {
  background: var(--jp-layout-color2);
}

.jp-DirListing-itemIcon {
  flex: 0 0 20px;
  margin-right: 4px;
}

.jp-DirListing-itemText {
  flex: 1 0 64px;
  white-space: nowrap;
  overflow: hidden;
  text-overflow: ellipsis;
  user-select: none;
}

.jp-DirListing-itemModified {
  flex: 0 0 125px;
  text-align: right;
}

.jp-DirListing-editor {
  flex: 1 0 64px;
  outline: none;
  border: none;
}

.jp-DirListing-item.jp-mod-running .jp-DirListing-itemIcon:before {
  color: var(--jp-success-color1);
  content: '\25CF';
  font-size: 8px;
  position: absolute;
  left: -8px;
}

.jp-DirListing-item.jp-mod-running.jp-mod-selected
  .jp-DirListing-itemIcon:before {
  color: var(--jp-ui-inverse-font-color1);
}

.jp-DirListing-item.lm-mod-drag-image,
.jp-DirListing-item.jp-mod-selected.lm-mod-drag-image {
  font-size: var(--jp-ui-font-size1);
  padding-left: 4px;
  margin-left: 4px;
  width: 160px;
  background-color: var(--jp-ui-inverse-font-color2);
  box-shadow: var(--jp-elevation-z2);
  border-radius: 0px;
  color: var(--jp-ui-font-color1);
  transform: translateX(-40%) translateY(-58%);
}

.jp-DirListing-deadSpace {
  flex: 1 1 auto;
  margin: 0;
  padding: 0;
  list-style-type: none;
  overflow: auto;
  background-color: var(--jp-layout-color1);
}

.jp-Document {
  min-width: 120px;
  min-height: 120px;
  outline: none;
}

/*-----------------------------------------------------------------------------
| Copyright (c) Jupyter Development Team.
| Distributed under the terms of the Modified BSD License.
|----------------------------------------------------------------------------*/

/*-----------------------------------------------------------------------------
| Private CSS variables
|----------------------------------------------------------------------------*/

:root {
}

/*-----------------------------------------------------------------------------
| Main OutputArea
| OutputArea has a list of Outputs
|----------------------------------------------------------------------------*/

.jp-OutputArea {
  overflow-y: auto;
}

.jp-OutputArea-child {
  display: flex;
  flex-direction: row;
}

body[data-format='mobile'] .jp-OutputArea-child {
  flex-direction: column;
}

.jp-OutputPrompt {
  flex: 0 0 var(--jp-cell-prompt-width);
  color: var(--jp-cell-outprompt-font-color);
  font-family: var(--jp-cell-prompt-font-family);
  padding: var(--jp-code-padding);
  letter-spacing: var(--jp-cell-prompt-letter-spacing);
  line-height: var(--jp-code-line-height);
  font-size: var(--jp-code-font-size);
  border: var(--jp-border-width) solid transparent;
  opacity: var(--jp-cell-prompt-opacity);
  /* Right align prompt text, don't wrap to handle large prompt numbers */
  text-align: right;
  white-space: nowrap;
  overflow: hidden;
  text-overflow: ellipsis;
  /* Disable text selection */
  -webkit-user-select: none;
  -moz-user-select: none;
  -ms-user-select: none;
  user-select: none;
}

body[data-format='mobile'] .jp-OutputPrompt {
  flex: 0 0 auto;
  text-align: left;
}

.jp-OutputArea-output {
  height: auto;
  overflow: auto;
  user-select: text;
  -moz-user-select: text;
  -webkit-user-select: text;
  -ms-user-select: text;
}

.jp-OutputArea-child .jp-OutputArea-output {
  flex-grow: 1;
  flex-shrink: 1;
}

body[data-format='mobile'] .jp-OutputArea-child .jp-OutputArea-output {
  margin-left: var(--jp-notebook-padding);
}

/**
 * Isolated output.
 */
.jp-OutputArea-output.jp-mod-isolated {
  width: 100%;
  display: block;
}

/*
When drag events occur, `p-mod-override-cursor` is added to the body.
Because iframes steal all cursor events, the following two rules are necessary
to suppress pointer events while resize drags are occurring. There may be a
better solution to this problem.
*/
body.lm-mod-override-cursor .jp-OutputArea-output.jp-mod-isolated {
  position: relative;
}

body.lm-mod-override-cursor .jp-OutputArea-output.jp-mod-isolated:before {
  content: '';
  position: absolute;
  top: 0;
  left: 0;
  right: 0;
  bottom: 0;
  background: transparent;
}

/* pre */

.jp-OutputArea-output pre {
  border: none;
  margin: 0px;
  padding: 0px;
  overflow-x: auto;
  overflow-y: auto;
  word-break: break-all;
  word-wrap: break-word;
  white-space: pre-wrap;
}

/* tables */

.jp-OutputArea-output.jp-RenderedHTMLCommon table {
  margin-left: 0;
  margin-right: 0;
}

/* description lists */

.jp-OutputArea-output dl,
.jp-OutputArea-output dt,
.jp-OutputArea-output dd {
  display: block;
}

.jp-OutputArea-output dl {
  width: 100%;
  overflow: hidden;
  padding: 0;
  margin: 0;
}

.jp-OutputArea-output dt {
  font-weight: bold;
  float: left;
  width: 20%;
  padding: 0;
  margin: 0;
}

.jp-OutputArea-output dd {
  float: left;
  width: 80%;
  padding: 0;
  margin: 0;
}

/* Hide the gutter in case of
 *  - nested output areas (e.g. in the case of output widgets)
 *  - mirrored output areas
 */
.jp-OutputArea .jp-OutputArea .jp-OutputArea-prompt {
  display: none;
}

/*-----------------------------------------------------------------------------
| executeResult is added to any Output-result for the display of the object
| returned by a cell
|----------------------------------------------------------------------------*/

.jp-OutputArea-output.jp-OutputArea-executeResult {
  margin-left: 0px;
  flex: 1 1 auto;
}

/* Text output with the Out[] prompt needs a top padding to match the
 * alignment of the Out[] prompt itself.
 */
.jp-OutputArea-executeResult .jp-RenderedText.jp-OutputArea-output {
  padding-top: var(--jp-code-padding);
  border-top: var(--jp-border-width) solid transparent;
}

/*-----------------------------------------------------------------------------
| The Stdin output
|----------------------------------------------------------------------------*/

.jp-OutputArea-stdin {
  line-height: var(--jp-code-line-height);
  padding-top: var(--jp-code-padding);
  display: flex;
}

.jp-Stdin-prompt {
  color: var(--jp-content-font-color0);
  padding-right: var(--jp-code-padding);
  vertical-align: baseline;
  flex: 0 0 auto;
}

.jp-Stdin-input {
  font-family: var(--jp-code-font-family);
  font-size: inherit;
  color: inherit;
  background-color: inherit;
  width: 42%;
  min-width: 200px;
  /* make sure input baseline aligns with prompt */
  vertical-align: baseline;
  /* padding + margin = 0.5em between prompt and cursor */
  padding: 0em 0.25em;
  margin: 0em 0.25em;
  flex: 0 0 70%;
}

.jp-Stdin-input:focus {
  box-shadow: none;
}

/*-----------------------------------------------------------------------------
| Output Area View
|----------------------------------------------------------------------------*/

.jp-LinkedOutputView .jp-OutputArea {
  height: 100%;
  display: block;
}

.jp-LinkedOutputView .jp-OutputArea-output:only-child {
  height: 100%;
}

/*-----------------------------------------------------------------------------
| Copyright (c) Jupyter Development Team.
| Distributed under the terms of the Modified BSD License.
|----------------------------------------------------------------------------*/

.jp-Collapser {
  flex: 0 0 var(--jp-cell-collapser-width);
  padding: 0px;
  margin: 0px;
  border: none;
  outline: none;
  background: transparent;
  border-radius: var(--jp-border-radius);
  opacity: 1;
}

.jp-Collapser-child {
  display: block;
  width: 100%;
  box-sizing: border-box;
  /* height: 100% doesn't work because the height of its parent is computed from content */
  position: absolute;
  top: 0px;
  bottom: 0px;
}

/*-----------------------------------------------------------------------------
| Copyright (c) Jupyter Development Team.
| Distributed under the terms of the Modified BSD License.
|----------------------------------------------------------------------------*/

/*-----------------------------------------------------------------------------
| Header/Footer
|----------------------------------------------------------------------------*/

/* Hidden by zero height by default */
.jp-CellHeader,
.jp-CellFooter {
  height: 0px;
  width: 100%;
  padding: 0px;
  margin: 0px;
  border: none;
  outline: none;
  background: transparent;
}

/*-----------------------------------------------------------------------------
| Copyright (c) Jupyter Development Team.
| Distributed under the terms of the Modified BSD License.
|----------------------------------------------------------------------------*/

/*-----------------------------------------------------------------------------
| Input
|----------------------------------------------------------------------------*/

/* All input areas */
.jp-InputArea {
  display: flex;
  flex-direction: row;
  overflow: hidden;
}

body[data-format='mobile'] .jp-InputArea {
  flex-direction: column;
}

.jp-InputArea-editor {
  flex: 1 1 auto;
  overflow: hidden;
}

.jp-InputArea-editor {
  /* This is the non-active, default styling */
  border: var(--jp-border-width) solid var(--jp-cell-editor-border-color);
  border-radius: 0px;
  background: var(--jp-cell-editor-background);
}

body[data-format='mobile'] .jp-InputArea-editor {
  margin-left: var(--jp-notebook-padding);
}

.jp-InputPrompt {
  flex: 0 0 var(--jp-cell-prompt-width);
  color: var(--jp-cell-inprompt-font-color);
  font-family: var(--jp-cell-prompt-font-family);
  padding: var(--jp-code-padding);
  letter-spacing: var(--jp-cell-prompt-letter-spacing);
  opacity: var(--jp-cell-prompt-opacity);
  line-height: var(--jp-code-line-height);
  font-size: var(--jp-code-font-size);
  border: var(--jp-border-width) solid transparent;
  opacity: var(--jp-cell-prompt-opacity);
  /* Right align prompt text, don't wrap to handle large prompt numbers */
  text-align: right;
  white-space: nowrap;
  overflow: hidden;
  text-overflow: ellipsis;
  /* Disable text selection */
  -webkit-user-select: none;
  -moz-user-select: none;
  -ms-user-select: none;
  user-select: none;
}

body[data-format='mobile'] .jp-InputPrompt {
  flex: 0 0 auto;
  text-align: left;
}

/*-----------------------------------------------------------------------------
| Copyright (c) Jupyter Development Team.
| Distributed under the terms of the Modified BSD License.
|----------------------------------------------------------------------------*/

/*-----------------------------------------------------------------------------
| Placeholder
|----------------------------------------------------------------------------*/

.jp-Placeholder {
  display: flex;
  flex-direction: row;
  flex: 1 1 auto;
}

.jp-Placeholder-prompt {
  box-sizing: border-box;
}

.jp-Placeholder-content {
  flex: 1 1 auto;
  border: none;
  background: transparent;
  height: 20px;
  box-sizing: border-box;
}

.jp-Placeholder-content .jp-MoreHorizIcon {
  width: 32px;
  height: 16px;
  border: 1px solid transparent;
  border-radius: var(--jp-border-radius);
}

.jp-Placeholder-content .jp-MoreHorizIcon:hover {
  border: 1px solid var(--jp-border-color1);
  box-shadow: 0px 0px 2px 0px rgba(0, 0, 0, 0.25);
  background-color: var(--jp-layout-color0);
}

/*-----------------------------------------------------------------------------
| Copyright (c) Jupyter Development Team.
| Distributed under the terms of the Modified BSD License.
|----------------------------------------------------------------------------*/

/*-----------------------------------------------------------------------------
| Private CSS variables
|----------------------------------------------------------------------------*/

:root {
  --jp-private-cell-scrolling-output-offset: 5px;
}

/*-----------------------------------------------------------------------------
| Cell
|----------------------------------------------------------------------------*/

.jp-Cell {
  padding: var(--jp-cell-padding);
  margin: 0px;
  border: none;
  outline: none;
  background: transparent;
}

/*-----------------------------------------------------------------------------
| Common input/output
|----------------------------------------------------------------------------*/

.jp-Cell-inputWrapper,
.jp-Cell-outputWrapper {
  display: flex;
  flex-direction: row;
  padding: 0px;
  margin: 0px;
  /* Added to reveal the box-shadow on the input and output collapsers. */
  overflow: visible;
}

/* Only input/output areas inside cells */
.jp-Cell-inputArea,
.jp-Cell-outputArea {
  flex: 1 1 auto;
}

/*-----------------------------------------------------------------------------
| Collapser
|----------------------------------------------------------------------------*/

/* Make the output collapser disappear when there is not output, but do so
 * in a manner that leaves it in the layout and preserves its width.
 */
.jp-Cell.jp-mod-noOutputs .jp-Cell-outputCollapser {
  border: none !important;
  background: transparent !important;
}

.jp-Cell:not(.jp-mod-noOutputs) .jp-Cell-outputCollapser {
  min-height: var(--jp-cell-collapser-min-height);
}

/*-----------------------------------------------------------------------------
| Output
|----------------------------------------------------------------------------*/

/* Put a space between input and output when there IS output */
.jp-Cell:not(.jp-mod-noOutputs) .jp-Cell-outputWrapper {
  margin-top: 5px;
}

.jp-CodeCell.jp-mod-outputsScrolled .jp-Cell-outputArea {
  overflow-y: auto;
  max-height: 200px;
  box-shadow: inset 0 0 6px 2px rgba(0, 0, 0, 0.3);
  margin-left: var(--jp-private-cell-scrolling-output-offset);
}

.jp-CodeCell.jp-mod-outputsScrolled .jp-OutputArea-prompt {
  flex: 0 0
    calc(
      var(--jp-cell-prompt-width) -
        var(--jp-private-cell-scrolling-output-offset)
    );
}

/*-----------------------------------------------------------------------------
| CodeCell
|----------------------------------------------------------------------------*/

/*-----------------------------------------------------------------------------
| MarkdownCell
|----------------------------------------------------------------------------*/

.jp-MarkdownOutput {
  flex: 1 1 auto;
  margin-top: 0;
  margin-bottom: 0;
  padding-left: var(--jp-code-padding);
}

.jp-MarkdownOutput.jp-RenderedHTMLCommon {
  overflow: auto;
}

.jp-showHiddenCellsButton {
  margin-left: calc(var(--jp-cell-prompt-width) + 2 * var(--jp-code-padding));
  margin-top: var(--jp-code-padding);
  border: 1px solid var(--jp-border-color2);
  background-color: var(--jp-border-color3) !important;
  color: var(--jp-content-font-color0) !important;
}

.jp-showHiddenCellsButton:hover {
  background-color: var(--jp-border-color2) !important;
}

.jp-collapseHeadingButton {
  display: none;
}

.jp-MarkdownCell:hover .jp-collapseHeadingButton {
  display: flex;
  min-height: var(--jp-cell-collapser-min-height);
  position: absolute;
  right: 0;
  top: 0;
  bottom: 0;
}

/*-----------------------------------------------------------------------------
| Copyright (c) Jupyter Development Team.
| Distributed under the terms of the Modified BSD License.
|----------------------------------------------------------------------------*/

/*-----------------------------------------------------------------------------
| Copyright (c) Jupyter Development Team.
| Distributed under the terms of the Modified BSD License.
|----------------------------------------------------------------------------*/

/*-----------------------------------------------------------------------------
| Variables
|----------------------------------------------------------------------------*/

/*-----------------------------------------------------------------------------

/*-----------------------------------------------------------------------------
| Styles
|----------------------------------------------------------------------------*/

.jp-NotebookPanel-toolbar {
  padding: 2px;
}

.jp-Toolbar-item.jp-Notebook-toolbarCellType .jp-select-wrapper.jp-mod-focused {
  border: none;
  box-shadow: none;
}

.jp-Notebook-toolbarCellTypeDropdown select {
  height: 24px;
  font-size: var(--jp-ui-font-size1);
  line-height: 14px;
  border-radius: 0;
  display: block;
}

.jp-Notebook-toolbarCellTypeDropdown span {
  top: 5px !important;
}

/*-----------------------------------------------------------------------------
| Copyright (c) Jupyter Development Team.
| Distributed under the terms of the Modified BSD License.
|----------------------------------------------------------------------------*/

/*-----------------------------------------------------------------------------
| Private CSS variables
|----------------------------------------------------------------------------*/

:root {
  --jp-private-notebook-dragImage-width: 304px;
  --jp-private-notebook-dragImage-height: 36px;
  --jp-private-notebook-selected-color: var(--md-blue-400);
  --jp-private-notebook-active-color: var(--md-green-400);
}

/*-----------------------------------------------------------------------------
| Imports
|----------------------------------------------------------------------------*/

/*-----------------------------------------------------------------------------
| Notebook
|----------------------------------------------------------------------------*/

.jp-NotebookPanel {
  display: block;
  height: 100%;
}

.jp-NotebookPanel.jp-Document {
  min-width: 240px;
  min-height: 120px;
}

.jp-Notebook {
  padding: var(--jp-notebook-padding);
  outline: none;
  overflow: auto;
  background: var(--jp-layout-color0);
}

.jp-Notebook.jp-mod-scrollPastEnd::after {
  display: block;
  content: '';
  min-height: var(--jp-notebook-scroll-padding);
}

.jp-MainAreaWidget-ContainStrict .jp-Notebook * {
  contain: strict;
}

.jp-Notebook-render * {
  contain: none !important;
}

.jp-Notebook .jp-Cell {
  overflow: visible;
}

.jp-Notebook .jp-Cell .jp-InputPrompt {
  cursor: move;
  float: left;
}

/*-----------------------------------------------------------------------------
| Notebook state related styling
|
| The notebook and cells each have states, here are the possibilities:
|
| - Notebook
|   - Command
|   - Edit
| - Cell
|   - None
|   - Active (only one can be active)
|   - Selected (the cells actions are applied to)
|   - Multiselected (when multiple selected, the cursor)
|   - No outputs
|----------------------------------------------------------------------------*/

/* Command or edit modes */

.jp-Notebook .jp-Cell:not(.jp-mod-active) .jp-InputPrompt {
  opacity: var(--jp-cell-prompt-not-active-opacity);
  color: var(--jp-cell-prompt-not-active-font-color);
}

.jp-Notebook .jp-Cell:not(.jp-mod-active) .jp-OutputPrompt {
  opacity: var(--jp-cell-prompt-not-active-opacity);
  color: var(--jp-cell-prompt-not-active-font-color);
}

/* cell is active */
.jp-Notebook .jp-Cell.jp-mod-active .jp-Collapser {
  background: var(--jp-brand-color1);
}

/* cell is dirty */
.jp-Notebook .jp-Cell.jp-mod-dirty .jp-InputPrompt {
  color: var(--jp-warn-color1);
}
.jp-Notebook .jp-Cell.jp-mod-dirty .jp-InputPrompt:before {
  color: var(--jp-warn-color1);
  content: '•';
}

.jp-Notebook .jp-Cell.jp-mod-active.jp-mod-dirty .jp-Collapser {
  background: var(--jp-warn-color1);
}

/* collapser is hovered */
.jp-Notebook .jp-Cell .jp-Collapser:hover {
  box-shadow: var(--jp-elevation-z2);
  background: var(--jp-brand-color1);
  opacity: var(--jp-cell-collapser-not-active-hover-opacity);
}

/* cell is active and collapser is hovered */
.jp-Notebook .jp-Cell.jp-mod-active .jp-Collapser:hover {
  background: var(--jp-brand-color0);
  opacity: 1;
}

/* Command mode */

.jp-Notebook.jp-mod-commandMode .jp-Cell.jp-mod-selected {
  background: var(--jp-notebook-multiselected-color);
}

.jp-Notebook.jp-mod-commandMode
  .jp-Cell.jp-mod-active.jp-mod-selected:not(.jp-mod-multiSelected) {
  background: transparent;
}

/* Edit mode */

.jp-Notebook.jp-mod-editMode .jp-Cell.jp-mod-active .jp-InputArea-editor {
  border: var(--jp-border-width) solid var(--jp-cell-editor-active-border-color);
  box-shadow: var(--jp-input-box-shadow);
  background-color: var(--jp-cell-editor-active-background);
}

/*-----------------------------------------------------------------------------
| Notebook drag and drop
|----------------------------------------------------------------------------*/

.jp-Notebook-cell.jp-mod-dropSource {
  opacity: 0.5;
}

.jp-Notebook-cell.jp-mod-dropTarget,
.jp-Notebook.jp-mod-commandMode
  .jp-Notebook-cell.jp-mod-active.jp-mod-selected.jp-mod-dropTarget {
  border-top-color: var(--jp-private-notebook-selected-color);
  border-top-style: solid;
  border-top-width: 2px;
}

.jp-dragImage {
  display: block;
  flex-direction: row;
  width: var(--jp-private-notebook-dragImage-width);
  height: var(--jp-private-notebook-dragImage-height);
  border: var(--jp-border-width) solid var(--jp-cell-editor-border-color);
  background: var(--jp-cell-editor-background);
  overflow: visible;
}

.jp-dragImage-singlePrompt {
  box-shadow: 2px 2px 4px 0px rgba(0, 0, 0, 0.12);
}

.jp-dragImage .jp-dragImage-content {
  flex: 1 1 auto;
  z-index: 2;
  font-size: var(--jp-code-font-size);
  font-family: var(--jp-code-font-family);
  line-height: var(--jp-code-line-height);
  padding: var(--jp-code-padding);
  border: var(--jp-border-width) solid var(--jp-cell-editor-border-color);
  background: var(--jp-cell-editor-background-color);
  color: var(--jp-content-font-color3);
  text-align: left;
  margin: 4px 4px 4px 0px;
}

.jp-dragImage .jp-dragImage-prompt {
  flex: 0 0 auto;
  min-width: 36px;
  color: var(--jp-cell-inprompt-font-color);
  padding: var(--jp-code-padding);
  padding-left: 12px;
  font-family: var(--jp-cell-prompt-font-family);
  letter-spacing: var(--jp-cell-prompt-letter-spacing);
  line-height: 1.9;
  font-size: var(--jp-code-font-size);
  border: var(--jp-border-width) solid transparent;
}

.jp-dragImage-multipleBack {
  z-index: -1;
  position: absolute;
  height: 32px;
  width: 300px;
  top: 8px;
  left: 8px;
  background: var(--jp-layout-color2);
  border: var(--jp-border-width) solid var(--jp-input-border-color);
  box-shadow: 2px 2px 4px 0px rgba(0, 0, 0, 0.12);
}

/*-----------------------------------------------------------------------------
| Cell toolbar
|----------------------------------------------------------------------------*/

.jp-NotebookTools {
  display: block;
  min-width: var(--jp-sidebar-min-width);
  color: var(--jp-ui-font-color1);
  background: var(--jp-layout-color1);
  /* This is needed so that all font sizing of children done in ems is
    * relative to this base size */
  font-size: var(--jp-ui-font-size1);
  overflow: auto;
}

.jp-NotebookTools-tool {
  padding: 0px 12px 0 12px;
}

.jp-ActiveCellTool {
  padding: 12px;
  background-color: var(--jp-layout-color1);
  border-top: none !important;
}

.jp-ActiveCellTool .jp-InputArea-prompt {
  flex: 0 0 auto;
  padding-left: 0px;
}

.jp-ActiveCellTool .jp-InputArea-editor {
  flex: 1 1 auto;
  background: var(--jp-cell-editor-background);
  border-color: var(--jp-cell-editor-border-color);
}

.jp-ActiveCellTool .jp-InputArea-editor .CodeMirror {
  background: transparent;
}

.jp-MetadataEditorTool {
  flex-direction: column;
  padding: 12px 0px 12px 0px;
}

.jp-RankedPanel > :not(:first-child) {
  margin-top: 12px;
}

.jp-KeySelector select.jp-mod-styled {
  font-size: var(--jp-ui-font-size1);
  color: var(--jp-ui-font-color0);
  border: var(--jp-border-width) solid var(--jp-border-color1);
}

.jp-KeySelector label,
.jp-MetadataEditorTool label {
  line-height: 1.4;
}

.jp-NotebookTools .jp-select-wrapper {
  margin-top: 4px;
  margin-bottom: 0px;
}

.jp-NotebookTools .jp-Collapse {
  margin-top: 16px;
}

/*-----------------------------------------------------------------------------
| Presentation Mode (.jp-mod-presentationMode)
|----------------------------------------------------------------------------*/

.jp-mod-presentationMode .jp-Notebook {
  --jp-content-font-size1: var(--jp-content-presentation-font-size1);
  --jp-code-font-size: var(--jp-code-presentation-font-size);
}

.jp-mod-presentationMode .jp-Notebook .jp-Cell .jp-InputPrompt,
.jp-mod-presentationMode .jp-Notebook .jp-Cell .jp-OutputPrompt {
  flex: 0 0 110px;
}

/*-----------------------------------------------------------------------------
| Placeholder
|----------------------------------------------------------------------------*/

.jp-Cell-Placeholder {
  padding-left: 55px;
}

.jp-Cell-Placeholder-wrapper {
  background: #fff;
  border: 1px solid;
  border-color: #e5e6e9 #dfe0e4 #d0d1d5;
  border-radius: 4px;
  -webkit-border-radius: 4px;
  margin: 10px 15px;
}

.jp-Cell-Placeholder-wrapper-inner {
  padding: 15px;
  position: relative;
}

.jp-Cell-Placeholder-wrapper-body {
  background-repeat: repeat;
  background-size: 50% auto;
}

.jp-Cell-Placeholder-wrapper-body div {
  background: #f6f7f8;
  background-image: -webkit-linear-gradient(
    left,
    #f6f7f8 0%,
    #edeef1 20%,
    #f6f7f8 40%,
    #f6f7f8 100%
  );
  background-repeat: no-repeat;
  background-size: 800px 104px;
  height: 104px;
  position: relative;
}

.jp-Cell-Placeholder-wrapper-body div {
  position: absolute;
  right: 15px;
  left: 15px;
  top: 15px;
}

div.jp-Cell-Placeholder-h1 {
  top: 20px;
  height: 20px;
  left: 15px;
  width: 150px;
}

div.jp-Cell-Placeholder-h2 {
  left: 15px;
  top: 50px;
  height: 10px;
  width: 100px;
}

div.jp-Cell-Placeholder-content-1,
div.jp-Cell-Placeholder-content-2,
div.jp-Cell-Placeholder-content-3 {
  left: 15px;
  right: 15px;
  height: 10px;
}

div.jp-Cell-Placeholder-content-1 {
  top: 100px;
}

div.jp-Cell-Placeholder-content-2 {
  top: 120px;
}

div.jp-Cell-Placeholder-content-3 {
  top: 140px;
}

</style>

    <style type="text/css">
/*-----------------------------------------------------------------------------
| Copyright (c) Jupyter Development Team.
| Distributed under the terms of the Modified BSD License.
|----------------------------------------------------------------------------*/

/*
The following CSS variables define the main, public API for styling JupyterLab.
These variables should be used by all plugins wherever possible. In other
words, plugins should not define custom colors, sizes, etc unless absolutely
necessary. This enables users to change the visual theme of JupyterLab
by changing these variables.

Many variables appear in an ordered sequence (0,1,2,3). These sequences
are designed to work well together, so for example, `--jp-border-color1` should
be used with `--jp-layout-color1`. The numbers have the following meanings:

* 0: super-primary, reserved for special emphasis
* 1: primary, most important under normal situations
* 2: secondary, next most important under normal situations
* 3: tertiary, next most important under normal situations

Throughout JupyterLab, we are mostly following principles from Google's
Material Design when selecting colors. We are not, however, following
all of MD as it is not optimized for dense, information rich UIs.
*/

:root {
  /* Elevation
   *
   * We style box-shadows using Material Design's idea of elevation. These particular numbers are taken from here:
   *
   * https://github.com/material-components/material-components-web
   * https://material-components-web.appspot.com/elevation.html
   */

  --jp-shadow-base-lightness: 0;
  --jp-shadow-umbra-color: rgba(
    var(--jp-shadow-base-lightness),
    var(--jp-shadow-base-lightness),
    var(--jp-shadow-base-lightness),
    0.2
  );
  --jp-shadow-penumbra-color: rgba(
    var(--jp-shadow-base-lightness),
    var(--jp-shadow-base-lightness),
    var(--jp-shadow-base-lightness),
    0.14
  );
  --jp-shadow-ambient-color: rgba(
    var(--jp-shadow-base-lightness),
    var(--jp-shadow-base-lightness),
    var(--jp-shadow-base-lightness),
    0.12
  );
  --jp-elevation-z0: none;
  --jp-elevation-z1: 0px 2px 1px -1px var(--jp-shadow-umbra-color),
    0px 1px 1px 0px var(--jp-shadow-penumbra-color),
    0px 1px 3px 0px var(--jp-shadow-ambient-color);
  --jp-elevation-z2: 0px 3px 1px -2px var(--jp-shadow-umbra-color),
    0px 2px 2px 0px var(--jp-shadow-penumbra-color),
    0px 1px 5px 0px var(--jp-shadow-ambient-color);
  --jp-elevation-z4: 0px 2px 4px -1px var(--jp-shadow-umbra-color),
    0px 4px 5px 0px var(--jp-shadow-penumbra-color),
    0px 1px 10px 0px var(--jp-shadow-ambient-color);
  --jp-elevation-z6: 0px 3px 5px -1px var(--jp-shadow-umbra-color),
    0px 6px 10px 0px var(--jp-shadow-penumbra-color),
    0px 1px 18px 0px var(--jp-shadow-ambient-color);
  --jp-elevation-z8: 0px 5px 5px -3px var(--jp-shadow-umbra-color),
    0px 8px 10px 1px var(--jp-shadow-penumbra-color),
    0px 3px 14px 2px var(--jp-shadow-ambient-color);
  --jp-elevation-z12: 0px 7px 8px -4px var(--jp-shadow-umbra-color),
    0px 12px 17px 2px var(--jp-shadow-penumbra-color),
    0px 5px 22px 4px var(--jp-shadow-ambient-color);
  --jp-elevation-z16: 0px 8px 10px -5px var(--jp-shadow-umbra-color),
    0px 16px 24px 2px var(--jp-shadow-penumbra-color),
    0px 6px 30px 5px var(--jp-shadow-ambient-color);
  --jp-elevation-z20: 0px 10px 13px -6px var(--jp-shadow-umbra-color),
    0px 20px 31px 3px var(--jp-shadow-penumbra-color),
    0px 8px 38px 7px var(--jp-shadow-ambient-color);
  --jp-elevation-z24: 0px 11px 15px -7px var(--jp-shadow-umbra-color),
    0px 24px 38px 3px var(--jp-shadow-penumbra-color),
    0px 9px 46px 8px var(--jp-shadow-ambient-color);

  /* Borders
   *
   * The following variables, specify the visual styling of borders in JupyterLab.
   */

  --jp-border-width: 1px;
  --jp-border-color0: var(--md-grey-400);
  --jp-border-color1: var(--md-grey-400);
  --jp-border-color2: var(--md-grey-300);
  --jp-border-color3: var(--md-grey-200);
  --jp-border-radius: 2px;

  /* UI Fonts
   *
   * The UI font CSS variables are used for the typography all of the JupyterLab
   * user interface elements that are not directly user generated content.
   *
   * The font sizing here is done assuming that the body font size of --jp-ui-font-size1
   * is applied to a parent element. When children elements, such as headings, are sized
   * in em all things will be computed relative to that body size.
   */

  --jp-ui-font-scale-factor: 1.2;
  --jp-ui-font-size0: 0.83333em;
  --jp-ui-font-size1: 13px; /* Base font size */
  --jp-ui-font-size2: 1.2em;
  --jp-ui-font-size3: 1.44em;

  --jp-ui-font-family: -apple-system, BlinkMacSystemFont, 'Segoe UI', Helvetica,
    Arial, sans-serif, 'Apple Color Emoji', 'Segoe UI Emoji', 'Segoe UI Symbol';

  /*
   * Use these font colors against the corresponding main layout colors.
   * In a light theme, these go from dark to light.
   */

  /* Defaults use Material Design specification */
  --jp-ui-font-color0: rgba(0, 0, 0, 1);
  --jp-ui-font-color1: rgba(0, 0, 0, 0.87);
  --jp-ui-font-color2: rgba(0, 0, 0, 0.54);
  --jp-ui-font-color3: rgba(0, 0, 0, 0.38);

  /*
   * Use these against the brand/accent/warn/error colors.
   * These will typically go from light to darker, in both a dark and light theme.
   */

  --jp-ui-inverse-font-color0: rgba(255, 255, 255, 1);
  --jp-ui-inverse-font-color1: rgba(255, 255, 255, 1);
  --jp-ui-inverse-font-color2: rgba(255, 255, 255, 0.7);
  --jp-ui-inverse-font-color3: rgba(255, 255, 255, 0.5);

  /* Content Fonts
   *
   * Content font variables are used for typography of user generated content.
   *
   * The font sizing here is done assuming that the body font size of --jp-content-font-size1
   * is applied to a parent element. When children elements, such as headings, are sized
   * in em all things will be computed relative to that body size.
   */

  --jp-content-line-height: 1.6;
  --jp-content-font-scale-factor: 1.2;
  --jp-content-font-size0: 0.83333em;
  --jp-content-font-size1: 14px; /* Base font size */
  --jp-content-font-size2: 1.2em;
  --jp-content-font-size3: 1.44em;
  --jp-content-font-size4: 1.728em;
  --jp-content-font-size5: 2.0736em;

  /* This gives a magnification of about 125% in presentation mode over normal. */
  --jp-content-presentation-font-size1: 17px;

  --jp-content-heading-line-height: 1;
  --jp-content-heading-margin-top: 1.2em;
  --jp-content-heading-margin-bottom: 0.8em;
  --jp-content-heading-font-weight: 500;

  /* Defaults use Material Design specification */
  --jp-content-font-color0: rgba(0, 0, 0, 1);
  --jp-content-font-color1: rgba(0, 0, 0, 0.87);
  --jp-content-font-color2: rgba(0, 0, 0, 0.54);
  --jp-content-font-color3: rgba(0, 0, 0, 0.38);

  --jp-content-link-color: var(--md-blue-700);

  --jp-content-font-family: -apple-system, BlinkMacSystemFont, 'Segoe UI',
    Helvetica, Arial, sans-serif, 'Apple Color Emoji', 'Segoe UI Emoji',
    'Segoe UI Symbol';

  /*
   * Code Fonts
   *
   * Code font variables are used for typography of code and other monospaces content.
   */

  --jp-code-font-size: 13px;
  --jp-code-line-height: 1.3077; /* 17px for 13px base */
  --jp-code-padding: 5px; /* 5px for 13px base, codemirror highlighting needs integer px value */
  --jp-code-font-family-default: Menlo, Consolas, 'DejaVu Sans Mono', monospace;
  --jp-code-font-family: var(--jp-code-font-family-default);

  /* This gives a magnification of about 125% in presentation mode over normal. */
  --jp-code-presentation-font-size: 16px;

  /* may need to tweak cursor width if you change font size */
  --jp-code-cursor-width0: 1.4px;
  --jp-code-cursor-width1: 2px;
  --jp-code-cursor-width2: 4px;

  /* Layout
   *
   * The following are the main layout colors use in JupyterLab. In a light
   * theme these would go from light to dark.
   */

  --jp-layout-color0: white;
  --jp-layout-color1: white;
  --jp-layout-color2: var(--md-grey-200);
  --jp-layout-color3: var(--md-grey-400);
  --jp-layout-color4: var(--md-grey-600);

  /* Inverse Layout
   *
   * The following are the inverse layout colors use in JupyterLab. In a light
   * theme these would go from dark to light.
   */

  --jp-inverse-layout-color0: #111111;
  --jp-inverse-layout-color1: var(--md-grey-900);
  --jp-inverse-layout-color2: var(--md-grey-800);
  --jp-inverse-layout-color3: var(--md-grey-700);
  --jp-inverse-layout-color4: var(--md-grey-600);

  /* Brand/accent */

  --jp-brand-color0: var(--md-blue-900);
  --jp-brand-color1: var(--md-blue-700);
  --jp-brand-color2: var(--md-blue-300);
  --jp-brand-color3: var(--md-blue-100);
  --jp-brand-color4: var(--md-blue-50);

  --jp-accent-color0: var(--md-green-900);
  --jp-accent-color1: var(--md-green-700);
  --jp-accent-color2: var(--md-green-300);
  --jp-accent-color3: var(--md-green-100);

  /* State colors (warn, error, success, info) */

  --jp-warn-color0: var(--md-orange-900);
  --jp-warn-color1: var(--md-orange-700);
  --jp-warn-color2: var(--md-orange-300);
  --jp-warn-color3: var(--md-orange-100);

  --jp-error-color0: var(--md-red-900);
  --jp-error-color1: var(--md-red-700);
  --jp-error-color2: var(--md-red-300);
  --jp-error-color3: var(--md-red-100);

  --jp-success-color0: var(--md-green-900);
  --jp-success-color1: var(--md-green-700);
  --jp-success-color2: var(--md-green-300);
  --jp-success-color3: var(--md-green-100);

  --jp-info-color0: var(--md-cyan-900);
  --jp-info-color1: var(--md-cyan-700);
  --jp-info-color2: var(--md-cyan-300);
  --jp-info-color3: var(--md-cyan-100);

  /* Cell specific styles */

  --jp-cell-padding: 5px;

  --jp-cell-collapser-width: 8px;
  --jp-cell-collapser-min-height: 20px;
  --jp-cell-collapser-not-active-hover-opacity: 0.6;

  --jp-cell-editor-background: var(--md-grey-100);
  --jp-cell-editor-border-color: var(--md-grey-300);
  --jp-cell-editor-box-shadow: inset 0 0 2px var(--md-blue-300);
  --jp-cell-editor-active-background: var(--jp-layout-color0);
  --jp-cell-editor-active-border-color: var(--jp-brand-color1);

  --jp-cell-prompt-width: 64px;
  --jp-cell-prompt-font-family: var(--jp-code-font-family-default);
  --jp-cell-prompt-letter-spacing: 0px;
  --jp-cell-prompt-opacity: 1;
  --jp-cell-prompt-not-active-opacity: 0.5;
  --jp-cell-prompt-not-active-font-color: var(--md-grey-700);
  /* A custom blend of MD grey and blue 600
   * See https://meyerweb.com/eric/tools/color-blend/#546E7A:1E88E5:5:hex */
  --jp-cell-inprompt-font-color: #307fc1;
  /* A custom blend of MD grey and orange 600
   * https://meyerweb.com/eric/tools/color-blend/#546E7A:F4511E:5:hex */
  --jp-cell-outprompt-font-color: #bf5b3d;

  /* Notebook specific styles */

  --jp-notebook-padding: 10px;
  --jp-notebook-select-background: var(--jp-layout-color1);
  --jp-notebook-multiselected-color: var(--md-blue-50);

  /* The scroll padding is calculated to fill enough space at the bottom of the
  notebook to show one single-line cell (with appropriate padding) at the top
  when the notebook is scrolled all the way to the bottom. We also subtract one
  pixel so that no scrollbar appears if we have just one single-line cell in the
  notebook. This padding is to enable a 'scroll past end' feature in a notebook.
  */
  --jp-notebook-scroll-padding: calc(
    100% - var(--jp-code-font-size) * var(--jp-code-line-height) -
      var(--jp-code-padding) - var(--jp-cell-padding) - 1px
  );

  /* Rendermime styles */

  --jp-rendermime-error-background: #fdd;
  --jp-rendermime-table-row-background: var(--md-grey-100);
  --jp-rendermime-table-row-hover-background: var(--md-light-blue-50);

  /* Dialog specific styles */

  --jp-dialog-background: rgba(0, 0, 0, 0.25);

  /* Console specific styles */

  --jp-console-padding: 10px;

  /* Toolbar specific styles */

  --jp-toolbar-border-color: var(--jp-border-color1);
  --jp-toolbar-micro-height: 8px;
  --jp-toolbar-background: var(--jp-layout-color1);
  --jp-toolbar-box-shadow: 0px 0px 2px 0px rgba(0, 0, 0, 0.24);
  --jp-toolbar-header-margin: 4px 4px 0px 4px;
  --jp-toolbar-active-background: var(--md-grey-300);

  /* Statusbar specific styles */

  --jp-statusbar-height: 24px;

  /* Input field styles */

  --jp-input-box-shadow: inset 0 0 2px var(--md-blue-300);
  --jp-input-active-background: var(--jp-layout-color1);
  --jp-input-hover-background: var(--jp-layout-color1);
  --jp-input-background: var(--md-grey-100);
  --jp-input-border-color: var(--jp-border-color1);
  --jp-input-active-border-color: var(--jp-brand-color1);
  --jp-input-active-box-shadow-color: rgba(19, 124, 189, 0.3);

  /* General editor styles */

  --jp-editor-selected-background: #d9d9d9;
  --jp-editor-selected-focused-background: #d7d4f0;
  --jp-editor-cursor-color: var(--jp-ui-font-color0);

  /* Code mirror specific styles */

  --jp-mirror-editor-keyword-color: #008000;
  --jp-mirror-editor-atom-color: #88f;
  --jp-mirror-editor-number-color: #080;
  --jp-mirror-editor-def-color: #00f;
  --jp-mirror-editor-variable-color: var(--md-grey-900);
  --jp-mirror-editor-variable-2-color: #05a;
  --jp-mirror-editor-variable-3-color: #085;
  --jp-mirror-editor-punctuation-color: #05a;
  --jp-mirror-editor-property-color: #05a;
  --jp-mirror-editor-operator-color: #aa22ff;
  --jp-mirror-editor-comment-color: #408080;
  --jp-mirror-editor-string-color: #ba2121;
  --jp-mirror-editor-string-2-color: #708;
  --jp-mirror-editor-meta-color: #aa22ff;
  --jp-mirror-editor-qualifier-color: #555;
  --jp-mirror-editor-builtin-color: #008000;
  --jp-mirror-editor-bracket-color: #997;
  --jp-mirror-editor-tag-color: #170;
  --jp-mirror-editor-attribute-color: #00c;
  --jp-mirror-editor-header-color: blue;
  --jp-mirror-editor-quote-color: #090;
  --jp-mirror-editor-link-color: #00c;
  --jp-mirror-editor-error-color: #f00;
  --jp-mirror-editor-hr-color: #999;

  /* Vega extension styles */

  --jp-vega-background: white;

  /* Sidebar-related styles */

  --jp-sidebar-min-width: 250px;

  /* Search-related styles */

  --jp-search-toggle-off-opacity: 0.5;
  --jp-search-toggle-hover-opacity: 0.8;
  --jp-search-toggle-on-opacity: 1;
  --jp-search-selected-match-background-color: rgb(245, 200, 0);
  --jp-search-selected-match-color: black;
  --jp-search-unselected-match-background-color: var(
    --jp-inverse-layout-color0
  );
  --jp-search-unselected-match-color: var(--jp-ui-inverse-font-color0);

  /* Icon colors that work well with light or dark backgrounds */
  --jp-icon-contrast-color0: var(--md-purple-600);
  --jp-icon-contrast-color1: var(--md-green-600);
  --jp-icon-contrast-color2: var(--md-pink-600);
  --jp-icon-contrast-color3: var(--md-blue-600);
}
</style>

<style type="text/css">
/* Force rendering true colors when outputing to pdf */
* {
  -webkit-print-color-adjust: exact;
}

/* Misc */
a.anchor-link {
  display: none;
}

.highlight  {
  margin: 0.4em;
}

/* Input area styling */
.jp-InputArea {
  overflow: hidden;
}

.jp-InputArea-editor {
  overflow: hidden;
}

.CodeMirror pre {
  margin: 0;
  padding: 0;
}

/* Using table instead of flexbox so that we can use break-inside property */
/* CSS rules under this comment should not be required anymore after we move to the JupyterLab 4.0 CSS */


.jp-CodeCell.jp-mod-outputsScrolled .jp-OutputArea-prompt {
  min-width: calc(
    var(--jp-cell-prompt-width) - var(--jp-private-cell-scrolling-output-offset)
  );
}

.jp-OutputArea-child {
  display: table;
  width: 100%;
}

.jp-OutputPrompt {
  display: table-cell;
  vertical-align: top;
  min-width: var(--jp-cell-prompt-width);
}

body[data-format='mobile'] .jp-OutputPrompt {
  display: table-row;
}

.jp-OutputArea-output {
  display: table-cell;
  width: 100%;
}

body[data-format='mobile'] .jp-OutputArea-child .jp-OutputArea-output {
  display: table-row;
}

.jp-OutputArea-output.jp-OutputArea-executeResult {
  width: 100%;
}

/* Hiding the collapser by default */
.jp-Collapser {
  display: none;
}

@media print {
  .jp-Cell-inputWrapper,
  .jp-Cell-outputWrapper {
    display: block;
  }

  .jp-OutputArea-child {
    break-inside: avoid-page;
  }
}
</style>

<!-- Load mathjax -->
    <script type="text/javascript" async="" src="./Notebook_files/MathJax.js.download"></script>
    <!-- MathJax configuration -->
    <script type="text/x-mathjax-config;executed=true">
    init_mathjax = function() {
        if (window.MathJax) {
        // MathJax loaded
            MathJax.Hub.Config({
                TeX: {
                    equationNumbers: {
                    autoNumber: "AMS",
                    useLabelIds: true
                    }
                },
                tex2jax: {
                    inlineMath: [ ['$','$'], ["\\(","\\)"] ],
                    displayMath: [ ['$$','$$'], ["\\[","\\]"] ],
                    processEscapes: true,
                    processEnvironments: true
                },
                displayAlign: 'center',
                CommonHTML: {
                    linebreaks: {
                    automatic: true
                    }
                }
            });

            MathJax.Hub.Queue(["Typeset", MathJax.Hub]);
        }
    }
    init_mathjax();
    </script>
    <!-- End of mathjax configuration --><style type="text/css">.MathJax_Hover_Frame {border-radius: .25em; -webkit-border-radius: .25em; -moz-border-radius: .25em; -khtml-border-radius: .25em; box-shadow: 0px 0px 15px #83A; -webkit-box-shadow: 0px 0px 15px #83A; -moz-box-shadow: 0px 0px 15px #83A; -khtml-box-shadow: 0px 0px 15px #83A; border: 1px solid #A6D ! important; display: inline-block; position: absolute}
.MathJax_Menu_Button .MathJax_Hover_Arrow {position: absolute; cursor: pointer; display: inline-block; border: 2px solid #AAA; border-radius: 4px; -webkit-border-radius: 4px; -moz-border-radius: 4px; -khtml-border-radius: 4px; font-family: 'Courier New',Courier; font-size: 9px; color: #F0F0F0}
.MathJax_Menu_Button .MathJax_Hover_Arrow span {display: block; background-color: #AAA; border: 1px solid; border-radius: 3px; line-height: 0; padding: 4px}
.MathJax_Hover_Arrow:hover {color: white!important; border: 2px solid #CCC!important}
.MathJax_Hover_Arrow:hover span {background-color: #CCC!important}
</style><style type="text/css">#MathJax_About {position: fixed; left: 50%; width: auto; text-align: center; border: 3px outset; padding: 1em 2em; background-color: #DDDDDD; color: black; cursor: default; font-family: message-box; font-size: 120%; font-style: normal; text-indent: 0; text-transform: none; line-height: normal; letter-spacing: normal; word-spacing: normal; word-wrap: normal; white-space: nowrap; float: none; z-index: 201; border-radius: 15px; -webkit-border-radius: 15px; -moz-border-radius: 15px; -khtml-border-radius: 15px; box-shadow: 0px 10px 20px #808080; -webkit-box-shadow: 0px 10px 20px #808080; -moz-box-shadow: 0px 10px 20px #808080; -khtml-box-shadow: 0px 10px 20px #808080; filter: progid:DXImageTransform.Microsoft.dropshadow(OffX=2, OffY=2, Color='gray', Positive='true')}
#MathJax_About.MathJax_MousePost {outline: none}
.MathJax_Menu {position: absolute; background-color: white; color: black; width: auto; padding: 2px; border: 1px solid #CCCCCC; margin: 0; cursor: default; font: menu; text-align: left; text-indent: 0; text-transform: none; line-height: normal; letter-spacing: normal; word-spacing: normal; word-wrap: normal; white-space: nowrap; float: none; z-index: 201; box-shadow: 0px 10px 20px #808080; -webkit-box-shadow: 0px 10px 20px #808080; -moz-box-shadow: 0px 10px 20px #808080; -khtml-box-shadow: 0px 10px 20px #808080; filter: progid:DXImageTransform.Microsoft.dropshadow(OffX=2, OffY=2, Color='gray', Positive='true')}
.MathJax_MenuItem {padding: 2px 2em; background: transparent}
.MathJax_MenuArrow {position: absolute; right: .5em; padding-top: .25em; color: #666666; font-size: .75em}
.MathJax_MenuActive .MathJax_MenuArrow {color: white}
.MathJax_MenuArrow.RTL {left: .5em; right: auto}
.MathJax_MenuCheck {position: absolute; left: .7em}
.MathJax_MenuCheck.RTL {right: .7em; left: auto}
.MathJax_MenuRadioCheck {position: absolute; left: 1em}
.MathJax_MenuRadioCheck.RTL {right: 1em; left: auto}
.MathJax_MenuLabel {padding: 2px 2em 4px 1.33em; font-style: italic}
.MathJax_MenuRule {border-top: 1px solid #CCCCCC; margin: 4px 1px 0px}
.MathJax_MenuDisabled {color: GrayText}
.MathJax_MenuActive {background-color: Highlight; color: HighlightText}
.MathJax_MenuDisabled:focus, .MathJax_MenuLabel:focus {background-color: #E8E8E8}
.MathJax_ContextMenu:focus {outline: none}
.MathJax_ContextMenu .MathJax_MenuItem:focus {outline: none}
#MathJax_AboutClose {top: .2em; right: .2em}
.MathJax_Menu .MathJax_MenuClose {top: -10px; left: -10px}
.MathJax_MenuClose {position: absolute; cursor: pointer; display: inline-block; border: 2px solid #AAA; border-radius: 18px; -webkit-border-radius: 18px; -moz-border-radius: 18px; -khtml-border-radius: 18px; font-family: 'Courier New',Courier; font-size: 24px; color: #F0F0F0}
.MathJax_MenuClose span {display: block; background-color: #AAA; border: 1.5px solid; border-radius: 18px; -webkit-border-radius: 18px; -moz-border-radius: 18px; -khtml-border-radius: 18px; line-height: 0; padding: 8px 0 6px}
.MathJax_MenuClose:hover {color: white!important; border: 2px solid #CCC!important}
.MathJax_MenuClose:hover span {background-color: #CCC!important}
.MathJax_MenuClose:hover:focus {outline: none}
</style><style type="text/css">.MathJax_Preview .MJXf-math {color: inherit!important}
</style><style type="text/css">.MJX_Assistive_MathML {position: absolute!important; top: 0; left: 0; clip: rect(1px, 1px, 1px, 1px); padding: 1px 0 0 0!important; border: 0!important; height: 1px!important; width: 1px!important; overflow: hidden!important; display: block!important; -webkit-touch-callout: none; -webkit-user-select: none; -khtml-user-select: none; -moz-user-select: none; -ms-user-select: none; user-select: none}
.MJX_Assistive_MathML.MJX_Assistive_MathML_Block {width: 100%!important}
</style><style type="text/css">#MathJax_Zoom {position: absolute; background-color: #F0F0F0; overflow: auto; display: block; z-index: 301; padding: .5em; border: 1px solid black; margin: 0; font-weight: normal; font-style: normal; text-align: left; text-indent: 0; text-transform: none; line-height: normal; letter-spacing: normal; word-spacing: normal; word-wrap: normal; white-space: nowrap; float: none; -webkit-box-sizing: content-box; -moz-box-sizing: content-box; box-sizing: content-box; box-shadow: 5px 5px 15px #AAAAAA; -webkit-box-shadow: 5px 5px 15px #AAAAAA; -moz-box-shadow: 5px 5px 15px #AAAAAA; -khtml-box-shadow: 5px 5px 15px #AAAAAA; filter: progid:DXImageTransform.Microsoft.dropshadow(OffX=2, OffY=2, Color='gray', Positive='true')}
#MathJax_ZoomOverlay {position: absolute; left: 0; top: 0; z-index: 300; display: inline-block; width: 100%; height: 100%; border: 0; padding: 0; margin: 0; background-color: white; opacity: 0; filter: alpha(opacity=0)}
#MathJax_ZoomFrame {position: relative; display: inline-block; height: 0; width: 0}
#MathJax_ZoomEventTrap {position: absolute; left: 0; top: 0; z-index: 302; display: inline-block; border: 0; padding: 0; margin: 0; background-color: white; opacity: 0; filter: alpha(opacity=0)}
</style><style type="text/css">.MathJax_Preview {color: #888}
#MathJax_Message {position: fixed; left: 1em; bottom: 1.5em; background-color: #E6E6E6; border: 1px solid #959595; margin: 0px; padding: 2px 8px; z-index: 102; color: black; font-size: 80%; width: auto; white-space: nowrap}
#MathJax_MSIE_Frame {position: absolute; top: 0; left: 0; width: 0px; z-index: 101; border: 0px; margin: 0px; padding: 0px}
.MathJax_Error {color: #CC0000; font-style: italic}
</style><style type="text/css">.MJXp-script {font-size: .8em}
.MJXp-right {-webkit-transform-origin: right; -moz-transform-origin: right; -ms-transform-origin: right; -o-transform-origin: right; transform-origin: right}
.MJXp-bold {font-weight: bold}
.MJXp-italic {font-style: italic}
.MJXp-scr {font-family: MathJax_Script,'Times New Roman',Times,STIXGeneral,serif}
.MJXp-frak {font-family: MathJax_Fraktur,'Times New Roman',Times,STIXGeneral,serif}
.MJXp-sf {font-family: MathJax_SansSerif,'Times New Roman',Times,STIXGeneral,serif}
.MJXp-cal {font-family: MathJax_Caligraphic,'Times New Roman',Times,STIXGeneral,serif}
.MJXp-mono {font-family: MathJax_Typewriter,'Times New Roman',Times,STIXGeneral,serif}
.MJXp-largeop {font-size: 150%}
.MJXp-largeop.MJXp-int {vertical-align: -.2em}
.MJXp-math {display: inline-block; line-height: 1.2; text-indent: 0; font-family: 'Times New Roman',Times,STIXGeneral,serif; white-space: nowrap; border-collapse: collapse}
.MJXp-display {display: block; text-align: center; margin: 1em 0}
.MJXp-math span {display: inline-block}
.MJXp-box {display: block!important; text-align: center}
.MJXp-box:after {content: " "}
.MJXp-rule {display: block!important; margin-top: .1em}
.MJXp-char {display: block!important}
.MJXp-mo {margin: 0 .15em}
.MJXp-mfrac {margin: 0 .125em; vertical-align: .25em}
.MJXp-denom {display: inline-table!important; width: 100%}
.MJXp-denom > * {display: table-row!important}
.MJXp-surd {vertical-align: top}
.MJXp-surd > * {display: block!important}
.MJXp-script-box > *  {display: table!important; height: 50%}
.MJXp-script-box > * > * {display: table-cell!important; vertical-align: top}
.MJXp-script-box > *:last-child > * {vertical-align: bottom}
.MJXp-script-box > * > * > * {display: block!important}
.MJXp-mphantom {visibility: hidden}
.MJXp-munderover, .MJXp-munder {display: inline-table!important}
.MJXp-over {display: inline-block!important; text-align: center}
.MJXp-over > * {display: block!important}
.MJXp-munderover > *, .MJXp-munder > * {display: table-row!important}
.MJXp-mtable {vertical-align: .25em; margin: 0 .125em}
.MJXp-mtable > * {display: inline-table!important; vertical-align: middle}
.MJXp-mtr {display: table-row!important}
.MJXp-mtd {display: table-cell!important; text-align: center; padding: .5em 0 0 .5em}
.MJXp-mtr > .MJXp-mtd:first-child {padding-left: 0}
.MJXp-mtr:first-child > .MJXp-mtd {padding-top: 0}
.MJXp-mlabeledtr {display: table-row!important}
.MJXp-mlabeledtr > .MJXp-mtd:first-child {padding-left: 0}
.MJXp-mlabeledtr:first-child > .MJXp-mtd {padding-top: 0}
.MJXp-merror {background-color: #FFFF88; color: #CC0000; border: 1px solid #CC0000; padding: 1px 3px; font-style: normal; font-size: 90%}
.MJXp-scale0 {-webkit-transform: scaleX(.0); -moz-transform: scaleX(.0); -ms-transform: scaleX(.0); -o-transform: scaleX(.0); transform: scaleX(.0)}
.MJXp-scale1 {-webkit-transform: scaleX(.1); -moz-transform: scaleX(.1); -ms-transform: scaleX(.1); -o-transform: scaleX(.1); transform: scaleX(.1)}
.MJXp-scale2 {-webkit-transform: scaleX(.2); -moz-transform: scaleX(.2); -ms-transform: scaleX(.2); -o-transform: scaleX(.2); transform: scaleX(.2)}
.MJXp-scale3 {-webkit-transform: scaleX(.3); -moz-transform: scaleX(.3); -ms-transform: scaleX(.3); -o-transform: scaleX(.3); transform: scaleX(.3)}
.MJXp-scale4 {-webkit-transform: scaleX(.4); -moz-transform: scaleX(.4); -ms-transform: scaleX(.4); -o-transform: scaleX(.4); transform: scaleX(.4)}
.MJXp-scale5 {-webkit-transform: scaleX(.5); -moz-transform: scaleX(.5); -ms-transform: scaleX(.5); -o-transform: scaleX(.5); transform: scaleX(.5)}
.MJXp-scale6 {-webkit-transform: scaleX(.6); -moz-transform: scaleX(.6); -ms-transform: scaleX(.6); -o-transform: scaleX(.6); transform: scaleX(.6)}
.MJXp-scale7 {-webkit-transform: scaleX(.7); -moz-transform: scaleX(.7); -ms-transform: scaleX(.7); -o-transform: scaleX(.7); transform: scaleX(.7)}
.MJXp-scale8 {-webkit-transform: scaleX(.8); -moz-transform: scaleX(.8); -ms-transform: scaleX(.8); -o-transform: scaleX(.8); transform: scaleX(.8)}
.MJXp-scale9 {-webkit-transform: scaleX(.9); -moz-transform: scaleX(.9); -ms-transform: scaleX(.9); -o-transform: scaleX(.9); transform: scaleX(.9)}
.MathJax_PHTML .noError {vertical-align: ; font-size: 90%; text-align: left; color: black; padding: 1px 3px; border: 1px solid}
</style><style type="text/css">.mjx-chtml {display: inline-block; line-height: 0; text-indent: 0; text-align: left; text-transform: none; font-style: normal; font-weight: normal; font-size: 100%; font-size-adjust: none; letter-spacing: normal; word-wrap: normal; word-spacing: normal; white-space: nowrap; float: none; direction: ltr; max-width: none; max-height: none; min-width: 0; min-height: 0; border: 0; margin: 0; padding: 1px 0}
.MJXc-display {display: block; text-align: center; margin: 1em 0; padding: 0}
.mjx-chtml[tabindex]:focus, body :focus .mjx-chtml[tabindex] {display: inline-table}
.mjx-full-width {text-align: center; display: table-cell!important; width: 10000em}
.mjx-math {display: inline-block; border-collapse: separate; border-spacing: 0}
.mjx-math * {display: inline-block; -webkit-box-sizing: content-box!important; -moz-box-sizing: content-box!important; box-sizing: content-box!important; text-align: left}
.mjx-numerator {display: block; text-align: center}
.mjx-denominator {display: block; text-align: center}
.MJXc-stacked {height: 0; position: relative}
.MJXc-stacked > * {position: absolute}
.MJXc-bevelled > * {display: inline-block}
.mjx-stack {display: inline-block}
.mjx-op {display: block}
.mjx-under {display: table-cell}
.mjx-over {display: block}
.mjx-over > * {padding-left: 0px!important; padding-right: 0px!important}
.mjx-under > * {padding-left: 0px!important; padding-right: 0px!important}
.mjx-stack > .mjx-sup {display: block}
.mjx-stack > .mjx-sub {display: block}
.mjx-prestack > .mjx-presup {display: block}
.mjx-prestack > .mjx-presub {display: block}
.mjx-delim-h > .mjx-char {display: inline-block}
.mjx-surd {vertical-align: top}
.mjx-mphantom * {visibility: hidden}
.mjx-merror {background-color: #FFFF88; color: #CC0000; border: 1px solid #CC0000; padding: 2px 3px; font-style: normal; font-size: 90%}
.mjx-annotation-xml {line-height: normal}
.mjx-menclose > svg {fill: none; stroke: currentColor}
.mjx-mtr {display: table-row}
.mjx-mlabeledtr {display: table-row}
.mjx-mtd {display: table-cell; text-align: center}
.mjx-label {display: table-row}
.mjx-box {display: inline-block}
.mjx-block {display: block}
.mjx-span {display: inline}
.mjx-char {display: block; white-space: pre}
.mjx-itable {display: inline-table; width: auto}
.mjx-row {display: table-row}
.mjx-cell {display: table-cell}
.mjx-table {display: table; width: 100%}
.mjx-line {display: block; height: 0}
.mjx-strut {width: 0; padding-top: 1em}
.mjx-vsize {width: 0}
.MJXc-space1 {margin-left: .167em}
.MJXc-space2 {margin-left: .222em}
.MJXc-space3 {margin-left: .278em}
.mjx-chartest {display: block; visibility: hidden; position: absolute; top: 0; line-height: normal; font-size: 500%}
.mjx-chartest .mjx-char {display: inline}
.mjx-chartest .mjx-box {padding-top: 1000px}
.MJXc-processing {visibility: hidden; position: fixed; width: 0; height: 0; overflow: hidden}
.MJXc-processed {display: none}
.mjx-test {font-style: normal; font-weight: normal; font-size: 100%; font-size-adjust: none; text-indent: 0; text-transform: none; letter-spacing: normal; word-spacing: normal; overflow: hidden; height: 1px}
.mjx-test.mjx-test-display {display: table!important}
.mjx-test.mjx-test-inline {display: inline!important; margin-right: -1px}
.mjx-test.mjx-test-default {display: block!important; clear: both}
.mjx-ex-box {display: inline-block!important; position: absolute; overflow: hidden; min-height: 0; max-height: none; padding: 0; border: 0; margin: 0; width: 1px; height: 60ex}
.mjx-test-inline .mjx-left-box {display: inline-block; width: 0; float: left}
.mjx-test-inline .mjx-right-box {display: inline-block; width: 0; float: right}
.mjx-test-display .mjx-right-box {display: table-cell!important; width: 10000em!important; min-width: 0; max-width: none; padding: 0; border: 0; margin: 0}
#MathJax_CHTML_Tooltip {background-color: InfoBackground; color: InfoText; border: 1px solid black; box-shadow: 2px 2px 5px #AAAAAA; -webkit-box-shadow: 2px 2px 5px #AAAAAA; -moz-box-shadow: 2px 2px 5px #AAAAAA; -khtml-box-shadow: 2px 2px 5px #AAAAAA; padding: 3px 4px; z-index: 401; position: absolute; left: 0; top: 0; width: auto; height: auto; display: none}
.mjx-chtml .mjx-noError {line-height: 1.2; vertical-align: ; font-size: 90%; text-align: left; color: black; padding: 1px 3px; border: 1px solid}
.MJXc-TeX-unknown-R {font-family: STIXGeneral,'Cambria Math','Arial Unicode MS',serif; font-style: normal; font-weight: normal}
.MJXc-TeX-unknown-I {font-family: STIXGeneral,'Cambria Math','Arial Unicode MS',serif; font-style: italic; font-weight: normal}
.MJXc-TeX-unknown-B {font-family: STIXGeneral,'Cambria Math','Arial Unicode MS',serif; font-style: normal; font-weight: bold}
.MJXc-TeX-unknown-BI {font-family: STIXGeneral,'Cambria Math','Arial Unicode MS',serif; font-style: italic; font-weight: bold}
.MJXc-TeX-ams-R {font-family: MJXc-TeX-ams-R,MJXc-TeX-ams-Rw}
.MJXc-TeX-cal-B {font-family: MJXc-TeX-cal-B,MJXc-TeX-cal-Bx,MJXc-TeX-cal-Bw}
.MJXc-TeX-frak-R {font-family: MJXc-TeX-frak-R,MJXc-TeX-frak-Rw}
.MJXc-TeX-frak-B {font-family: MJXc-TeX-frak-B,MJXc-TeX-frak-Bx,MJXc-TeX-frak-Bw}
.MJXc-TeX-math-BI {font-family: MJXc-TeX-math-BI,MJXc-TeX-math-BIx,MJXc-TeX-math-BIw}
.MJXc-TeX-sans-R {font-family: MJXc-TeX-sans-R,MJXc-TeX-sans-Rw}
.MJXc-TeX-sans-B {font-family: MJXc-TeX-sans-B,MJXc-TeX-sans-Bx,MJXc-TeX-sans-Bw}
.MJXc-TeX-sans-I {font-family: MJXc-TeX-sans-I,MJXc-TeX-sans-Ix,MJXc-TeX-sans-Iw}
.MJXc-TeX-script-R {font-family: MJXc-TeX-script-R,MJXc-TeX-script-Rw}
.MJXc-TeX-type-R {font-family: MJXc-TeX-type-R,MJXc-TeX-type-Rw}
.MJXc-TeX-cal-R {font-family: MJXc-TeX-cal-R,MJXc-TeX-cal-Rw}
.MJXc-TeX-main-B {font-family: MJXc-TeX-main-B,MJXc-TeX-main-Bx,MJXc-TeX-main-Bw}
.MJXc-TeX-main-I {font-family: MJXc-TeX-main-I,MJXc-TeX-main-Ix,MJXc-TeX-main-Iw}
.MJXc-TeX-main-R {font-family: MJXc-TeX-main-R,MJXc-TeX-main-Rw}
.MJXc-TeX-math-I {font-family: MJXc-TeX-math-I,MJXc-TeX-math-Ix,MJXc-TeX-math-Iw}
.MJXc-TeX-size1-R {font-family: MJXc-TeX-size1-R,MJXc-TeX-size1-Rw}
.MJXc-TeX-size2-R {font-family: MJXc-TeX-size2-R,MJXc-TeX-size2-Rw}
.MJXc-TeX-size3-R {font-family: MJXc-TeX-size3-R,MJXc-TeX-size3-Rw}
.MJXc-TeX-size4-R {font-family: MJXc-TeX-size4-R,MJXc-TeX-size4-Rw}
.MJXc-TeX-vec-R {font-family: MJXc-TeX-vec-R,MJXc-TeX-vec-Rw}
.MJXc-TeX-vec-B {font-family: MJXc-TeX-vec-B,MJXc-TeX-vec-Bx,MJXc-TeX-vec-Bw}
@font-face {font-family: MJXc-TeX-ams-R; src: local('MathJax_AMS'), local('MathJax_AMS-Regular')}
@font-face {font-family: MJXc-TeX-ams-Rw; src /*1*/: url('https://cdnjs.cloudflare.com/ajax/libs/mathjax/2.7.7/fonts/HTML-CSS/TeX/eot/MathJax_AMS-Regular.eot'); src /*2*/: url('https://cdnjs.cloudflare.com/ajax/libs/mathjax/2.7.7/fonts/HTML-CSS/TeX/woff/MathJax_AMS-Regular.woff') format('woff'), url('https://cdnjs.cloudflare.com/ajax/libs/mathjax/2.7.7/fonts/HTML-CSS/TeX/otf/MathJax_AMS-Regular.otf') format('opentype')}
@font-face {font-family: MJXc-TeX-cal-B; src: local('MathJax_Caligraphic Bold'), local('MathJax_Caligraphic-Bold')}
@font-face {font-family: MJXc-TeX-cal-Bx; src: local('MathJax_Caligraphic'); font-weight: bold}
@font-face {font-family: MJXc-TeX-cal-Bw; src /*1*/: url('https://cdnjs.cloudflare.com/ajax/libs/mathjax/2.7.7/fonts/HTML-CSS/TeX/eot/MathJax_Caligraphic-Bold.eot'); src /*2*/: url('https://cdnjs.cloudflare.com/ajax/libs/mathjax/2.7.7/fonts/HTML-CSS/TeX/woff/MathJax_Caligraphic-Bold.woff') format('woff'), url('https://cdnjs.cloudflare.com/ajax/libs/mathjax/2.7.7/fonts/HTML-CSS/TeX/otf/MathJax_Caligraphic-Bold.otf') format('opentype')}
@font-face {font-family: MJXc-TeX-frak-R; src: local('MathJax_Fraktur'), local('MathJax_Fraktur-Regular')}
@font-face {font-family: MJXc-TeX-frak-Rw; src /*1*/: url('https://cdnjs.cloudflare.com/ajax/libs/mathjax/2.7.7/fonts/HTML-CSS/TeX/eot/MathJax_Fraktur-Regular.eot'); src /*2*/: url('https://cdnjs.cloudflare.com/ajax/libs/mathjax/2.7.7/fonts/HTML-CSS/TeX/woff/MathJax_Fraktur-Regular.woff') format('woff'), url('https://cdnjs.cloudflare.com/ajax/libs/mathjax/2.7.7/fonts/HTML-CSS/TeX/otf/MathJax_Fraktur-Regular.otf') format('opentype')}
@font-face {font-family: MJXc-TeX-frak-B; src: local('MathJax_Fraktur Bold'), local('MathJax_Fraktur-Bold')}
@font-face {font-family: MJXc-TeX-frak-Bx; src: local('MathJax_Fraktur'); font-weight: bold}
@font-face {font-family: MJXc-TeX-frak-Bw; src /*1*/: url('https://cdnjs.cloudflare.com/ajax/libs/mathjax/2.7.7/fonts/HTML-CSS/TeX/eot/MathJax_Fraktur-Bold.eot'); src /*2*/: url('https://cdnjs.cloudflare.com/ajax/libs/mathjax/2.7.7/fonts/HTML-CSS/TeX/woff/MathJax_Fraktur-Bold.woff') format('woff'), url('https://cdnjs.cloudflare.com/ajax/libs/mathjax/2.7.7/fonts/HTML-CSS/TeX/otf/MathJax_Fraktur-Bold.otf') format('opentype')}
@font-face {font-family: MJXc-TeX-math-BI; src: local('MathJax_Math BoldItalic'), local('MathJax_Math-BoldItalic')}
@font-face {font-family: MJXc-TeX-math-BIx; src: local('MathJax_Math'); font-weight: bold; font-style: italic}
@font-face {font-family: MJXc-TeX-math-BIw; src /*1*/: url('https://cdnjs.cloudflare.com/ajax/libs/mathjax/2.7.7/fonts/HTML-CSS/TeX/eot/MathJax_Math-BoldItalic.eot'); src /*2*/: url('https://cdnjs.cloudflare.com/ajax/libs/mathjax/2.7.7/fonts/HTML-CSS/TeX/woff/MathJax_Math-BoldItalic.woff') format('woff'), url('https://cdnjs.cloudflare.com/ajax/libs/mathjax/2.7.7/fonts/HTML-CSS/TeX/otf/MathJax_Math-BoldItalic.otf') format('opentype')}
@font-face {font-family: MJXc-TeX-sans-R; src: local('MathJax_SansSerif'), local('MathJax_SansSerif-Regular')}
@font-face {font-family: MJXc-TeX-sans-Rw; src /*1*/: url('https://cdnjs.cloudflare.com/ajax/libs/mathjax/2.7.7/fonts/HTML-CSS/TeX/eot/MathJax_SansSerif-Regular.eot'); src /*2*/: url('https://cdnjs.cloudflare.com/ajax/libs/mathjax/2.7.7/fonts/HTML-CSS/TeX/woff/MathJax_SansSerif-Regular.woff') format('woff'), url('https://cdnjs.cloudflare.com/ajax/libs/mathjax/2.7.7/fonts/HTML-CSS/TeX/otf/MathJax_SansSerif-Regular.otf') format('opentype')}
@font-face {font-family: MJXc-TeX-sans-B; src: local('MathJax_SansSerif Bold'), local('MathJax_SansSerif-Bold')}
@font-face {font-family: MJXc-TeX-sans-Bx; src: local('MathJax_SansSerif'); font-weight: bold}
@font-face {font-family: MJXc-TeX-sans-Bw; src /*1*/: url('https://cdnjs.cloudflare.com/ajax/libs/mathjax/2.7.7/fonts/HTML-CSS/TeX/eot/MathJax_SansSerif-Bold.eot'); src /*2*/: url('https://cdnjs.cloudflare.com/ajax/libs/mathjax/2.7.7/fonts/HTML-CSS/TeX/woff/MathJax_SansSerif-Bold.woff') format('woff'), url('https://cdnjs.cloudflare.com/ajax/libs/mathjax/2.7.7/fonts/HTML-CSS/TeX/otf/MathJax_SansSerif-Bold.otf') format('opentype')}
@font-face {font-family: MJXc-TeX-sans-I; src: local('MathJax_SansSerif Italic'), local('MathJax_SansSerif-Italic')}
@font-face {font-family: MJXc-TeX-sans-Ix; src: local('MathJax_SansSerif'); font-style: italic}
@font-face {font-family: MJXc-TeX-sans-Iw; src /*1*/: url('https://cdnjs.cloudflare.com/ajax/libs/mathjax/2.7.7/fonts/HTML-CSS/TeX/eot/MathJax_SansSerif-Italic.eot'); src /*2*/: url('https://cdnjs.cloudflare.com/ajax/libs/mathjax/2.7.7/fonts/HTML-CSS/TeX/woff/MathJax_SansSerif-Italic.woff') format('woff'), url('https://cdnjs.cloudflare.com/ajax/libs/mathjax/2.7.7/fonts/HTML-CSS/TeX/otf/MathJax_SansSerif-Italic.otf') format('opentype')}
@font-face {font-family: MJXc-TeX-script-R; src: local('MathJax_Script'), local('MathJax_Script-Regular')}
@font-face {font-family: MJXc-TeX-script-Rw; src /*1*/: url('https://cdnjs.cloudflare.com/ajax/libs/mathjax/2.7.7/fonts/HTML-CSS/TeX/eot/MathJax_Script-Regular.eot'); src /*2*/: url('https://cdnjs.cloudflare.com/ajax/libs/mathjax/2.7.7/fonts/HTML-CSS/TeX/woff/MathJax_Script-Regular.woff') format('woff'), url('https://cdnjs.cloudflare.com/ajax/libs/mathjax/2.7.7/fonts/HTML-CSS/TeX/otf/MathJax_Script-Regular.otf') format('opentype')}
@font-face {font-family: MJXc-TeX-type-R; src: local('MathJax_Typewriter'), local('MathJax_Typewriter-Regular')}
@font-face {font-family: MJXc-TeX-type-Rw; src /*1*/: url('https://cdnjs.cloudflare.com/ajax/libs/mathjax/2.7.7/fonts/HTML-CSS/TeX/eot/MathJax_Typewriter-Regular.eot'); src /*2*/: url('https://cdnjs.cloudflare.com/ajax/libs/mathjax/2.7.7/fonts/HTML-CSS/TeX/woff/MathJax_Typewriter-Regular.woff') format('woff'), url('https://cdnjs.cloudflare.com/ajax/libs/mathjax/2.7.7/fonts/HTML-CSS/TeX/otf/MathJax_Typewriter-Regular.otf') format('opentype')}
@font-face {font-family: MJXc-TeX-cal-R; src: local('MathJax_Caligraphic'), local('MathJax_Caligraphic-Regular')}
@font-face {font-family: MJXc-TeX-cal-Rw; src /*1*/: url('https://cdnjs.cloudflare.com/ajax/libs/mathjax/2.7.7/fonts/HTML-CSS/TeX/eot/MathJax_Caligraphic-Regular.eot'); src /*2*/: url('https://cdnjs.cloudflare.com/ajax/libs/mathjax/2.7.7/fonts/HTML-CSS/TeX/woff/MathJax_Caligraphic-Regular.woff') format('woff'), url('https://cdnjs.cloudflare.com/ajax/libs/mathjax/2.7.7/fonts/HTML-CSS/TeX/otf/MathJax_Caligraphic-Regular.otf') format('opentype')}
@font-face {font-family: MJXc-TeX-main-B; src: local('MathJax_Main Bold'), local('MathJax_Main-Bold')}
@font-face {font-family: MJXc-TeX-main-Bx; src: local('MathJax_Main'); font-weight: bold}
@font-face {font-family: MJXc-TeX-main-Bw; src /*1*/: url('https://cdnjs.cloudflare.com/ajax/libs/mathjax/2.7.7/fonts/HTML-CSS/TeX/eot/MathJax_Main-Bold.eot'); src /*2*/: url('https://cdnjs.cloudflare.com/ajax/libs/mathjax/2.7.7/fonts/HTML-CSS/TeX/woff/MathJax_Main-Bold.woff') format('woff'), url('https://cdnjs.cloudflare.com/ajax/libs/mathjax/2.7.7/fonts/HTML-CSS/TeX/otf/MathJax_Main-Bold.otf') format('opentype')}
@font-face {font-family: MJXc-TeX-main-I; src: local('MathJax_Main Italic'), local('MathJax_Main-Italic')}
@font-face {font-family: MJXc-TeX-main-Ix; src: local('MathJax_Main'); font-style: italic}
@font-face {font-family: MJXc-TeX-main-Iw; src /*1*/: url('https://cdnjs.cloudflare.com/ajax/libs/mathjax/2.7.7/fonts/HTML-CSS/TeX/eot/MathJax_Main-Italic.eot'); src /*2*/: url('https://cdnjs.cloudflare.com/ajax/libs/mathjax/2.7.7/fonts/HTML-CSS/TeX/woff/MathJax_Main-Italic.woff') format('woff'), url('https://cdnjs.cloudflare.com/ajax/libs/mathjax/2.7.7/fonts/HTML-CSS/TeX/otf/MathJax_Main-Italic.otf') format('opentype')}
@font-face {font-family: MJXc-TeX-main-R; src: local('MathJax_Main'), local('MathJax_Main-Regular')}
@font-face {font-family: MJXc-TeX-main-Rw; src /*1*/: url('https://cdnjs.cloudflare.com/ajax/libs/mathjax/2.7.7/fonts/HTML-CSS/TeX/eot/MathJax_Main-Regular.eot'); src /*2*/: url('https://cdnjs.cloudflare.com/ajax/libs/mathjax/2.7.7/fonts/HTML-CSS/TeX/woff/MathJax_Main-Regular.woff') format('woff'), url('https://cdnjs.cloudflare.com/ajax/libs/mathjax/2.7.7/fonts/HTML-CSS/TeX/otf/MathJax_Main-Regular.otf') format('opentype')}
@font-face {font-family: MJXc-TeX-math-I; src: local('MathJax_Math Italic'), local('MathJax_Math-Italic')}
@font-face {font-family: MJXc-TeX-math-Ix; src: local('MathJax_Math'); font-style: italic}
@font-face {font-family: MJXc-TeX-math-Iw; src /*1*/: url('https://cdnjs.cloudflare.com/ajax/libs/mathjax/2.7.7/fonts/HTML-CSS/TeX/eot/MathJax_Math-Italic.eot'); src /*2*/: url('https://cdnjs.cloudflare.com/ajax/libs/mathjax/2.7.7/fonts/HTML-CSS/TeX/woff/MathJax_Math-Italic.woff') format('woff'), url('https://cdnjs.cloudflare.com/ajax/libs/mathjax/2.7.7/fonts/HTML-CSS/TeX/otf/MathJax_Math-Italic.otf') format('opentype')}
@font-face {font-family: MJXc-TeX-size1-R; src: local('MathJax_Size1'), local('MathJax_Size1-Regular')}
@font-face {font-family: MJXc-TeX-size1-Rw; src /*1*/: url('https://cdnjs.cloudflare.com/ajax/libs/mathjax/2.7.7/fonts/HTML-CSS/TeX/eot/MathJax_Size1-Regular.eot'); src /*2*/: url('https://cdnjs.cloudflare.com/ajax/libs/mathjax/2.7.7/fonts/HTML-CSS/TeX/woff/MathJax_Size1-Regular.woff') format('woff'), url('https://cdnjs.cloudflare.com/ajax/libs/mathjax/2.7.7/fonts/HTML-CSS/TeX/otf/MathJax_Size1-Regular.otf') format('opentype')}
@font-face {font-family: MJXc-TeX-size2-R; src: local('MathJax_Size2'), local('MathJax_Size2-Regular')}
@font-face {font-family: MJXc-TeX-size2-Rw; src /*1*/: url('https://cdnjs.cloudflare.com/ajax/libs/mathjax/2.7.7/fonts/HTML-CSS/TeX/eot/MathJax_Size2-Regular.eot'); src /*2*/: url('https://cdnjs.cloudflare.com/ajax/libs/mathjax/2.7.7/fonts/HTML-CSS/TeX/woff/MathJax_Size2-Regular.woff') format('woff'), url('https://cdnjs.cloudflare.com/ajax/libs/mathjax/2.7.7/fonts/HTML-CSS/TeX/otf/MathJax_Size2-Regular.otf') format('opentype')}
@font-face {font-family: MJXc-TeX-size3-R; src: local('MathJax_Size3'), local('MathJax_Size3-Regular')}
@font-face {font-family: MJXc-TeX-size3-Rw; src /*1*/: url('https://cdnjs.cloudflare.com/ajax/libs/mathjax/2.7.7/fonts/HTML-CSS/TeX/eot/MathJax_Size3-Regular.eot'); src /*2*/: url('https://cdnjs.cloudflare.com/ajax/libs/mathjax/2.7.7/fonts/HTML-CSS/TeX/woff/MathJax_Size3-Regular.woff') format('woff'), url('https://cdnjs.cloudflare.com/ajax/libs/mathjax/2.7.7/fonts/HTML-CSS/TeX/otf/MathJax_Size3-Regular.otf') format('opentype')}
@font-face {font-family: MJXc-TeX-size4-R; src: local('MathJax_Size4'), local('MathJax_Size4-Regular')}
@font-face {font-family: MJXc-TeX-size4-Rw; src /*1*/: url('https://cdnjs.cloudflare.com/ajax/libs/mathjax/2.7.7/fonts/HTML-CSS/TeX/eot/MathJax_Size4-Regular.eot'); src /*2*/: url('https://cdnjs.cloudflare.com/ajax/libs/mathjax/2.7.7/fonts/HTML-CSS/TeX/woff/MathJax_Size4-Regular.woff') format('woff'), url('https://cdnjs.cloudflare.com/ajax/libs/mathjax/2.7.7/fonts/HTML-CSS/TeX/otf/MathJax_Size4-Regular.otf') format('opentype')}
@font-face {font-family: MJXc-TeX-vec-R; src: local('MathJax_Vector'), local('MathJax_Vector-Regular')}
@font-face {font-family: MJXc-TeX-vec-Rw; src /*1*/: url('https://cdnjs.cloudflare.com/ajax/libs/mathjax/2.7.7/fonts/HTML-CSS/TeX/eot/MathJax_Vector-Regular.eot'); src /*2*/: url('https://cdnjs.cloudflare.com/ajax/libs/mathjax/2.7.7/fonts/HTML-CSS/TeX/woff/MathJax_Vector-Regular.woff') format('woff'), url('https://cdnjs.cloudflare.com/ajax/libs/mathjax/2.7.7/fonts/HTML-CSS/TeX/otf/MathJax_Vector-Regular.otf') format('opentype')}
@font-face {font-family: MJXc-TeX-vec-B; src: local('MathJax_Vector Bold'), local('MathJax_Vector-Bold')}
@font-face {font-family: MJXc-TeX-vec-Bx; src: local('MathJax_Vector'); font-weight: bold}
@font-face {font-family: MJXc-TeX-vec-Bw; src /*1*/: url('https://cdnjs.cloudflare.com/ajax/libs/mathjax/2.7.7/fonts/HTML-CSS/TeX/eot/MathJax_Vector-Bold.eot'); src /*2*/: url('https://cdnjs.cloudflare.com/ajax/libs/mathjax/2.7.7/fonts/HTML-CSS/TeX/woff/MathJax_Vector-Bold.woff') format('woff'), url('https://cdnjs.cloudflare.com/ajax/libs/mathjax/2.7.7/fonts/HTML-CSS/TeX/otf/MathJax_Vector-Bold.otf') format('opentype')}
</style></head>
<body class="jp-Notebook" data-jp-theme-light="true" data-jp-theme-name="JupyterLab Light"><div id="MathJax_Message" style="display: none;"></div>

<div class="jp-Cell jp-MarkdownCell jp-Notebook-cell">
<div class="jp-Cell-inputWrapper">
<div class="jp-Collapser jp-InputCollapser jp-Cell-inputCollapser">
</div>
<div class="jp-InputArea jp-Cell-inputArea"><div class="jp-InputPrompt jp-InputArea-prompt">
</div><div class="jp-RenderedHTMLCommon jp-RenderedMarkdown jp-MarkdownOutput " data-mime-type="text/markdown">
<h1 id="Accessing-Wikidata-Content">Accessing Wikidata Content<a class="anchor-link" href="https://public-paws.wmcloud.org/User:Isaac_(WMF)/Outreachy%20Dec%202020/Wikidata_Data_Example.ipynb#Accessing-Wikidata-Content">¶</a></h1><p>This notebook provides a tutorial for how to access content in Wikidata either via the <a href="https://www.wikidata.org/wiki/Wikidata:Database_download#JSON_dumps_(recommended">JSON dumps</a>) or <a href="https://www.mediawiki.org/wiki/Wikibase/API">API</a>. It has three stages:</p>
<ul>
<li>Accessing the Wikidata JSON dumps</li>
<li>Accessing the Wikidata APIs</li>
<li>Example analysis of Wikidata data (both descriptive statistics and learning a predictive model)</li>
</ul>

</div>
</div>
</div>
</div>
<div class="jp-Cell jp-MarkdownCell jp-Notebook-cell">
<div class="jp-Cell-inputWrapper">
<div class="jp-Collapser jp-InputCollapser jp-Cell-inputCollapser">
</div>
<div class="jp-InputArea jp-Cell-inputArea"><div class="jp-InputPrompt jp-InputArea-prompt">
</div><div class="jp-RenderedHTMLCommon jp-RenderedMarkdown jp-MarkdownOutput " data-mime-type="text/markdown">
<h2 id="Accessing-the-Wikidata-JSON-Dumps">Accessing the Wikidata JSON Dumps<a class="anchor-link" href="https://public-paws.wmcloud.org/User:Isaac_(WMF)/Outreachy%20Dec%202020/Wikidata_Data_Example.ipynb#Accessing-the-Wikidata-JSON-Dumps">¶</a></h2><p>This is an example of how to parse through <a href="https://www.wikidata.org/wiki/Wikidata:Database_download#JSON_dumps_(recommended">JSON dumps</a>) and gather <a href="https://en.wikipedia.org/wiki/Wikidata#Statements">statements</a> (property:value) for all items with at least one Wikipedia <a href="https://en.wikipedia.org/wiki/Wikipedia:Wikidata#Interlanguage_links_(Phase_1">sitelink</a>). This can obviously be adjusted for whatever filtering etc. is desired. Of note, the JSON dumps are over 50 GB compressed and thus processing them can easily take a full day. If this is done via PAWS, the service will time-out.</p>

</div>
</div>
</div>
</div><div class="jp-Cell jp-CodeCell jp-Notebook-cell jp-mod-noOutputs  ">
<div class="jp-Cell-inputWrapper">
<div class="jp-Collapser jp-InputCollapser jp-Cell-inputCollapser">
</div>
<div class="jp-InputArea jp-Cell-inputArea">
<div class="jp-InputPrompt jp-InputArea-prompt">In&nbsp;[1]:</div>
<div class="jp-CodeMirrorEditor jp-Editor jp-InputArea-editor" data-type="inline">
     <div class="CodeMirror cm-s-jupyter">
<div class=" highlight hl-ipython3"><pre><span></span><span class="kn">import</span> <span class="nn">bz2</span>
<span class="kn">from</span> <span class="nn">copy</span> <span class="kn">import</span> <span class="n">deepcopy</span>
<span class="kn">import</span> <span class="nn">json</span>
<span class="kn">import</span> <span class="nn">os</span>
<span class="kn">import</span> <span class="nn">time</span>
</pre></div>

     </div>
</div>
</div>
</div>

</div><div class="jp-Cell jp-CodeCell jp-Notebook-cell jp-mod-noOutputs  ">
<div class="jp-Cell-inputWrapper">
<div class="jp-Collapser jp-InputCollapser jp-Cell-inputCollapser">
</div>
<div class="jp-InputArea jp-Cell-inputArea">
<div class="jp-InputPrompt jp-InputArea-prompt">In&nbsp;[2]:</div>
<div class="jp-CodeMirrorEditor jp-Editor jp-InputArea-editor" data-type="inline">
     <div class="CodeMirror cm-s-jupyter">
<div class=" highlight hl-ipython3"><pre><span></span><span class="c1"># directory on PAWS server that holds Wikidata JSON dump</span>
<span class="n">WIKIDATA_DIR</span> <span class="o">=</span> <span class="s2">"/public/dumps/public/wikidatawiki/entities/"</span>
<span class="n">WIKIDATA_DUMP_FN</span> <span class="o">=</span> <span class="s1">'latest-all.json.bz2'</span>
<span class="c1"># these next two variables just control progress statements and control how many items are processed</span>
<span class="c1"># there are tens of millions of Wikidata items and processing all of them takes far too long for this notebook</span>
<span class="n">PRINT_EVERY</span> <span class="o">=</span> <span class="mi">5000</span>
<span class="n">STOP_AT</span> <span class="o">=</span> <span class="mi">12000</span>
</pre></div>

     </div>
</div>
</div>
</div>

</div><div class="jp-Cell jp-CodeCell jp-Notebook-cell   ">
<div class="jp-Cell-inputWrapper">
<div class="jp-Collapser jp-InputCollapser jp-Cell-inputCollapser">
</div>
<div class="jp-InputArea jp-Cell-inputArea">
<div class="jp-InputPrompt jp-InputArea-prompt">In&nbsp;[3]:</div>
<div class="jp-CodeMirrorEditor jp-Editor jp-InputArea-editor" data-type="inline">
     <div class="CodeMirror cm-s-jupyter">
<div class=" highlight hl-ipython3"><pre><span></span><span class="c1"># show types of Wikidata entity dumps that are available</span>
<span class="o">!</span>ls <span class="o">{</span>WIKIDATA_DIR<span class="o">}</span>
</pre></div>

     </div>
</div>
</div>
</div>

<div class="jp-Cell-outputWrapper">
<div class="jp-Collapser jp-OutputCollapser jp-Cell-outputCollapser">
</div>


<div class="jp-OutputArea jp-Cell-outputArea">

<div class="jp-OutputArea-child">

    
    <div class="jp-OutputPrompt jp-OutputArea-prompt"></div>


<div class="jp-RenderedText jp-OutputArea-output" data-mime-type="text/plain">
<pre>20200810  20200828  20200912	latest-all.json.bz2    latest-lexemes.nt.gz
20200813  20200830  20200914	latest-all.json.gz     latest-lexemes.ttl.bz2
20200816  20200831  20200916	latest-all.nt.bz2      latest-lexemes.ttl.gz
20200817  20200903  20200918	latest-all.nt.gz       latest-truthy.nt.bz2
20200820  20200905  20200921	latest-all.ttl.bz2     latest-truthy.nt.gz
20200823  20200907  20200923	latest-all.ttl.gz
20200824  20200910  dcatap.rdf	latest-lexemes.nt.bz2
</pre>
</div>
</div>

</div>

</div>

</div><div class="jp-Cell jp-CodeCell jp-Notebook-cell   ">
<div class="jp-Cell-inputWrapper">
<div class="jp-Collapser jp-InputCollapser jp-Cell-inputCollapser">
</div>
<div class="jp-InputArea jp-Cell-inputArea">
<div class="jp-InputPrompt jp-InputArea-prompt">In&nbsp;[4]:</div>
<div class="jp-CodeMirrorEditor jp-Editor jp-InputArea-editor" data-type="inline">
     <div class="CodeMirror cm-s-jupyter">
<div class=" highlight hl-ipython3"><pre><span></span><span class="c1"># Wikidata JSON dump we'll start processing (56 GB in size, compressed) so far too large to process the whole thing right now</span>
<span class="o">!</span>ls -shH <span class="s2">"{WIKIDATA_DIR}{WIKIDATA_DUMP_FN}"</span>
</pre></div>

     </div>
</div>
</div>
</div>

<div class="jp-Cell-outputWrapper">
<div class="jp-Collapser jp-OutputCollapser jp-Cell-outputCollapser">
</div>


<div class="jp-OutputArea jp-Cell-outputArea">

<div class="jp-OutputArea-child">

    
    <div class="jp-OutputPrompt jp-OutputArea-prompt"></div>


<div class="jp-RenderedText jp-OutputArea-output" data-mime-type="text/plain">
<pre>56G /public/dumps/public/wikidatawiki/entities/latest-all.json.bz2
</pre>
</div>
</div>

</div>

</div>

</div><div class="jp-Cell jp-CodeCell jp-Notebook-cell   ">
<div class="jp-Cell-inputWrapper">
<div class="jp-Collapser jp-InputCollapser jp-Cell-inputCollapser">
</div>
<div class="jp-InputArea jp-Cell-inputArea">
<div class="jp-InputPrompt jp-InputArea-prompt">In&nbsp;[7]:</div>
<div class="jp-CodeMirrorEditor jp-Editor jp-InputArea-editor" data-type="inline">
     <div class="CodeMirror cm-s-jupyter">
<div class=" highlight hl-ipython3"><pre><span></span><span class="c1"># Inspect the first 500 characters of the JSON dump to see what it looks like</span>
<span class="c1"># Ignore the bzcat broken pipe err</span>
<span class="o">!</span>bzcat <span class="s2">"{WIKIDATA_DIR}{WIKIDATA_DUMP_FN}"</span> <span class="p">|</span> head -n2 <span class="p">|</span> cut -c1-500
</pre></div>

     </div>
</div>
</div>
</div>

<div class="jp-Cell-outputWrapper">
<div class="jp-Collapser jp-OutputCollapser jp-Cell-outputCollapser">
</div>


<div class="jp-OutputArea jp-Cell-outputArea">

<div class="jp-OutputArea-child">

    
    <div class="jp-OutputPrompt jp-OutputArea-prompt"></div>


<div class="jp-RenderedText jp-OutputArea-output" data-mime-type="text/plain">
<pre>[

bzcat: I/O or other error, bailing out.  Possible reason follows.
bzcat: Broken pipe
	Input file = /public/dumps/public/wikidatawiki/entities/latest-all.json.bz2, output file = (stdout)
{"type":"item","id":"Q31","labels":{"el":{"language":"el","value":"\u0392\u03ad\u03bb\u03b3\u03b9\u03bf"},"ay":{"language":"ay","value":"Bilkiya"},"pnb":{"language":"pnb","value":"\u0628\u06cc\u0644\u062c\u06cc\u0645"},"na":{"language":"na","value":"Berdjiyum"},"mk":{"language":"mk","value":"\u0411\u0435\u043b\u0433\u0438\u0458\u0430"},"bn":{"language":"bn","value":"\u09ac\u09c7\u09b2\u099c\u09bf\u09af\u09bc\u09be\u09ae"},"bpy":{"language":"bpy","value":"\u09ac\u09c7\u09b2\u099c\u09bf\u09af\u09b
</pre>
</div>
</div>

</div>

</div>

</div><div class="jp-Cell jp-CodeCell jp-Notebook-cell   ">
<div class="jp-Cell-inputWrapper">
<div class="jp-Collapser jp-InputCollapser jp-Cell-inputCollapser">
</div>
<div class="jp-InputArea jp-Cell-inputArea">
<div class="jp-InputPrompt jp-InputArea-prompt">In&nbsp;[5]:</div>
<div class="jp-CodeMirrorEditor jp-Editor jp-InputArea-editor" data-type="inline">
     <div class="CodeMirror cm-s-jupyter">
<div class=" highlight hl-ipython3"><pre><span></span><span class="c1"># Example that loops through all Wikidata items with Wikipedia sitelinks and extracts properties + values</span>
<span class="n">start_time</span> <span class="o">=</span> <span class="n">time</span><span class="o">.</span><span class="n">time</span><span class="p">()</span>
<span class="n">items_kept</span> <span class="o">=</span> <span class="mi">0</span>
<span class="n">data</span> <span class="o">=</span> <span class="p">[]</span>
<span class="k">with</span> <span class="n">bz2</span><span class="o">.</span><span class="n">open</span><span class="p">(</span><span class="n">os</span><span class="o">.</span><span class="n">path</span><span class="o">.</span><span class="n">join</span><span class="p">(</span><span class="n">WIKIDATA_DIR</span><span class="p">,</span> <span class="n">WIKIDATA_DUMP_FN</span><span class="p">),</span> <span class="s1">'rt'</span><span class="p">)</span> <span class="k">as</span> <span class="n">fin</span><span class="p">:</span>
    <span class="nb">next</span><span class="p">(</span><span class="n">fin</span><span class="p">)</span>  <span class="c1"># remove initial '[' character</span>
    <span class="k">for</span> <span class="n">idx</span><span class="p">,</span> <span class="n">line</span> <span class="ow">in</span> <span class="nb">enumerate</span><span class="p">(</span><span class="n">fin</span><span class="p">,</span> <span class="n">start</span><span class="o">=</span><span class="mi">1</span><span class="p">):</span>
        <span class="c1"># load line (Wikidata item) as JSON</span>
        <span class="k">try</span><span class="p">:</span>
            <span class="n">item_json</span> <span class="o">=</span> <span class="n">json</span><span class="o">.</span><span class="n">loads</span><span class="p">(</span><span class="n">line</span><span class="p">[:</span><span class="o">-</span><span class="mi">2</span><span class="p">])</span>  <span class="c1"># trim trailing comma + newline character</span>
        <span class="k">except</span> <span class="ne">Exception</span><span class="p">:</span>
            <span class="k">try</span><span class="p">:</span>
                <span class="n">item_json</span> <span class="o">=</span> <span class="n">json</span><span class="o">.</span><span class="n">loads</span><span class="p">(</span><span class="n">line</span><span class="p">)</span>  <span class="c1"># final item does not have a comma</span>
            <span class="k">except</span> <span class="ne">Exception</span><span class="p">:</span>
                <span class="nb">print</span><span class="p">(</span><span class="s2">"Error:"</span><span class="p">,</span> <span class="n">idx</span><span class="p">,</span> <span class="n">line</span><span class="p">)</span>
                <span class="k">continue</span>

        <span class="k">if</span> <span class="n">idx</span> <span class="o">%</span> <span class="n">PRINT_EVERY</span> <span class="o">==</span> <span class="mi">0</span><span class="p">:</span>
            <span class="n">elapsed_time_sec</span> <span class="o">=</span> <span class="n">time</span><span class="o">.</span><span class="n">time</span><span class="p">()</span> <span class="o">-</span> <span class="n">start_time</span>
            <span class="nb">print</span><span class="p">(</span><span class="s2">"</span><span class="si">{0}</span><span class="s2"> lines processed. </span><span class="si">{1:.2f}</span><span class="s2"> minutes elapsed. </span><span class="si">{2}</span><span class="s2"> (</span><span class="si">{3:.1f}</span><span class="s2">%) items kept"</span><span class="o">.</span><span class="n">format</span><span class="p">(</span>
                <span class="n">idx</span><span class="p">,</span> <span class="n">elapsed_time_sec</span> <span class="o">/</span> <span class="mi">60</span><span class="p">,</span> <span class="n">items_kept</span><span class="p">,</span> <span class="mi">100</span> <span class="o">*</span> <span class="n">items_kept</span> <span class="o">/</span> <span class="n">idx</span><span class="p">))</span>
            
        <span class="k">if</span> <span class="n">idx</span> <span class="o">==</span> <span class="n">STOP_AT</span><span class="p">:</span>
            <span class="nb">print</span><span class="p">(</span><span class="s2">"Reached limit of </span><span class="si">{0}</span><span class="s2"> items"</span><span class="o">.</span><span class="n">format</span><span class="p">(</span><span class="n">STOP_AT</span><span class="p">))</span>
            <span class="k">break</span>
        
        <span class="c1"># this is the unique identifier for a given Wikidata item</span>
        <span class="n">qid</span> <span class="o">=</span> <span class="n">item_json</span><span class="o">.</span><span class="n">get</span><span class="p">(</span><span class="s1">'id'</span><span class="p">,</span> <span class="kc">None</span><span class="p">)</span>
        <span class="k">if</span> <span class="ow">not</span> <span class="n">qid</span><span class="p">:</span>
            <span class="k">continue</span>
        
        <span class="c1"># check that at least one wikipedia language edition has an article about the item</span>
        <span class="c1"># this is an loose proxy for Wikipedia links in that some extra items might slip through the filter</span>
        <span class="c1"># commonswiki and specieswiki are the most common "&lt;something&gt;wiki"s but metawiki, testwiki, etc. also exist</span>
        <span class="c1"># a better solution would be first downloading a list of all wiki names and then checking against that</span>
        <span class="n">sitelinks</span> <span class="o">=</span> <span class="p">[</span><span class="n">l</span><span class="p">[:</span><span class="o">-</span><span class="mi">4</span><span class="p">]</span> <span class="k">for</span> <span class="n">l</span> <span class="ow">in</span> <span class="n">item_json</span><span class="o">.</span><span class="n">get</span><span class="p">(</span><span class="s1">'sitelinks'</span><span class="p">,</span> <span class="p">[])</span> <span class="k">if</span> <span class="n">l</span><span class="o">.</span><span class="n">endswith</span><span class="p">(</span><span class="s1">'wiki'</span><span class="p">)</span> <span class="ow">and</span> <span class="n">l</span> <span class="o">!=</span> <span class="s1">'commonswiki'</span> <span class="ow">and</span> <span class="n">l</span> <span class="o">!=</span> <span class="s1">'specieswiki'</span><span class="p">]</span>
        <span class="n">num_sitelinks</span> <span class="o">=</span> <span class="nb">len</span><span class="p">(</span><span class="n">sitelinks</span><span class="p">)</span>
        <span class="k">if</span> <span class="n">num_sitelinks</span> <span class="o">==</span> <span class="mi">0</span><span class="p">:</span>
            <span class="k">continue</span>
        
        <span class="c1"># English title for ease of debugging and example of getting article titles</span>
        <span class="n">en_title</span> <span class="o">=</span> <span class="n">item_json</span><span class="o">.</span><span class="n">get</span><span class="p">(</span><span class="s1">'sitelinks'</span><span class="p">,</span> <span class="p">{})</span><span class="o">.</span><span class="n">get</span><span class="p">(</span><span class="s1">'enwiki'</span><span class="p">,</span> <span class="p">{})</span><span class="o">.</span><span class="n">get</span><span class="p">(</span><span class="s1">'title'</span><span class="p">,</span> <span class="kc">None</span><span class="p">)</span>
        <span class="n">claims</span> <span class="o">=</span> <span class="n">item_json</span><span class="o">.</span><span class="n">get</span><span class="p">(</span><span class="s1">'claims'</span><span class="p">,</span> <span class="p">{})</span>
        <span class="n">items_kept</span> <span class="o">+=</span> <span class="mi">1</span>
        <span class="n">num_statements</span> <span class="o">=</span> <span class="nb">len</span><span class="p">(</span><span class="n">claims</span><span class="p">)</span>

        <span class="c1"># example of processing statements to get individual properties + values</span>
        <span class="c1"># in this case, we're gathering the # of statements, whether the item is about a person, and # of sitelinks</span>
        <span class="n">is_human</span> <span class="o">=</span> <span class="kc">False</span>
        <span class="k">for</span> <span class="n">prop</span> <span class="ow">in</span> <span class="n">claims</span><span class="p">:</span>  <span class="c1"># each property, such as P31 instance-of</span>
            <span class="k">for</span> <span class="n">statement</span> <span class="ow">in</span> <span class="n">claims</span><span class="p">[</span><span class="n">prop</span><span class="p">]:</span>  <span class="c1"># each value under that property -- e.g., instance-of might have three different values</span>
                <span class="k">if</span> <span class="n">statement</span><span class="o">.</span><span class="n">get</span><span class="p">(</span><span class="s1">'type'</span><span class="p">)</span> <span class="o">==</span> <span class="s1">'statement'</span><span class="p">:</span>
                    <span class="n">prop_id</span> <span class="o">=</span> <span class="n">statement</span><span class="o">.</span><span class="n">get</span><span class="p">(</span><span class="s1">'mainsnak'</span><span class="p">,</span> <span class="p">{})</span><span class="o">.</span><span class="n">get</span><span class="p">(</span><span class="s1">'property'</span><span class="p">)</span>
                    <span class="k">if</span> <span class="n">statement</span><span class="o">.</span><span class="n">get</span><span class="p">(</span><span class="s1">'mainsnak'</span><span class="p">,</span> <span class="p">{})</span><span class="o">.</span><span class="n">get</span><span class="p">(</span><span class="s1">'datatype'</span><span class="p">)</span> <span class="o">==</span> <span class="s1">'wikibase-item'</span><span class="p">:</span>
                        <span class="n">value</span> <span class="o">=</span> <span class="n">statement</span><span class="p">[</span><span class="s1">'mainsnak'</span><span class="p">]</span><span class="o">.</span><span class="n">get</span><span class="p">(</span><span class="s1">'datavalue'</span><span class="p">,</span> <span class="p">{})</span><span class="o">.</span><span class="n">get</span><span class="p">(</span><span class="s1">'value'</span><span class="p">,</span> <span class="p">{})</span><span class="o">.</span><span class="n">get</span><span class="p">(</span><span class="s1">'id'</span><span class="p">)</span>
                        <span class="k">if</span> <span class="n">prop_id</span> <span class="o">==</span> <span class="s1">'P31'</span> <span class="ow">and</span> <span class="n">value</span> <span class="o">==</span> <span class="s1">'Q5'</span><span class="p">:</span>
                            <span class="n">is_human</span> <span class="o">=</span> <span class="kc">True</span>
        <span class="n">data</span><span class="o">.</span><span class="n">append</span><span class="p">((</span><span class="n">qid</span><span class="p">,</span> <span class="n">en_title</span><span class="p">,</span> <span class="n">num_statements</span><span class="p">,</span> <span class="n">num_sitelinks</span><span class="p">,</span> <span class="n">is_human</span><span class="p">))</span>
                        
<span class="n">elapsed_time_sec</span> <span class="o">=</span> <span class="n">time</span><span class="o">.</span><span class="n">time</span><span class="p">()</span> <span class="o">-</span> <span class="n">start_time</span>
<span class="nb">print</span><span class="p">(</span><span class="s2">"</span><span class="si">{0}</span><span class="s2"> lines processed. </span><span class="si">{1:.2f}</span><span class="s2"> minutes elapsed. </span><span class="si">{2}</span><span class="s2"> (</span><span class="si">{3:.1f}</span><span class="s2">%) items kept"</span><span class="o">.</span><span class="n">format</span><span class="p">(</span>
    <span class="n">idx</span><span class="p">,</span> <span class="n">elapsed_time_sec</span> <span class="o">/</span> <span class="mi">60</span><span class="p">,</span> <span class="n">items_kept</span><span class="p">,</span> <span class="mi">100</span> <span class="o">*</span> <span class="n">items_kept</span> <span class="o">/</span> <span class="n">idx</span><span class="p">))</span>
</pre></div>

     </div>
</div>
</div>
</div>

<div class="jp-Cell-outputWrapper">
<div class="jp-Collapser jp-OutputCollapser jp-Cell-outputCollapser">
</div>


<div class="jp-OutputArea jp-Cell-outputArea">

<div class="jp-OutputArea-child">

    
    <div class="jp-OutputPrompt jp-OutputArea-prompt"></div>


<div class="jp-RenderedText jp-OutputArea-output" data-mime-type="text/plain">
<pre>5000 lines processed. 0.15 minutes elapsed. 4995 (99.9%) items kept
10000 lines processed. 0.28 minutes elapsed. 9991 (99.9%) items kept
Reached limit of 12000 items
12000 lines processed. 0.31 minutes elapsed. 11990 (99.9%) items kept
</pre>
</div>
</div>

</div>

</div>

</div>
<div class="jp-Cell jp-MarkdownCell jp-Notebook-cell">
<div class="jp-Cell-inputWrapper">
<div class="jp-Collapser jp-InputCollapser jp-Cell-inputCollapser">
</div>
<div class="jp-InputArea jp-Cell-inputArea"><div class="jp-InputPrompt jp-InputArea-prompt">
</div><div class="jp-RenderedHTMLCommon jp-RenderedMarkdown jp-MarkdownOutput " data-mime-type="text/markdown">
<h3 id="Show-an-example-of-the-data">Show an example of the data<a class="anchor-link" href="https://public-paws.wmcloud.org/User:Isaac_(WMF)/Outreachy%20Dec%202020/Wikidata_Data_Example.ipynb#Show-an-example-of-the-data">¶</a></h3>
</div>
</div>
</div>
</div><div class="jp-Cell jp-CodeCell jp-Notebook-cell   ">
<div class="jp-Cell-inputWrapper">
<div class="jp-Collapser jp-InputCollapser jp-Cell-inputCollapser">
</div>
<div class="jp-InputArea jp-Cell-inputArea">
<div class="jp-InputPrompt jp-InputArea-prompt">In&nbsp;[6]:</div>
<div class="jp-CodeMirrorEditor jp-Editor jp-InputArea-editor" data-type="inline">
     <div class="CodeMirror cm-s-jupyter">
<div class=" highlight hl-ipython3"><pre><span></span><span class="c1"># Complete example item -- there is a lot of additional info we don't need though</span>
<span class="n">item_json</span> 
</pre></div>

     </div>
</div>
</div>
</div>

<div class="jp-Cell-outputWrapper">
<div class="jp-Collapser jp-OutputCollapser jp-Cell-outputCollapser">
</div>


<div class="jp-OutputArea jp-Cell-outputArea">

<div class="jp-OutputArea-child">

    
    <div class="jp-OutputPrompt jp-OutputArea-prompt">Out[6]:</div>




<div class="jp-RenderedText jp-OutputArea-output jp-OutputArea-executeResult" data-mime-type="text/plain">
<pre>{'type': 'item',
 'id': 'Q100328',
 'labels': {'de': {'language': 'de', 'value': 'Volker Michael Strocka'},
  'fr': {'language': 'fr', 'value': 'Volker Michael Strocka'},
  'nb': {'language': 'nb', 'value': 'Volker Michael Strocka'},
  'da': {'language': 'da', 'value': 'Volker Michael Strocka'},
  'nn': {'language': 'nn', 'value': 'Volker Michael Strocka'},
  'sv': {'language': 'sv', 'value': 'Volker Michael Strocka'},
  'en': {'language': 'en', 'value': 'Volker Michael Strocka'},
  'nl': {'language': 'nl', 'value': 'Volker Michael Strocka'},
  'es': {'language': 'es', 'value': 'Volker Michael Strocka'},
  'el': {'language': 'el', 'value': 'Φόλκερ Μίκαελ Στρόκα'},
  'sl': {'language': 'sl', 'value': 'Volker Michael Strocka'},
  'nds': {'language': 'nds', 'value': 'Volker Michael Strocka'},
  'pt': {'language': 'pt', 'value': 'Volker Michael Strocka'},
  'ast': {'language': 'ast', 'value': 'Volker Michael Strocka'},
  'ca': {'language': 'ca', 'value': 'Volker Michael Strocka'},
  'it': {'language': 'it', 'value': 'Volker Michael Strocka'},
  'sq': {'language': 'sq', 'value': 'Volker Michael Strocka'}},
 'descriptions': {'de': {'language': 'de',
   'value': 'deutscher Klassischer Archäologe'},
  'fr': {'language': 'fr', 'value': 'archéologue allemand'},
  'en': {'language': 'en', 'value': 'German classical archaeologist'},
  'es': {'language': 'es', 'value': 'arqueólogo aleman'},
  'nl': {'language': 'nl', 'value': 'Duits kunsthistoricus'},
  'da': {'language': 'da', 'value': 'tysk professor'},
  'sv': {'language': 'sv', 'value': 'tysk professor'},
  'pt': {'language': 'pt', 'value': 'professor académico alemão'},
  'it': {'language': 'it', 'value': 'archeologo tedesco'}},
 'aliases': {'de': [{'language': 'de', 'value': 'Volker M. Strocka'}]},
 'claims': {'P21': [{'mainsnak': {'snaktype': 'value',
     'property': 'P21',
     'datavalue': {'value': {'entity-type': 'item',
       'numeric-id': 6581097,
       'id': 'Q6581097'},
      'type': 'wikibase-entityid'},
     'datatype': 'wikibase-item'},
    'type': 'statement',
    'id': 'q100328$DFFCE2C9-4028-498D-ADC3-39196A60F2E5',
    'rank': 'normal',
    'references': [{'hash': '9a24f7c0208b05d6be97077d855671d1dfdbc0dd',
      'snaks': {'P143': [{'snaktype': 'value',
         'property': 'P143',
         'datavalue': {'value': {'entity-type': 'item',
           'numeric-id': 48183,
           'id': 'Q48183'},
          'type': 'wikibase-entityid'},
         'datatype': 'wikibase-item'}]},
      'snaks-order': ['P143']}]}],
  'P244': [{'mainsnak': {'snaktype': 'value',
     'property': 'P244',
     'datavalue': {'value': 'n82018223', 'type': 'string'},
     'datatype': 'external-id'},
    'type': 'statement',
    'id': 'q100328$66827265-365C-4DAB-9A70-78EB52EA5F01',
    'rank': 'normal',
    'references': [{'hash': '9a24f7c0208b05d6be97077d855671d1dfdbc0dd',
      'snaks': {'P143': [{'snaktype': 'value',
         'property': 'P143',
         'datavalue': {'value': {'entity-type': 'item',
           'numeric-id': 48183,
           'id': 'Q48183'},
          'type': 'wikibase-entityid'},
         'datatype': 'wikibase-item'}]},
      'snaks-order': ['P143']}]}],
  'P214': [{'mainsnak': {'snaktype': 'value',
     'property': 'P214',
     'datavalue': {'value': '17272533', 'type': 'string'},
     'datatype': 'external-id'},
    'type': 'statement',
    'id': 'q100328$11BAC768-6EB4-4220-B0E0-A7603A8D026F',
    'rank': 'normal',
    'references': [{'hash': '9a24f7c0208b05d6be97077d855671d1dfdbc0dd',
      'snaks': {'P143': [{'snaktype': 'value',
         'property': 'P143',
         'datavalue': {'value': {'entity-type': 'item',
           'numeric-id': 48183,
           'id': 'Q48183'},
          'type': 'wikibase-entityid'},
         'datatype': 'wikibase-item'}]},
      'snaks-order': ['P143']}]}],
  'P227': [{'mainsnak': {'snaktype': 'value',
     'property': 'P227',
     'datavalue': {'value': '121272141', 'type': 'string'},
     'datatype': 'external-id'},
    'type': 'statement',
    'id': 'q100328$9A2949A2-1664-4F6E-8BFE-E8CFF20821DD',
    'rank': 'normal',
    'references': [{'hash': '9a24f7c0208b05d6be97077d855671d1dfdbc0dd',
      'snaks': {'P143': [{'snaktype': 'value',
         'property': 'P143',
         'datavalue': {'value': {'entity-type': 'item',
           'numeric-id': 48183,
           'id': 'Q48183'},
          'type': 'wikibase-entityid'},
         'datatype': 'wikibase-item'}]},
      'snaks-order': ['P143']}]}],
  'P213': [{'mainsnak': {'snaktype': 'value',
     'property': 'P213',
     'datavalue': {'value': '0000 0001 2099 3773', 'type': 'string'},
     'datatype': 'external-id'},
    'type': 'statement',
    'id': 'q100328$391DF96F-EB43-4A72-B099-0DAE46C1BCD5',
    'rank': 'normal',
    'references': [{'hash': 'fbc824608bf047fcbfb803c1b0f98e66f4372207',
      'snaks': {'P248': [{'snaktype': 'value',
         'property': 'P248',
         'datavalue': {'value': {'entity-type': 'item',
           'numeric-id': 423048,
           'id': 'Q423048'},
          'type': 'wikibase-entityid'},
         'datatype': 'wikibase-item'}]},
      'snaks-order': ['P248']}]}],
  'P69': [{'mainsnak': {'snaktype': 'value',
     'property': 'P69',
     'datavalue': {'value': {'entity-type': 'item',
       'numeric-id': 153987,
       'id': 'Q153987'},
      'type': 'wikibase-entityid'},
     'datatype': 'wikibase-item'},
    'type': 'statement',
    'id': 'Q100328$F922E4EB-9A63-48D9-B1DB-BF4C8A8662C3',
    'rank': 'normal',
    'references': [{'hash': 'd4bd87b862b12d99d26e86472d44f26858dee639',
      'snaks': {'P143': [{'snaktype': 'value',
         'property': 'P143',
         'datavalue': {'value': {'entity-type': 'item',
           'numeric-id': 8447,
           'id': 'Q8447'},
          'type': 'wikibase-entityid'},
         'datatype': 'wikibase-item'}]},
      'snaks-order': ['P143']}]}],
  'P19': [{'mainsnak': {'snaktype': 'value',
     'property': 'P19',
     'datavalue': {'value': {'entity-type': 'item',
       'numeric-id': 1794,
       'id': 'Q1794'},
      'type': 'wikibase-entityid'},
     'datatype': 'wikibase-item'},
    'type': 'statement',
    'id': 'Q100328$3221250E-BFB1-4932-9AE7-58E471C736AF',
    'rank': 'normal',
    'references': [{'hash': 'd4bd87b862b12d99d26e86472d44f26858dee639',
      'snaks': {'P143': [{'snaktype': 'value',
         'property': 'P143',
         'datavalue': {'value': {'entity-type': 'item',
           'numeric-id': 8447,
           'id': 'Q8447'},
          'type': 'wikibase-entityid'},
         'datatype': 'wikibase-item'}]},
      'snaks-order': ['P143']},
     {'hash': '332d162d365fc309135025684aa893bfe39caf21',
      'snaks': {'P248': [{'snaktype': 'value',
         'property': 'P248',
         'datavalue': {'value': {'entity-type': 'item',
           'numeric-id': 36578,
           'id': 'Q36578'},
          'type': 'wikibase-entityid'},
         'datatype': 'wikibase-item'}],
       'P813': [{'snaktype': 'value',
         'property': 'P813',
         'datavalue': {'value': {'time': '+2014-12-11T00:00:00Z',
           'timezone': 0,
           'before': 0,
           'after': 0,
           'precision': 11,
           'calendarmodel': 'http://www.wikidata.org/entity/Q1985727'},
          'type': 'time'},
         'datatype': 'time'}]},
      'snaks-order': ['P248', 'P813']}]}],
  'P31': [{'mainsnak': {'snaktype': 'value',
     'property': 'P31',
     'datavalue': {'value': {'entity-type': 'item',
       'numeric-id': 5,
       'id': 'Q5'},
      'type': 'wikibase-entityid'},
     'datatype': 'wikibase-item'},
    'type': 'statement',
    'id': 'Q100328$BCBE35BE-6ECE-4DFD-A8F5-D4501B197312',
    'rank': 'normal',
    'references': [{'hash': '9a24f7c0208b05d6be97077d855671d1dfdbc0dd',
      'snaks': {'P143': [{'snaktype': 'value',
         'property': 'P143',
         'datavalue': {'value': {'entity-type': 'item',
           'numeric-id': 48183,
           'id': 'Q48183'},
          'type': 'wikibase-entityid'},
         'datatype': 'wikibase-item'}]},
      'snaks-order': ['P143']},
     {'hash': '07ceb96f67aad4a99d7219d1f98aaed90f1cc2ee',
      'snaks': {'P248': [{'snaktype': 'value',
         'property': 'P248',
         'datavalue': {'value': {'entity-type': 'item',
           'numeric-id': 19938912,
           'id': 'Q19938912'},
          'type': 'wikibase-entityid'},
         'datatype': 'wikibase-item'}],
       'P813': [{'snaktype': 'value',
         'property': 'P813',
         'datavalue': {'value': {'time': '+2015-10-10T00:00:00Z',
           'timezone': 0,
           'before': 0,
           'after': 0,
           'precision': 11,
           'calendarmodel': 'http://www.wikidata.org/entity/Q1985727'},
          'type': 'time'},
         'datatype': 'time'}],
       'P854': [{'snaktype': 'value',
         'property': 'P854',
         'datavalue': {'value': 'http://data.bnf.fr/ark:/12148/cb12214138x',
          'type': 'string'},
         'datatype': 'url'}]},
      'snaks-order': ['P248', 'P813', 'P854']}]}],
  'P569': [{'mainsnak': {'snaktype': 'value',
     'property': 'P569',
     'datavalue': {'value': {'time': '+1940-02-26T00:00:00Z',
       'timezone': 0,
       'before': 0,
       'after': 0,
       'precision': 11,
       'calendarmodel': 'http://www.wikidata.org/entity/Q1985727'},
      'type': 'time'},
     'datatype': 'time'},
    'type': 'statement',
    'id': 'Q100328$43E6D789-2987-4F43-BB2B-99F3E864F3CE',
    'rank': 'normal',
    'references': [{'hash': 'd4bd87b862b12d99d26e86472d44f26858dee639',
      'snaks': {'P143': [{'snaktype': 'value',
         'property': 'P143',
         'datavalue': {'value': {'entity-type': 'item',
           'numeric-id': 8447,
           'id': 'Q8447'},
          'type': 'wikibase-entityid'},
         'datatype': 'wikibase-item'}]},
      'snaks-order': ['P143']},
     {'hash': 'f6f7cdf3b7dec9923484fbbd5daee432400b9c0e',
      'snaks': {'P248': [{'snaktype': 'value',
         'property': 'P248',
         'datavalue': {'value': {'entity-type': 'item',
           'numeric-id': 36578,
           'id': 'Q36578'},
          'type': 'wikibase-entityid'},
         'datatype': 'wikibase-item'}],
       'P813': [{'snaktype': 'value',
         'property': 'P813',
         'datavalue': {'value': {'time': '+2014-04-24T00:00:00Z',
           'timezone': 0,
           'before': 0,
           'after': 0,
           'precision': 11,
           'calendarmodel': 'http://www.wikidata.org/entity/Q1985727'},
          'type': 'time'},
         'datatype': 'time'}]},
      'snaks-order': ['P248', 'P813']}]}],
  'P27': [{'mainsnak': {'snaktype': 'value',
     'property': 'P27',
     'datavalue': {'value': {'entity-type': 'item',
       'numeric-id': 183,
       'id': 'Q183'},
      'type': 'wikibase-entityid'},
     'datatype': 'wikibase-item'},
    'type': 'statement',
    'id': 'Q100328$E8190BE3-17B5-4954-8441-321A7F64E5EB',
    'rank': 'normal'}],
  'P106': [{'mainsnak': {'snaktype': 'value',
     'property': 'P106',
     'datavalue': {'value': {'entity-type': 'item',
       'numeric-id': 1792450,
       'id': 'Q1792450'},
      'type': 'wikibase-entityid'},
     'datatype': 'wikibase-item'},
    'type': 'statement',
    'id': 'Q100328$83BB1A9F-3EE8-4F4C-BB0B-DE532EEB9D95',
    'rank': 'normal'},
   {'mainsnak': {'snaktype': 'value',
     'property': 'P106',
     'datavalue': {'value': {'entity-type': 'item',
       'numeric-id': 3621491,
       'id': 'Q3621491'},
      'type': 'wikibase-entityid'},
     'datatype': 'wikibase-item'},
    'type': 'statement',
    'id': 'Q100328$FD93BEAF-3672-461E-9F83-AC77C97A6667',
    'rank': 'normal'},
   {'mainsnak': {'snaktype': 'value',
     'property': 'P106',
     'datavalue': {'value': {'entity-type': 'item',
       'numeric-id': 1622272,
       'id': 'Q1622272'},
      'type': 'wikibase-entityid'},
     'datatype': 'wikibase-item'},
    'type': 'statement',
    'id': 'Q100328$4E9AC407-8177-4FCA-83D9-9FE78B2D63CA',
    'rank': 'normal',
    'references': [{'hash': '9a24f7c0208b05d6be97077d855671d1dfdbc0dd',
      'snaks': {'P143': [{'snaktype': 'value',
         'property': 'P143',
         'datavalue': {'value': {'entity-type': 'item',
           'numeric-id': 48183,
           'id': 'Q48183'},
          'type': 'wikibase-entityid'},
         'datatype': 'wikibase-item'}]},
      'snaks-order': ['P143']}]},
   {'mainsnak': {'snaktype': 'value',
     'property': 'P106',
     'datavalue': {'value': {'entity-type': 'item',
       'numeric-id': 15983985,
       'id': 'Q15983985'},
      'type': 'wikibase-entityid'},
     'datatype': 'wikibase-item'},
    'type': 'statement',
    'id': 'Q100328$009FCA16-109E-4D46-8B95-B331432798A2',
    'rank': 'normal'}],
  'P108': [{'mainsnak': {'snaktype': 'value',
     'property': 'P108',
     'datavalue': {'value': {'entity-type': 'item',
       'numeric-id': 153987,
       'id': 'Q153987'},
      'type': 'wikibase-entityid'},
     'datatype': 'wikibase-item'},
    'type': 'statement',
    'id': 'Q100328$7AE5CF1F-47A8-458E-A0B7-8FE599D504E6',
    'rank': 'normal'}],
  'P735': [{'mainsnak': {'snaktype': 'value',
     'property': 'P735',
     'datavalue': {'value': {'entity-type': 'item',
       'numeric-id': 1576766,
       'id': 'Q1576766'},
      'type': 'wikibase-entityid'},
     'datatype': 'wikibase-item'},
    'type': 'statement',
    'id': 'Q100328$1EEA8C4F-6A44-44A6-9C72-2BBBBECC69C2',
    'rank': 'normal'}],
  'P463': [{'mainsnak': {'snaktype': 'value',
     'property': 'P463',
     'datavalue': {'value': {'entity-type': 'item',
       'numeric-id': 695302,
       'id': 'Q695302'},
      'type': 'wikibase-entityid'},
     'datatype': 'wikibase-item'},
    'type': 'statement',
    'id': 'Q100328$31F07053-52A0-46A6-9FF6-63299E4AE78E',
    'rank': 'normal'},
   {'mainsnak': {'snaktype': 'value',
     'property': 'P463',
     'datavalue': {'value': {'entity-type': 'item',
       'numeric-id': 1583587,
       'id': 'Q1583587'},
      'type': 'wikibase-entityid'},
     'datatype': 'wikibase-item'},
    'type': 'statement',
    'id': 'Q100328$a0a71ad5-42b4-00d9-7d86-3af1de6ed9e2',
    'rank': 'normal'},
   {'mainsnak': {'snaktype': 'value',
     'property': 'P463',
     'datavalue': {'value': {'entity-type': 'item',
       'numeric-id': 306557,
       'id': 'Q306557'},
      'type': 'wikibase-entityid'},
     'datatype': 'wikibase-item'},
    'type': 'statement',
    'id': 'Q100328$9d3d0ffd-4d42-827b-6a00-5bb3f3821c2c',
    'rank': 'normal'}],
  'P1006': [{'mainsnak': {'snaktype': 'value',
     'property': 'P1006',
     'datavalue': {'value': '069408491', 'type': 'string'},
     'datatype': 'external-id'},
    'type': 'statement',
    'id': 'Q100328$ED338083-5B71-4ED7-B84B-30B43E1B0DFA',
    'rank': 'normal',
    'references': [{'hash': 'b423add1a9a9f836c31948a6d6eea2de41f7ca9d',
      'snaks': {'P248': [{'snaktype': 'value',
         'property': 'P248',
         'datavalue': {'value': {'entity-type': 'item',
           'numeric-id': 54919,
           'id': 'Q54919'},
          'type': 'wikibase-entityid'},
         'datatype': 'wikibase-item'}],
       'P813': [{'snaktype': 'value',
         'property': 'P813',
         'datavalue': {'value': {'time': '+2014-12-16T00:00:00Z',
           'timezone': 0,
           'before': 0,
           'after': 0,
           'precision': 11,
           'calendarmodel': 'http://www.wikidata.org/entity/Q1985727'},
          'type': 'time'},
         'datatype': 'time'}],
       'P854': [{'snaktype': 'value',
         'property': 'P854',
         'datavalue': {'value': 'http://viaf.org/viaf/17272533',
          'type': 'string'},
         'datatype': 'url'}]},
      'snaks-order': ['P248', 'P813', 'P854']}]}],
  'P2732': [{'mainsnak': {'snaktype': 'value',
     'property': 'P2732',
     'datavalue': {'value': '212553', 'type': 'string'},
     'datatype': 'external-id'},
    'type': 'statement',
    'id': 'Q100328$149342E1-2B4A-44C8-9981-56B16B1B08A4',
    'rank': 'normal'}],
  'P937': [{'mainsnak': {'snaktype': 'value',
     'property': 'P937',
     'datavalue': {'value': {'entity-type': 'item',
       'numeric-id': 2833,
       'id': 'Q2833'},
      'type': 'wikibase-entityid'},
     'datatype': 'wikibase-item'},
    'type': 'statement',
    'id': 'Q100328$135EC339-319C-4A75-9DB9-22EBC1D066E0',
    'rank': 'normal',
    'references': [{'hash': '9a24f7c0208b05d6be97077d855671d1dfdbc0dd',
      'snaks': {'P143': [{'snaktype': 'value',
         'property': 'P143',
         'datavalue': {'value': {'entity-type': 'item',
           'numeric-id': 48183,
           'id': 'Q48183'},
          'type': 'wikibase-entityid'},
         'datatype': 'wikibase-item'}]},
      'snaks-order': ['P143']}]}],
  'P5508': [{'mainsnak': {'snaktype': 'value',
     'property': 'P5508',
     'datavalue': {'value': '103630', 'type': 'string'},
     'datatype': 'external-id'},
    'type': 'statement',
    'id': 'Q100328$FD1E3221-7991-45A3-A6E1-206B674C70D1',
    'rank': 'normal',
    'references': [{'hash': '4eddccd7c0b739150d07157598921f2afa4b1bdd',
      'snaks': {'P854': [{'snaktype': 'value',
         'property': 'P854',
         'datavalue': {'value': 'https://www.archinform.net/service/wd_aiarch.php',
          'type': 'string'},
         'datatype': 'url'}],
       'P813': [{'snaktype': 'value',
         'property': 'P813',
         'datavalue': {'value': {'time': '+2018-07-25T00:00:00Z',
           'timezone': 0,
           'before': 0,
           'after': 0,
           'precision': 11,
           'calendarmodel': 'http://www.wikidata.org/entity/Q1985727'},
          'type': 'time'},
         'datatype': 'time'}]},
      'snaks-order': ['P854', 'P813']}]}],
  'P268': [{'mainsnak': {'snaktype': 'value',
     'property': 'P268',
     'datavalue': {'value': '12214138x', 'type': 'string'},
     'datatype': 'external-id'},
    'type': 'statement',
    'id': 'Q100328$FF51A5DA-6711-40FF-B117-289AEAA7CE5F',
    'rank': 'normal',
    'references': [{'hash': 'e159b8548fdca420eb9aef93f7251d2eebfb0abe',
      'snaks': {'P248': [{'snaktype': 'value',
         'property': 'P248',
         'datavalue': {'value': {'entity-type': 'item',
           'numeric-id': 19938912,
           'id': 'Q19938912'},
          'type': 'wikibase-entityid'},
         'datatype': 'wikibase-item'}],
       'P813': [{'snaktype': 'value',
         'property': 'P813',
         'datavalue': {'value': {'time': '+2015-07-13T00:00:00Z',
           'timezone': 0,
           'before': 0,
           'after': 0,
           'precision': 11,
           'calendarmodel': 'http://www.wikidata.org/entity/Q1985727'},
          'type': 'time'},
         'datatype': 'time'}]},
      'snaks-order': ['P248', 'P813']}]}],
  'P3987': [{'mainsnak': {'snaktype': 'value',
     'property': 'P3987',
     'datavalue': {'value': '213233', 'type': 'string'},
     'datatype': 'external-id'},
    'type': 'statement',
    'id': 'Q100328$B0A022F5-4738-4298-876C-25F21FA8B7BB',
    'rank': 'normal'}],
  'P1412': [{'mainsnak': {'snaktype': 'value',
     'property': 'P1412',
     'datavalue': {'value': {'entity-type': 'item',
       'numeric-id': 188,
       'id': 'Q188'},
      'type': 'wikibase-entityid'},
     'datatype': 'wikibase-item'},
    'type': 'statement',
    'id': 'Q100328$70A8C8C9-DC3B-4428-9274-9B23AF24DDED',
    'rank': 'normal',
    'references': [{'hash': '640e838dd6c5039d30f01e78f3ca6953a39d5d25',
      'snaks': {'P248': [{'snaktype': 'value',
         'property': 'P248',
         'datavalue': {'value': {'entity-type': 'item',
           'numeric-id': 19938912,
           'id': 'Q19938912'},
          'type': 'wikibase-entityid'},
         'datatype': 'wikibase-item'}],
       'P268': [{'snaktype': 'value',
         'property': 'P268',
         'datavalue': {'value': '12214138x', 'type': 'string'},
         'datatype': 'external-id'}],
       'P854': [{'snaktype': 'value',
         'property': 'P854',
         'datavalue': {'value': 'http://data.bnf.fr/ark:/12148/cb12214138x',
          'type': 'string'},
         'datatype': 'url'}],
       'P813': [{'snaktype': 'value',
         'property': 'P813',
         'datavalue': {'value': {'time': '+2015-10-10T00:00:00Z',
           'timezone': 0,
           'before': 0,
           'after': 0,
           'precision': 11,
           'calendarmodel': 'http://www.wikidata.org/entity/Q1985727'},
          'type': 'time'},
         'datatype': 'time'}]},
      'snaks-order': ['P248', 'P268', 'P854', 'P813']}]}],
  'P269': [{'mainsnak': {'snaktype': 'value',
     'property': 'P269',
     'datavalue': {'value': '030798930', 'type': 'string'},
     'datatype': 'external-id'},
    'type': 'statement',
    'id': 'Q100328$3C425E74-ACA1-469F-A384-5E9455150C39',
    'rank': 'normal',
    'references': [{'hash': '89b590c7399e1df8a771cddd2643db161ca324f4',
      'snaks': {'P248': [{'snaktype': 'value',
         'property': 'P248',
         'datavalue': {'value': {'entity-type': 'item',
           'numeric-id': 54919,
           'id': 'Q54919'},
          'type': 'wikibase-entityid'},
         'datatype': 'wikibase-item'}],
       'P214': [{'snaktype': 'value',
         'property': 'P214',
         'datavalue': {'value': '17272533', 'type': 'string'},
         'datatype': 'external-id'}],
       'P813': [{'snaktype': 'value',
         'property': 'P813',
         'datavalue': {'value': {'time': '+2018-10-07T00:00:00Z',
           'timezone': 0,
           'before': 0,
           'after': 0,
           'precision': 11,
           'calendarmodel': 'http://www.wikidata.org/entity/Q1985727'},
          'type': 'time'},
         'datatype': 'time'}]},
      'snaks-order': ['P248', 'P214', 'P813']}]}],
  'P691': [{'mainsnak': {'snaktype': 'value',
     'property': 'P691',
     'datavalue': {'value': 'mub2014845038', 'type': 'string'},
     'datatype': 'external-id'},
    'type': 'statement',
    'id': 'Q100328$C46E46F8-1C70-4325-BED2-BF1F61CCC245',
    'rank': 'normal',
    'references': [{'hash': 'acfa20c9c12d9783f28c3a8f9d09b1bf1048c0ba',
      'snaks': {'P214': [{'snaktype': 'value',
         'property': 'P214',
         'datavalue': {'value': '17272533', 'type': 'string'},
         'datatype': 'external-id'}],
       'P248': [{'snaktype': 'value',
         'property': 'P248',
         'datavalue': {'value': {'entity-type': 'item',
           'numeric-id': 54919,
           'id': 'Q54919'},
          'type': 'wikibase-entityid'},
         'datatype': 'wikibase-item'}],
       'P813': [{'snaktype': 'value',
         'property': 'P813',
         'datavalue': {'value': {'time': '+2018-12-13T00:00:00Z',
           'timezone': 0,
           'before': 0,
           'after': 0,
           'precision': 11,
           'calendarmodel': 'http://www.wikidata.org/entity/Q1985727'},
          'type': 'time'},
         'datatype': 'time'}]},
      'snaks-order': ['P214', 'P248', 'P813']}]}],
  'P1559': [{'mainsnak': {'snaktype': 'value',
     'property': 'P1559',
     'datavalue': {'value': {'text': 'Volker Michael Strocka',
       'language': 'de'},
      'type': 'monolingualtext'},
     'datatype': 'monolingualtext'},
    'type': 'statement',
    'id': 'Q100328$6E841D44-D4C1-4B93-876E-F1390AD8F40D',
    'rank': 'normal'}],
  'P5739': [{'mainsnak': {'snaktype': 'value',
     'property': 'P5739',
     'datavalue': {'value': '109965', 'type': 'string'},
     'datatype': 'external-id'},
    'type': 'statement',
    'id': 'Q100328$9E466F35-AC12-4188-9427-FE6EAE25A810',
    'rank': 'normal'}],
  'P1207': [{'mainsnak': {'snaktype': 'value',
     'property': 'P1207',
     'datavalue': {'value': 'n96029320', 'type': 'string'},
     'datatype': 'external-id'},
    'type': 'statement',
    'id': 'Q100328$787F510E-BD95-4D07-A3A0-87FA33F57157',
    'rank': 'normal',
    'references': [{'hash': '574013294271108ba679b6721cc79ac047c37d48',
      'snaks': {'P854': [{'snaktype': 'value',
         'property': 'P854',
         'datavalue': {'value': 'http://catalogo.pusc.it/cgi-bin/koha/opac-authoritiesdetail.pl?authid=109965',
          'type': 'string'},
         'datatype': 'url'}],
       'P813': [{'snaktype': 'value',
         'property': 'P813',
         'datavalue': {'value': {'time': '+2019-06-09T00:00:00Z',
           'timezone': 0,
           'before': 0,
           'after': 0,
           'precision': 11,
           'calendarmodel': 'http://www.wikidata.org/entity/Q1985727'},
          'type': 'time'},
         'datatype': 'time'}]},
      'snaks-order': ['P854', 'P813']}]}],
  'P7859': [{'mainsnak': {'snaktype': 'value',
     'property': 'P7859',
     'datavalue': {'value': 'lccn-n82018223', 'type': 'string'},
     'datatype': 'external-id'},
    'type': 'statement',
    'id': 'Q100328$EC365ECB-1C3D-4A3B-9052-9C9CECED0F33',
    'rank': 'normal',
    'references': [{'hash': '90802ba358ddbe9ba642e1825b2621cdba2663ed',
      'snaks': {'P214': [{'snaktype': 'value',
         'property': 'P214',
         'datavalue': {'value': '17272533', 'type': 'string'},
         'datatype': 'external-id'}]},
      'snaks-order': ['P214']}]}],
  'P7902': [{'mainsnak': {'snaktype': 'value',
     'property': 'P7902',
     'datavalue': {'value': '121272141', 'type': 'string'},
     'datatype': 'external-id'},
    'type': 'statement',
    'id': 'Q100328$D81A6548-60EF-4A03-9622-FD2FB51DEE6E',
    'rank': 'normal'}],
  'P5731': [{'mainsnak': {'snaktype': 'value',
     'property': 'P5731',
     'datavalue': {'value': '22596', 'type': 'string'},
     'datatype': 'external-id'},
    'type': 'statement',
    'id': 'Q100328$327F6C9B-4DC5-4F05-A853-8BC7D96813B1',
    'rank': 'normal'}],
  'P8034': [{'mainsnak': {'snaktype': 'value',
     'property': 'P8034',
     'datavalue': {'value': '495/8387', 'type': 'string'},
     'datatype': 'external-id'},
    'type': 'statement',
    'id': 'Q100328$BDDC75AD-476C-4F28-B94A-8A7794C8ADE1',
    'rank': 'normal',
    'references': [{'hash': '787115ba755a76bbafae79e5c0fd4a18c8356887',
      'snaks': {'P214': [{'snaktype': 'value',
         'property': 'P214',
         'datavalue': {'value': '17272533', 'type': 'string'},
         'datatype': 'external-id'}],
       'P248': [{'snaktype': 'value',
         'property': 'P248',
         'datavalue': {'value': {'entity-type': 'item',
           'numeric-id': 54919,
           'id': 'Q54919'},
          'type': 'wikibase-entityid'},
         'datatype': 'wikibase-item'}],
       'P813': [{'snaktype': 'value',
         'property': 'P813',
         'datavalue': {'value': {'time': '+2020-07-29T00:00:00Z',
           'timezone': 0,
           'before': 0,
           'after': 0,
           'precision': 11,
           'calendarmodel': 'http://www.wikidata.org/entity/Q1985727'},
          'type': 'time'},
         'datatype': 'time'}]},
      'snaks-order': ['P214', 'P248', 'P813']}]}],
  'P7699': [{'mainsnak': {'snaktype': 'value',
     'property': 'P7699',
     'datavalue': {'value': 'LNB:BRfw;=CB', 'type': 'string'},
     'datatype': 'external-id'},
    'type': 'statement',
    'id': 'q100328$d457cdf8-4d71-32d4-fb25-b60e1d52cf22',
    'rank': 'normal',
    'references': [{'hash': 'c94dead72626d2378c8b679275cfc1c3375c175c',
      'snaks': {'P248': [{'snaktype': 'value',
         'property': 'P248',
         'datavalue': {'value': {'entity-type': 'item',
           'numeric-id': 54919,
           'id': 'Q54919'},
          'type': 'wikibase-entityid'},
         'datatype': 'wikibase-item'}],
       'P214': [{'snaktype': 'value',
         'property': 'P214',
         'datavalue': {'value': '17272533', 'type': 'string'},
         'datatype': 'external-id'}],
       'P813': [{'snaktype': 'value',
         'property': 'P813',
         'datavalue': {'value': {'time': '+2020-09-01T00:00:00Z',
           'timezone': 0,
           'before': 0,
           'after': 0,
           'precision': 11,
           'calendarmodel': 'http://www.wikidata.org/entity/Q1985727'},
          'type': 'time'},
         'datatype': 'time'}]},
      'snaks-order': ['P248', 'P214', 'P813']}]}],
  'P3065': [{'mainsnak': {'snaktype': 'value',
     'property': 'P3065',
     'datavalue': {'value': '02-A003870668', 'type': 'string'},
     'datatype': 'external-id'},
    'type': 'statement',
    'id': 'q100328$15cd1afc-4872-c5d1-9917-7e29e21e0a7e',
    'rank': 'normal',
    'references': [{'hash': 'c94dead72626d2378c8b679275cfc1c3375c175c',
      'snaks': {'P248': [{'snaktype': 'value',
         'property': 'P248',
         'datavalue': {'value': {'entity-type': 'item',
           'numeric-id': 54919,
           'id': 'Q54919'},
          'type': 'wikibase-entityid'},
         'datatype': 'wikibase-item'}],
       'P214': [{'snaktype': 'value',
         'property': 'P214',
         'datavalue': {'value': '17272533', 'type': 'string'},
         'datatype': 'external-id'}],
       'P813': [{'snaktype': 'value',
         'property': 'P813',
         'datavalue': {'value': {'time': '+2020-09-01T00:00:00Z',
           'timezone': 0,
           'before': 0,
           'after': 0,
           'precision': 11,
           'calendarmodel': 'http://www.wikidata.org/entity/Q1985727'},
          'type': 'time'},
         'datatype': 'time'}]},
      'snaks-order': ['P248', 'P214', 'P813']}]}]},
 'sitelinks': {'dewiki': {'site': 'dewiki',
   'title': 'Volker Michael Strocka',
   'badges': []},
  'frwiki': {'site': 'frwiki',
   'title': 'Volker Michael Strocka',
   'badges': []}},
 'lastrevid': 1269225623}</pre>
</div>

</div>

</div>

</div>

</div><div class="jp-Cell jp-CodeCell jp-Notebook-cell   ">
<div class="jp-Cell-inputWrapper">
<div class="jp-Collapser jp-InputCollapser jp-Cell-inputCollapser">
</div>
<div class="jp-InputArea jp-Cell-inputArea">
<div class="jp-InputPrompt jp-InputArea-prompt">In&nbsp;[7]:</div>
<div class="jp-CodeMirrorEditor jp-Editor jp-InputArea-editor" data-type="inline">
     <div class="CodeMirror cm-s-jupyter">
<div class=" highlight hl-ipython3"><pre><span></span><span class="c1"># Just the data that we're interested in:</span>
<span class="n">condensed_item_json</span> <span class="o">=</span> <span class="n">deepcopy</span><span class="p">(</span><span class="n">item_json</span><span class="p">)</span>
<span class="c1"># remove unnecessary data</span>
<span class="n">parts_to_remove</span> <span class="o">=</span> <span class="p">[</span><span class="s1">'type'</span><span class="p">,</span> <span class="s1">'labels'</span><span class="p">,</span> <span class="s1">'descriptions'</span><span class="p">,</span> <span class="s1">'aliases'</span><span class="p">,</span> <span class="s1">'lastrevid'</span><span class="p">]</span>
<span class="k">for</span> <span class="n">k</span> <span class="ow">in</span> <span class="n">parts_to_remove</span><span class="p">:</span>
    <span class="n">condensed_item_json</span><span class="o">.</span><span class="n">pop</span><span class="p">(</span><span class="n">k</span><span class="p">)</span>
<span class="c1"># simplify sitelinks</span>
<span class="n">sitelinks</span> <span class="o">=</span> <span class="p">[</span><span class="n">s</span> <span class="k">for</span> <span class="n">s</span> <span class="ow">in</span> <span class="n">condensed_item_json</span><span class="p">[</span><span class="s1">'sitelinks'</span><span class="p">]]</span>
<span class="k">for</span> <span class="n">wiki</span> <span class="ow">in</span> <span class="n">sitelinks</span><span class="p">:</span>
    <span class="n">condensed_item_json</span><span class="p">[</span><span class="s1">'sitelinks'</span><span class="p">][</span><span class="n">wiki</span><span class="p">]</span> <span class="o">=</span> <span class="n">condensed_item_json</span><span class="p">[</span><span class="s1">'sitelinks'</span><span class="p">][</span><span class="n">wiki</span><span class="p">][</span><span class="s1">'title'</span><span class="p">]</span>
<span class="n">condensed_item_json</span>
<span class="c1"># simplify claims</span>
<span class="n">properties</span> <span class="o">=</span> <span class="p">[</span><span class="n">p</span> <span class="k">for</span> <span class="n">p</span> <span class="ow">in</span> <span class="n">condensed_item_json</span><span class="p">[</span><span class="s1">'claims'</span><span class="p">]]</span>
<span class="k">for</span> <span class="n">p</span> <span class="ow">in</span> <span class="n">properties</span><span class="p">:</span>
    <span class="k">for</span> <span class="n">statement_idx</span> <span class="ow">in</span> <span class="nb">range</span><span class="p">(</span><span class="mi">0</span><span class="p">,</span> <span class="nb">len</span><span class="p">(</span><span class="n">condensed_item_json</span><span class="p">[</span><span class="s1">'claims'</span><span class="p">][</span><span class="n">p</span><span class="p">])):</span>
        <span class="n">value</span> <span class="o">=</span> <span class="n">condensed_item_json</span><span class="p">[</span><span class="s1">'claims'</span><span class="p">][</span><span class="n">p</span><span class="p">][</span><span class="n">statement_idx</span><span class="p">][</span><span class="s1">'mainsnak'</span><span class="p">][</span><span class="s1">'datavalue'</span><span class="p">]</span>
        <span class="k">if</span> <span class="s1">'id'</span> <span class="ow">in</span> <span class="n">value</span><span class="p">:</span>
            <span class="n">condensed_item_json</span><span class="p">[</span><span class="s1">'claims'</span><span class="p">][</span><span class="n">p</span><span class="p">][</span><span class="n">statement_idx</span><span class="p">]</span> <span class="o">=</span> <span class="n">value</span><span class="p">[</span><span class="s1">'id'</span><span class="p">]</span>
        <span class="k">else</span><span class="p">:</span>
            <span class="n">condensed_item_json</span><span class="p">[</span><span class="s1">'claims'</span><span class="p">][</span><span class="n">p</span><span class="p">][</span><span class="n">statement_idx</span><span class="p">]</span> <span class="o">=</span> <span class="n">value</span>
<span class="n">condensed_item_json</span>
</pre></div>

     </div>
</div>
</div>
</div>

<div class="jp-Cell-outputWrapper">
<div class="jp-Collapser jp-OutputCollapser jp-Cell-outputCollapser">
</div>


<div class="jp-OutputArea jp-Cell-outputArea">

<div class="jp-OutputArea-child">

    
    <div class="jp-OutputPrompt jp-OutputArea-prompt">Out[7]:</div>




<div class="jp-RenderedText jp-OutputArea-output jp-OutputArea-executeResult" data-mime-type="text/plain">
<pre>{'id': 'Q100328',
 'claims': {'P21': [{'value': {'entity-type': 'item',
     'numeric-id': 6581097,
     'id': 'Q6581097'},
    'type': 'wikibase-entityid'}],
  'P244': [{'value': 'n82018223', 'type': 'string'}],
  'P214': [{'value': '17272533', 'type': 'string'}],
  'P227': [{'value': '121272141', 'type': 'string'}],
  'P213': [{'value': '0000 0001 2099 3773', 'type': 'string'}],
  'P69': [{'value': {'entity-type': 'item',
     'numeric-id': 153987,
     'id': 'Q153987'},
    'type': 'wikibase-entityid'}],
  'P19': [{'value': {'entity-type': 'item', 'numeric-id': 1794, 'id': 'Q1794'},
    'type': 'wikibase-entityid'}],
  'P31': [{'value': {'entity-type': 'item', 'numeric-id': 5, 'id': 'Q5'},
    'type': 'wikibase-entityid'}],
  'P569': [{'value': {'time': '+1940-02-26T00:00:00Z',
     'timezone': 0,
     'before': 0,
     'after': 0,
     'precision': 11,
     'calendarmodel': 'http://www.wikidata.org/entity/Q1985727'},
    'type': 'time'}],
  'P27': [{'value': {'entity-type': 'item', 'numeric-id': 183, 'id': 'Q183'},
    'type': 'wikibase-entityid'}],
  'P106': [{'value': {'entity-type': 'item',
     'numeric-id': 1792450,
     'id': 'Q1792450'},
    'type': 'wikibase-entityid'},
   {'value': {'entity-type': 'item', 'numeric-id': 3621491, 'id': 'Q3621491'},
    'type': 'wikibase-entityid'},
   {'value': {'entity-type': 'item', 'numeric-id': 1622272, 'id': 'Q1622272'},
    'type': 'wikibase-entityid'},
   {'value': {'entity-type': 'item',
     'numeric-id': 15983985,
     'id': 'Q15983985'},
    'type': 'wikibase-entityid'}],
  'P108': [{'value': {'entity-type': 'item',
     'numeric-id': 153987,
     'id': 'Q153987'},
    'type': 'wikibase-entityid'}],
  'P735': [{'value': {'entity-type': 'item',
     'numeric-id': 1576766,
     'id': 'Q1576766'},
    'type': 'wikibase-entityid'}],
  'P463': [{'value': {'entity-type': 'item',
     'numeric-id': 695302,
     'id': 'Q695302'},
    'type': 'wikibase-entityid'},
   {'value': {'entity-type': 'item', 'numeric-id': 1583587, 'id': 'Q1583587'},
    'type': 'wikibase-entityid'},
   {'value': {'entity-type': 'item', 'numeric-id': 306557, 'id': 'Q306557'},
    'type': 'wikibase-entityid'}],
  'P1006': [{'value': '069408491', 'type': 'string'}],
  'P2732': [{'value': '212553', 'type': 'string'}],
  'P937': [{'value': {'entity-type': 'item',
     'numeric-id': 2833,
     'id': 'Q2833'},
    'type': 'wikibase-entityid'}],
  'P5508': [{'value': '103630', 'type': 'string'}],
  'P268': [{'value': '12214138x', 'type': 'string'}],
  'P3987': [{'value': '213233', 'type': 'string'}],
  'P1412': [{'value': {'entity-type': 'item', 'numeric-id': 188, 'id': 'Q188'},
    'type': 'wikibase-entityid'}],
  'P269': [{'value': '030798930', 'type': 'string'}],
  'P691': [{'value': 'mub2014845038', 'type': 'string'}],
  'P1559': [{'value': {'text': 'Volker Michael Strocka', 'language': 'de'},
    'type': 'monolingualtext'}],
  'P5739': [{'value': '109965', 'type': 'string'}],
  'P1207': [{'value': 'n96029320', 'type': 'string'}],
  'P7859': [{'value': 'lccn-n82018223', 'type': 'string'}],
  'P7902': [{'value': '121272141', 'type': 'string'}],
  'P5731': [{'value': '22596', 'type': 'string'}],
  'P8034': [{'value': '495/8387', 'type': 'string'}],
  'P7699': [{'value': 'LNB:BRfw;=CB', 'type': 'string'}],
  'P3065': [{'value': '02-A003870668', 'type': 'string'}]},
 'sitelinks': {'dewiki': 'Volker Michael Strocka',
  'frwiki': 'Volker Michael Strocka'}}</pre>
</div>

</div>

</div>

</div>

</div>
<div class="jp-Cell jp-MarkdownCell jp-Notebook-cell">
<div class="jp-Cell-inputWrapper">
<div class="jp-Collapser jp-InputCollapser jp-Cell-inputCollapser">
</div>
<div class="jp-InputArea jp-Cell-inputArea"><div class="jp-InputPrompt jp-InputArea-prompt">
</div><div class="jp-RenderedHTMLCommon jp-RenderedMarkdown jp-MarkdownOutput " data-mime-type="text/markdown">
<h2 id="Accessing-the-Wikidata-APIs">Accessing the Wikidata APIs<a class="anchor-link" href="https://public-paws.wmcloud.org/User:Isaac_(WMF)/Outreachy%20Dec%202020/Wikidata_Data_Example.ipynb#Accessing-the-Wikidata-APIs">¶</a></h2><p>The <a href="https://www.mediawiki.org/wiki/Wikibase/API">Wikidata APIs</a> can be much faster for accessing data about Wikidata items if you know what items you are interested in and are interested in relatively few items (e.g., hundreds or low thousands). To demonstrate, we'll show how to use the <a href="https://www.wikidata.org/w/api.php?action=help&amp;modules=wbgetentities">wbgetentities endpoint</a>, which allows you to get all the statements and sitelinks associated with a Wikidata item. We choose a random sample of 10 items from the JSON dump to compare.</p>
<p>NOTE: the APIs are up-to-date while the JSON dumps are always at least several days behind -- i.e. for specific snapshots in time -- so the data you get from the JSON dumps might be different from the APIs if users have made edits to the Wikidata items in the intervening days.</p>

</div>
</div>
</div>
</div><div class="jp-Cell jp-CodeCell jp-Notebook-cell jp-mod-noOutputs  ">
<div class="jp-Cell-inputWrapper">
<div class="jp-Collapser jp-InputCollapser jp-Cell-inputCollapser">
</div>
<div class="jp-InputArea jp-Cell-inputArea">
<div class="jp-InputPrompt jp-InputArea-prompt">In&nbsp;[8]:</div>
<div class="jp-CodeMirrorEditor jp-Editor jp-InputArea-editor" data-type="inline">
     <div class="CodeMirror cm-s-jupyter">
<div class=" highlight hl-ipython3"><pre><span></span><span class="kn">import</span> <span class="nn">random</span>

<span class="kn">import</span> <span class="nn">mwapi</span>
</pre></div>

     </div>
</div>
</div>
</div>

</div><div class="jp-Cell jp-CodeCell jp-Notebook-cell   ">
<div class="jp-Cell-inputWrapper">
<div class="jp-Collapser jp-InputCollapser jp-Cell-inputCollapser">
</div>
<div class="jp-InputArea jp-Cell-inputArea">
<div class="jp-InputPrompt jp-InputArea-prompt">In&nbsp;[9]:</div>
<div class="jp-CodeMirrorEditor jp-Editor jp-InputArea-editor" data-type="inline">
     <div class="CodeMirror cm-s-jupyter">
<div class=" highlight hl-ipython3"><pre><span></span><span class="c1"># Gather ten random Wikidata IDs from the data gathered from the JSON dump to get data for from the API</span>
<span class="n">ten_random_items</span> <span class="o">=</span> <span class="n">random</span><span class="o">.</span><span class="n">sample</span><span class="p">(</span><span class="n">data</span><span class="p">,</span> <span class="mi">10</span><span class="p">)</span>
<span class="n">ten_random_items</span>
</pre></div>

     </div>
</div>
</div>
</div>

<div class="jp-Cell-outputWrapper">
<div class="jp-Collapser jp-OutputCollapser jp-Cell-outputCollapser">
</div>


<div class="jp-OutputArea jp-Cell-outputArea">

<div class="jp-OutputArea-child">

    
    <div class="jp-OutputPrompt jp-OutputArea-prompt">Out[9]:</div>




<div class="jp-RenderedText jp-OutputArea-output jp-OutputArea-executeResult" data-mime-type="text/plain">
<pre>[('Q64885', 'Melkite Greek Catholic Church', 18, 31, False),
 ('Q73308', 'Christian Louis, Count of Waldeck', 23, 8, True),
 ('Q16360', 'Aeronomy', 13, 30, False),
 ('Q91560', None, 41, 4, True),
 ('Q95986', 'Carl Hintze', 23, 5, True),
 ('Q37840', 'Finnish Hound', 12, 17, False),
 ('Q659', 'North', 23, 147, False),
 ('Q24319', 'SX Phoenicis variable', 7, 12, False),
 ('Q42379', 'Crespiatica', 36, 41, False),
 ('Q79577', 'Scottsboro, Alabama', 34, 35, False)]</pre>
</div>

</div>

</div>

</div>

</div><div class="jp-Cell jp-CodeCell jp-Notebook-cell jp-mod-noOutputs  ">
<div class="jp-Cell-inputWrapper">
<div class="jp-Collapser jp-InputCollapser jp-Cell-inputCollapser">
</div>
<div class="jp-InputArea jp-Cell-inputArea">
<div class="jp-InputPrompt jp-InputArea-prompt">In&nbsp;[10]:</div>
<div class="jp-CodeMirrorEditor jp-Editor jp-InputArea-editor" data-type="inline">
     <div class="CodeMirror cm-s-jupyter">
<div class=" highlight hl-ipython3"><pre><span></span><span class="c1"># mwapi documentation: https://pypi.org/project/mwapi/</span>
<span class="c1"># user_agent helps identify the request if there's an issue and is best practice</span>
<span class="n">tutorial_label</span> <span class="o">=</span> <span class="s1">'Wikidata API tutorial (mwapi)'</span>
<span class="c1"># NOTE: it is best practice to include a contact email in user agents</span>
<span class="c1"># generally this is private information though so do not change it to yours</span>
<span class="c1"># if you are working in the PAWS environment or adding to a Github repo</span>
<span class="c1"># for Outreachy, you can leave this as my (isaac's) email or switch it to your Mediawiki username</span>
<span class="c1"># e.g., Isaac (WMF) for https://www.mediawiki.org/wiki/User:Isaac_(WMF)</span>
<span class="n">contact_email</span> <span class="o">=</span> <span class="s1">'isaac@wikimedia.org'</span>
<span class="n">session</span> <span class="o">=</span> <span class="n">mwapi</span><span class="o">.</span><span class="n">Session</span><span class="p">(</span><span class="s1">'https://wikidata.org'</span><span class="p">,</span> <span class="n">user_agent</span><span class="o">=</span><span class="s1">'</span><span class="si">{0}</span><span class="s1"> -- </span><span class="si">{1}</span><span class="s1">'</span><span class="o">.</span><span class="n">format</span><span class="p">(</span><span class="n">tutorial_label</span><span class="p">,</span> <span class="n">contact_email</span><span class="p">))</span>

<span class="c1"># API endpoint: https://www.wikidata.org/w/api.php?action=help&amp;modules=wbgetentities</span>
<span class="n">params</span> <span class="o">=</span> <span class="p">{</span><span class="s1">'action'</span><span class="p">:</span><span class="s1">'wbgetentities'</span><span class="p">,</span>
         <span class="s1">'ids'</span><span class="p">:</span><span class="s1">'|'</span><span class="o">.</span><span class="n">join</span><span class="p">([</span><span class="n">d</span><span class="p">[</span><span class="mi">0</span><span class="p">]</span> <span class="k">for</span> <span class="n">d</span> <span class="ow">in</span> <span class="n">ten_random_items</span><span class="p">]),</span>
         <span class="s1">'props'</span><span class="p">:</span><span class="s1">'sitelinks|claims'</span><span class="p">}</span>
</pre></div>

     </div>
</div>
</div>
</div>

</div><div class="jp-Cell jp-CodeCell jp-Notebook-cell   ">
<div class="jp-Cell-inputWrapper">
<div class="jp-Collapser jp-InputCollapser jp-Cell-inputCollapser">
</div>
<div class="jp-InputArea jp-Cell-inputArea">
<div class="jp-InputPrompt jp-InputArea-prompt">In&nbsp;[11]:</div>
<div class="jp-CodeMirrorEditor jp-Editor jp-InputArea-editor" data-type="inline">
     <div class="CodeMirror cm-s-jupyter">
<div class=" highlight hl-ipython3"><pre><span></span><span class="n">result</span> <span class="o">=</span> <span class="n">session</span><span class="o">.</span><span class="n">get</span><span class="p">(</span><span class="n">params</span><span class="p">)</span>
<span class="k">if</span> <span class="n">result</span><span class="o">.</span><span class="n">get</span><span class="p">(</span><span class="s1">'success'</span><span class="p">):</span>
    <span class="nb">print</span><span class="p">(</span><span class="s2">"Results for:"</span><span class="p">,</span> <span class="nb">list</span><span class="p">(</span><span class="n">result</span><span class="o">.</span><span class="n">get</span><span class="p">(</span><span class="s1">'entities'</span><span class="p">,</span> <span class="p">{})</span><span class="o">.</span><span class="n">keys</span><span class="p">()))</span>
<span class="k">else</span><span class="p">:</span>
    <span class="nb">print</span><span class="p">(</span><span class="n">result</span><span class="p">)</span>
</pre></div>

     </div>
</div>
</div>
</div>

<div class="jp-Cell-outputWrapper">
<div class="jp-Collapser jp-OutputCollapser jp-Cell-outputCollapser">
</div>


<div class="jp-OutputArea jp-Cell-outputArea">

<div class="jp-OutputArea-child">

    
    <div class="jp-OutputPrompt jp-OutputArea-prompt"></div>


<div class="jp-RenderedText jp-OutputArea-output" data-mime-type="text/plain">
<pre>Results for: ['Q64885', 'Q73308', 'Q16360', 'Q91560', 'Q95986', 'Q37840', 'Q659', 'Q24319', 'Q42379', 'Q79577']
</pre>
</div>
</div>

</div>

</div>

</div><div class="jp-Cell jp-CodeCell jp-Notebook-cell   ">
<div class="jp-Cell-inputWrapper">
<div class="jp-Collapser jp-InputCollapser jp-Cell-inputCollapser">
</div>
<div class="jp-InputArea jp-Cell-inputArea">
<div class="jp-InputPrompt jp-InputArea-prompt">In&nbsp;[12]:</div>
<div class="jp-CodeMirrorEditor jp-Editor jp-InputArea-editor" data-type="inline">
     <div class="CodeMirror cm-s-jupyter">
<div class=" highlight hl-ipython3"><pre><span></span><span class="c1"># While we expect most of the data to align, it's not unexpected if a few do not</span>
<span class="c1"># because the dumps are at least several days out of date and the API is current</span>
<span class="c1"># so any edits in the past few days could lead to data mismatches</span>

<span class="c1"># for Q659, added kabwiki article: https://www.wikidata.org/w/index.php?title=Q659&amp;diff=1281373660&amp;oldid=1279797337</span>
<span class="k">for</span> <span class="n">item</span> <span class="ow">in</span> <span class="n">result</span><span class="p">[</span><span class="s1">'entities'</span><span class="p">]:</span>
    <span class="n">api_num_statements</span> <span class="o">=</span> <span class="nb">len</span><span class="p">(</span><span class="n">result</span><span class="p">[</span><span class="s1">'entities'</span><span class="p">][</span><span class="n">item</span><span class="p">][</span><span class="s1">'claims'</span><span class="p">])</span>
    <span class="n">api_num_sitelinks</span> <span class="o">=</span> <span class="nb">len</span><span class="p">([</span><span class="n">s</span> <span class="k">for</span> <span class="n">s</span> <span class="ow">in</span> <span class="n">result</span><span class="p">[</span><span class="s1">'entities'</span><span class="p">][</span><span class="n">item</span><span class="p">][</span><span class="s1">'sitelinks'</span><span class="p">]</span> <span class="k">if</span> <span class="n">s</span><span class="o">.</span><span class="n">endswith</span><span class="p">(</span><span class="s1">'wiki'</span><span class="p">)</span> <span class="ow">and</span> <span class="n">s</span> <span class="ow">not</span> <span class="ow">in</span> <span class="p">(</span><span class="s1">'commonswiki'</span><span class="p">,</span> <span class="s1">'specieswiki'</span><span class="p">)])</span>
    <span class="k">for</span> <span class="n">d</span> <span class="ow">in</span> <span class="n">ten_random_items</span><span class="p">:</span>
        <span class="k">if</span> <span class="n">d</span><span class="p">[</span><span class="mi">0</span><span class="p">]</span> <span class="o">==</span> <span class="n">item</span><span class="p">:</span>
            <span class="n">dump_num_statements</span> <span class="o">=</span> <span class="n">d</span><span class="p">[</span><span class="mi">2</span><span class="p">]</span>
            <span class="n">dump_num_sitelinks</span> <span class="o">=</span> <span class="n">d</span><span class="p">[</span><span class="mi">3</span><span class="p">]</span>
    <span class="k">if</span> <span class="n">api_num_sitelinks</span> <span class="o">!=</span> <span class="n">dump_num_sitelinks</span><span class="p">:</span>
        <span class="nb">print</span><span class="p">(</span><span class="s2">"Mismatch (</span><span class="si">{0}</span><span class="s2">): </span><span class="si">{1}</span><span class="s2"> sitelinks in dump and </span><span class="si">{2}</span><span class="s2"> from API"</span><span class="o">.</span><span class="n">format</span><span class="p">(</span><span class="n">item</span><span class="p">,</span> <span class="n">dump_num_sitelinks</span><span class="p">,</span> <span class="n">api_num_sitelinks</span><span class="p">))</span>
    <span class="k">if</span> <span class="n">api_num_statements</span> <span class="o">!=</span> <span class="n">dump_num_statements</span><span class="p">:</span>
        <span class="nb">print</span><span class="p">(</span><span class="s2">"Mismatch (</span><span class="si">{0}</span><span class="s2">): </span><span class="si">{1}</span><span class="s2"> statements in dump and </span><span class="si">{2}</span><span class="s2"> from API"</span><span class="o">.</span><span class="n">format</span><span class="p">(</span><span class="n">item</span><span class="p">,</span> <span class="n">dump_num_statements</span><span class="p">,</span> <span class="n">api_num_statements</span><span class="p">))</span>
</pre></div>

     </div>
</div>
</div>
</div>

<div class="jp-Cell-outputWrapper">
<div class="jp-Collapser jp-OutputCollapser jp-Cell-outputCollapser">
</div>


<div class="jp-OutputArea jp-Cell-outputArea">

<div class="jp-OutputArea-child">

    
    <div class="jp-OutputPrompt jp-OutputArea-prompt"></div>


<div class="jp-RenderedText jp-OutputArea-output" data-mime-type="text/plain">
<pre>Mismatch (Q659): 147 sitelinks in dump and 148 from API
</pre>
</div>
</div>

</div>

</div>

</div>
<div class="jp-Cell jp-MarkdownCell jp-Notebook-cell">
<div class="jp-Cell-inputWrapper">
<div class="jp-Collapser jp-InputCollapser jp-Cell-inputCollapser">
</div>
<div class="jp-InputArea jp-Cell-inputArea"><div class="jp-InputPrompt jp-InputArea-prompt">
</div><div class="jp-RenderedHTMLCommon jp-RenderedMarkdown jp-MarkdownOutput " data-mime-type="text/markdown">
<h2 id="Example-Analyses-of-Wikidata-data">Example Analyses of Wikidata data<a class="anchor-link" href="https://public-paws.wmcloud.org/User:Isaac_(WMF)/Outreachy%20Dec%202020/Wikidata_Data_Example.ipynb#Example-Analyses-of-Wikidata-data">¶</a></h2><p>Here we show some examples of things we can do with the data that we gathered about Wikidata items. We'll work with the larger dataset we gathered from the JSON dumps. There are many research questions you might come up with about Wikidata items, but we're going to examine the following:</p>
<p>There is a lot of content on wikis and much more that could be added but relatively few editors. As a result, there are always going to be topics that have excellent coverage and others that have just more basic information. Ideally, the topics that are covered well are also the "important" ones. We are going to do a basic analysis to see how well this holds up in Wikidata. Specifically, we choose to look at the relationship between the number of statements that a given Wikidata item has (a rough proxy of quality / coverage) and the number of languages in which there is a corresponding Wikipedia article (a rough proxy for interest / importance of the topic).</p>

</div>
</div>
</div>
</div><div class="jp-Cell jp-CodeCell jp-Notebook-cell jp-mod-noOutputs  ">
<div class="jp-Cell-inputWrapper">
<div class="jp-Collapser jp-InputCollapser jp-Cell-inputCollapser">
</div>
<div class="jp-InputArea jp-Cell-inputArea">
<div class="jp-InputPrompt jp-InputArea-prompt">In&nbsp;[13]:</div>
<div class="jp-CodeMirrorEditor jp-Editor jp-InputArea-editor" data-type="inline">
     <div class="CodeMirror cm-s-jupyter">
<div class=" highlight hl-ipython3"><pre><span></span><span class="kn">import</span> <span class="nn">pandas</span> <span class="k">as</span> <span class="nn">pd</span>
<span class="kn">from</span> <span class="nn">scipy.stats</span> <span class="kn">import</span> <span class="n">pearsonr</span><span class="p">,</span> <span class="n">spearmanr</span>
<span class="kn">import</span> <span class="nn">seaborn</span> <span class="k">as</span> <span class="nn">sns</span>

<span class="kn">from</span> <span class="nn">IPython.display</span> <span class="kn">import</span> <span class="n">display</span>

<span class="n">sns</span><span class="o">.</span><span class="n">set</span><span class="p">()</span>
</pre></div>

     </div>
</div>
</div>
</div>

</div><div class="jp-Cell jp-CodeCell jp-Notebook-cell   ">
<div class="jp-Cell-inputWrapper">
<div class="jp-Collapser jp-InputCollapser jp-Cell-inputCollapser">
</div>
<div class="jp-InputArea jp-Cell-inputArea">
<div class="jp-InputPrompt jp-InputArea-prompt">In&nbsp;[14]:</div>
<div class="jp-CodeMirrorEditor jp-Editor jp-InputArea-editor" data-type="inline">
     <div class="CodeMirror cm-s-jupyter">
<div class=" highlight hl-ipython3"><pre><span></span><span class="c1"># Convert data into more usable form</span>
<span class="n">df</span> <span class="o">=</span> <span class="n">pd</span><span class="o">.</span><span class="n">DataFrame</span><span class="p">(</span><span class="n">data</span><span class="p">,</span> <span class="n">columns</span><span class="o">=</span><span class="p">[</span><span class="s1">'QID'</span><span class="p">,</span> <span class="s1">'enwiki'</span><span class="p">,</span> <span class="s1">'# statements'</span><span class="p">,</span> <span class="s1">'# sitelinks'</span><span class="p">,</span> <span class="s1">'Human?'</span><span class="p">])</span>
<span class="n">df</span><span class="o">.</span><span class="n">set_index</span><span class="p">(</span><span class="s1">'QID'</span><span class="p">,</span> <span class="n">inplace</span><span class="o">=</span><span class="kc">True</span><span class="p">)</span>
<span class="n">df</span><span class="o">.</span><span class="n">head</span><span class="p">()</span>
</pre></div>

     </div>
</div>
</div>
</div>

<div class="jp-Cell-outputWrapper">
<div class="jp-Collapser jp-OutputCollapser jp-Cell-outputCollapser">
</div>


<div class="jp-OutputArea jp-Cell-outputArea">

<div class="jp-OutputArea-child">

    
    <div class="jp-OutputPrompt jp-OutputArea-prompt">Out[14]:</div>



<div class="jp-RenderedHTMLCommon jp-RenderedHTML jp-OutputArea-output jp-OutputArea-executeResult" data-mime-type="text/html">
<div>
<style scoped="">
    .dataframe tbody tr th:only-of-type {
        vertical-align: middle;
    }

    .dataframe tbody tr th {
        vertical-align: top;
    }

    .dataframe thead th {
        text-align: right;
    }
</style>
<table border="1" class="dataframe">
  <thead>
    <tr style="text-align: right;">
      <th></th>
      <th>enwiki</th>
      <th># statements</th>
      <th># sitelinks</th>
      <th>Human?</th>
    </tr>
    <tr>
      <th>QID</th>
      <th></th>
      <th></th>
      <th></th>
      <th></th>
    </tr>
  </thead>
  <tbody>
    <tr>
      <th>Q31</th>
      <td>Belgium</td>
      <td>212</td>
      <td>270</td>
      <td>False</td>
    </tr>
    <tr>
      <th>Q8</th>
      <td>Happiness</td>
      <td>39</td>
      <td>103</td>
      <td>False</td>
    </tr>
    <tr>
      <th>Q23</th>
      <td>George Washington</td>
      <td>183</td>
      <td>182</td>
      <td>True</td>
    </tr>
    <tr>
      <th>Q24</th>
      <td>Jack Bauer</td>
      <td>35</td>
      <td>26</td>
      <td>False</td>
    </tr>
    <tr>
      <th>Q42</th>
      <td>Douglas Adams</td>
      <td>210</td>
      <td>82</td>
      <td>True</td>
    </tr>
  </tbody>
</table>
</div>
</div>

</div>

</div>

</div>

</div>
<div class="jp-Cell jp-MarkdownCell jp-Notebook-cell">
<div class="jp-Cell-inputWrapper">
<div class="jp-Collapser jp-InputCollapser jp-Cell-inputCollapser">
</div>
<div class="jp-InputArea jp-Cell-inputArea"><div class="jp-InputPrompt jp-InputArea-prompt">
</div><div class="jp-RenderedHTMLCommon jp-RenderedMarkdown jp-MarkdownOutput " data-mime-type="text/markdown">
<h3 id="Descriptive-statistics">Descriptive statistics<a class="anchor-link" href="https://public-paws.wmcloud.org/User:Isaac_(WMF)/Outreachy%20Dec%202020/Wikidata_Data_Example.ipynb#Descriptive-statistics">¶</a></h3><p>Basic details on number of statements and number of sitelinks per item. Conclusions:</p>
<ul>
<li>Both sitelinks and statements are positively skewed -- i.e. most items have relatively few statements/sitelinks but a few items have many statements/sitelinks</li>
<li>Whether an item is a human or not seems to matter: people have fewer sitelinks but more statements on average that items that are not about people</li>
</ul>

</div>
</div>
</div>
</div><div class="jp-Cell jp-CodeCell jp-Notebook-cell   ">
<div class="jp-Cell-inputWrapper">
<div class="jp-Collapser jp-InputCollapser jp-Cell-inputCollapser">
</div>
<div class="jp-InputArea jp-Cell-inputArea">
<div class="jp-InputPrompt jp-InputArea-prompt">In&nbsp;[15]:</div>
<div class="jp-CodeMirrorEditor jp-Editor jp-InputArea-editor" data-type="inline">
     <div class="CodeMirror cm-s-jupyter">
<div class=" highlight hl-ipython3"><pre><span></span><span class="n">plt</span> <span class="o">=</span> <span class="n">sns</span><span class="o">.</span><span class="n">distplot</span><span class="p">(</span><span class="n">df</span><span class="p">[</span><span class="s1">'# statements'</span><span class="p">],</span> <span class="n">axlabel</span> <span class="o">=</span> <span class="s2">"Number of Wikidata statements per item"</span><span class="p">)</span>
<span class="n">_</span> <span class="o">=</span> <span class="n">plt</span><span class="o">.</span><span class="n">set_ylabel</span><span class="p">(</span><span class="s1">'Proportion of Wikidata items'</span><span class="p">)</span>

<span class="n">df</span><span class="o">.</span><span class="n">groupby</span><span class="p">(</span><span class="s1">'Human?'</span><span class="p">)[</span><span class="s1">'# statements'</span><span class="p">]</span><span class="o">.</span><span class="n">describe</span><span class="p">()</span>
</pre></div>

     </div>
</div>
</div>
</div>

<div class="jp-Cell-outputWrapper">
<div class="jp-Collapser jp-OutputCollapser jp-Cell-outputCollapser">
</div>


<div class="jp-OutputArea jp-Cell-outputArea">

<div class="jp-OutputArea-child">

    
    <div class="jp-OutputPrompt jp-OutputArea-prompt">Out[15]:</div>



<div class="jp-RenderedHTMLCommon jp-RenderedHTML jp-OutputArea-output jp-OutputArea-executeResult" data-mime-type="text/html">
<div>
<style scoped="">
    .dataframe tbody tr th:only-of-type {
        vertical-align: middle;
    }

    .dataframe tbody tr th {
        vertical-align: top;
    }

    .dataframe thead th {
        text-align: right;
    }
</style>
<table border="1" class="dataframe">
  <thead>
    <tr style="text-align: right;">
      <th></th>
      <th>count</th>
      <th>mean</th>
      <th>std</th>
      <th>min</th>
      <th>25%</th>
      <th>50%</th>
      <th>75%</th>
      <th>max</th>
    </tr>
    <tr>
      <th>Human?</th>
      <th></th>
      <th></th>
      <th></th>
      <th></th>
      <th></th>
      <th></th>
      <th></th>
      <th></th>
    </tr>
  </thead>
  <tbody>
    <tr>
      <th>False</th>
      <td>7499.0</td>
      <td>23.267636</td>
      <td>18.186535</td>
      <td>0.0</td>
      <td>10.0</td>
      <td>20.0</td>
      <td>32.0</td>
      <td>250.0</td>
    </tr>
    <tr>
      <th>True</th>
      <td>4491.0</td>
      <td>37.352928</td>
      <td>25.664052</td>
      <td>4.0</td>
      <td>22.0</td>
      <td>31.0</td>
      <td>44.0</td>
      <td>264.0</td>
    </tr>
  </tbody>
</table>
</div>
</div>

</div>

<div class="jp-OutputArea-child">

    
    <div class="jp-OutputPrompt jp-OutputArea-prompt"></div>




<div class="jp-RenderedImage jp-OutputArea-output ">
<img src="data:image/png;base64,iVBORw0KGgoAAAANSUhEUgAAAZcAAAEMCAYAAAAIx/uNAAAAOXRFWHRTb2Z0d2FyZQBNYXRwbG90bGliIHZlcnNpb24zLjMuMCwgaHR0cHM6Ly9tYXRwbG90bGliLm9yZy86wFpkAAAACXBIWXMAAAsTAAALEwEAmpwYAABI1UlEQVR4nO3dd3xUVfr48c/UJJOekIQJVSJgVEpCAqJGBKmKCyoRRLACi4vi2pH1S0BAv+AuKi7qTxd1WfWroiwIRESsgNKUogYEEQiQBmkkmWQy5f7+GDISU5jATKbwvPfFa2dufU5uvE/OOfecq1IURUEIIYRwI7W3AxBCCBF4JLkIIYRwO0kuQggh3E6SixBCCLeT5CKEEMLtJLkIIYRwO0kuQggh3E7r7QB8RWlpFXa7Z4f8xMaGUVxc6dFzeEMglisQywSBWa5ALBP4frnUahXR0aFNrpfkcprdrng8udSdJxAFYrkCsUwQmOUKxDKBf5dLmsWEEEK4nSQXIYQQbifJRQghhNtJchFCCOF2rdahf+jQIWbMmEFZWRlRUVEsWLCAzp0719vGZrMxb948Nm7ciEqlYsqUKWRmZgKwZMkSsrOzUavV6HQ6HnroITIyMgCYMWMG3377LdHR0QAMHz6c++67r7WKJoQQ4g9aLblkZWUxfvx4Ro0axapVq5g1axbLli2rt83q1avJzc1l/fr1lJWVMXr0aPr370/79u3p2bMn99xzDyEhIezbt48JEyawadMmgoODAZgyZQoTJkxoreIIIYRoRqs0ixUXF5OTk8PIkSMBGDlyJDk5OZSUlNTbLjs7m8zMTNRqNTExMQwePJh169YBkJGRQUhICADdu3dHURTKyspaI3whhBAt1CrJJT8/n4SEBDQaDQAajYb4+Hjy8/MbbJeYmOj8bjQaKSgoaHC8lStX0rFjR9q2betc9uabb3LjjTfyl7/8hYMHD3qoJN5ntUOV2drgn9Xu7ciEEOJ3fjeIctu2bbz44ou88cYbzmUPPfQQcXFxqNVqVq5cyaRJk9iwYYMzmbkiNjbME+E2EBcXfl77F5WY2PdbcYPlqd3jiYsxnNexz8f5lssXBWKZIDDLFYhlAv8uV6skF6PRSGFhITabDY1Gg81mo6ioCKPR2GC7vLw8evbsCTSsyezcuZPHHnuMl19+mS5dujiXJyQkOD+PHj2aZ599loKCAtq1a+dyjMXFlR4fDRsXF86JExXndQyT2UpFZU3D5SYzJ2y28zr2uXJHuXxNIJYJArNcgVgm8P1yqdWqZv8ob5VmsdjYWJKTk1mzZg0Aa9asITk5mZiYmHrbDR8+nOXLl2O32ykpKWHDhg0MGzYMgD179vDQQw+xePFiLrvssnr7FRYWOj9v3LgRtVpdL+EIIYRoXa3WLDZ79mxmzJjByy+/TEREBAsWLABg8uTJTJ8+nR49ejBq1Ch2797N0KFDAZg2bRodOnQAYM6cOdTU1DBr1iznMRcuXEj37t154oknKC4uRqVSERYWxiuvvIJW63ctfkIIETBUiqL478xobuQvzWJVZivb9xY2WJ6enEBokHcSqq9X389FIJYJArNcgVgm8P1y+USzmBBCiAuLJBchhBBuJ8lFCCGE20lyEUII4XaSXIQQQridJJcApigKVpvMCyOEaH2SXALYqk2HuP+Fb1i58TfMtd4ZvS+EuDBJcglQh/JPsebbI0QY9Hy8+TBPvvYdW3Majo8RQghPkOQSgKw2O29m7yUiVMfsu9N5ckIqkWFB/L+Pf+ZEWbW3wxNCXABcSi6//vorJ0+eBKCqqorFixfzz3/+k+pquVG5g7un0c/+7gjHTlQxcVh3DME6uraP4t4bkgHYl1vqxsiFEKJxLiWXhx9+mFOnTgGwYMECtm/fzq5du+rN8yXOndnimNLlj//MFmuLj3XsRCWrvz1Mv0sTSOka51ye2CaUsBAd+3PL3Bi5EEI0zqXJqI4fP06XLl1QFIXPPvuMtWvXEhwczHXXXefp+EQLvf/Fr4QEabltcNd6y9UqFd07RPHL0TLvBCaEuKC4VHMJCgqisrKSPXv2YDQaiYmJQa/XYzabPR2faIGDx8v5+VAJI/p1JMKgb7C+W8coTpbXUFze8H0wQgjhTi7VXEaOHMmdd95JVVUVEyZMACAnJ4f27dt7NDjRMh9vPkxYiI6Bqb+/JM1qx9m81rGt4612ObmlZPQwNnoMIYRwB5eSy8yZM9m0aRNarZYrrrgCAJVKxZNPPunR4ITrDhec4sffirllQBeC9b9f1rr+HHAMqtTr1Ow7IslFCOFZLr8A5Oqrr673vUePHm4PRpy7dVtyCQ3WMii16dqkSqUiIdrAAel3EUJ4mEvJJS8vj3/+85/s3bsXk8lUb92nn37qkcCE64rLa/j5UAk3XdOFkLO8MCwhJoQd+05QWmEmOjyolSIUQlxoXEouDz74IF26dGH69OkEBwd7OqYLnsVqp7TCzHc/5VN6yswlnaLp0SW20W1ram18+1MBhiAtg/ucvQ8sIdoAwC+5pVxxWVu3xi2EEHVcSi6//fYb77//Pmq1DOhvDas3H6ay2gKACvhkay63DOjC9Vd0qrddTa2Vz7Yfo7yqlqmjLztrrQUgOiKIkCANvxwtk+QihPAYl5LLwIED2bZtm7MzX3hOrcVGZbWF7h2jGHtdV4zRBt5at4+Pvv6N/GITo6/pgtliw1xr4+tdeZyqqmVQajuSO8W4dHy1SkWXxEh+kcGUQggPcim5PPXUU4wbN46OHTsSG1u/eebZZ5/1SGAXqgqTo8ZijDUQFxVCkF7DlBsvxRhrYOXGQ3z7U4FzW41axcDUdiS2CW3RObq2j+TnQyWUV9USGdpwPIwQQpwvl5LLk08+iUajISkpiaAg6QT2pFOmWgDCDTrnMpVKxZ+uuoikxEj2Hysjv7gKrVpNXHTIOXXKt4sLA6CguEqSixDCI1xKLlu2bGHjxo2EhYV5Op4LXuXpmktYSMOb/mUXxdA5McI5buVMKrWKKnPDucjsSsNzxEQ4ElLxKRmpL4TwDJeSS/fu3SkrK5Pk0goqTBaC9Rp02pY9PGG22Ni9/0SD5b26xTVYFh3ueOLvpEwDI4TwEJeSyxVXXMG9997LzTff3KDPZcyYMR4J7EJVYaolvJF5wdxJp1UTGaqXOcaEEB7jUnL5/vvviY+PZ9OmTfWWq1QqSS5uVlFtoW2MwePnaRMZLM1iQgiPcSm5/Oc///F0HAKw2eyYaqz1OvM9JTYymMMFFR4/jxDiwuTy3GKlpaV8/fXXnDx5kkmTJlFYWIiiKLRtKwPx3KXi9MBJTzeLqdQqIkL1lJyqoaLGglqlAiBIp6WFXT1CCNEol24l27ZtY/jw4axevZolS5YAcOTIEWbPnu3J2C44dU+KebrmYrbYqDDVYrUpbNyVd15vvhRCiMa4lFyeeeYZXnjhBZYuXYpW66js9OrViz179ng0uAtNRSslF4DQEMc5qk7XloQQwp1cSi7Hjx+nf//+gKMTH0Cn02Gz2TwX2QWowlSLTqMmSKfx+LnCTieXSkkuQggPcCm5JCUlsXHjxnrLvv32W7p16+aRoC5UFSYLYQadM4F7Umjw6eRSI8lFCOF+LnXoz5gxgz//+c9ce+211NTUMGvWLL744gtefvllT8d3Qakw1RLVSu9Y0WkdNSRpFhNCeIJLNZfevXvz8ccfc/HFF3PLLbfQvn17PvzwQ3r27OnyiQ4dOsTYsWMZNmwYY8eO5fDhww22sdlszJkzh8GDBzNkyBCWL1/uXLdkyRJuuOEGbrzxRm6++eZ6Nanq6mr++te/MmTIEIYPH86XX37pcly+wq4oVFZbPP6k2JnCQrRUVksnvhDC/VyquSxdupR7772XyZMn11v+5ptvcvfdd7t0oqysLMaPH8+oUaNYtWoVs2bNYtmyZfW2Wb16Nbm5uaxfv56ysjJGjx5N//79ad++PT179uSee+4hJCSEffv2MWHCBDZt2kRwcDBLly4lLCyMzz77jMOHD3P77bezfv16QkNbNluwN5lqrNiV1unMrxMaoqO8srbVzieEuHC4VHOpe/z4j1555RWXTlJcXExOTg4jR44EYOTIkeTk5FBSUlJvu+zsbDIzM1Gr1cTExDB48GDWrVsHQEZGBiEhIYBjrjNFUSgrKwPgk08+YezYsQB07tyZyy+/nG+++cal2HxFRSOzIXtaWIiOymoLitLI7JZCCHEemq25fPfddwDY7Xa2bNlS7yZ07Ngxl2sG+fn5JCQkoNE4noLSaDTEx8eTn59PTExMve0SExOd341GIwUFBQ2Ot3LlSjp27OgcwJmXl0e7du3Oul9zYmNbZ1LOuLjwBsuUEhOW0w/etW0TTvjpafANhiDi/jAVjFJiIjys4aumdTqty8vrlsVEhmCzl6LT6wgJ0jZ6vvMpl78LxDJBYJYrEMsE/l2uZpPL3/72NwDMZjMzZ850LlepVMTFxfHUU095NrpGbNu2jRdffJE33njDrcctLq7E3tj89G4UFxfOiRMNp1wxma2cKDWhVoFit1FR6Zjzy2Qyc+IPj3ubzFbn+jNZLK4vr1um0zieSis4WUGbyJBGz3c+5fJngVgmCMxyBWKZwPfLpVarmv2jvNnk8sUXXwDw+OOPs3DhwnMOwmg0UlhYiM1mQ6PRYLPZKCoqwmg0NtguLy/P+aDAH2syO3fu5LHHHuPll1+mS5cuzuWJiYkcP37cWQvKz8+nX79+5xyvN1SaagkL0TmnYmkNocGOy19VbaVNZKudVghxAXCpz+V8EgtAbGwsycnJrFmzBoA1a9aQnJxcr0kMYPjw4Sxfvhy73U5JSQkbNmxg2LBhAOzZs4eHHnqIxYsXc9lllzXY7/333wfg8OHD/Pjjj2RkZJxXzK2topWfFAMZSCmE8Jwmay4jRozgk08+AWDAgAFNDuz76quvXDrR7NmzmTFjBi+//DIREREsWLAAgMmTJzN9+nR69OjBqFGj2L17N0OHDgVg2rRpdOjQAYA5c+Y4x9jUWbhwId27d+fee+9lxowZDBkyBLVazdNPP+1XLzZTFIUKk4W4qJB6yxt7u6Q7W+70OsdLySS5CCHcrcnkMnfuXOfn55577rxPlJSUVG/cSp3XX3/d+Vmj0TBnzpxG9//oo4+aPLbBYGDx4sXnHaO31FrtWKx2ZzNVncbeLtnYmyXPR1iITgZSCiHcrsnkkpaW5vzct2/fVgnmQmWqcdRO9K0wp9gfhYboqDTJWBchhHvJ2zt8QPXppq/WmLDyj8KCtVRVW2WsixDCrSS5+ADT6ckj9brWvxyhITosNju1Vnurn1sIEbgkufgA0+mai17rhZqLPDEmhPAASS4+4Pc+l9a/HIbTDxFU18gElkII93Fp4kqAzz//nO3bt1NaWlqvff58x8CI32su3uhzCQnS1otBCCHcwaU/lf/5z3+SlZWF3W5n3bp1REVFsWnTJiIiIjwd3wWhrtag07Z+zaUuuVRLchFCuJFLd7OPPvqIN954g5kzZ6LT6Zg5cyavvvoqx44d83R8FwST2Ypep26VN1D+kUatIkinkeQihHArl5LLqVOnnK801ul0WCwWevbsyfbt2z0a3IXCVGP1Smd+nZAgDdXmlk9YKYQQTXGpz6Vjx44cOHCArl270rVrV/7v//6PiIgIIiNltkN3MJmtBHmhM79OSJBWai5CCLdyKbn89a9/db6Y69FHH+WRRx7BZDLVm+dLnLvqGqtXRufXMQRpya8yee38QojA41JyGTBggPNzz549+eyzzzwW0IXIZLYQrHf5wT23q6u52GWUvhDCTVxqi2lqbrH+/fu7NZgLlaPPxbvNYoqCTGAphHAbl+5oFkvDm47FYsFulylDzpeiKFSbvdssFnJ6IOWpKpnAUgjhHs22xYwfPx6VSkVtbS233357vXUFBQWkpKR4NLgLQa3VjtWmeLlD35HYJLkIIdyl2eSSmZmJoij8+OOPjBkzxrlcpVIRGxvLFVdc4fEAA503p9uvYzg9kLJckosQwk2aTS433XQTAL169SIpKalVArrQVDlnRPbmOBdpFhNCuJdLjyglJSVx8uRJ9uzZ02BusTNrNKLlnDUXL3boazVqdFq1JBchhNu4lFw2bNjAY489RqdOnfj111+5+OKLOXDgAKmpqZJczpMv1FzAUXuRZjEhhLu4lFxeeOEFnnnmGUaMGEF6ejorV67ko48+4tdff/V0fAGvrubizQ59cPS7SM1FCOEuLt3R8vLyGDFiRL1lN910EytXrvRETBeUqhrvvSjsTCFBGsorJbkIIdzDpeQSGxvLyZMnAWjXrh07d+4kNzdXxrm4Qd0rjnVerrmEnK65KDJKXwjhBi7d0TIzM/n+++8BuOuuu7jjjjsYNWoUt912m0eDuxBU1VgJCdKg9sJ0+2cKCdJisdllAkshhFu41OcyZcoU5+fRo0fTt29fqqur5fFkNzDVWJyPAntTXQxllbUYgnVejkYI4e/O6a6WmJjo7jguWFU1Vp+4mTsHUlaaSWwT6uVohBD+rsnkMmDAAJfejPjVV1+5M54LjqnG6ryxe1PdFDBl8sSYEMINmryrPffcc87PP/74IytXrmTixIkkJiaSl5fH22+/zejRo1sjxoBWVWMhIdrg7TCczWLyxJgQwh2aTC5nTrP/9NNPs3TpUhISEpzLrrnmGiZNmsQ999zj2QgDnKnG6pyV2Jt0Wsco/bJKs7dDEUIEAJeeFisqKsJgqP/XtcFgoLCw0CNBXUiqfKRZTKVSERmql1H6Qgi3cOmuNmjQIO677z7uu+8+2rZtS35+Pv/v//0/Bg0a5On4AlqtxYbVZsfgAzUXgIhQPeVScxFCuIFLd7U5c+bw0ksvkZWVRVFREXFxcYwYMYL777/f0/EFtLrR+b5QcwGIDNWTX2zydhhCiADg0l0tKCiIRx99lEcffdTT8VxQ6kbnhwRrsdu9PzI+IlTP3iOl3g5DCBEAmkwu27dvJz09HYDvvvuuyQP079/fpRMdOnSIGTNmUFZWRlRUFAsWLKBz5871trHZbMybN4+NGzeiUqmYMmUKmZmZAGzatIlFixaxf/9+Jk6cyBNPPOHc76WXXuLdd98lPj4egNTUVLKyslyKy5ucNZdgLZUm77+/PiJUT02tDXOtjSC9d+c6E0L4tyaTy5w5c1izZg0Af/vb3xrdRqVS8fnnn7t0oqysLMaPH8+oUaNYtWoVs2bNYtmyZfW2Wb16Nbm5uaxfv56ysjJGjx5N//79ad++PR06dGD+/PmsW7eO2tqGnc6jR4+ul3D8gcnZLKbzieQSGaoHoKzKTILe+49HCyH8V5PJpS6xAHzxxRfndZLi4mJycnJ48803ARg5ciRz586lpKSEmJgY53bZ2dlkZmaiVquJiYlh8ODBrFu3jkmTJtGpUyfA8W6ZxpKLP6p7l4vPdOiHOZJLeWWtT4y9EUL4L5fuatnZ2Vx//fUNli9evJjp06efdf/8/HwSEhLQaBxNLRqNhvj4ePLz8+sll/z8/HpTyxiNRgoKClwJkbVr17Jp0ybi4uJ44IEHSElJcWm/OrGxYS3a/lzFxYU7P6u1RY5zRxkormiYMHU6LeFhwWdd1tLlTW0bfzqh2FXqenG6oqXb+4NALBMEZrkCsUzg3+VyKbn84x//IDQ0lAEDBtRbtnHjRpeSi6eNGzeOqVOnotPp2Lx5M3/5y1/Izs4mOjra5WMUF1d6vFM9Li6cEycqnN8LT1Y6PtjtVFTWNNjeYrE2WN7YspYub2rbjnGOOcWO5JVxSfuIsxfotD+WKxAEYpkgMMsViGUC3y+XWq1q9o9ylwZRvvbaa8yePZsdO3YA8Oyzz7J582b+/e9/uxSE0WiksLAQm80GODrui4qKMBqNDbbLy8tzfs/Pz6dt27ZnPX5cXBw6nWPyx6uuugqj0ciBAwdcis2bTHXT7au9O91+HUOIFr1WTVFZNVVmK1VmK1Z5ZY8Q4hy4lFySkpL45z//ySOPPMJDDz3E7t27WbZsGZGRkS6dJDY2luTkZGc/zpo1a0hOTq7XJAYwfPhwli9fjt1up6SkhA0bNjBs2LCzHv/MmQL27t3L8ePHueiii1yKzZsco/O9PyNynVqrnWC9ht/yTrF9byHb9xZitsj7XYQQLddks1hjjx+PGTOG999/n9mzZ/Pjjz8Crj+KPHv2bGbMmMHLL79MREQECxYsAGDy5MlMnz6dHj16MGrUKHbv3s3QoUMBmDZtGh06dABgx44dPPzww1RWVqIoCmvXrmX+/PlkZGSwaNEifv75Z9RqNTqdjoULFxIXF9eyn4QXmGoshPpIZ34dQ7DOOf5GCCHOVZN3tqYeP9br9TzzzDNAyx5FTkpKYvny5Q2Wv/76687PGo2GOXPmNLp/Wloa33zzTaPr6hKVv6kyW33mSbE6hmAthSUySl8IcX6avLOd7+PH4uxMNVaMMb71yK8hWIvJbEVRFJfe5yOEEI1xqc9FeEZVjcUnay6KAjW1Nm+HIoTwY03e2UaMGMEnn3wCNP9WSnkT5bmrrrES6gOvOD5T3SSaVTVW5wvEhBCipZq8e8ydO9f5+cy3Ugr3sFjt1Fp9Z7r9OnXJzlRjgciGAy2FEMIVTd7Z0tLSyM7OJj09vd5bKYV7mHxs6pc6dfHUzXsmhBDnotk724svvkhubi4dO3YkLS2N9PR00tPTadeuXWvFF7BM5t9nRPYlwXoNapUkFyHE+Wn2zvbpp59y4sQJduzYwY4dO3jzzTeZOXMmCQkJpKWl0bdvX+eU+KJlnMnFx/o1VCoVIUFaZ3xCCHEuznpnq3vr5IgRIwAoLy/ngw8+4K233mLNmjWSXM5R9RnT7fsax0BKSS5CiHN31uSiKAp79+5l+/bt7Nixg507dxIfH8+IESPo06dPa8QYkOpqBiE+1iwGEBqspfhUw4kthRDCVc3e2aZMmUJOTg4XXXQRffr04dZbb+XZZ58lLKx1pqcPZL7aLAaOfqCjRY6BlEIIcS6aHUR5+PBh9Ho97du3p2PHjnTq1EkSi5v83izmm8nFZleolSmRhRDnqNk72/r16+t16P/73/+mtLSU1NRU0tLS6NOnD8nJya0Va0Axma1o1Cr0OjVWHxsNb3COdZF+FyHEuTnnDv1XXnmFkpIS9u7d6/EgA5HJ7BgB74vzd9XVpmR2ZCHEuWpxh/7333/PqVOnuPzyy7nllltaI8aAVF1j9ckmMZCBlEKI89fs3W3y5Mns2rULi8VCz5496du3L7fffjspKSkEBQW1VowBqa7m4ovOnF9MCCHORbN3t/T0dO677z569OjhfI2wcA+TD77LpY5arSIkSCMDKYUQ5+ysjyILz6iusRLpY+9yOZMhSN5IKYQ4d/I+Fy/x5WYxOP3SMGkWE0KcI0kuXuLLzWIgyUUIcX6aTC6ff/6587PFIs0j7mSz2zHX2nz2aTFwJJdaqx2zxbfG4Agh/EOTyeWxxx5zfu7Xr1+rBHOhqDY7bti+3CwWerpWVV5p9nIkQgh/1OTdLS4ujrfffpukpCRsNhtbtmxpdK6p/v37ezTAQOSr73I5U91szaUVZi5q6+VghBB+p8m727PPPsvixYtZtmwZFouFmTNnNthGpVLVaz4TrvHlecXq1CW+sgqpuQghWq7Ju1tqaipvvfUWAEOGDOGzzz5rrZgCnnO6fR9OLqEhWlTAyXKZel8I0XIu3d3qEkteXh6FhYW0bdsWo9Ho0cACWd1TWL7cLKZRqwkN0XGirNrboQgh/JBLd7cTJ07w0EMPsWvXLqKioigrK6NXr14sWrSIhIQET8cYcExmx9N3vtwsBhBu0HGiTGouQoiWc2mcS1ZWFpdccgnbtm1j06ZNbNu2jeTkZLKysjwdX0ByPi3mwzUXgHCDnpNScxFCnAOXksv333/PE088gcHgmK7EYDDw+OOPs3PnTo8GF6jqplUJ0ft2cokw6DCZrVRWyzgnIUTLuJRcIiMjOXjwYL1lv/32GxERER4JKlBVmGqpMls5ZbIQrNdQbbFRZbZi99G3CYeH6gEoLDV5ORIhhL9x6U/nSZMmcddddzFmzBgSExPJy8tjxYoVPPjgg56OL6BU11jZvreQo0UVqNUqtu8tBKBXtzgvR9a4cINjrEtRaTVJiZFejkYI4U9cSi633norHTp0YM2aNfzyyy/Ex8fzj3/8QwZQnqNaix291vendQsP0aECCkuk5iKEaBmXG/379+8vycRNLFY7ep3G22GclUajJjoiiCLp1BdCtFCr/fl86NAhxo4dy7Bhwxg7diyHDx9usI3NZmPOnDkMHjyYIUOGsHz5cue6TZs2cfPNN3P55ZezYMECl/fzRbVWm1/UXADaRIZQVCrJRQjRMq12h8vKymL8+PF8+umnjB8/nlmzZjXYZvXq1eTm5rJ+/Xref/99XnrpJY4dOwZAhw4dmD9/Pvfee2+L9vNFtRb/qLkAxEWFSLOYEKLFWiW5FBcXk5OTw8iRIwEYOXIkOTk5lJSU1NsuOzubzMxM1Go1MTExDB48mHXr1gHQqVMnkpOT0WobtuQ1t58vqrXa0PlJzSUuOoSqGnkcWQjRMq1yh8vPzychIQGNxvHXukajIT4+nvz8/AbbJSYmOr8bjUYKCgpcOv657OcNiqJg8ZMOfYC4qGAAmQZGCNEiLnXol5WV8cYbb7B3715MpvpNJO+8845HAmttsbFhHj9HUYmJ4GA9ChAeGkR4mOPGrdNpnZ/P1NjylmzrjmMkxDgGzpqsCnFx4U2Wrbl1/ioQywSBWa5ALBP4d7lcSi6PPPIItbW1jBgxgpCQkBafxGg0UlhYiM1mQ6PRYLPZKCoqajD5pdFoJC8vj549ewINayTNHf9c9jtTcXEldk+PZtRoKCl3JGe73U5FpWPeLovF6vx8psaWt2RbdxwjyRiOCjh4pITLOjQ+1iUuLpwTJyoaXeevArFMEJjlCsQyge+XS61WNftHuUvJZefOnWzZsgW9Xn9OQcTGxpKcnMyaNWsYNWoUa9asITk5mZiYmHrbDR8+nOXLlzN06FDKysrYsGGDSzWjc93PG2otdgC/6dDXaR2PIxfKE2NCiBZwKbl0796dgoICOnbseM4nmj17NjNmzODll18mIiLC+Tjx5MmTmT59Oj169GDUqFHs3r2boUOHAjBt2jQ6dOgAwI4dO3j44YeprKxEURTWrl3L/PnzycjIaHY/X1NrdUxa6S99LgDxUSEUyRQwQogWcCm5XHHFFUyaNImbb76ZNm3a1Fs3ZswYl06UlJTU6PiT119/3flZo9EwZ86cRvdPS0vjm2++aXRdc/v5GktdzcWPkktCjIHvfznh7TCEEH7EpeSyY8cOEhIS2Lx5c73lKpXK5eQiHGqt/tUsBhAfHUJltQVTjQVDsM7b4Qgh/IBLyeU///mPp+O4YNQ1i/nLOBeA+CjHE2OFpdVcZJTkIoQ4O5fnFisvL+fLL7+ksLCQhIQEBg4cSGSkzJTbUs5mMZ3/JJeEGMcTgkWl1VxklNcsCCHOzqU73M6dOxkyZAjvvfcev/zyC++99x5DhgyRl4Wdg1qrDY1ahUbtP8klPioElQryi6u8HYoQwk+4VHN55plnyMrK4oYbbnAuy87OZt68eXz00UceCy4Q1VrsftUkBo7+obYxBo4WVXo7FCGEn3DpLnf48GFGjBhRb9mwYcPIzc31SFCBrNZPptv/ow7xYeQWSnIRQrjGpeTSqVMn1q5dW2/ZunXrfHYsiS+rtfjPdPtn6pgQTvGpGqpqZAJLIcTZudQsNnPmTKZOncp//vMfEhMTOX78OEeOHOHVV1/1dHwBx2L1v2YxgI7xjmkejhZWckmnaC9HI4TwdS4ll9TUVD777DO++uorioqKGDhwIAMGDCAqKsrD4QWeWqud0BD/e5y3Q4JjAr3cwgpJLkKIs3L5UeTIyEhGjRrlyVguCP7aLBYZqicyTE+udOoLIVzQZHK59957Wbp0KQDjx49HpVI1up2vThDpqyxWu1+NcTlTx/hw6dQXQrikyeQyevRo5+fMzMzWiCXgWaw2bHYFvdb/nhYD6JgQRs7hEr/tNxJCtJ4mk8uNN97o/NylSxd69erVYJs9e/Z4JqoAZaqxAqDz05pLh/gwbHaFvJNVdGrrvy8xEkJ4nkt3ubvvvrvR5ZMmTXJrMIGu2uxILv5Uc1GpVVSZrVSZrcRFO+YYO3C8nNPzbwohRKOa7dC32+0oilLvX53c3Fw0Gv+5SfqCymrHGJEgPxpEabbY2L3fMd2+oihoNSp++KWI/pe3RRvk8vMgQogLTLN3h0svvRSVSoWiKFx66aX11qnVaqZOnerR4AJNRVUtAMF6/0kuZ1KpVESHB1FSYfZ2KEIIH9dscvn8889RFIWJEyfy9ttvO5erVCpiYmIIDg72eICBpMLkSC5BfppcAGIigvnt+CnsZ9RihRDij5pNLu3atcNms9G+fXvi4uLQ6/WtFVdAqjA5msX8teYCEBMexC82O8XlNYTLi8OEEE04a4e+RqPh2LFj2O3Sg3u+Kqtr0WpUaDX++bQYQHSEo7Z6/ISMdxFCNM2lu9y0adOYPXs2x48fx2azYbfbnf+E6ypMFr/qzG9MVJgelQoZTCmEaJZLj/s89dRTAKxatcq5TFEUVCoVe/fu9UxkAaiiqpZgvX8/YaXVqIkJD+ZQ3ilvhyKE8GEu3ek+//xzT8dxQaistvh1Z36dhJgQ9h8tk5H6QogmuZRc2rVrBzjGvZw8eZI2bdqg9qPX9PqKClMtkaH+/1BEfHQIOYdLOZR/im4dorwdjhDCB7mUISorK3n88cfp2bMn11xzDT179uSJJ56goqLC0/EFlApTrV8/KVYn/vRI/f1Hy7wbiBDCZ7mUXObNm0d1dTWrV69mz549rF69murqaubNm+fp+AKG2WKj1mIPiGaxYL0GY6xBkosQokkuNYtt3LiRDRs2EBISAsBFF13Es88+y5AhQzwaXCCprBvj4udPi9VJahfJjn1F2OSJQSFEI1yquQQFBVFSUlJvWWlpqQyqbIGKav8fnX+mpHaR1NTaOCovDxNCNMKlmsuYMWO45557uOuuu0hMTCQvL4+33nqLW2+91dPxBYzfR+f796PIdZLaRQKwP7eM9B7tvByNEMLXuHSnu++++4iPj2fNmjUUFRURHx/PpEmTGDNmjKfjCxh184oFQoc+QHR4EHFRwew/Vu7tUIQQPsil5KJSqRgzZowkk/NQ1+cSKM1iAN3aR7H7YHG9VzEIIQS4mFwAPvzwQ9auXeusuVx//fWMGTMGlUrlyfgCRkW1BY1ahT6ABh126xDF5p8KOFpYQYhGfg+EEL9zKbksXLiQzz//nDvvvJN27dpx/Phx3njjDQ4dOsTjjz/u6RgDQoWplrAQXUAl47oBlD8fKiHt4ljvBiOE8CkuJZf//ve//Pe//6Vt27bOZQMHDuSmm25yObkcOnSIGTNmUFZWRlRUFAsWLKBz5871trHZbMybN4+NGzeiUqmYMmUKmZmZZ1330ksv8e677xIfHw9AamoqWVlZLsXVWipMFsIMgfV0XXx0CFFhenb+UiTJRQhRj0vJJTQ0lNDQ0AbLwsLCXD5RVlYW48ePZ9SoUaxatYpZs2axbNmyetusXr2a3Nxc1q9fT1lZGaNHj6Z///60b9++2XUAo0eP5oknnnA5ntZWUW0h3BBY7z9RqVSkdItj848F3DGkW0D1Jwkhzo9LHQB33nkn999/P5s3b+bgwYNs2rSJBx98kLvuuoujR486/zWluLiYnJwcRo4cCcDIkSPJyclpMHYmOzubzMxM1Go1MTExDB48mHXr1p11nT+oMFkID7CaC0DfS+KptdjYffCkt0MRQvgQl2ou8+fPB2Dr1q31ln/33XfOKWCam34/Pz+fhIQENBrHX7YajYb4+Hjy8/OJiYmpt11iYqLzu9FopKCg4KzrANauXcumTZuIi4vjgQceICUlxZWitZpKUy1hAVZzAejaPoqo8CB27Cuib3KCt8MRQvgIl5LLvn37PB3HeRk3bhxTp05Fp9OxefNm/vKXv5CdnU10dLTLx4iNdb2Jr6VsNjtVNVbCDXrCw4IbrNfptC4vb8m27jhGU9vqg3QoGjUqDY6msd151NggKiIoYGpocXHh3g7BIwKxXIFYJvDvcrVouHheXh6FhYW0bdsWo9Ho8n5Go5HCwkJsNhsajQabzUZRUVGDYxiNRvLy8ujZsydQv7bS3Lq4uDjnMa666iqMRiMHDhygb9++LsdYXFyJ3e6Z8RrlVY4BlOEGPRWVNQ3WWyxWl5e3ZFt3HKOpbStNZnbvPwFAZFgQtVY7763fS+agrtRUmRts72/i4sI5cSLwZv0OxHIFYpnA98ulVqua/aPcpT6XoqIiJkyYwNChQ3nggQcYMmQIt99+O4WFhS4FERsbS3JyMmvWrAFgzZo1JCcn12sSAxg+fDjLly/HbrdTUlLChg0bGDZs2FnXnRnH3r17OX78OBdddJFLsbWGutH5gdahX8fYJpRgvYYjBb77H4IQonW5VHOZPXs2l1xyCa+99hoGgwGTycSiRYvIysri1VdfdelEs2fPZsaMGbz88stERESwYMECACZPnsz06dPp0aMHo0aNYvfu3QwdOhSAadOm0aFDB4Bm1y1atIiff/4ZtVqNTqdj4cKF9Woz3lY3r1iYQY/p9ASWgUStUtGpbTi/HivHbLERGhQY86cJIc6dS3eB77//nhdffBGdzvGXt8Fg4PHHHycjI8PlEyUlJbF8+fIGy19//XXnZ41Gw5w5cxrdv7l1dYnKV1VWO5JLuEFHUbGXg/GQTm3D+SW3jJxDJVzdw/UmUyFEYHKpWSwyMpKDBw/WW/bbb78RERHhkaACze/NYoHR0d2Y+OgQQoI0bMlxralUCBHYXKq5TJo0ibvuuosxY8Y4p9xfsWIFDz74oKfjCwh1zWKhIYHZ5wKOprFLOkaz88BJDuaVk5QY6e2QhBBe5FLN5dZbb+X555+ntLSUL7/8ktLSUv7xj38wduxYT8cXECpNFgxBWrSawJm0sjGXdIom3KBjxde/eTsUIYSXnbXmYrPZGDZsGNnZ2fTv3781Ygo4FdW1Afuk2Jl0WjVD0juw4uvf2Hu4hOTOMWffSQgRkM76p7RGo0Gj0WA2+//YBW8J1KlfGpPRux1RYXqWf32QyhoLVWYrVru3oxJCtDaX2mnuuOMO/vrXv7Jt2zZyc3Ndmk9M/K5uuv0LgV1RuKRTNIfzK1j5zW9s31uI2WL1dlhCiFbmUof+3LlzAdi8eXO95c3NJyZ+V1Ft4SLjhfNk3cXtIvn5UAnb9hbRJirE2+EIIbwgIOYW82WKolB5ATWLgWNaiKt7Gvl021G+3nmc/pe3PftOQoiA0myzWHV1NYsWLWLq1Km89NJL1NYG3uhyT6s2W7HZlQumWaxOXFQIV17elsLSat7//ACK4pl524QQvqnZ5PL000/z5Zdf0qVLFz799FOfHwnvi+rGuFwIT4v9UZfECHokxbLl50LWbc31djhCiFbUbLPYxo0bWbFiBfHx8UycOJHbb7+d//mf/2mt2ALCqQtgdH5zel8ci1ajZvlXB1GrVQzr29HbIQkhWkGzycVkMjnfS280GqmsrGyVoAJJYUk14Jge5UKkUqm4Y3h31Cp4/4tfsdrs3NC/s7fDEkJ4WLPJxWazsWXLFmd7udVqrfcdkIGVZ5FfXIVWoyIuquELty4UOp2GicMvAeCjr3+jutbGiCs6EaTTog3sSQuEuGA1m1xiY2OZOXOm83tUVFS97yqVis8//9xz0QWA/GITCdEGNGo1F2qXttliY/f+EyR3jqa0wkz2d0c4UVrNHSMuQSvT8wsRkJr9L/uLL75orTgCVt7JKjomeO4Vyv5ErVJx5eVtsdrsbN9XRHLnaK7t3c7bYQkhPEAaJTzIYrVxoryaxDah3g7FZ6jVKjJ6GmkbY+Dt9fvZc/Ckt0MSQniAJBcPKiipRlHAGCvJ5UwajZprUxNJbBPKkv/+JAlGiAAkycWD8ourADDGGrwcie/RazX85abLMcYaeOmjH9mxr8jbIQkh3EiSiwflnaxCBbSNkeTSmHCDnsdvS+GixAheWfUTm/bkezskIYSbSHLxoLxiE3FRIeh1Gm+H4rMMwToeubU3yZ2ieSN7L++s34/FavN2WEKI8yTJxYPyi6ukScwFQXoND47pxdD0Dnz+wzHm/nsHx09WeTssIcR5kOTiITa7ncISE0Z5UswlOq2acdd15a+ZPSmvqmXuW9v5ZneeTHgphJ+S5OIhJ8tqsNoUqbk0Q6VWUWW21vuX1D6Kp+7sS2djBG99so8lK3/i5KkaeZulEH5Ghkd7SN7pJ8US5THkJtWN3P+jXt3i6HtpPIZgLTv3n2B/bhl3jriEPt3ivBClEOJcSHLxkLyTdY8hS3I5F2qVip5JsSTEhPDtjwUsWfEjvbu24eYBXYgO/32eNpmfTAjfJMnFQ/KLTUSF6TEEy4/4fCREG/jTVZ0prjDz2baj/PRbMZ2NEVzcLpK4qGD6XtpW5icTwgfJf5Ue4nhSTGot7qDRqBnStyMGvZY9B4s5nH+KX4+VExGq52R5Df0va0u7NqGoVCpvhyqEOE2SiwcoikJ+sYmrLjd6O5SAEmbQcWWPtqQnx3OkoIKDx8tZtyWXT7bkkhBjoP9lCVx1uZHYyAv39QZC+ApJLh5QWmGmptZGYht5UswTdFo1F7eP5OL2kVzSOYbd+0/ww4ETrNx4iFUbD9GtYxRX90wkvXucDGAVwkskuXjA4YIKQDrzW0OQXkOQXkP/y9rS46JYDuaVc/D4KZauyeHdzzSkX5JA74vbcFFiBJGhF+arpoXwBkkubmZXFFZvPkxsRBBJ7SK8Hc4FJcygo9fFbeiZFEtUeDDf7ytiS04B3+zOAyA2IhhjGwNxUSHERYVgjA2lY0IY4YYgeeJMCDeT5OJmW3MKOVJYweSRl6LTSpOMN6hUKrp3iqZbhyhuuTaJo0WVHC6o4Eh+BYfyy9l7uBSbXTm9LbRrE0pSu0guMkbQuW24vH9HCDeQ5OJGFquNFV8fpFNCOP0uS/B2OBe0Pw7QjDDomDCiO7v3n0BRFExmK6WnzJwor8FisbF9bxFf73LUcFQqiA4PItygJ8KgJ0inJkinISRIS2SYnsjQIKIjgjDGGIgOD5Kn1IRoRKsll0OHDjFjxgzKysqIiopiwYIFdO7cud42NpuNefPmsXHjRlQqFVOmTCEzM/O81rWmDTuOUXzKzD03XIpabjg+S6VSERqsIzRYR/v4MPpe1ha7zc6JshpyCysoLDFRVWOl5JSZ8ioztRY7ZouNarOVmtr6MzYH6zW0jTEQExFMdHgQkaF6VCpQFEcTqd2uYDv9T69VE6TXEKzXEhaiIzxER3ioHkOQluDTfUfyeyMCRasll6ysLMaPH8+oUaNYtWoVs2bNYtmyZfW2Wb16Nbm5uaxfv56ysjJGjx5N//79ad++/Tmvaw2KopBbWMma7w7TKymW5E7RrXJe4R5/rOXER4cQHhZMl8TwBtPT9O4WR3mFmdIKMwUlJgpLTBSWVpNfbGLvkVKqzdYGx1erVWhUKiy2s0+QptOq0WvVaLVqQk4nobAQHaEh2tMJUUuQToNKpUKlciRKu11xTPCpUqHXqtFp1QTrNY4EZtATbtAREqRFq6nfsaQoClU1VsorzZRX1XLKVEtFlYWKagtWmx27XcGuKGjUKrQa9e//r1GhVavRahzfdVo1Wo0atVqFWq1CBc59T4cFqNBqVBiCtRiCtBiCdRiCtei1aqn5BahWSS7FxcXk5OTw5ptvAjBy5Ejmzp1LSUkJMTExzu2ys7PJzMxErVYTExPD4MGDWbduHZMmTTrnda5Sq1v+C15ZbSF7yxH2Hy3jVFUtMRHBjB/avcljKWoVhmBdg+Vajdrl5S3Z1h3HcGXbkCAtNqvOZ2J2xzHqbsZ/XK7RqCksrQYgJiKYmIhgkjs75kPDrjgTiAqcN82ffisGHDdzm12hc2IEP/9WjNliw1xrw2pVsNrsxEaGYLHasNjsWG12zLU2qs02TGYLRWU1mMwVWCznPoOnTqcmJEiH1WrHdvocdX1PZ1KpQKNWo1KDGhV2FOw2pdFtz5dGrSJIr0WrUaFRO/6p1SpHDU6lQqtWodGo0aodP3udVo1G7UhwmtPJNShIR425FkUBmx1sp8tVV3NUFAXV6YLVHVurUTvPWS8pKmC320/v+3sNVH06mavVv8ekOX0slUqFSg0oju0VTvfn4dgHFahP7+v4X13C/X17x3kdybhOcIiOmmpLk/s7LscZ+zq+/uFi/r6vmt//IOH0+fVaDand4gjWt7x/+Gz3zFZJLvn5+SQkJKDROAqg0WiIj48nPz+/XnLJz88nMTHR+d1oNFJQUHBe61wVHd3yTtxY4L4xLaul3JCR1OjyLu0bP05jy1uyrTuO0drn89djNKVTu6gGy3p1kz45EdjkAUwhhBBu1yrJxWg0UlhYiM3m6Ay12WwUFRVhNBobbJeXl+f8np+fT9u2bc9rnRBCiNbXKsklNjaW5ORk1qxZA8CaNWtITk6u1yQGMHz4cJYvX47dbqekpIQNGzYwbNiw81onhBCi9amUVnqP7MGDB5kxYwanTp0iIiKCBQsW0KVLFyZPnsz06dPp0aMHNpuNp59+ms2bNwMwefJkxo4dC3DO64QQQrS+VksuQgghLhzSoS+EEMLtJLkIIYRwO0kuQggh3E6SixBCCLeTWZFbiSsTd/qDQYMGodfrCQoKAuDRRx8lIyODXbt2MWvWLMxmM+3ateO5554jNjbWy9E2bsGCBXz66accP36c1atX061bN6D5a+Tr16+pMjV1vQC/uGalpaU8/vjj5Obmotfr6dSpE08//TQxMTHNxu/LZWuuTN27d6dbt26o1Y6/+xcuXEj37t0B+OKLL1i4cCE2m43LLruMZ599lpCQEG8WpXmKaBUTJ05UVq5cqSiKoqxcuVKZOHGilyM6NwMHDlR++eWXestsNpsyePBgZfv27YqiKMqSJUuUGTNmeCM8l2zfvl3Jy8trUJbmrpGvX7+mytTY9VIU/7lmpaWlypYtW5zf//d//1d58sknm43f18vWVJkURVG6deumVFZWNtinsrJSufLKK5VDhw4piqIoM2fOVF566aVWifdcSbNYK6ibuHPkyJGAY+LOnJwcSkpKvByZe/z0008EBQWRlpYGwLhx41i3bp2Xo2paWlpag9khmrtG/nD9GitTc/zlmkVFRdGvXz/n9969e5OXl9ds/L5etqbK1JxvvvmGyy+/3FlbHjduHJ988oknwzxv0izWClyduNNfPProoyiKQp8+fXj44YcbTBwaExOD3W53NiH5g+aukaIofn39/ni9IiIi/PKa2e12/u///o9BgwY1G78/le3MMtWZOHEiNpuNa665hgceeAC9Xt+gTImJieTn53sjZJdJzUW0yDvvvMPHH3/MRx99hKIoPP30094OSTQjkK7X3LlzMRgMTJgwwduhuM0fy/TVV1+xYsUK3nnnHX799VeWLFni5QjPnSSXVuDqxJ3+oC5mvV7P+PHj+eGHHxpMHFpSUoJarfa5vxKb09w18ufr19j1qlvuT9dswYIFHDlyhBdeeAG1Wt1s/P5Stj+WCX6/XmFhYWRmZjZ5vfLy8nz+90+SSytwdeJOX2cymaioqAAcL77Kzs4mOTmZyy+/nJqaGnbs2AHAe++9x/Dhw70Zaos1d4389fo1db0Av7pmixYt4qeffmLJkiXo9Xqg+fj9oWyNlam8vJyamhoArFYrn376qfN6ZWRk8OOPP3L48GHAUaYRI0Z4JXZXydxiraSpiTv9ydGjR3nggQew2WzY7XaSkpJ46qmniI+P54cffiArK6veo59t2rTxdsiNmjdvHuvXr+fkyZNER0cTFRXF2rVrm71Gvn79GivTq6++2uT1Avzimh04cICRI0fSuXNngoODAWjfvj1LlixpNn5fLltTZZo0aRKzZs1CpVJhtVpJSUlh5syZhIY6XmS4YcMGnnvuOex2O8nJyfzv//4vBoPBm0VpliQXIYQQbifNYkIIIdxOkosQQgi3k+QihBDC7SS5CCGEcDtJLkIIIdxOkotwyYwZM3j++ee9cm5FUXjyySdJT09nzJgx5328SZMm8d///heAFStWcNtttzW63ccff8w999zT5HEmTpzI8uXLzzse4fvO9rsgGpLk4qcGDRpE//79MZlMzmXLly9n4sSJXozKM77//ns2b97M119/zYcfflhvXd14gN27dzuXffzxx3Tv3r3BsrqBdP/617+46aabznreP/3pT7zxxhtuKcOgQYP49ttv3XKsMzWXHBtz7NgxunfvjtVqdXss52vr1q1cc8013g6jUX/8XejevTtHjhzxYkS+T5KLH7Pb7SxbtszbYbRY3TQqrjp+/Djt2rVrdMCYVquld+/ebN++3blsx44ddOnSpcGy9PT0cw9aXDB8MfH6I0kufuzee+/ljTfe4NSpUw3WNfYX6pnNOCtWrGDcuHE888wzpKWlcd111/HDDz+wYsUKBgwYQP/+/Z1NR3VKS0u5++67SUlJYcKECRw/fty57uDBg9x999307duXYcOGkZ2d7Vw3Y8YMsrKymDx5Mr1792br1q0N4i0sLGTq1Kn07duXIUOG8MEHHwCO2thTTz3Frl27SElJYfHixQ32TUtLc071AY5EMnny5AbL6qZgb645a8GCBdx2221UVFQ0qBVs3ryZ4cOH06dPH55++mnOHH+cm5vLHXfcQb9+/ejXrx+PPPKI87o89thj5OXlMXXqVFJSUnj99dcBmD59OldddRV9+vTh9ttv58CBA43GBI7rdd1115GSksKgQYP4+OOPOXjwIFlZWc6fTV35vvrqK0aPHk1qaioDBgzgpZdech6nboLE9PR0UlJS2LlzJwAffvghI0aMID09nXvvvbfete3evTvvvPMOQ4cOJSUlhRdeeIHc3FzGjRtHamoqDz74ILW1tc7tv/zyS0aNGkVaWhrjxo1j3759znWDBg1i6dKl3HjjjfTp04e//vWvmM1mTCYTkydPpqioiJSUFFJSUigsLGTPnj3cfPPNpKamcuWVV/Lss882+vOpq/W8+uqr9OvXz/kzqlNbW8uCBQu49tprufLKK5k1a5ZzqpW6fV977TWuuuoqnnzyyUZ//nW/C7fffjsAo0aNIiUlxfm7frZy/+tf/+LGG2+kd+/ezJw5k5MnTzJp0iRSUlK46667KC8vb/L6+yWvvEVGnLeBAwcqmzdvVqZNm6YsWrRIURRF+eCDD5QJEyYoiqIoR48eVbp166ZYLBbnPhMmTFA++OADRVEU5aOPPlKSk5OVDz/8ULFarcqiRYuUAQMGKLNnz1bMZrOyceNGpXfv3s4XFz3xxBNK7969lW3btilms1mZO3euMm7cOEVRFKWqqkq55pprlA8//FCxWCzKzz//rPTt21c5cOCAc9/U1FRlx44dis1mU2pqahqUZ/z48UpWVpZSU1Oj5OTkKP369VO+/fZbZ6x152rM1q1blfT0dMVmsynFxcXKtddeq5hMJqV///7OZd26dVOOHz/e6M9h3Lhxis1mU/72t78p99xzj2IymRqct7i4WOndu7fyySefKLW1tcqbb76pJCcnO49z+PBhZdOmTYrZbFaKi4uV8ePHK/PmzWtwvc60fPlypaKiQjGbzcq8efOUP/3pT42Wr6qqSklJSVEOHjyoKIqiFBYWKvv372/yZ7NlyxZl3759is1mU/bu3av0799f+eyzzxRFafz34rPPPlMGDx6s/Prrr4rFYlGWLFmijB071rm+W7duytSpU5WKigpl//79ymWXXabccccdSm5urnLq1CllxIgRyooVKxRFUZSff/5ZueKKK5Rdu3YpVqtVWbFihTJw4EDFbDY7fw633HKLUlBQoJSWlirDhw9X3n33XWfcGRkZ9cpy6623Kv/9738VRXG8MGvnzp2N/oy2bNmiJCcnK88884xiNpuVrVu3Kr169XL+zObPn6/8+c9/VkpLS5WKigrlz3/+s/L3v/+93r4LFy5UzGazUl1d3eD4f/w5d+vWTTl8+LDzuyvlzszMVE6cOKEUFBQoV1xxhTJ69Gjl559/VmpqapSJEyf6/Mu/WkpqLn5u+vTpvP322+f04qr27dtzyy23oNFouP7668nPz2fatGno9Xquvvpq9Ho9ubm5zu2vvfZa0tPT0ev1PPTQQ+zatYv8/Hy++uor2rVrxy233IJWq+XSSy9l2LBh9V7QdN1119GnTx/UarXzlbt18vPz+eGHH3j00UcJCgoiOTmZzMxMVq1a5VI5evXqRXV1Nfv37+f7778nNTWVkJAQ2rdv71zWrl27eu/DOJPVauXhhx+mvLycV155pdFXx37zzTd07dqV4cOHo9PpuPPOO+vNVdWpUyeuuuoq9Ho9MTEx3H333fWa5RozZswYwsLC0Ov1PPDAA+zbt8850eQfqdVqDhw4QE1NDfHx8XTt2rXJ4/br14/u3bujVqu55JJLuOGGG9i2bVuT27/33ntMmTKFpKQktFotU6dOZe/evfVqL5MmTSIsLIyuXbvSrVs3rrrqKjp06EB4eDjXXHMNOTk5ALz//vuMHTuWXr16odFouOmmm9DpdOzatct5rIkTJ5KQkEBUVBQDBw5k7969Tcam1WrJzc2lpKSE0NBQevfu3eS2AA8++CB6vZ6+ffsyYMAAPvnkExRF4YMPPmDmzJlERUURFhbGn//8Z9auXVvv5zt9+nT0er1zvq+WcKXcEyZMoE2bNiQkJJCWlkbPnj259NJLCQoKYsiQIc6fYaCQl4X5uW7dunHttdfy2muvkZSU1KJ9z3yneN1/UGfeMIOCgqiqqnJ+b9u2rfNzaGgokZGRFBUVcfz4cfbs2eNslgFHv8qf/vQn5/fmpgcvKioiMjKSsLAw57LExER++uknl8oRFBREz5492b59O0ePHnXG0adPH+ey5vpbcnNz2bdvH8uXL3fOUNtYjGeWX6VS1SvTyZMnmT9/Pjt27KCqqgpFUYiIiGjynDabjeeff55169Y5p4QHR9NjeHh4vW0NBgPPP/88b7zxBn/7299ITU3liSeeaPJ67969m7///e8cOHAAi8VCbW1ts7MC5+Xl8cwzz7BgwQLnMkVRKCwspF27dkDD34s/fj958qTzWCtXruTtt992rrdYLBQVFTm/x8XFOT+HhITUW/dH8+fPZ/HixYwYMYL27dtz//33M3DgwEa3jYiIqNcvl5iYSFFRESUlJVRXV3PzzTfXK5/dbnd+j46ObvBHT0u4Uu7mfobBwcH1Hs4JBJJcAsD06dO56aab6j0qWfcfWU1NjfOmfeLEifM6T0FBgfNzVVUV5eXlxMfHYzQaSU9P58033zyn48bHx1NeXk5lZaUz1ro3Q7oqLS2N7du3c+zYMTIzMwFHcvn44485duxYs09UdenShdtvv53Jkyfz73//u9HZjuPi4uqVX1GUem8CXLRoESqVitWrVxMVFcWGDRuafTHX6tWr+fzzz3nzzTdp3749FRUVpKen1+vHOVNGRgYZGRnU1NTwwgsv8D//8z+8++67qFSqBts+8sgjTJgwgX/9618EBQUxf/58SktLARrd3mg0MnXq1Hp/DJyrumPdd999Ld63sdg6d+7MokWLsNvtrF+/nunTp7N169ZGH+44deoUJpPJuS4/P5+uXbsSHR1NcHAwa9eubfJ3qrFzt8T5lDtQSbNYAOjUqRPXX389//nPf5zLYmJiSEhIYNWqVdhsNj788EOOHj16Xuf5+uuv2bFjB7W1tbz44ov06tULo9HItddey+HDh1m5ciUWiwWLxcKePXs4ePCgS8c1Go2kpKSwaNEizGYz+/bt48MPP2zRzS49PZ2tW7dSUFDAxRdfDEBqairbtm1j3759Z31SbOTIkTz88MPcfffd9ZoC6wwYMIADBw6wfv16rFYry5Ytc/61Do5kazAYCA8Pp7CwkH/961/19m/Tpk29n39VVRV6vZ7o6Giqq6tZtGhRk7GdPHmSDRs2YDKZ0Ov1GAwGZ00nNjaWwsLCeh3qVVVVREZGEhQUxJ49e5zvoQHH74Vara4Xy7hx43jttdecDxRUVFSc8/vZMzMzee+999i9ezeKomAymfjqq6+orKw8676xsbGUlZXVaxpctWqVs2ZXVxOsK3tjXnrpJWpra9mxYwdfffUVw4cPR61Wk5mZyTPPPENxcTHgeIBk48aN51RGaHg9z6fcgUqSS4CYNm1ag2r13LlzWbp0Kf369ePXX38lJSXlvM4xcuRIlixZQr9+/fj555957rnnAMdb85YuXUp2djYZGRlcffXV/P3vf693wzubRYsWcfz4cTIyMrj//vt54IEHuPLKK13ePyUlhcrKSnr27On8KzQmJsb5r3Pnzmc9xk033cS0adO48847OXbsWL11MTExvPjii/zjH/+gX79+HDlyhNTUVOf6+++/n5ycHNLS0pgyZQpDhw6tt/+UKVN45ZVXSEtLY+nSpYwePZrExEQyMjK44YYbmu1LsNvtvPXWW2RkZNC3b1+2b9/O7NmzAbjiiiu4+OKLufrqq+nXrx8AWVlZLF68mJSUFJYsWVLvpVIhISFMnTqV2267jbS0NHbt2sWQIUOYNGkSDz/8MKmpqYwcOZJvvvnmrD+vxvTo0YO5c+fy9NNPk56eztChQ1mxYoVL+yYlJXHDDTcwePBg0tLSnAnghhtuICUlhfnz5/P888832SfSpk0bIiIiyMjI4NFHH2X27NnOpsPHHnuMTp06ceutt5Kamspdd93FoUOHzqmM4LjeM2bMIC0tjezs7PMqd6CS97kIIfze1q1beeyxx845KQr3k5qLEEIIt5PkIoQQwu2kWUwIIYTbSc1FCCGE20lyEUII4XaSXIQQQridJBchhBBuJ8lFCCGE20lyEUII4Xb/Hz9lz4j2S5ANAAAAAElFTkSuQmCC" class="
">
</div>

</div>

</div>

</div>

</div><div class="jp-Cell jp-CodeCell jp-Notebook-cell   ">
<div class="jp-Cell-inputWrapper">
<div class="jp-Collapser jp-InputCollapser jp-Cell-inputCollapser">
</div>
<div class="jp-InputArea jp-Cell-inputArea">
<div class="jp-InputPrompt jp-InputArea-prompt">In&nbsp;[16]:</div>
<div class="jp-CodeMirrorEditor jp-Editor jp-InputArea-editor" data-type="inline">
     <div class="CodeMirror cm-s-jupyter">
<div class=" highlight hl-ipython3"><pre><span></span><span class="n">plt</span> <span class="o">=</span> <span class="n">sns</span><span class="o">.</span><span class="n">distplot</span><span class="p">(</span><span class="n">df</span><span class="p">[</span><span class="s1">'# sitelinks'</span><span class="p">],</span> <span class="n">axlabel</span> <span class="o">=</span> <span class="s2">"Number of Wikidata sitelinks per item"</span><span class="p">)</span>
<span class="n">_</span> <span class="o">=</span> <span class="n">plt</span><span class="o">.</span><span class="n">set_ylabel</span><span class="p">(</span><span class="s1">'Proportion of Wikidata items'</span><span class="p">)</span>

<span class="n">df</span><span class="o">.</span><span class="n">groupby</span><span class="p">(</span><span class="s1">'Human?'</span><span class="p">)[</span><span class="s1">'# sitelinks'</span><span class="p">]</span><span class="o">.</span><span class="n">describe</span><span class="p">()</span>
</pre></div>

     </div>
</div>
</div>
</div>

<div class="jp-Cell-outputWrapper">
<div class="jp-Collapser jp-OutputCollapser jp-Cell-outputCollapser">
</div>


<div class="jp-OutputArea jp-Cell-outputArea">

<div class="jp-OutputArea-child">

    
    <div class="jp-OutputPrompt jp-OutputArea-prompt">Out[16]:</div>



<div class="jp-RenderedHTMLCommon jp-RenderedHTML jp-OutputArea-output jp-OutputArea-executeResult" data-mime-type="text/html">
<div>
<style scoped="">
    .dataframe tbody tr th:only-of-type {
        vertical-align: middle;
    }

    .dataframe tbody tr th {
        vertical-align: top;
    }

    .dataframe thead th {
        text-align: right;
    }
</style>
<table border="1" class="dataframe">
  <thead>
    <tr style="text-align: right;">
      <th></th>
      <th>count</th>
      <th>mean</th>
      <th>std</th>
      <th>min</th>
      <th>25%</th>
      <th>50%</th>
      <th>75%</th>
      <th>max</th>
    </tr>
    <tr>
      <th>Human?</th>
      <th></th>
      <th></th>
      <th></th>
      <th></th>
      <th></th>
      <th></th>
      <th></th>
      <th></th>
    </tr>
  </thead>
  <tbody>
    <tr>
      <th>False</th>
      <td>7499.0</td>
      <td>38.380451</td>
      <td>39.792828</td>
      <td>1.0</td>
      <td>10.0</td>
      <td>28.0</td>
      <td>45.0</td>
      <td>293.0</td>
    </tr>
    <tr>
      <th>True</th>
      <td>4491.0</td>
      <td>16.256958</td>
      <td>21.791385</td>
      <td>1.0</td>
      <td>5.0</td>
      <td>9.0</td>
      <td>17.0</td>
      <td>205.0</td>
    </tr>
  </tbody>
</table>
</div>
</div>

</div>

<div class="jp-OutputArea-child">

    
    <div class="jp-OutputPrompt jp-OutputArea-prompt"></div>




<div class="jp-RenderedImage jp-OutputArea-output ">
<img src="data:image/png;base64,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" class="
">
</div>

</div>

</div>

</div>

</div>
<div class="jp-Cell jp-MarkdownCell jp-Notebook-cell">
<div class="jp-Cell-inputWrapper">
<div class="jp-Collapser jp-InputCollapser jp-Cell-inputCollapser">
</div>
<div class="jp-InputArea jp-Cell-inputArea"><div class="jp-InputPrompt jp-InputArea-prompt">
</div><div class="jp-RenderedHTMLCommon jp-RenderedMarkdown jp-MarkdownOutput " data-mime-type="text/markdown">
<h3 id="Relationship-between-the-two-variables:">Relationship between the two variables:<a class="anchor-link" href="https://public-paws.wmcloud.org/User:Isaac_(WMF)/Outreachy%20Dec%202020/Wikidata_Data_Example.ipynb#Relationship-between-the-two-variables:">¶</a></h3><p>Relationship between # of sitelinks and # of statements. Conclusions:</p>
<ul>
<li>We see a clear positive correlation between # of sitelinks (our proxy for importance) and # of statements (our proxy for quality) -- i.e. Wikidata items with many statements also tend to show up in more languages of Wikipedia and high importance Wikidata items also tend to be high quality.</li>
<li>The exact relationship depends, however, on whether the Wikidata item is about a person or not:<ul>
<li>For people, there is a much stronger correlation (0.779 <a href="https://en.wikipedia.org/wiki/Pearson_correlation_coefficient">Pearson</a>; 0.589 <a href="https://en.wikipedia.org/wiki/Spearman%27s_rank_correlation_coefficient">Spearman</a>) between # of sitelinks and # of statements than for other items (0.454 Pearson; 0.549 Spearman)</li>
<li>As a result of these differing relationships, grouping the data together actually makes the correlation look much weaker (Pearson 0.371; Spearman 0.381).</li>
</ul>
</li>
</ul>

</div>
</div>
</div>
</div><div class="jp-Cell jp-CodeCell jp-Notebook-cell   ">
<div class="jp-Cell-inputWrapper">
<div class="jp-Collapser jp-InputCollapser jp-Cell-inputCollapser">
</div>
<div class="jp-InputArea jp-Cell-inputArea">
<div class="jp-InputPrompt jp-InputArea-prompt">In&nbsp;[17]:</div>
<div class="jp-CodeMirrorEditor jp-Editor jp-InputArea-editor" data-type="inline">
     <div class="CodeMirror cm-s-jupyter">
<div class=" highlight hl-ipython3"><pre><span></span><span class="c1"># Scatter plot of # statements x # sitelinks; humans vs. non-humans separated out</span>
<span class="n">plt</span> <span class="o">=</span> <span class="n">sns</span><span class="o">.</span><span class="n">scatterplot</span><span class="p">(</span><span class="n">x</span><span class="o">=</span><span class="s1">'# statements'</span><span class="p">,</span> <span class="n">y</span><span class="o">=</span><span class="s1">'# sitelinks'</span><span class="p">,</span> <span class="n">hue</span><span class="o">=</span><span class="s1">'Human?'</span><span class="p">,</span> <span class="n">data</span><span class="o">=</span><span class="n">df</span><span class="p">)</span>
</pre></div>

     </div>
</div>
</div>
</div>

<div class="jp-Cell-outputWrapper">
<div class="jp-Collapser jp-OutputCollapser jp-Cell-outputCollapser">
</div>


<div class="jp-OutputArea jp-Cell-outputArea">

<div class="jp-OutputArea-child">

    
    <div class="jp-OutputPrompt jp-OutputArea-prompt"></div>




<div class="jp-RenderedImage jp-OutputArea-output ">
<img src="data:image/png;base64,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" class="
">
</div>

</div>

</div>

</div>

</div><div class="jp-Cell jp-CodeCell jp-Notebook-cell   ">
<div class="jp-Cell-inputWrapper">
<div class="jp-Collapser jp-InputCollapser jp-Cell-inputCollapser">
</div>
<div class="jp-InputArea jp-Cell-inputArea">
<div class="jp-InputPrompt jp-InputArea-prompt">In&nbsp;[18]:</div>
<div class="jp-CodeMirrorEditor jp-Editor jp-InputArea-editor" data-type="inline">
     <div class="CodeMirror cm-s-jupyter">
<div class=" highlight hl-ipython3"><pre><span></span><span class="c1"># All items</span>
<span class="nb">print</span><span class="p">(</span><span class="s2">"Correlation (all items)"</span><span class="p">)</span>
<span class="n">pcorr_coef</span><span class="p">,</span> <span class="n">pval</span> <span class="o">=</span> <span class="n">pearsonr</span><span class="p">(</span><span class="n">df</span><span class="p">[</span><span class="s1">'# statements'</span><span class="p">],</span> <span class="n">df</span><span class="p">[</span><span class="s1">'# sitelinks'</span><span class="p">])</span>
<span class="nb">print</span><span class="p">(</span><span class="s2">"Pearson (linear) correlation between the # of statements and # of Wikipedia sitelinks: </span><span class="si">{0:.3f}</span><span class="s2"> (p=</span><span class="si">{1:0.3f}</span><span class="s2">)"</span><span class="o">.</span><span class="n">format</span><span class="p">(</span><span class="n">pcorr_coef</span><span class="p">,</span> <span class="n">pval</span><span class="p">))</span>

<span class="n">scorr_coef</span><span class="p">,</span> <span class="n">pval</span> <span class="o">=</span> <span class="n">spearmanr</span><span class="p">(</span><span class="n">df</span><span class="p">[</span><span class="s1">'# statements'</span><span class="p">],</span> <span class="n">df</span><span class="p">[</span><span class="s1">'# sitelinks'</span><span class="p">])</span>
<span class="nb">print</span><span class="p">(</span><span class="s2">"Spearman (rank) correlation between the # of statements and # of Wikipedia sitelinks: </span><span class="si">{0:.3f}</span><span class="s2"> (p=</span><span class="si">{1:0.3f}</span><span class="s2">)"</span><span class="o">.</span><span class="n">format</span><span class="p">(</span><span class="n">scorr_coef</span><span class="p">,</span> <span class="n">pval</span><span class="p">))</span>
</pre></div>

     </div>
</div>
</div>
</div>

<div class="jp-Cell-outputWrapper">
<div class="jp-Collapser jp-OutputCollapser jp-Cell-outputCollapser">
</div>


<div class="jp-OutputArea jp-Cell-outputArea">

<div class="jp-OutputArea-child">

    
    <div class="jp-OutputPrompt jp-OutputArea-prompt"></div>


<div class="jp-RenderedText jp-OutputArea-output" data-mime-type="text/plain">
<pre>Correlation (all items)
Pearson (linear) correlation between the # of statements and # of Wikipedia sitelinks: 0.370 (p=0.000)
Spearman (rank) correlation between the # of statements and # of Wikipedia sitelinks: 0.379 (p=0.000)
</pre>
</div>
</div>

</div>

</div>

</div><div class="jp-Cell jp-CodeCell jp-Notebook-cell   ">
<div class="jp-Cell-inputWrapper">
<div class="jp-Collapser jp-InputCollapser jp-Cell-inputCollapser">
</div>
<div class="jp-InputArea jp-Cell-inputArea">
<div class="jp-InputPrompt jp-InputArea-prompt">In&nbsp;[19]:</div>
<div class="jp-CodeMirrorEditor jp-Editor jp-InputArea-editor" data-type="inline">
     <div class="CodeMirror cm-s-jupyter">
<div class=" highlight hl-ipython3"><pre><span></span><span class="c1"># Just humans</span>
<span class="nb">print</span><span class="p">(</span><span class="s2">"Correlation (just people)"</span><span class="p">)</span>
<span class="n">pcorr_coef</span><span class="p">,</span> <span class="n">pval</span> <span class="o">=</span> <span class="n">pearsonr</span><span class="p">(</span><span class="n">df</span><span class="p">[</span><span class="n">df</span><span class="p">[</span><span class="s1">'Human?'</span><span class="p">]][</span><span class="s1">'# statements'</span><span class="p">],</span> <span class="n">df</span><span class="p">[</span><span class="n">df</span><span class="p">[</span><span class="s1">'Human?'</span><span class="p">]][</span><span class="s1">'# sitelinks'</span><span class="p">])</span>
<span class="nb">print</span><span class="p">(</span><span class="s2">"Pearson (linear) correlation between the # of statements and # of Wikipedia sitelinks: </span><span class="si">{0:.3f}</span><span class="s2"> (p=</span><span class="si">{1:0.3f}</span><span class="s2">)"</span><span class="o">.</span><span class="n">format</span><span class="p">(</span><span class="n">pcorr_coef</span><span class="p">,</span> <span class="n">pval</span><span class="p">))</span>

<span class="n">scorr_coef</span><span class="p">,</span> <span class="n">pval</span> <span class="o">=</span> <span class="n">spearmanr</span><span class="p">(</span><span class="n">df</span><span class="p">[</span><span class="n">df</span><span class="p">[</span><span class="s1">'Human?'</span><span class="p">]][</span><span class="s1">'# statements'</span><span class="p">],</span> <span class="n">df</span><span class="p">[</span><span class="n">df</span><span class="p">[</span><span class="s1">'Human?'</span><span class="p">]][</span><span class="s1">'# sitelinks'</span><span class="p">])</span>
<span class="nb">print</span><span class="p">(</span><span class="s2">"Spearman (rank) correlation between the # of statements and # of Wikipedia sitelinks: </span><span class="si">{0:.3f}</span><span class="s2"> (p=</span><span class="si">{1:0.3f}</span><span class="s2">)"</span><span class="o">.</span><span class="n">format</span><span class="p">(</span><span class="n">scorr_coef</span><span class="p">,</span> <span class="n">pval</span><span class="p">))</span>
</pre></div>

     </div>
</div>
</div>
</div>

<div class="jp-Cell-outputWrapper">
<div class="jp-Collapser jp-OutputCollapser jp-Cell-outputCollapser">
</div>


<div class="jp-OutputArea jp-Cell-outputArea">

<div class="jp-OutputArea-child">

    
    <div class="jp-OutputPrompt jp-OutputArea-prompt"></div>


<div class="jp-RenderedText jp-OutputArea-output" data-mime-type="text/plain">
<pre>Correlation (just people)
Pearson (linear) correlation between the # of statements and # of Wikipedia sitelinks: 0.777 (p=0.000)
Spearman (rank) correlation between the # of statements and # of Wikipedia sitelinks: 0.584 (p=0.000)
</pre>
</div>
</div>

</div>

</div>

</div><div class="jp-Cell jp-CodeCell jp-Notebook-cell   ">
<div class="jp-Cell-inputWrapper">
<div class="jp-Collapser jp-InputCollapser jp-Cell-inputCollapser">
</div>
<div class="jp-InputArea jp-Cell-inputArea">
<div class="jp-InputPrompt jp-InputArea-prompt">In&nbsp;[20]:</div>
<div class="jp-CodeMirrorEditor jp-Editor jp-InputArea-editor" data-type="inline">
     <div class="CodeMirror cm-s-jupyter">
<div class=" highlight hl-ipython3"><pre><span></span><span class="c1"># Not humans</span>
<span class="nb">print</span><span class="p">(</span><span class="s2">"Correlation (not people)"</span><span class="p">)</span>
<span class="n">pcorr_coef</span><span class="p">,</span> <span class="n">pval</span> <span class="o">=</span> <span class="n">pearsonr</span><span class="p">(</span><span class="n">df</span><span class="p">[</span><span class="o">~</span><span class="n">df</span><span class="p">[</span><span class="s1">'Human?'</span><span class="p">]][</span><span class="s1">'# statements'</span><span class="p">],</span> <span class="n">df</span><span class="p">[</span><span class="o">~</span><span class="n">df</span><span class="p">[</span><span class="s1">'Human?'</span><span class="p">]][</span><span class="s1">'# sitelinks'</span><span class="p">])</span>
<span class="nb">print</span><span class="p">(</span><span class="s2">"Pearson (linear) correlation between the # of statements and # of Wikipedia sitelinks: </span><span class="si">{0:.3f}</span><span class="s2"> (p=</span><span class="si">{1:0.3f}</span><span class="s2">)"</span><span class="o">.</span><span class="n">format</span><span class="p">(</span><span class="n">pcorr_coef</span><span class="p">,</span> <span class="n">pval</span><span class="p">))</span>

<span class="n">scorr_coef</span><span class="p">,</span> <span class="n">pval</span> <span class="o">=</span> <span class="n">spearmanr</span><span class="p">(</span><span class="n">df</span><span class="p">[</span><span class="o">~</span><span class="n">df</span><span class="p">[</span><span class="s1">'Human?'</span><span class="p">]][</span><span class="s1">'# statements'</span><span class="p">],</span> <span class="n">df</span><span class="p">[</span><span class="o">~</span><span class="n">df</span><span class="p">[</span><span class="s1">'Human?'</span><span class="p">]][</span><span class="s1">'# sitelinks'</span><span class="p">])</span>
<span class="nb">print</span><span class="p">(</span><span class="s2">"Spearman (rank) correlation between the # of statements and # of Wikipedia sitelinks: </span><span class="si">{0:.3f}</span><span class="s2"> (p=</span><span class="si">{1:0.3f}</span><span class="s2">)"</span><span class="o">.</span><span class="n">format</span><span class="p">(</span><span class="n">scorr_coef</span><span class="p">,</span> <span class="n">pval</span><span class="p">))</span>
</pre></div>

     </div>
</div>
</div>
</div>

<div class="jp-Cell-outputWrapper">
<div class="jp-Collapser jp-OutputCollapser jp-Cell-outputCollapser">
</div>


<div class="jp-OutputArea jp-Cell-outputArea">

<div class="jp-OutputArea-child">

    
    <div class="jp-OutputPrompt jp-OutputArea-prompt"></div>


<div class="jp-RenderedText jp-OutputArea-output" data-mime-type="text/plain">
<pre>Correlation (not people)
Pearson (linear) correlation between the # of statements and # of Wikipedia sitelinks: 0.456 (p=0.000)
Spearman (rank) correlation between the # of statements and # of Wikipedia sitelinks: 0.550 (p=0.000)
</pre>
</div>
</div>

</div>

</div>

</div>
<div class="jp-Cell jp-MarkdownCell jp-Notebook-cell">
<div class="jp-Cell-inputWrapper">
<div class="jp-Collapser jp-InputCollapser jp-Cell-inputCollapser">
</div>
<div class="jp-InputArea jp-Cell-inputArea"><div class="jp-InputPrompt jp-InputArea-prompt">
</div><div class="jp-RenderedHTMLCommon jp-RenderedMarkdown jp-MarkdownOutput " data-mime-type="text/markdown">
<h3 id="Outlier-analysis">Outlier analysis<a class="anchor-link" href="https://public-paws.wmcloud.org/User:Isaac_(WMF)/Outreachy%20Dec%202020/Wikidata_Data_Example.ipynb#Outlier-analysis">¶</a></h3><p>We now visually examine the outliers -- i.e. articles with high quality but low importance or low quality but high importance. Conclusions:</p>
<ul>
<li>High quality, low importance: mostly people, generally not American (many Germans -- likely a function of our sample of Wikidata items)</li>
<li>Low quality, high importance: not people -- years, categories, and other generic topics</li>
</ul>

</div>
</div>
</div>
</div><div class="jp-Cell jp-CodeCell jp-Notebook-cell jp-mod-noOutputs  ">
<div class="jp-Cell-inputWrapper">
<div class="jp-Collapser jp-InputCollapser jp-Cell-inputCollapser">
</div>
<div class="jp-InputArea jp-Cell-inputArea">
<div class="jp-InputPrompt jp-InputArea-prompt">In&nbsp;[21]:</div>
<div class="jp-CodeMirrorEditor jp-Editor jp-InputArea-editor" data-type="inline">
     <div class="CodeMirror cm-s-jupyter">
<div class=" highlight hl-ipython3"><pre><span></span><span class="c1"># we split the data into deciles because the raw difference between # of sitelinks and # of statements</span>
<span class="c1"># tends to capture very high quality items that are still pretty high importance</span>
<span class="c1"># e.g., Edgar Allen Poe has 261 statements and 132 sitelinks</span>
<span class="c1"># which is a huge difference but still high quality and high importance</span>
<span class="n">df</span><span class="p">[</span><span class="s1">'quality_decile'</span><span class="p">]</span> <span class="o">=</span> <span class="n">pd</span><span class="o">.</span><span class="n">qcut</span><span class="p">(</span><span class="n">df</span><span class="p">[</span><span class="s1">'# statements'</span><span class="p">],</span> <span class="mi">10</span><span class="p">,</span> <span class="n">labels</span><span class="o">=</span><span class="kc">False</span><span class="p">)</span>
<span class="n">df</span><span class="p">[</span><span class="s1">'importance_decile'</span><span class="p">]</span> <span class="o">=</span> <span class="n">pd</span><span class="o">.</span><span class="n">qcut</span><span class="p">(</span><span class="n">df</span><span class="p">[</span><span class="s1">'# sitelinks'</span><span class="p">],</span> <span class="mi">10</span><span class="p">,</span> <span class="n">labels</span><span class="o">=</span><span class="kc">False</span><span class="p">)</span>
<span class="n">df</span><span class="p">[</span><span class="s1">'qi_diff'</span><span class="p">]</span> <span class="o">=</span> <span class="n">df</span><span class="p">[</span><span class="s1">'quality_decile'</span><span class="p">]</span> <span class="o">-</span> <span class="n">df</span><span class="p">[</span><span class="s1">'importance_decile'</span><span class="p">]</span>
<span class="n">num_examples</span> <span class="o">=</span> <span class="mi">30</span>
</pre></div>

     </div>
</div>
</div>
</div>

</div><div class="jp-Cell jp-CodeCell jp-Notebook-cell   ">
<div class="jp-Cell-inputWrapper">
<div class="jp-Collapser jp-InputCollapser jp-Cell-inputCollapser">
</div>
<div class="jp-InputArea jp-Cell-inputArea">
<div class="jp-InputPrompt jp-InputArea-prompt">In&nbsp;[22]:</div>
<div class="jp-CodeMirrorEditor jp-Editor jp-InputArea-editor" data-type="inline">
     <div class="CodeMirror cm-s-jupyter">
<div class=" highlight hl-ipython3"><pre><span></span><span class="nb">print</span><span class="p">(</span><span class="s2">"Top </span><span class="si">{0}</span><span class="s2"> highest-quality, lowest-importance articles:"</span><span class="o">.</span><span class="n">format</span><span class="p">(</span><span class="n">num_examples</span><span class="p">))</span>
<span class="n">display</span><span class="p">(</span><span class="n">df</span><span class="o">.</span><span class="n">sort_values</span><span class="p">(</span><span class="s1">'qi_diff'</span><span class="p">,</span> <span class="n">ascending</span><span class="o">=</span><span class="kc">False</span><span class="p">)[[</span><span class="s1">'enwiki'</span><span class="p">,</span> <span class="s1">'# statements'</span><span class="p">,</span> <span class="s1">'# sitelinks'</span><span class="p">,</span> <span class="s1">'Human?'</span><span class="p">]]</span><span class="o">.</span><span class="n">head</span><span class="p">(</span><span class="n">n</span><span class="o">=</span><span class="n">num_examples</span><span class="p">))</span>
</pre></div>

     </div>
</div>
</div>
</div>

<div class="jp-Cell-outputWrapper">
<div class="jp-Collapser jp-OutputCollapser jp-Cell-outputCollapser">
</div>


<div class="jp-OutputArea jp-Cell-outputArea">

<div class="jp-OutputArea-child">

    
    <div class="jp-OutputPrompt jp-OutputArea-prompt"></div>


<div class="jp-RenderedText jp-OutputArea-output" data-mime-type="text/plain">
<pre>Top 30 highest-quality, lowest-importance articles:
</pre>
</div>
</div>

<div class="jp-OutputArea-child">

    
    <div class="jp-OutputPrompt jp-OutputArea-prompt"></div>



<div class="jp-RenderedHTMLCommon jp-RenderedHTML jp-OutputArea-output " data-mime-type="text/html">
<div>
<style scoped="">
    .dataframe tbody tr th:only-of-type {
        vertical-align: middle;
    }

    .dataframe tbody tr th {
        vertical-align: top;
    }

    .dataframe thead th {
        text-align: right;
    }
</style>
<table border="1" class="dataframe">
  <thead>
    <tr style="text-align: right;">
      <th></th>
      <th>enwiki</th>
      <th># statements</th>
      <th># sitelinks</th>
      <th>Human?</th>
    </tr>
    <tr>
      <th>QID</th>
      <th></th>
      <th></th>
      <th></th>
      <th></th>
    </tr>
  </thead>
  <tbody>
    <tr>
      <th>Q92112</th>
      <td>Franz Skutsch</td>
      <td>53</td>
      <td>4</td>
      <td>True</td>
    </tr>
    <tr>
      <th>Q46568</th>
      <td>Sweet Deceptions</td>
      <td>52</td>
      <td>4</td>
      <td>False</td>
    </tr>
    <tr>
      <th>Q32241</th>
      <td>Incident at Loch Ness</td>
      <td>53</td>
      <td>4</td>
      <td>False</td>
    </tr>
    <tr>
      <th>Q98074</th>
      <td>Sigmund Feyerabend</td>
      <td>53</td>
      <td>3</td>
      <td>True</td>
    </tr>
    <tr>
      <th>Q90090</th>
      <td>Karl Schenkl</td>
      <td>52</td>
      <td>3</td>
      <td>True</td>
    </tr>
    <tr>
      <th>Q98310</th>
      <td>Bernd Moeller</td>
      <td>52</td>
      <td>3</td>
      <td>True</td>
    </tr>
    <tr>
      <th>Q25942</th>
      <td>Walther Klemm</td>
      <td>58</td>
      <td>3</td>
      <td>True</td>
    </tr>
    <tr>
      <th>Q98169</th>
      <td>None</td>
      <td>41</td>
      <td>4</td>
      <td>True</td>
    </tr>
    <tr>
      <th>Q98164</th>
      <td>None</td>
      <td>47</td>
      <td>2</td>
      <td>True</td>
    </tr>
    <tr>
      <th>Q76044</th>
      <td>Ludwig Traube (palaeographer)</td>
      <td>64</td>
      <td>5</td>
      <td>True</td>
    </tr>
    <tr>
      <th>Q90837</th>
      <td>None</td>
      <td>40</td>
      <td>4</td>
      <td>True</td>
    </tr>
    <tr>
      <th>Q99573</th>
      <td>None</td>
      <td>40</td>
      <td>2</td>
      <td>True</td>
    </tr>
    <tr>
      <th>Q91384</th>
      <td>Albrecht Beutelspacher</td>
      <td>44</td>
      <td>4</td>
      <td>True</td>
    </tr>
    <tr>
      <th>Q52249</th>
      <td>Colette Audry</td>
      <td>59</td>
      <td>5</td>
      <td>True</td>
    </tr>
    <tr>
      <th>Q31178</th>
      <td>Francis Russell, 9th Duke of Bedford</td>
      <td>56</td>
      <td>5</td>
      <td>True</td>
    </tr>
    <tr>
      <th>Q90647</th>
      <td>Adolf Lasson</td>
      <td>40</td>
      <td>4</td>
      <td>True</td>
    </tr>
    <tr>
      <th>Q96955</th>
      <td>None</td>
      <td>42</td>
      <td>3</td>
      <td>True</td>
    </tr>
    <tr>
      <th>Q49698</th>
      <td>Johann Alexander Döderlein</td>
      <td>45</td>
      <td>4</td>
      <td>True</td>
    </tr>
    <tr>
      <th>Q88832</th>
      <td>Werner Krauss (academic)</td>
      <td>53</td>
      <td>6</td>
      <td>True</td>
    </tr>
    <tr>
      <th>Q84832</th>
      <td>None</td>
      <td>42</td>
      <td>4</td>
      <td>True</td>
    </tr>
    <tr>
      <th>Q92506</th>
      <td>Johann Carion</td>
      <td>43</td>
      <td>3</td>
      <td>True</td>
    </tr>
    <tr>
      <th>Q87638</th>
      <td>None</td>
      <td>42</td>
      <td>4</td>
      <td>True</td>
    </tr>
    <tr>
      <th>Q88322</th>
      <td>None</td>
      <td>40</td>
      <td>4</td>
      <td>True</td>
    </tr>
    <tr>
      <th>Q86179</th>
      <td>Ernst Lothar</td>
      <td>58</td>
      <td>6</td>
      <td>True</td>
    </tr>
    <tr>
      <th>Q46361</th>
      <td>Lettere di una novizia</td>
      <td>46</td>
      <td>4</td>
      <td>False</td>
    </tr>
    <tr>
      <th>Q95465</th>
      <td>Tommy Jaud</td>
      <td>41</td>
      <td>4</td>
      <td>True</td>
    </tr>
    <tr>
      <th>Q87769</th>
      <td>None</td>
      <td>40</td>
      <td>2</td>
      <td>True</td>
    </tr>
    <tr>
      <th>Q98440</th>
      <td>None</td>
      <td>43</td>
      <td>2</td>
      <td>True</td>
    </tr>
    <tr>
      <th>Q87073</th>
      <td>None</td>
      <td>43</td>
      <td>4</td>
      <td>True</td>
    </tr>
    <tr>
      <th>Q95347</th>
      <td>Franz von Reber</td>
      <td>48</td>
      <td>3</td>
      <td>True</td>
    </tr>
  </tbody>
</table>
</div>
</div>

</div>

</div>

</div>

</div><div class="jp-Cell jp-CodeCell jp-Notebook-cell   ">
<div class="jp-Cell-inputWrapper">
<div class="jp-Collapser jp-InputCollapser jp-Cell-inputCollapser">
</div>
<div class="jp-InputArea jp-Cell-inputArea">
<div class="jp-InputPrompt jp-InputArea-prompt">In&nbsp;[23]:</div>
<div class="jp-CodeMirrorEditor jp-Editor jp-InputArea-editor" data-type="inline">
     <div class="CodeMirror cm-s-jupyter">
<div class=" highlight hl-ipython3"><pre><span></span><span class="nb">print</span><span class="p">(</span><span class="s2">"Top </span><span class="si">{0}</span><span class="s2"> lowest-quality, highest-importance articles:"</span><span class="o">.</span><span class="n">format</span><span class="p">(</span><span class="n">num_examples</span><span class="p">))</span>
<span class="n">display</span><span class="p">(</span><span class="n">df</span><span class="o">.</span><span class="n">sort_values</span><span class="p">(</span><span class="s1">'qi_diff'</span><span class="p">,</span> <span class="n">ascending</span><span class="o">=</span><span class="kc">True</span><span class="p">)[[</span><span class="s1">'enwiki'</span><span class="p">,</span> <span class="s1">'# statements'</span><span class="p">,</span> <span class="s1">'# sitelinks'</span><span class="p">,</span> <span class="s1">'Human?'</span><span class="p">]]</span><span class="o">.</span><span class="n">head</span><span class="p">(</span><span class="n">n</span><span class="o">=</span><span class="n">num_examples</span><span class="p">))</span>
</pre></div>

     </div>
</div>
</div>
</div>

<div class="jp-Cell-outputWrapper">
<div class="jp-Collapser jp-OutputCollapser jp-Cell-outputCollapser">
</div>


<div class="jp-OutputArea jp-Cell-outputArea">

<div class="jp-OutputArea-child">

    
    <div class="jp-OutputPrompt jp-OutputArea-prompt"></div>


<div class="jp-RenderedText jp-OutputArea-output" data-mime-type="text/plain">
<pre>Top 30 lowest-quality, highest-importance articles:
</pre>
</div>
</div>

<div class="jp-OutputArea-child">

    
    <div class="jp-OutputPrompt jp-OutputArea-prompt"></div>



<div class="jp-RenderedHTMLCommon jp-RenderedHTML jp-OutputArea-output " data-mime-type="text/html">
<div>
<style scoped="">
    .dataframe tbody tr th:only-of-type {
        vertical-align: middle;
    }

    .dataframe tbody tr th {
        vertical-align: top;
    }

    .dataframe thead th {
        text-align: right;
    }
</style>
<table border="1" class="dataframe">
  <thead>
    <tr style="text-align: right;">
      <th></th>
      <th>enwiki</th>
      <th># statements</th>
      <th># sitelinks</th>
      <th>Human?</th>
    </tr>
    <tr>
      <th>QID</th>
      <th></th>
      <th></th>
      <th></th>
      <th></th>
    </tr>
  </thead>
  <tbody>
    <tr>
      <th>Q4101</th>
      <td>15 BC</td>
      <td>8</td>
      <td>92</td>
      <td>False</td>
    </tr>
    <tr>
      <th>Q31925</th>
      <td>295</td>
      <td>8</td>
      <td>121</td>
      <td>False</td>
    </tr>
    <tr>
      <th>Q2238</th>
      <td>January 9</td>
      <td>8</td>
      <td>195</td>
      <td>False</td>
    </tr>
    <tr>
      <th>Q35589</th>
      <td>244 BC</td>
      <td>6</td>
      <td>78</td>
      <td>False</td>
    </tr>
    <tr>
      <th>Q31934</th>
      <td>598</td>
      <td>8</td>
      <td>119</td>
      <td>False</td>
    </tr>
    <tr>
      <th>Q34551</th>
      <td>373</td>
      <td>8</td>
      <td>120</td>
      <td>False</td>
    </tr>
    <tr>
      <th>Q25266</th>
      <td>552</td>
      <td>8</td>
      <td>121</td>
      <td>False</td>
    </tr>
    <tr>
      <th>Q30577</th>
      <td>894</td>
      <td>8</td>
      <td>127</td>
      <td>False</td>
    </tr>
    <tr>
      <th>Q75628</th>
      <td>321 BC</td>
      <td>7</td>
      <td>79</td>
      <td>False</td>
    </tr>
    <tr>
      <th>Q25361</th>
      <td>234 BC</td>
      <td>7</td>
      <td>82</td>
      <td>False</td>
    </tr>
    <tr>
      <th>Q30470</th>
      <td>927</td>
      <td>8</td>
      <td>127</td>
      <td>False</td>
    </tr>
    <tr>
      <th>Q4834</th>
      <td>Category:1888 births</td>
      <td>7</td>
      <td>124</td>
      <td>False</td>
    </tr>
    <tr>
      <th>Q30465</th>
      <td>896</td>
      <td>8</td>
      <td>129</td>
      <td>False</td>
    </tr>
    <tr>
      <th>Q75676</th>
      <td>406 BC</td>
      <td>7</td>
      <td>80</td>
      <td>False</td>
    </tr>
    <tr>
      <th>Q16503</th>
      <td>Wikipedia:Village pump</td>
      <td>2</td>
      <td>239</td>
      <td>False</td>
    </tr>
    <tr>
      <th>Q30463</th>
      <td>908</td>
      <td>8</td>
      <td>128</td>
      <td>False</td>
    </tr>
    <tr>
      <th>Q32054</th>
      <td>283</td>
      <td>8</td>
      <td>123</td>
      <td>False</td>
    </tr>
    <tr>
      <th>Q79776</th>
      <td>228 BC</td>
      <td>7</td>
      <td>78</td>
      <td>False</td>
    </tr>
    <tr>
      <th>Q30626</th>
      <td>640</td>
      <td>8</td>
      <td>123</td>
      <td>False</td>
    </tr>
    <tr>
      <th>Q2243</th>
      <td>January 10</td>
      <td>8</td>
      <td>193</td>
      <td>False</td>
    </tr>
    <tr>
      <th>Q2255</th>
      <td>January 13</td>
      <td>8</td>
      <td>192</td>
      <td>False</td>
    </tr>
    <tr>
      <th>Q2264</th>
      <td>January 17</td>
      <td>7</td>
      <td>191</td>
      <td>False</td>
    </tr>
    <tr>
      <th>Q23491</th>
      <td>698</td>
      <td>8</td>
      <td>123</td>
      <td>False</td>
    </tr>
    <tr>
      <th>Q23453</th>
      <td>680</td>
      <td>8</td>
      <td>125</td>
      <td>False</td>
    </tr>
    <tr>
      <th>Q2498</th>
      <td>April 13</td>
      <td>7</td>
      <td>184</td>
      <td>False</td>
    </tr>
    <tr>
      <th>Q4445</th>
      <td>Category:Even-toed ungulates</td>
      <td>4</td>
      <td>92</td>
      <td>False</td>
    </tr>
    <tr>
      <th>Q4467</th>
      <td>Category:Soviet people</td>
      <td>5</td>
      <td>88</td>
      <td>False</td>
    </tr>
    <tr>
      <th>Q2435</th>
      <td>March 22</td>
      <td>7</td>
      <td>186</td>
      <td>False</td>
    </tr>
    <tr>
      <th>Q2424</th>
      <td>March 19</td>
      <td>7</td>
      <td>188</td>
      <td>False</td>
    </tr>
    <tr>
      <th>Q23414</th>
      <td>985</td>
      <td>8</td>
      <td>130</td>
      <td>False</td>
    </tr>
  </tbody>
</table>
</div>
</div>

</div>

</div>

</div>

</div>
<div class="jp-Cell jp-MarkdownCell jp-Notebook-cell">
<div class="jp-Cell-inputWrapper">
<div class="jp-Collapser jp-InputCollapser jp-Cell-inputCollapser">
</div>
<div class="jp-InputArea jp-Cell-inputArea"><div class="jp-InputPrompt jp-InputArea-prompt">
</div><div class="jp-RenderedHTMLCommon jp-RenderedMarkdown jp-MarkdownOutput " data-mime-type="text/markdown">
<h3 id="Predictive-Model">Predictive Model<a class="anchor-link" href="https://public-paws.wmcloud.org/User:Isaac_(WMF)/Outreachy%20Dec%202020/Wikidata_Data_Example.ipynb#Predictive-Model">¶</a></h3><p>We've established that there is a clear relationship between # of statements (quality) and # of sitelinks (importance) and that that relationship also depends on whether the item is about a person or not. Now we want to see with how much accuracy we can predict the number of sitelinks based on the number of statements about an item. This can tell us for which items we would expect articles in more languages to be written about them.</p>
<p>NOTE: the model presented below is very simplistic and so actually tells us very little that the correlational analyses didn't, but adding more variables and interactions between variables would allow for a more nuanced analysis of outliers.</p>

</div>
</div>
</div>
</div><div class="jp-Cell jp-CodeCell jp-Notebook-cell jp-mod-noOutputs  ">
<div class="jp-Cell-inputWrapper">
<div class="jp-Collapser jp-InputCollapser jp-Cell-inputCollapser">
</div>
<div class="jp-InputArea jp-Cell-inputArea">
<div class="jp-InputPrompt jp-InputArea-prompt">In&nbsp;[24]:</div>
<div class="jp-CodeMirrorEditor jp-Editor jp-InputArea-editor" data-type="inline">
     <div class="CodeMirror cm-s-jupyter">
<div class=" highlight hl-ipython3"><pre><span></span><span class="c1"># https://scikit-learn.org/stable/modules/generated/sklearn.linear_model.LinearRegression.html</span>
<span class="kn">from</span> <span class="nn">sklearn.linear_model</span> <span class="kn">import</span> <span class="n">LinearRegression</span>
<span class="kn">from</span> <span class="nn">sklearn.model_selection</span> <span class="kn">import</span> <span class="n">train_test_split</span>
</pre></div>

     </div>
</div>
</div>
</div>

</div><div class="jp-Cell jp-CodeCell jp-Notebook-cell   ">
<div class="jp-Cell-inputWrapper">
<div class="jp-Collapser jp-InputCollapser jp-Cell-inputCollapser">
</div>
<div class="jp-InputArea jp-Cell-inputArea">
<div class="jp-InputPrompt jp-InputArea-prompt">In&nbsp;[25]:</div>
<div class="jp-CodeMirrorEditor jp-Editor jp-InputArea-editor" data-type="inline">
     <div class="CodeMirror cm-s-jupyter">
<div class=" highlight hl-ipython3"><pre><span></span><span class="c1"># format data for modeling</span>
<span class="n">X</span> <span class="o">=</span> <span class="n">df</span><span class="p">[[</span><span class="s1">'# statements'</span><span class="p">,</span> <span class="s1">'Human?'</span><span class="p">]]</span>
<span class="n">y</span> <span class="o">=</span> <span class="n">df</span><span class="p">[[</span><span class="s1">'# sitelinks'</span><span class="p">]]</span>
<span class="n">X_train</span><span class="p">,</span> <span class="n">X_test</span><span class="p">,</span> <span class="n">y_train</span><span class="p">,</span> <span class="n">y_test</span> <span class="o">=</span> <span class="n">train_test_split</span><span class="p">(</span><span class="n">X</span><span class="p">,</span> <span class="n">y</span><span class="p">,</span> <span class="n">test_size</span><span class="o">=</span><span class="mf">0.1</span><span class="p">)</span>
<span class="nb">print</span><span class="p">(</span><span class="s2">"X_train (</span><span class="si">{0}</span><span class="s2">):</span><span class="se">\n</span><span class="si">{1}</span><span class="s2">"</span><span class="o">.</span><span class="n">format</span><span class="p">(</span><span class="nb">len</span><span class="p">(</span><span class="n">X_train</span><span class="p">),</span> <span class="n">X_train</span><span class="o">.</span><span class="n">head</span><span class="p">()))</span>
<span class="nb">print</span><span class="p">(</span><span class="s2">"</span><span class="se">\n</span><span class="s2">y_train (</span><span class="si">{0}</span><span class="s2">):</span><span class="se">\n</span><span class="si">{1}</span><span class="s2">"</span><span class="o">.</span><span class="n">format</span><span class="p">(</span><span class="nb">len</span><span class="p">(</span><span class="n">y_train</span><span class="p">),</span> <span class="n">y_train</span><span class="o">.</span><span class="n">head</span><span class="p">()))</span>
<span class="nb">print</span><span class="p">(</span><span class="s2">"</span><span class="se">\n</span><span class="s2">X_test (</span><span class="si">{0}</span><span class="s2">):</span><span class="se">\n</span><span class="si">{1}</span><span class="s2">"</span><span class="o">.</span><span class="n">format</span><span class="p">(</span><span class="nb">len</span><span class="p">(</span><span class="n">X_test</span><span class="p">),</span> <span class="n">X_test</span><span class="o">.</span><span class="n">head</span><span class="p">()))</span>
<span class="nb">print</span><span class="p">(</span><span class="s2">"</span><span class="se">\n</span><span class="s2">y_test (</span><span class="si">{0}</span><span class="s2">):</span><span class="se">\n</span><span class="si">{1}</span><span class="s2">"</span><span class="o">.</span><span class="n">format</span><span class="p">(</span><span class="nb">len</span><span class="p">(</span><span class="n">y_test</span><span class="p">),</span> <span class="n">y_test</span><span class="o">.</span><span class="n">head</span><span class="p">()))</span>
</pre></div>

     </div>
</div>
</div>
</div>

<div class="jp-Cell-outputWrapper">
<div class="jp-Collapser jp-OutputCollapser jp-Cell-outputCollapser">
</div>


<div class="jp-OutputArea jp-Cell-outputArea">

<div class="jp-OutputArea-child">

    
    <div class="jp-OutputPrompt jp-OutputArea-prompt"></div>


<div class="jp-RenderedText jp-OutputArea-output" data-mime-type="text/plain">
<pre>X_train (10791):
        # statements  Human?
QID                         
Q39914            36   False
Q78425            42    True
Q82334            34   False
Q5454             62    True
Q74488            30    True

y_train (10791):
        # sitelinks
QID                
Q39914           40
Q78425            7
Q82334           19
Q5454            10
Q74488            6

X_test (1199):
        # statements  Human?
QID                         
Q70240            33   False
Q98265            30    True
Q14041            35   False
Q71288            17    True
Q18537            24   False

y_test (1199):
        # sitelinks
QID                
Q70240           25
Q98265            4
Q14041           62
Q71288           11
Q18537           66
</pre>
</div>
</div>

</div>

</div>

</div><div class="jp-Cell jp-CodeCell jp-Notebook-cell jp-mod-noOutputs  ">
<div class="jp-Cell-inputWrapper">
<div class="jp-Collapser jp-InputCollapser jp-Cell-inputCollapser">
</div>
<div class="jp-InputArea jp-Cell-inputArea">
<div class="jp-InputPrompt jp-InputArea-prompt">In&nbsp;[26]:</div>
<div class="jp-CodeMirrorEditor jp-Editor jp-InputArea-editor" data-type="inline">
     <div class="CodeMirror cm-s-jupyter">
<div class=" highlight hl-ipython3"><pre><span></span><span class="c1"># train model</span>
<span class="c1"># for ease, we pass X_train as a 2D numpy array and y_train as a vector</span>
<span class="n">clf</span> <span class="o">=</span> <span class="n">LinearRegression</span><span class="p">()</span><span class="o">.</span><span class="n">fit</span><span class="p">(</span><span class="n">X_train</span><span class="o">.</span><span class="n">values</span><span class="p">,</span> <span class="n">y_train</span><span class="o">.</span><span class="n">values</span><span class="o">.</span><span class="n">ravel</span><span class="p">())</span>
</pre></div>

     </div>
</div>
</div>
</div>

</div><div class="jp-Cell jp-CodeCell jp-Notebook-cell   ">
<div class="jp-Cell-inputWrapper">
<div class="jp-Collapser jp-InputCollapser jp-Cell-inputCollapser">
</div>
<div class="jp-InputArea jp-Cell-inputArea">
<div class="jp-InputPrompt jp-InputArea-prompt">In&nbsp;[27]:</div>
<div class="jp-CodeMirrorEditor jp-Editor jp-InputArea-editor" data-type="inline">
     <div class="CodeMirror cm-s-jupyter">
<div class=" highlight hl-ipython3"><pre><span></span><span class="n">num_statement_coef</span><span class="p">,</span> <span class="n">human_coef</span> <span class="o">=</span> <span class="n">clf</span><span class="o">.</span><span class="n">coef_</span>
<span class="nb">print</span><span class="p">(</span><span class="s2">"For every additional statement, we expect </span><span class="si">{0:.3f}</span><span class="s2"> additional sitelinks."</span><span class="o">.</span><span class="n">format</span><span class="p">(</span><span class="n">num_statement_coef</span><span class="p">))</span>
<span class="nb">print</span><span class="p">(</span><span class="s2">"If human, we expect </span><span class="si">{0:.3f}</span><span class="s2"> fewer sitelinks than an item with the same number of statements that's not about a human."</span><span class="o">.</span><span class="n">format</span><span class="p">(</span><span class="mi">0</span> <span class="o">-</span> <span class="n">human_coef</span><span class="p">))</span>
</pre></div>

     </div>
</div>
</div>
</div>

<div class="jp-Cell-outputWrapper">
<div class="jp-Collapser jp-OutputCollapser jp-Cell-outputCollapser">
</div>


<div class="jp-OutputArea jp-Cell-outputArea">

<div class="jp-OutputArea-child">

    
    <div class="jp-OutputPrompt jp-OutputArea-prompt"></div>


<div class="jp-RenderedText jp-OutputArea-output" data-mime-type="text/plain">
<pre>For every additional statement, we expect 0.803 additional sitelinks.
If human, we expect 33.203 fewer sitelinks than an item with the same number of statements that's not about a human.
</pre>
</div>
</div>

</div>

</div>

</div><div class="jp-Cell jp-CodeCell jp-Notebook-cell   ">
<div class="jp-Cell-inputWrapper">
<div class="jp-Collapser jp-InputCollapser jp-Cell-inputCollapser">
</div>
<div class="jp-InputArea jp-Cell-inputArea">
<div class="jp-InputPrompt jp-InputArea-prompt">In&nbsp;[28]:</div>
<div class="jp-CodeMirrorEditor jp-Editor jp-InputArea-editor" data-type="inline">
     <div class="CodeMirror cm-s-jupyter">
<div class=" highlight hl-ipython3"><pre><span></span><span class="c1"># Simple metric of model fit -- suggests an okay but not great model. Not surprising given how few features we have.</span>
<span class="c1"># No evidence of overfitting as this is similar to the R^2 on the train set which is 0.321: `clf.score(X_train, y_train)`</span>
<span class="nb">print</span><span class="p">(</span><span class="s2">"R^2 of model on held-out test set is: </span><span class="si">{0:.3f}</span><span class="s2">"</span><span class="o">.</span><span class="n">format</span><span class="p">(</span><span class="n">clf</span><span class="o">.</span><span class="n">score</span><span class="p">(</span><span class="n">X_test</span><span class="p">,</span> <span class="n">y_test</span><span class="p">)))</span>
</pre></div>

     </div>
</div>
</div>
</div>

<div class="jp-Cell-outputWrapper">
<div class="jp-Collapser jp-OutputCollapser jp-Cell-outputCollapser">
</div>


<div class="jp-OutputArea jp-Cell-outputArea">

<div class="jp-OutputArea-child">

    
    <div class="jp-OutputPrompt jp-OutputArea-prompt"></div>


<div class="jp-RenderedText jp-OutputArea-output" data-mime-type="text/plain">
<pre>R^2 of model on held-out test set is: 0.344
</pre>
</div>
</div>

</div>

</div>

</div>
<div class="jp-Cell jp-MarkdownCell jp-Notebook-cell">
<div class="jp-Cell-inputWrapper">
<div class="jp-Collapser jp-InputCollapser jp-Cell-inputCollapser">
</div>
<div class="jp-InputArea jp-Cell-inputArea"><div class="jp-InputPrompt jp-InputArea-prompt">
</div><div class="jp-RenderedHTMLCommon jp-RenderedMarkdown jp-MarkdownOutput " data-mime-type="text/markdown">
<h3 id="Future-Analyses">Future Analyses<a class="anchor-link" href="https://public-paws.wmcloud.org/User:Isaac_(WMF)/Outreachy%20Dec%202020/Wikidata_Data_Example.ipynb#Future-Analyses">¶</a></h3><p>At this stage, we'd ideally add more data and variables. For example:</p>
<ul>
<li>Including more statements beyond just whether the items is about a human -- e.g., as a <a href="https://en.wikipedia.org/wiki/Bag-of-words_model">bag-of-words model</a></li>
<li>Considering switching from a simple linear regression to other model types</li>
<li>Considering learning embeddings for the statements which could then be used to generate an embedding for each item -- e.g., <a href="https://radimrehurek.com/gensim/models/doc2vec.html">doc2vec</a></li>
<li>With enough data, consider switching from predicting the total number of sitelinks to whether each language edition will have an article -- i.e. <a href="https://en.wikipedia.org/wiki/Multi-label_classification">multilabel classification</a></li>
</ul>

</div>
</div>
</div>
</div>









</body></html>